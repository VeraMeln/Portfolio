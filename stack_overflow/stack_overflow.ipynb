{
 "cells": [
  {
   "cell_type": "markdown",
   "metadata": {},
   "source": [
    "# Анализ данных сайта Stackoverflow"
   ]
  },
  {
   "cell_type": "markdown",
   "metadata": {},
   "source": [
    "## Введение"
   ]
  },
  {
   "cell_type": "markdown",
   "metadata": {
    "id": "sRW85nPMDWKb"
   },
   "source": [
    "Вам нужно написать несколько SQL-запросов в Jupyter Notebook. \n",
    "\n",
    "Необходимые данные находятся в таблицах схемы `stackoverflow`. Не забудьте подключиться к базе с помощью SQLAlchemy. \n",
    "\n",
    "Некоторые задания включают дополнительные вопросы — не пропустите их. На часть вопросов можно ответить текстом, а для некоторых понадобится визуализация. Помните, что результат запроса можно выгрузить в датафрейм. \n",
    "\n",
    "Чтобы ожидаемый результат было легче представить, мы добавили к каждому заданию небольшой фрагмент итоговой таблицы. В запросах вы можете использовать любые подходящие названия полей."
   ]
  },
  {
   "cell_type": "markdown",
   "metadata": {},
   "source": [
    "### Импорт библиотек"
   ]
  },
  {
   "cell_type": "code",
   "execution_count": 1,
   "metadata": {
    "id": "nlZBlglMDWKe"
   },
   "outputs": [],
   "source": [
    "import pandas as pd\n",
    "import matplotlib.pyplot as plt\n",
    "from sqlalchemy import create_engine \n",
    "import seaborn as sns\n",
    "\n",
    "FIGSIZE = (12, 6)"
   ]
  },
  {
   "cell_type": "markdown",
   "metadata": {
    "id": "XnOE3n28DWKg"
   },
   "source": [
    "### Конфигурация для подключения к базе данных `data-analyst-advanced-sql`\n",
    "Эта база данных содержит схему `stackoverflow`, с которой вы будете работать в проекте"
   ]
  },
  {
   "cell_type": "code",
   "execution_count": 2,
   "metadata": {
    "id": "6p-yGp7qDWKg"
   },
   "outputs": [],
   "source": [
    "db_config = {\n",
    "    'user': 'praktikum_student', # имя пользователя\n",
    "    'pwd': '**********', # пароль\n",
    "    'host': '*******************.net',\n",
    "    'port': 6432, # порт подключения\n",
    "    'db': 'data-analyst-advanced-sql' # название базы данных\n",
    "}  \n",
    "\n",
    "connection_string = 'postgresql://{}:{}@{}:{}/{}'.format(\n",
    "    db_config['user'],\n",
    "    db_config['pwd'],\n",
    "    db_config['host'],\n",
    "    db_config['port'],\n",
    "    db_config['db'],\n",
    ")"
   ]
  },
  {
   "cell_type": "markdown",
   "metadata": {
    "id": "2Rg8ZpS0DWKh"
   },
   "source": [
    "Создание подключения"
   ]
  },
  {
   "cell_type": "code",
   "execution_count": 3,
   "metadata": {
    "id": "DamCUTR6DWKi"
   },
   "outputs": [],
   "source": [
    "engine = create_engine(connection_string) "
   ]
  },
  {
   "cell_type": "markdown",
   "metadata": {
    "id": "bel8XeSlDWKj"
   },
   "source": [
    "Пример запроса к базе данных\n",
    "\n",
    "`sample_df` является pandas-датафреймом."
   ]
  },
  {
   "cell_type": "code",
   "execution_count": 4,
   "metadata": {
    "id": "6Z_fw0yLDWKk"
   },
   "outputs": [],
   "source": [
    "query = '''\n",
    "SELECT *\n",
    "FROM stackoverflow.users\n",
    "LIMIT 10;\n",
    "'''\n",
    "\n",
    "sample_df = pd.read_sql_query(query, con=engine) "
   ]
  },
  {
   "cell_type": "code",
   "execution_count": 5,
   "metadata": {
    "id": "ZpuZ290oDWKk",
    "outputId": "22785a0a-e2bc-4559-ec3c-4879c4b377eb"
   },
   "outputs": [
    {
     "data": {
      "text/html": [
       "<div>\n",
       "<style scoped>\n",
       "    .dataframe tbody tr th:only-of-type {\n",
       "        vertical-align: middle;\n",
       "    }\n",
       "\n",
       "    .dataframe tbody tr th {\n",
       "        vertical-align: top;\n",
       "    }\n",
       "\n",
       "    .dataframe thead th {\n",
       "        text-align: right;\n",
       "    }\n",
       "</style>\n",
       "<table border=\"1\" class=\"dataframe\">\n",
       "  <thead>\n",
       "    <tr style=\"text-align: right;\">\n",
       "      <th></th>\n",
       "      <th>id</th>\n",
       "      <th>creation_date</th>\n",
       "      <th>display_name</th>\n",
       "      <th>last_access_date</th>\n",
       "      <th>location</th>\n",
       "      <th>reputation</th>\n",
       "      <th>views</th>\n",
       "    </tr>\n",
       "  </thead>\n",
       "  <tbody>\n",
       "    <tr>\n",
       "      <th>0</th>\n",
       "      <td>1</td>\n",
       "      <td>2008-07-31 14:22:31</td>\n",
       "      <td>Jeff Atwood</td>\n",
       "      <td>2018-08-29 02:34:23</td>\n",
       "      <td>El Cerrito, CA</td>\n",
       "      <td>44300</td>\n",
       "      <td>408587</td>\n",
       "    </tr>\n",
       "    <tr>\n",
       "      <th>1</th>\n",
       "      <td>2</td>\n",
       "      <td>2008-07-31 14:22:31</td>\n",
       "      <td>Geoff Dalgas</td>\n",
       "      <td>2018-08-23 17:31:56</td>\n",
       "      <td>Corvallis, OR</td>\n",
       "      <td>3491</td>\n",
       "      <td>23966</td>\n",
       "    </tr>\n",
       "    <tr>\n",
       "      <th>2</th>\n",
       "      <td>3</td>\n",
       "      <td>2008-07-31 14:22:31</td>\n",
       "      <td>Jarrod Dixon</td>\n",
       "      <td>2018-08-30 20:56:24</td>\n",
       "      <td>Raleigh, NC, United States</td>\n",
       "      <td>13418</td>\n",
       "      <td>24396</td>\n",
       "    </tr>\n",
       "    <tr>\n",
       "      <th>3</th>\n",
       "      <td>4</td>\n",
       "      <td>2008-07-31 14:22:31</td>\n",
       "      <td>Joel Spolsky</td>\n",
       "      <td>2018-08-14 22:18:15</td>\n",
       "      <td>New York, NY</td>\n",
       "      <td>28768</td>\n",
       "      <td>73755</td>\n",
       "    </tr>\n",
       "    <tr>\n",
       "      <th>4</th>\n",
       "      <td>5</td>\n",
       "      <td>2008-07-31 14:22:31</td>\n",
       "      <td>Jon Galloway</td>\n",
       "      <td>2018-08-29 16:48:36</td>\n",
       "      <td>San Diego, CA</td>\n",
       "      <td>39172</td>\n",
       "      <td>11700</td>\n",
       "    </tr>\n",
       "    <tr>\n",
       "      <th>5</th>\n",
       "      <td>8</td>\n",
       "      <td>2008-07-31 21:33:24</td>\n",
       "      <td>Eggs McLaren</td>\n",
       "      <td>2018-04-09 02:04:56</td>\n",
       "      <td>None</td>\n",
       "      <td>942</td>\n",
       "      <td>6372</td>\n",
       "    </tr>\n",
       "    <tr>\n",
       "      <th>6</th>\n",
       "      <td>9</td>\n",
       "      <td>2008-07-31 21:35:27</td>\n",
       "      <td>Kevin Dente</td>\n",
       "      <td>2018-08-30 18:18:03</td>\n",
       "      <td>Oakland, CA</td>\n",
       "      <td>14337</td>\n",
       "      <td>4949</td>\n",
       "    </tr>\n",
       "    <tr>\n",
       "      <th>7</th>\n",
       "      <td>11</td>\n",
       "      <td>2008-08-01 00:59:11</td>\n",
       "      <td>Anonymous User</td>\n",
       "      <td>2008-08-01 00:59:11</td>\n",
       "      <td>None</td>\n",
       "      <td>1890</td>\n",
       "      <td>2123</td>\n",
       "    </tr>\n",
       "    <tr>\n",
       "      <th>8</th>\n",
       "      <td>13</td>\n",
       "      <td>2008-08-01 04:18:05</td>\n",
       "      <td>Chris Jester-Young</td>\n",
       "      <td>2018-08-30 02:47:23</td>\n",
       "      <td>Raleigh, NC, United States</td>\n",
       "      <td>177138</td>\n",
       "      <td>35414</td>\n",
       "    </tr>\n",
       "    <tr>\n",
       "      <th>9</th>\n",
       "      <td>17</td>\n",
       "      <td>2008-08-01 12:02:22</td>\n",
       "      <td>Nick Berardi</td>\n",
       "      <td>2018-01-22 01:35:38</td>\n",
       "      <td>Issaquah, WA</td>\n",
       "      <td>44443</td>\n",
       "      <td>4786</td>\n",
       "    </tr>\n",
       "  </tbody>\n",
       "</table>\n",
       "</div>"
      ],
      "text/plain": [
       "   id       creation_date        display_name    last_access_date  \\\n",
       "0   1 2008-07-31 14:22:31         Jeff Atwood 2018-08-29 02:34:23   \n",
       "1   2 2008-07-31 14:22:31        Geoff Dalgas 2018-08-23 17:31:56   \n",
       "2   3 2008-07-31 14:22:31        Jarrod Dixon 2018-08-30 20:56:24   \n",
       "3   4 2008-07-31 14:22:31        Joel Spolsky 2018-08-14 22:18:15   \n",
       "4   5 2008-07-31 14:22:31        Jon Galloway 2018-08-29 16:48:36   \n",
       "5   8 2008-07-31 21:33:24        Eggs McLaren 2018-04-09 02:04:56   \n",
       "6   9 2008-07-31 21:35:27         Kevin Dente 2018-08-30 18:18:03   \n",
       "7  11 2008-08-01 00:59:11      Anonymous User 2008-08-01 00:59:11   \n",
       "8  13 2008-08-01 04:18:05  Chris Jester-Young 2018-08-30 02:47:23   \n",
       "9  17 2008-08-01 12:02:22        Nick Berardi 2018-01-22 01:35:38   \n",
       "\n",
       "                     location  reputation   views  \n",
       "0              El Cerrito, CA       44300  408587  \n",
       "1               Corvallis, OR        3491   23966  \n",
       "2  Raleigh, NC, United States       13418   24396  \n",
       "3                New York, NY       28768   73755  \n",
       "4               San Diego, CA       39172   11700  \n",
       "5                        None         942    6372  \n",
       "6                 Oakland, CA       14337    4949  \n",
       "7                        None        1890    2123  \n",
       "8  Raleigh, NC, United States      177138   35414  \n",
       "9                Issaquah, WA       44443    4786  "
      ]
     },
     "execution_count": 5,
     "metadata": {},
     "output_type": "execute_result"
    }
   ],
   "source": [
    "sample_df"
   ]
  },
  {
   "cell_type": "markdown",
   "metadata": {
    "id": "gnBMXkDBDWKm"
   },
   "source": [
    "# Задание 1"
   ]
  },
  {
   "cell_type": "markdown",
   "metadata": {
    "id": "vHsfOrrNDWKn"
   },
   "source": [
    "Выведите общую сумму просмотров постов за каждый месяц 2008 года. Если данных за какой-либо месяц в базе нет, такой месяц можно пропустить. Результат отсортируйте по убыванию общего количества просмотров."
   ]
  },
  {
   "cell_type": "markdown",
   "metadata": {
    "id": "N5rTgGNmDWKn"
   },
   "source": [
    "| month_date  | total_views |\n",
    "| ------------- | ------------- |\n",
    "| 2008-09-01  | 452928568  |\n",
    "| 2008-10-01  | 365400138  |\n",
    "| ...         | ... |"
   ]
  },
  {
   "cell_type": "code",
   "execution_count": 6,
   "metadata": {
    "id": "eWvykcXTDWKo"
   },
   "outputs": [
    {
     "data": {
      "text/html": [
       "<div>\n",
       "<style scoped>\n",
       "    .dataframe tbody tr th:only-of-type {\n",
       "        vertical-align: middle;\n",
       "    }\n",
       "\n",
       "    .dataframe tbody tr th {\n",
       "        vertical-align: top;\n",
       "    }\n",
       "\n",
       "    .dataframe thead th {\n",
       "        text-align: right;\n",
       "    }\n",
       "</style>\n",
       "<table border=\"1\" class=\"dataframe\">\n",
       "  <thead>\n",
       "    <tr style=\"text-align: right;\">\n",
       "      <th></th>\n",
       "      <th>month</th>\n",
       "      <th>month_views</th>\n",
       "    </tr>\n",
       "  </thead>\n",
       "  <tbody>\n",
       "    <tr>\n",
       "      <th>0</th>\n",
       "      <td>2008-07-01</td>\n",
       "      <td>669895</td>\n",
       "    </tr>\n",
       "    <tr>\n",
       "      <th>1</th>\n",
       "      <td>2008-08-01</td>\n",
       "      <td>131367083</td>\n",
       "    </tr>\n",
       "    <tr>\n",
       "      <th>2</th>\n",
       "      <td>2008-09-01</td>\n",
       "      <td>452928568</td>\n",
       "    </tr>\n",
       "    <tr>\n",
       "      <th>3</th>\n",
       "      <td>2008-10-01</td>\n",
       "      <td>365400138</td>\n",
       "    </tr>\n",
       "    <tr>\n",
       "      <th>4</th>\n",
       "      <td>2008-11-01</td>\n",
       "      <td>221759651</td>\n",
       "    </tr>\n",
       "    <tr>\n",
       "      <th>5</th>\n",
       "      <td>2008-12-01</td>\n",
       "      <td>197792841</td>\n",
       "    </tr>\n",
       "  </tbody>\n",
       "</table>\n",
       "</div>"
      ],
      "text/plain": [
       "       month  month_views\n",
       "0 2008-07-01       669895\n",
       "1 2008-08-01    131367083\n",
       "2 2008-09-01    452928568\n",
       "3 2008-10-01    365400138\n",
       "4 2008-11-01    221759651\n",
       "5 2008-12-01    197792841"
      ]
     },
     "execution_count": 6,
     "metadata": {},
     "output_type": "execute_result"
    }
   ],
   "source": [
    "# напишите запрос\n",
    "query = '''\n",
    "SELECT DISTINCT DATE_TRUNC('month', creation_date) AS month,\n",
    "    SUM(views_count) OVER(PARTITION BY DATE_TRUNC('month', creation_date)) AS month_views\n",
    "FROM stackoverflow.posts\n",
    "WHERE (creation_date::date >= '2008-01-01') AND (creation_date::date <= '2008-12-31')\n",
    "ORDER BY month;\n",
    "'''\n",
    "\n",
    "# выполните запрос\n",
    "views_monthly = pd.read_sql_query(query, con=engine) \n",
    "views_monthly"
   ]
  },
  {
   "cell_type": "code",
   "execution_count": 7,
   "metadata": {},
   "outputs": [
    {
     "data": {
      "image/png": "[encoded data removed]",
      "text/plain": [
       "<Figure size 864x432 with 1 Axes>"
      ]
     },
     "metadata": {
      "needs_background": "light"
     },
     "output_type": "display_data"
    }
   ],
   "source": [
    "# визуализация результатов запроса\n",
    "chart = views_monthly.plot(x='month', y='month_views', kind='bar', rot=45, figsize=FIGSIZE)\n",
    "chart.set_title('Количество просмотров по месяцам', fontsize=20);"
   ]
  },
  {
   "cell_type": "markdown",
   "metadata": {
    "id": "I_ZvhOxkDWKp"
   },
   "source": [
    "Проанализируйте итоговую таблицу. Отличаются ли данные за разные месяцы? С чем могут быть связаны отличия?"
   ]
  },
  {
   "cell_type": "markdown",
   "metadata": {
    "id": "luxSj17oDWKq"
   },
   "source": [
    "**Вывод**\n",
    "\n",
    "Видим, что в таблице наблюдается различие данных о просмотрах по месяцам. \n",
    "\n",
    "Первое полугодие 2008 года вообще не представлено в таблице. Это связано с тем, что сайт Stackoverflow  появился в 2008 году. Раз нет данных о первом полугодии, то логично предположить, что сайт заработал в июле 2008 года. \n",
    "\n",
    "В первый месяц работы сайта количество просмотров самое маленькое. Причин тут может быть две:\n",
    "\n",
    "1. Количество пользователей Интернета, которые знали о появлении Stackoverflow, было невелико.\n",
    "\n",
    "2. В июле сайт заработал не с первого числа, а ближе к середине месяца.\n",
    "\n",
    "Дальше количество просмотров растет и достигает максимума в третьем месяце работы сайта. Скачок количества просмотров можно объяснить повышенным интересом аудитории к новому сайту. Далее происходит спад просмотров, что говорит о том, что пользователи стали привыкать к имеющемуся функционалу и посещать сайт только при возникновении необходимости. \n"
   ]
  },
  {
   "cell_type": "code",
   "execution_count": 8,
   "metadata": {},
   "outputs": [
    {
     "data": {
      "text/html": [
       "<div>\n",
       "<style scoped>\n",
       "    .dataframe tbody tr th:only-of-type {\n",
       "        vertical-align: middle;\n",
       "    }\n",
       "\n",
       "    .dataframe tbody tr th {\n",
       "        vertical-align: top;\n",
       "    }\n",
       "\n",
       "    .dataframe thead th {\n",
       "        text-align: right;\n",
       "    }\n",
       "</style>\n",
       "<table border=\"1\" class=\"dataframe\">\n",
       "  <thead>\n",
       "    <tr style=\"text-align: right;\">\n",
       "      <th></th>\n",
       "      <th>day</th>\n",
       "      <th>day_views</th>\n",
       "    </tr>\n",
       "  </thead>\n",
       "  <tbody>\n",
       "    <tr>\n",
       "      <th>0</th>\n",
       "      <td>2008-07-31</td>\n",
       "      <td>669895</td>\n",
       "    </tr>\n",
       "  </tbody>\n",
       "</table>\n",
       "</div>"
      ],
      "text/plain": [
       "         day  day_views\n",
       "0 2008-07-31     669895"
      ]
     },
     "execution_count": 8,
     "metadata": {},
     "output_type": "execute_result"
    }
   ],
   "source": [
    "# посмотрим распределение просмотров по дням июля 2008 года\n",
    "query = '''\n",
    "SELECT DISTINCT DATE_TRUNC('day', creation_date) AS day,\n",
    "    SUM(views_count) OVER(PARTITION BY DATE_TRUNC('day', creation_date)) AS day_views\n",
    "FROM stackoverflow.posts\n",
    "WHERE (creation_date::date >= '2008-07-01') AND (creation_date::date <= '2008-07-31')\n",
    "ORDER BY day;\n",
    "'''\n",
    "\n",
    "# выполните запрос\n",
    "views_07_dayly = pd.read_sql_query(query, con=engine) \n",
    "views_07_dayly"
   ]
  },
  {
   "cell_type": "markdown",
   "metadata": {},
   "source": [
    "Видим, что предположение о том, что в июле сайт работал не полный месяц подтвердилось. Более того, видим, что он работал в этом месяце всего один день."
   ]
  },
  {
   "cell_type": "markdown",
   "metadata": {
    "id": "FziIXkn5DWKr"
   },
   "source": [
    "# Задание 2"
   ]
  },
  {
   "cell_type": "markdown",
   "metadata": {
    "id": "fTGESZvYDWKr"
   },
   "source": [
    "Выведите имена самых активных пользователей, которые в первый месяц после регистрации (включая день регистрации) дали больше 100 ответов. Вопросы, которые задавали пользователи, не учитывайте. Для каждого имени пользователя выведите количество уникальных значений `user_id`. Отсортируйте результат по полю с именами в лексикографическом порядке."
   ]
  },
  {
   "cell_type": "markdown",
   "metadata": {
    "id": "W5-tv6Y3DWKs"
   },
   "source": [
    "| display_name | count |\n",
    "| ------------ | ----- |\n",
    "| 1800 INFORMATION | 1 |\n",
    "| Adam Bellaire | 1 |\n",
    "| Adam Davis | 1 |\n",
    "| ... | ... |"
   ]
  },
  {
   "cell_type": "code",
   "execution_count": 9,
   "metadata": {},
   "outputs": [
    {
     "data": {
      "text/html": [
       "<div>\n",
       "<style scoped>\n",
       "    .dataframe tbody tr th:only-of-type {\n",
       "        vertical-align: middle;\n",
       "    }\n",
       "\n",
       "    .dataframe tbody tr th {\n",
       "        vertical-align: top;\n",
       "    }\n",
       "\n",
       "    .dataframe thead th {\n",
       "        text-align: right;\n",
       "    }\n",
       "</style>\n",
       "<table border=\"1\" class=\"dataframe\">\n",
       "  <thead>\n",
       "    <tr style=\"text-align: right;\">\n",
       "      <th></th>\n",
       "      <th>display_name</th>\n",
       "      <th>num_of_ids</th>\n",
       "    </tr>\n",
       "  </thead>\n",
       "  <tbody>\n",
       "    <tr>\n",
       "      <th>0</th>\n",
       "      <td>1800 INFORMATION</td>\n",
       "      <td>1</td>\n",
       "    </tr>\n",
       "    <tr>\n",
       "      <th>1</th>\n",
       "      <td>Adam Bellaire</td>\n",
       "      <td>1</td>\n",
       "    </tr>\n",
       "    <tr>\n",
       "      <th>2</th>\n",
       "      <td>Adam Davis</td>\n",
       "      <td>1</td>\n",
       "    </tr>\n",
       "    <tr>\n",
       "      <th>3</th>\n",
       "      <td>Adam Liss</td>\n",
       "      <td>1</td>\n",
       "    </tr>\n",
       "    <tr>\n",
       "      <th>4</th>\n",
       "      <td>Alan</td>\n",
       "      <td>8</td>\n",
       "    </tr>\n",
       "    <tr>\n",
       "      <th>...</th>\n",
       "      <td>...</td>\n",
       "      <td>...</td>\n",
       "    </tr>\n",
       "    <tr>\n",
       "      <th>74</th>\n",
       "      <td>lomaxx</td>\n",
       "      <td>1</td>\n",
       "    </tr>\n",
       "    <tr>\n",
       "      <th>75</th>\n",
       "      <td>mattlant</td>\n",
       "      <td>1</td>\n",
       "    </tr>\n",
       "    <tr>\n",
       "      <th>76</th>\n",
       "      <td>paxdiablo</td>\n",
       "      <td>1</td>\n",
       "    </tr>\n",
       "    <tr>\n",
       "      <th>77</th>\n",
       "      <td>tvanfosson</td>\n",
       "      <td>1</td>\n",
       "    </tr>\n",
       "    <tr>\n",
       "      <th>78</th>\n",
       "      <td>tzot</td>\n",
       "      <td>1</td>\n",
       "    </tr>\n",
       "  </tbody>\n",
       "</table>\n",
       "<p>79 rows × 2 columns</p>\n",
       "</div>"
      ],
      "text/plain": [
       "        display_name  num_of_ids\n",
       "0   1800 INFORMATION           1\n",
       "1      Adam Bellaire           1\n",
       "2         Adam Davis           1\n",
       "3          Adam Liss           1\n",
       "4               Alan           8\n",
       "..               ...         ...\n",
       "74            lomaxx           1\n",
       "75          mattlant           1\n",
       "76         paxdiablo           1\n",
       "77        tvanfosson           1\n",
       "78              tzot           1\n",
       "\n",
       "[79 rows x 2 columns]"
      ]
     },
     "execution_count": 9,
     "metadata": {},
     "output_type": "execute_result"
    }
   ],
   "source": [
    "# напишите запрос\n",
    "query = '''\n",
    "WITH post_user_stat AS\n",
    "    (SELECT pt.type,\n",
    "        p.id AS post_id,\n",
    "        p.user_id,\n",
    "        p.creation_date AS post_date,\n",
    "        u.display_name,\n",
    "        u.creation_date AS user_reg,\n",
    "        DATE_TRUNC('day', p.creation_date) - DATE_TRUNC('day', u.creation_date) AS diff\n",
    "    FROM stackoverflow.post_types AS pt\n",
    "    JOIN stackoverflow.posts AS p ON p.post_type_id = pt.id\n",
    "    JOIN stackoverflow.users AS u ON p.user_id = u.id\n",
    "    WHERE (pt.type = 'Answer'))\n",
    "SELECT display_name,\n",
    "    COUNT(DISTINCT user_id) as num_of_ids\n",
    "FROM post_user_stat\n",
    "WHERE diff <= '1 month'\n",
    "GROUP BY display_name\n",
    "HAVING COUNT(post_id) > 100\n",
    "ORDER BY display_name;\n",
    "'''\n",
    "\n",
    "# выполните запрос\n",
    "user_asw_id = pd.read_sql_query(query, con=engine)\n",
    "user_asw_id"
   ]
  },
  {
   "cell_type": "markdown",
   "metadata": {
    "id": "I3Wr82TplKpI"
   },
   "source": [
    "Какие аномалии наблюдаются в данных? О чём они говорят?"
   ]
  },
  {
   "cell_type": "markdown",
   "metadata": {
    "id": "CEIGGQ6ODWKy"
   },
   "source": [
    "**Вывод**\n",
    "\n",
    "По результатам запроса видно, что в данных есть 17 отображаемых имен пользователей, на которые приходится более одного уникального id пользователя. Это связано с тем, что правила Stackoverflow позволяют разным пользователям иметь одинаковые отображаемые имена.\n",
    "\n",
    "Видим, что самые эти 17 имен – это имена собственные без уточнения фамилии или какого-то другого признака, который сделал бы их уникальными, как в случае с остальными именами самых активных пользователей.\n",
    "\n",
    "Кроме того, при построении запроса выяснилось, что в базе есть пользователи, у которых разница между датой публикации и датой регистрации отрицательная, то есть пост опубликован до регистрации. Это может быть результатом сбоя работы сайта или результатом того, что после регистрации пользователь корректировал данные о часовом поясе своего пребывания.\n"
   ]
  },
  {
   "cell_type": "markdown",
   "metadata": {
    "id": "JhM2xXj5DWKu"
   },
   "source": [
    "# Задание 3"
   ]
  },
  {
   "cell_type": "markdown",
   "metadata": {
    "id": "IS6xPqyyDWKu"
   },
   "source": [
    "Выведите количество постов за 2008 год по месяцам. Отберите посты от пользователей, которые зарегистрировались в сентябре 2008 года и сделали хотя бы один пост в декабре того же года. Отсортируйте таблицу по значению месяца по убыванию."
   ]
  },
  {
   "cell_type": "markdown",
   "metadata": {
    "id": "WmjhjV2xDWKv"
   },
   "source": [
    "| month | count |\n",
    "| ------|------ |\n",
    "| 2008-12-01 | 17641 |\n",
    "| 2008-11-01 | 18294 |\n",
    "| ... | ... |"
   ]
  },
  {
   "cell_type": "code",
   "execution_count": 10,
   "metadata": {
    "id": "kVu0FB8WDWKv"
   },
   "outputs": [
    {
     "data": {
      "text/html": [
       "<div>\n",
       "<style scoped>\n",
       "    .dataframe tbody tr th:only-of-type {\n",
       "        vertical-align: middle;\n",
       "    }\n",
       "\n",
       "    .dataframe tbody tr th {\n",
       "        vertical-align: top;\n",
       "    }\n",
       "\n",
       "    .dataframe thead th {\n",
       "        text-align: right;\n",
       "    }\n",
       "</style>\n",
       "<table border=\"1\" class=\"dataframe\">\n",
       "  <thead>\n",
       "    <tr style=\"text-align: right;\">\n",
       "      <th></th>\n",
       "      <th>month</th>\n",
       "      <th>count</th>\n",
       "    </tr>\n",
       "  </thead>\n",
       "  <tbody>\n",
       "    <tr>\n",
       "      <th>0</th>\n",
       "      <td>2008-12-01</td>\n",
       "      <td>17641</td>\n",
       "    </tr>\n",
       "    <tr>\n",
       "      <th>1</th>\n",
       "      <td>2008-11-01</td>\n",
       "      <td>18294</td>\n",
       "    </tr>\n",
       "    <tr>\n",
       "      <th>2</th>\n",
       "      <td>2008-10-01</td>\n",
       "      <td>27171</td>\n",
       "    </tr>\n",
       "    <tr>\n",
       "      <th>3</th>\n",
       "      <td>2008-09-01</td>\n",
       "      <td>24870</td>\n",
       "    </tr>\n",
       "    <tr>\n",
       "      <th>4</th>\n",
       "      <td>2008-08-01</td>\n",
       "      <td>32</td>\n",
       "    </tr>\n",
       "  </tbody>\n",
       "</table>\n",
       "</div>"
      ],
      "text/plain": [
       "       month  count\n",
       "0 2008-12-01  17641\n",
       "1 2008-11-01  18294\n",
       "2 2008-10-01  27171\n",
       "3 2008-09-01  24870\n",
       "4 2008-08-01     32"
      ]
     },
     "execution_count": 10,
     "metadata": {},
     "output_type": "execute_result"
    }
   ],
   "source": [
    "# напишите запрос\n",
    "query = '''\n",
    "WITH users_list AS\n",
    "    (SELECT DISTINCT p.user_id\n",
    "    FROM stackoverflow.posts AS p\n",
    "    JOIN stackoverflow.users AS u ON p.user_id = u.id\n",
    "    WHERE ((p.creation_date::date >= '2008-12-01') AND (p.creation_date::date <= '2008-12-31'))\n",
    "    AND ((u.creation_date::date >= '2008-09-01') AND (u.creation_date::date <= '2008-09-30')))\n",
    "SELECT DISTINCT DATE_TRUNC('month', p.creation_date) AS month,\n",
    "    COUNT(p.id)\n",
    "FROM users_list AS ul\n",
    "JOIN stackoverflow.posts AS p ON ul.user_id = p.user_id\n",
    "GROUP BY DATE_TRUNC('month', p.creation_date)\n",
    "ORDER BY month DESC;\n",
    "'''\n",
    "\n",
    "# выполните запрос\n",
    "by_month_2008= pd.read_sql_query(query, con=engine)\n",
    "by_month_2008"
   ]
  },
  {
   "cell_type": "code",
   "execution_count": 11,
   "metadata": {},
   "outputs": [
    {
     "data": {
      "text/html": [
       "<div>\n",
       "<style scoped>\n",
       "    .dataframe tbody tr th:only-of-type {\n",
       "        vertical-align: middle;\n",
       "    }\n",
       "\n",
       "    .dataframe tbody tr th {\n",
       "        vertical-align: top;\n",
       "    }\n",
       "\n",
       "    .dataframe thead th {\n",
       "        text-align: right;\n",
       "    }\n",
       "</style>\n",
       "<table border=\"1\" class=\"dataframe\">\n",
       "  <thead>\n",
       "    <tr style=\"text-align: right;\">\n",
       "      <th></th>\n",
       "      <th>month</th>\n",
       "      <th>count</th>\n",
       "    </tr>\n",
       "  </thead>\n",
       "  <tbody>\n",
       "    <tr>\n",
       "      <th>0</th>\n",
       "      <td>2008-08-31</td>\n",
       "      <td>1</td>\n",
       "    </tr>\n",
       "    <tr>\n",
       "      <th>1</th>\n",
       "      <td>2008-08-30</td>\n",
       "      <td>3</td>\n",
       "    </tr>\n",
       "    <tr>\n",
       "      <th>2</th>\n",
       "      <td>2008-08-29</td>\n",
       "      <td>5</td>\n",
       "    </tr>\n",
       "    <tr>\n",
       "      <th>3</th>\n",
       "      <td>2008-08-28</td>\n",
       "      <td>1</td>\n",
       "    </tr>\n",
       "    <tr>\n",
       "      <th>4</th>\n",
       "      <td>2008-08-27</td>\n",
       "      <td>2</td>\n",
       "    </tr>\n",
       "    <tr>\n",
       "      <th>5</th>\n",
       "      <td>2008-08-25</td>\n",
       "      <td>3</td>\n",
       "    </tr>\n",
       "    <tr>\n",
       "      <th>6</th>\n",
       "      <td>2008-08-24</td>\n",
       "      <td>1</td>\n",
       "    </tr>\n",
       "    <tr>\n",
       "      <th>7</th>\n",
       "      <td>2008-08-22</td>\n",
       "      <td>1</td>\n",
       "    </tr>\n",
       "    <tr>\n",
       "      <th>8</th>\n",
       "      <td>2008-08-21</td>\n",
       "      <td>1</td>\n",
       "    </tr>\n",
       "    <tr>\n",
       "      <th>9</th>\n",
       "      <td>2008-08-20</td>\n",
       "      <td>1</td>\n",
       "    </tr>\n",
       "    <tr>\n",
       "      <th>10</th>\n",
       "      <td>2008-08-19</td>\n",
       "      <td>3</td>\n",
       "    </tr>\n",
       "    <tr>\n",
       "      <th>11</th>\n",
       "      <td>2008-08-14</td>\n",
       "      <td>3</td>\n",
       "    </tr>\n",
       "    <tr>\n",
       "      <th>12</th>\n",
       "      <td>2008-08-13</td>\n",
       "      <td>2</td>\n",
       "    </tr>\n",
       "    <tr>\n",
       "      <th>13</th>\n",
       "      <td>2008-08-12</td>\n",
       "      <td>5</td>\n",
       "    </tr>\n",
       "  </tbody>\n",
       "</table>\n",
       "</div>"
      ],
      "text/plain": [
       "        month  count\n",
       "0  2008-08-31      1\n",
       "1  2008-08-30      3\n",
       "2  2008-08-29      5\n",
       "3  2008-08-28      1\n",
       "4  2008-08-27      2\n",
       "5  2008-08-25      3\n",
       "6  2008-08-24      1\n",
       "7  2008-08-22      1\n",
       "8  2008-08-21      1\n",
       "9  2008-08-20      1\n",
       "10 2008-08-19      3\n",
       "11 2008-08-14      3\n",
       "12 2008-08-13      2\n",
       "13 2008-08-12      5"
      ]
     },
     "execution_count": 11,
     "metadata": {},
     "output_type": "execute_result"
    }
   ],
   "source": [
    "# количество августовских постов пользователей, зарегистрированных в сенбябре\n",
    "query = '''\n",
    "WITH users_list AS\n",
    "    (SELECT DISTINCT p.user_id\n",
    "    FROM stackoverflow.posts AS p\n",
    "    JOIN stackoverflow.users AS u ON p.user_id = u.id\n",
    "    WHERE ((p.creation_date::date >= '2008-12-01') AND (p.creation_date::date <= '2008-12-31'))\n",
    "    AND ((u.creation_date::date >= '2008-09-01') AND (u.creation_date::date <= '2008-09-30')))\n",
    "SELECT DISTINCT DATE_TRUNC('day', p.creation_date) AS month,\n",
    "    COUNT(p.id)\n",
    "FROM users_list AS ul\n",
    "JOIN stackoverflow.posts AS p ON ul.user_id = p.user_id\n",
    "WHERE (p.creation_date::date >= '2008-08-01') AND (p.creation_date::date <= '2008-08-31')\n",
    "GROUP BY DATE_TRUNC('day', p.creation_date)\n",
    "ORDER BY month DESC;\n",
    "'''\n",
    "\n",
    "# выполните запрос\n",
    "august_2008= pd.read_sql_query(query, con=engine)\n",
    "august_2008"
   ]
  },
  {
   "cell_type": "markdown",
   "metadata": {
    "id": "Vnxn9DVHDWKx"
   },
   "source": [
    "Изучите данные: есть ли в них аномалии? Предположите, почему могли появиться аномальные значения."
   ]
  },
  {
   "cell_type": "markdown",
   "metadata": {
    "id": "MMVIz4yMlKpN"
   },
   "source": [
    "**Вывод**\n",
    "\n",
    "В результатах выдачи нашего запроса аномальным значением является 32 поста, опубликованных в августе 2008 года, потому что мы отбирали пользователей, которые были зарегистрированы только в сентябре.\n",
    "\n",
    "Причиной могли быть сбои в работе сайта, хакерская атака или обновление ПО, обеспечивающего работу Stackoverflow или его хостинга.\n"
   ]
  },
  {
   "cell_type": "markdown",
   "metadata": {
    "id": "5Pcizm0DDWKz"
   },
   "source": [
    "# Задание 4"
   ]
  },
  {
   "cell_type": "markdown",
   "metadata": {
    "id": "KUZPF6vHDWKz"
   },
   "source": [
    "Используя данные о постах, выведите несколько полей:\n",
    "\n",
    "- идентификатор пользователя, который написал пост;\n",
    "- дата создания поста;\n",
    "- количество просмотров у текущего поста;\n",
    "- сумму просмотров постов автора с накоплением.\n",
    "\n",
    "Данные в таблице должны быть отсортированы по возрастанию идентификаторов пользователей, а данные об одном и том же пользователе — по возрастанию даты создания поста."
   ]
  },
  {
   "cell_type": "markdown",
   "metadata": {
    "id": "ZpsTUVDYDWK0"
   },
   "source": [
    "| user_id | creation_date | views_count | cumulative_count |\n",
    "| ------ | -------------- | ----------- | ---------------- |\n",
    "| 1 | 2008-07-31 23:41:00  | 480476   | 480476  |\n",
    "| 1 | 2008-07-31 23:55:38  | 136033 | 616509  | \n",
    "| 1 | 2008-07-31 23:56:41  | 0 |  616509  |\n",
    "| ... | ... | ... | ... |\n",
    "| 2 | 2008-07-31 23:56:41 | 79087  | 79087 |\n",
    "| 2 | 2008-08-01 05:09:56 | 65443 | 144530 |\n",
    "| ... | ...  | ...  | ...  |"
   ]
  },
  {
   "cell_type": "code",
   "execution_count": 12,
   "metadata": {
    "id": "hDoJhMzfDWK0"
   },
   "outputs": [
    {
     "data": {
      "text/html": [
       "<div>\n",
       "<style scoped>\n",
       "    .dataframe tbody tr th:only-of-type {\n",
       "        vertical-align: middle;\n",
       "    }\n",
       "\n",
       "    .dataframe tbody tr th {\n",
       "        vertical-align: top;\n",
       "    }\n",
       "\n",
       "    .dataframe thead th {\n",
       "        text-align: right;\n",
       "    }\n",
       "</style>\n",
       "<table border=\"1\" class=\"dataframe\">\n",
       "  <thead>\n",
       "    <tr style=\"text-align: right;\">\n",
       "      <th></th>\n",
       "      <th>user_id</th>\n",
       "      <th>creation_date</th>\n",
       "      <th>views_count</th>\n",
       "      <th>sum</th>\n",
       "    </tr>\n",
       "  </thead>\n",
       "  <tbody>\n",
       "    <tr>\n",
       "      <th>0</th>\n",
       "      <td>1</td>\n",
       "      <td>2008-07-31 23:41:00</td>\n",
       "      <td>480476</td>\n",
       "      <td>480476</td>\n",
       "    </tr>\n",
       "    <tr>\n",
       "      <th>1</th>\n",
       "      <td>1</td>\n",
       "      <td>2008-07-31 23:55:38</td>\n",
       "      <td>136033</td>\n",
       "      <td>616509</td>\n",
       "    </tr>\n",
       "    <tr>\n",
       "      <th>2</th>\n",
       "      <td>1</td>\n",
       "      <td>2008-07-31 23:56:41</td>\n",
       "      <td>0</td>\n",
       "      <td>616509</td>\n",
       "    </tr>\n",
       "    <tr>\n",
       "      <th>3</th>\n",
       "      <td>1</td>\n",
       "      <td>2008-08-04 02:45:08</td>\n",
       "      <td>0</td>\n",
       "      <td>616509</td>\n",
       "    </tr>\n",
       "    <tr>\n",
       "      <th>4</th>\n",
       "      <td>1</td>\n",
       "      <td>2008-08-04 04:31:03</td>\n",
       "      <td>0</td>\n",
       "      <td>616509</td>\n",
       "    </tr>\n",
       "    <tr>\n",
       "      <th>...</th>\n",
       "      <td>...</td>\n",
       "      <td>...</td>\n",
       "      <td>...</td>\n",
       "      <td>...</td>\n",
       "    </tr>\n",
       "    <tr>\n",
       "      <th>243791</th>\n",
       "      <td>5696608</td>\n",
       "      <td>2008-12-23 16:00:37</td>\n",
       "      <td>0</td>\n",
       "      <td>2804</td>\n",
       "    </tr>\n",
       "    <tr>\n",
       "      <th>243792</th>\n",
       "      <td>5696608</td>\n",
       "      <td>2008-12-23 17:35:09</td>\n",
       "      <td>0</td>\n",
       "      <td>2804</td>\n",
       "    </tr>\n",
       "    <tr>\n",
       "      <th>243793</th>\n",
       "      <td>5696608</td>\n",
       "      <td>2008-12-24 01:02:48</td>\n",
       "      <td>0</td>\n",
       "      <td>2804</td>\n",
       "    </tr>\n",
       "    <tr>\n",
       "      <th>243794</th>\n",
       "      <td>5696608</td>\n",
       "      <td>2008-12-30 14:34:45</td>\n",
       "      <td>0</td>\n",
       "      <td>2804</td>\n",
       "    </tr>\n",
       "    <tr>\n",
       "      <th>243795</th>\n",
       "      <td>5696608</td>\n",
       "      <td>2008-12-30 16:32:12</td>\n",
       "      <td>0</td>\n",
       "      <td>2804</td>\n",
       "    </tr>\n",
       "  </tbody>\n",
       "</table>\n",
       "<p>243796 rows × 4 columns</p>\n",
       "</div>"
      ],
      "text/plain": [
       "        user_id       creation_date  views_count     sum\n",
       "0             1 2008-07-31 23:41:00       480476  480476\n",
       "1             1 2008-07-31 23:55:38       136033  616509\n",
       "2             1 2008-07-31 23:56:41            0  616509\n",
       "3             1 2008-08-04 02:45:08            0  616509\n",
       "4             1 2008-08-04 04:31:03            0  616509\n",
       "...         ...                 ...          ...     ...\n",
       "243791  5696608 2008-12-23 16:00:37            0    2804\n",
       "243792  5696608 2008-12-23 17:35:09            0    2804\n",
       "243793  5696608 2008-12-24 01:02:48            0    2804\n",
       "243794  5696608 2008-12-30 14:34:45            0    2804\n",
       "243795  5696608 2008-12-30 16:32:12            0    2804\n",
       "\n",
       "[243796 rows x 4 columns]"
      ]
     },
     "execution_count": 12,
     "metadata": {},
     "output_type": "execute_result"
    }
   ],
   "source": [
    "# напишите запрос\n",
    "query = '''\n",
    "SELECT user_id,\n",
    "    creation_date,\n",
    "    views_count,\n",
    "    SUM(views_count) OVER(PARTITION BY user_id ORDER BY creation_date)\n",
    "FROM stackoverflow.posts\n",
    "ORDER BY user_id;\n",
    "'''\n",
    "\n",
    "# выполните запрос\n",
    "posts = pd.read_sql_query(query, con=engine)\n",
    "posts"
   ]
  },
  {
   "cell_type": "markdown",
   "metadata": {
    "id": "N0kHRHvIDWK2"
   },
   "source": [
    "# Задание 5"
   ]
  },
  {
   "cell_type": "markdown",
   "metadata": {
    "id": "gBgvmPtODWK2"
   },
   "source": [
    "Найдите среднее количество постов пользователей в день за август 2008 года. Отберите данные о пользователях, которые опубликовали больше 120 постов за август. Дни без публикаций не учитывайте. \n",
    "\n",
    "Отсортируйте результат по возрастанию среднего количества постов. Значения можно не округлять."
   ]
  },
  {
   "cell_type": "markdown",
   "metadata": {
    "id": "nfzR08BODWK3"
   },
   "source": [
    "| user_id | avg_daily |\n",
    "| ------- | --------- |\n",
    "| 116     | 4.777778  |\n",
    "| 234     | 5.208333  |\n",
    "| ...     | ... |"
   ]
  },
  {
   "cell_type": "code",
   "execution_count": 13,
   "metadata": {
    "id": "YFyPNz5GDWK3"
   },
   "outputs": [
    {
     "data": {
      "text/html": [
       "<div>\n",
       "<style scoped>\n",
       "    .dataframe tbody tr th:only-of-type {\n",
       "        vertical-align: middle;\n",
       "    }\n",
       "\n",
       "    .dataframe tbody tr th {\n",
       "        vertical-align: top;\n",
       "    }\n",
       "\n",
       "    .dataframe thead th {\n",
       "        text-align: right;\n",
       "    }\n",
       "</style>\n",
       "<table border=\"1\" class=\"dataframe\">\n",
       "  <thead>\n",
       "    <tr style=\"text-align: right;\">\n",
       "      <th></th>\n",
       "      <th>user_id</th>\n",
       "      <th>avg_daily</th>\n",
       "    </tr>\n",
       "  </thead>\n",
       "  <tbody>\n",
       "    <tr>\n",
       "      <th>0</th>\n",
       "      <td>116</td>\n",
       "      <td>4.777778</td>\n",
       "    </tr>\n",
       "    <tr>\n",
       "      <th>1</th>\n",
       "      <td>234</td>\n",
       "      <td>5.208333</td>\n",
       "    </tr>\n",
       "    <tr>\n",
       "      <th>2</th>\n",
       "      <td>91</td>\n",
       "      <td>5.681818</td>\n",
       "    </tr>\n",
       "    <tr>\n",
       "      <th>3</th>\n",
       "      <td>905</td>\n",
       "      <td>7.000000</td>\n",
       "    </tr>\n",
       "    <tr>\n",
       "      <th>4</th>\n",
       "      <td>383</td>\n",
       "      <td>7.277778</td>\n",
       "    </tr>\n",
       "  </tbody>\n",
       "</table>\n",
       "</div>"
      ],
      "text/plain": [
       "   user_id  avg_daily\n",
       "0      116   4.777778\n",
       "1      234   5.208333\n",
       "2       91   5.681818\n",
       "3      905   7.000000\n",
       "4      383   7.277778"
      ]
     },
     "execution_count": 13,
     "metadata": {},
     "output_type": "execute_result"
    }
   ],
   "source": [
    "# напишите запрос\n",
    "query = '''\n",
    "WITH aug_user_day_count AS\n",
    "    (WITH aug_stat AS\n",
    "        (SELECT DISTINCT user_id,\n",
    "            COUNT(id) AS num_of_posts\n",
    "        FROM stackoverflow.posts\n",
    "        WHERE (creation_date::date >= '2008-08-01') AND (creation_date::date <= '2008-08-31')\n",
    "        GROUP BY user_id\n",
    "        HAVING COUNT(id) > 120)\n",
    "    SELECT p.user_id,\n",
    "         DATE_TRUNC('day', p.creation_date),\n",
    "         COUNT(p.id) AS num_of_posts\n",
    "    FROM stackoverflow.posts AS p\n",
    "    JOIN aug_stat AS a ON p.user_id = a.user_id\n",
    "    WHERE (p.creation_date::date >= '2008-08-01') AND (p.creation_date::date <= '2008-08-31')\n",
    "    GROUP BY p.user_id, DATE_TRUNC('day', p.creation_date)\n",
    "    ORDER BY p.user_id)\n",
    "SELECT user_id,\n",
    "    SUM(num_of_posts) / COUNT(date_trunc) AS avg_daily\n",
    "FROM aug_user_day_count\n",
    "GROUP BY user_id\n",
    "ORDER BY avg_daily;\n",
    "'''\n",
    "\n",
    "# выполните запрос\n",
    "posts_in_august = pd.read_sql_query(query, con=engine)\n",
    "posts_in_august"
   ]
  },
  {
   "cell_type": "markdown",
   "metadata": {
    "id": "EQ0dcFH4DWK5"
   },
   "source": [
    "# Задание 6"
   ]
  },
  {
   "cell_type": "markdown",
   "metadata": {
    "id": "c7flfg_hDWK5"
   },
   "source": [
    "Сколько в среднем дней в период с 1 по 7 декабря 2008 года пользователи взаимодействовали с платформой? Для каждого пользователя отберите дни, в которые он или она опубликовали хотя бы один пост. Нужно получить одно целое число — не забудьте округлить результат. "
   ]
  },
  {
   "cell_type": "markdown",
   "metadata": {
    "id": "RC1Ibzm9DWK6"
   },
   "source": [
    "| result |\n",
    "| -----  |\n",
    "| <целое число> |"
   ]
  },
  {
   "cell_type": "code",
   "execution_count": 14,
   "metadata": {
    "id": "kZ7LXTr6DWK6"
   },
   "outputs": [
    {
     "data": {
      "text/html": [
       "<div>\n",
       "<style scoped>\n",
       "    .dataframe tbody tr th:only-of-type {\n",
       "        vertical-align: middle;\n",
       "    }\n",
       "\n",
       "    .dataframe tbody tr th {\n",
       "        vertical-align: top;\n",
       "    }\n",
       "\n",
       "    .dataframe thead th {\n",
       "        text-align: right;\n",
       "    }\n",
       "</style>\n",
       "<table border=\"1\" class=\"dataframe\">\n",
       "  <thead>\n",
       "    <tr style=\"text-align: right;\">\n",
       "      <th></th>\n",
       "      <th>round</th>\n",
       "    </tr>\n",
       "  </thead>\n",
       "  <tbody>\n",
       "    <tr>\n",
       "      <th>0</th>\n",
       "      <td>2.0</td>\n",
       "    </tr>\n",
       "  </tbody>\n",
       "</table>\n",
       "</div>"
      ],
      "text/plain": [
       "   round\n",
       "0    2.0"
      ]
     },
     "execution_count": 14,
     "metadata": {},
     "output_type": "execute_result"
    }
   ],
   "source": [
    "# напишите запрос\n",
    "query = '''\n",
    "WITH week_stat AS\n",
    "    (SELECT user_id,\n",
    "        COUNT(DISTINCT DATE_TRUNC('day', creation_date))\n",
    "    FROM stackoverflow.posts\n",
    "    WHERE (creation_date::date >= '2008-12-01') AND (creation_date::date <= '2008-12-07')\n",
    "    GROUP BY user_id)\n",
    "SELECT ROUND(AVG(count))\n",
    "FROM week_stat;\n",
    "'''\n",
    "\n",
    "# выполните запрос\n",
    "pd.read_sql_query(query, con=engine)"
   ]
  },
  {
   "cell_type": "markdown",
   "metadata": {
    "id": "UJFtNNggDWK7"
   },
   "source": [
    "Проанализируйте итоговую таблицу — какие выводы можно сделать?"
   ]
  },
  {
   "cell_type": "markdown",
   "metadata": {
    "id": "LfUuYz-1DWK8"
   },
   "source": [
    "**Вывод**\n",
    "\n",
    "В первую неделю декабря 2008 года пользователи обращались к Stackoverflow в среднем 2 дня в неделю."
   ]
  },
  {
   "cell_type": "markdown",
   "metadata": {
    "id": "wfOmqmfLDWK8"
   },
   "source": [
    "# Задание 7"
   ]
  },
  {
   "cell_type": "markdown",
   "metadata": {
    "id": "X4ARQimADWK9"
   },
   "source": [
    "Выведите историю активности каждого пользователя в таком виде: идентификатор пользователя, дата публикации поста. Отсортируйте вывод по возрастанию идентификаторов пользователей, а для каждого пользователя — по возрастанию даты публикации.\n",
    "\n",
    "Добавьте в таблицу новое поле: для каждого поста в нём будет указано название месяца предпоследней публикации пользователя относительно текущей. Если такой публикации нет, укажите `NULL`.  Python автоматически поменяет `NULL` на `None`, но дополнительно преобразовывать значения `None` вам не нужно.\n",
    "\n",
    "Посмотрите внимательно на образец таблицы: для первых двух постов предпоследней публикации нет, но, начиная с третьего поста, в новое поле входит нужный месяц. Для следующего пользователя в первые две записи поля `second_last_month` тоже войдёт `NULL`."
   ]
  },
  {
   "cell_type": "markdown",
   "metadata": {
    "id": "IGPjRP01DWK9"
   },
   "source": [
    "| user_id | creation_date | second_last_month |\n",
    "| ------- | ------------- | ----------------- |\n",
    "| 1       | 2008-07-31 23:41:00 | None |\n",
    "| 1       | 2008-07-31 23:55:38 | None |\n",
    "| 1       | 2008-07-31 23:56:41 | July |\n",
    "| 1       | 2008-08-04 02:45:08 | July |\n",
    "| 1       | 2008-08-04 04:31:03 | July |\n",
    "| 1       | 2008-08-04 08:04:42 | August |\n",
    "| ... | ... | ... |"
   ]
  },
  {
   "cell_type": "code",
   "execution_count": 15,
   "metadata": {},
   "outputs": [
    {
     "data": {
      "text/html": [
       "<div>\n",
       "<style scoped>\n",
       "    .dataframe tbody tr th:only-of-type {\n",
       "        vertical-align: middle;\n",
       "    }\n",
       "\n",
       "    .dataframe tbody tr th {\n",
       "        vertical-align: top;\n",
       "    }\n",
       "\n",
       "    .dataframe thead th {\n",
       "        text-align: right;\n",
       "    }\n",
       "</style>\n",
       "<table border=\"1\" class=\"dataframe\">\n",
       "  <thead>\n",
       "    <tr style=\"text-align: right;\">\n",
       "      <th></th>\n",
       "      <th>user_id</th>\n",
       "      <th>creation_date</th>\n",
       "      <th>to_char</th>\n",
       "    </tr>\n",
       "  </thead>\n",
       "  <tbody>\n",
       "    <tr>\n",
       "      <th>0</th>\n",
       "      <td>1</td>\n",
       "      <td>2008-07-31 23:41:00</td>\n",
       "      <td>None</td>\n",
       "    </tr>\n",
       "    <tr>\n",
       "      <th>1</th>\n",
       "      <td>1</td>\n",
       "      <td>2008-07-31 23:55:38</td>\n",
       "      <td>None</td>\n",
       "    </tr>\n",
       "    <tr>\n",
       "      <th>2</th>\n",
       "      <td>1</td>\n",
       "      <td>2008-07-31 23:56:41</td>\n",
       "      <td>July</td>\n",
       "    </tr>\n",
       "    <tr>\n",
       "      <th>3</th>\n",
       "      <td>1</td>\n",
       "      <td>2008-08-04 02:45:08</td>\n",
       "      <td>July</td>\n",
       "    </tr>\n",
       "    <tr>\n",
       "      <th>4</th>\n",
       "      <td>1</td>\n",
       "      <td>2008-08-04 04:31:03</td>\n",
       "      <td>July</td>\n",
       "    </tr>\n",
       "    <tr>\n",
       "      <th>...</th>\n",
       "      <td>...</td>\n",
       "      <td>...</td>\n",
       "      <td>...</td>\n",
       "    </tr>\n",
       "    <tr>\n",
       "      <th>243791</th>\n",
       "      <td>5696608</td>\n",
       "      <td>2008-12-23 16:00:37</td>\n",
       "      <td>December</td>\n",
       "    </tr>\n",
       "    <tr>\n",
       "      <th>243792</th>\n",
       "      <td>5696608</td>\n",
       "      <td>2008-12-23 17:35:09</td>\n",
       "      <td>December</td>\n",
       "    </tr>\n",
       "    <tr>\n",
       "      <th>243793</th>\n",
       "      <td>5696608</td>\n",
       "      <td>2008-12-24 01:02:48</td>\n",
       "      <td>December</td>\n",
       "    </tr>\n",
       "    <tr>\n",
       "      <th>243794</th>\n",
       "      <td>5696608</td>\n",
       "      <td>2008-12-30 14:34:45</td>\n",
       "      <td>December</td>\n",
       "    </tr>\n",
       "    <tr>\n",
       "      <th>243795</th>\n",
       "      <td>5696608</td>\n",
       "      <td>2008-12-30 16:32:12</td>\n",
       "      <td>December</td>\n",
       "    </tr>\n",
       "  </tbody>\n",
       "</table>\n",
       "<p>243796 rows × 3 columns</p>\n",
       "</div>"
      ],
      "text/plain": [
       "        user_id       creation_date    to_char\n",
       "0             1 2008-07-31 23:41:00       None\n",
       "1             1 2008-07-31 23:55:38       None\n",
       "2             1 2008-07-31 23:56:41  July     \n",
       "3             1 2008-08-04 02:45:08  July     \n",
       "4             1 2008-08-04 04:31:03  July     \n",
       "...         ...                 ...        ...\n",
       "243791  5696608 2008-12-23 16:00:37  December \n",
       "243792  5696608 2008-12-23 17:35:09  December \n",
       "243793  5696608 2008-12-24 01:02:48  December \n",
       "243794  5696608 2008-12-30 14:34:45  December \n",
       "243795  5696608 2008-12-30 16:32:12  December \n",
       "\n",
       "[243796 rows x 3 columns]"
      ]
     },
     "execution_count": 15,
     "metadata": {},
     "output_type": "execute_result"
    }
   ],
   "source": [
    "query = '''\n",
    "SELECT user_id,\n",
    "    creation_date,\n",
    "    TO_CHAR(LAG(creation_date, 2, NULL) OVER (PARTITION BY user_id ORDER BY creation_date), 'Month')\n",
    "FROM stackoverflow.posts;\n",
    "'''\n",
    "\n",
    "# выполните запрос\n",
    "pd.read_sql_query(query, con=engine)"
   ]
  },
  {
   "cell_type": "markdown",
   "metadata": {
    "id": "tf9qq2yzDWK_"
   },
   "source": [
    "# Задание 8"
   ]
  },
  {
   "cell_type": "markdown",
   "metadata": {
    "id": "gfwLVXBYDWLA"
   },
   "source": [
    "Рассчитайте аналог Retention Rate по месяцам для пользователей StackOverflow. Объедините пользователей в когорты по месяцу их первого поста. Возвращение определяйте по наличию поста в текущем месяце. "
   ]
  },
  {
   "cell_type": "markdown",
   "metadata": {
    "id": "kN2ic39WlKpl"
   },
   "source": [
    "| cohort_dt | session_date | users_cnt | cohort_users_cnt | retention_rate |\n",
    "| --- | --- | --- | --- | --- |\n",
    "| 2008-07-01 00:00:00 | 2008-07-01 00:00:00 | 3 | 3 | 100 |\n",
    "| 2008-07-01 00:00:00 | 2008-08-01 00:00:00 | 2 | 3 | 66,67 |\n",
    "| 2008-07-01 00:00:00 | 2008-09-01 00:00:00 | 1 | 3 | 33,33 |\n",
    "| 2008-07-01 00:00:00 | 2008-10-01 00:00:00 | 2 | 3 | 66,67 |\n",
    "| 2008-07-01 00:00:00 | 2008-11-01 00:00:00 | 1 | 3 | 33,33 |\n",
    "| 2008-07-01 00:00:00 | 2008-12-01 00:00:00 | 2 | 3 | 66,67 |\n",
    "| 2008-08-01 00:00:00 | 2008-08-01 00:00:00 | 2151 | 2151 | 100 |\n",
    "| ... | ... | ... | ... | ... |"
   ]
  },
  {
   "cell_type": "code",
   "execution_count": 16,
   "metadata": {
    "id": "LUgFmwmTDWLB"
   },
   "outputs": [
    {
     "data": {
      "text/html": [
       "<div>\n",
       "<style scoped>\n",
       "    .dataframe tbody tr th:only-of-type {\n",
       "        vertical-align: middle;\n",
       "    }\n",
       "\n",
       "    .dataframe tbody tr th {\n",
       "        vertical-align: top;\n",
       "    }\n",
       "\n",
       "    .dataframe thead th {\n",
       "        text-align: right;\n",
       "    }\n",
       "</style>\n",
       "<table border=\"1\" class=\"dataframe\">\n",
       "  <thead>\n",
       "    <tr style=\"text-align: right;\">\n",
       "      <th></th>\n",
       "      <th>user_id</th>\n",
       "      <th>first_post_date</th>\n",
       "      <th>cohort_users_cnt</th>\n",
       "    </tr>\n",
       "  </thead>\n",
       "  <tbody>\n",
       "    <tr>\n",
       "      <th>0</th>\n",
       "      <td>9</td>\n",
       "      <td>2008-07-01</td>\n",
       "      <td>3</td>\n",
       "    </tr>\n",
       "    <tr>\n",
       "      <th>1</th>\n",
       "      <td>1</td>\n",
       "      <td>2008-07-01</td>\n",
       "      <td>3</td>\n",
       "    </tr>\n",
       "    <tr>\n",
       "      <th>2</th>\n",
       "      <td>8</td>\n",
       "      <td>2008-07-01</td>\n",
       "      <td>3</td>\n",
       "    </tr>\n",
       "    <tr>\n",
       "      <th>3</th>\n",
       "      <td>3234</td>\n",
       "      <td>2008-08-01</td>\n",
       "      <td>2151</td>\n",
       "    </tr>\n",
       "    <tr>\n",
       "      <th>4</th>\n",
       "      <td>3236</td>\n",
       "      <td>2008-08-01</td>\n",
       "      <td>2151</td>\n",
       "    </tr>\n",
       "  </tbody>\n",
       "</table>\n",
       "</div>"
      ],
      "text/plain": [
       "   user_id first_post_date  cohort_users_cnt\n",
       "0        9      2008-07-01                 3\n",
       "1        1      2008-07-01                 3\n",
       "2        8      2008-07-01                 3\n",
       "3     3234      2008-08-01              2151\n",
       "4     3236      2008-08-01              2151"
      ]
     },
     "execution_count": 16,
     "metadata": {},
     "output_type": "execute_result"
    }
   ],
   "source": [
    "# выделим подзапрос для подсчета количества пользователей каждой когорты\n",
    "query = '''\n",
    "WITH first_posts AS\n",
    "    (SELECT DISTINCT user_id,\n",
    "        MIN(DATE_TRUNC('month', creation_date)) OVER (PARTITION BY user_id) AS first_post_date\n",
    "    FROM stackoverflow.posts) \n",
    "SELECT user_id,\n",
    "    first_post_date,\n",
    "    COUNT(*) OVER (PARTITION BY first_post_date) AS cohort_users_cnt\n",
    "FROM first_posts;\n",
    "'''\n",
    "\n",
    "# выполните запрос\n",
    "profile = pd.read_sql_query(query, con = engine)\n",
    "profile.head()"
   ]
  },
  {
   "cell_type": "code",
   "execution_count": 17,
   "metadata": {},
   "outputs": [
    {
     "data": {
      "text/html": [
       "<div>\n",
       "<style scoped>\n",
       "    .dataframe tbody tr th:only-of-type {\n",
       "        vertical-align: middle;\n",
       "    }\n",
       "\n",
       "    .dataframe tbody tr th {\n",
       "        vertical-align: top;\n",
       "    }\n",
       "\n",
       "    .dataframe thead th {\n",
       "        text-align: right;\n",
       "    }\n",
       "</style>\n",
       "<table border=\"1\" class=\"dataframe\">\n",
       "  <thead>\n",
       "    <tr style=\"text-align: right;\">\n",
       "      <th></th>\n",
       "      <th>user_id</th>\n",
       "      <th>post_date</th>\n",
       "    </tr>\n",
       "  </thead>\n",
       "  <tbody>\n",
       "    <tr>\n",
       "      <th>0</th>\n",
       "      <td>8</td>\n",
       "      <td>2008-07-31</td>\n",
       "    </tr>\n",
       "    <tr>\n",
       "      <th>1</th>\n",
       "      <td>9</td>\n",
       "      <td>2008-07-31</td>\n",
       "    </tr>\n",
       "    <tr>\n",
       "      <th>2</th>\n",
       "      <td>9</td>\n",
       "      <td>2008-07-31</td>\n",
       "    </tr>\n",
       "    <tr>\n",
       "      <th>3</th>\n",
       "      <td>1</td>\n",
       "      <td>2008-07-31</td>\n",
       "    </tr>\n",
       "    <tr>\n",
       "      <th>4</th>\n",
       "      <td>1</td>\n",
       "      <td>2008-07-31</td>\n",
       "    </tr>\n",
       "  </tbody>\n",
       "</table>\n",
       "</div>"
      ],
      "text/plain": [
       "   user_id   post_date\n",
       "0        8  2008-07-31\n",
       "1        9  2008-07-31\n",
       "2        9  2008-07-31\n",
       "3        1  2008-07-31\n",
       "4        1  2008-07-31"
      ]
     },
     "execution_count": 17,
     "metadata": {},
     "output_type": "execute_result"
    }
   ],
   "source": [
    "# выделим подзапрос со статистикой постов пользователей\n",
    "query = '''\n",
    "SELECT user_id,\n",
    "    creation_date::date AS post_date\n",
    "FROM stackoverflow.posts;\n",
    "'''\n",
    "\n",
    "# выполните запрос\n",
    "sessions = pd.read_sql_query(query, con = engine)\n",
    "sessions.head()"
   ]
  },
  {
   "cell_type": "code",
   "execution_count": 18,
   "metadata": {},
   "outputs": [
    {
     "data": {
      "text/html": [
       "<div>\n",
       "<style scoped>\n",
       "    .dataframe tbody tr th:only-of-type {\n",
       "        vertical-align: middle;\n",
       "    }\n",
       "\n",
       "    .dataframe tbody tr th {\n",
       "        vertical-align: top;\n",
       "    }\n",
       "\n",
       "    .dataframe thead th {\n",
       "        text-align: right;\n",
       "    }\n",
       "</style>\n",
       "<table border=\"1\" class=\"dataframe\">\n",
       "  <thead>\n",
       "    <tr style=\"text-align: right;\">\n",
       "      <th></th>\n",
       "      <th>cohort_dt</th>\n",
       "      <th>post_date</th>\n",
       "      <th>users_cnt</th>\n",
       "      <th>cohort_users_cnt</th>\n",
       "      <th>retention_rate</th>\n",
       "    </tr>\n",
       "  </thead>\n",
       "  <tbody>\n",
       "    <tr>\n",
       "      <th>0</th>\n",
       "      <td>2008-07-01</td>\n",
       "      <td>2008-07-01</td>\n",
       "      <td>3</td>\n",
       "      <td>3</td>\n",
       "      <td>100.00</td>\n",
       "    </tr>\n",
       "    <tr>\n",
       "      <th>1</th>\n",
       "      <td>2008-07-01</td>\n",
       "      <td>2008-08-01</td>\n",
       "      <td>2</td>\n",
       "      <td>3</td>\n",
       "      <td>66.67</td>\n",
       "    </tr>\n",
       "    <tr>\n",
       "      <th>2</th>\n",
       "      <td>2008-07-01</td>\n",
       "      <td>2008-09-01</td>\n",
       "      <td>1</td>\n",
       "      <td>3</td>\n",
       "      <td>33.33</td>\n",
       "    </tr>\n",
       "    <tr>\n",
       "      <th>3</th>\n",
       "      <td>2008-07-01</td>\n",
       "      <td>2008-10-01</td>\n",
       "      <td>2</td>\n",
       "      <td>3</td>\n",
       "      <td>66.67</td>\n",
       "    </tr>\n",
       "    <tr>\n",
       "      <th>4</th>\n",
       "      <td>2008-07-01</td>\n",
       "      <td>2008-11-01</td>\n",
       "      <td>1</td>\n",
       "      <td>3</td>\n",
       "      <td>33.33</td>\n",
       "    </tr>\n",
       "    <tr>\n",
       "      <th>5</th>\n",
       "      <td>2008-07-01</td>\n",
       "      <td>2008-12-01</td>\n",
       "      <td>2</td>\n",
       "      <td>3</td>\n",
       "      <td>66.67</td>\n",
       "    </tr>\n",
       "    <tr>\n",
       "      <th>6</th>\n",
       "      <td>2008-08-01</td>\n",
       "      <td>2008-08-01</td>\n",
       "      <td>2151</td>\n",
       "      <td>2151</td>\n",
       "      <td>100.00</td>\n",
       "    </tr>\n",
       "    <tr>\n",
       "      <th>7</th>\n",
       "      <td>2008-08-01</td>\n",
       "      <td>2008-09-01</td>\n",
       "      <td>1571</td>\n",
       "      <td>2151</td>\n",
       "      <td>73.04</td>\n",
       "    </tr>\n",
       "    <tr>\n",
       "      <th>8</th>\n",
       "      <td>2008-08-01</td>\n",
       "      <td>2008-10-01</td>\n",
       "      <td>1275</td>\n",
       "      <td>2151</td>\n",
       "      <td>59.27</td>\n",
       "    </tr>\n",
       "    <tr>\n",
       "      <th>9</th>\n",
       "      <td>2008-08-01</td>\n",
       "      <td>2008-11-01</td>\n",
       "      <td>1050</td>\n",
       "      <td>2151</td>\n",
       "      <td>48.81</td>\n",
       "    </tr>\n",
       "  </tbody>\n",
       "</table>\n",
       "</div>"
      ],
      "text/plain": [
       "   cohort_dt  post_date  users_cnt  cohort_users_cnt  retention_rate\n",
       "0 2008-07-01 2008-07-01          3                 3          100.00\n",
       "1 2008-07-01 2008-08-01          2                 3           66.67\n",
       "2 2008-07-01 2008-09-01          1                 3           33.33\n",
       "3 2008-07-01 2008-10-01          2                 3           66.67\n",
       "4 2008-07-01 2008-11-01          1                 3           33.33\n",
       "5 2008-07-01 2008-12-01          2                 3           66.67\n",
       "6 2008-08-01 2008-08-01       2151              2151          100.00\n",
       "7 2008-08-01 2008-09-01       1571              2151           73.04\n",
       "8 2008-08-01 2008-10-01       1275              2151           59.27\n",
       "9 2008-08-01 2008-11-01       1050              2151           48.81"
      ]
     },
     "execution_count": 18,
     "metadata": {},
     "output_type": "execute_result"
    }
   ],
   "source": [
    "# вычисляем Retention Rate\n",
    "query = '''\n",
    "WITH profile AS\n",
    "    (WITH first_posts AS\n",
    "        (SELECT DISTINCT user_id,\n",
    "            MIN(DATE_TRUNC('month', creation_date)) OVER (PARTITION BY user_id) AS first_post_date\n",
    "        FROM stackoverflow.posts) \n",
    "    SELECT user_id,\n",
    "        first_post_date,\n",
    "        COUNT(*) OVER (PARTITION BY first_post_date) AS cohort_users_cnt\n",
    "    FROM first_posts),\n",
    "sessions AS \n",
    "    (SELECT user_id,\n",
    "        DATE_TRUNC('month', creation_date) AS post_date\n",
    "    FROM stackoverflow.posts\n",
    "    GROUP BY 1,\n",
    "             2)\n",
    "SELECT p.first_post_date AS cohort_dt,\n",
    "       post_date,\n",
    "       COUNT(p.user_id) AS users_cnt,\n",
    "       cohort_users_cnt,\n",
    "       ROUND(COUNT(p.user_id) * 100.0 / cohort_users_cnt, 2) AS retention_rate\n",
    "FROM profile p\n",
    "JOIN sessions s ON p.user_id = s.user_id\n",
    "GROUP BY 1,\n",
    "         2,\n",
    "         4;\n",
    "'''\n",
    "\n",
    "# выполните запрос\n",
    "retention_rate_df = pd.read_sql_query(query, con = engine)\n",
    "retention_rate_df.head(10)"
   ]
  },
  {
   "cell_type": "markdown",
   "metadata": {
    "id": "_msBtnb2DWLC"
   },
   "source": [
    "Постройте тепловую карту Retention Rate. Какие аномалии или другие необычные явления удалось выявить? Сформулируйте гипотезы о возможных причинах."
   ]
  },
  {
   "cell_type": "code",
   "execution_count": 19,
   "metadata": {
    "id": "qAEJc8H1DWLC"
   },
   "outputs": [
    {
     "data": {
      "image/png": "[encoded data removed]",
      "text/plain": [
       "<Figure size 1008x1008 with 2 Axes>"
      ]
     },
     "metadata": {
      "needs_background": "light"
     },
     "output_type": "display_data"
    }
   ],
   "source": [
    "# постройте тепловую карту Retention Rate\n",
    "\n",
    "# создаём сводную таблицу с результатами\n",
    "retention = retention_rate_df.pivot('cohort_dt', 'post_date', 'retention_rate')\n",
    "retention.index = [str(x)[0:10] for x in retention.index]\n",
    "retention.columns = [str(x)[0:10] for x in retention.columns]\n",
    "\n",
    "# строим хитмэп\n",
    "plt.figure(figsize=(14, 14)) # задаём размер графика\n",
    "sns.heatmap(retention, # датафрейм с данными\n",
    "            annot=True, # добавляем подписи\n",
    "            fmt='') # задаём исходный формат\n",
    "plt.title('Retention Rate пользователей Stackoverflow') # название графика\n",
    "plt.show() "
   ]
  },
  {
   "cell_type": "markdown",
   "metadata": {
    "id": "EgOfIsI4DWLC"
   },
   "source": [
    "**Вывод**\n",
    "\n",
    "**Аномалии или другие необычные явления и сформулируйте гипотезы**\n",
    "\n",
    "На тепловой карте видно, что в целом Retention Rate пользователей Stackoverflow снижается по месяцам. Исключение составляет первая когорта пользователей, где Retention Rate попеременно принимает значения 33,33 и 66,67. Причиной такой аномалии скорее всего является малая численность первой когорты – всего 3 человека.\n",
    "\n",
    "Кроме того, процент возврата во втором месяце самый высокий в первой когорте и последовательно снижается в каждой следующей.\n"
   ]
  },
  {
   "cell_type": "markdown",
   "metadata": {
    "id": "1k7oPWt5DWLK"
   },
   "source": [
    "# Задание 9\n"
   ]
  },
  {
   "cell_type": "markdown",
   "metadata": {
    "id": "ALsYVSyRDWLM"
   },
   "source": [
    "На сколько процентов менялось количество постов ежемесячно с 1 сентября по 31 декабря 2008 года? Отобразите таблицу со следующими полями:\n",
    "\n",
    "- номер месяца;\n",
    "- количество постов за месяц;\n",
    "- процент, который показывает, насколько изменилось количество постов в текущем месяце по сравнению с предыдущим.\n",
    "\n",
    "Если постов стало меньше, значение процента должно быть отрицательным, если больше — положительным. Округлите значение процента до двух знаков после запятой.\n",
    "\n",
    "Напомним, что при делении одного целого числа на другое в PostgreSQL в результате получится целое число, округлённое до ближайшего целого вниз. Чтобы этого избежать, переведите делимое в тип `numeric`."
   ]
  },
  {
   "cell_type": "markdown",
   "metadata": {
    "id": "u4E2zF8DDWLM"
   },
   "source": [
    "| creation_month | posts_count | percentage |\n",
    "| -------------- | ----------- | ---------- |\n",
    "| 9 | 70731 | Nan |\n",
    "| 10 | 63102 | -10.33 |\n",
    "| ... | ... | ... |"
   ]
  },
  {
   "cell_type": "code",
   "execution_count": 20,
   "metadata": {
    "id": "Mb5pShStDWLN"
   },
   "outputs": [
    {
     "data": {
      "text/html": [
       "<div>\n",
       "<style scoped>\n",
       "    .dataframe tbody tr th:only-of-type {\n",
       "        vertical-align: middle;\n",
       "    }\n",
       "\n",
       "    .dataframe tbody tr th {\n",
       "        vertical-align: top;\n",
       "    }\n",
       "\n",
       "    .dataframe thead th {\n",
       "        text-align: right;\n",
       "    }\n",
       "</style>\n",
       "<table border=\"1\" class=\"dataframe\">\n",
       "  <thead>\n",
       "    <tr style=\"text-align: right;\">\n",
       "      <th></th>\n",
       "      <th>month</th>\n",
       "      <th>num_of_posts</th>\n",
       "      <th>percentage</th>\n",
       "    </tr>\n",
       "  </thead>\n",
       "  <tbody>\n",
       "    <tr>\n",
       "      <th>0</th>\n",
       "      <td>9.0</td>\n",
       "      <td>70371</td>\n",
       "      <td>NaN</td>\n",
       "    </tr>\n",
       "    <tr>\n",
       "      <th>1</th>\n",
       "      <td>10.0</td>\n",
       "      <td>63102</td>\n",
       "      <td>-10.33</td>\n",
       "    </tr>\n",
       "    <tr>\n",
       "      <th>2</th>\n",
       "      <td>11.0</td>\n",
       "      <td>46975</td>\n",
       "      <td>-25.56</td>\n",
       "    </tr>\n",
       "    <tr>\n",
       "      <th>3</th>\n",
       "      <td>12.0</td>\n",
       "      <td>44592</td>\n",
       "      <td>-5.07</td>\n",
       "    </tr>\n",
       "  </tbody>\n",
       "</table>\n",
       "</div>"
      ],
      "text/plain": [
       "   month  num_of_posts  percentage\n",
       "0    9.0         70371         NaN\n",
       "1   10.0         63102      -10.33\n",
       "2   11.0         46975      -25.56\n",
       "3   12.0         44592       -5.07"
      ]
     },
     "execution_count": 20,
     "metadata": {},
     "output_type": "execute_result"
    }
   ],
   "source": [
    "# напишите запрос\n",
    "query = '''\n",
    "WITH monthly_stat AS\n",
    "    (SELECT DISTINCT EXTRACT(MONTH FROM creation_date) AS month,\n",
    "        COUNT(id) OVER (PARTITION BY EXTRACT(MONTH FROM creation_date)) AS num_of_posts\n",
    "    FROM stackoverflow.posts\n",
    "    WHERE (creation_date::date >= '2008-09-01') AND (creation_date::date <= '2008-12-31')\n",
    "    )\n",
    "SELECT month,\n",
    "    num_of_posts,\n",
    "    ROUND((num_of_posts - (LAG(num_of_posts, 1, NULL) OVER ())) / CAST ( LAG(num_of_posts, 1, NULL) OVER () AS numeric) * 100, 2) AS percentage\n",
    "FROM monthly_stat;\n",
    "'''\n",
    "\n",
    "# выполните запрос\n",
    "posts_monthly = pd.read_sql_query(query, con = engine)\n",
    "posts_monthly"
   ]
  },
  {
   "cell_type": "markdown",
   "metadata": {
    "id": "9NQE2y_MDWLP"
   },
   "source": [
    "Постройте круговую диаграмму с количеством постов по месяцам."
   ]
  },
  {
   "cell_type": "code",
   "execution_count": 21,
   "metadata": {
    "id": "377ABjiVDWLP"
   },
   "outputs": [
    {
     "data": {
      "image/png": "[encoded data removed]",
      "text/plain": [
       "<Figure size 864x432 with 1 Axes>"
      ]
     },
     "metadata": {},
     "output_type": "display_data"
    }
   ],
   "source": [
    "# постройте круговую диаграмму с количеством постов по месяцам\n",
    "posts_monthly.plot(\n",
    "    kind='pie', \n",
    "    labels = ['Сентябрь', 'Октябрь', 'Ноябрь', 'Декабрь'],\n",
    "    y='num_of_posts', \n",
    "    figsize = FIGSIZE,\n",
    "    colors = [\"#cc3300\", \"#ffcc00\", \"#99cc33\", \"#107dac\"],\n",
    "    title='Количество постов по месяцам',\n",
    "    autopct='%.2f%%'\n",
    ")\n",
    "plt.legend(loc='center left', bbox_to_anchor=(1.0, 0.5))\n",
    "plt.ylabel(\"\");"
   ]
  },
  {
   "cell_type": "markdown",
   "metadata": {
    "id": "uw7qMtafDWLP"
   },
   "source": [
    "# Задание 10"
   ]
  },
  {
   "cell_type": "markdown",
   "metadata": {
    "id": "oRBpWKx3DWLQ"
   },
   "source": [
    "Выгрузите данные активности пользователя, который опубликовал больше всего постов за всё время. Выведите данные за октябрь 2008 года в таком виде:\n",
    "\n",
    "- номер недели;\n",
    "- дата и время последнего поста, опубликованного на этой неделе."
   ]
  },
  {
   "cell_type": "markdown",
   "metadata": {
    "id": "XjAWSn_3DWLQ"
   },
   "source": [
    "| week_creation | creation_date |\n",
    "| ------------- | ------------- |\n",
    "| 40 | 2008-10-05 09:00:58 |\n",
    "| 41 | 2008-10-12 21:22:23 |\n",
    "| ... | ... |"
   ]
  },
  {
   "cell_type": "code",
   "execution_count": 22,
   "metadata": {
    "id": "r5F5fSkwDWLQ"
   },
   "outputs": [
    {
     "data": {
      "text/html": [
       "<div>\n",
       "<style scoped>\n",
       "    .dataframe tbody tr th:only-of-type {\n",
       "        vertical-align: middle;\n",
       "    }\n",
       "\n",
       "    .dataframe tbody tr th {\n",
       "        vertical-align: top;\n",
       "    }\n",
       "\n",
       "    .dataframe thead th {\n",
       "        text-align: right;\n",
       "    }\n",
       "</style>\n",
       "<table border=\"1\" class=\"dataframe\">\n",
       "  <thead>\n",
       "    <tr style=\"text-align: right;\">\n",
       "      <th></th>\n",
       "      <th>date_part</th>\n",
       "      <th>max</th>\n",
       "    </tr>\n",
       "  </thead>\n",
       "  <tbody>\n",
       "    <tr>\n",
       "      <th>0</th>\n",
       "      <td>40.0</td>\n",
       "      <td>2008-10-05 09:00:58</td>\n",
       "    </tr>\n",
       "    <tr>\n",
       "      <th>1</th>\n",
       "      <td>41.0</td>\n",
       "      <td>2008-10-12 21:22:23</td>\n",
       "    </tr>\n",
       "    <tr>\n",
       "      <th>2</th>\n",
       "      <td>42.0</td>\n",
       "      <td>2008-10-19 06:49:30</td>\n",
       "    </tr>\n",
       "    <tr>\n",
       "      <th>3</th>\n",
       "      <td>43.0</td>\n",
       "      <td>2008-10-26 21:44:36</td>\n",
       "    </tr>\n",
       "    <tr>\n",
       "      <th>4</th>\n",
       "      <td>44.0</td>\n",
       "      <td>2008-10-31 22:16:01</td>\n",
       "    </tr>\n",
       "  </tbody>\n",
       "</table>\n",
       "</div>"
      ],
      "text/plain": [
       "   date_part                 max\n",
       "0       40.0 2008-10-05 09:00:58\n",
       "1       41.0 2008-10-12 21:22:23\n",
       "2       42.0 2008-10-19 06:49:30\n",
       "3       43.0 2008-10-26 21:44:36\n",
       "4       44.0 2008-10-31 22:16:01"
      ]
     },
     "execution_count": 22,
     "metadata": {},
     "output_type": "execute_result"
    }
   ],
   "source": [
    "# напишите запрос\n",
    "query = '''\n",
    "WITH user_info AS\n",
    "    (SELECT user_id\n",
    "    FROM stackoverflow.posts\n",
    "    GROUP BY user_id\n",
    "    ORDER BY COUNT (id) DESC\n",
    "    LIMIT 1)\n",
    "SELECT DISTINCT EXTRACT(WEEK FROM creation_date),\n",
    "    MAX(creation_date) OVER (PARTITION BY EXTRACT(WEEK FROM creation_date))\n",
    "FROM stackoverflow.posts AS p\n",
    "JOIN user_info AS ui ON p.user_id = ui.user_id\n",
    "WHERE (creation_date::date >= '2008-10-01') AND (creation_date::date <= '2008-10-31')\n",
    "'''\n",
    "\n",
    "# выполните запрос\n",
    "pd.read_sql_query(query, con = engine)"
   ]
  },
  {
   "cell_type": "markdown",
   "metadata": {},
   "source": [
    "# Вывод"
   ]
  },
  {
   "cell_type": "markdown",
   "metadata": {},
   "source": [
    "Был **проведен анализ данных пользователей сайта Stackoverflow** за первые полгода его работы.\n",
    "\n",
    "В данных присутствуют **аномалии**: \n",
    "\n",
    "- у некоторых пользователей первый **пост опубликован до их регистрации на сайте**\n",
    "\n",
    "- правила Stackoverflow позволяют **разным пользователям иметь одинаковые отображаемые имена**, это требует аккуратности при подсчете пользовательской статистики.\n",
    "\n",
    "**Анализ поведения пользователей**.\n",
    "\n",
    "**Динамика просмотров** в первый год работы сайта. В первый месяц (июль) работы сайта количество просмотров самое маленькое. Дальше количество просмотров растет и достигает максимума в третьем месяце работы сайта (сентябрь). Затем происходит спад просмотров, что говорит о том, что пользователи стали привыкать к имеющемуся функционалу и посещать сайт только при возникновении необходимости.\n",
    "\n",
    "**Количество публикаций** с сентября по декабрь 2008 года постепенно уменьшается.\n",
    "\n",
    "**Возврат пользователей на сайт**. Для подсчета Retention Rate пользователей разбили на когорты по месяцу первой публикации. Retention Rate снижается по месяцам в каждой когорте. Кроме того, процент возврата во втором месяце самый высокий в первой когорте и последовательно снижается в каждой следующей.\n"
   ]
  },
  {
   "cell_type": "code",
   "execution_count": null,
   "metadata": {},
   "outputs": [],
   "source": []
  }
 ],
 "metadata": {
  "ExecuteTimeLog": [
   {
    "duration": 1074,
    "start_time": "2023-09-19T16:48:43.592Z"
   },
   {
    "duration": 5,
    "start_time": "2023-09-19T16:48:47.305Z"
   },
   {
    "duration": 12849,
    "start_time": "2023-09-19T16:48:49.671Z"
   },
   {
    "duration": 228,
    "start_time": "2023-09-19T16:49:05.545Z"
   },
   {
    "duration": 15,
    "start_time": "2023-09-19T16:49:07.878Z"
   },
   {
    "duration": 1748,
    "start_time": "2023-09-19T16:52:33.298Z"
   },
   {
    "duration": 1658,
    "start_time": "2023-09-19T16:52:41.532Z"
   },
   {
    "duration": 1678,
    "start_time": "2023-09-19T17:02:01.451Z"
   },
   {
    "duration": 803,
    "start_time": "2023-09-19T17:02:52.435Z"
   },
   {
    "duration": 257,
    "start_time": "2023-09-19T17:03:06.485Z"
   },
   {
    "duration": 175,
    "start_time": "2023-09-19T17:03:38.464Z"
   },
   {
    "duration": 284,
    "start_time": "2023-09-19T17:06:06.264Z"
   },
   {
    "duration": 266,
    "start_time": "2023-09-19T17:06:19.763Z"
   },
   {
    "duration": 265,
    "start_time": "2023-09-19T17:06:49.407Z"
   },
   {
    "duration": 285,
    "start_time": "2023-09-19T17:06:59.190Z"
   },
   {
    "duration": 265,
    "start_time": "2023-09-19T17:07:06.472Z"
   },
   {
    "duration": 154,
    "start_time": "2023-09-19T17:07:31.932Z"
   },
   {
    "duration": 273,
    "start_time": "2023-09-19T17:08:04.617Z"
   },
   {
    "duration": 67,
    "start_time": "2023-09-19T17:09:22.305Z"
   },
   {
    "duration": 358,
    "start_time": "2023-09-19T17:09:31.418Z"
   },
   {
    "duration": 52,
    "start_time": "2023-09-19T17:09:59.459Z"
   },
   {
    "duration": 137,
    "start_time": "2023-09-19T17:21:02.452Z"
   },
   {
    "duration": 173,
    "start_time": "2023-09-19T17:21:10.892Z"
   },
   {
    "duration": 188,
    "start_time": "2023-09-19T17:21:36.599Z"
   },
   {
    "duration": 180,
    "start_time": "2023-09-19T17:21:40.792Z"
   },
   {
    "duration": 139,
    "start_time": "2023-09-19T17:22:08.714Z"
   },
   {
    "duration": 145,
    "start_time": "2023-09-19T17:23:34.022Z"
   },
   {
    "duration": 215,
    "start_time": "2023-09-19T17:23:40.926Z"
   },
   {
    "duration": 126,
    "start_time": "2023-09-19T17:23:48.910Z"
   },
   {
    "duration": 263,
    "start_time": "2023-09-19T17:23:51.808Z"
   },
   {
    "duration": 151,
    "start_time": "2023-09-19T17:23:54.240Z"
   },
   {
    "duration": 14,
    "start_time": "2023-09-19T17:24:12.122Z"
   },
   {
    "duration": 4,
    "start_time": "2023-09-19T17:24:15.084Z"
   },
   {
    "duration": 6,
    "start_time": "2023-09-19T17:25:14.545Z"
   },
   {
    "duration": 5,
    "start_time": "2023-09-19T17:25:15.400Z"
   },
   {
    "duration": 150,
    "start_time": "2023-09-19T17:26:36.370Z"
   },
   {
    "duration": 3,
    "start_time": "2023-09-19T17:27:02.771Z"
   },
   {
    "duration": 179,
    "start_time": "2023-09-19T17:27:25.816Z"
   },
   {
    "duration": 5,
    "start_time": "2023-09-19T17:27:37.060Z"
   },
   {
    "duration": 188,
    "start_time": "2023-09-19T17:27:41.434Z"
   },
   {
    "duration": 4,
    "start_time": "2023-09-19T17:27:52.331Z"
   },
   {
    "duration": 229,
    "start_time": "2023-09-19T17:27:55.642Z"
   },
   {
    "duration": 202,
    "start_time": "2023-09-19T17:28:43.296Z"
   },
   {
    "duration": 61,
    "start_time": "2023-09-19T17:28:56.099Z"
   },
   {
    "duration": 159,
    "start_time": "2023-09-19T17:29:15.364Z"
   },
   {
    "duration": 64,
    "start_time": "2023-09-19T17:30:15.747Z"
   },
   {
    "duration": 172,
    "start_time": "2023-09-19T17:30:22.884Z"
   },
   {
    "duration": 291,
    "start_time": "2023-09-19T17:31:10.738Z"
   },
   {
    "duration": 197,
    "start_time": "2023-09-19T17:31:43.437Z"
   },
   {
    "duration": 994,
    "start_time": "2023-09-21T15:38:49.931Z"
   },
   {
    "duration": 4,
    "start_time": "2023-09-21T15:38:53.627Z"
   },
   {
    "duration": 12198,
    "start_time": "2023-09-21T15:38:55.828Z"
   },
   {
    "duration": 252,
    "start_time": "2023-09-21T15:39:26.664Z"
   },
   {
    "duration": 15,
    "start_time": "2023-09-21T15:39:27.472Z"
   },
   {
    "duration": 275,
    "start_time": "2023-09-21T15:39:34.704Z"
   },
   {
    "duration": 207,
    "start_time": "2023-09-21T15:39:35.873Z"
   },
   {
    "duration": 1778,
    "start_time": "2023-09-21T15:49:59.585Z"
   },
   {
    "duration": 42,
    "start_time": "2023-09-21T15:51:03.295Z"
   },
   {
    "duration": 41,
    "start_time": "2023-09-21T15:51:26.419Z"
   },
   {
    "duration": 1452,
    "start_time": "2023-09-21T15:52:30.177Z"
   },
   {
    "duration": 637,
    "start_time": "2023-09-21T15:54:15.340Z"
   },
   {
    "duration": 244,
    "start_time": "2023-09-21T15:55:18.637Z"
   },
   {
    "duration": 144,
    "start_time": "2023-09-21T15:55:56.929Z"
   },
   {
    "duration": 166,
    "start_time": "2023-09-21T15:56:07.227Z"
   },
   {
    "duration": 148,
    "start_time": "2023-09-21T15:56:29.590Z"
   },
   {
    "duration": 800,
    "start_time": "2023-09-21T15:56:52.952Z"
   },
   {
    "duration": 146,
    "start_time": "2023-09-21T15:57:48.918Z"
   },
   {
    "duration": 255,
    "start_time": "2023-09-21T15:58:09.640Z"
   },
   {
    "duration": 311,
    "start_time": "2023-09-21T15:58:47.078Z"
   },
   {
    "duration": 143,
    "start_time": "2023-09-21T16:01:21.326Z"
   },
   {
    "duration": 894,
    "start_time": "2023-09-21T16:01:32.120Z"
   },
   {
    "duration": 910,
    "start_time": "2023-09-21T16:02:42.601Z"
   },
   {
    "duration": 1004,
    "start_time": "2023-09-21T16:03:19.333Z"
   },
   {
    "duration": 176,
    "start_time": "2023-09-21T16:04:00.097Z"
   },
   {
    "duration": 191,
    "start_time": "2023-09-21T16:04:25.093Z"
   },
   {
    "duration": 148,
    "start_time": "2023-09-21T16:04:37.942Z"
   },
   {
    "duration": 1550,
    "start_time": "2023-09-21T16:05:19.306Z"
   },
   {
    "duration": 134,
    "start_time": "2023-09-21T16:05:47.806Z"
   },
   {
    "duration": 1624,
    "start_time": "2023-09-21T16:05:59.319Z"
   },
   {
    "duration": 1609,
    "start_time": "2023-09-21T16:07:16.447Z"
   },
   {
    "duration": 1449,
    "start_time": "2023-09-21T16:07:38.914Z"
   },
   {
    "duration": 1018,
    "start_time": "2023-09-21T16:08:25.839Z"
   },
   {
    "duration": 887,
    "start_time": "2023-09-21T16:09:01.092Z"
   },
   {
    "duration": 1099,
    "start_time": "2023-09-21T16:10:10.019Z"
   },
   {
    "duration": 1029,
    "start_time": "2023-09-21T16:10:30.405Z"
   },
   {
    "duration": 235,
    "start_time": "2023-09-21T16:11:25.252Z"
   },
   {
    "duration": 138,
    "start_time": "2023-09-21T16:11:53.583Z"
   },
   {
    "duration": 340,
    "start_time": "2023-09-21T16:12:01.809Z"
   },
   {
    "duration": 261,
    "start_time": "2023-09-21T16:12:11.363Z"
   },
   {
    "duration": 256,
    "start_time": "2023-09-21T16:12:27.420Z"
   },
   {
    "duration": 264,
    "start_time": "2023-09-21T16:12:32.796Z"
   },
   {
    "duration": 952,
    "start_time": "2023-09-24T13:39:15.730Z"
   },
   {
    "duration": 4,
    "start_time": "2023-09-24T13:39:19.417Z"
   },
   {
    "duration": 8560,
    "start_time": "2023-09-24T13:39:20.868Z"
   },
   {
    "duration": 244,
    "start_time": "2023-09-24T13:39:30.546Z"
   },
   {
    "duration": 15,
    "start_time": "2023-09-24T13:39:31.652Z"
   },
   {
    "duration": 261,
    "start_time": "2023-09-24T13:39:33.900Z"
   },
   {
    "duration": 184,
    "start_time": "2023-09-24T13:43:56.129Z"
   },
   {
    "duration": 1971,
    "start_time": "2023-09-24T13:45:34.948Z"
   },
   {
    "duration": 67,
    "start_time": "2023-09-24T13:45:42.660Z"
   },
   {
    "duration": 65,
    "start_time": "2023-09-24T13:46:57.380Z"
   },
   {
    "duration": 125,
    "start_time": "2023-09-24T13:51:49.993Z"
   },
   {
    "duration": 135,
    "start_time": "2023-09-24T13:51:59.594Z"
   },
   {
    "duration": 269,
    "start_time": "2023-09-24T13:55:05.190Z"
   },
   {
    "duration": 205,
    "start_time": "2023-09-24T13:56:08.070Z"
   },
   {
    "duration": 217,
    "start_time": "2023-09-24T13:56:26.832Z"
   },
   {
    "duration": 215,
    "start_time": "2023-09-24T13:56:41.370Z"
   },
   {
    "duration": 224,
    "start_time": "2023-09-24T13:57:13.767Z"
   },
   {
    "duration": 220,
    "start_time": "2023-09-24T13:57:48.130Z"
   },
   {
    "duration": 221,
    "start_time": "2023-09-24T13:59:09.188Z"
   },
   {
    "duration": 224,
    "start_time": "2023-09-24T13:59:46.136Z"
   },
   {
    "duration": 6,
    "start_time": "2023-09-24T14:02:51.227Z"
   },
   {
    "duration": 5,
    "start_time": "2023-09-24T14:03:01.230Z"
   },
   {
    "duration": 5,
    "start_time": "2023-09-24T14:03:09.654Z"
   },
   {
    "duration": 8,
    "start_time": "2023-09-24T14:03:20.153Z"
   },
   {
    "duration": 4,
    "start_time": "2023-09-24T14:03:36.569Z"
   },
   {
    "duration": 1518,
    "start_time": "2023-09-24T14:04:54.443Z"
   },
   {
    "duration": 138,
    "start_time": "2023-09-24T14:05:16.325Z"
   },
   {
    "duration": 130,
    "start_time": "2023-09-24T14:05:35.240Z"
   },
   {
    "duration": 128,
    "start_time": "2023-09-24T14:06:10.293Z"
   },
   {
    "duration": 127,
    "start_time": "2023-09-24T14:06:20.765Z"
   },
   {
    "duration": 128,
    "start_time": "2023-09-24T14:06:55.201Z"
   },
   {
    "duration": 118,
    "start_time": "2023-09-24T14:07:12.819Z"
   },
   {
    "duration": 120,
    "start_time": "2023-09-24T14:09:04.529Z"
   },
   {
    "duration": 172,
    "start_time": "2023-09-24T14:09:09.537Z"
   },
   {
    "duration": 166,
    "start_time": "2023-09-24T14:10:40.146Z"
   },
   {
    "duration": 131,
    "start_time": "2023-09-24T14:11:46.531Z"
   },
   {
    "duration": 110,
    "start_time": "2023-09-24T14:11:57.957Z"
   },
   {
    "duration": 79,
    "start_time": "2023-09-24T14:12:09.452Z"
   },
   {
    "duration": 83,
    "start_time": "2023-09-24T14:12:21.950Z"
   },
   {
    "duration": 79,
    "start_time": "2023-09-24T14:12:49.290Z"
   },
   {
    "duration": 174,
    "start_time": "2023-09-24T14:17:46.813Z"
   },
   {
    "duration": 137,
    "start_time": "2023-09-24T14:17:59.184Z"
   },
   {
    "duration": 125,
    "start_time": "2023-09-24T14:18:06.768Z"
   },
   {
    "duration": 133,
    "start_time": "2023-09-24T14:18:20.691Z"
   },
   {
    "duration": 78,
    "start_time": "2023-09-24T14:18:44.236Z"
   },
   {
    "duration": 3,
    "start_time": "2023-09-24T15:01:43.639Z"
   },
   {
    "duration": 4,
    "start_time": "2023-09-24T15:02:29.605Z"
   },
   {
    "duration": 1524,
    "start_time": "2023-09-24T15:02:39.926Z"
   },
   {
    "duration": 1565,
    "start_time": "2023-09-24T15:02:44.694Z"
   },
   {
    "duration": 1116,
    "start_time": "2023-09-24T15:05:13.079Z"
   },
   {
    "duration": 1065,
    "start_time": "2023-09-24T15:05:23.336Z"
   },
   {
    "duration": 112,
    "start_time": "2023-09-24T15:06:29.920Z"
   },
   {
    "duration": 1100,
    "start_time": "2023-09-24T15:07:04.060Z"
   },
   {
    "duration": 209,
    "start_time": "2023-09-24T15:07:10.485Z"
   },
   {
    "duration": 149,
    "start_time": "2023-09-24T15:08:10.708Z"
   },
   {
    "duration": 99,
    "start_time": "2023-09-24T15:08:34.991Z"
   },
   {
    "duration": 130,
    "start_time": "2023-09-24T15:09:05.437Z"
   },
   {
    "duration": 308,
    "start_time": "2023-09-24T15:09:13.257Z"
   },
   {
    "duration": 170,
    "start_time": "2023-09-24T15:10:27.555Z"
   },
   {
    "duration": 92,
    "start_time": "2023-09-24T15:12:34.132Z"
   },
   {
    "duration": 92,
    "start_time": "2023-09-24T15:13:16.927Z"
   },
   {
    "duration": 137,
    "start_time": "2023-09-24T15:14:06.245Z"
   },
   {
    "duration": 720,
    "start_time": "2023-09-24T15:14:12.116Z"
   },
   {
    "duration": 136,
    "start_time": "2023-09-24T15:16:10.260Z"
   },
   {
    "duration": 161,
    "start_time": "2023-09-24T15:16:30.309Z"
   },
   {
    "duration": 160,
    "start_time": "2023-09-24T15:17:01.057Z"
   },
   {
    "duration": 153,
    "start_time": "2023-09-24T15:21:51.673Z"
   },
   {
    "duration": 97,
    "start_time": "2023-09-24T15:22:55.769Z"
   },
   {
    "duration": 99,
    "start_time": "2023-09-24T15:23:15.732Z"
   },
   {
    "duration": 122,
    "start_time": "2023-09-24T15:26:39.665Z"
   },
   {
    "duration": 132,
    "start_time": "2023-09-24T15:26:48.193Z"
   },
   {
    "duration": 97,
    "start_time": "2023-09-24T15:26:52.187Z"
   },
   {
    "duration": 100,
    "start_time": "2023-09-24T15:27:02.908Z"
   },
   {
    "duration": 99,
    "start_time": "2023-09-24T15:27:26.629Z"
   },
   {
    "duration": 135,
    "start_time": "2023-09-24T15:28:05.085Z"
   },
   {
    "duration": 100,
    "start_time": "2023-09-24T15:28:27.934Z"
   },
   {
    "duration": 100,
    "start_time": "2023-09-24T15:28:49.424Z"
   },
   {
    "duration": 103,
    "start_time": "2023-09-24T17:14:59.271Z"
   },
   {
    "duration": 1576,
    "start_time": "2023-09-24T17:19:58.620Z"
   },
   {
    "duration": 855,
    "start_time": "2023-09-24T17:20:47.625Z"
   },
   {
    "duration": 1195,
    "start_time": "2023-09-24T17:21:25.187Z"
   },
   {
    "duration": 1735,
    "start_time": "2023-09-24T17:22:15.036Z"
   },
   {
    "duration": 404,
    "start_time": "2023-09-24T17:22:39.991Z"
   },
   {
    "duration": 360,
    "start_time": "2023-09-24T17:23:00.939Z"
   },
   {
    "duration": 345,
    "start_time": "2023-09-24T17:26:39.476Z"
   },
   {
    "duration": 1249,
    "start_time": "2023-09-24T17:27:14.688Z"
   },
   {
    "duration": 1245,
    "start_time": "2023-09-24T17:27:44.940Z"
   },
   {
    "duration": 1154,
    "start_time": "2023-09-24T17:27:52.069Z"
   },
   {
    "duration": 1207,
    "start_time": "2023-09-24T17:27:58.342Z"
   },
   {
    "duration": 62,
    "start_time": "2023-09-24T17:28:20.791Z"
   },
   {
    "duration": 1258,
    "start_time": "2023-09-24T17:28:36.746Z"
   },
   {
    "duration": 3,
    "start_time": "2023-09-24T17:30:51.955Z"
   },
   {
    "duration": 1655,
    "start_time": "2023-09-24T17:31:26.632Z"
   },
   {
    "duration": 209,
    "start_time": "2023-09-24T17:31:55.523Z"
   },
   {
    "duration": 92,
    "start_time": "2023-09-24T17:32:34.406Z"
   },
   {
    "duration": 228,
    "start_time": "2023-09-24T17:32:51.850Z"
   },
   {
    "duration": 202,
    "start_time": "2023-09-24T17:32:57.928Z"
   },
   {
    "duration": 66,
    "start_time": "2023-09-24T17:33:12.011Z"
   },
   {
    "duration": 185,
    "start_time": "2023-09-24T17:36:01.663Z"
   },
   {
    "duration": 226,
    "start_time": "2023-09-24T17:37:31.186Z"
   },
   {
    "duration": 238,
    "start_time": "2023-09-24T17:37:39.435Z"
   },
   {
    "duration": 186,
    "start_time": "2023-09-24T17:38:06.182Z"
   },
   {
    "duration": 182,
    "start_time": "2023-09-24T17:38:22.759Z"
   },
   {
    "duration": 164,
    "start_time": "2023-09-24T17:38:40.321Z"
   },
   {
    "duration": 171,
    "start_time": "2023-09-24T17:38:49.120Z"
   },
   {
    "duration": 177,
    "start_time": "2023-09-24T17:39:11.380Z"
   },
   {
    "duration": 182,
    "start_time": "2023-09-24T17:40:39.430Z"
   },
   {
    "duration": 166,
    "start_time": "2023-09-24T17:41:12.873Z"
   },
   {
    "duration": 152,
    "start_time": "2023-09-24T17:41:33.083Z"
   },
   {
    "duration": 167,
    "start_time": "2023-09-24T17:41:48.325Z"
   },
   {
    "duration": 185,
    "start_time": "2023-09-24T17:42:11.328Z"
   },
   {
    "duration": 176,
    "start_time": "2023-09-24T17:42:31.178Z"
   },
   {
    "duration": 95,
    "start_time": "2023-09-24T17:43:03.550Z"
   },
   {
    "duration": 92,
    "start_time": "2023-09-24T17:43:42.714Z"
   },
   {
    "duration": 99,
    "start_time": "2023-09-24T17:43:58.939Z"
   },
   {
    "duration": 96,
    "start_time": "2023-09-24T17:44:20.894Z"
   },
   {
    "duration": 705,
    "start_time": "2023-09-24T17:44:33.064Z"
   },
   {
    "duration": 1553,
    "start_time": "2023-09-24T17:47:41.789Z"
   },
   {
    "duration": 183,
    "start_time": "2023-09-24T17:48:13.536Z"
   },
   {
    "duration": 881,
    "start_time": "2023-09-24T17:49:13.639Z"
   },
   {
    "duration": 90,
    "start_time": "2023-09-24T17:50:33.024Z"
   },
   {
    "duration": 65,
    "start_time": "2023-09-24T17:50:43.536Z"
   },
   {
    "duration": 66,
    "start_time": "2023-09-24T17:50:57.676Z"
   },
   {
    "duration": 67,
    "start_time": "2023-09-24T17:51:17.828Z"
   },
   {
    "duration": 90,
    "start_time": "2023-09-24T17:53:06.161Z"
   },
   {
    "duration": 608,
    "start_time": "2023-09-24T17:53:13.499Z"
   },
   {
    "duration": 65,
    "start_time": "2023-09-24T17:53:37.109Z"
   },
   {
    "duration": 1473,
    "start_time": "2023-09-24T17:57:34.008Z"
   },
   {
    "duration": 820,
    "start_time": "2023-09-24T17:57:53.099Z"
   },
   {
    "duration": 144,
    "start_time": "2023-09-24T17:58:38.656Z"
   },
   {
    "duration": 1200,
    "start_time": "2023-09-24T17:58:42.601Z"
   },
   {
    "duration": 216,
    "start_time": "2023-09-24T17:58:57.490Z"
   },
   {
    "duration": 1218,
    "start_time": "2023-09-24T17:59:08.131Z"
   },
   {
    "duration": 127,
    "start_time": "2023-09-24T17:59:59.184Z"
   },
   {
    "duration": 1315,
    "start_time": "2023-09-24T18:00:19.812Z"
   },
   {
    "duration": 125,
    "start_time": "2023-09-24T18:01:54.710Z"
   },
   {
    "duration": 168,
    "start_time": "2023-09-24T18:02:25.026Z"
   },
   {
    "duration": 150,
    "start_time": "2023-09-24T18:02:29.284Z"
   },
   {
    "duration": 127,
    "start_time": "2023-09-24T18:02:34.546Z"
   },
   {
    "duration": 145,
    "start_time": "2023-09-24T18:04:34.586Z"
   },
   {
    "duration": 1200,
    "start_time": "2023-09-24T18:05:03.166Z"
   },
   {
    "duration": 1232,
    "start_time": "2023-09-24T18:06:32.544Z"
   },
   {
    "duration": 1167,
    "start_time": "2023-09-24T18:08:29.125Z"
   },
   {
    "duration": 1207,
    "start_time": "2023-09-24T18:10:39.908Z"
   },
   {
    "duration": 1298,
    "start_time": "2023-09-24T18:10:54.917Z"
   },
   {
    "duration": 1334,
    "start_time": "2023-09-24T18:11:05.286Z"
   },
   {
    "duration": 1371,
    "start_time": "2023-09-24T18:11:34.553Z"
   },
   {
    "duration": 790,
    "start_time": "2023-09-25T15:01:42.001Z"
   },
   {
    "duration": 4,
    "start_time": "2023-09-25T15:01:43.939Z"
   },
   {
    "duration": 12242,
    "start_time": "2023-09-25T15:01:46.105Z"
   },
   {
    "duration": 215,
    "start_time": "2023-09-25T15:02:17.502Z"
   },
   {
    "duration": 13,
    "start_time": "2023-09-25T15:02:18.301Z"
   },
   {
    "duration": 273,
    "start_time": "2023-09-25T15:02:22.640Z"
   },
   {
    "duration": 162,
    "start_time": "2023-09-25T15:02:25.335Z"
   },
   {
    "duration": 64,
    "start_time": "2023-09-25T15:02:29.320Z"
   },
   {
    "duration": 223,
    "start_time": "2023-09-25T15:02:34.392Z"
   },
   {
    "duration": 158,
    "start_time": "2023-09-25T15:02:39.426Z"
   },
   {
    "duration": 101,
    "start_time": "2023-09-25T15:02:42.873Z"
   },
   {
    "duration": 1305,
    "start_time": "2023-09-25T15:03:03.491Z"
   },
   {
    "duration": 92,
    "start_time": "2023-09-25T15:03:08.611Z"
   },
   {
    "duration": 65,
    "start_time": "2023-09-25T15:07:45.092Z"
   },
   {
    "duration": 1174,
    "start_time": "2023-09-25T15:07:50.428Z"
   },
   {
    "duration": 3,
    "start_time": "2023-09-25T15:11:24.767Z"
   },
   {
    "duration": 688,
    "start_time": "2023-09-25T15:11:42.960Z"
   },
   {
    "duration": 136,
    "start_time": "2023-09-25T15:11:51.650Z"
   },
   {
    "duration": 76,
    "start_time": "2023-09-25T15:11:54.418Z"
   },
   {
    "duration": 583,
    "start_time": "2023-09-25T15:11:57.026Z"
   },
   {
    "duration": 331,
    "start_time": "2023-09-25T15:12:17.004Z"
   },
   {
    "duration": 1638,
    "start_time": "2023-09-25T15:13:50.841Z"
   },
   {
    "duration": 197,
    "start_time": "2023-09-25T15:14:27.340Z"
   },
   {
    "duration": 216,
    "start_time": "2023-09-25T15:14:56.153Z"
   },
   {
    "duration": 186,
    "start_time": "2023-09-25T15:15:13.512Z"
   },
   {
    "duration": 181,
    "start_time": "2023-09-25T15:16:10.528Z"
   },
   {
    "duration": 958,
    "start_time": "2023-09-25T15:16:30.476Z"
   },
   {
    "duration": 965,
    "start_time": "2023-09-25T15:16:57.471Z"
   },
   {
    "duration": 370,
    "start_time": "2023-09-25T15:17:21.113Z"
   },
   {
    "duration": 138,
    "start_time": "2023-09-25T15:18:05.857Z"
   },
   {
    "duration": 131,
    "start_time": "2023-09-25T15:18:27.295Z"
   },
   {
    "duration": 625,
    "start_time": "2023-09-25T15:18:37.738Z"
   },
   {
    "duration": 427,
    "start_time": "2023-09-25T15:19:09.284Z"
   },
   {
    "duration": 353,
    "start_time": "2023-09-25T15:19:34.568Z"
   },
   {
    "duration": 134,
    "start_time": "2023-09-25T15:20:17.644Z"
   },
   {
    "duration": 122,
    "start_time": "2023-09-25T15:21:03.506Z"
   },
   {
    "duration": 424,
    "start_time": "2023-09-25T15:21:35.439Z"
   },
   {
    "duration": 126,
    "start_time": "2023-09-25T15:22:08.003Z"
   },
   {
    "duration": 423,
    "start_time": "2023-09-25T15:22:11.795Z"
   },
   {
    "duration": 473,
    "start_time": "2023-09-25T15:24:02.766Z"
   },
   {
    "duration": 1494,
    "start_time": "2023-09-25T15:24:50.501Z"
   },
   {
    "duration": 768,
    "start_time": "2023-09-25T15:25:26.313Z"
   },
   {
    "duration": 663,
    "start_time": "2023-09-25T15:25:45.067Z"
   },
   {
    "duration": 780,
    "start_time": "2023-09-25T15:26:45.952Z"
   },
   {
    "duration": 122,
    "start_time": "2023-09-25T15:29:51.623Z"
   },
   {
    "duration": 673,
    "start_time": "2023-09-25T15:30:34.932Z"
   },
   {
    "duration": 664,
    "start_time": "2023-09-25T15:31:22.321Z"
   },
   {
    "duration": 13,
    "start_time": "2023-09-25T15:31:44.733Z"
   },
   {
    "duration": 482,
    "start_time": "2023-09-25T15:31:59.761Z"
   },
   {
    "duration": 3447,
    "start_time": "2023-09-25T15:32:18.169Z"
   },
   {
    "duration": 182,
    "start_time": "2023-09-25T15:33:25.434Z"
   },
   {
    "duration": 538,
    "start_time": "2023-09-25T15:33:53.964Z"
   },
   {
    "duration": 457,
    "start_time": "2023-09-25T15:33:59.308Z"
   },
   {
    "duration": 394,
    "start_time": "2023-09-25T15:34:34.440Z"
   },
   {
    "duration": 552,
    "start_time": "2023-09-25T15:34:52.187Z"
   },
   {
    "duration": 967,
    "start_time": "2023-09-25T15:35:00.476Z"
   },
   {
    "duration": 418,
    "start_time": "2023-09-25T15:35:06.924Z"
   },
   {
    "duration": 88,
    "start_time": "2023-09-25T15:42:53.746Z"
   },
   {
    "duration": 416,
    "start_time": "2023-09-25T15:43:37.745Z"
   },
   {
    "duration": 419,
    "start_time": "2023-09-25T15:43:43.768Z"
   },
   {
    "duration": 526,
    "start_time": "2023-09-25T15:48:27.491Z"
   },
   {
    "duration": 378,
    "start_time": "2023-09-25T15:49:20.262Z"
   },
   {
    "duration": 1693,
    "start_time": "2023-09-25T15:53:42.838Z"
   },
   {
    "duration": 791,
    "start_time": "2023-09-25T15:54:36.933Z"
   },
   {
    "duration": 780,
    "start_time": "2023-09-25T15:54:54.759Z"
   },
   {
    "duration": 847,
    "start_time": "2023-09-25T15:55:07.568Z"
   },
   {
    "duration": 817,
    "start_time": "2023-09-25T15:58:07.418Z"
   },
   {
    "duration": 875,
    "start_time": "2023-09-25T15:58:47.911Z"
   },
   {
    "duration": 259,
    "start_time": "2023-09-25T15:58:59.808Z"
   },
   {
    "duration": 258,
    "start_time": "2023-09-25T15:59:29.243Z"
   },
   {
    "duration": 262,
    "start_time": "2023-09-25T16:00:44.395Z"
   },
   {
    "duration": 258,
    "start_time": "2023-09-25T16:01:19.362Z"
   },
   {
    "duration": 266,
    "start_time": "2023-09-25T16:03:46.565Z"
   },
   {
    "duration": 260,
    "start_time": "2023-09-25T16:06:13.606Z"
   },
   {
    "duration": 265,
    "start_time": "2023-09-25T16:06:39.169Z"
   },
   {
    "duration": 152,
    "start_time": "2023-09-25T16:07:18.261Z"
   },
   {
    "duration": 273,
    "start_time": "2023-09-25T16:07:27.087Z"
   },
   {
    "duration": 269,
    "start_time": "2023-09-25T16:07:45.769Z"
   },
   {
    "duration": 250,
    "start_time": "2023-09-25T16:08:55.250Z"
   },
   {
    "duration": 251,
    "start_time": "2023-09-25T16:09:54.766Z"
   },
   {
    "duration": 258,
    "start_time": "2023-09-25T16:10:07.465Z"
   },
   {
    "duration": 143,
    "start_time": "2023-09-25T16:10:38.172Z"
   },
   {
    "duration": 170,
    "start_time": "2023-09-25T16:10:44.726Z"
   },
   {
    "duration": 156,
    "start_time": "2023-09-25T16:11:10.665Z"
   },
   {
    "duration": 254,
    "start_time": "2023-09-25T16:11:23.441Z"
   },
   {
    "duration": 257,
    "start_time": "2023-09-25T16:12:05.573Z"
   },
   {
    "duration": 252,
    "start_time": "2023-09-25T16:12:22.826Z"
   },
   {
    "duration": 252,
    "start_time": "2023-09-25T16:12:42.418Z"
   },
   {
    "duration": 149,
    "start_time": "2023-09-25T16:13:59.345Z"
   },
   {
    "duration": 216,
    "start_time": "2023-09-25T16:14:21.347Z"
   },
   {
    "duration": 170,
    "start_time": "2023-09-25T16:15:23.932Z"
   },
   {
    "duration": 167,
    "start_time": "2023-09-25T16:19:02.828Z"
   },
   {
    "duration": 118,
    "start_time": "2023-09-25T16:19:06.501Z"
   },
   {
    "duration": 171,
    "start_time": "2023-09-25T16:20:32.584Z"
   },
   {
    "duration": 81,
    "start_time": "2023-09-25T16:21:13.908Z"
   },
   {
    "duration": 145,
    "start_time": "2023-09-25T16:21:17.636Z"
   },
   {
    "duration": 12,
    "start_time": "2023-09-25T16:21:42.703Z"
   },
   {
    "duration": 14,
    "start_time": "2023-09-25T16:23:50.456Z"
   },
   {
    "duration": 9,
    "start_time": "2023-09-25T16:24:19.528Z"
   },
   {
    "duration": 149,
    "start_time": "2023-09-25T16:24:26.617Z"
   },
   {
    "duration": 143,
    "start_time": "2023-09-25T16:24:34.650Z"
   },
   {
    "duration": 141,
    "start_time": "2023-09-25T16:24:46.101Z"
   },
   {
    "duration": 153,
    "start_time": "2023-09-25T16:25:43.537Z"
   },
   {
    "duration": 106,
    "start_time": "2023-09-25T16:25:57.914Z"
   },
   {
    "duration": 166,
    "start_time": "2023-09-25T16:26:04.901Z"
   },
   {
    "duration": 161,
    "start_time": "2023-09-25T16:26:10.005Z"
   },
   {
    "duration": 124,
    "start_time": "2023-09-25T16:27:19.656Z"
   },
   {
    "duration": 104,
    "start_time": "2023-09-25T16:29:03.592Z"
   },
   {
    "duration": 113,
    "start_time": "2023-09-25T16:29:07.209Z"
   },
   {
    "duration": 137,
    "start_time": "2023-09-25T16:29:11.993Z"
   },
   {
    "duration": 129,
    "start_time": "2023-09-25T16:29:22.579Z"
   },
   {
    "duration": 116,
    "start_time": "2023-09-25T16:30:09.556Z"
   },
   {
    "duration": 214,
    "start_time": "2023-09-25T16:30:59.623Z"
   },
   {
    "duration": 113,
    "start_time": "2023-09-25T16:31:15.679Z"
   },
   {
    "duration": 134,
    "start_time": "2023-09-25T16:31:48.045Z"
   },
   {
    "duration": 125,
    "start_time": "2023-09-25T16:33:13.861Z"
   },
   {
    "duration": 114,
    "start_time": "2023-09-25T16:33:30.261Z"
   },
   {
    "duration": 120,
    "start_time": "2023-09-25T16:33:50.061Z"
   },
   {
    "duration": 123,
    "start_time": "2023-09-25T16:34:21.902Z"
   },
   {
    "duration": 2,
    "start_time": "2023-09-25T16:50:20.807Z"
   },
   {
    "duration": 2049,
    "start_time": "2023-09-25T16:50:30.735Z"
   },
   {
    "duration": 773,
    "start_time": "2023-09-25T16:51:00.033Z"
   },
   {
    "duration": 188,
    "start_time": "2023-09-25T16:51:38.008Z"
   },
   {
    "duration": 215,
    "start_time": "2023-09-25T16:51:42.391Z"
   },
   {
    "duration": 111,
    "start_time": "2023-09-25T16:51:48.468Z"
   },
   {
    "duration": 118,
    "start_time": "2023-09-25T16:51:53.345Z"
   },
   {
    "duration": 156,
    "start_time": "2023-09-25T16:54:02.943Z"
   },
   {
    "duration": 507,
    "start_time": "2023-09-25T16:54:38.084Z"
   },
   {
    "duration": 889,
    "start_time": "2023-09-25T16:55:11.694Z"
   },
   {
    "duration": 894,
    "start_time": "2023-09-25T16:55:34.626Z"
   },
   {
    "duration": 152,
    "start_time": "2023-09-25T16:55:40.490Z"
   },
   {
    "duration": 166,
    "start_time": "2023-09-25T16:56:09.710Z"
   },
   {
    "duration": 163,
    "start_time": "2023-09-25T17:00:59.335Z"
   },
   {
    "duration": 170,
    "start_time": "2023-09-25T17:01:20.913Z"
   },
   {
    "duration": 168,
    "start_time": "2023-09-25T17:01:30.522Z"
   },
   {
    "duration": 113,
    "start_time": "2023-09-25T17:04:19.807Z"
   },
   {
    "duration": 1234,
    "start_time": "2023-09-25T17:25:34.843Z"
   },
   {
    "duration": 4,
    "start_time": "2023-09-25T17:25:36.079Z"
   },
   {
    "duration": 12723,
    "start_time": "2023-09-25T17:25:36.085Z"
   },
   {
    "duration": 237,
    "start_time": "2023-09-25T17:25:48.810Z"
   },
   {
    "duration": 18,
    "start_time": "2023-09-25T17:25:49.048Z"
   },
   {
    "duration": 277,
    "start_time": "2023-09-25T17:25:49.068Z"
   },
   {
    "duration": 166,
    "start_time": "2023-09-25T17:25:49.347Z"
   },
   {
    "duration": 64,
    "start_time": "2023-09-25T17:25:49.515Z"
   },
   {
    "duration": 223,
    "start_time": "2023-09-25T17:25:49.581Z"
   },
   {
    "duration": 160,
    "start_time": "2023-09-25T17:25:49.805Z"
   },
   {
    "duration": 110,
    "start_time": "2023-09-25T17:25:49.966Z"
   },
   {
    "duration": 1338,
    "start_time": "2023-09-25T17:25:50.078Z"
   },
   {
    "duration": 91,
    "start_time": "2023-09-25T17:25:51.417Z"
   },
   {
    "duration": 67,
    "start_time": "2023-09-25T17:25:51.510Z"
   },
   {
    "duration": 1120,
    "start_time": "2023-09-25T17:25:51.578Z"
   },
   {
    "duration": 433,
    "start_time": "2023-09-25T17:25:52.700Z"
   },
   {
    "duration": 828,
    "start_time": "2023-09-25T17:25:53.135Z"
   },
   {
    "duration": 555,
    "start_time": "2023-09-25T17:25:53.964Z"
   },
   {
    "duration": 420,
    "start_time": "2023-09-25T17:25:54.521Z"
   },
   {
    "duration": 253,
    "start_time": "2023-09-25T17:25:54.943Z"
   },
   {
    "duration": 108,
    "start_time": "2023-09-25T17:25:55.198Z"
   },
   {
    "duration": 133,
    "start_time": "2023-09-25T17:25:55.308Z"
   },
   {
    "duration": 1190,
    "start_time": "2023-09-25T19:01:34.638Z"
   },
   {
    "duration": 3,
    "start_time": "2023-09-25T19:01:35.829Z"
   },
   {
    "duration": 13506,
    "start_time": "2023-09-25T19:01:35.834Z"
   },
   {
    "duration": 232,
    "start_time": "2023-09-25T19:01:49.341Z"
   },
   {
    "duration": 13,
    "start_time": "2023-09-25T19:01:49.575Z"
   },
   {
    "duration": 285,
    "start_time": "2023-09-25T19:01:49.590Z"
   },
   {
    "duration": 161,
    "start_time": "2023-09-25T19:01:49.877Z"
   },
   {
    "duration": 78,
    "start_time": "2023-09-25T19:01:50.040Z"
   },
   {
    "duration": 225,
    "start_time": "2023-09-25T19:01:50.120Z"
   },
   {
    "duration": 160,
    "start_time": "2023-09-25T19:01:50.347Z"
   },
   {
    "duration": 100,
    "start_time": "2023-09-25T19:01:50.508Z"
   },
   {
    "duration": 1362,
    "start_time": "2023-09-25T19:01:50.609Z"
   },
   {
    "duration": 92,
    "start_time": "2023-09-25T19:01:51.973Z"
   },
   {
    "duration": 64,
    "start_time": "2023-09-25T19:01:52.067Z"
   },
   {
    "duration": 1246,
    "start_time": "2023-09-25T19:01:52.132Z"
   },
   {
    "duration": 372,
    "start_time": "2023-09-25T19:01:53.380Z"
   },
   {
    "duration": 772,
    "start_time": "2023-09-25T19:01:53.758Z"
   },
   {
    "duration": 557,
    "start_time": "2023-09-25T19:01:54.532Z"
   },
   {
    "duration": 379,
    "start_time": "2023-09-25T19:01:55.090Z"
   },
   {
    "duration": 249,
    "start_time": "2023-09-25T19:01:55.471Z"
   },
   {
    "duration": 119,
    "start_time": "2023-09-25T19:01:55.721Z"
   },
   {
    "duration": 150,
    "start_time": "2023-09-25T19:01:55.841Z"
   },
   {
    "duration": 261,
    "start_time": "2023-09-25T19:03:48.137Z"
   },
   {
    "duration": 216,
    "start_time": "2023-09-25T19:04:31.164Z"
   },
   {
    "duration": 210,
    "start_time": "2023-09-25T19:04:37.521Z"
   },
   {
    "duration": 214,
    "start_time": "2023-09-25T19:05:56.316Z"
   },
   {
    "duration": 216,
    "start_time": "2023-09-25T19:06:03.386Z"
   },
   {
    "duration": 210,
    "start_time": "2023-09-25T19:06:51.570Z"
   },
   {
    "duration": 213,
    "start_time": "2023-09-25T19:06:56.682Z"
   },
   {
    "duration": 223,
    "start_time": "2023-09-25T19:07:09.484Z"
   },
   {
    "duration": 208,
    "start_time": "2023-09-25T19:08:30.820Z"
   },
   {
    "duration": 1302,
    "start_time": "2023-09-25T19:11:00.559Z"
   },
   {
    "duration": 5,
    "start_time": "2023-09-25T19:11:01.864Z"
   },
   {
    "duration": 10448,
    "start_time": "2023-09-25T19:11:01.871Z"
   },
   {
    "duration": 221,
    "start_time": "2023-09-25T19:11:12.321Z"
   },
   {
    "duration": 17,
    "start_time": "2023-09-25T19:11:12.544Z"
   },
   {
    "duration": 269,
    "start_time": "2023-09-25T19:11:12.562Z"
   },
   {
    "duration": 170,
    "start_time": "2023-09-25T19:11:12.833Z"
   },
   {
    "duration": 71,
    "start_time": "2023-09-25T19:11:13.005Z"
   },
   {
    "duration": 219,
    "start_time": "2023-09-25T19:11:13.077Z"
   },
   {
    "duration": 166,
    "start_time": "2023-09-25T19:11:13.299Z"
   },
   {
    "duration": 109,
    "start_time": "2023-09-25T19:11:13.466Z"
   },
   {
    "duration": 1369,
    "start_time": "2023-09-25T19:11:13.577Z"
   },
   {
    "duration": 109,
    "start_time": "2023-09-25T19:11:14.956Z"
   },
   {
    "duration": 63,
    "start_time": "2023-09-25T19:11:15.068Z"
   },
   {
    "duration": 1283,
    "start_time": "2023-09-25T19:11:15.133Z"
   },
   {
    "duration": 386,
    "start_time": "2023-09-25T19:11:16.418Z"
   },
   {
    "duration": 731,
    "start_time": "2023-09-25T19:11:16.805Z"
   },
   {
    "duration": 562,
    "start_time": "2023-09-25T19:11:17.538Z"
   },
   {
    "duration": 378,
    "start_time": "2023-09-25T19:11:18.101Z"
   },
   {
    "duration": 250,
    "start_time": "2023-09-25T19:11:18.480Z"
   },
   {
    "duration": 108,
    "start_time": "2023-09-25T19:11:18.732Z"
   },
   {
    "duration": 151,
    "start_time": "2023-09-25T19:11:18.841Z"
   },
   {
    "duration": 1476,
    "start_time": "2023-09-26T15:04:41.856Z"
   },
   {
    "duration": 3,
    "start_time": "2023-09-26T15:04:44.359Z"
   },
   {
    "duration": 11025,
    "start_time": "2023-09-26T15:04:46.778Z"
   },
   {
    "duration": 221,
    "start_time": "2023-09-26T15:04:58.681Z"
   },
   {
    "duration": 19,
    "start_time": "2023-09-26T15:05:03.778Z"
   },
   {
    "duration": 268,
    "start_time": "2023-09-26T15:05:12.875Z"
   },
   {
    "duration": 192,
    "start_time": "2023-09-26T15:05:14.602Z"
   },
   {
    "duration": 65,
    "start_time": "2023-09-26T15:05:17.578Z"
   },
   {
    "duration": 221,
    "start_time": "2023-09-26T15:05:55.336Z"
   },
   {
    "duration": 218,
    "start_time": "2023-09-26T15:06:01.680Z"
   },
   {
    "duration": 101,
    "start_time": "2023-09-26T15:06:36.756Z"
   },
   {
    "duration": 209,
    "start_time": "2023-09-26T15:08:55.404Z"
   },
   {
    "duration": 223,
    "start_time": "2023-09-26T15:10:03.678Z"
   },
   {
    "duration": 234,
    "start_time": "2023-09-26T15:26:55.905Z"
   },
   {
    "duration": 84,
    "start_time": "2023-09-26T15:32:42.082Z"
   },
   {
    "duration": 1533,
    "start_time": "2023-09-26T15:32:55.199Z"
   },
   {
    "duration": 314,
    "start_time": "2023-09-26T15:33:30.820Z"
   },
   {
    "duration": 318,
    "start_time": "2023-09-26T15:33:41.729Z"
   },
   {
    "duration": 403,
    "start_time": "2023-09-26T15:35:01.322Z"
   },
   {
    "duration": 283,
    "start_time": "2023-09-26T15:36:03.089Z"
   },
   {
    "duration": 280,
    "start_time": "2023-09-26T15:38:37.395Z"
   },
   {
    "duration": 1275,
    "start_time": "2023-09-26T15:38:48.753Z"
   },
   {
    "duration": 84,
    "start_time": "2023-09-26T15:50:49.163Z"
   },
   {
    "duration": 11,
    "start_time": "2023-09-26T15:50:55.679Z"
   },
   {
    "duration": 260,
    "start_time": "2023-09-26T15:50:59.697Z"
   },
   {
    "duration": 143,
    "start_time": "2023-09-26T15:51:02.693Z"
   },
   {
    "duration": 162,
    "start_time": "2023-09-26T15:51:14.887Z"
   },
   {
    "duration": 153,
    "start_time": "2023-09-26T15:51:21.679Z"
   },
   {
    "duration": 147,
    "start_time": "2023-09-26T15:51:50.260Z"
   },
   {
    "duration": 1271,
    "start_time": "2023-09-26T15:57:50.543Z"
   },
   {
    "duration": 4,
    "start_time": "2023-09-26T15:57:51.817Z"
   },
   {
    "duration": 9201,
    "start_time": "2023-09-26T15:57:51.823Z"
   },
   {
    "duration": 249,
    "start_time": "2023-09-26T15:58:01.026Z"
   },
   {
    "duration": 16,
    "start_time": "2023-09-26T15:58:01.278Z"
   },
   {
    "duration": 316,
    "start_time": "2023-09-26T15:58:01.296Z"
   },
   {
    "duration": 181,
    "start_time": "2023-09-26T15:58:01.614Z"
   },
   {
    "duration": 66,
    "start_time": "2023-09-26T15:58:01.797Z"
   },
   {
    "duration": 272,
    "start_time": "2023-09-26T15:58:01.865Z"
   },
   {
    "duration": 161,
    "start_time": "2023-09-26T15:58:02.139Z"
   },
   {
    "duration": 104,
    "start_time": "2023-09-26T15:58:02.302Z"
   },
   {
    "duration": 1560,
    "start_time": "2023-09-26T15:58:02.408Z"
   },
   {
    "duration": 94,
    "start_time": "2023-09-26T15:58:03.970Z"
   },
   {
    "duration": 67,
    "start_time": "2023-09-26T15:58:04.067Z"
   },
   {
    "duration": 1305,
    "start_time": "2023-09-26T15:58:04.136Z"
   },
   {
    "duration": 388,
    "start_time": "2023-09-26T15:58:05.443Z"
   },
   {
    "duration": 0,
    "start_time": "2023-09-26T15:58:05.833Z"
   },
   {
    "duration": 0,
    "start_time": "2023-09-26T15:58:05.834Z"
   },
   {
    "duration": 0,
    "start_time": "2023-09-26T15:58:05.836Z"
   },
   {
    "duration": 0,
    "start_time": "2023-09-26T15:58:05.838Z"
   },
   {
    "duration": 0,
    "start_time": "2023-09-26T15:58:05.839Z"
   },
   {
    "duration": 0,
    "start_time": "2023-09-26T15:58:05.840Z"
   },
   {
    "duration": 0,
    "start_time": "2023-09-26T15:58:05.841Z"
   },
   {
    "duration": 631,
    "start_time": "2023-09-26T15:58:14.097Z"
   },
   {
    "duration": 799,
    "start_time": "2023-09-26T15:58:14.730Z"
   },
   {
    "duration": 570,
    "start_time": "2023-09-26T15:58:15.531Z"
   },
   {
    "duration": 448,
    "start_time": "2023-09-26T15:58:16.102Z"
   },
   {
    "duration": 256,
    "start_time": "2023-09-26T15:58:16.552Z"
   },
   {
    "duration": 143,
    "start_time": "2023-09-26T15:58:16.810Z"
   },
   {
    "duration": 148,
    "start_time": "2023-09-26T15:58:16.955Z"
   },
   {
    "duration": 1324,
    "start_time": "2023-09-26T16:37:17.405Z"
   },
   {
    "duration": 4,
    "start_time": "2023-09-26T16:37:18.731Z"
   },
   {
    "duration": 9995,
    "start_time": "2023-09-26T16:37:18.737Z"
   },
   {
    "duration": 220,
    "start_time": "2023-09-26T16:37:28.734Z"
   },
   {
    "duration": 15,
    "start_time": "2023-09-26T16:37:28.955Z"
   },
   {
    "duration": 301,
    "start_time": "2023-09-26T16:37:28.972Z"
   },
   {
    "duration": 178,
    "start_time": "2023-09-26T16:37:29.274Z"
   },
   {
    "duration": 65,
    "start_time": "2023-09-26T16:37:29.453Z"
   },
   {
    "duration": 230,
    "start_time": "2023-09-26T16:37:29.520Z"
   },
   {
    "duration": 159,
    "start_time": "2023-09-26T16:37:29.753Z"
   },
   {
    "duration": 100,
    "start_time": "2023-09-26T16:37:29.914Z"
   },
   {
    "duration": 1424,
    "start_time": "2023-09-26T16:37:30.016Z"
   },
   {
    "duration": 92,
    "start_time": "2023-09-26T16:37:31.442Z"
   },
   {
    "duration": 151,
    "start_time": "2023-09-26T16:37:31.536Z"
   },
   {
    "duration": 1205,
    "start_time": "2023-09-26T16:37:31.689Z"
   },
   {
    "duration": 438,
    "start_time": "2023-09-26T16:37:32.895Z"
   },
   {
    "duration": 0,
    "start_time": "2023-09-26T16:37:33.334Z"
   },
   {
    "duration": 0,
    "start_time": "2023-09-26T16:37:33.336Z"
   },
   {
    "duration": 0,
    "start_time": "2023-09-26T16:37:33.337Z"
   },
   {
    "duration": 0,
    "start_time": "2023-09-26T16:37:33.338Z"
   },
   {
    "duration": 0,
    "start_time": "2023-09-26T16:37:33.339Z"
   },
   {
    "duration": 0,
    "start_time": "2023-09-26T16:37:33.341Z"
   },
   {
    "duration": 0,
    "start_time": "2023-09-26T16:37:33.341Z"
   },
   {
    "duration": 1460,
    "start_time": "2023-09-26T16:42:16.189Z"
   },
   {
    "duration": 53,
    "start_time": "2023-09-26T16:42:17.651Z"
   },
   {
    "duration": 14272,
    "start_time": "2023-09-26T16:42:17.705Z"
   },
   {
    "duration": 225,
    "start_time": "2023-09-26T16:42:31.979Z"
   },
   {
    "duration": 21,
    "start_time": "2023-09-26T16:42:32.206Z"
   },
   {
    "duration": 335,
    "start_time": "2023-09-26T16:42:32.229Z"
   },
   {
    "duration": 184,
    "start_time": "2023-09-26T16:42:32.566Z"
   },
   {
    "duration": 64,
    "start_time": "2023-09-26T16:42:32.752Z"
   },
   {
    "duration": 226,
    "start_time": "2023-09-26T16:42:32.817Z"
   },
   {
    "duration": 157,
    "start_time": "2023-09-26T16:42:33.045Z"
   },
   {
    "duration": 203,
    "start_time": "2023-09-26T16:42:33.204Z"
   },
   {
    "duration": 1565,
    "start_time": "2023-09-26T16:42:33.410Z"
   },
   {
    "duration": 94,
    "start_time": "2023-09-26T16:42:34.977Z"
   },
   {
    "duration": 64,
    "start_time": "2023-09-26T16:42:35.073Z"
   },
   {
    "duration": 1367,
    "start_time": "2023-09-26T16:42:35.139Z"
   },
   {
    "duration": 414,
    "start_time": "2023-09-26T16:42:36.508Z"
   },
   {
    "duration": 0,
    "start_time": "2023-09-26T16:42:36.924Z"
   },
   {
    "duration": 0,
    "start_time": "2023-09-26T16:42:36.926Z"
   },
   {
    "duration": 0,
    "start_time": "2023-09-26T16:42:36.927Z"
   },
   {
    "duration": 0,
    "start_time": "2023-09-26T16:42:36.928Z"
   },
   {
    "duration": 0,
    "start_time": "2023-09-26T16:42:36.929Z"
   },
   {
    "duration": 0,
    "start_time": "2023-09-26T16:42:36.930Z"
   },
   {
    "duration": 0,
    "start_time": "2023-09-26T16:42:36.931Z"
   },
   {
    "duration": 1195,
    "start_time": "2023-09-26T16:42:47.573Z"
   },
   {
    "duration": 1368,
    "start_time": "2023-09-26T16:45:06.528Z"
   },
   {
    "duration": 1312,
    "start_time": "2023-09-26T16:45:20.360Z"
   },
   {
    "duration": 368,
    "start_time": "2023-09-26T16:45:32.430Z"
   },
   {
    "duration": 258,
    "start_time": "2023-09-26T16:47:06.042Z"
   },
   {
    "duration": 134,
    "start_time": "2023-09-26T16:47:07.048Z"
   },
   {
    "duration": 1369,
    "start_time": "2023-09-26T16:49:04.301Z"
   },
   {
    "duration": 3,
    "start_time": "2023-09-26T16:49:05.672Z"
   },
   {
    "duration": 14550,
    "start_time": "2023-09-26T16:49:05.677Z"
   },
   {
    "duration": 224,
    "start_time": "2023-09-26T16:49:20.229Z"
   },
   {
    "duration": 17,
    "start_time": "2023-09-26T16:49:20.455Z"
   },
   {
    "duration": 284,
    "start_time": "2023-09-26T16:49:20.474Z"
   },
   {
    "duration": 183,
    "start_time": "2023-09-26T16:49:20.760Z"
   },
   {
    "duration": 65,
    "start_time": "2023-09-26T16:49:20.944Z"
   },
   {
    "duration": 230,
    "start_time": "2023-09-26T16:49:21.011Z"
   },
   {
    "duration": 162,
    "start_time": "2023-09-26T16:49:21.243Z"
   },
   {
    "duration": 102,
    "start_time": "2023-09-26T16:49:21.407Z"
   },
   {
    "duration": 1452,
    "start_time": "2023-09-26T16:49:21.511Z"
   },
   {
    "duration": 91,
    "start_time": "2023-09-26T16:49:22.965Z"
   },
   {
    "duration": 65,
    "start_time": "2023-09-26T16:49:23.058Z"
   },
   {
    "duration": 2006,
    "start_time": "2023-09-26T16:49:23.125Z"
   },
   {
    "duration": 406,
    "start_time": "2023-09-26T16:49:25.133Z"
   },
   {
    "duration": 0,
    "start_time": "2023-09-26T16:49:25.540Z"
   },
   {
    "duration": 0,
    "start_time": "2023-09-26T16:49:25.542Z"
   },
   {
    "duration": 0,
    "start_time": "2023-09-26T16:49:25.543Z"
   },
   {
    "duration": 0,
    "start_time": "2023-09-26T16:49:25.544Z"
   },
   {
    "duration": 0,
    "start_time": "2023-09-26T16:49:25.545Z"
   },
   {
    "duration": 0,
    "start_time": "2023-09-26T16:49:25.546Z"
   },
   {
    "duration": 0,
    "start_time": "2023-09-26T16:49:25.547Z"
   },
   {
    "duration": 56,
    "start_time": "2023-09-26T18:18:59.947Z"
   },
   {
    "duration": 1556,
    "start_time": "2023-09-26T18:19:08.642Z"
   },
   {
    "duration": 7,
    "start_time": "2023-09-26T18:19:12.266Z"
   },
   {
    "duration": 10540,
    "start_time": "2023-09-26T18:19:13.618Z"
   },
   {
    "duration": 240,
    "start_time": "2023-09-26T18:19:25.357Z"
   },
   {
    "duration": 16,
    "start_time": "2023-09-26T18:19:26.409Z"
   },
   {
    "duration": 220,
    "start_time": "2023-09-26T18:19:38.195Z"
   },
   {
    "duration": 156,
    "start_time": "2023-09-26T18:20:00.017Z"
   },
   {
    "duration": 1292,
    "start_time": "2023-09-26T18:20:26.819Z"
   },
   {
    "duration": 1363,
    "start_time": "2023-09-26T18:22:32.627Z"
   },
   {
    "duration": 4,
    "start_time": "2023-09-26T18:22:33.992Z"
   },
   {
    "duration": 9433,
    "start_time": "2023-09-26T18:22:33.998Z"
   },
   {
    "duration": 213,
    "start_time": "2023-09-26T18:22:43.433Z"
   },
   {
    "duration": 17,
    "start_time": "2023-09-26T18:22:43.648Z"
   },
   {
    "duration": 272,
    "start_time": "2023-09-26T18:22:43.666Z"
   },
   {
    "duration": 200,
    "start_time": "2023-09-26T18:22:43.939Z"
   },
   {
    "duration": 65,
    "start_time": "2023-09-26T18:22:44.141Z"
   },
   {
    "duration": 230,
    "start_time": "2023-09-26T18:22:44.208Z"
   },
   {
    "duration": 155,
    "start_time": "2023-09-26T18:22:44.440Z"
   },
   {
    "duration": 99,
    "start_time": "2023-09-26T18:22:44.598Z"
   },
   {
    "duration": 1657,
    "start_time": "2023-09-26T18:22:44.699Z"
   },
   {
    "duration": 92,
    "start_time": "2023-09-26T18:22:46.359Z"
   },
   {
    "duration": 66,
    "start_time": "2023-09-26T18:22:46.453Z"
   },
   {
    "duration": 1261,
    "start_time": "2023-09-26T18:22:46.521Z"
   },
   {
    "duration": 413,
    "start_time": "2023-09-26T18:22:47.784Z"
   },
   {
    "duration": 841,
    "start_time": "2023-09-26T18:22:48.199Z"
   },
   {
    "duration": 544,
    "start_time": "2023-09-26T18:22:49.042Z"
   },
   {
    "duration": 447,
    "start_time": "2023-09-26T18:22:49.588Z"
   },
   {
    "duration": 254,
    "start_time": "2023-09-26T18:22:50.037Z"
   },
   {
    "duration": 161,
    "start_time": "2023-09-26T18:22:50.293Z"
   },
   {
    "duration": 145,
    "start_time": "2023-09-26T18:22:50.456Z"
   },
   {
    "duration": 1452,
    "start_time": "2023-09-26T20:34:04.443Z"
   },
   {
    "duration": 4,
    "start_time": "2023-09-26T20:34:05.897Z"
   },
   {
    "duration": 10155,
    "start_time": "2023-09-26T20:34:05.912Z"
   },
   {
    "duration": 292,
    "start_time": "2023-09-26T20:34:16.069Z"
   },
   {
    "duration": 17,
    "start_time": "2023-09-26T20:34:16.364Z"
   },
   {
    "duration": 282,
    "start_time": "2023-09-26T20:34:16.383Z"
   },
   {
    "duration": 215,
    "start_time": "2023-09-26T20:34:16.667Z"
   },
   {
    "duration": 74,
    "start_time": "2023-09-26T20:34:16.885Z"
   },
   {
    "duration": 233,
    "start_time": "2023-09-26T20:34:16.961Z"
   },
   {
    "duration": 182,
    "start_time": "2023-09-26T20:34:17.196Z"
   },
   {
    "duration": 106,
    "start_time": "2023-09-26T20:34:17.380Z"
   },
   {
    "duration": 1637,
    "start_time": "2023-09-26T20:34:17.488Z"
   },
   {
    "duration": 102,
    "start_time": "2023-09-26T20:34:19.127Z"
   },
   {
    "duration": 71,
    "start_time": "2023-09-26T20:34:19.233Z"
   },
   {
    "duration": 1210,
    "start_time": "2023-09-26T20:34:19.306Z"
   },
   {
    "duration": 457,
    "start_time": "2023-09-26T20:34:20.518Z"
   },
   {
    "duration": 968,
    "start_time": "2023-09-26T20:34:20.977Z"
   },
   {
    "duration": 541,
    "start_time": "2023-09-26T20:34:21.947Z"
   },
   {
    "duration": 503,
    "start_time": "2023-09-26T20:34:22.490Z"
   },
   {
    "duration": 266,
    "start_time": "2023-09-26T20:34:22.995Z"
   },
   {
    "duration": 197,
    "start_time": "2023-09-26T20:34:23.263Z"
   },
   {
    "duration": 142,
    "start_time": "2023-09-26T20:34:23.462Z"
   }
  ],
  "colab": {
   "provenance": []
  },
  "kernelspec": {
   "display_name": "Python 3 (ipykernel)",
   "language": "python",
   "name": "python3"
  },
  "language_info": {
   "codemirror_mode": {
    "name": "ipython",
    "version": 3
   },
   "file_extension": ".py",
   "mimetype": "text/x-python",
   "name": "python",
   "nbconvert_exporter": "python",
   "pygments_lexer": "ipython3",
   "version": "3.11.4"
  },
  "toc": {
   "base_numbering": 1,
   "nav_menu": {},
   "number_sections": true,
   "sideBar": true,
   "skip_h1_title": true,
   "title_cell": "Table of Contents",
   "title_sidebar": "Contents",
   "toc_cell": false,
   "toc_position": {
    "height": "calc(100% - 180px)",
    "left": "10px",
    "top": "150px",
    "width": "374.391px"
   },
   "toc_section_display": true,
   "toc_window_display": false
  }
 },
 "nbformat": 4,
 "nbformat_minor": 4
}
