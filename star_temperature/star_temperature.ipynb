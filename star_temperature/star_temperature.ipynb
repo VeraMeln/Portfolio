{
 "cells": [
  {
   "cell_type": "markdown",
   "id": "f026ba81",
   "metadata": {},
   "source": [
    "# Прогнозирование температуры звезды"
   ]
  },
  {
   "cell_type": "markdown",
   "id": "257e98e9",
   "metadata": {},
   "source": [
    "## Введение"
   ]
  },
  {
   "cell_type": "markdown",
   "id": "162f19b3",
   "metadata": {},
   "source": [
    "Задача от обсерватории «Небо на ладони»: придумать, как с помощью нейросети определять температуру на поверхности обнаруженных звёзд. Обычно для расчёта температуры учёные пользуются следующими методами:\n",
    "- Закон смещения Вина.\n",
    "- Закон Стефана-Больцмана.\n",
    "- Спектральный анализ.\n",
    "\n",
    "Каждый из них имеет плюсы и минусы. Обсерватория хочет внедрить технологии машинного обучения для предсказания температуры звёзд, надеясь, что этот метод будет наиболее точным и удобным.\n",
    "\n",
    "В базе обсерватории есть характеристики уже изученных 240 звёзд.\n",
    "\n",
    "**Необходимо разработать нейронную сеть, которая поможет предсказывать абсолютную температуру на поверхности звезды.**"
   ]
  },
  {
   "cell_type": "markdown",
   "id": "403a5bd2",
   "metadata": {},
   "source": [
    "## Описание данных"
   ]
  },
  {
   "cell_type": "markdown",
   "id": "b742ecc5",
   "metadata": {},
   "source": [
    "- Относительная светимость **L/Lo** — светимость звезды относительно Солнца.\n",
    "- Относительный радиус **R/Ro** — радиус звезды относительно радиуса Солнца.\n",
    "- Абсолютная звёздная величина **Mv** — физическая величина, характеризующая блеск звезды.\n",
    "- Звёздный **цвет** (white, red, blue, yellow, yellow-orange и др.) — цвет звезды, который определяют на основе спектрального анализа.\n",
    "- **Тип звезды**.\n",
    "|Тип звезды|Номер, соответствующий типу|\n",
    "|:--|:--:|\n",
    "|Коричневый карлик|0|\n",
    "|Красный карлик|1|\n",
    "|Белый карлик|2|\n",
    "|Звёзды главной последовательности|3|\n",
    "|Сверхгигант|4|\n",
    "|Гипергигант|5|\n",
    "- Абсолютная температура **T(K)** — температура на поверхности звезды в Кельвинах.\n"
   ]
  },
  {
   "cell_type": "markdown",
   "id": "d870bd38",
   "metadata": {},
   "source": [
    "## Импорт библиотек"
   ]
  },
  {
   "cell_type": "code",
   "execution_count": 1,
   "id": "f3e92a77",
   "metadata": {},
   "outputs": [],
   "source": [
    "import pandas as pd\n",
    "import torch \n",
    "import torch.nn as nn\n",
    "import random\n",
    "import numpy as np\n",
    "import matplotlib.pyplot as plt\n",
    "from math import ceil\n",
    "\n",
    "from sklearn.model_selection import train_test_split\n",
    "from sklearn.preprocessing import StandardScaler, OneHotEncoder"
   ]
  },
  {
   "cell_type": "markdown",
   "id": "corresponding-armstrong",
   "metadata": {
    "ExecuteTime": {
     "end_time": "2022-05-05T04:58:05.692448Z",
     "start_time": "2022-05-05T04:58:05.688565Z"
    }
   },
   "source": [
    "## Загрузка данных"
   ]
  },
  {
   "cell_type": "code",
   "execution_count": 2,
   "id": "15ca6dcc",
   "metadata": {},
   "outputs": [],
   "source": [
    "def first_look(df, num_of_srtings=5):\n",
    "    '''\n",
    "    функция для первичного знакомства с данными\n",
    "    '''\n",
    "    print('Общая информация')\n",
    "    display(df.info())\n",
    "    \n",
    "    print(f'Первые {num_of_srtings} строк(и) данных')\n",
    "    display(df.head(num_of_srtings))\n",
    "    \n",
    "    print('Основные статистические характеристики данных')\n",
    "    display(df.describe())\n",
    "    print('Количество пропусков:')\n",
    "    print(df.isna().sum())\n",
    "    print()\n",
    "    \n",
    "    print('Количество дубликатов:', df.duplicated().sum())"
   ]
  },
  {
   "cell_type": "code",
   "execution_count": 3,
   "id": "spectacular-folder",
   "metadata": {},
   "outputs": [],
   "source": [
    "data = pd.read_csv('/datasets/6_class.csv', index_col=0)"
   ]
  },
  {
   "cell_type": "code",
   "execution_count": 4,
   "id": "c5285e0f",
   "metadata": {},
   "outputs": [
    {
     "name": "stdout",
     "output_type": "stream",
     "text": [
      "Общая информация\n",
      "<class 'pandas.core.frame.DataFrame'>\n",
      "Int64Index: 240 entries, 0 to 239\n",
      "Data columns (total 6 columns):\n",
      " #   Column                  Non-Null Count  Dtype  \n",
      "---  ------                  --------------  -----  \n",
      " 0   Temperature (K)         240 non-null    int64  \n",
      " 1   Luminosity(L/Lo)        240 non-null    float64\n",
      " 2   Radius(R/Ro)            240 non-null    float64\n",
      " 3   Absolute magnitude(Mv)  240 non-null    float64\n",
      " 4   Star type               240 non-null    int64  \n",
      " 5   Star color              240 non-null    object \n",
      "dtypes: float64(3), int64(2), object(1)\n",
      "memory usage: 13.1+ KB\n"
     ]
    },
    {
     "data": {
      "text/plain": [
       "None"
      ]
     },
     "metadata": {},
     "output_type": "display_data"
    },
    {
     "name": "stdout",
     "output_type": "stream",
     "text": [
      "Первые 5 строк(и) данных\n"
     ]
    },
    {
     "data": {
      "text/html": [
       "<div>\n",
       "<style scoped>\n",
       "    .dataframe tbody tr th:only-of-type {\n",
       "        vertical-align: middle;\n",
       "    }\n",
       "\n",
       "    .dataframe tbody tr th {\n",
       "        vertical-align: top;\n",
       "    }\n",
       "\n",
       "    .dataframe thead th {\n",
       "        text-align: right;\n",
       "    }\n",
       "</style>\n",
       "<table border=\"1\" class=\"dataframe\">\n",
       "  <thead>\n",
       "    <tr style=\"text-align: right;\">\n",
       "      <th></th>\n",
       "      <th>Temperature (K)</th>\n",
       "      <th>Luminosity(L/Lo)</th>\n",
       "      <th>Radius(R/Ro)</th>\n",
       "      <th>Absolute magnitude(Mv)</th>\n",
       "      <th>Star type</th>\n",
       "      <th>Star color</th>\n",
       "    </tr>\n",
       "  </thead>\n",
       "  <tbody>\n",
       "    <tr>\n",
       "      <th>0</th>\n",
       "      <td>3068</td>\n",
       "      <td>0.002400</td>\n",
       "      <td>0.1700</td>\n",
       "      <td>16.12</td>\n",
       "      <td>0</td>\n",
       "      <td>Red</td>\n",
       "    </tr>\n",
       "    <tr>\n",
       "      <th>1</th>\n",
       "      <td>3042</td>\n",
       "      <td>0.000500</td>\n",
       "      <td>0.1542</td>\n",
       "      <td>16.60</td>\n",
       "      <td>0</td>\n",
       "      <td>Red</td>\n",
       "    </tr>\n",
       "    <tr>\n",
       "      <th>2</th>\n",
       "      <td>2600</td>\n",
       "      <td>0.000300</td>\n",
       "      <td>0.1020</td>\n",
       "      <td>18.70</td>\n",
       "      <td>0</td>\n",
       "      <td>Red</td>\n",
       "    </tr>\n",
       "    <tr>\n",
       "      <th>3</th>\n",
       "      <td>2800</td>\n",
       "      <td>0.000200</td>\n",
       "      <td>0.1600</td>\n",
       "      <td>16.65</td>\n",
       "      <td>0</td>\n",
       "      <td>Red</td>\n",
       "    </tr>\n",
       "    <tr>\n",
       "      <th>4</th>\n",
       "      <td>1939</td>\n",
       "      <td>0.000138</td>\n",
       "      <td>0.1030</td>\n",
       "      <td>20.06</td>\n",
       "      <td>0</td>\n",
       "      <td>Red</td>\n",
       "    </tr>\n",
       "  </tbody>\n",
       "</table>\n",
       "</div>"
      ],
      "text/plain": [
       "   Temperature (K)  Luminosity(L/Lo)  Radius(R/Ro)  Absolute magnitude(Mv)  \\\n",
       "0             3068          0.002400        0.1700                   16.12   \n",
       "1             3042          0.000500        0.1542                   16.60   \n",
       "2             2600          0.000300        0.1020                   18.70   \n",
       "3             2800          0.000200        0.1600                   16.65   \n",
       "4             1939          0.000138        0.1030                   20.06   \n",
       "\n",
       "   Star type Star color  \n",
       "0          0        Red  \n",
       "1          0        Red  \n",
       "2          0        Red  \n",
       "3          0        Red  \n",
       "4          0        Red  "
      ]
     },
     "metadata": {},
     "output_type": "display_data"
    },
    {
     "name": "stdout",
     "output_type": "stream",
     "text": [
      "Основные статистические характеристики данных\n"
     ]
    },
    {
     "data": {
      "text/html": [
       "<div>\n",
       "<style scoped>\n",
       "    .dataframe tbody tr th:only-of-type {\n",
       "        vertical-align: middle;\n",
       "    }\n",
       "\n",
       "    .dataframe tbody tr th {\n",
       "        vertical-align: top;\n",
       "    }\n",
       "\n",
       "    .dataframe thead th {\n",
       "        text-align: right;\n",
       "    }\n",
       "</style>\n",
       "<table border=\"1\" class=\"dataframe\">\n",
       "  <thead>\n",
       "    <tr style=\"text-align: right;\">\n",
       "      <th></th>\n",
       "      <th>Temperature (K)</th>\n",
       "      <th>Luminosity(L/Lo)</th>\n",
       "      <th>Radius(R/Ro)</th>\n",
       "      <th>Absolute magnitude(Mv)</th>\n",
       "      <th>Star type</th>\n",
       "    </tr>\n",
       "  </thead>\n",
       "  <tbody>\n",
       "    <tr>\n",
       "      <th>count</th>\n",
       "      <td>240.000000</td>\n",
       "      <td>240.000000</td>\n",
       "      <td>240.000000</td>\n",
       "      <td>240.000000</td>\n",
       "      <td>240.000000</td>\n",
       "    </tr>\n",
       "    <tr>\n",
       "      <th>mean</th>\n",
       "      <td>10497.462500</td>\n",
       "      <td>107188.361635</td>\n",
       "      <td>237.157781</td>\n",
       "      <td>4.382396</td>\n",
       "      <td>2.500000</td>\n",
       "    </tr>\n",
       "    <tr>\n",
       "      <th>std</th>\n",
       "      <td>9552.425037</td>\n",
       "      <td>179432.244940</td>\n",
       "      <td>517.155763</td>\n",
       "      <td>10.532512</td>\n",
       "      <td>1.711394</td>\n",
       "    </tr>\n",
       "    <tr>\n",
       "      <th>min</th>\n",
       "      <td>1939.000000</td>\n",
       "      <td>0.000080</td>\n",
       "      <td>0.008400</td>\n",
       "      <td>-11.920000</td>\n",
       "      <td>0.000000</td>\n",
       "    </tr>\n",
       "    <tr>\n",
       "      <th>25%</th>\n",
       "      <td>3344.250000</td>\n",
       "      <td>0.000865</td>\n",
       "      <td>0.102750</td>\n",
       "      <td>-6.232500</td>\n",
       "      <td>1.000000</td>\n",
       "    </tr>\n",
       "    <tr>\n",
       "      <th>50%</th>\n",
       "      <td>5776.000000</td>\n",
       "      <td>0.070500</td>\n",
       "      <td>0.762500</td>\n",
       "      <td>8.313000</td>\n",
       "      <td>2.500000</td>\n",
       "    </tr>\n",
       "    <tr>\n",
       "      <th>75%</th>\n",
       "      <td>15055.500000</td>\n",
       "      <td>198050.000000</td>\n",
       "      <td>42.750000</td>\n",
       "      <td>13.697500</td>\n",
       "      <td>4.000000</td>\n",
       "    </tr>\n",
       "    <tr>\n",
       "      <th>max</th>\n",
       "      <td>40000.000000</td>\n",
       "      <td>849420.000000</td>\n",
       "      <td>1948.500000</td>\n",
       "      <td>20.060000</td>\n",
       "      <td>5.000000</td>\n",
       "    </tr>\n",
       "  </tbody>\n",
       "</table>\n",
       "</div>"
      ],
      "text/plain": [
       "       Temperature (K)  Luminosity(L/Lo)  Radius(R/Ro)  \\\n",
       "count       240.000000        240.000000    240.000000   \n",
       "mean      10497.462500     107188.361635    237.157781   \n",
       "std        9552.425037     179432.244940    517.155763   \n",
       "min        1939.000000          0.000080      0.008400   \n",
       "25%        3344.250000          0.000865      0.102750   \n",
       "50%        5776.000000          0.070500      0.762500   \n",
       "75%       15055.500000     198050.000000     42.750000   \n",
       "max       40000.000000     849420.000000   1948.500000   \n",
       "\n",
       "       Absolute magnitude(Mv)   Star type  \n",
       "count              240.000000  240.000000  \n",
       "mean                 4.382396    2.500000  \n",
       "std                 10.532512    1.711394  \n",
       "min                -11.920000    0.000000  \n",
       "25%                 -6.232500    1.000000  \n",
       "50%                  8.313000    2.500000  \n",
       "75%                 13.697500    4.000000  \n",
       "max                 20.060000    5.000000  "
      ]
     },
     "metadata": {},
     "output_type": "display_data"
    },
    {
     "name": "stdout",
     "output_type": "stream",
     "text": [
      "Количество пропусков:\n",
      "Temperature (K)           0\n",
      "Luminosity(L/Lo)          0\n",
      "Radius(R/Ro)              0\n",
      "Absolute magnitude(Mv)    0\n",
      "Star type                 0\n",
      "Star color                0\n",
      "dtype: int64\n",
      "\n",
      "Количество дубликатов: 0\n"
     ]
    }
   ],
   "source": [
    "first_look(data)"
   ]
  },
  {
   "cell_type": "code",
   "execution_count": 5,
   "id": "c2ed7e22",
   "metadata": {},
   "outputs": [
    {
     "data": {
      "image/png": "[encoded data removed]",
      "text/plain": [
       "<Figure size 864x864 with 6 Axes>"
      ]
     },
     "metadata": {
      "needs_background": "light"
     },
     "output_type": "display_data"
    }
   ],
   "source": [
    "data.hist(\n",
    "    bins=30,\n",
    "    figsize=(12, 12)\n",
    ");"
   ]
  },
  {
   "cell_type": "code",
   "execution_count": 6,
   "id": "0b2cc7b3",
   "metadata": {},
   "outputs": [
    {
     "data": {
      "text/plain": [
       "48.333333333333336"
      ]
     },
     "execution_count": 6,
     "metadata": {},
     "output_type": "execute_result"
    }
   ],
   "source": [
    "# процент данных о звездах с температурой ниже 5 000 К\n",
    "data[data['Temperature (K)'] < 5_000].shape[0] / data.shape[0] * 100"
   ]
  },
  {
   "cell_type": "markdown",
   "id": "7faa9dfa",
   "metadata": {},
   "source": [
    "В доступном наборе данных содержатся результаты измерений шести параметров 240 звезд. Явных дубликатов и пропусков нет.\n",
    "\n",
    "Три признака количественные, два – категориальные, причем один из них (тип звезды) представлен числом. \n",
    "\n",
    "Большинство звезд имеют температуру ниже 5000 К, относительный радиус и относительную светимость, близкие к показателям Солнца. Абсолютная звёздная величина принимает как отрицательные, так и положительные значения. \n",
    "\n",
    "Температура звезд в предоставленном наборе данных меняется в диапазоне от 1 939 К до 40 000 К. На гистограмме видно, что 48 % наблюдений имеет температуру до 5 000 К. Для звезд с большей температурой примеров относительно меньше.\n",
    "\n",
    "Отрицательную звездную величину имеют самые яркие звезды, а также некоторые планеты и галактики. Например, самая яркая звезда на нашем небосводе — Сириус, имеет отрицательную звездную величину -1,46. \n",
    "Также, планета Венера может иметь отрицательную звездную величину при своем максимальном сиянии. Практический пример использования отрицательной звездной величины — это использование астрономами для поиска наиболее ярких объектов на небе.\n",
    "\n",
    "На гистограммах видно, что числовые характеристики принимают значения в различных диапазонах, следовательно, данные нужно будет масштабировать.\n",
    "\n",
    "Всего в наборе есть данные о 6 типах звезд, по 40 примеров каждого типа."
   ]
  },
  {
   "cell_type": "markdown",
   "id": "simple-subdivision",
   "metadata": {},
   "source": [
    "## Предобработка и анализ данных"
   ]
  },
  {
   "cell_type": "markdown",
   "id": "97f75be0",
   "metadata": {},
   "source": [
    "В названиях столбцов присутствуют пробелы и заглавные буквы. Изменим регистр на нижний во всех случаях, а пробелы заменим нижним подчеркиванием."
   ]
  },
  {
   "cell_type": "code",
   "execution_count": 7,
   "id": "f28b083f",
   "metadata": {},
   "outputs": [],
   "source": [
    "# изменяем регистр\n",
    "data.columns = data.columns.str.lower()"
   ]
  },
  {
   "cell_type": "code",
   "execution_count": 8,
   "id": "874298c2",
   "metadata": {},
   "outputs": [],
   "source": [
    "# заменяем пробелы нижним подчеркиванием\n",
    "data.columns = data.columns.str.replace('(', ' (', regex=True)\n",
    "data.columns = data.columns.str.replace('  ', ' ')\n",
    "data.columns = data.columns.str.replace(' ', '_')"
   ]
  },
  {
   "cell_type": "code",
   "execution_count": 9,
   "id": "6912b2d5",
   "metadata": {},
   "outputs": [
    {
     "data": {
      "text/plain": [
       "Index(['temperature_(k)', 'luminosity_(l/lo)', 'radius_(r/ro)',\n",
       "       'absolute_magnitude_(mv)', 'star_type', 'star_color'],\n",
       "      dtype='object')"
      ]
     },
     "execution_count": 9,
     "metadata": {},
     "output_type": "execute_result"
    }
   ],
   "source": [
    "# проверяем результат\n",
    "data.columns"
   ]
  },
  {
   "cell_type": "markdown",
   "id": "4c201a85",
   "metadata": {},
   "source": [
    "### Цвет звезды"
   ]
  },
  {
   "cell_type": "markdown",
   "id": "0fe92a45",
   "metadata": {},
   "source": [
    "Посмотрим количество уникальных значений."
   ]
  },
  {
   "cell_type": "code",
   "execution_count": 10,
   "id": "6fb9bb9c",
   "metadata": {},
   "outputs": [
    {
     "data": {
      "text/plain": [
       "19"
      ]
     },
     "execution_count": 10,
     "metadata": {},
     "output_type": "execute_result"
    }
   ],
   "source": [
    "data['star_color'].nunique()"
   ]
  },
  {
   "cell_type": "code",
   "execution_count": 11,
   "id": "flush-dream",
   "metadata": {},
   "outputs": [
    {
     "data": {
      "text/plain": [
       "Red                   112\n",
       "Blue                   55\n",
       "Blue-white             26\n",
       "Blue White             10\n",
       "yellow-white            8\n",
       "White                   7\n",
       "Blue white              3\n",
       "white                   3\n",
       "Yellowish White         3\n",
       "Whitish                 2\n",
       "Orange                  2\n",
       "yellowish               2\n",
       "Pale yellow orange      1\n",
       "White-Yellow            1\n",
       "Blue                    1\n",
       "Blue white              1\n",
       "Yellowish               1\n",
       "Blue-White              1\n",
       "Orange-Red              1\n",
       "Name: star_color, dtype: int64"
      ]
     },
     "execution_count": 11,
     "metadata": {},
     "output_type": "execute_result"
    }
   ],
   "source": [
    "data['star_color'].value_counts()"
   ]
  },
  {
   "cell_type": "markdown",
   "id": "7c505816",
   "metadata": {},
   "source": [
    "Категориальный признак «Цвет звезды» содержит 19 значений, среди них присутствуют неявные дубликаты. Встречаются разные способы обозначения цвета, непостоянство в регистрах, лишние пробелы. Изменим их по следующему правилу: названия цветов начинаются с маленькой буквы, несколько цветов пишутся через пробел, без окончания -ish."
   ]
  },
  {
   "cell_type": "code",
   "execution_count": 12,
   "id": "61e8209f",
   "metadata": {},
   "outputs": [],
   "source": [
    "# изменим регистр\n",
    "data['star_color'] = data['star_color'].str.lower()"
   ]
  },
  {
   "cell_type": "markdown",
   "id": "656c4e82",
   "metadata": {},
   "source": [
    "Обработаем дубликаты."
   ]
  },
  {
   "cell_type": "code",
   "execution_count": 13,
   "id": "6673646a",
   "metadata": {},
   "outputs": [],
   "source": [
    "# словарь для замены неявных дубликатов цвета звезды\n",
    "star_color_to_replace = {\n",
    "    \"blue-white\" : \"blue white\",\n",
    "    \"blue white \" : \"blue white\",\n",
    "    \"yellow-white\" : \"yellow white\",\n",
    "    \"yellowish white\" : \"yellow white\",\n",
    "    \"white-yellow\" : \"yellow white\",\n",
    "    \"whitish\" : \"white\",\n",
    "    \"blue \" : \"blue\",\n",
    "    \"orange-red\" : \"orange red\",\n",
    "    \"pale yellow orange \" : \"yellow orange\",\n",
    "    \"yellowish \" : \"yellow\",\n",
    "}\n",
    "\n",
    "# проводим замену\n",
    "data['star_color'].replace(star_color_to_replace, inplace=True)\n"
   ]
  },
  {
   "cell_type": "markdown",
   "id": "707fe194",
   "metadata": {},
   "source": [
    "Посмотрим на результат преобразований."
   ]
  },
  {
   "cell_type": "code",
   "execution_count": 14,
   "id": "739840dc",
   "metadata": {},
   "outputs": [
    {
     "data": {
      "text/plain": [
       "9"
      ]
     },
     "execution_count": 14,
     "metadata": {},
     "output_type": "execute_result"
    }
   ],
   "source": [
    "# количество уникальных значений\n",
    "data['star_color'].nunique()"
   ]
  },
  {
   "cell_type": "code",
   "execution_count": 15,
   "id": "410cb1f5",
   "metadata": {},
   "outputs": [
    {
     "data": {
      "text/plain": [
       "red                   112\n",
       "blue                   56\n",
       "blue white             41\n",
       "white                  12\n",
       "yellow white           12\n",
       "yellowish               3\n",
       "orange                  2\n",
       "orange red              1\n",
       "pale yellow orange      1\n",
       "Name: star_color, dtype: int64"
      ]
     },
     "execution_count": 15,
     "metadata": {},
     "output_type": "execute_result"
    }
   ],
   "source": [
    "data['star_color'].value_counts()"
   ]
  },
  {
   "cell_type": "code",
   "execution_count": 16,
   "id": "bb13f6a7",
   "metadata": {},
   "outputs": [
    {
     "data": {
      "image/png": "[encoded data removed]",
      "text/plain": [
       "<Figure size 792x432 with 1 Axes>"
      ]
     },
     "metadata": {
      "needs_background": "light"
     },
     "output_type": "display_data"
    }
   ],
   "source": [
    "chart = data['star_color'].value_counts().plot(\n",
    "        kind='bar',\n",
    "        rot=45,\n",
    "        figsize=(11, 6),\n",
    "        fontsize=16\n",
    "    )\n",
    "chart.set_title('Количество звезд по цветам', fontsize=16);"
   ]
  },
  {
   "cell_type": "markdown",
   "id": "adcea6a1",
   "metadata": {},
   "source": [
    "По диаграмме видно, что из девяти цветов чаще всего в наборе данных встречается красный, на втором месте по популярности голубой и бело-голубой."
   ]
  },
  {
   "cell_type": "markdown",
   "id": "7226433e",
   "metadata": {},
   "source": [
    "### Подготовка данных к обучению модели"
   ]
  },
  {
   "cell_type": "markdown",
   "id": "ed3215ec",
   "metadata": {},
   "source": [
    "#### Выделение выборок"
   ]
  },
  {
   "cell_type": "markdown",
   "id": "5e8889fb",
   "metadata": {},
   "source": [
    "Разобьем наши данные на тестовую и тренировочную выборки."
   ]
  },
  {
   "cell_type": "code",
   "execution_count": 17,
   "id": "46d45243",
   "metadata": {},
   "outputs": [],
   "source": [
    "x_train, x_test, y_train, y_test = train_test_split(\n",
    "    data.drop('temperature_(k)', axis=1),\n",
    "    data['temperature_(k)'],\n",
    "    test_size=.3,\n",
    "    shuffle=True,\n",
    "    random_state=42\n",
    ")"
   ]
  },
  {
   "cell_type": "code",
   "execution_count": 18,
   "id": "f1f49953",
   "metadata": {},
   "outputs": [
    {
     "data": {
      "text/plain": [
       "True"
      ]
     },
     "execution_count": 18,
     "metadata": {},
     "output_type": "execute_result"
    }
   ],
   "source": [
    "# проверка правильности разбиения\n",
    "x_train.shape[0] + x_test.shape[0] == data.shape[0]"
   ]
  },
  {
   "cell_type": "code",
   "execution_count": 19,
   "id": "4398607f",
   "metadata": {},
   "outputs": [
    {
     "data": {
      "text/plain": [
       "True"
      ]
     },
     "execution_count": 19,
     "metadata": {},
     "output_type": "execute_result"
    }
   ],
   "source": [
    "# проверка правильности разбиения\n",
    "y_train.shape[0] + y_test.shape[0] == data.shape[0]"
   ]
  },
  {
   "cell_type": "code",
   "execution_count": 20,
   "id": "3bcb9860",
   "metadata": {},
   "outputs": [
    {
     "data": {
      "text/html": [
       "<div>\n",
       "<style scoped>\n",
       "    .dataframe tbody tr th:only-of-type {\n",
       "        vertical-align: middle;\n",
       "    }\n",
       "\n",
       "    .dataframe tbody tr th {\n",
       "        vertical-align: top;\n",
       "    }\n",
       "\n",
       "    .dataframe thead th {\n",
       "        text-align: right;\n",
       "    }\n",
       "</style>\n",
       "<table border=\"1\" class=\"dataframe\">\n",
       "  <thead>\n",
       "    <tr style=\"text-align: right;\">\n",
       "      <th></th>\n",
       "      <th>luminosity_(l/lo)</th>\n",
       "      <th>radius_(r/ro)</th>\n",
       "      <th>absolute_magnitude_(mv)</th>\n",
       "      <th>star_type</th>\n",
       "      <th>star_color</th>\n",
       "    </tr>\n",
       "  </thead>\n",
       "  <tbody>\n",
       "    <tr>\n",
       "      <th>29</th>\n",
       "      <td>0.00008</td>\n",
       "      <td>0.0130</td>\n",
       "      <td>14.08</td>\n",
       "      <td>2</td>\n",
       "      <td>pale yellow orange</td>\n",
       "    </tr>\n",
       "    <tr>\n",
       "      <th>124</th>\n",
       "      <td>0.00064</td>\n",
       "      <td>0.1090</td>\n",
       "      <td>17.12</td>\n",
       "      <td>0</td>\n",
       "      <td>red</td>\n",
       "    </tr>\n",
       "    <tr>\n",
       "      <th>75</th>\n",
       "      <td>0.00100</td>\n",
       "      <td>0.3500</td>\n",
       "      <td>11.76</td>\n",
       "      <td>1</td>\n",
       "      <td>red</td>\n",
       "    </tr>\n",
       "    <tr>\n",
       "      <th>82</th>\n",
       "      <td>0.00056</td>\n",
       "      <td>0.0095</td>\n",
       "      <td>13.78</td>\n",
       "      <td>2</td>\n",
       "      <td>white</td>\n",
       "    </tr>\n",
       "    <tr>\n",
       "      <th>5</th>\n",
       "      <td>0.00065</td>\n",
       "      <td>0.1100</td>\n",
       "      <td>16.98</td>\n",
       "      <td>0</td>\n",
       "      <td>red</td>\n",
       "    </tr>\n",
       "  </tbody>\n",
       "</table>\n",
       "</div>"
      ],
      "text/plain": [
       "     luminosity_(l/lo)  radius_(r/ro)  absolute_magnitude_(mv)  star_type  \\\n",
       "29             0.00008         0.0130                    14.08          2   \n",
       "124            0.00064         0.1090                    17.12          0   \n",
       "75             0.00100         0.3500                    11.76          1   \n",
       "82             0.00056         0.0095                    13.78          2   \n",
       "5              0.00065         0.1100                    16.98          0   \n",
       "\n",
       "             star_color  \n",
       "29   pale yellow orange  \n",
       "124                 red  \n",
       "75                  red  \n",
       "82                white  \n",
       "5                   red  "
      ]
     },
     "execution_count": 20,
     "metadata": {},
     "output_type": "execute_result"
    }
   ],
   "source": [
    "x_train.head()"
   ]
  },
  {
   "cell_type": "markdown",
   "id": "d869c428",
   "metadata": {},
   "source": [
    "#### Обработка категориальных значений"
   ]
  },
  {
   "cell_type": "markdown",
   "id": "38aa07fb",
   "metadata": {},
   "source": [
    "После разбиения данных на выборки проведем обработку категориальных значений, а затем масштабируем данные.\n",
    "\n",
    "К категориальным признакам относятся цвет звезды и ее тип."
   ]
  },
  {
   "cell_type": "code",
   "execution_count": 21,
   "id": "ad11ddf7",
   "metadata": {},
   "outputs": [],
   "source": [
    "numeric = ['luminosity_(l/lo)', 'radius_(r/ro)', 'absolute_magnitude_(mv)']\n",
    "categorical = ['star_color', 'star_type']"
   ]
  },
  {
   "cell_type": "markdown",
   "id": "f7450677",
   "metadata": {},
   "source": [
    "Для преобразования категориальных значений будем использовать технику One-Hot кодирования. Воспользуемся инструментом из библиотеки Scikit Learn."
   ]
  },
  {
   "cell_type": "code",
   "execution_count": 22,
   "id": "3361006d",
   "metadata": {},
   "outputs": [],
   "source": [
    "# инициализация кодировщика \n",
    "ohe = OneHotEncoder(\n",
    "    sparse=False,\n",
    "    handle_unknown='ignore'\n",
    ")"
   ]
  },
  {
   "cell_type": "code",
   "execution_count": 23,
   "id": "4139dcba",
   "metadata": {},
   "outputs": [],
   "source": [
    "# обучение кодировщика\n",
    "# и обработка тренировочной выборки\n",
    "\n",
    "x_train_cat = x_train[categorical]\n",
    "x_train_cat =  pd.DataFrame(ohe.fit_transform(x_train_cat))"
   ]
  },
  {
   "cell_type": "code",
   "execution_count": 24,
   "id": "de7ca6b9",
   "metadata": {},
   "outputs": [
    {
     "data": {
      "text/html": [
       "<div>\n",
       "<style scoped>\n",
       "    .dataframe tbody tr th:only-of-type {\n",
       "        vertical-align: middle;\n",
       "    }\n",
       "\n",
       "    .dataframe tbody tr th {\n",
       "        vertical-align: top;\n",
       "    }\n",
       "\n",
       "    .dataframe thead th {\n",
       "        text-align: right;\n",
       "    }\n",
       "</style>\n",
       "<table border=\"1\" class=\"dataframe\">\n",
       "  <thead>\n",
       "    <tr style=\"text-align: right;\">\n",
       "      <th></th>\n",
       "      <th>0</th>\n",
       "      <th>1</th>\n",
       "      <th>2</th>\n",
       "      <th>3</th>\n",
       "      <th>4</th>\n",
       "      <th>5</th>\n",
       "      <th>6</th>\n",
       "      <th>7</th>\n",
       "      <th>8</th>\n",
       "      <th>9</th>\n",
       "      <th>10</th>\n",
       "      <th>11</th>\n",
       "      <th>12</th>\n",
       "      <th>13</th>\n",
       "    </tr>\n",
       "  </thead>\n",
       "  <tbody>\n",
       "    <tr>\n",
       "      <th>0</th>\n",
       "      <td>0.0</td>\n",
       "      <td>0.0</td>\n",
       "      <td>0.0</td>\n",
       "      <td>1.0</td>\n",
       "      <td>0.0</td>\n",
       "      <td>0.0</td>\n",
       "      <td>0.0</td>\n",
       "      <td>0.0</td>\n",
       "      <td>0.0</td>\n",
       "      <td>0.0</td>\n",
       "      <td>1.0</td>\n",
       "      <td>0.0</td>\n",
       "      <td>0.0</td>\n",
       "      <td>0.0</td>\n",
       "    </tr>\n",
       "    <tr>\n",
       "      <th>1</th>\n",
       "      <td>0.0</td>\n",
       "      <td>0.0</td>\n",
       "      <td>0.0</td>\n",
       "      <td>0.0</td>\n",
       "      <td>1.0</td>\n",
       "      <td>0.0</td>\n",
       "      <td>0.0</td>\n",
       "      <td>0.0</td>\n",
       "      <td>1.0</td>\n",
       "      <td>0.0</td>\n",
       "      <td>0.0</td>\n",
       "      <td>0.0</td>\n",
       "      <td>0.0</td>\n",
       "      <td>0.0</td>\n",
       "    </tr>\n",
       "    <tr>\n",
       "      <th>2</th>\n",
       "      <td>0.0</td>\n",
       "      <td>0.0</td>\n",
       "      <td>0.0</td>\n",
       "      <td>0.0</td>\n",
       "      <td>1.0</td>\n",
       "      <td>0.0</td>\n",
       "      <td>0.0</td>\n",
       "      <td>0.0</td>\n",
       "      <td>0.0</td>\n",
       "      <td>1.0</td>\n",
       "      <td>0.0</td>\n",
       "      <td>0.0</td>\n",
       "      <td>0.0</td>\n",
       "      <td>0.0</td>\n",
       "    </tr>\n",
       "    <tr>\n",
       "      <th>3</th>\n",
       "      <td>0.0</td>\n",
       "      <td>0.0</td>\n",
       "      <td>0.0</td>\n",
       "      <td>0.0</td>\n",
       "      <td>0.0</td>\n",
       "      <td>1.0</td>\n",
       "      <td>0.0</td>\n",
       "      <td>0.0</td>\n",
       "      <td>0.0</td>\n",
       "      <td>0.0</td>\n",
       "      <td>1.0</td>\n",
       "      <td>0.0</td>\n",
       "      <td>0.0</td>\n",
       "      <td>0.0</td>\n",
       "    </tr>\n",
       "    <tr>\n",
       "      <th>4</th>\n",
       "      <td>0.0</td>\n",
       "      <td>0.0</td>\n",
       "      <td>0.0</td>\n",
       "      <td>0.0</td>\n",
       "      <td>1.0</td>\n",
       "      <td>0.0</td>\n",
       "      <td>0.0</td>\n",
       "      <td>0.0</td>\n",
       "      <td>1.0</td>\n",
       "      <td>0.0</td>\n",
       "      <td>0.0</td>\n",
       "      <td>0.0</td>\n",
       "      <td>0.0</td>\n",
       "      <td>0.0</td>\n",
       "    </tr>\n",
       "  </tbody>\n",
       "</table>\n",
       "</div>"
      ],
      "text/plain": [
       "    0    1    2    3    4    5    6    7    8    9    10   11   12   13\n",
       "0  0.0  0.0  0.0  1.0  0.0  0.0  0.0  0.0  0.0  0.0  1.0  0.0  0.0  0.0\n",
       "1  0.0  0.0  0.0  0.0  1.0  0.0  0.0  0.0  1.0  0.0  0.0  0.0  0.0  0.0\n",
       "2  0.0  0.0  0.0  0.0  1.0  0.0  0.0  0.0  0.0  1.0  0.0  0.0  0.0  0.0\n",
       "3  0.0  0.0  0.0  0.0  0.0  1.0  0.0  0.0  0.0  0.0  1.0  0.0  0.0  0.0\n",
       "4  0.0  0.0  0.0  0.0  1.0  0.0  0.0  0.0  1.0  0.0  0.0  0.0  0.0  0.0"
      ]
     },
     "execution_count": 24,
     "metadata": {},
     "output_type": "execute_result"
    }
   ],
   "source": [
    "x_train_cat.head()"
   ]
  },
  {
   "cell_type": "code",
   "execution_count": 25,
   "id": "d9aa52da",
   "metadata": {},
   "outputs": [],
   "source": [
    "# обработка тестовой выборки\n",
    "x_test_cat = x_test[categorical]\n",
    "x_test_cat = pd.DataFrame(ohe.transform(x_test_cat))"
   ]
  },
  {
   "cell_type": "code",
   "execution_count": 26,
   "id": "f69090c8",
   "metadata": {},
   "outputs": [
    {
     "data": {
      "text/html": [
       "<div>\n",
       "<style scoped>\n",
       "    .dataframe tbody tr th:only-of-type {\n",
       "        vertical-align: middle;\n",
       "    }\n",
       "\n",
       "    .dataframe tbody tr th {\n",
       "        vertical-align: top;\n",
       "    }\n",
       "\n",
       "    .dataframe thead th {\n",
       "        text-align: right;\n",
       "    }\n",
       "</style>\n",
       "<table border=\"1\" class=\"dataframe\">\n",
       "  <thead>\n",
       "    <tr style=\"text-align: right;\">\n",
       "      <th></th>\n",
       "      <th>0</th>\n",
       "      <th>1</th>\n",
       "      <th>2</th>\n",
       "      <th>3</th>\n",
       "      <th>4</th>\n",
       "      <th>5</th>\n",
       "      <th>6</th>\n",
       "      <th>7</th>\n",
       "      <th>8</th>\n",
       "      <th>9</th>\n",
       "      <th>10</th>\n",
       "      <th>11</th>\n",
       "      <th>12</th>\n",
       "      <th>13</th>\n",
       "    </tr>\n",
       "  </thead>\n",
       "  <tbody>\n",
       "    <tr>\n",
       "      <th>0</th>\n",
       "      <td>0.0</td>\n",
       "      <td>1.0</td>\n",
       "      <td>0.0</td>\n",
       "      <td>0.0</td>\n",
       "      <td>0.0</td>\n",
       "      <td>0.0</td>\n",
       "      <td>0.0</td>\n",
       "      <td>0.0</td>\n",
       "      <td>0.0</td>\n",
       "      <td>0.0</td>\n",
       "      <td>1.0</td>\n",
       "      <td>0.0</td>\n",
       "      <td>0.0</td>\n",
       "      <td>0.0</td>\n",
       "    </tr>\n",
       "    <tr>\n",
       "      <th>1</th>\n",
       "      <td>0.0</td>\n",
       "      <td>0.0</td>\n",
       "      <td>0.0</td>\n",
       "      <td>0.0</td>\n",
       "      <td>1.0</td>\n",
       "      <td>0.0</td>\n",
       "      <td>0.0</td>\n",
       "      <td>0.0</td>\n",
       "      <td>1.0</td>\n",
       "      <td>0.0</td>\n",
       "      <td>0.0</td>\n",
       "      <td>0.0</td>\n",
       "      <td>0.0</td>\n",
       "      <td>0.0</td>\n",
       "    </tr>\n",
       "    <tr>\n",
       "      <th>2</th>\n",
       "      <td>0.0</td>\n",
       "      <td>0.0</td>\n",
       "      <td>0.0</td>\n",
       "      <td>0.0</td>\n",
       "      <td>0.0</td>\n",
       "      <td>0.0</td>\n",
       "      <td>0.0</td>\n",
       "      <td>1.0</td>\n",
       "      <td>0.0</td>\n",
       "      <td>0.0</td>\n",
       "      <td>0.0</td>\n",
       "      <td>1.0</td>\n",
       "      <td>0.0</td>\n",
       "      <td>0.0</td>\n",
       "    </tr>\n",
       "    <tr>\n",
       "      <th>3</th>\n",
       "      <td>1.0</td>\n",
       "      <td>0.0</td>\n",
       "      <td>0.0</td>\n",
       "      <td>0.0</td>\n",
       "      <td>0.0</td>\n",
       "      <td>0.0</td>\n",
       "      <td>0.0</td>\n",
       "      <td>0.0</td>\n",
       "      <td>0.0</td>\n",
       "      <td>0.0</td>\n",
       "      <td>0.0</td>\n",
       "      <td>0.0</td>\n",
       "      <td>1.0</td>\n",
       "      <td>0.0</td>\n",
       "    </tr>\n",
       "    <tr>\n",
       "      <th>4</th>\n",
       "      <td>1.0</td>\n",
       "      <td>0.0</td>\n",
       "      <td>0.0</td>\n",
       "      <td>0.0</td>\n",
       "      <td>0.0</td>\n",
       "      <td>0.0</td>\n",
       "      <td>0.0</td>\n",
       "      <td>0.0</td>\n",
       "      <td>0.0</td>\n",
       "      <td>0.0</td>\n",
       "      <td>0.0</td>\n",
       "      <td>0.0</td>\n",
       "      <td>1.0</td>\n",
       "      <td>0.0</td>\n",
       "    </tr>\n",
       "  </tbody>\n",
       "</table>\n",
       "</div>"
      ],
      "text/plain": [
       "    0    1    2    3    4    5    6    7    8    9    10   11   12   13\n",
       "0  0.0  1.0  0.0  0.0  0.0  0.0  0.0  0.0  0.0  0.0  1.0  0.0  0.0  0.0\n",
       "1  0.0  0.0  0.0  0.0  1.0  0.0  0.0  0.0  1.0  0.0  0.0  0.0  0.0  0.0\n",
       "2  0.0  0.0  0.0  0.0  0.0  0.0  0.0  1.0  0.0  0.0  0.0  1.0  0.0  0.0\n",
       "3  1.0  0.0  0.0  0.0  0.0  0.0  0.0  0.0  0.0  0.0  0.0  0.0  1.0  0.0\n",
       "4  1.0  0.0  0.0  0.0  0.0  0.0  0.0  0.0  0.0  0.0  0.0  0.0  1.0  0.0"
      ]
     },
     "execution_count": 26,
     "metadata": {},
     "output_type": "execute_result"
    }
   ],
   "source": [
    "x_test_cat.head()"
   ]
  },
  {
   "cell_type": "markdown",
   "id": "d420f850",
   "metadata": {},
   "source": [
    "Собираем вместе числовые и обработанные категориальные признаки."
   ]
  },
  {
   "cell_type": "code",
   "execution_count": 27,
   "id": "03091eab",
   "metadata": {},
   "outputs": [],
   "source": [
    "# тренировочная выборка\n",
    "x_train_ohe =pd.merge(\n",
    "    x_train[numeric].reset_index(drop=True),\n",
    "    x_train_cat.add_prefix('ohe'),\n",
    "    left_index=True, \n",
    "    right_index=True)"
   ]
  },
  {
   "cell_type": "code",
   "execution_count": 28,
   "id": "35b30915",
   "metadata": {},
   "outputs": [
    {
     "data": {
      "text/html": [
       "<div>\n",
       "<style scoped>\n",
       "    .dataframe tbody tr th:only-of-type {\n",
       "        vertical-align: middle;\n",
       "    }\n",
       "\n",
       "    .dataframe tbody tr th {\n",
       "        vertical-align: top;\n",
       "    }\n",
       "\n",
       "    .dataframe thead th {\n",
       "        text-align: right;\n",
       "    }\n",
       "</style>\n",
       "<table border=\"1\" class=\"dataframe\">\n",
       "  <thead>\n",
       "    <tr style=\"text-align: right;\">\n",
       "      <th></th>\n",
       "      <th>luminosity_(l/lo)</th>\n",
       "      <th>radius_(r/ro)</th>\n",
       "      <th>absolute_magnitude_(mv)</th>\n",
       "      <th>ohe0</th>\n",
       "      <th>ohe1</th>\n",
       "      <th>ohe2</th>\n",
       "      <th>ohe3</th>\n",
       "      <th>ohe4</th>\n",
       "      <th>ohe5</th>\n",
       "      <th>ohe6</th>\n",
       "      <th>ohe7</th>\n",
       "      <th>ohe8</th>\n",
       "      <th>ohe9</th>\n",
       "      <th>ohe10</th>\n",
       "      <th>ohe11</th>\n",
       "      <th>ohe12</th>\n",
       "      <th>ohe13</th>\n",
       "    </tr>\n",
       "  </thead>\n",
       "  <tbody>\n",
       "    <tr>\n",
       "      <th>0</th>\n",
       "      <td>0.00008</td>\n",
       "      <td>0.0130</td>\n",
       "      <td>14.08</td>\n",
       "      <td>0.0</td>\n",
       "      <td>0.0</td>\n",
       "      <td>0.0</td>\n",
       "      <td>1.0</td>\n",
       "      <td>0.0</td>\n",
       "      <td>0.0</td>\n",
       "      <td>0.0</td>\n",
       "      <td>0.0</td>\n",
       "      <td>0.0</td>\n",
       "      <td>0.0</td>\n",
       "      <td>1.0</td>\n",
       "      <td>0.0</td>\n",
       "      <td>0.0</td>\n",
       "      <td>0.0</td>\n",
       "    </tr>\n",
       "    <tr>\n",
       "      <th>1</th>\n",
       "      <td>0.00064</td>\n",
       "      <td>0.1090</td>\n",
       "      <td>17.12</td>\n",
       "      <td>0.0</td>\n",
       "      <td>0.0</td>\n",
       "      <td>0.0</td>\n",
       "      <td>0.0</td>\n",
       "      <td>1.0</td>\n",
       "      <td>0.0</td>\n",
       "      <td>0.0</td>\n",
       "      <td>0.0</td>\n",
       "      <td>1.0</td>\n",
       "      <td>0.0</td>\n",
       "      <td>0.0</td>\n",
       "      <td>0.0</td>\n",
       "      <td>0.0</td>\n",
       "      <td>0.0</td>\n",
       "    </tr>\n",
       "    <tr>\n",
       "      <th>2</th>\n",
       "      <td>0.00100</td>\n",
       "      <td>0.3500</td>\n",
       "      <td>11.76</td>\n",
       "      <td>0.0</td>\n",
       "      <td>0.0</td>\n",
       "      <td>0.0</td>\n",
       "      <td>0.0</td>\n",
       "      <td>1.0</td>\n",
       "      <td>0.0</td>\n",
       "      <td>0.0</td>\n",
       "      <td>0.0</td>\n",
       "      <td>0.0</td>\n",
       "      <td>1.0</td>\n",
       "      <td>0.0</td>\n",
       "      <td>0.0</td>\n",
       "      <td>0.0</td>\n",
       "      <td>0.0</td>\n",
       "    </tr>\n",
       "    <tr>\n",
       "      <th>3</th>\n",
       "      <td>0.00056</td>\n",
       "      <td>0.0095</td>\n",
       "      <td>13.78</td>\n",
       "      <td>0.0</td>\n",
       "      <td>0.0</td>\n",
       "      <td>0.0</td>\n",
       "      <td>0.0</td>\n",
       "      <td>0.0</td>\n",
       "      <td>1.0</td>\n",
       "      <td>0.0</td>\n",
       "      <td>0.0</td>\n",
       "      <td>0.0</td>\n",
       "      <td>0.0</td>\n",
       "      <td>1.0</td>\n",
       "      <td>0.0</td>\n",
       "      <td>0.0</td>\n",
       "      <td>0.0</td>\n",
       "    </tr>\n",
       "    <tr>\n",
       "      <th>4</th>\n",
       "      <td>0.00065</td>\n",
       "      <td>0.1100</td>\n",
       "      <td>16.98</td>\n",
       "      <td>0.0</td>\n",
       "      <td>0.0</td>\n",
       "      <td>0.0</td>\n",
       "      <td>0.0</td>\n",
       "      <td>1.0</td>\n",
       "      <td>0.0</td>\n",
       "      <td>0.0</td>\n",
       "      <td>0.0</td>\n",
       "      <td>1.0</td>\n",
       "      <td>0.0</td>\n",
       "      <td>0.0</td>\n",
       "      <td>0.0</td>\n",
       "      <td>0.0</td>\n",
       "      <td>0.0</td>\n",
       "    </tr>\n",
       "  </tbody>\n",
       "</table>\n",
       "</div>"
      ],
      "text/plain": [
       "   luminosity_(l/lo)  radius_(r/ro)  absolute_magnitude_(mv)  ohe0  ohe1  \\\n",
       "0            0.00008         0.0130                    14.08   0.0   0.0   \n",
       "1            0.00064         0.1090                    17.12   0.0   0.0   \n",
       "2            0.00100         0.3500                    11.76   0.0   0.0   \n",
       "3            0.00056         0.0095                    13.78   0.0   0.0   \n",
       "4            0.00065         0.1100                    16.98   0.0   0.0   \n",
       "\n",
       "   ohe2  ohe3  ohe4  ohe5  ohe6  ohe7  ohe8  ohe9  ohe10  ohe11  ohe12  ohe13  \n",
       "0   0.0   1.0   0.0   0.0   0.0   0.0   0.0   0.0    1.0    0.0    0.0    0.0  \n",
       "1   0.0   0.0   1.0   0.0   0.0   0.0   1.0   0.0    0.0    0.0    0.0    0.0  \n",
       "2   0.0   0.0   1.0   0.0   0.0   0.0   0.0   1.0    0.0    0.0    0.0    0.0  \n",
       "3   0.0   0.0   0.0   1.0   0.0   0.0   0.0   0.0    1.0    0.0    0.0    0.0  \n",
       "4   0.0   0.0   1.0   0.0   0.0   0.0   1.0   0.0    0.0    0.0    0.0    0.0  "
      ]
     },
     "execution_count": 28,
     "metadata": {},
     "output_type": "execute_result"
    }
   ],
   "source": [
    "x_train_ohe.head()"
   ]
  },
  {
   "cell_type": "code",
   "execution_count": 29,
   "id": "a4047559",
   "metadata": {},
   "outputs": [],
   "source": [
    "# тестовая выборка\n",
    "x_test_ohe =pd.merge(\n",
    "    x_test[numeric].reset_index(drop=True),\n",
    "    x_test_cat.add_prefix('ohe'),\n",
    "    left_index=True, \n",
    "    right_index=True)"
   ]
  },
  {
   "cell_type": "code",
   "execution_count": 30,
   "id": "30c9c120",
   "metadata": {},
   "outputs": [
    {
     "data": {
      "text/html": [
       "<div>\n",
       "<style scoped>\n",
       "    .dataframe tbody tr th:only-of-type {\n",
       "        vertical-align: middle;\n",
       "    }\n",
       "\n",
       "    .dataframe tbody tr th {\n",
       "        vertical-align: top;\n",
       "    }\n",
       "\n",
       "    .dataframe thead th {\n",
       "        text-align: right;\n",
       "    }\n",
       "</style>\n",
       "<table border=\"1\" class=\"dataframe\">\n",
       "  <thead>\n",
       "    <tr style=\"text-align: right;\">\n",
       "      <th></th>\n",
       "      <th>luminosity_(l/lo)</th>\n",
       "      <th>radius_(r/ro)</th>\n",
       "      <th>absolute_magnitude_(mv)</th>\n",
       "      <th>ohe0</th>\n",
       "      <th>ohe1</th>\n",
       "      <th>ohe2</th>\n",
       "      <th>ohe3</th>\n",
       "      <th>ohe4</th>\n",
       "      <th>ohe5</th>\n",
       "      <th>ohe6</th>\n",
       "      <th>ohe7</th>\n",
       "      <th>ohe8</th>\n",
       "      <th>ohe9</th>\n",
       "      <th>ohe10</th>\n",
       "      <th>ohe11</th>\n",
       "      <th>ohe12</th>\n",
       "      <th>ohe13</th>\n",
       "    </tr>\n",
       "  </thead>\n",
       "  <tbody>\n",
       "    <tr>\n",
       "      <th>0</th>\n",
       "      <td>0.01300</td>\n",
       "      <td>0.014</td>\n",
       "      <td>11.89</td>\n",
       "      <td>0.0</td>\n",
       "      <td>1.0</td>\n",
       "      <td>0.0</td>\n",
       "      <td>0.0</td>\n",
       "      <td>0.0</td>\n",
       "      <td>0.0</td>\n",
       "      <td>0.0</td>\n",
       "      <td>0.0</td>\n",
       "      <td>0.0</td>\n",
       "      <td>0.0</td>\n",
       "      <td>1.0</td>\n",
       "      <td>0.0</td>\n",
       "      <td>0.0</td>\n",
       "      <td>0.0</td>\n",
       "    </tr>\n",
       "    <tr>\n",
       "      <th>1</th>\n",
       "      <td>0.00073</td>\n",
       "      <td>0.127</td>\n",
       "      <td>17.22</td>\n",
       "      <td>0.0</td>\n",
       "      <td>0.0</td>\n",
       "      <td>0.0</td>\n",
       "      <td>0.0</td>\n",
       "      <td>1.0</td>\n",
       "      <td>0.0</td>\n",
       "      <td>0.0</td>\n",
       "      <td>0.0</td>\n",
       "      <td>1.0</td>\n",
       "      <td>0.0</td>\n",
       "      <td>0.0</td>\n",
       "      <td>0.0</td>\n",
       "      <td>0.0</td>\n",
       "      <td>0.0</td>\n",
       "    </tr>\n",
       "    <tr>\n",
       "      <th>2</th>\n",
       "      <td>0.35700</td>\n",
       "      <td>1.130</td>\n",
       "      <td>4.78</td>\n",
       "      <td>0.0</td>\n",
       "      <td>0.0</td>\n",
       "      <td>0.0</td>\n",
       "      <td>0.0</td>\n",
       "      <td>0.0</td>\n",
       "      <td>0.0</td>\n",
       "      <td>0.0</td>\n",
       "      <td>1.0</td>\n",
       "      <td>0.0</td>\n",
       "      <td>0.0</td>\n",
       "      <td>0.0</td>\n",
       "      <td>1.0</td>\n",
       "      <td>0.0</td>\n",
       "      <td>0.0</td>\n",
       "    </tr>\n",
       "    <tr>\n",
       "      <th>3</th>\n",
       "      <td>352000.00000</td>\n",
       "      <td>67.000</td>\n",
       "      <td>-5.79</td>\n",
       "      <td>1.0</td>\n",
       "      <td>0.0</td>\n",
       "      <td>0.0</td>\n",
       "      <td>0.0</td>\n",
       "      <td>0.0</td>\n",
       "      <td>0.0</td>\n",
       "      <td>0.0</td>\n",
       "      <td>0.0</td>\n",
       "      <td>0.0</td>\n",
       "      <td>0.0</td>\n",
       "      <td>0.0</td>\n",
       "      <td>0.0</td>\n",
       "      <td>1.0</td>\n",
       "      <td>0.0</td>\n",
       "    </tr>\n",
       "    <tr>\n",
       "      <th>4</th>\n",
       "      <td>112000.00000</td>\n",
       "      <td>12.000</td>\n",
       "      <td>-5.91</td>\n",
       "      <td>1.0</td>\n",
       "      <td>0.0</td>\n",
       "      <td>0.0</td>\n",
       "      <td>0.0</td>\n",
       "      <td>0.0</td>\n",
       "      <td>0.0</td>\n",
       "      <td>0.0</td>\n",
       "      <td>0.0</td>\n",
       "      <td>0.0</td>\n",
       "      <td>0.0</td>\n",
       "      <td>0.0</td>\n",
       "      <td>0.0</td>\n",
       "      <td>1.0</td>\n",
       "      <td>0.0</td>\n",
       "    </tr>\n",
       "  </tbody>\n",
       "</table>\n",
       "</div>"
      ],
      "text/plain": [
       "   luminosity_(l/lo)  radius_(r/ro)  absolute_magnitude_(mv)  ohe0  ohe1  \\\n",
       "0            0.01300          0.014                    11.89   0.0   1.0   \n",
       "1            0.00073          0.127                    17.22   0.0   0.0   \n",
       "2            0.35700          1.130                     4.78   0.0   0.0   \n",
       "3       352000.00000         67.000                    -5.79   1.0   0.0   \n",
       "4       112000.00000         12.000                    -5.91   1.0   0.0   \n",
       "\n",
       "   ohe2  ohe3  ohe4  ohe5  ohe6  ohe7  ohe8  ohe9  ohe10  ohe11  ohe12  ohe13  \n",
       "0   0.0   0.0   0.0   0.0   0.0   0.0   0.0   0.0    1.0    0.0    0.0    0.0  \n",
       "1   0.0   0.0   1.0   0.0   0.0   0.0   1.0   0.0    0.0    0.0    0.0    0.0  \n",
       "2   0.0   0.0   0.0   0.0   0.0   1.0   0.0   0.0    0.0    1.0    0.0    0.0  \n",
       "3   0.0   0.0   0.0   0.0   0.0   0.0   0.0   0.0    0.0    0.0    1.0    0.0  \n",
       "4   0.0   0.0   0.0   0.0   0.0   0.0   0.0   0.0    0.0    0.0    1.0    0.0  "
      ]
     },
     "execution_count": 30,
     "metadata": {},
     "output_type": "execute_result"
    }
   ],
   "source": [
    "x_test_ohe.head()"
   ]
  },
  {
   "cell_type": "markdown",
   "id": "528c8064",
   "metadata": {},
   "source": [
    "#### Масштабирование признаков"
   ]
  },
  {
   "cell_type": "markdown",
   "id": "48f9f82e",
   "metadata": {},
   "source": [
    "Теперь масштабируем признаки так, чтобы их значения находились в диапазоне от 0 до 1. Будем использовать StandardScaler из Scikit Learn."
   ]
  },
  {
   "cell_type": "code",
   "execution_count": 31,
   "id": "9dec185e",
   "metadata": {},
   "outputs": [],
   "source": [
    "# инициализация\n",
    "scaler = StandardScaler()"
   ]
  },
  {
   "cell_type": "code",
   "execution_count": 32,
   "id": "e2c65ac6",
   "metadata": {},
   "outputs": [],
   "source": [
    "# обучение кодировщика\n",
    "# и обработка тренировочной выборки\n",
    "x_train_ohe_scaled = pd.DataFrame(scaler.fit_transform(x_train_ohe))"
   ]
  },
  {
   "cell_type": "code",
   "execution_count": 33,
   "id": "c288a353",
   "metadata": {},
   "outputs": [],
   "source": [
    "# обработка тестовой выборки\n",
    "x_test_ohe_scaled = pd.DataFrame(scaler.transform(x_test_ohe))"
   ]
  },
  {
   "cell_type": "code",
   "execution_count": 34,
   "id": "448d3411",
   "metadata": {},
   "outputs": [
    {
     "data": {
      "text/plain": [
       "((168, 17), (72, 17))"
      ]
     },
     "execution_count": 34,
     "metadata": {},
     "output_type": "execute_result"
    }
   ],
   "source": [
    "# окончательная размерность выборок \n",
    "x_train_ohe_scaled.shape, x_test_ohe_scaled.shape"
   ]
  },
  {
   "cell_type": "markdown",
   "id": "b0fcba52",
   "metadata": {},
   "source": [
    "#### Представление данных в виде тензоров"
   ]
  },
  {
   "cell_type": "markdown",
   "id": "e5a46f6d",
   "metadata": {},
   "source": [
    "Для того, чтобы передать нейронной сети прошедшие преобразования данные, представим их в виде тензоров."
   ]
  },
  {
   "cell_type": "code",
   "execution_count": 35,
   "id": "34c38107",
   "metadata": {},
   "outputs": [],
   "source": [
    "# преобразование в тензоры \n",
    "X_train = torch.FloatTensor(x_train_ohe_scaled.values)\n",
    "X_test = torch.FloatTensor(x_test_ohe_scaled.values)\n",
    "Y_train = torch.FloatTensor(y_train.values)\n",
    "Y_test = torch.FloatTensor(y_test.values)"
   ]
  },
  {
   "cell_type": "code",
   "execution_count": 36,
   "id": "e73354b7",
   "metadata": {},
   "outputs": [
    {
     "data": {
      "text/plain": [
       "tensor([[-0.6055, -0.4326,  0.9212,  ..., -0.4663, -0.4568, -0.4181],\n",
       "        [-0.6055, -0.4324,  1.2151,  ..., -0.4663, -0.4568, -0.4181],\n",
       "        [-0.6055, -0.4319,  0.6969,  ..., -0.4663, -0.4568, -0.4181],\n",
       "        ...,\n",
       "        [-0.6055, -0.4310,  0.1620,  ...,  2.1448, -0.4568, -0.4181],\n",
       "        [ 0.8775,  1.8673, -1.2368,  ..., -0.4663, -0.4568,  2.3917],\n",
       "        [ 0.1524, -0.3597, -0.9971,  ..., -0.4663,  2.1893, -0.4181]])"
      ]
     },
     "execution_count": 36,
     "metadata": {},
     "output_type": "execute_result"
    }
   ],
   "source": [
    "# окончательный вид\n",
    "X_train"
   ]
  },
  {
   "cell_type": "markdown",
   "id": "49bb3b1c",
   "metadata": {},
   "source": [
    "### Выводы по результатам предварительного анализ и преобразования данных "
   ]
  },
  {
   "cell_type": "markdown",
   "id": "73bb965d",
   "metadata": {},
   "source": [
    "В доступном наборе данных содержатся результаты измерений **шести параметров 240 звезд**. Явных дубликатов и пропусков нет. Три признака количественные, два – категориальные.\n",
    "\n",
    "**Большинство звезд** имеют температуру ниже 5000 К, относительный радиус и относительную светимость, близкие к показателям Солнца. Всего в наборе есть данные о 6 типах звезд, по 40 примеров каждого типа.\n",
    "\n",
    "Числовые характеристики принимают значения в различных диапазонах, следовательно, данные нуждаются в масштабировании.\n",
    "\n",
    "В результате преобразования данных **в названиях столбцов изменены регистры на нижний**, а пробелы – на нижнее подчеркивание.\n",
    "\n",
    "**Удалены неявные дубликаты** в значениях цвета звезды. Количество уникальных значений снизилось с 19 до 9. Из девяти цветов чаще всего в наборе данных встречается красный, на втором месте по популярности голубой и бело-голубой.\n",
    "\n",
    "**Данные** были **разбиты на тренировочную и тестовую выборки** в соотношении 70 : 30.\n",
    "\n",
    "Для преобразования **категориальных значений** применена техника **One-Hot кодирования** с помощью библиотеки Scikit Learn.\n",
    "\n",
    "**Признаки масштабированы** так, чтобы их значения находились в диапазоне от 0 до 1.\n",
    "\n",
    "Прошедшие преобразования **данные представлены в виде тензоров** для передачи их нейронной сети.\n"
   ]
  },
  {
   "cell_type": "markdown",
   "id": "funded-electric",
   "metadata": {},
   "source": [
    "## Построение базовой нейронной сети"
   ]
  },
  {
   "cell_type": "markdown",
   "id": "6aa0e92d",
   "metadata": {},
   "source": [
    "Напишем класс нейронной сети с тремя скрытыми слоями."
   ]
  },
  {
   "cell_type": "code",
   "execution_count": 37,
   "id": "forced-concentrate",
   "metadata": {},
   "outputs": [],
   "source": [
    "class Net(nn.Module):\n",
    "    def __init__(self, \n",
    "                 n_in_neurons, \n",
    "                 n_hidden_neurons_1, \n",
    "                 n_hidden_neurons_2, \n",
    "                 n_hidden_neurons_3,\n",
    "                 n_hidden_neurons_4,\n",
    "                 n_out_neurons,\n",
    "                 acf1,\n",
    "                 acf2,\n",
    "                 acf3,\n",
    "                 acf4,\n",
    "                 acf5\n",
    "                ):\n",
    "        super(Net, self).__init__()\n",
    "\n",
    "        self.fc1 = nn.Linear(n_in_neurons, n_hidden_neurons_1)\n",
    "        self.act1 = acf1\n",
    "\n",
    "        self.fc2 = nn.Linear(n_hidden_neurons_1, n_hidden_neurons_2)\n",
    "        self.act2 = acf2\n",
    "        \n",
    "        self.fc3 = nn.Linear(n_hidden_neurons_2, n_hidden_neurons_3)\n",
    "        self.act3 = acf3\n",
    "\n",
    "        self.fc4 = nn.Linear(n_hidden_neurons_3, n_hidden_neurons_4)\n",
    "        self.act4 = acf4\n",
    "        \n",
    "        self.fc5 = nn.Linear(n_hidden_neurons_4, n_out_neurons)\n",
    "        self.act5 = acf5\n",
    "        \n",
    "        # Инициализация весов с использованием метода \"Xavier/Glorot\"\n",
    "        nn.init.xavier_normal_(self.fc1.weight)\n",
    "        nn.init.xavier_normal_(self.fc2.weight)\n",
    "        nn.init.xavier_normal_(self.fc3.weight)\n",
    "        nn.init.xavier_normal_(self.fc4.weight)\n",
    "        \n",
    "\n",
    "    def forward(self, x):\n",
    "        x = self.fc1(x)\n",
    "        x = self.act1(x)\n",
    "        \n",
    "        x = self.fc2(x)\n",
    "        x = self.act2(x)\n",
    "\n",
    "        x = self.fc3(x)\n",
    "        x = self.act3(x)\n",
    "        \n",
    "        x = self.fc4(x)\n",
    "        x = self.act4(x)\n",
    "        \n",
    "        x = self.fc5(x)\n",
    "        x = self.act5(x)\n",
    "        \n",
    "        return x"
   ]
  },
  {
   "cell_type": "markdown",
   "id": "9ca3a085",
   "metadata": {},
   "source": [
    "Попробуем обучить нейронную сеть с несколькими вариантами количества нейронов на промежуточных слоях и с разными функциями активации."
   ]
  },
  {
   "cell_type": "code",
   "execution_count": 38,
   "id": "6bee5799",
   "metadata": {},
   "outputs": [],
   "source": [
    "# пространство параметров для перебора \n",
    "params_n_neurons = [\n",
    "    [20, 20, 15, 10, 1],\n",
    "    [20, 15, 10, 5, 1],\n",
    "    [5, 10, 15, 20, 1]\n",
    "]\n",
    "param_act_f = [\n",
    "    [nn.ReLU(), nn.ReLU(), nn.ReLU(), nn.ReLU(), nn.ReLU()],\n",
    "    [nn.ReLU(), nn.Tanh(), nn.ReLU(), nn.Tanh(), nn.ReLU()],\n",
    "    [nn.Sigmoid(), nn.Tanh(), nn.Tanh(), nn.ReLU(), nn.ReLU()]\n",
    "]\n",
    "seeds = [0, 42, 12345]"
   ]
  },
  {
   "cell_type": "code",
   "execution_count": 39,
   "id": "fcbec957",
   "metadata": {},
   "outputs": [
    {
     "name": "stdout",
     "output_type": "stream",
     "text": [
      "neurons: [20, 20, 15, 10, 1]\n",
      "functiond: [ReLU(), ReLU(), ReLU(), ReLU(), ReLU()]\n",
      "seed 0\n",
      "epoch | trainRMSE  | testRMSE\n",
      "-------------------------------\n",
      "    0 | 13952.4844 | 14695.5225\n",
      "  200 | 12860.8623 | 13581.2490\n",
      "  400 | 5258.9819 | 5651.0454\n",
      "  600 | 4544.9722 | 5062.3369\n",
      "  800 | 4269.5947 | 4960.4775\n",
      " 1000 | 4108.9272 | 4951.6797\n",
      " 1200 | 3976.7048 | 4988.5015\n",
      " 1400 | 3884.8599 | 5064.4717\n",
      "****************\n",
      "\n",
      "neurons: [20, 20, 15, 10, 1]\n",
      "functiond: [ReLU(), ReLU(), ReLU(), ReLU(), ReLU()]\n",
      "seed 42\n",
      "epoch | trainRMSE  | testRMSE\n",
      "-------------------------------\n",
      "    0 | 13952.4980 | 14695.5410\n",
      "  200 | 13048.2891 | 13789.4824\n",
      "  400 | 5256.8594 | 5630.3696\n",
      "  600 | 4574.4048 | 5127.6245\n",
      "  800 | 4274.4512 | 4971.5161\n",
      " 1000 | 4070.5393 | 4944.4800\n",
      " 1200 | 3919.6753 | 4998.5728\n",
      " 1400 | 3820.3713 | 5095.3579\n",
      "****************\n",
      "\n",
      "neurons: [20, 20, 15, 10, 1]\n",
      "functiond: [ReLU(), ReLU(), ReLU(), ReLU(), ReLU()]\n",
      "seed 12345\n",
      "epoch | trainRMSE  | testRMSE\n",
      "-------------------------------\n",
      "    0 | 13952.4229 | 14695.4531\n",
      "  200 | 13258.9414 | 13988.5801\n",
      "  400 | 5350.5239 | 5696.8574\n",
      "  600 | 4681.8530 | 5129.4355\n",
      "  800 | 4412.3164 | 5008.7441\n",
      " 1000 | 4243.0918 | 4969.8477\n",
      " 1200 | 4092.5732 | 4984.7544\n",
      " 1400 | 3979.6235 | 5032.4688\n",
      "****************\n",
      "\n",
      "neurons: [20, 20, 15, 10, 1]\n",
      "functiond: [ReLU(), Tanh(), ReLU(), Tanh(), ReLU()]\n",
      "seed 0\n",
      "epoch | trainRMSE  | testRMSE\n",
      "-------------------------------\n",
      "    0 | 13952.7461 | 14695.7861\n",
      "  200 | 13949.7188 | 14692.8115\n",
      "  400 | 13947.9482 | 14691.0713\n",
      "  600 | 13946.2451 | 14689.3994\n",
      "  800 | 13944.5684 | 14687.7500\n",
      " 1000 | 13942.9043 | 14686.1152\n",
      " 1200 | 13941.2480 | 14684.4883\n",
      " 1400 | 13939.5977 | 14682.8652\n",
      "****************\n",
      "\n",
      "neurons: [20, 20, 15, 10, 1]\n",
      "functiond: [ReLU(), Tanh(), ReLU(), Tanh(), ReLU()]\n",
      "seed 42\n",
      "epoch | trainRMSE  | testRMSE\n",
      "-------------------------------\n",
      "    0 | 13952.5420 | 14695.5947\n",
      "  200 | 13949.3135 | 14692.4131\n",
      "  400 | 13947.5283 | 14690.6572\n",
      "  600 | 13945.8213 | 14688.9805\n",
      "  800 | 13944.1406 | 14687.3291\n",
      " 1000 | 13942.4746 | 14685.6934\n",
      " 1200 | 13940.8164 | 14684.0645\n",
      " 1400 | 13939.1660 | 14682.4414\n",
      "****************\n",
      "\n",
      "neurons: [20, 20, 15, 10, 1]\n",
      "functiond: [ReLU(), Tanh(), ReLU(), Tanh(), ReLU()]\n",
      "seed 12345\n",
      "epoch | trainRMSE  | testRMSE\n",
      "-------------------------------\n",
      "    0 | 13952.5664 | 14695.6074\n",
      "  200 | 13949.5146 | 14692.6113\n",
      "  400 | 13947.7363 | 14690.8643\n",
      "  600 | 13946.0312 | 14689.1875\n",
      "  800 | 13944.3525 | 14687.5391\n",
      " 1000 | 13942.6875 | 14685.9023\n",
      " 1200 | 13941.0312 | 14684.2754\n",
      " 1400 | 13939.3799 | 14682.6523\n",
      "****************\n",
      "\n",
      "neurons: [20, 20, 15, 10, 1]\n",
      "functiond: [Sigmoid(), Tanh(), Tanh(), ReLU(), ReLU()]\n",
      "seed 0\n",
      "epoch | trainRMSE  | testRMSE\n",
      "-------------------------------\n",
      "    0 | 13952.7500 | 14695.7910\n",
      "  200 | 13952.7500 | 14695.7910\n",
      "  400 | 13952.7500 | 14695.7910\n",
      "  600 | 13952.7500 | 14695.7910\n",
      "  800 | 13952.7500 | 14695.7910\n",
      " 1000 | 13952.7500 | 14695.7910\n",
      " 1200 | 13952.7500 | 14695.7910\n",
      " 1400 | 13952.7500 | 14695.7910\n",
      "****************\n",
      "\n",
      "neurons: [20, 20, 15, 10, 1]\n",
      "functiond: [Sigmoid(), Tanh(), Tanh(), ReLU(), ReLU()]\n",
      "seed 42\n",
      "epoch | trainRMSE  | testRMSE\n",
      "-------------------------------\n",
      "    0 | 13952.5361 | 14695.5762\n",
      "  200 | 13941.5479 | 14684.7822\n",
      "  400 | 13916.8096 | 14660.4727\n",
      "  600 | 13878.7236 | 14623.0479\n",
      "  800 | 13827.9258 | 14573.1328\n",
      " 1000 | 13765.3311 | 14511.6289\n",
      " 1200 | 13691.9014 | 14439.4785\n",
      " 1400 | 13608.5771 | 14357.6064\n",
      "****************\n",
      "\n",
      "neurons: [20, 20, 15, 10, 1]\n",
      "functiond: [Sigmoid(), Tanh(), Tanh(), ReLU(), ReLU()]\n",
      "seed 12345\n",
      "epoch | trainRMSE  | testRMSE\n",
      "-------------------------------\n",
      "    0 | 13952.2578 | 14695.3057\n",
      "  200 | 13943.6699 | 14686.8662\n",
      "  400 | 13927.3506 | 14670.8311\n",
      "  600 | 13902.1895 | 14646.1064\n",
      "  800 | 13868.4609 | 14612.9639\n",
      " 1000 | 13826.6943 | 14571.9238\n",
      " 1200 | 13777.4707 | 14523.5566\n",
      " 1400 | 13721.3594 | 14468.4229\n",
      "****************\n",
      "\n",
      "neurons: [20, 15, 10, 5, 1]\n",
      "functiond: [ReLU(), ReLU(), ReLU(), ReLU(), ReLU()]\n",
      "seed 0\n",
      "epoch | trainRMSE  | testRMSE\n",
      "-------------------------------\n",
      "    0 | 13952.4346 | 14695.4814\n",
      "  200 | 13776.7412 | 14527.5088\n",
      "  400 | 6982.8511 | 7685.1870\n",
      "  600 | 5135.0913 | 5590.8071\n",
      "  800 | 4709.9443 | 5217.6611\n",
      " 1000 | 4458.9756 | 5043.3848\n",
      " 1200 | 4265.9570 | 4973.5522\n",
      " 1400 | 4120.6133 | 4944.2227\n",
      "****************\n",
      "\n",
      "neurons: [20, 15, 10, 5, 1]\n",
      "functiond: [ReLU(), ReLU(), ReLU(), ReLU(), ReLU()]\n",
      "seed 42\n",
      "epoch | trainRMSE  | testRMSE\n",
      "-------------------------------\n",
      "    0 | 13952.4717 | 14695.5127\n",
      "  200 | 13762.5791 | 14507.2910\n",
      "  400 | 7395.7319 | 8132.7920\n",
      "  600 | 5068.8916 | 5525.8462\n",
      "  800 | 4671.7969 | 5232.9863\n",
      " 1000 | 4413.5356 | 5049.4946\n",
      " 1200 | 4189.5103 | 4935.6270\n",
      " 1400 | 4053.1697 | 4928.1387\n",
      "****************\n",
      "\n",
      "neurons: [20, 15, 10, 5, 1]\n",
      "functiond: [ReLU(), ReLU(), ReLU(), ReLU(), ReLU()]\n",
      "seed 12345\n",
      "epoch | trainRMSE  | testRMSE\n",
      "-------------------------------\n",
      "    0 | 13952.6211 | 14695.6611\n",
      "  200 | 13719.0488 | 14465.3594\n",
      "  400 | 5935.7417 | 6429.8350\n",
      "  600 | 4850.7075 | 5295.7446\n",
      "  800 | 4452.2026 | 4998.2983\n",
      " 1000 | 4271.2812 | 4922.9038\n",
      " 1200 | 4127.0244 | 4911.1338\n",
      " 1400 | 3990.9050 | 4944.9995\n",
      "****************\n",
      "\n",
      "neurons: [20, 15, 10, 5, 1]\n",
      "functiond: [ReLU(), Tanh(), ReLU(), Tanh(), ReLU()]\n",
      "seed 0\n",
      "epoch | trainRMSE  | testRMSE\n",
      "-------------------------------\n",
      "    0 | 13952.3340 | 14695.3896\n",
      "  200 | 13950.5908 | 14693.6680\n",
      "  400 | 13949.6113 | 14692.7070\n",
      "  600 | 13948.6797 | 14691.7900\n",
      "  800 | 13947.7637 | 14690.8896\n",
      " 1000 | 13946.8545 | 14689.9971\n",
      " 1200 | 13945.9502 | 14689.1074\n",
      " 1400 | 13945.0488 | 14688.2227\n",
      "****************\n",
      "\n",
      "neurons: [20, 15, 10, 5, 1]\n",
      "functiond: [ReLU(), Tanh(), ReLU(), Tanh(), ReLU()]\n",
      "seed 42\n",
      "epoch | trainRMSE  | testRMSE\n",
      "-------------------------------\n",
      "    0 | 13952.4189 | 14695.4629\n",
      "  200 | 13950.6992 | 14693.7744\n",
      "  400 | 13949.7373 | 14692.8301\n",
      "  600 | 13948.8115 | 14691.9199\n",
      "  800 | 13947.8994 | 14691.0225\n",
      " 1000 | 13946.9932 | 14690.1318\n",
      " 1200 | 13946.0889 | 14689.2441\n",
      " 1400 | 13945.1895 | 14688.3613\n",
      "****************\n",
      "\n",
      "neurons: [20, 15, 10, 5, 1]\n",
      "functiond: [ReLU(), Tanh(), ReLU(), Tanh(), ReLU()]\n",
      "seed 12345\n",
      "epoch | trainRMSE  | testRMSE\n",
      "-------------------------------\n",
      "    0 | 13952.6016 | 14695.6396\n",
      "  200 | 13951.2393 | 14694.3057\n",
      "  400 | 13950.2783 | 14693.3604\n",
      "  600 | 13949.3525 | 14692.4512\n",
      "  800 | 13948.4385 | 14691.5537\n",
      " 1000 | 13947.5322 | 14690.6631\n",
      " 1200 | 13946.6289 | 14689.7754\n",
      " 1400 | 13945.7285 | 14688.8906\n",
      "****************\n",
      "\n",
      "neurons: [20, 15, 10, 5, 1]\n",
      "functiond: [Sigmoid(), Tanh(), Tanh(), ReLU(), ReLU()]\n",
      "seed 0\n",
      "epoch | trainRMSE  | testRMSE\n",
      "-------------------------------\n",
      "    0 | 13952.3232 | 14695.3760\n",
      "  200 | 13947.0674 | 14690.2051\n",
      "  400 | 13938.0615 | 14681.3564\n",
      "  600 | 13924.6064 | 14668.1348\n",
      "  800 | 13906.7822 | 14650.6201\n",
      " 1000 | 13884.8086 | 14629.0283\n",
      " 1200 | 13858.9365 | 14603.6035\n",
      " 1400 | 13829.4121 | 14574.5947\n",
      "****************\n",
      "\n",
      "neurons: [20, 15, 10, 5, 1]\n",
      "functiond: [Sigmoid(), Tanh(), Tanh(), ReLU(), ReLU()]\n",
      "seed 42\n",
      "epoch | trainRMSE  | testRMSE\n",
      "-------------------------------\n",
      "    0 | 13952.6973 | 14695.7393\n",
      "  200 | 13947.4570 | 14690.5879\n",
      "  400 | 13940.8105 | 14684.0586\n",
      "  600 | 13931.4365 | 14674.8467\n",
      "  800 | 13919.2676 | 14662.8867\n",
      " 1000 | 13904.3818 | 14648.2617\n",
      " 1200 | 13886.9092 | 14631.0928\n",
      " 1400 | 13866.9883 | 14611.5176\n",
      "****************\n",
      "\n",
      "neurons: [20, 15, 10, 5, 1]\n",
      "functiond: [Sigmoid(), Tanh(), Tanh(), ReLU(), ReLU()]\n",
      "seed 12345\n",
      "epoch | trainRMSE  | testRMSE\n",
      "-------------------------------\n",
      "    0 | 13952.5762 | 14695.6182\n",
      "  200 | 13948.5547 | 14691.6670\n",
      "  400 | 13939.6826 | 14682.9502\n",
      "  600 | 13926.2773 | 14669.7764\n",
      "  800 | 13908.4688 | 14652.2764\n",
      " 1000 | 13886.4990 | 14630.6885\n",
      " 1200 | 13860.6299 | 14605.2686\n",
      " 1400 | 13831.1123 | 14576.2656\n",
      "****************\n",
      "\n",
      "neurons: [5, 10, 15, 20, 1]\n",
      "functiond: [ReLU(), ReLU(), ReLU(), ReLU(), ReLU()]\n",
      "seed 0\n",
      "epoch | trainRMSE  | testRMSE\n",
      "-------------------------------\n",
      "    0 | 13952.7402 | 14695.7803\n",
      "  200 | 13861.7178 | 14614.1260\n",
      "  400 | 8775.6709 | 9595.8848\n",
      "  600 | 5637.0181 | 6216.3823\n",
      "  800 | 5020.8477 | 5628.5430\n",
      " 1000 | 4622.2803 | 5245.1665\n",
      " 1200 | 4393.8145 | 5049.1567\n",
      " 1400 | 4214.5723 | 4945.0874\n",
      "****************\n",
      "\n",
      "neurons: [5, 10, 15, 20, 1]\n",
      "functiond: [ReLU(), ReLU(), ReLU(), ReLU(), ReLU()]\n",
      "seed 42\n",
      "epoch | trainRMSE  | testRMSE\n",
      "-------------------------------\n",
      "    0 | 13952.7500 | 14695.7910\n",
      "  200 | 13952.7500 | 14695.7910\n",
      "  400 | 13952.7500 | 14695.7910\n",
      "  600 | 13952.7500 | 14695.7910\n",
      "  800 | 13952.7500 | 14695.7910\n",
      " 1000 | 13952.7500 | 14695.7910\n",
      " 1200 | 13952.7500 | 14695.7910\n",
      " 1400 | 13952.7500 | 14695.7910\n",
      "****************\n",
      "\n",
      "neurons: [5, 10, 15, 20, 1]\n",
      "functiond: [ReLU(), ReLU(), ReLU(), ReLU(), ReLU()]\n",
      "seed 12345\n",
      "epoch | trainRMSE  | testRMSE\n",
      "-------------------------------\n",
      "    0 | 13952.6123 | 14695.6572\n",
      "  200 | 13865.9551 | 14605.6826\n",
      "  400 | 8214.5518 | 8805.9834\n",
      "  600 | 5192.1011 | 5643.2544\n",
      "  800 | 4741.6465 | 5277.5161\n",
      " 1000 | 4503.7729 | 5151.3843\n",
      " 1200 | 4333.6982 | 5089.5820\n",
      " 1400 | 4220.8623 | 5080.8496\n",
      "****************\n",
      "\n",
      "neurons: [5, 10, 15, 20, 1]\n",
      "functiond: [ReLU(), Tanh(), ReLU(), Tanh(), ReLU()]\n",
      "seed 0\n",
      "epoch | trainRMSE  | testRMSE\n",
      "-------------------------------\n",
      "    0 | 13952.7480 | 14695.7881\n",
      "  200 | 13947.8008 | 14690.9248\n",
      "  400 | 13943.9951 | 14687.1865\n",
      "  600 | 13940.5889 | 14683.8398\n",
      "  800 | 13937.2979 | 14680.6064\n",
      " 1000 | 13934.0635 | 14677.4277\n",
      " 1200 | 13930.8633 | 14674.2832\n",
      " 1400 | 13927.6846 | 14671.1592\n",
      "****************\n",
      "\n",
      "neurons: [5, 10, 15, 20, 1]\n",
      "functiond: [ReLU(), Tanh(), ReLU(), Tanh(), ReLU()]\n",
      "seed 42\n",
      "epoch | trainRMSE  | testRMSE\n",
      "-------------------------------\n",
      "    0 | 13952.7451 | 14695.7852\n",
      "  200 | 13947.3389 | 14690.4736\n",
      "  400 | 13943.6777 | 14686.8750\n",
      "  600 | 13940.3154 | 14683.5703\n",
      "  800 | 13937.0479 | 14680.3604\n",
      " 1000 | 13933.8291 | 14677.1973\n",
      " 1200 | 13930.6396 | 14674.0615\n",
      " 1400 | 13927.4678 | 14670.9463\n",
      "****************\n",
      "\n",
      "neurons: [5, 10, 15, 20, 1]\n",
      "functiond: [ReLU(), Tanh(), ReLU(), Tanh(), ReLU()]\n",
      "seed 12345\n",
      "epoch | trainRMSE  | testRMSE\n",
      "-------------------------------\n",
      "    0 | 13952.5547 | 14695.6035\n",
      "  200 | 13947.1504 | 14690.2783\n",
      "  400 | 13943.4482 | 14686.6484\n",
      "  600 | 13940.0713 | 14683.3301\n",
      "  800 | 13936.7959 | 14680.1133\n",
      " 1000 | 13933.5723 | 14676.9443\n",
      " 1200 | 13930.3770 | 14673.8037\n",
      " 1400 | 13927.2012 | 14670.6846\n",
      "****************\n",
      "\n",
      "neurons: [5, 10, 15, 20, 1]\n",
      "functiond: [Sigmoid(), Tanh(), Tanh(), ReLU(), ReLU()]\n",
      "seed 0\n",
      "epoch | trainRMSE  | testRMSE\n",
      "-------------------------------\n",
      "    0 | 13952.6357 | 14695.6758\n",
      "  200 | 13939.2969 | 14682.5703\n",
      "  400 | 13905.4639 | 14649.3242\n",
      "  600 | 13854.0811 | 14598.8350\n",
      "  800 | 13786.0830 | 14532.0195\n",
      " 1000 | 13702.7617 | 14450.1494\n",
      " 1200 | 13605.4844 | 14354.5693\n",
      " 1400 | 13495.6025 | 14246.6055\n",
      "****************\n",
      "\n",
      "neurons: [5, 10, 15, 20, 1]\n",
      "functiond: [Sigmoid(), Tanh(), Tanh(), ReLU(), ReLU()]\n",
      "seed 42\n",
      "epoch | trainRMSE  | testRMSE\n",
      "-------------------------------\n",
      "    0 | 13952.7500 | 14695.7910\n",
      "  200 | 13952.7500 | 14695.7910\n",
      "  400 | 13952.7500 | 14695.7910\n",
      "  600 | 13952.7500 | 14695.7910\n",
      "  800 | 13952.7500 | 14695.7910\n",
      " 1000 | 13952.7500 | 14695.7910\n",
      " 1200 | 13952.7500 | 14695.7910\n",
      " 1400 | 13952.7500 | 14695.7910\n",
      "****************\n",
      "\n",
      "neurons: [5, 10, 15, 20, 1]\n",
      "functiond: [Sigmoid(), Tanh(), Tanh(), ReLU(), ReLU()]\n",
      "seed 12345\n",
      "epoch | trainRMSE  | testRMSE\n",
      "-------------------------------\n",
      "    0 | 13952.7490 | 14695.7900\n",
      "  200 | 13941.1914 | 14684.4316\n",
      "  400 | 13911.4902 | 14655.2461\n",
      "  600 | 13866.3779 | 14610.9180\n",
      "  800 | 13806.6719 | 14552.2500\n",
      " 1000 | 13733.4570 | 14480.3096\n",
      " 1200 | 13647.8779 | 14396.2227\n",
      " 1400 | 13551.0586 | 14301.0928\n",
      "****************\n",
      "\n",
      "Best model:\n",
      "RMSE: 4911.1338\n",
      "seed: 12345\n",
      "best_params: [20, 15, 10, 5, 1, ReLU(), ReLU(), ReLU(), ReLU(), ReLU()]\n",
      "Net(\n",
      "  (fc1): Linear(in_features=17, out_features=20, bias=True)\n",
      "  (act1): ReLU()\n",
      "  (fc2): Linear(in_features=20, out_features=15, bias=True)\n",
      "  (act2): ReLU()\n",
      "  (fc3): Linear(in_features=15, out_features=10, bias=True)\n",
      "  (act3): ReLU()\n",
      "  (fc4): Linear(in_features=10, out_features=5, bias=True)\n",
      "  (act4): ReLU()\n",
      "  (fc5): Linear(in_features=5, out_features=1, bias=True)\n",
      "  (act5): ReLU()\n",
      ")\n"
     ]
    }
   ],
   "source": [
    "# поиск лучшего набора параметров\n",
    "baseline = None\n",
    "baseline_rmse = 15_000\n",
    "baseline_seed = 0\n",
    "for n_neurons in params_n_neurons:\n",
    "    for act_f in param_act_f:\n",
    "        for seed in seeds:\n",
    "            print('neurons:', n_neurons)\n",
    "            print('functiond:', act_f)\n",
    "            print('seed', seed)\n",
    "            model = Net(\n",
    "                x_train_ohe_scaled.shape[1],\n",
    "                *n_neurons, \n",
    "                *act_f\n",
    "            )\n",
    "            random.seed(seed)\n",
    "            np.random.seed(seed)\n",
    "            torch.manual_seed(seed)\n",
    "            torch.use_deterministic_algorithms(True)\n",
    "            loss = torch.nn.MSELoss()\n",
    "            optimizer = torch.optim.Adam(model.parameters(), lr=1.0e-3)\n",
    "            num_epochs = 1501\n",
    "            print('epoch |', 'trainRMSE  |', 'testRMSE')\n",
    "            print('-------------------------------')\n",
    "            for epoch in range(num_epochs):\n",
    "\n",
    "                optimizer.zero_grad()\n",
    "\n",
    "                preds = model.forward(X_train).flatten()\n",
    "\n",
    "                loss_value = loss(preds, Y_train)\n",
    "                loss_value.backward()\n",
    "                optimizer.step()\n",
    "\n",
    "                if (epoch % 200 == 0) or (epoch == num_epochs) :\n",
    "                    model.eval()\n",
    "                    train_preds = model.forward(X_train).flatten()\n",
    "                    loss_value_train = torch.sqrt(loss(train_preds, Y_train))\n",
    "                    test_preds = model.forward(X_test).flatten()\n",
    "                    loss_value_test = torch.sqrt(loss(test_preds, Y_test))\n",
    "\n",
    "                    print(\n",
    "                        f'{epoch:5} | {loss_value_train.tolist():.4f} | {loss_value_test.tolist():.4f}'\n",
    "                    )\n",
    "                    model.train()\n",
    "                    if loss_value_test < baseline_rmse:\n",
    "                        baseline = model\n",
    "                        baseline_rmse = loss_value_test\n",
    "                        baseline_seed = seed\n",
    "                        best_params = n_neurons + act_f\n",
    "            print('****************')            \n",
    "            print()\n",
    "print('Best model:')\n",
    "print('RMSE:', f'{baseline_rmse.tolist():.4f}') \n",
    "print('seed:', baseline_seed)\n",
    "print('best_params:', best_params)\n",
    "print(baseline)"
   ]
  },
  {
   "cell_type": "markdown",
   "id": "6139ed2c",
   "metadata": {},
   "source": [
    "В результате перебора лучшей оказалась сеть с четырьмя промежуточными слоями и со следующими параметрами:\n",
    "- количество нейронов в четрех скрытых слоях: 20, 15, 10 и 5 соответственно.\n",
    "- функция активации после каждого слоя: ReLU()\n",
    "- random seed: 12345\n",
    "\n",
    "RMSE такой модели на тестовой выборке составляет:\n"
   ]
  },
  {
   "cell_type": "code",
   "execution_count": 40,
   "id": "0cd7c7f0",
   "metadata": {},
   "outputs": [
    {
     "name": "stdout",
     "output_type": "stream",
     "text": [
      "RMSE: 4911.1338\n"
     ]
    }
   ],
   "source": [
    "print('RMSE:', f'{baseline_rmse.tolist():.4f}') "
   ]
  },
  {
   "cell_type": "markdown",
   "id": "e809745b",
   "metadata": {},
   "source": [
    "Визуализируем предсказания нейронной сети и сравним их с фактическими значениями."
   ]
  },
  {
   "cell_type": "code",
   "execution_count": 41,
   "id": "f4d14496",
   "metadata": {},
   "outputs": [],
   "source": [
    "# отберем предсказания для первых 13-ти наблюдений\n",
    "baseline_pred = baseline.forward(X_test).detach().numpy().reshape([-1])\n",
    "x = [i for i in range(13)]"
   ]
  },
  {
   "cell_type": "code",
   "execution_count": 42,
   "id": "303a6899",
   "metadata": {},
   "outputs": [
    {
     "data": {
      "image/png": "[encoded data removed]",
      "text/plain": [
       "<Figure size 720x504 with 1 Axes>"
      ]
     },
     "metadata": {
      "needs_background": "light"
     },
     "output_type": "display_data"
    }
   ],
   "source": [
    "# построим диаграмму значений\n",
    "fig, ax = plt.subplots(figsize=(10, 7))\n",
    "plt.rc('font', size=14)\n",
    "\n",
    "ax.bar(x, y_test[:13], color='#96ceb4', label='Факт')\n",
    "ax.bar(x, baseline_pred[:13], width = .45, color='#ff6f69', label='Прогноз')\n",
    "ax.plot(x, [y_test[:13].median() for i in range(13)], color='#36454f', label='Медиана')\n",
    "\n",
    "\n",
    "\n",
    "ax.set_ylabel('Температура звезды')\n",
    "ax.set_title('Номер звезды в таблице данных')\n",
    "ax.legend()\n",
    "plt.show()"
   ]
  },
  {
   "cell_type": "markdown",
   "id": "72fc6a50",
   "metadata": {},
   "source": [
    "На графике видно, что показания модели отличаются от правильных ответов. Сеть уловила колебания значений температуры звезды, но выдает более точные предсказания для звезд, температура которых ниже или близка к медианному значению."
   ]
  },
  {
   "cell_type": "markdown",
   "id": "growing-supply",
   "metadata": {},
   "source": [
    "## Улучшение нейронной сети"
   ]
  },
  {
   "cell_type": "markdown",
   "id": "9240c5ca",
   "metadata": {},
   "source": [
    "### Регуляризации"
   ]
  },
  {
   "cell_type": "markdown",
   "id": "85233743",
   "metadata": {},
   "source": [
    "Для улучшения качества нейронной сети попробуем применить методы регуляризации BatchNorm и Dropout с различными значениями параметров.\n",
    "\n",
    "Перепишем класс нашей сети так, чтобы появилась возможность их добавить. Остальное в архитектуре сети менять не будем. Параметры слоев будем использовать те, которые получили в результате поиска на предыдущем шаге и сохранили в переменной best_params."
   ]
  },
  {
   "cell_type": "code",
   "execution_count": 43,
   "id": "73dc169e",
   "metadata": {},
   "outputs": [],
   "source": [
    "class NetReg(nn.Module):\n",
    "    def __init__(self, \n",
    "                 n_in_neurons, \n",
    "                 n_hidden_neurons_1, \n",
    "                 n_hidden_neurons_2, \n",
    "                 n_hidden_neurons_3,\n",
    "                 n_hidden_neurons_4,\n",
    "                 n_out_neurons,\n",
    "                 acf1,\n",
    "                 acf2,\n",
    "                 acf3,\n",
    "                 acf4,\n",
    "                 acf5,\n",
    "                 reg1,\n",
    "                 reg2,\n",
    "                 reg3,\n",
    "                 reg4\n",
    "                ):\n",
    "        super(NetReg, self).__init__()\n",
    "\n",
    "        self.fc1 = nn.Linear(n_in_neurons, n_hidden_neurons_1)\n",
    "        self.reg1 = reg1\n",
    "        self.act1 = acf1\n",
    "\n",
    "        self.fc2 = nn.Linear(n_hidden_neurons_1, n_hidden_neurons_2)\n",
    "        self.reg2 = reg2\n",
    "        self.act2 = acf2\n",
    "        \n",
    "        self.fc3 = nn.Linear(n_hidden_neurons_2, n_hidden_neurons_3)\n",
    "        self.reg3 = reg3\n",
    "        self.act3 = acf3\n",
    "\n",
    "        self.fc4 = nn.Linear(n_hidden_neurons_3, n_hidden_neurons_4)\n",
    "        self.reg4 = reg4\n",
    "        self.act4 = acf4\n",
    "        \n",
    "        self.fc5 = nn.Linear(n_hidden_neurons_4, n_out_neurons)\n",
    "        self.act5 = acf5\n",
    "        \n",
    "        # Инициализация весов с использованием метода \"Xavier/Glorot\"\n",
    "        nn.init.xavier_normal_(self.fc1.weight)\n",
    "        nn.init.xavier_normal_(self.fc2.weight)\n",
    "        nn.init.xavier_normal_(self.fc3.weight)\n",
    "        nn.init.xavier_normal_(self.fc4.weight)\n",
    "\n",
    "    def forward(self, x):\n",
    "        x = self.fc1(x)\n",
    "        x = self.reg1(x)\n",
    "        x = self.act1(x)\n",
    "        \n",
    "        x = self.fc2(x)\n",
    "        x = self.reg2(x)    \n",
    "        x = self.act2(x)\n",
    "\n",
    "        x = self.fc3(x)\n",
    "        x = self.reg3(x)\n",
    "        x = self.act3(x)\n",
    "        \n",
    "        x = self.fc4(x)\n",
    "        x = self.reg4(x)\n",
    "        x = self.act4(x)\n",
    "        \n",
    "        x = self.fc5(x)\n",
    "        x = self.act5(x)\n",
    "        return x"
   ]
  },
  {
   "cell_type": "code",
   "execution_count": 44,
   "id": "c5a897dd",
   "metadata": {},
   "outputs": [],
   "source": [
    "# пространство параметров для перебора \n",
    "params_for_reg = [\n",
    "    [nn.Dropout(p=0.2),\n",
    "    nn.Dropout(p=0.2),\n",
    "    nn.Dropout(p=0.2),\n",
    "    nn.Dropout(p=0.2)],\n",
    "    [nn.Dropout(p=0.1),\n",
    "    nn.Dropout(p=0.2),\n",
    "    nn.Dropout(p=0.3),\n",
    "    nn.Dropout(p=0.4)],\n",
    "    [nn.Dropout(p=0.5),\n",
    "    nn.Dropout(p=0.2),\n",
    "    nn.Dropout(p=0.5),\n",
    "    nn.Dropout(p=0.4)],\n",
    "    [nn.Dropout(p=0.3),\n",
    "    nn.Dropout(p=0.5),\n",
    "    nn.Dropout(p=0.3),\n",
    "    nn.Dropout(p=0.2)],\n",
    "    [nn.BatchNorm1d(best_params[0]), \n",
    "     nn.BatchNorm1d(best_params[1]), \n",
    "     nn.BatchNorm1d(best_params[2]),\n",
    "    nn.BatchNorm1d(best_params[3])]\n",
    "]"
   ]
  },
  {
   "cell_type": "code",
   "execution_count": 45,
   "id": "59f698af",
   "metadata": {},
   "outputs": [
    {
     "name": "stdout",
     "output_type": "stream",
     "text": [
      "params: [Dropout(p=0.2, inplace=False), Dropout(p=0.2, inplace=False), Dropout(p=0.2, inplace=False), Dropout(p=0.2, inplace=False)]\n",
      "epoch | trainRMSE  | testRMSE\n",
      "-------------------------------\n",
      "    0 | 13952.4355 | 14695.4814\n",
      "  200 | 13768.8926 | 14517.6826\n",
      "  400 | 6896.4717 | 7523.5718\n",
      "  600 | 5393.9517 | 5998.5615\n",
      "  800 | 4918.4712 | 5567.8447\n",
      " 1000 | 4753.7500 | 5472.9497\n",
      " 1200 | 4603.6748 | 5360.4380\n",
      " 1400 | 4476.2031 | 5279.9077\n",
      " 1600 | 4480.1709 | 5371.2749\n",
      " 1800 | 4435.2266 | 5401.4185\n",
      " 2000 | 4288.0977 | 5309.6821\n",
      "****************\n",
      "\n",
      "params: [Dropout(p=0.1, inplace=False), Dropout(p=0.2, inplace=False), Dropout(p=0.3, inplace=False), Dropout(p=0.4, inplace=False)]\n",
      "epoch | trainRMSE  | testRMSE\n",
      "-------------------------------\n",
      "    0 | 13952.5938 | 14695.6367\n",
      "  200 | 13858.4307 | 14599.9697\n",
      "  400 | 7043.2378 | 7565.6211\n",
      "  600 | 5535.4873 | 6063.7354\n",
      "  800 | 5135.7905 | 5740.3833\n",
      " 1000 | 5076.6899 | 5746.3594\n",
      " 1200 | 4957.7227 | 5680.3501\n",
      " 1400 | 4775.1274 | 5539.5190\n",
      " 1600 | 4860.7246 | 5701.5645\n",
      " 1800 | 4770.9990 | 5679.6812\n",
      " 2000 | 4720.8755 | 5683.7896\n",
      "****************\n",
      "\n",
      "params: [Dropout(p=0.5, inplace=False), Dropout(p=0.2, inplace=False), Dropout(p=0.5, inplace=False), Dropout(p=0.4, inplace=False)]\n",
      "epoch | trainRMSE  | testRMSE\n",
      "-------------------------------\n",
      "    0 | 13952.5938 | 14695.6377\n",
      "  200 | 13863.2266 | 14604.6094\n",
      "  400 | 7337.0444 | 7880.2690\n",
      "  600 | 6245.3364 | 6823.9473\n",
      "  800 | 6087.9844 | 6700.7427\n",
      " 1000 | 5950.6313 | 6597.7588\n",
      " 1200 | 5847.8462 | 6528.7065\n",
      " 1400 | 5778.1445 | 6493.3149\n",
      " 1600 | 5743.6519 | 6483.6660\n",
      " 1800 | 5581.9521 | 6347.5474\n",
      " 2000 | 5475.0952 | 6261.6304\n",
      "****************\n",
      "\n",
      "params: [Dropout(p=0.3, inplace=False), Dropout(p=0.5, inplace=False), Dropout(p=0.3, inplace=False), Dropout(p=0.2, inplace=False)]\n",
      "epoch | trainRMSE  | testRMSE\n",
      "-------------------------------\n",
      "    0 | 13952.5938 | 14695.6367\n",
      "  200 | 13849.8887 | 14591.2021\n",
      "  400 | 6501.8394 | 6977.5967\n",
      "  600 | 5523.3569 | 6053.2559\n",
      "  800 | 5156.8193 | 5748.0640\n",
      " 1000 | 4986.0903 | 5634.8813\n",
      " 1200 | 4908.5181 | 5598.4189\n",
      " 1400 | 4809.1221 | 5548.5718\n",
      " 1600 | 4732.4419 | 5528.3037\n",
      " 1800 | 4685.1270 | 5540.2788\n",
      " 2000 | 4710.6479 | 5602.2588\n",
      "****************\n",
      "\n",
      "params: [BatchNorm1d(20, eps=1e-05, momentum=0.1, affine=True, track_running_stats=True), BatchNorm1d(15, eps=1e-05, momentum=0.1, affine=True, track_running_stats=True), BatchNorm1d(10, eps=1e-05, momentum=0.1, affine=True, track_running_stats=True), BatchNorm1d(5, eps=1e-05, momentum=0.1, affine=True, track_running_stats=True)]\n",
      "epoch | trainRMSE  | testRMSE\n",
      "-------------------------------\n",
      "    0 | 13952.5869 | 14695.6309\n",
      "  200 | 13951.3779 | 14694.4102\n",
      "  400 | 13948.6904 | 14691.6514\n",
      "  600 | 13943.4551 | 14685.7998\n",
      "  800 | 13938.1357 | 14680.1436\n",
      " 1000 | 13932.1982 | 14673.4238\n",
      " 1200 | 13923.7598 | 14664.2285\n",
      " 1400 | 13915.5684 | 14655.8809\n",
      " 1600 | 13905.2139 | 14645.3545\n",
      " 1800 | 13895.3867 | 14634.7422\n",
      " 2000 | 13884.8584 | 14622.7764\n",
      "****************\n",
      "\n",
      "Best model:\n",
      "RMSE: 5279.9077\n",
      "best_reg_params: [Dropout(p=0.2, inplace=False), Dropout(p=0.2, inplace=False), Dropout(p=0.2, inplace=False), Dropout(p=0.2, inplace=False)]\n",
      "NetReg(\n",
      "  (fc1): Linear(in_features=17, out_features=20, bias=True)\n",
      "  (reg1): Dropout(p=0.2, inplace=False)\n",
      "  (act1): ReLU()\n",
      "  (fc2): Linear(in_features=20, out_features=15, bias=True)\n",
      "  (reg2): Dropout(p=0.2, inplace=False)\n",
      "  (act2): ReLU()\n",
      "  (fc3): Linear(in_features=15, out_features=10, bias=True)\n",
      "  (reg3): Dropout(p=0.2, inplace=False)\n",
      "  (act3): ReLU()\n",
      "  (fc4): Linear(in_features=10, out_features=5, bias=True)\n",
      "  (reg4): Dropout(p=0.2, inplace=False)\n",
      "  (act4): ReLU()\n",
      "  (fc5): Linear(in_features=5, out_features=1, bias=True)\n",
      "  (act5): ReLU()\n",
      ")\n"
     ]
    }
   ],
   "source": [
    "# поиск лучшего набора параметров\n",
    "reg_net = None\n",
    "reg_rmse = 15_000\n",
    "\n",
    "for params in params_for_reg:\n",
    "    print('params:', params)\n",
    "    \n",
    "    model = NetReg(\n",
    "        x_train_ohe_scaled.shape[1],\n",
    "        *best_params, \n",
    "        *params\n",
    "    )\n",
    "    random.seed(baseline_seed)\n",
    "    np.random.seed(baseline_seed)\n",
    "    torch.manual_seed(baseline_seed)\n",
    "    torch.use_deterministic_algorithms(True)\n",
    "    loss = torch.nn.MSELoss()\n",
    "    optimizer = torch.optim.Adam(model.parameters(), lr=1.0e-3)\n",
    "    num_epochs = 2001\n",
    "    print('epoch |', 'trainRMSE  |', 'testRMSE')\n",
    "    print('-------------------------------')\n",
    "    for epoch in range(num_epochs):\n",
    "\n",
    "        optimizer.zero_grad()\n",
    "\n",
    "        preds = model.forward(X_train).flatten()\n",
    "\n",
    "        loss_value = loss(preds, Y_train)\n",
    "        loss_value.backward()\n",
    "        optimizer.step()\n",
    "\n",
    "        if (epoch % 200 == 0) or (epoch == num_epochs) :\n",
    "            model.eval()\n",
    "            train_preds = model.forward(X_train).flatten()\n",
    "            loss_value_train = torch.sqrt(loss(train_preds, Y_train))\n",
    "            test_preds = model.forward(X_test).flatten()\n",
    "            loss_value_test = torch.sqrt(loss(test_preds, Y_test))\n",
    "\n",
    "            print(\n",
    "                f'{epoch:5} | {loss_value_train.tolist():.4f} | {loss_value_test.tolist():.4f}'\n",
    "            )\n",
    "            model.train()\n",
    "            if loss_value_test < reg_rmse:\n",
    "                reg_net = model\n",
    "                reg_rmse = loss_value_test\n",
    "                best_reg_params = params\n",
    "    print('****************')            \n",
    "    print()\n",
    "print('Best model:')\n",
    "print('RMSE:', f'{reg_rmse.tolist():.4f}') \n",
    "print('best_reg_params:', best_reg_params)\n",
    "print(reg_net)"
   ]
  },
  {
   "cell_type": "markdown",
   "id": "33b97599",
   "metadata": {},
   "source": [
    "Добавление Dropout и BatchNorm само по себе не привело к желаемому улучшению показателей работы сети."
   ]
  },
  {
   "cell_type": "markdown",
   "id": "d78ccec5",
   "metadata": {},
   "source": [
    "Добавим пакетное обучение."
   ]
  },
  {
   "cell_type": "markdown",
   "id": "0bc5d2d8",
   "metadata": {},
   "source": [
    "### Пакетное обучение"
   ]
  },
  {
   "cell_type": "code",
   "execution_count": 46,
   "id": "a81ec423",
   "metadata": {},
   "outputs": [],
   "source": [
    "# попробуем разные размеры батчей\n",
    "batch_sizes = [20, 50, 75, 100]"
   ]
  },
  {
   "cell_type": "code",
   "execution_count": 48,
   "id": "0506653c",
   "metadata": {},
   "outputs": [
    {
     "name": "stdout",
     "output_type": "stream",
     "text": [
      "batch_size: 20\n",
      "epoch | trainRMSE  | testRMSE\n",
      "-------------------------------\n",
      "    0 | 13952.4004 | 14695.4453\n",
      "  100 | 4840.7051 | 5367.9229\n",
      "  200 | 4305.7676 | 5003.0464\n",
      "  300 | 4090.0049 | 4951.9307\n",
      "  400 | 3947.7332 | 5011.5674\n",
      "  500 | 3859.0327 | 5121.1387\n",
      "  600 | 3804.9697 | 5227.8979\n",
      "  700 | 3771.9065 | 5273.0220\n",
      "  800 | 3741.8701 | 5336.7275\n",
      "  900 | 3715.3586 | 5353.4292\n",
      " 1000 | 3691.4226 | 5365.7197\n",
      " 1100 | 3662.5234 | 5384.8804\n",
      " 1200 | 3633.9053 | 5370.3345\n",
      " 1300 | 3602.1919 | 5359.5225\n",
      " 1400 | 3564.2544 | 5366.1558\n",
      " 1500 | 3520.9949 | 5348.1387\n",
      "****************\n",
      "\n",
      "batch_size: 50\n",
      "epoch | trainRMSE  | testRMSE\n",
      "-------------------------------\n",
      "    0 | 13952.4209 | 14695.4668\n",
      "  100 | 8029.5044 | 8772.9756\n",
      "  200 | 4849.2026 | 5352.2534\n",
      "  300 | 4453.5200 | 5059.0444\n",
      "  400 | 4275.3232 | 4973.4941\n",
      "  500 | 4146.1284 | 4952.4346\n",
      "  600 | 4041.0544 | 4980.1548\n",
      "  700 | 3963.8433 | 5007.9849\n",
      "  800 | 3911.3152 | 5094.1387\n",
      "  900 | 3864.2336 | 5125.8804\n",
      " 1000 | 3833.8296 | 5178.5913\n",
      " 1100 | 3808.1169 | 5228.0503\n",
      " 1200 | 3788.1450 | 5267.5811\n",
      " 1300 | 3769.7888 | 5294.0669\n",
      " 1400 | 3755.1597 | 5325.1924\n",
      " 1500 | 3736.5278 | 5344.5337\n",
      "****************\n",
      "\n",
      "batch_size: 75\n",
      "epoch | trainRMSE  | testRMSE\n",
      "-------------------------------\n",
      "    0 | 13952.4258 | 14695.4727\n",
      "  100 | 12491.2900 | 13275.7393\n",
      "  200 | 5266.9111 | 5716.1934\n",
      "  300 | 4742.5371 | 5270.1318\n",
      "  400 | 4457.2500 | 5076.1665\n",
      "  500 | 4303.8691 | 4997.9272\n",
      "  600 | 4190.2969 | 4967.4917\n",
      "  700 | 4101.6538 | 4947.9185\n",
      "  800 | 4038.0291 | 5013.0264\n",
      "  900 | 3961.6345 | 5006.1753\n",
      " 1000 | 3910.9316 | 5054.0215\n",
      " 1100 | 3872.8596 | 5102.9468\n",
      " 1200 | 3842.4341 | 5158.5107\n",
      " 1300 | 3818.7195 | 5202.5889\n",
      " 1400 | 3801.5989 | 5246.5581\n",
      " 1500 | 3781.0425 | 5285.7773\n",
      "****************\n",
      "\n",
      "batch_size: 100\n",
      "epoch | trainRMSE  | testRMSE\n",
      "-------------------------------\n",
      "    0 | 13952.4307 | 14695.4766\n",
      "  100 | 13792.8018 | 14542.1982\n",
      "  200 | 7620.5391 | 8348.7783\n",
      "  300 | 5213.8560 | 5658.9390\n",
      "  400 | 4793.8711 | 5280.5811\n",
      "  500 | 4546.2261 | 5094.7715\n",
      "  600 | 4386.5522 | 5015.0161\n",
      "  700 | 4259.5498 | 4951.4175\n",
      "  800 | 4164.9980 | 4939.2773\n",
      "  900 | 4084.3831 | 4946.1191\n",
      " 1000 | 4017.5288 | 4971.1592\n",
      " 1100 | 3961.3245 | 5003.6621\n",
      " 1200 | 3912.7173 | 5050.0938\n",
      " 1300 | 3870.3606 | 5091.7295\n",
      " 1400 | 3837.2966 | 5142.8901\n",
      " 1500 | 3810.5098 | 5182.9028\n",
      "****************\n",
      "\n",
      "Best model:\n",
      "RMSE: 4939.2773\n",
      "best_batch_size: 100\n",
      "best_epoch: 800\n",
      "Net(\n",
      "  (fc1): Linear(in_features=17, out_features=20, bias=True)\n",
      "  (act1): ReLU()\n",
      "  (fc2): Linear(in_features=20, out_features=15, bias=True)\n",
      "  (act2): ReLU()\n",
      "  (fc3): Linear(in_features=15, out_features=10, bias=True)\n",
      "  (act3): ReLU()\n",
      "  (fc4): Linear(in_features=10, out_features=5, bias=True)\n",
      "  (act4): ReLU()\n",
      "  (fc5): Linear(in_features=5, out_features=1, bias=True)\n",
      "  (act5): ReLU()\n",
      ")\n"
     ]
    }
   ],
   "source": [
    "best_net_with_batches = None\n",
    "best_rmse_with_batches = 15_000\n",
    "for batch_size in batch_sizes:\n",
    "    print('batch_size:', batch_size)\n",
    "    \n",
    "    new_net = Net(\n",
    "                x_train_ohe_scaled.shape[1],\n",
    "                *best_params\n",
    "            )\n",
    "    random.seed(baseline_seed)\n",
    "    np.random.seed(baseline_seed)\n",
    "    torch.manual_seed(baseline_seed)\n",
    "    torch.use_deterministic_algorithms(True)\n",
    "\n",
    "    optimizer = torch.optim.Adam(new_net.parameters(), lr=1e-3)\n",
    "\n",
    "    loss = torch.nn.MSELoss()\n",
    "\n",
    "    num_epochs = 1501\n",
    "\n",
    "    num_batches = ceil(len(X_train)/batch_size)\n",
    "    print('epoch |', 'trainRMSE  |', 'testRMSE')\n",
    "    print('-------------------------------')\n",
    "    for epoch in range(num_epochs):\n",
    "        order = np.random.permutation(len(X_train)) # создайте случайную перестановку индексов объектов\n",
    "        for batch_idx in range(num_batches):\n",
    "            start_index = batch_idx * batch_size# посчитайте номер стартового объекта батча\n",
    "            optimizer.zero_grad()\n",
    "\n",
    "            batch_indexes = order[start_index:start_index+batch_size] # извлеките индексы объектов текущего обатча\n",
    "            X_batch = X_train[batch_indexes]\n",
    "            y_batch = Y_train[batch_indexes]\n",
    "\n",
    "            preds = new_net.forward(X_batch).flatten()\n",
    "\n",
    "            loss_value = loss(preds, y_batch)\n",
    "\n",
    "            loss_value.backward()\n",
    "\n",
    "            optimizer.step()\n",
    "\n",
    "        if epoch % 100 == 0 or epoch == num_epochs - 1:\n",
    "            new_net.eval()\n",
    "            train_preds = new_net.forward(X_train).flatten()\n",
    "            loss_value_train = torch.sqrt(loss(train_preds, Y_train))\n",
    "            test_preds = new_net.forward(X_test).flatten()\n",
    "            loss_value_test = torch.sqrt(loss(test_preds, Y_test))\n",
    "\n",
    "            print(\n",
    "                f'{epoch:5} | {loss_value_train.tolist():.4f} | {loss_value_test.tolist():.4f}'\n",
    "            )\n",
    "            new_net.train()\n",
    "            if loss_value_test < best_rmse_with_batches:\n",
    "                best_net_with_batches = new_net\n",
    "                best_rmse_with_batches = loss_value_test\n",
    "                best_batch_size = batch_size\n",
    "                best_epoch = epoch\n",
    "    print('****************')            \n",
    "    print()\n",
    "print('Best model:')\n",
    "print('RMSE:', f'{best_rmse_with_batches.tolist():.4f}') \n",
    "print('best_batch_size:', best_batch_size)\n",
    "print('best_epoch:', best_epoch)\n",
    "\n",
    "print(best_net_with_batches)"
   ]
  },
  {
   "cell_type": "markdown",
   "id": "41130379",
   "metadata": {},
   "source": [
    "По характеру записей о процессе обучения модели можно сделать вывод о наличии переобучения. До определенного времени показатель ошибки на тестовых данных уменьшается вместе с показателем для обучающей выборки. В какой-то момент показатель на тренировочной выборке улучшается, а на тестовой начинает падать. \n",
    "\n",
    "В коде сохраняется модель с наилучшими показателями. В дальнейшем будем использовать ее.\n"
   ]
  },
  {
   "cell_type": "markdown",
   "id": "30629091",
   "metadata": {},
   "source": [
    "В результате экспериментов не удалось опустить метрику RMSE ниже 4900. Скорее всего это связано с тем, что для обучения у нас мало данных. Попробуем увеличить из с помощью аугментации."
   ]
  },
  {
   "cell_type": "markdown",
   "id": "b7dd5376",
   "metadata": {},
   "source": [
    "### Аугментация данных"
   ]
  },
  {
   "cell_type": "markdown",
   "id": "e1755014",
   "metadata": {},
   "source": [
    "Попробуем добавить немного шума к данным (признак 'Абсолютная звёздная величина'), используя генератор нормального распределения из библиотеки NumPy. "
   ]
  },
  {
   "cell_type": "code",
   "execution_count": 49,
   "id": "d6393a41",
   "metadata": {},
   "outputs": [],
   "source": [
    "data = x_train_ohe\n",
    " \n",
    "# добавление шума к числовым данным\n",
    "noisy_data = data.copy()\n",
    "noisy_data['absolute_magnitude_(mv)'] = noisy_data['absolute_magnitude_(mv)'] + np.random.normal(0, 1, len(noisy_data))\n"
   ]
  },
  {
   "cell_type": "markdown",
   "id": "3b49e81f",
   "metadata": {},
   "source": [
    "Сравним изначальные данные и зашумлённые."
   ]
  },
  {
   "cell_type": "code",
   "execution_count": 50,
   "id": "0eed2a6b",
   "metadata": {},
   "outputs": [
    {
     "data": {
      "text/html": [
       "<div>\n",
       "<style scoped>\n",
       "    .dataframe tbody tr th:only-of-type {\n",
       "        vertical-align: middle;\n",
       "    }\n",
       "\n",
       "    .dataframe tbody tr th {\n",
       "        vertical-align: top;\n",
       "    }\n",
       "\n",
       "    .dataframe thead th {\n",
       "        text-align: right;\n",
       "    }\n",
       "</style>\n",
       "<table border=\"1\" class=\"dataframe\">\n",
       "  <thead>\n",
       "    <tr style=\"text-align: right;\">\n",
       "      <th></th>\n",
       "      <th>luminosity_(l/lo)</th>\n",
       "      <th>radius_(r/ro)</th>\n",
       "      <th>absolute_magnitude_(mv)</th>\n",
       "      <th>ohe0</th>\n",
       "      <th>ohe1</th>\n",
       "      <th>ohe2</th>\n",
       "      <th>ohe3</th>\n",
       "      <th>ohe4</th>\n",
       "      <th>ohe5</th>\n",
       "      <th>ohe6</th>\n",
       "      <th>ohe7</th>\n",
       "      <th>ohe8</th>\n",
       "      <th>ohe9</th>\n",
       "      <th>ohe10</th>\n",
       "      <th>ohe11</th>\n",
       "      <th>ohe12</th>\n",
       "      <th>ohe13</th>\n",
       "    </tr>\n",
       "  </thead>\n",
       "  <tbody>\n",
       "    <tr>\n",
       "      <th>0</th>\n",
       "      <td>0.00008</td>\n",
       "      <td>0.0130</td>\n",
       "      <td>14.08</td>\n",
       "      <td>0.0</td>\n",
       "      <td>0.0</td>\n",
       "      <td>0.0</td>\n",
       "      <td>1.0</td>\n",
       "      <td>0.0</td>\n",
       "      <td>0.0</td>\n",
       "      <td>0.0</td>\n",
       "      <td>0.0</td>\n",
       "      <td>0.0</td>\n",
       "      <td>0.0</td>\n",
       "      <td>1.0</td>\n",
       "      <td>0.0</td>\n",
       "      <td>0.0</td>\n",
       "      <td>0.0</td>\n",
       "    </tr>\n",
       "    <tr>\n",
       "      <th>1</th>\n",
       "      <td>0.00064</td>\n",
       "      <td>0.1090</td>\n",
       "      <td>17.12</td>\n",
       "      <td>0.0</td>\n",
       "      <td>0.0</td>\n",
       "      <td>0.0</td>\n",
       "      <td>0.0</td>\n",
       "      <td>1.0</td>\n",
       "      <td>0.0</td>\n",
       "      <td>0.0</td>\n",
       "      <td>0.0</td>\n",
       "      <td>1.0</td>\n",
       "      <td>0.0</td>\n",
       "      <td>0.0</td>\n",
       "      <td>0.0</td>\n",
       "      <td>0.0</td>\n",
       "      <td>0.0</td>\n",
       "    </tr>\n",
       "    <tr>\n",
       "      <th>2</th>\n",
       "      <td>0.00100</td>\n",
       "      <td>0.3500</td>\n",
       "      <td>11.76</td>\n",
       "      <td>0.0</td>\n",
       "      <td>0.0</td>\n",
       "      <td>0.0</td>\n",
       "      <td>0.0</td>\n",
       "      <td>1.0</td>\n",
       "      <td>0.0</td>\n",
       "      <td>0.0</td>\n",
       "      <td>0.0</td>\n",
       "      <td>0.0</td>\n",
       "      <td>1.0</td>\n",
       "      <td>0.0</td>\n",
       "      <td>0.0</td>\n",
       "      <td>0.0</td>\n",
       "      <td>0.0</td>\n",
       "    </tr>\n",
       "    <tr>\n",
       "      <th>3</th>\n",
       "      <td>0.00056</td>\n",
       "      <td>0.0095</td>\n",
       "      <td>13.78</td>\n",
       "      <td>0.0</td>\n",
       "      <td>0.0</td>\n",
       "      <td>0.0</td>\n",
       "      <td>0.0</td>\n",
       "      <td>0.0</td>\n",
       "      <td>1.0</td>\n",
       "      <td>0.0</td>\n",
       "      <td>0.0</td>\n",
       "      <td>0.0</td>\n",
       "      <td>0.0</td>\n",
       "      <td>1.0</td>\n",
       "      <td>0.0</td>\n",
       "      <td>0.0</td>\n",
       "      <td>0.0</td>\n",
       "    </tr>\n",
       "    <tr>\n",
       "      <th>4</th>\n",
       "      <td>0.00065</td>\n",
       "      <td>0.1100</td>\n",
       "      <td>16.98</td>\n",
       "      <td>0.0</td>\n",
       "      <td>0.0</td>\n",
       "      <td>0.0</td>\n",
       "      <td>0.0</td>\n",
       "      <td>1.0</td>\n",
       "      <td>0.0</td>\n",
       "      <td>0.0</td>\n",
       "      <td>0.0</td>\n",
       "      <td>1.0</td>\n",
       "      <td>0.0</td>\n",
       "      <td>0.0</td>\n",
       "      <td>0.0</td>\n",
       "      <td>0.0</td>\n",
       "      <td>0.0</td>\n",
       "    </tr>\n",
       "  </tbody>\n",
       "</table>\n",
       "</div>"
      ],
      "text/plain": [
       "   luminosity_(l/lo)  radius_(r/ro)  absolute_magnitude_(mv)  ohe0  ohe1  \\\n",
       "0            0.00008         0.0130                    14.08   0.0   0.0   \n",
       "1            0.00064         0.1090                    17.12   0.0   0.0   \n",
       "2            0.00100         0.3500                    11.76   0.0   0.0   \n",
       "3            0.00056         0.0095                    13.78   0.0   0.0   \n",
       "4            0.00065         0.1100                    16.98   0.0   0.0   \n",
       "\n",
       "   ohe2  ohe3  ohe4  ohe5  ohe6  ohe7  ohe8  ohe9  ohe10  ohe11  ohe12  ohe13  \n",
       "0   0.0   1.0   0.0   0.0   0.0   0.0   0.0   0.0    1.0    0.0    0.0    0.0  \n",
       "1   0.0   0.0   1.0   0.0   0.0   0.0   1.0   0.0    0.0    0.0    0.0    0.0  \n",
       "2   0.0   0.0   1.0   0.0   0.0   0.0   0.0   1.0    0.0    0.0    0.0    0.0  \n",
       "3   0.0   0.0   0.0   1.0   0.0   0.0   0.0   0.0    1.0    0.0    0.0    0.0  \n",
       "4   0.0   0.0   1.0   0.0   0.0   0.0   1.0   0.0    0.0    0.0    0.0    0.0  "
      ]
     },
     "execution_count": 50,
     "metadata": {},
     "output_type": "execute_result"
    }
   ],
   "source": [
    "# изначально\n",
    "data.head()"
   ]
  },
  {
   "cell_type": "code",
   "execution_count": 51,
   "id": "5946dbe0",
   "metadata": {},
   "outputs": [
    {
     "data": {
      "text/html": [
       "<div>\n",
       "<style scoped>\n",
       "    .dataframe tbody tr th:only-of-type {\n",
       "        vertical-align: middle;\n",
       "    }\n",
       "\n",
       "    .dataframe tbody tr th {\n",
       "        vertical-align: top;\n",
       "    }\n",
       "\n",
       "    .dataframe thead th {\n",
       "        text-align: right;\n",
       "    }\n",
       "</style>\n",
       "<table border=\"1\" class=\"dataframe\">\n",
       "  <thead>\n",
       "    <tr style=\"text-align: right;\">\n",
       "      <th></th>\n",
       "      <th>luminosity_(l/lo)</th>\n",
       "      <th>radius_(r/ro)</th>\n",
       "      <th>absolute_magnitude_(mv)</th>\n",
       "      <th>ohe0</th>\n",
       "      <th>ohe1</th>\n",
       "      <th>ohe2</th>\n",
       "      <th>ohe3</th>\n",
       "      <th>ohe4</th>\n",
       "      <th>ohe5</th>\n",
       "      <th>ohe6</th>\n",
       "      <th>ohe7</th>\n",
       "      <th>ohe8</th>\n",
       "      <th>ohe9</th>\n",
       "      <th>ohe10</th>\n",
       "      <th>ohe11</th>\n",
       "      <th>ohe12</th>\n",
       "      <th>ohe13</th>\n",
       "    </tr>\n",
       "  </thead>\n",
       "  <tbody>\n",
       "    <tr>\n",
       "      <th>0</th>\n",
       "      <td>0.00008</td>\n",
       "      <td>0.0130</td>\n",
       "      <td>15.191184</td>\n",
       "      <td>0.0</td>\n",
       "      <td>0.0</td>\n",
       "      <td>0.0</td>\n",
       "      <td>1.0</td>\n",
       "      <td>0.0</td>\n",
       "      <td>0.0</td>\n",
       "      <td>0.0</td>\n",
       "      <td>0.0</td>\n",
       "      <td>0.0</td>\n",
       "      <td>0.0</td>\n",
       "      <td>1.0</td>\n",
       "      <td>0.0</td>\n",
       "      <td>0.0</td>\n",
       "      <td>0.0</td>\n",
       "    </tr>\n",
       "    <tr>\n",
       "      <th>1</th>\n",
       "      <td>0.00064</td>\n",
       "      <td>0.1090</td>\n",
       "      <td>16.511566</td>\n",
       "      <td>0.0</td>\n",
       "      <td>0.0</td>\n",
       "      <td>0.0</td>\n",
       "      <td>0.0</td>\n",
       "      <td>1.0</td>\n",
       "      <td>0.0</td>\n",
       "      <td>0.0</td>\n",
       "      <td>0.0</td>\n",
       "      <td>1.0</td>\n",
       "      <td>0.0</td>\n",
       "      <td>0.0</td>\n",
       "      <td>0.0</td>\n",
       "      <td>0.0</td>\n",
       "      <td>0.0</td>\n",
       "    </tr>\n",
       "    <tr>\n",
       "      <th>2</th>\n",
       "      <td>0.00100</td>\n",
       "      <td>0.3500</td>\n",
       "      <td>11.472394</td>\n",
       "      <td>0.0</td>\n",
       "      <td>0.0</td>\n",
       "      <td>0.0</td>\n",
       "      <td>0.0</td>\n",
       "      <td>1.0</td>\n",
       "      <td>0.0</td>\n",
       "      <td>0.0</td>\n",
       "      <td>0.0</td>\n",
       "      <td>0.0</td>\n",
       "      <td>1.0</td>\n",
       "      <td>0.0</td>\n",
       "      <td>0.0</td>\n",
       "      <td>0.0</td>\n",
       "      <td>0.0</td>\n",
       "    </tr>\n",
       "    <tr>\n",
       "      <th>3</th>\n",
       "      <td>0.00056</td>\n",
       "      <td>0.0095</td>\n",
       "      <td>15.060193</td>\n",
       "      <td>0.0</td>\n",
       "      <td>0.0</td>\n",
       "      <td>0.0</td>\n",
       "      <td>0.0</td>\n",
       "      <td>0.0</td>\n",
       "      <td>1.0</td>\n",
       "      <td>0.0</td>\n",
       "      <td>0.0</td>\n",
       "      <td>0.0</td>\n",
       "      <td>0.0</td>\n",
       "      <td>1.0</td>\n",
       "      <td>0.0</td>\n",
       "      <td>0.0</td>\n",
       "      <td>0.0</td>\n",
       "    </tr>\n",
       "    <tr>\n",
       "      <th>4</th>\n",
       "      <td>0.00065</td>\n",
       "      <td>0.1100</td>\n",
       "      <td>16.495014</td>\n",
       "      <td>0.0</td>\n",
       "      <td>0.0</td>\n",
       "      <td>0.0</td>\n",
       "      <td>0.0</td>\n",
       "      <td>1.0</td>\n",
       "      <td>0.0</td>\n",
       "      <td>0.0</td>\n",
       "      <td>0.0</td>\n",
       "      <td>1.0</td>\n",
       "      <td>0.0</td>\n",
       "      <td>0.0</td>\n",
       "      <td>0.0</td>\n",
       "      <td>0.0</td>\n",
       "      <td>0.0</td>\n",
       "    </tr>\n",
       "  </tbody>\n",
       "</table>\n",
       "</div>"
      ],
      "text/plain": [
       "   luminosity_(l/lo)  radius_(r/ro)  absolute_magnitude_(mv)  ohe0  ohe1  \\\n",
       "0            0.00008         0.0130                15.191184   0.0   0.0   \n",
       "1            0.00064         0.1090                16.511566   0.0   0.0   \n",
       "2            0.00100         0.3500                11.472394   0.0   0.0   \n",
       "3            0.00056         0.0095                15.060193   0.0   0.0   \n",
       "4            0.00065         0.1100                16.495014   0.0   0.0   \n",
       "\n",
       "   ohe2  ohe3  ohe4  ohe5  ohe6  ohe7  ohe8  ohe9  ohe10  ohe11  ohe12  ohe13  \n",
       "0   0.0   1.0   0.0   0.0   0.0   0.0   0.0   0.0    1.0    0.0    0.0    0.0  \n",
       "1   0.0   0.0   1.0   0.0   0.0   0.0   1.0   0.0    0.0    0.0    0.0    0.0  \n",
       "2   0.0   0.0   1.0   0.0   0.0   0.0   0.0   1.0    0.0    0.0    0.0    0.0  \n",
       "3   0.0   0.0   0.0   1.0   0.0   0.0   0.0   0.0    1.0    0.0    0.0    0.0  \n",
       "4   0.0   0.0   1.0   0.0   0.0   0.0   1.0   0.0    0.0    0.0    0.0    0.0  "
      ]
     },
     "execution_count": 51,
     "metadata": {},
     "output_type": "execute_result"
    }
   ],
   "source": [
    "# с шумом\n",
    "noisy_data.head()"
   ]
  },
  {
   "cell_type": "code",
   "execution_count": 52,
   "id": "b72b9ba0",
   "metadata": {},
   "outputs": [
    {
     "data": {
      "text/plain": [
       "((168, 17), (168, 17))"
      ]
     },
     "execution_count": 52,
     "metadata": {},
     "output_type": "execute_result"
    }
   ],
   "source": [
    "# проверка размерности\n",
    "noisy_data.shape, data.shape"
   ]
  },
  {
   "cell_type": "code",
   "execution_count": 53,
   "id": "9a7528ba",
   "metadata": {},
   "outputs": [],
   "source": [
    "# масштабируем данные\n",
    "noisy_data_scaled = pd.DataFrame(scaler.transform(noisy_data))"
   ]
  },
  {
   "cell_type": "markdown",
   "id": "4cd6694a",
   "metadata": {},
   "source": [
    "Добавим зашумленные данные к изначальной обучающей выборке. Тестовую выборку оставим без изменений."
   ]
  },
  {
   "cell_type": "code",
   "execution_count": 54,
   "id": "88f67168",
   "metadata": {},
   "outputs": [],
   "source": [
    "# новый более крупный датасет\n",
    "new_data = pd.concat([x_train_ohe_scaled, noisy_data_scaled], axis=0, ignore_index=True)"
   ]
  },
  {
   "cell_type": "code",
   "execution_count": 55,
   "id": "bd7500e6",
   "metadata": {},
   "outputs": [
    {
     "data": {
      "text/plain": [
       "(336, 17)"
      ]
     },
     "execution_count": 55,
     "metadata": {},
     "output_type": "execute_result"
    }
   ],
   "source": [
    "# проверка размерности\n",
    "new_data.shape"
   ]
  },
  {
   "cell_type": "code",
   "execution_count": 56,
   "id": "4d5815e2",
   "metadata": {},
   "outputs": [
    {
     "data": {
      "text/html": [
       "<div>\n",
       "<style scoped>\n",
       "    .dataframe tbody tr th:only-of-type {\n",
       "        vertical-align: middle;\n",
       "    }\n",
       "\n",
       "    .dataframe tbody tr th {\n",
       "        vertical-align: top;\n",
       "    }\n",
       "\n",
       "    .dataframe thead th {\n",
       "        text-align: right;\n",
       "    }\n",
       "</style>\n",
       "<table border=\"1\" class=\"dataframe\">\n",
       "  <thead>\n",
       "    <tr style=\"text-align: right;\">\n",
       "      <th></th>\n",
       "      <th>0</th>\n",
       "      <th>1</th>\n",
       "      <th>2</th>\n",
       "      <th>3</th>\n",
       "      <th>4</th>\n",
       "      <th>5</th>\n",
       "      <th>6</th>\n",
       "      <th>7</th>\n",
       "      <th>8</th>\n",
       "      <th>9</th>\n",
       "      <th>10</th>\n",
       "      <th>11</th>\n",
       "      <th>12</th>\n",
       "      <th>13</th>\n",
       "      <th>14</th>\n",
       "      <th>15</th>\n",
       "      <th>16</th>\n",
       "    </tr>\n",
       "  </thead>\n",
       "  <tbody>\n",
       "    <tr>\n",
       "      <th>0</th>\n",
       "      <td>-0.605495</td>\n",
       "      <td>-0.432609</td>\n",
       "      <td>0.921181</td>\n",
       "      <td>-0.540655</td>\n",
       "      <td>-0.456764</td>\n",
       "      <td>-0.077382</td>\n",
       "      <td>12.922848</td>\n",
       "      <td>-0.919866</td>\n",
       "      <td>-0.264695</td>\n",
       "      <td>-0.237915</td>\n",
       "      <td>-0.109764</td>\n",
       "      <td>-0.427900</td>\n",
       "      <td>-0.447214</td>\n",
       "      <td>2.144761</td>\n",
       "      <td>-0.466252</td>\n",
       "      <td>-0.456764</td>\n",
       "      <td>-0.418121</td>\n",
       "    </tr>\n",
       "    <tr>\n",
       "      <th>1</th>\n",
       "      <td>-0.605495</td>\n",
       "      <td>-0.432415</td>\n",
       "      <td>1.215105</td>\n",
       "      <td>-0.540655</td>\n",
       "      <td>-0.456764</td>\n",
       "      <td>-0.077382</td>\n",
       "      <td>-0.077382</td>\n",
       "      <td>1.087115</td>\n",
       "      <td>-0.264695</td>\n",
       "      <td>-0.237915</td>\n",
       "      <td>-0.109764</td>\n",
       "      <td>2.336993</td>\n",
       "      <td>-0.447214</td>\n",
       "      <td>-0.466252</td>\n",
       "      <td>-0.466252</td>\n",
       "      <td>-0.456764</td>\n",
       "      <td>-0.418121</td>\n",
       "    </tr>\n",
       "    <tr>\n",
       "      <th>2</th>\n",
       "      <td>-0.605495</td>\n",
       "      <td>-0.431926</td>\n",
       "      <td>0.696871</td>\n",
       "      <td>-0.540655</td>\n",
       "      <td>-0.456764</td>\n",
       "      <td>-0.077382</td>\n",
       "      <td>-0.077382</td>\n",
       "      <td>1.087115</td>\n",
       "      <td>-0.264695</td>\n",
       "      <td>-0.237915</td>\n",
       "      <td>-0.109764</td>\n",
       "      <td>-0.427900</td>\n",
       "      <td>2.236068</td>\n",
       "      <td>-0.466252</td>\n",
       "      <td>-0.466252</td>\n",
       "      <td>-0.456764</td>\n",
       "      <td>-0.418121</td>\n",
       "    </tr>\n",
       "    <tr>\n",
       "      <th>3</th>\n",
       "      <td>-0.605495</td>\n",
       "      <td>-0.432616</td>\n",
       "      <td>0.892176</td>\n",
       "      <td>-0.540655</td>\n",
       "      <td>-0.456764</td>\n",
       "      <td>-0.077382</td>\n",
       "      <td>-0.077382</td>\n",
       "      <td>-0.919866</td>\n",
       "      <td>3.777926</td>\n",
       "      <td>-0.237915</td>\n",
       "      <td>-0.109764</td>\n",
       "      <td>-0.427900</td>\n",
       "      <td>-0.447214</td>\n",
       "      <td>2.144761</td>\n",
       "      <td>-0.466252</td>\n",
       "      <td>-0.456764</td>\n",
       "      <td>-0.418121</td>\n",
       "    </tr>\n",
       "    <tr>\n",
       "      <th>4</th>\n",
       "      <td>-0.605495</td>\n",
       "      <td>-0.432413</td>\n",
       "      <td>1.201569</td>\n",
       "      <td>-0.540655</td>\n",
       "      <td>-0.456764</td>\n",
       "      <td>-0.077382</td>\n",
       "      <td>-0.077382</td>\n",
       "      <td>1.087115</td>\n",
       "      <td>-0.264695</td>\n",
       "      <td>-0.237915</td>\n",
       "      <td>-0.109764</td>\n",
       "      <td>2.336993</td>\n",
       "      <td>-0.447214</td>\n",
       "      <td>-0.466252</td>\n",
       "      <td>-0.466252</td>\n",
       "      <td>-0.456764</td>\n",
       "      <td>-0.418121</td>\n",
       "    </tr>\n",
       "  </tbody>\n",
       "</table>\n",
       "</div>"
      ],
      "text/plain": [
       "         0         1         2         3         4         5          6   \\\n",
       "0 -0.605495 -0.432609  0.921181 -0.540655 -0.456764 -0.077382  12.922848   \n",
       "1 -0.605495 -0.432415  1.215105 -0.540655 -0.456764 -0.077382  -0.077382   \n",
       "2 -0.605495 -0.431926  0.696871 -0.540655 -0.456764 -0.077382  -0.077382   \n",
       "3 -0.605495 -0.432616  0.892176 -0.540655 -0.456764 -0.077382  -0.077382   \n",
       "4 -0.605495 -0.432413  1.201569 -0.540655 -0.456764 -0.077382  -0.077382   \n",
       "\n",
       "         7         8         9         10        11        12        13  \\\n",
       "0 -0.919866 -0.264695 -0.237915 -0.109764 -0.427900 -0.447214  2.144761   \n",
       "1  1.087115 -0.264695 -0.237915 -0.109764  2.336993 -0.447214 -0.466252   \n",
       "2  1.087115 -0.264695 -0.237915 -0.109764 -0.427900  2.236068 -0.466252   \n",
       "3 -0.919866  3.777926 -0.237915 -0.109764 -0.427900 -0.447214  2.144761   \n",
       "4  1.087115 -0.264695 -0.237915 -0.109764  2.336993 -0.447214 -0.466252   \n",
       "\n",
       "         14        15        16  \n",
       "0 -0.466252 -0.456764 -0.418121  \n",
       "1 -0.466252 -0.456764 -0.418121  \n",
       "2 -0.466252 -0.456764 -0.418121  \n",
       "3 -0.466252 -0.456764 -0.418121  \n",
       "4 -0.466252 -0.456764 -0.418121  "
      ]
     },
     "execution_count": 56,
     "metadata": {},
     "output_type": "execute_result"
    }
   ],
   "source": [
    "new_data.head()"
   ]
  },
  {
   "cell_type": "markdown",
   "id": "04b6451d",
   "metadata": {},
   "source": [
    "Добавим шум и к целевому признаку."
   ]
  },
  {
   "cell_type": "code",
   "execution_count": 57,
   "id": "1815b725",
   "metadata": {},
   "outputs": [
    {
     "data": {
      "text/plain": [
       "(336,)"
      ]
     },
     "execution_count": 57,
     "metadata": {},
     "output_type": "execute_result"
    }
   ],
   "source": [
    "# повторяем предыдущие шаги для целевого признака\n",
    "y_train_aug = y_train + np.random.normal(0, 1, len(noisy_data))\n",
    "new_target = pd.concat([y_train, y_train_aug], axis=0, ignore_index=True)\n",
    "new_target.shape"
   ]
  },
  {
   "cell_type": "code",
   "execution_count": 58,
   "id": "6c9fbe52",
   "metadata": {},
   "outputs": [
    {
     "data": {
      "text/plain": [
       "0       7230.000000\n",
       "1       3511.000000\n",
       "2       3180.000000\n",
       "3       8930.000000\n",
       "4       2840.000000\n",
       "           ...     \n",
       "331    24630.124879\n",
       "332     2650.971148\n",
       "333     4077.847539\n",
       "334    24488.541098\n",
       "335    23000.990584\n",
       "Name: temperature_(k), Length: 336, dtype: float64"
      ]
     },
     "execution_count": 58,
     "metadata": {},
     "output_type": "execute_result"
    }
   ],
   "source": [
    "new_target"
   ]
  },
  {
   "cell_type": "markdown",
   "id": "2ddd0ed8",
   "metadata": {},
   "source": [
    "Преобразуем новые данные в тензоры."
   ]
  },
  {
   "cell_type": "code",
   "execution_count": 59,
   "id": "7dc1dcd4",
   "metadata": {},
   "outputs": [],
   "source": [
    "X_new_train = torch.FloatTensor(new_data.values)\n",
    "Y_new_train = torch.FloatTensor(new_target.values)"
   ]
  },
  {
   "cell_type": "markdown",
   "id": "86f6017c",
   "metadata": {},
   "source": [
    "Попробуем обучить на новых данных сеть с параметрами, полученными на прошлых шагах."
   ]
  },
  {
   "cell_type": "code",
   "execution_count": 60,
   "id": "cbecbacd",
   "metadata": {},
   "outputs": [
    {
     "name": "stdout",
     "output_type": "stream",
     "text": [
      "epoch | trainRMSE  | testRMSE\n",
      "-------------------------------\n",
      "    0 | 13952.4639 | 14695.4668\n",
      "  100 | 7767.5811 | 8479.8477\n",
      "  200 | 4799.3364 | 5294.6802\n",
      "  300 | 4394.8301 | 5029.2607\n",
      "  400 | 4206.1709 | 4976.4941\n",
      "  500 | 4067.2522 | 4974.4072\n",
      "  600 | 3959.9109 | 5036.1050\n",
      "  700 | 3886.1721 | 5111.3828\n",
      "  800 | 3837.3706 | 5178.8511\n",
      "  900 | 3801.5784 | 5251.0542\n",
      " 1000 | 3775.0493 | 5292.2046\n",
      " 1100 | 3750.2053 | 5325.5020\n",
      " 1200 | 3728.8809 | 5350.0171\n",
      " 1300 | 3710.3987 | 5374.5410\n",
      " 1400 | 3690.0178 | 5411.9600\n",
      " 1500 | 3673.0789 | 5434.7554\n",
      "****************\n",
      "\n",
      "Best model:\n",
      "RMSE: 4974.4072\n",
      "best_epoch: 500\n",
      "Net(\n",
      "  (fc1): Linear(in_features=17, out_features=20, bias=True)\n",
      "  (act1): ReLU()\n",
      "  (fc2): Linear(in_features=20, out_features=15, bias=True)\n",
      "  (act2): ReLU()\n",
      "  (fc3): Linear(in_features=15, out_features=10, bias=True)\n",
      "  (act3): ReLU()\n",
      "  (fc4): Linear(in_features=10, out_features=5, bias=True)\n",
      "  (act4): ReLU()\n",
      "  (fc5): Linear(in_features=5, out_features=1, bias=True)\n",
      "  (act5): ReLU()\n",
      ")\n"
     ]
    }
   ],
   "source": [
    "best_net_with_aug = None\n",
    "best_rmse_with_aug = 15_000\n",
    "\n",
    "aug_net = Net(\n",
    "                x_train_ohe_scaled.shape[1],\n",
    "                *best_params\n",
    "            )\n",
    "\n",
    "random.seed(baseline_seed)\n",
    "np.random.seed(baseline_seed)\n",
    "torch.manual_seed(baseline_seed)\n",
    "torch.use_deterministic_algorithms(True)\n",
    "\n",
    "optimizer = torch.optim.Adam(aug_net.parameters(), lr=1e-3)\n",
    "\n",
    "loss = torch.nn.MSELoss()\n",
    "\n",
    "batch_size = best_batch_size\n",
    "num_epochs = 1501\n",
    "\n",
    "num_batches = ceil(len(X_new_train)/batch_size)\n",
    "print('epoch |', 'trainRMSE  |', 'testRMSE')\n",
    "print('-------------------------------')\n",
    "for epoch in range(num_epochs):\n",
    "    order = np.random.permutation(len(X_new_train)) # создайте случайную перестановку индексов объектов\n",
    "    for batch_idx in range(num_batches):\n",
    "        start_index = batch_idx * batch_size# посчитайте номер стартового объекта батча\n",
    "        optimizer.zero_grad()\n",
    "\n",
    "        batch_indexes = order[start_index:start_index+batch_size] # извлеките индексы объектов текущего обатча\n",
    "        X_batch = X_new_train[batch_indexes]\n",
    "        y_batch = Y_new_train[batch_indexes]\n",
    "\n",
    "        preds = aug_net.forward(X_batch).flatten()\n",
    "\n",
    "        loss_value = loss(preds, y_batch)\n",
    "\n",
    "        loss_value.backward()\n",
    "\n",
    "        optimizer.step()\n",
    "\n",
    "    if epoch % 100 == 0 or epoch == num_epochs - 1:\n",
    "        aug_net.eval()\n",
    "        train_preds = aug_net.forward(X_new_train).flatten()\n",
    "        loss_value_train = torch.sqrt(loss(train_preds, Y_new_train))\n",
    "        test_preds = aug_net.forward(X_test).flatten()\n",
    "        loss_value_test = torch.sqrt(loss(test_preds, Y_test))\n",
    "\n",
    "        print(\n",
    "            f'{epoch:5} | {loss_value_train.tolist():.4f} | {loss_value_test.tolist():.4f}'\n",
    "        )\n",
    "        aug_net.train()\n",
    "        if loss_value_test < best_rmse_with_aug:\n",
    "                best_net_with_aug = aug_net\n",
    "                best_rmse_with_aug = loss_value_test\n",
    "                best_epoch_aug = epoch\n",
    "print('****************')            \n",
    "print()\n",
    "print('Best model:')\n",
    "print('RMSE:', f'{best_rmse_with_aug.tolist():.4f}') \n",
    "print('best_epoch:', best_epoch_aug)\n",
    "\n",
    "print(best_net_with_aug)"
   ]
  },
  {
   "cell_type": "markdown",
   "id": "922de2a4",
   "metadata": {},
   "source": [
    "Видим, что аугментация не дала значительного улучшения результата. Скорее всего дело в том, что, используя генератор случайных чисел мы сделали главную закономерность между характеристиками и целевым признаком более размытой и это помешало сети правильно настроить свои внутренние параметры. \n",
    "\n",
    "В дальнейшем можно попробовать настроить уже имеющиеся библиотеки для аугментации табличных данных, такие как tabular_augmentation или DeltaPy⁠⁠. \n",
    "\n",
    "Можно попробовать написать свой класс генерации данных, куда заложить уже известные астрономам формулы, связывающие имеющиеся характеристики и целевой признак. \n",
    "\n",
    "Можно создать генеративную модель для этих же целей.  Думаю, что лучше всего обучать такую модель на звездах, температура которых больше 5000 К, потому что разработанные выше сети ошибаются сильнее всего именно на таких звездах, и причина в недостаточном количестве образцов.\n"
   ]
  },
  {
   "cell_type": "markdown",
   "id": "e807faf6",
   "metadata": {},
   "source": [
    "## Анализ предсказаний нейронной сети после улучшения"
   ]
  },
  {
   "cell_type": "markdown",
   "id": "7c54b72d",
   "metadata": {},
   "source": [
    "Получим предсказания самой сильной нейронной сети после применения различных техник улучшения качества на тестовой выборке и построим такую же диаграмму, какую строили для бейзлайна."
   ]
  },
  {
   "cell_type": "markdown",
   "id": "106f42df",
   "metadata": {},
   "source": [
    "Лучшая модель получилась после добавления пактного обучения. Состояние модели, при котором RMSE минимальна, мы сохранили в переменной best_net_with_batches во время подборки лучшего размера батча."
   ]
  },
  {
   "cell_type": "code",
   "execution_count": 69,
   "id": "b42582f7",
   "metadata": {},
   "outputs": [
    {
     "data": {
      "text/plain": [
       "Net(\n",
       "  (fc1): Linear(in_features=17, out_features=20, bias=True)\n",
       "  (act1): ReLU()\n",
       "  (fc2): Linear(in_features=20, out_features=15, bias=True)\n",
       "  (act2): ReLU()\n",
       "  (fc3): Linear(in_features=15, out_features=10, bias=True)\n",
       "  (act3): ReLU()\n",
       "  (fc4): Linear(in_features=10, out_features=5, bias=True)\n",
       "  (act4): ReLU()\n",
       "  (fc5): Linear(in_features=5, out_features=1, bias=True)\n",
       "  (act5): ReLU()\n",
       ")"
      ]
     },
     "execution_count": 69,
     "metadata": {},
     "output_type": "execute_result"
    }
   ],
   "source": [
    "# параметры нейронной сети\n",
    "best_net_with_batches"
   ]
  },
  {
   "cell_type": "code",
   "execution_count": 70,
   "id": "7b806230",
   "metadata": {},
   "outputs": [],
   "source": [
    "# отберем предсказания для первых 13-ти наблюдений\n",
    "best_net_pred = best_net_with_batches.forward(X_test).detach().numpy().reshape([-1])\n",
    "x = [i for i in range(13)]"
   ]
  },
  {
   "cell_type": "code",
   "execution_count": 71,
   "id": "1314b4c0",
   "metadata": {},
   "outputs": [
    {
     "data": {
      "image/png": "[encoded data removed]",
      "text/plain": [
       "<Figure size 720x504 with 1 Axes>"
      ]
     },
     "metadata": {
      "needs_background": "light"
     },
     "output_type": "display_data"
    }
   ],
   "source": [
    "# построим диаграмму значений\n",
    "fig, ax = plt.subplots(figsize=(10, 7))\n",
    "plt.rc('font', size=14)\n",
    "\n",
    "ax.bar(x, y_test[:13], color='#96ceb4', label='Факт')\n",
    "ax.bar(x, best_net_pred[:13], width = .45, color='#ff6f69', label='Прогноз')\n",
    "ax.plot(x, [y_test[:13].median() for i in range(13)], color='#36454f', label='Медиана')\n",
    "\n",
    "\n",
    "\n",
    "ax.set_ylabel('Температура звезды')\n",
    "ax.set_title('Номер звезды в таблице данных')\n",
    "ax.legend()\n",
    "plt.show()"
   ]
  },
  {
   "cell_type": "markdown",
   "id": "5eba27d3",
   "metadata": {},
   "source": [
    "На графике видно, что характер предсказаний сети значительно не изменился. "
   ]
  },
  {
   "cell_type": "markdown",
   "id": "205cb9de",
   "metadata": {},
   "source": [
    "## Сравнения всех полученных нейронных сетей"
   ]
  },
  {
   "cell_type": "markdown",
   "id": "b58175a9",
   "metadata": {},
   "source": [
    "**Сравним RMSE нейронных сетей** на разных этапах разработки и сделаем вывод об эффективности различных методик повышения качества прогнозов."
   ]
  },
  {
   "cell_type": "code",
   "execution_count": 72,
   "id": "051e7adc",
   "metadata": {},
   "outputs": [],
   "source": [
    "rmse_list = [baseline_rmse.item(), reg_rmse.item(), best_rmse_with_batches.item(), best_rmse_with_aug.item()]\n",
    "model_types = ['базовая', 'сеть с регуляризацией', 'базовая с пакетным обучением', 'базовая с аугментацией']"
   ]
  },
  {
   "cell_type": "code",
   "execution_count": 73,
   "id": "e04a6b2d",
   "metadata": {},
   "outputs": [
    {
     "data": {
      "text/html": [
       "<div>\n",
       "<style scoped>\n",
       "    .dataframe tbody tr th:only-of-type {\n",
       "        vertical-align: middle;\n",
       "    }\n",
       "\n",
       "    .dataframe tbody tr th {\n",
       "        vertical-align: top;\n",
       "    }\n",
       "\n",
       "    .dataframe thead th {\n",
       "        text-align: right;\n",
       "    }\n",
       "</style>\n",
       "<table border=\"1\" class=\"dataframe\">\n",
       "  <thead>\n",
       "    <tr style=\"text-align: right;\">\n",
       "      <th></th>\n",
       "      <th>model</th>\n",
       "      <th>rmse</th>\n",
       "    </tr>\n",
       "  </thead>\n",
       "  <tbody>\n",
       "    <tr>\n",
       "      <th>0</th>\n",
       "      <td>базовая</td>\n",
       "      <td>4911.133789</td>\n",
       "    </tr>\n",
       "    <tr>\n",
       "      <th>1</th>\n",
       "      <td>сеть с регуляризацией</td>\n",
       "      <td>5279.907715</td>\n",
       "    </tr>\n",
       "    <tr>\n",
       "      <th>2</th>\n",
       "      <td>базовая с пакетным обучением</td>\n",
       "      <td>4939.277344</td>\n",
       "    </tr>\n",
       "    <tr>\n",
       "      <th>3</th>\n",
       "      <td>базовая с аугментацией</td>\n",
       "      <td>4974.407227</td>\n",
       "    </tr>\n",
       "  </tbody>\n",
       "</table>\n",
       "</div>"
      ],
      "text/plain": [
       "                          model         rmse\n",
       "0                       базовая  4911.133789\n",
       "1         сеть с регуляризацией  5279.907715\n",
       "2  базовая с пакетным обучением  4939.277344\n",
       "3        базовая с аугментацией  4974.407227"
      ]
     },
     "execution_count": 73,
     "metadata": {},
     "output_type": "execute_result"
    }
   ],
   "source": [
    "pd.DataFrame({'model' : model_types, 'rmse': rmse_list})"
   ]
  },
  {
   "cell_type": "code",
   "execution_count": 74,
   "id": "07b3823d",
   "metadata": {},
   "outputs": [
    {
     "data": {
      "image/png": "[encoded data removed]",
      "text/plain": [
       "<Figure size 720x504 with 1 Axes>"
      ]
     },
     "metadata": {
      "needs_background": "light"
     },
     "output_type": "display_data"
    }
   ],
   "source": [
    "fig, ax = plt.subplots(figsize=(10, 7))\n",
    "plt.rc('font', size=14)\n",
    "\n",
    "ax.bar(\n",
    "    ['базовая', 'сеть с\\nрегуляризацией', 'базовая с\\nпакетным обучением', 'базовая с\\nаугментацией'], \n",
    "    rmse_list,\n",
    "    color='#36454f', \n",
    "    label='RMSE', \n",
    "    width = 0.5\n",
    ")\n",
    "labels =[round(i) for i in rmse_list]\n",
    "\n",
    "rects = ax.patches\n",
    "\n",
    "for rect, label in zip(rects, labels):\n",
    "    height = rect.get_height()\n",
    "    ax.text(\n",
    "        rect.get_x() + rect.get_width() / 2, height / 2, label, ha=\"center\", va=\"bottom\", color='white'\n",
    "    )\n",
    "\n",
    "\n",
    "ax.set_ylabel('RMSE')\n",
    "ax.set_title('RMSE нейронных сетей')\n",
    "ax.legend()\n",
    "plt.show()"
   ]
  },
  {
   "cell_type": "markdown",
   "id": "7ea4b5c4",
   "metadata": {},
   "source": [
    "Точнее всех оказалась базовая модель. Применение дополнительных техник не привело к значительному улучшению качества модели."
   ]
  },
  {
   "cell_type": "markdown",
   "id": "f82a5153",
   "metadata": {},
   "source": [
    "### Вывод по результатам построения нейронной сети"
   ]
  },
  {
   "cell_type": "markdown",
   "id": "561cc858",
   "metadata": {},
   "source": [
    "На преобразованных данных была построена **нейронная сеть с четырьмя промежуточными слоями**.\n",
    "\n",
    "Первоначальная модель давала предсказания, близкие к медианному значению.\n",
    "\n",
    "**Для улучшения качества** предсказаний модели **опробованы**:\n",
    "- перебор нескольких вариантов количества нейронов в скрытых слоях\n",
    "- перебор нескольких вариантов функций активации\n",
    "- применение Dropout и BatchNormalization\n",
    "- пакетное обучение\n",
    "- аугментация данных\n",
    "\n",
    "Эксперименты показали, что **точнее всех оказалась базовая модель**. Применение дополнительных техник не привело к значительному улучшению качества модели.\n"
   ]
  },
  {
   "cell_type": "markdown",
   "id": "accurate-infrastructure",
   "metadata": {},
   "source": [
    "## Выводы"
   ]
  },
  {
   "cell_type": "markdown",
   "id": "eb7f9795",
   "metadata": {},
   "source": [
    "В данном проекте решена **задача** от обсерватории «Небо на ладони»: придумать, как **с помощью нейросети определять температуру на поверхности обнаруженных звёзд**.\n",
    "\n",
    "**Описание данных**\n",
    "\n",
    "В доступном наборе данных содержатся результаты измерений шести параметров 240 звезд. Три признака количественные, два – категориальные.\n",
    "\n",
    "Большинство звезд имеют температуру ниже 5000 К, относительный радиус и относительную светимость, близкие к показателям Солнца. Всего в наборе есть данные о 6 типах звезд, по 40 примеров каждого типа. Из девяти цветов чаще всего в наборе данных встречается красный, на втором месте по популярности голубой и бело-голубой.\n",
    "\n",
    "**Преобразование данных**\n",
    "\n",
    "Данные были разбиты на тренировочную и тестовую выборки в соотношении 70 : 30. Для преобразования категориальных значений применена техника One-Hot кодирования. Признаки масштабированы так, чтобы их значения находились в диапазоне от 0 до 1. Прошедшие преобразования данные представлены в виде тензоров для передачи их нейронной сети.\n",
    "\n",
    "**Построение нейронной сети**\n",
    "\n",
    "На преобразованных данных была построена **нейронная сеть с четырьмя промежуточными слоями**. Первоначальная модель давала предсказания, близкие к медианному значению.\n",
    "\n",
    "**Для улучшения качества предсказаний** модели опробованы:\n",
    "- перебор нескольких вариантов количества нейронов в скрытых слоях\n",
    "- перебор нескольких вариантов функций активации\n",
    "- применение Dropout и BatchNormalization\n",
    "- пакетное обучение\n",
    "- аугментация данных\n",
    "\n",
    "Эксперименты показали, что **точнее всех оказалась базовая модель**. Применение дополнительных техник не привело к значительному улучшению качества модели.\n",
    "\n",
    "В результате **лучшей оказалась нейронная сеть со следующими параметрами**:\n"
   ]
  },
  {
   "cell_type": "code",
   "execution_count": 75,
   "id": "cd1f6869",
   "metadata": {},
   "outputs": [
    {
     "data": {
      "text/plain": [
       "Net(\n",
       "  (fc1): Linear(in_features=17, out_features=20, bias=True)\n",
       "  (act1): ReLU()\n",
       "  (fc2): Linear(in_features=20, out_features=15, bias=True)\n",
       "  (act2): ReLU()\n",
       "  (fc3): Linear(in_features=15, out_features=10, bias=True)\n",
       "  (act3): ReLU()\n",
       "  (fc4): Linear(in_features=10, out_features=5, bias=True)\n",
       "  (act4): ReLU()\n",
       "  (fc5): Linear(in_features=5, out_features=1, bias=True)\n",
       "  (act5): ReLU()\n",
       ")"
      ]
     },
     "execution_count": 75,
     "metadata": {},
     "output_type": "execute_result"
    }
   ],
   "source": [
    "baseline"
   ]
  },
  {
   "cell_type": "markdown",
   "id": "6fd3b6b8",
   "metadata": {},
   "source": [
    "**RMSE предсказаний нейронной сети**"
   ]
  },
  {
   "cell_type": "code",
   "execution_count": 76,
   "id": "4df5a6ff",
   "metadata": {},
   "outputs": [
    {
     "data": {
      "text/plain": [
       "4911.1337890625"
      ]
     },
     "execution_count": 76,
     "metadata": {},
     "output_type": "execute_result"
    }
   ],
   "source": [
    "baseline_rmse.item()"
   ]
  }
 ],
 "metadata": {
  "ExecuteTimeLog": [
   {
    "duration": 427,
    "start_time": "2023-10-01T16:56:23.620Z"
   },
   {
    "duration": 73,
    "start_time": "2023-10-01T16:56:24.843Z"
   },
   {
    "duration": 12,
    "start_time": "2023-10-01T16:56:32.758Z"
   },
   {
    "duration": 18,
    "start_time": "2023-10-01T16:56:45.373Z"
   },
   {
    "duration": 464,
    "start_time": "2023-10-02T17:06:57.129Z"
   },
   {
    "duration": 6,
    "start_time": "2023-10-02T17:07:00.967Z"
   },
   {
    "duration": 75,
    "start_time": "2023-10-02T17:07:02.870Z"
   },
   {
    "duration": 59,
    "start_time": "2023-10-02T17:07:10.744Z"
   },
   {
    "duration": 28,
    "start_time": "2023-10-02T17:09:27.257Z"
   },
   {
    "duration": 55,
    "start_time": "2023-10-02T17:09:28.088Z"
   },
   {
    "duration": 1101,
    "start_time": "2023-10-02T17:10:40.896Z"
   },
   {
    "duration": 879,
    "start_time": "2023-10-02T17:11:12.135Z"
   },
   {
    "duration": 7,
    "start_time": "2023-10-02T17:12:33.589Z"
   },
   {
    "duration": 5,
    "start_time": "2023-10-02T17:13:21.899Z"
   },
   {
    "duration": 514,
    "start_time": "2023-10-03T16:35:01.489Z"
   },
   {
    "duration": 11,
    "start_time": "2023-10-03T16:35:04.585Z"
   },
   {
    "duration": 90,
    "start_time": "2023-10-03T16:35:05.535Z"
   },
   {
    "duration": 57,
    "start_time": "2023-10-03T16:35:07.079Z"
   },
   {
    "duration": 6,
    "start_time": "2023-10-03T16:35:45.436Z"
   },
   {
    "duration": 6,
    "start_time": "2023-10-03T16:36:06.848Z"
   },
   {
    "duration": 4,
    "start_time": "2023-10-03T16:43:28.138Z"
   },
   {
    "duration": 4,
    "start_time": "2023-10-03T16:43:35.043Z"
   },
   {
    "duration": 7,
    "start_time": "2023-10-03T16:43:42.315Z"
   },
   {
    "duration": 4,
    "start_time": "2023-10-03T16:46:45.257Z"
   },
   {
    "duration": 5,
    "start_time": "2023-10-03T16:46:47.506Z"
   },
   {
    "duration": 7,
    "start_time": "2023-10-03T16:46:48.850Z"
   },
   {
    "duration": 5,
    "start_time": "2023-10-03T16:48:09.413Z"
   },
   {
    "duration": 4,
    "start_time": "2023-10-03T16:48:12.284Z"
   },
   {
    "duration": 5,
    "start_time": "2023-10-03T16:48:14.044Z"
   },
   {
    "duration": 4,
    "start_time": "2023-10-03T16:48:23.717Z"
   },
   {
    "duration": 4,
    "start_time": "2023-10-03T16:48:26.133Z"
   },
   {
    "duration": 6,
    "start_time": "2023-10-03T16:48:27.549Z"
   },
   {
    "duration": 4,
    "start_time": "2023-10-03T16:48:53.090Z"
   },
   {
    "duration": 4,
    "start_time": "2023-10-03T16:48:53.633Z"
   },
   {
    "duration": 6,
    "start_time": "2023-10-03T16:48:54.240Z"
   },
   {
    "duration": 4,
    "start_time": "2023-10-03T16:49:51.816Z"
   },
   {
    "duration": 5,
    "start_time": "2023-10-03T16:49:52.959Z"
   },
   {
    "duration": 6,
    "start_time": "2023-10-03T16:49:53.879Z"
   },
   {
    "duration": 6,
    "start_time": "2023-10-03T16:54:04.948Z"
   },
   {
    "duration": 2,
    "start_time": "2023-10-03T16:54:25.805Z"
   },
   {
    "duration": 20,
    "start_time": "2023-10-03T16:54:25.809Z"
   },
   {
    "duration": 49,
    "start_time": "2023-10-03T16:54:25.830Z"
   },
   {
    "duration": 41,
    "start_time": "2023-10-03T16:54:25.881Z"
   },
   {
    "duration": 1159,
    "start_time": "2023-10-03T16:54:25.923Z"
   },
   {
    "duration": 4,
    "start_time": "2023-10-03T16:54:27.084Z"
   },
   {
    "duration": 17,
    "start_time": "2023-10-03T16:54:27.090Z"
   },
   {
    "duration": 6,
    "start_time": "2023-10-03T16:54:30.246Z"
   },
   {
    "duration": 6,
    "start_time": "2023-10-03T16:54:40.024Z"
   },
   {
    "duration": 4,
    "start_time": "2023-10-03T16:54:50.098Z"
   },
   {
    "duration": 9,
    "start_time": "2023-10-03T17:23:51.659Z"
   },
   {
    "duration": 3,
    "start_time": "2023-10-03T17:24:42.633Z"
   },
   {
    "duration": 5,
    "start_time": "2023-10-03T17:24:52.241Z"
   },
   {
    "duration": 6,
    "start_time": "2023-10-03T17:24:53.103Z"
   },
   {
    "duration": 4,
    "start_time": "2023-10-03T17:25:15.629Z"
   },
   {
    "duration": 8,
    "start_time": "2023-10-03T17:25:19.822Z"
   },
   {
    "duration": 7,
    "start_time": "2023-10-03T17:25:20.519Z"
   },
   {
    "duration": 9,
    "start_time": "2023-10-03T17:25:58.100Z"
   },
   {
    "duration": 4,
    "start_time": "2023-10-03T17:26:00.962Z"
   },
   {
    "duration": 5,
    "start_time": "2023-10-03T17:26:02.050Z"
   },
   {
    "duration": 7,
    "start_time": "2023-10-03T17:27:41.515Z"
   },
   {
    "duration": 4,
    "start_time": "2023-10-03T17:27:44.022Z"
   },
   {
    "duration": 6,
    "start_time": "2023-10-03T17:27:44.870Z"
   },
   {
    "duration": 4,
    "start_time": "2023-10-03T17:28:15.435Z"
   },
   {
    "duration": 6,
    "start_time": "2023-10-03T17:28:18.034Z"
   },
   {
    "duration": 8,
    "start_time": "2023-10-03T17:28:53.009Z"
   },
   {
    "duration": 14,
    "start_time": "2023-10-03T17:28:57.009Z"
   },
   {
    "duration": 456,
    "start_time": "2023-10-04T16:52:59.418Z"
   },
   {
    "duration": 4,
    "start_time": "2023-10-04T16:53:01.595Z"
   },
   {
    "duration": 71,
    "start_time": "2023-10-04T16:53:02.307Z"
   },
   {
    "duration": 54,
    "start_time": "2023-10-04T16:53:03.707Z"
   },
   {
    "duration": 1121,
    "start_time": "2023-10-04T16:53:06.030Z"
   },
   {
    "duration": 5,
    "start_time": "2023-10-04T16:53:09.276Z"
   },
   {
    "duration": 6,
    "start_time": "2023-10-04T16:53:10.929Z"
   },
   {
    "duration": 4,
    "start_time": "2023-10-04T16:53:13.516Z"
   },
   {
    "duration": 5,
    "start_time": "2023-10-04T16:53:14.334Z"
   },
   {
    "duration": 6,
    "start_time": "2023-10-04T16:53:17.221Z"
   },
   {
    "duration": 5,
    "start_time": "2023-10-04T16:53:21.541Z"
   },
   {
    "duration": 6,
    "start_time": "2023-10-04T16:53:23.908Z"
   },
   {
    "duration": 4,
    "start_time": "2023-10-04T16:53:28.253Z"
   },
   {
    "duration": 7,
    "start_time": "2023-10-04T16:53:30.814Z"
   },
   {
    "duration": 4,
    "start_time": "2023-10-04T16:53:36.640Z"
   },
   {
    "duration": 6,
    "start_time": "2023-10-04T16:53:39.768Z"
   },
   {
    "duration": 4,
    "start_time": "2023-10-04T16:53:47.088Z"
   },
   {
    "duration": 7,
    "start_time": "2023-10-04T16:53:49.785Z"
   },
   {
    "duration": 4,
    "start_time": "2023-10-04T16:53:56.457Z"
   },
   {
    "duration": 6,
    "start_time": "2023-10-04T16:53:59.032Z"
   },
   {
    "duration": 5,
    "start_time": "2023-10-04T16:54:30.380Z"
   },
   {
    "duration": 6,
    "start_time": "2023-10-04T16:55:03.312Z"
   },
   {
    "duration": 3,
    "start_time": "2023-10-04T16:55:09.474Z"
   },
   {
    "duration": 6,
    "start_time": "2023-10-04T16:55:13.010Z"
   },
   {
    "duration": 5,
    "start_time": "2023-10-04T17:00:14.204Z"
   },
   {
    "duration": 5,
    "start_time": "2023-10-04T17:01:05.571Z"
   },
   {
    "duration": 210,
    "start_time": "2023-10-04T17:01:38.142Z"
   },
   {
    "duration": 152,
    "start_time": "2023-10-04T17:02:21.123Z"
   },
   {
    "duration": 205,
    "start_time": "2023-10-04T17:02:32.748Z"
   },
   {
    "duration": 165,
    "start_time": "2023-10-04T17:02:38.157Z"
   },
   {
    "duration": 193,
    "start_time": "2023-10-04T17:03:34.779Z"
   },
   {
    "duration": 162,
    "start_time": "2023-10-04T17:03:41.661Z"
   },
   {
    "duration": 180,
    "start_time": "2023-10-04T17:03:52.382Z"
   },
   {
    "duration": 266,
    "start_time": "2023-10-04T17:05:19.200Z"
   },
   {
    "duration": 207,
    "start_time": "2023-10-04T17:05:39.849Z"
   },
   {
    "duration": 176,
    "start_time": "2023-10-04T17:05:54.227Z"
   },
   {
    "duration": 187,
    "start_time": "2023-10-04T17:06:25.919Z"
   },
   {
    "duration": 5,
    "start_time": "2023-10-04T17:08:25.997Z"
   },
   {
    "duration": 4,
    "start_time": "2023-10-04T17:09:30.438Z"
   },
   {
    "duration": 5,
    "start_time": "2023-10-04T17:09:33.197Z"
   },
   {
    "duration": 6,
    "start_time": "2023-10-04T17:09:34.701Z"
   },
   {
    "duration": 255,
    "start_time": "2023-10-04T17:09:37.502Z"
   },
   {
    "duration": 158,
    "start_time": "2023-10-04T17:13:28.401Z"
   },
   {
    "duration": 158,
    "start_time": "2023-10-04T17:13:54.076Z"
   },
   {
    "duration": 168,
    "start_time": "2023-10-04T17:14:02.509Z"
   },
   {
    "duration": 159,
    "start_time": "2023-10-04T17:14:07.613Z"
   },
   {
    "duration": 848,
    "start_time": "2023-10-04T17:15:36.663Z"
   },
   {
    "duration": 1123,
    "start_time": "2023-10-04T17:15:51.242Z"
   },
   {
    "duration": 467,
    "start_time": "2023-10-05T14:17:44.434Z"
   },
   {
    "duration": 4,
    "start_time": "2023-10-05T14:17:45.489Z"
   },
   {
    "duration": 77,
    "start_time": "2023-10-05T14:17:45.769Z"
   },
   {
    "duration": 65,
    "start_time": "2023-10-05T14:17:45.993Z"
   },
   {
    "duration": 1355,
    "start_time": "2023-10-05T14:17:46.339Z"
   },
   {
    "duration": 4,
    "start_time": "2023-10-05T14:17:47.697Z"
   },
   {
    "duration": 6,
    "start_time": "2023-10-05T14:17:47.738Z"
   },
   {
    "duration": 3,
    "start_time": "2023-10-05T14:17:48.145Z"
   },
   {
    "duration": 5,
    "start_time": "2023-10-05T14:17:48.776Z"
   },
   {
    "duration": 3,
    "start_time": "2023-10-05T14:17:48.985Z"
   },
   {
    "duration": 4,
    "start_time": "2023-10-05T14:17:49.202Z"
   },
   {
    "duration": 4,
    "start_time": "2023-10-05T14:17:49.417Z"
   },
   {
    "duration": 4,
    "start_time": "2023-10-05T14:17:49.794Z"
   },
   {
    "duration": 4,
    "start_time": "2023-10-05T14:17:50.217Z"
   },
   {
    "duration": 3,
    "start_time": "2023-10-05T14:17:50.635Z"
   },
   {
    "duration": 4,
    "start_time": "2023-10-05T14:17:51.578Z"
   },
   {
    "duration": 7,
    "start_time": "2023-10-05T14:17:52.897Z"
   },
   {
    "duration": 165,
    "start_time": "2023-10-05T14:17:56.890Z"
   },
   {
    "duration": 149,
    "start_time": "2023-10-05T14:18:00.114Z"
   },
   {
    "duration": 4,
    "start_time": "2023-10-05T14:29:06.888Z"
   },
   {
    "duration": 2,
    "start_time": "2023-10-05T14:29:22.587Z"
   },
   {
    "duration": 4,
    "start_time": "2023-10-05T14:29:27.865Z"
   },
   {
    "duration": 70,
    "start_time": "2023-10-05T14:30:31.651Z"
   },
   {
    "duration": 9,
    "start_time": "2023-10-05T14:30:50.203Z"
   },
   {
    "duration": 9,
    "start_time": "2023-10-05T14:30:57.148Z"
   },
   {
    "duration": 8,
    "start_time": "2023-10-05T14:31:18.591Z"
   },
   {
    "duration": 6,
    "start_time": "2023-10-05T14:31:24.751Z"
   },
   {
    "duration": 4,
    "start_time": "2023-10-05T14:32:15.005Z"
   },
   {
    "duration": 3,
    "start_time": "2023-10-05T14:32:22.862Z"
   },
   {
    "duration": 4,
    "start_time": "2023-10-05T14:32:24.944Z"
   },
   {
    "duration": 13,
    "start_time": "2023-10-05T14:32:57.769Z"
   },
   {
    "duration": 3,
    "start_time": "2023-10-05T14:33:16.644Z"
   },
   {
    "duration": 3,
    "start_time": "2023-10-05T14:33:25.197Z"
   },
   {
    "duration": 4,
    "start_time": "2023-10-05T14:33:35.078Z"
   },
   {
    "duration": 1132,
    "start_time": "2023-10-05T14:35:24.935Z"
   },
   {
    "duration": 4,
    "start_time": "2023-10-05T14:35:26.070Z"
   },
   {
    "duration": 47,
    "start_time": "2023-10-05T14:35:26.075Z"
   },
   {
    "duration": 51,
    "start_time": "2023-10-05T14:35:26.134Z"
   },
   {
    "duration": 1229,
    "start_time": "2023-10-05T14:35:26.187Z"
   },
   {
    "duration": 4,
    "start_time": "2023-10-05T14:35:27.427Z"
   },
   {
    "duration": 36,
    "start_time": "2023-10-05T14:35:27.433Z"
   },
   {
    "duration": 24,
    "start_time": "2023-10-05T14:35:27.471Z"
   },
   {
    "duration": 21,
    "start_time": "2023-10-05T14:35:27.497Z"
   },
   {
    "duration": 57,
    "start_time": "2023-10-05T14:35:27.520Z"
   },
   {
    "duration": 27,
    "start_time": "2023-10-05T14:35:27.579Z"
   },
   {
    "duration": 38,
    "start_time": "2023-10-05T14:35:27.607Z"
   },
   {
    "duration": 93,
    "start_time": "2023-10-05T14:35:27.647Z"
   },
   {
    "duration": 114,
    "start_time": "2023-10-05T14:35:27.742Z"
   },
   {
    "duration": 210,
    "start_time": "2023-10-05T14:35:27.858Z"
   },
   {
    "duration": 122,
    "start_time": "2023-10-05T14:35:28.070Z"
   },
   {
    "duration": 49,
    "start_time": "2023-10-05T14:35:28.194Z"
   },
   {
    "duration": 96,
    "start_time": "2023-10-05T14:35:28.244Z"
   },
   {
    "duration": 101,
    "start_time": "2023-10-05T14:35:28.342Z"
   },
   {
    "duration": 42,
    "start_time": "2023-10-05T14:35:28.444Z"
   },
   {
    "duration": 47,
    "start_time": "2023-10-05T14:35:28.488Z"
   },
   {
    "duration": 172,
    "start_time": "2023-10-05T14:35:28.537Z"
   },
   {
    "duration": 150,
    "start_time": "2023-10-05T14:35:28.711Z"
   },
   {
    "duration": 124,
    "start_time": "2023-10-05T14:35:28.863Z"
   },
   {
    "duration": 5,
    "start_time": "2023-10-05T14:38:46.019Z"
   },
   {
    "duration": 9,
    "start_time": "2023-10-05T14:44:44.394Z"
   },
   {
    "duration": 1153,
    "start_time": "2023-10-05T17:05:34.733Z"
   },
   {
    "duration": 5,
    "start_time": "2023-10-05T17:05:35.888Z"
   },
   {
    "duration": 76,
    "start_time": "2023-10-05T17:05:35.894Z"
   },
   {
    "duration": 60,
    "start_time": "2023-10-05T17:05:35.971Z"
   },
   {
    "duration": 1337,
    "start_time": "2023-10-05T17:05:36.035Z"
   },
   {
    "duration": 3,
    "start_time": "2023-10-05T17:05:37.374Z"
   },
   {
    "duration": 18,
    "start_time": "2023-10-05T17:05:37.378Z"
   },
   {
    "duration": 23,
    "start_time": "2023-10-05T17:05:37.398Z"
   },
   {
    "duration": 28,
    "start_time": "2023-10-05T17:05:37.423Z"
   },
   {
    "duration": 17,
    "start_time": "2023-10-05T17:05:37.452Z"
   },
   {
    "duration": 18,
    "start_time": "2023-10-05T17:05:37.471Z"
   },
   {
    "duration": 18,
    "start_time": "2023-10-05T17:05:37.490Z"
   },
   {
    "duration": 11,
    "start_time": "2023-10-05T17:05:37.510Z"
   },
   {
    "duration": 16,
    "start_time": "2023-10-05T17:05:37.523Z"
   },
   {
    "duration": 34,
    "start_time": "2023-10-05T17:05:37.541Z"
   },
   {
    "duration": 25,
    "start_time": "2023-10-05T17:05:37.576Z"
   },
   {
    "duration": 5,
    "start_time": "2023-10-05T17:05:37.603Z"
   },
   {
    "duration": 40,
    "start_time": "2023-10-05T17:05:37.610Z"
   },
   {
    "duration": 26,
    "start_time": "2023-10-05T17:05:37.651Z"
   },
   {
    "duration": 19,
    "start_time": "2023-10-05T17:05:37.679Z"
   },
   {
    "duration": 183,
    "start_time": "2023-10-05T17:05:37.700Z"
   },
   {
    "duration": 242,
    "start_time": "2023-10-05T17:05:37.884Z"
   },
   {
    "duration": 5,
    "start_time": "2023-10-05T17:05:38.128Z"
   },
   {
    "duration": 4,
    "start_time": "2023-10-05T17:17:13.086Z"
   },
   {
    "duration": 5,
    "start_time": "2023-10-05T17:17:56.892Z"
   },
   {
    "duration": 10,
    "start_time": "2023-10-05T17:18:14.452Z"
   },
   {
    "duration": 3,
    "start_time": "2023-10-05T17:19:04.034Z"
   },
   {
    "duration": 113,
    "start_time": "2023-10-05T17:19:18.195Z"
   },
   {
    "duration": 2,
    "start_time": "2023-10-05T17:19:26.061Z"
   },
   {
    "duration": 3,
    "start_time": "2023-10-05T17:19:53.969Z"
   },
   {
    "duration": 5,
    "start_time": "2023-10-05T17:21:07.691Z"
   },
   {
    "duration": 24,
    "start_time": "2023-10-05T17:21:13.340Z"
   },
   {
    "duration": 11,
    "start_time": "2023-10-05T17:22:01.464Z"
   },
   {
    "duration": 3,
    "start_time": "2023-10-05T17:23:24.861Z"
   },
   {
    "duration": 70,
    "start_time": "2023-10-05T17:23:24.867Z"
   },
   {
    "duration": 114,
    "start_time": "2023-10-05T17:23:24.939Z"
   },
   {
    "duration": 105,
    "start_time": "2023-10-05T17:23:25.055Z"
   },
   {
    "duration": 913,
    "start_time": "2023-10-05T17:23:25.162Z"
   },
   {
    "duration": 3,
    "start_time": "2023-10-05T17:23:26.077Z"
   },
   {
    "duration": 75,
    "start_time": "2023-10-05T17:23:26.081Z"
   },
   {
    "duration": 34,
    "start_time": "2023-10-05T17:23:26.157Z"
   },
   {
    "duration": 23,
    "start_time": "2023-10-05T17:23:26.193Z"
   },
   {
    "duration": 16,
    "start_time": "2023-10-05T17:23:26.218Z"
   },
   {
    "duration": 27,
    "start_time": "2023-10-05T17:23:26.235Z"
   },
   {
    "duration": 27,
    "start_time": "2023-10-05T17:23:26.264Z"
   },
   {
    "duration": 9,
    "start_time": "2023-10-05T17:23:26.293Z"
   },
   {
    "duration": 12,
    "start_time": "2023-10-05T17:23:26.304Z"
   },
   {
    "duration": 20,
    "start_time": "2023-10-05T17:23:26.317Z"
   },
   {
    "duration": 15,
    "start_time": "2023-10-05T17:23:26.338Z"
   },
   {
    "duration": 22,
    "start_time": "2023-10-05T17:23:26.354Z"
   },
   {
    "duration": 35,
    "start_time": "2023-10-05T17:23:26.377Z"
   },
   {
    "duration": 42,
    "start_time": "2023-10-05T17:23:26.413Z"
   },
   {
    "duration": 19,
    "start_time": "2023-10-05T17:23:26.456Z"
   },
   {
    "duration": 180,
    "start_time": "2023-10-05T17:23:26.476Z"
   },
   {
    "duration": 149,
    "start_time": "2023-10-05T17:23:26.657Z"
   },
   {
    "duration": 18,
    "start_time": "2023-10-05T17:23:26.808Z"
   },
   {
    "duration": 179,
    "start_time": "2023-10-05T17:23:26.828Z"
   },
   {
    "duration": 167,
    "start_time": "2023-10-05T17:23:27.008Z"
   },
   {
    "duration": 90,
    "start_time": "2023-10-05T17:23:27.176Z"
   },
   {
    "duration": 88,
    "start_time": "2023-10-05T17:23:27.268Z"
   },
   {
    "duration": 2,
    "start_time": "2023-10-05T17:23:42.531Z"
   },
   {
    "duration": 11,
    "start_time": "2023-10-05T17:23:43.148Z"
   },
   {
    "duration": 4,
    "start_time": "2023-10-05T17:23:58.925Z"
   },
   {
    "duration": 5,
    "start_time": "2023-10-05T17:24:01.471Z"
   },
   {
    "duration": 17,
    "start_time": "2023-10-05T17:24:02.566Z"
   },
   {
    "duration": 6,
    "start_time": "2023-10-05T17:24:04.974Z"
   },
   {
    "duration": 20,
    "start_time": "2023-10-05T17:24:23.584Z"
   },
   {
    "duration": 20,
    "start_time": "2023-10-05T17:24:38.259Z"
   },
   {
    "duration": 17,
    "start_time": "2023-10-05T17:26:24.174Z"
   },
   {
    "duration": 13,
    "start_time": "2023-10-05T17:29:34.350Z"
   },
   {
    "duration": 21,
    "start_time": "2023-10-05T17:29:45.494Z"
   },
   {
    "duration": 3,
    "start_time": "2023-10-05T17:30:12.560Z"
   },
   {
    "duration": 22,
    "start_time": "2023-10-05T17:30:12.565Z"
   },
   {
    "duration": 55,
    "start_time": "2023-10-05T17:30:12.589Z"
   },
   {
    "duration": 88,
    "start_time": "2023-10-05T17:30:12.646Z"
   },
   {
    "duration": 929,
    "start_time": "2023-10-05T17:30:12.736Z"
   },
   {
    "duration": 3,
    "start_time": "2023-10-05T17:30:13.667Z"
   },
   {
    "duration": 81,
    "start_time": "2023-10-05T17:30:13.672Z"
   },
   {
    "duration": 34,
    "start_time": "2023-10-05T17:30:13.755Z"
   },
   {
    "duration": 110,
    "start_time": "2023-10-05T17:30:13.790Z"
   },
   {
    "duration": 158,
    "start_time": "2023-10-05T17:30:13.903Z"
   },
   {
    "duration": 101,
    "start_time": "2023-10-05T17:30:14.063Z"
   },
   {
    "duration": 107,
    "start_time": "2023-10-05T17:30:14.165Z"
   },
   {
    "duration": 80,
    "start_time": "2023-10-05T17:30:14.273Z"
   },
   {
    "duration": 42,
    "start_time": "2023-10-05T17:30:14.355Z"
   },
   {
    "duration": 30,
    "start_time": "2023-10-05T17:30:14.399Z"
   },
   {
    "duration": 131,
    "start_time": "2023-10-05T17:30:14.431Z"
   },
   {
    "duration": 20,
    "start_time": "2023-10-05T17:30:14.564Z"
   },
   {
    "duration": 49,
    "start_time": "2023-10-05T17:30:14.585Z"
   },
   {
    "duration": 32,
    "start_time": "2023-10-05T17:30:14.636Z"
   },
   {
    "duration": 23,
    "start_time": "2023-10-05T17:30:14.670Z"
   },
   {
    "duration": 152,
    "start_time": "2023-10-05T17:30:14.695Z"
   },
   {
    "duration": 148,
    "start_time": "2023-10-05T17:30:14.848Z"
   },
   {
    "duration": 6,
    "start_time": "2023-10-05T17:30:14.998Z"
   },
   {
    "duration": 103,
    "start_time": "2023-10-05T17:30:15.005Z"
   },
   {
    "duration": 103,
    "start_time": "2023-10-05T17:30:15.109Z"
   },
   {
    "duration": 35,
    "start_time": "2023-10-05T17:30:15.214Z"
   },
   {
    "duration": 26,
    "start_time": "2023-10-05T17:30:15.251Z"
   },
   {
    "duration": 17,
    "start_time": "2023-10-05T17:30:15.280Z"
   },
   {
    "duration": 34,
    "start_time": "2023-10-05T17:30:15.298Z"
   },
   {
    "duration": 23,
    "start_time": "2023-10-05T17:30:15.334Z"
   },
   {
    "duration": 22,
    "start_time": "2023-10-05T17:30:15.359Z"
   },
   {
    "duration": 24,
    "start_time": "2023-10-05T17:30:15.384Z"
   },
   {
    "duration": 11,
    "start_time": "2023-10-05T17:30:15.410Z"
   },
   {
    "duration": 21,
    "start_time": "2023-10-05T17:30:19.723Z"
   },
   {
    "duration": 5,
    "start_time": "2023-10-05T17:30:41.486Z"
   },
   {
    "duration": 20,
    "start_time": "2023-10-05T17:31:04.393Z"
   },
   {
    "duration": 3,
    "start_time": "2023-10-05T17:31:37.995Z"
   },
   {
    "duration": 8,
    "start_time": "2023-10-05T17:32:06.592Z"
   },
   {
    "duration": 7,
    "start_time": "2023-10-05T17:32:28.650Z"
   },
   {
    "duration": 18,
    "start_time": "2023-10-05T17:32:37.156Z"
   },
   {
    "duration": 10,
    "start_time": "2023-10-05T17:32:50.077Z"
   },
   {
    "duration": 69,
    "start_time": "2023-10-05T17:32:55.861Z"
   },
   {
    "duration": 1041,
    "start_time": "2023-10-06T14:18:17.382Z"
   },
   {
    "duration": 4,
    "start_time": "2023-10-06T14:18:18.425Z"
   },
   {
    "duration": 90,
    "start_time": "2023-10-06T14:18:18.430Z"
   },
   {
    "duration": 46,
    "start_time": "2023-10-06T14:18:18.521Z"
   },
   {
    "duration": 1247,
    "start_time": "2023-10-06T14:18:18.569Z"
   },
   {
    "duration": 3,
    "start_time": "2023-10-06T14:18:19.818Z"
   },
   {
    "duration": 20,
    "start_time": "2023-10-06T14:18:19.822Z"
   },
   {
    "duration": 9,
    "start_time": "2023-10-06T14:18:19.843Z"
   },
   {
    "duration": 13,
    "start_time": "2023-10-06T14:18:19.854Z"
   },
   {
    "duration": 15,
    "start_time": "2023-10-06T14:18:19.869Z"
   },
   {
    "duration": 22,
    "start_time": "2023-10-06T14:18:19.886Z"
   },
   {
    "duration": 20,
    "start_time": "2023-10-06T14:18:19.910Z"
   },
   {
    "duration": 14,
    "start_time": "2023-10-06T14:18:19.932Z"
   },
   {
    "duration": 13,
    "start_time": "2023-10-06T14:18:19.950Z"
   },
   {
    "duration": 14,
    "start_time": "2023-10-06T14:18:19.965Z"
   },
   {
    "duration": 57,
    "start_time": "2023-10-06T14:18:19.981Z"
   },
   {
    "duration": 45,
    "start_time": "2023-10-06T14:18:20.039Z"
   },
   {
    "duration": 22,
    "start_time": "2023-10-06T14:18:20.085Z"
   },
   {
    "duration": 41,
    "start_time": "2023-10-06T14:18:20.109Z"
   },
   {
    "duration": 9,
    "start_time": "2023-10-06T14:18:20.152Z"
   },
   {
    "duration": 195,
    "start_time": "2023-10-06T14:18:20.162Z"
   },
   {
    "duration": 208,
    "start_time": "2023-10-06T14:18:20.359Z"
   },
   {
    "duration": 5,
    "start_time": "2023-10-06T14:18:20.569Z"
   },
   {
    "duration": 81,
    "start_time": "2023-10-06T14:18:20.576Z"
   },
   {
    "duration": 50,
    "start_time": "2023-10-06T14:18:20.658Z"
   },
   {
    "duration": 34,
    "start_time": "2023-10-06T14:18:20.709Z"
   },
   {
    "duration": 36,
    "start_time": "2023-10-06T14:18:20.745Z"
   },
   {
    "duration": 34,
    "start_time": "2023-10-06T14:18:20.782Z"
   },
   {
    "duration": 48,
    "start_time": "2023-10-06T14:18:20.817Z"
   },
   {
    "duration": 46,
    "start_time": "2023-10-06T14:18:20.866Z"
   },
   {
    "duration": 56,
    "start_time": "2023-10-06T14:18:20.914Z"
   },
   {
    "duration": 63,
    "start_time": "2023-10-06T14:18:20.971Z"
   },
   {
    "duration": 28,
    "start_time": "2023-10-06T14:18:21.036Z"
   },
   {
    "duration": 37,
    "start_time": "2023-10-06T14:18:21.066Z"
   },
   {
    "duration": 60,
    "start_time": "2023-10-06T14:18:21.107Z"
   },
   {
    "duration": 52,
    "start_time": "2023-10-06T14:18:21.169Z"
   },
   {
    "duration": 23,
    "start_time": "2023-10-06T14:18:21.223Z"
   },
   {
    "duration": 57,
    "start_time": "2023-10-06T14:18:21.248Z"
   },
   {
    "duration": 38,
    "start_time": "2023-10-06T14:18:21.307Z"
   },
   {
    "duration": 462,
    "start_time": "2023-10-06T14:21:56.753Z"
   },
   {
    "duration": 6,
    "start_time": "2023-10-06T14:23:02.921Z"
   },
   {
    "duration": 3,
    "start_time": "2023-10-06T14:24:44.596Z"
   },
   {
    "duration": 68,
    "start_time": "2023-10-06T14:24:50.444Z"
   },
   {
    "duration": 4,
    "start_time": "2023-10-06T14:27:55.864Z"
   },
   {
    "duration": 4,
    "start_time": "2023-10-06T14:28:04.227Z"
   },
   {
    "duration": 6,
    "start_time": "2023-10-06T14:28:37.471Z"
   },
   {
    "duration": 3,
    "start_time": "2023-10-06T14:44:02.948Z"
   },
   {
    "duration": 3,
    "start_time": "2023-10-06T14:45:27.787Z"
   },
   {
    "duration": 131,
    "start_time": "2023-10-06T14:47:26.192Z"
   },
   {
    "duration": 3,
    "start_time": "2023-10-06T14:47:42.337Z"
   },
   {
    "duration": 10,
    "start_time": "2023-10-06T14:47:45.697Z"
   },
   {
    "duration": 4,
    "start_time": "2023-10-06T14:48:01.932Z"
   },
   {
    "duration": 15,
    "start_time": "2023-10-06T14:48:05.663Z"
   },
   {
    "duration": 3,
    "start_time": "2023-10-06T14:51:20.105Z"
   },
   {
    "duration": 28,
    "start_time": "2023-10-06T14:51:20.110Z"
   },
   {
    "duration": 77,
    "start_time": "2023-10-06T14:51:20.140Z"
   },
   {
    "duration": 41,
    "start_time": "2023-10-06T14:51:20.219Z"
   },
   {
    "duration": 929,
    "start_time": "2023-10-06T14:51:20.262Z"
   },
   {
    "duration": 3,
    "start_time": "2023-10-06T14:51:21.192Z"
   },
   {
    "duration": 6,
    "start_time": "2023-10-06T14:51:21.197Z"
   },
   {
    "duration": 7,
    "start_time": "2023-10-06T14:51:21.204Z"
   },
   {
    "duration": 6,
    "start_time": "2023-10-06T14:51:21.212Z"
   },
   {
    "duration": 7,
    "start_time": "2023-10-06T14:51:21.219Z"
   },
   {
    "duration": 23,
    "start_time": "2023-10-06T14:51:21.227Z"
   },
   {
    "duration": 14,
    "start_time": "2023-10-06T14:51:21.252Z"
   },
   {
    "duration": 7,
    "start_time": "2023-10-06T14:51:21.268Z"
   },
   {
    "duration": 6,
    "start_time": "2023-10-06T14:51:21.278Z"
   },
   {
    "duration": 8,
    "start_time": "2023-10-06T14:51:21.286Z"
   },
   {
    "duration": 10,
    "start_time": "2023-10-06T14:51:21.295Z"
   },
   {
    "duration": 9,
    "start_time": "2023-10-06T14:51:21.306Z"
   },
   {
    "duration": 5,
    "start_time": "2023-10-06T14:51:21.316Z"
   },
   {
    "duration": 6,
    "start_time": "2023-10-06T14:51:21.322Z"
   },
   {
    "duration": 6,
    "start_time": "2023-10-06T14:51:21.330Z"
   },
   {
    "duration": 160,
    "start_time": "2023-10-06T14:51:21.338Z"
   },
   {
    "duration": 137,
    "start_time": "2023-10-06T14:51:21.499Z"
   },
   {
    "duration": 6,
    "start_time": "2023-10-06T14:51:21.644Z"
   },
   {
    "duration": 17,
    "start_time": "2023-10-06T14:51:21.651Z"
   },
   {
    "duration": 19,
    "start_time": "2023-10-06T14:51:21.669Z"
   },
   {
    "duration": 10,
    "start_time": "2023-10-06T14:51:21.690Z"
   },
   {
    "duration": 11,
    "start_time": "2023-10-06T14:51:21.701Z"
   },
   {
    "duration": 5,
    "start_time": "2023-10-06T14:51:21.714Z"
   },
   {
    "duration": 14,
    "start_time": "2023-10-06T14:51:21.720Z"
   },
   {
    "duration": 17,
    "start_time": "2023-10-06T14:51:21.735Z"
   },
   {
    "duration": 8,
    "start_time": "2023-10-06T14:51:21.753Z"
   },
   {
    "duration": 47,
    "start_time": "2023-10-06T14:51:21.762Z"
   },
   {
    "duration": 20,
    "start_time": "2023-10-06T14:51:21.810Z"
   },
   {
    "duration": 26,
    "start_time": "2023-10-06T14:51:21.832Z"
   },
   {
    "duration": 7,
    "start_time": "2023-10-06T14:51:21.860Z"
   },
   {
    "duration": 42,
    "start_time": "2023-10-06T14:51:21.869Z"
   },
   {
    "duration": 16,
    "start_time": "2023-10-06T14:51:21.913Z"
   },
   {
    "duration": 8,
    "start_time": "2023-10-06T14:51:21.930Z"
   },
   {
    "duration": 8,
    "start_time": "2023-10-06T14:51:21.940Z"
   },
   {
    "duration": 23,
    "start_time": "2023-10-06T14:51:21.950Z"
   },
   {
    "duration": 4,
    "start_time": "2023-10-06T14:51:26.194Z"
   },
   {
    "duration": 6,
    "start_time": "2023-10-06T14:51:27.396Z"
   },
   {
    "duration": 17,
    "start_time": "2023-10-06T14:51:28.867Z"
   },
   {
    "duration": 8,
    "start_time": "2023-10-06T14:51:44.055Z"
   },
   {
    "duration": 3,
    "start_time": "2023-10-06T14:51:45.006Z"
   },
   {
    "duration": 5,
    "start_time": "2023-10-06T14:51:46.294Z"
   },
   {
    "duration": 4,
    "start_time": "2023-10-06T14:51:47.029Z"
   },
   {
    "duration": 29,
    "start_time": "2023-10-06T14:53:11.081Z"
   },
   {
    "duration": 15,
    "start_time": "2023-10-06T14:54:33.792Z"
   },
   {
    "duration": 496,
    "start_time": "2023-10-06T14:54:57.365Z"
   },
   {
    "duration": 408,
    "start_time": "2023-10-06T14:55:36.060Z"
   },
   {
    "duration": 108,
    "start_time": "2023-10-06T14:55:59.682Z"
   },
   {
    "duration": 391,
    "start_time": "2023-10-06T14:56:18.077Z"
   },
   {
    "duration": 4382,
    "start_time": "2023-10-06T14:56:33.679Z"
   },
   {
    "duration": 12,
    "start_time": "2023-10-06T15:40:05.760Z"
   },
   {
    "duration": 5,
    "start_time": "2023-10-06T15:40:28.754Z"
   },
   {
    "duration": 3,
    "start_time": "2023-10-06T15:40:33.657Z"
   },
   {
    "duration": 9,
    "start_time": "2023-10-06T15:40:34.309Z"
   },
   {
    "duration": 5,
    "start_time": "2023-10-06T15:41:01.863Z"
   },
   {
    "duration": 2,
    "start_time": "2023-10-06T15:41:02.512Z"
   },
   {
    "duration": 4,
    "start_time": "2023-10-06T15:41:03.145Z"
   },
   {
    "duration": 4,
    "start_time": "2023-10-06T15:41:04.990Z"
   },
   {
    "duration": 3923,
    "start_time": "2023-10-06T15:41:06.142Z"
   },
   {
    "duration": 5,
    "start_time": "2023-10-06T15:42:33.055Z"
   },
   {
    "duration": 2,
    "start_time": "2023-10-06T15:42:55.677Z"
   },
   {
    "duration": 127,
    "start_time": "2023-10-06T15:43:10.534Z"
   },
   {
    "duration": 104,
    "start_time": "2023-10-06T15:43:13.390Z"
   },
   {
    "duration": 5,
    "start_time": "2023-10-06T15:43:17.251Z"
   },
   {
    "duration": 3,
    "start_time": "2023-10-06T15:43:19.615Z"
   },
   {
    "duration": 70,
    "start_time": "2023-10-06T15:43:24.297Z"
   },
   {
    "duration": 7,
    "start_time": "2023-10-06T15:44:36.472Z"
   },
   {
    "duration": 3,
    "start_time": "2023-10-06T15:44:37.871Z"
   },
   {
    "duration": 5,
    "start_time": "2023-10-06T15:44:38.296Z"
   },
   {
    "duration": 4,
    "start_time": "2023-10-06T15:44:39.022Z"
   },
   {
    "duration": 5695,
    "start_time": "2023-10-06T15:44:39.664Z"
   },
   {
    "duration": 108,
    "start_time": "2023-10-06T15:48:14.720Z"
   },
   {
    "duration": 3,
    "start_time": "2023-10-06T15:48:21.362Z"
   },
   {
    "duration": 6,
    "start_time": "2023-10-06T15:49:45.973Z"
   },
   {
    "duration": 10,
    "start_time": "2023-10-06T15:50:32.298Z"
   },
   {
    "duration": 14,
    "start_time": "2023-10-06T15:51:12.267Z"
   },
   {
    "duration": 11,
    "start_time": "2023-10-06T15:51:45.959Z"
   },
   {
    "duration": 12,
    "start_time": "2023-10-06T15:52:38.465Z"
   },
   {
    "duration": 19763,
    "start_time": "2023-10-06T15:53:39.407Z"
   },
   {
    "duration": 17444,
    "start_time": "2023-10-06T15:54:06.017Z"
   },
   {
    "duration": 52446,
    "start_time": "2023-10-06T15:56:15.714Z"
   },
   {
    "duration": 49864,
    "start_time": "2023-10-06T15:57:18.593Z"
   },
   {
    "duration": 13,
    "start_time": "2023-10-06T16:04:26.637Z"
   },
   {
    "duration": 4,
    "start_time": "2023-10-06T16:04:30.061Z"
   },
   {
    "duration": 3786,
    "start_time": "2023-10-06T16:04:32.975Z"
   },
   {
    "duration": 30760,
    "start_time": "2023-10-06T16:04:55.393Z"
   },
   {
    "duration": 82348,
    "start_time": "2023-10-06T16:05:29.205Z"
   },
   {
    "duration": 132384,
    "start_time": "2023-10-06T16:06:56.271Z"
   },
   {
    "duration": 8108,
    "start_time": "2023-10-06T16:12:34.054Z"
   },
   {
    "duration": 7968,
    "start_time": "2023-10-06T16:13:08.284Z"
   },
   {
    "duration": 2894,
    "start_time": "2023-10-06T16:13:20.260Z"
   },
   {
    "duration": 2329,
    "start_time": "2023-10-06T16:13:25.124Z"
   },
   {
    "duration": 5476,
    "start_time": "2023-10-06T16:13:32.205Z"
   },
   {
    "duration": 39448,
    "start_time": "2023-10-06T16:13:47.535Z"
   },
   {
    "duration": 2595,
    "start_time": "2023-10-06T16:14:44.863Z"
   },
   {
    "duration": 4033,
    "start_time": "2023-10-06T16:14:58.031Z"
   },
   {
    "duration": 6529,
    "start_time": "2023-10-06T16:15:04.336Z"
   },
   {
    "duration": 8823,
    "start_time": "2023-10-06T16:15:24.539Z"
   },
   {
    "duration": 11893,
    "start_time": "2023-10-06T16:15:38.061Z"
   },
   {
    "duration": 20889,
    "start_time": "2023-10-06T16:15:55.765Z"
   },
   {
    "duration": 19,
    "start_time": "2023-10-06T16:16:17.871Z"
   },
   {
    "duration": 57003,
    "start_time": "2023-10-06T16:16:28.953Z"
   },
   {
    "duration": 3,
    "start_time": "2023-10-06T16:17:41.619Z"
   },
   {
    "duration": 133576,
    "start_time": "2023-10-06T16:17:42.874Z"
   },
   {
    "duration": 132855,
    "start_time": "2023-10-06T16:20:32.807Z"
   },
   {
    "duration": 4,
    "start_time": "2023-10-06T18:08:21.994Z"
   },
   {
    "duration": 3,
    "start_time": "2023-10-06T18:08:46.197Z"
   },
   {
    "duration": 114,
    "start_time": "2023-10-06T18:09:38.660Z"
   },
   {
    "duration": 109,
    "start_time": "2023-10-06T18:10:10.047Z"
   },
   {
    "duration": 4,
    "start_time": "2023-10-06T18:10:12.079Z"
   },
   {
    "duration": 115,
    "start_time": "2023-10-06T18:10:12.503Z"
   },
   {
    "duration": 13,
    "start_time": "2023-10-06T18:11:50.808Z"
   },
   {
    "duration": 3,
    "start_time": "2023-10-06T18:12:35.191Z"
   },
   {
    "duration": 140,
    "start_time": "2023-10-06T18:12:38.081Z"
   },
   {
    "duration": 6,
    "start_time": "2023-10-06T18:13:31.692Z"
   },
   {
    "duration": 138,
    "start_time": "2023-10-06T18:13:33.214Z"
   },
   {
    "duration": 131,
    "start_time": "2023-10-06T18:13:42.485Z"
   },
   {
    "duration": 156,
    "start_time": "2023-10-06T18:14:08.793Z"
   },
   {
    "duration": 162,
    "start_time": "2023-10-06T18:14:47.528Z"
   },
   {
    "duration": 263,
    "start_time": "2023-10-06T18:14:57.672Z"
   },
   {
    "duration": 156,
    "start_time": "2023-10-06T18:15:28.690Z"
   },
   {
    "duration": 154,
    "start_time": "2023-10-06T18:15:38.051Z"
   },
   {
    "duration": 169,
    "start_time": "2023-10-06T18:18:36.280Z"
   },
   {
    "duration": 116,
    "start_time": "2023-10-06T18:18:52.745Z"
   },
   {
    "duration": 183,
    "start_time": "2023-10-06T18:18:56.722Z"
   },
   {
    "duration": 4,
    "start_time": "2023-10-06T18:19:37.185Z"
   },
   {
    "duration": 168,
    "start_time": "2023-10-06T18:20:03.323Z"
   },
   {
    "duration": 250,
    "start_time": "2023-10-06T18:20:17.515Z"
   },
   {
    "duration": 4,
    "start_time": "2023-10-06T18:20:26.092Z"
   },
   {
    "duration": 178,
    "start_time": "2023-10-06T18:20:27.868Z"
   },
   {
    "duration": 179,
    "start_time": "2023-10-06T18:22:05.864Z"
   },
   {
    "duration": 181,
    "start_time": "2023-10-06T18:22:30.329Z"
   },
   {
    "duration": 307,
    "start_time": "2023-10-06T18:23:16.088Z"
   },
   {
    "duration": 224,
    "start_time": "2023-10-06T18:23:33.881Z"
   },
   {
    "duration": 232,
    "start_time": "2023-10-06T18:23:54.259Z"
   },
   {
    "duration": 181,
    "start_time": "2023-10-06T18:24:47.186Z"
   },
   {
    "duration": 182,
    "start_time": "2023-10-06T18:25:36.856Z"
   },
   {
    "duration": 183,
    "start_time": "2023-10-06T18:31:19.081Z"
   },
   {
    "duration": 187,
    "start_time": "2023-10-06T18:32:17.433Z"
   },
   {
    "duration": 129,
    "start_time": "2023-10-06T18:33:43.129Z"
   },
   {
    "duration": 115,
    "start_time": "2023-10-06T18:33:50.234Z"
   },
   {
    "duration": 130,
    "start_time": "2023-10-06T18:33:54.532Z"
   },
   {
    "duration": 195,
    "start_time": "2023-10-06T18:34:40.536Z"
   },
   {
    "duration": 330,
    "start_time": "2023-10-06T18:34:54.290Z"
   },
   {
    "duration": 195,
    "start_time": "2023-10-06T18:35:26.046Z"
   },
   {
    "duration": 194,
    "start_time": "2023-10-06T18:35:31.103Z"
   },
   {
    "duration": 200,
    "start_time": "2023-10-06T18:35:39.198Z"
   },
   {
    "duration": 169,
    "start_time": "2023-10-06T18:39:38.965Z"
   },
   {
    "duration": 214,
    "start_time": "2023-10-06T18:40:38.753Z"
   },
   {
    "duration": 205,
    "start_time": "2023-10-06T18:41:49.761Z"
   },
   {
    "duration": 227,
    "start_time": "2023-10-06T18:42:07.243Z"
   },
   {
    "duration": 225,
    "start_time": "2023-10-06T18:42:48.156Z"
   },
   {
    "duration": 217,
    "start_time": "2023-10-06T18:43:16.380Z"
   },
   {
    "duration": 4,
    "start_time": "2023-10-06T18:47:27.193Z"
   },
   {
    "duration": 4,
    "start_time": "2023-10-06T18:47:33.386Z"
   },
   {
    "duration": 10,
    "start_time": "2023-10-06T18:47:37.682Z"
   },
   {
    "duration": 5,
    "start_time": "2023-10-06T18:48:11.831Z"
   },
   {
    "duration": 29418,
    "start_time": "2023-10-06T18:48:39.547Z"
   },
   {
    "duration": 4,
    "start_time": "2023-10-06T18:49:12.733Z"
   },
   {
    "duration": 126,
    "start_time": "2023-10-06T18:49:12.739Z"
   },
   {
    "duration": 134,
    "start_time": "2023-10-06T18:49:12.867Z"
   },
   {
    "duration": 42,
    "start_time": "2023-10-06T18:49:13.003Z"
   },
   {
    "duration": 729,
    "start_time": "2023-10-06T18:49:13.047Z"
   },
   {
    "duration": 4,
    "start_time": "2023-10-06T18:49:13.778Z"
   },
   {
    "duration": 7,
    "start_time": "2023-10-06T18:49:13.783Z"
   },
   {
    "duration": 19,
    "start_time": "2023-10-06T18:49:13.791Z"
   },
   {
    "duration": 9,
    "start_time": "2023-10-06T18:49:13.812Z"
   },
   {
    "duration": 14,
    "start_time": "2023-10-06T18:49:13.822Z"
   },
   {
    "duration": 18,
    "start_time": "2023-10-06T18:49:13.837Z"
   },
   {
    "duration": 32,
    "start_time": "2023-10-06T18:49:13.857Z"
   },
   {
    "duration": 6,
    "start_time": "2023-10-06T18:49:13.891Z"
   },
   {
    "duration": 14,
    "start_time": "2023-10-06T18:49:13.900Z"
   },
   {
    "duration": 8,
    "start_time": "2023-10-06T18:49:13.915Z"
   },
   {
    "duration": 18,
    "start_time": "2023-10-06T18:49:13.925Z"
   },
   {
    "duration": 10,
    "start_time": "2023-10-06T18:49:13.945Z"
   },
   {
    "duration": 7,
    "start_time": "2023-10-06T18:49:13.957Z"
   },
   {
    "duration": 11,
    "start_time": "2023-10-06T18:49:13.965Z"
   },
   {
    "duration": 6,
    "start_time": "2023-10-06T18:49:13.978Z"
   },
   {
    "duration": 231,
    "start_time": "2023-10-06T18:49:13.986Z"
   },
   {
    "duration": 203,
    "start_time": "2023-10-06T18:49:14.219Z"
   },
   {
    "duration": 7,
    "start_time": "2023-10-06T18:49:14.423Z"
   },
   {
    "duration": 14,
    "start_time": "2023-10-06T18:49:14.431Z"
   },
   {
    "duration": 24,
    "start_time": "2023-10-06T18:49:14.447Z"
   },
   {
    "duration": 37,
    "start_time": "2023-10-06T18:49:14.473Z"
   },
   {
    "duration": 7,
    "start_time": "2023-10-06T18:49:14.511Z"
   },
   {
    "duration": 24,
    "start_time": "2023-10-06T18:49:14.520Z"
   },
   {
    "duration": 11,
    "start_time": "2023-10-06T18:49:14.546Z"
   },
   {
    "duration": 24,
    "start_time": "2023-10-06T18:49:14.559Z"
   },
   {
    "duration": 8,
    "start_time": "2023-10-06T18:49:14.584Z"
   },
   {
    "duration": 19,
    "start_time": "2023-10-06T18:49:14.594Z"
   },
   {
    "duration": 6,
    "start_time": "2023-10-06T18:49:14.615Z"
   },
   {
    "duration": 38,
    "start_time": "2023-10-06T18:49:14.622Z"
   },
   {
    "duration": 9,
    "start_time": "2023-10-06T18:49:14.662Z"
   },
   {
    "duration": 23,
    "start_time": "2023-10-06T18:49:14.673Z"
   },
   {
    "duration": 30,
    "start_time": "2023-10-06T18:49:14.698Z"
   },
   {
    "duration": 40,
    "start_time": "2023-10-06T18:49:14.730Z"
   },
   {
    "duration": 18,
    "start_time": "2023-10-06T18:49:14.772Z"
   },
   {
    "duration": 21,
    "start_time": "2023-10-06T18:49:14.792Z"
   },
   {
    "duration": 5,
    "start_time": "2023-10-06T18:49:14.816Z"
   },
   {
    "duration": 36,
    "start_time": "2023-10-06T18:49:14.822Z"
   },
   {
    "duration": 12,
    "start_time": "2023-10-06T18:49:14.859Z"
   },
   {
    "duration": 28,
    "start_time": "2023-10-06T18:49:14.872Z"
   },
   {
    "duration": 7,
    "start_time": "2023-10-06T18:49:14.902Z"
   },
   {
    "duration": 4,
    "start_time": "2023-10-06T18:49:14.911Z"
   },
   {
    "duration": 5441,
    "start_time": "2023-10-06T18:49:14.917Z"
   },
   {
    "duration": 5,
    "start_time": "2023-10-06T18:49:20.359Z"
   },
   {
    "duration": 26,
    "start_time": "2023-10-06T18:49:20.366Z"
   },
   {
    "duration": 142211,
    "start_time": "2023-10-06T18:49:24.544Z"
   },
   {
    "duration": 4,
    "start_time": "2023-10-06T18:54:12.915Z"
   },
   {
    "duration": 206,
    "start_time": "2023-10-06T18:54:13.618Z"
   },
   {
    "duration": 3,
    "start_time": "2023-10-06T18:58:35.665Z"
   },
   {
    "duration": 6,
    "start_time": "2023-10-06T19:12:34.653Z"
   },
   {
    "duration": 5,
    "start_time": "2023-10-06T19:15:16.479Z"
   },
   {
    "duration": 5,
    "start_time": "2023-10-06T19:15:17.838Z"
   },
   {
    "duration": 14,
    "start_time": "2023-10-06T19:19:07.192Z"
   },
   {
    "duration": 5,
    "start_time": "2023-10-06T19:19:11.586Z"
   },
   {
    "duration": 17,
    "start_time": "2023-10-06T19:19:12.625Z"
   },
   {
    "duration": 4,
    "start_time": "2023-10-06T19:20:46.510Z"
   },
   {
    "duration": 4,
    "start_time": "2023-10-06T19:21:08.552Z"
   },
   {
    "duration": 20,
    "start_time": "2023-10-06T19:21:09.975Z"
   },
   {
    "duration": 5,
    "start_time": "2023-10-06T19:22:05.855Z"
   },
   {
    "duration": 21,
    "start_time": "2023-10-06T19:22:06.631Z"
   },
   {
    "duration": 3,
    "start_time": "2023-10-06T19:23:27.225Z"
   },
   {
    "duration": 6,
    "start_time": "2023-10-06T19:23:32.010Z"
   },
   {
    "duration": 18,
    "start_time": "2023-10-06T19:23:34.475Z"
   },
   {
    "duration": 1787,
    "start_time": "2023-10-06T19:23:44.136Z"
   },
   {
    "duration": 4,
    "start_time": "2023-10-06T19:23:45.925Z"
   },
   {
    "duration": 38,
    "start_time": "2023-10-06T19:23:45.930Z"
   },
   {
    "duration": 46,
    "start_time": "2023-10-06T19:23:45.970Z"
   },
   {
    "duration": 907,
    "start_time": "2023-10-06T19:23:46.018Z"
   },
   {
    "duration": 3,
    "start_time": "2023-10-06T19:23:46.927Z"
   },
   {
    "duration": 16,
    "start_time": "2023-10-06T19:23:46.931Z"
   },
   {
    "duration": 9,
    "start_time": "2023-10-06T19:23:46.949Z"
   },
   {
    "duration": 12,
    "start_time": "2023-10-06T19:23:46.959Z"
   },
   {
    "duration": 17,
    "start_time": "2023-10-06T19:23:46.973Z"
   },
   {
    "duration": 8,
    "start_time": "2023-10-06T19:23:46.992Z"
   },
   {
    "duration": 22,
    "start_time": "2023-10-06T19:23:47.002Z"
   },
   {
    "duration": 14,
    "start_time": "2023-10-06T19:23:47.025Z"
   },
   {
    "duration": 5,
    "start_time": "2023-10-06T19:23:47.043Z"
   },
   {
    "duration": 20,
    "start_time": "2023-10-06T19:23:47.049Z"
   },
   {
    "duration": 17,
    "start_time": "2023-10-06T19:23:47.071Z"
   },
   {
    "duration": 11,
    "start_time": "2023-10-06T19:23:47.089Z"
   },
   {
    "duration": 9,
    "start_time": "2023-10-06T19:23:47.102Z"
   },
   {
    "duration": 5,
    "start_time": "2023-10-06T19:23:47.113Z"
   },
   {
    "duration": 11,
    "start_time": "2023-10-06T19:23:47.119Z"
   },
   {
    "duration": 155,
    "start_time": "2023-10-06T19:23:47.132Z"
   },
   {
    "duration": 142,
    "start_time": "2023-10-06T19:23:47.288Z"
   },
   {
    "duration": 12,
    "start_time": "2023-10-06T19:23:47.432Z"
   },
   {
    "duration": 13,
    "start_time": "2023-10-06T19:23:47.446Z"
   },
   {
    "duration": 15,
    "start_time": "2023-10-06T19:23:47.460Z"
   },
   {
    "duration": 10,
    "start_time": "2023-10-06T19:23:47.477Z"
   },
   {
    "duration": 13,
    "start_time": "2023-10-06T19:23:47.489Z"
   },
   {
    "duration": 27,
    "start_time": "2023-10-06T19:23:47.504Z"
   },
   {
    "duration": 20,
    "start_time": "2023-10-06T19:23:47.533Z"
   },
   {
    "duration": 34,
    "start_time": "2023-10-06T19:23:47.555Z"
   },
   {
    "duration": 13,
    "start_time": "2023-10-06T19:23:47.590Z"
   },
   {
    "duration": 25,
    "start_time": "2023-10-06T19:23:47.604Z"
   },
   {
    "duration": 17,
    "start_time": "2023-10-06T19:23:47.630Z"
   },
   {
    "duration": 36,
    "start_time": "2023-10-06T19:23:47.649Z"
   },
   {
    "duration": 7,
    "start_time": "2023-10-06T19:23:47.687Z"
   },
   {
    "duration": 20,
    "start_time": "2023-10-06T19:23:47.696Z"
   },
   {
    "duration": 9,
    "start_time": "2023-10-06T19:23:47.718Z"
   },
   {
    "duration": 23,
    "start_time": "2023-10-06T19:23:47.729Z"
   },
   {
    "duration": 5,
    "start_time": "2023-10-06T19:23:47.753Z"
   },
   {
    "duration": 14,
    "start_time": "2023-10-06T19:23:47.760Z"
   },
   {
    "duration": 8,
    "start_time": "2023-10-06T19:23:47.777Z"
   },
   {
    "duration": 12,
    "start_time": "2023-10-06T19:23:47.786Z"
   },
   {
    "duration": 6,
    "start_time": "2023-10-06T19:23:47.799Z"
   },
   {
    "duration": 12,
    "start_time": "2023-10-06T19:23:47.806Z"
   },
   {
    "duration": 9,
    "start_time": "2023-10-06T19:23:47.819Z"
   },
   {
    "duration": 18,
    "start_time": "2023-10-06T19:23:47.830Z"
   },
   {
    "duration": 5,
    "start_time": "2023-10-06T19:23:47.849Z"
   },
   {
    "duration": 8,
    "start_time": "2023-10-06T19:23:47.855Z"
   },
   {
    "duration": 22,
    "start_time": "2023-10-06T19:23:47.864Z"
   },
   {
    "duration": 147972,
    "start_time": "2023-10-06T19:23:47.888Z"
   },
   {
    "duration": 4,
    "start_time": "2023-10-06T19:26:15.861Z"
   },
   {
    "duration": 266,
    "start_time": "2023-10-06T19:26:15.866Z"
   },
   {
    "duration": 11,
    "start_time": "2023-10-06T19:26:16.133Z"
   },
   {
    "duration": 11,
    "start_time": "2023-10-06T19:26:16.146Z"
   },
   {
    "duration": 9,
    "start_time": "2023-10-06T19:26:16.158Z"
   },
   {
    "duration": 143,
    "start_time": "2023-10-06T19:26:16.169Z"
   },
   {
    "duration": 5,
    "start_time": "2023-10-06T19:34:47.867Z"
   },
   {
    "duration": 3,
    "start_time": "2023-10-06T19:34:49.228Z"
   },
   {
    "duration": 4,
    "start_time": "2023-10-06T19:34:49.724Z"
   },
   {
    "duration": 12202,
    "start_time": "2023-10-06T19:34:50.444Z"
   },
   {
    "duration": 13,
    "start_time": "2023-10-06T19:35:24.646Z"
   },
   {
    "duration": 22167,
    "start_time": "2023-10-06T19:35:25.289Z"
   },
   {
    "duration": 20957,
    "start_time": "2023-10-06T19:36:04.596Z"
   },
   {
    "duration": 7,
    "start_time": "2023-10-06T19:37:22.431Z"
   },
   {
    "duration": 35420,
    "start_time": "2023-10-06T19:37:23.038Z"
   },
   {
    "duration": 4,
    "start_time": "2023-10-06T19:42:04.680Z"
   },
   {
    "duration": 13,
    "start_time": "2023-10-06T19:44:57.900Z"
   },
   {
    "duration": 14,
    "start_time": "2023-10-06T19:45:08.445Z"
   },
   {
    "duration": 4,
    "start_time": "2023-10-06T19:45:30.616Z"
   },
   {
    "duration": 29,
    "start_time": "2023-10-06T19:45:34.129Z"
   },
   {
    "duration": 18,
    "start_time": "2023-10-06T19:46:03.939Z"
   },
   {
    "duration": 5298,
    "start_time": "2023-10-06T19:46:56.356Z"
   },
   {
    "duration": 3,
    "start_time": "2023-10-06T19:47:49.895Z"
   },
   {
    "duration": 3415,
    "start_time": "2023-10-06T19:48:41.256Z"
   },
   {
    "duration": 12647,
    "start_time": "2023-10-06T19:48:52.418Z"
   },
   {
    "duration": 8331,
    "start_time": "2023-10-06T19:49:40.326Z"
   },
   {
    "duration": 3,
    "start_time": "2023-10-06T19:49:51.278Z"
   },
   {
    "duration": 17525,
    "start_time": "2023-10-06T19:49:52.527Z"
   },
   {
    "duration": 19990,
    "start_time": "2023-10-06T19:54:33.687Z"
   },
   {
    "duration": 2192,
    "start_time": "2023-10-07T14:50:23.710Z"
   },
   {
    "duration": 4,
    "start_time": "2023-10-07T14:50:25.904Z"
   },
   {
    "duration": 119,
    "start_time": "2023-10-07T14:50:25.910Z"
   },
   {
    "duration": 47,
    "start_time": "2023-10-07T14:50:26.031Z"
   },
   {
    "duration": 910,
    "start_time": "2023-10-07T14:50:26.080Z"
   },
   {
    "duration": 3,
    "start_time": "2023-10-07T14:50:26.991Z"
   },
   {
    "duration": 12,
    "start_time": "2023-10-07T14:50:26.996Z"
   },
   {
    "duration": 15,
    "start_time": "2023-10-07T14:50:27.010Z"
   },
   {
    "duration": 8,
    "start_time": "2023-10-07T14:50:27.026Z"
   },
   {
    "duration": 21,
    "start_time": "2023-10-07T14:50:27.036Z"
   },
   {
    "duration": 17,
    "start_time": "2023-10-07T14:50:27.059Z"
   },
   {
    "duration": 9,
    "start_time": "2023-10-07T14:50:27.078Z"
   },
   {
    "duration": 5,
    "start_time": "2023-10-07T14:50:27.089Z"
   },
   {
    "duration": 6,
    "start_time": "2023-10-07T14:50:27.096Z"
   },
   {
    "duration": 9,
    "start_time": "2023-10-07T14:50:27.103Z"
   },
   {
    "duration": 9,
    "start_time": "2023-10-07T14:50:27.113Z"
   },
   {
    "duration": 12,
    "start_time": "2023-10-07T14:50:27.124Z"
   },
   {
    "duration": 11,
    "start_time": "2023-10-07T14:50:27.138Z"
   },
   {
    "duration": 11,
    "start_time": "2023-10-07T14:50:27.151Z"
   },
   {
    "duration": 11,
    "start_time": "2023-10-07T14:50:27.164Z"
   },
   {
    "duration": 159,
    "start_time": "2023-10-07T14:50:27.177Z"
   },
   {
    "duration": 140,
    "start_time": "2023-10-07T14:50:27.338Z"
   },
   {
    "duration": 6,
    "start_time": "2023-10-07T14:50:27.479Z"
   },
   {
    "duration": 6,
    "start_time": "2023-10-07T14:50:27.486Z"
   },
   {
    "duration": 6,
    "start_time": "2023-10-07T14:50:27.493Z"
   },
   {
    "duration": 27,
    "start_time": "2023-10-07T14:50:27.501Z"
   },
   {
    "duration": 5,
    "start_time": "2023-10-07T14:50:27.530Z"
   },
   {
    "duration": 5,
    "start_time": "2023-10-07T14:50:27.539Z"
   },
   {
    "duration": 7,
    "start_time": "2023-10-07T14:50:27.546Z"
   },
   {
    "duration": 27,
    "start_time": "2023-10-07T14:50:27.555Z"
   },
   {
    "duration": 6,
    "start_time": "2023-10-07T14:50:27.584Z"
   },
   {
    "duration": 34,
    "start_time": "2023-10-07T14:50:27.591Z"
   },
   {
    "duration": 27,
    "start_time": "2023-10-07T14:50:27.626Z"
   },
   {
    "duration": 21,
    "start_time": "2023-10-07T14:50:27.654Z"
   },
   {
    "duration": 7,
    "start_time": "2023-10-07T14:50:27.676Z"
   },
   {
    "duration": 20,
    "start_time": "2023-10-07T14:50:27.684Z"
   },
   {
    "duration": 8,
    "start_time": "2023-10-07T14:50:27.706Z"
   },
   {
    "duration": 11,
    "start_time": "2023-10-07T14:50:27.715Z"
   },
   {
    "duration": 4,
    "start_time": "2023-10-07T14:50:27.728Z"
   },
   {
    "duration": 4,
    "start_time": "2023-10-07T14:50:27.734Z"
   },
   {
    "duration": 5,
    "start_time": "2023-10-07T14:50:27.740Z"
   },
   {
    "duration": 6,
    "start_time": "2023-10-07T14:50:27.746Z"
   },
   {
    "duration": 5,
    "start_time": "2023-10-07T14:50:27.754Z"
   },
   {
    "duration": 15,
    "start_time": "2023-10-07T14:50:27.760Z"
   },
   {
    "duration": 5,
    "start_time": "2023-10-07T14:50:27.776Z"
   },
   {
    "duration": 7,
    "start_time": "2023-10-07T14:50:27.782Z"
   },
   {
    "duration": 7,
    "start_time": "2023-10-07T14:50:27.790Z"
   },
   {
    "duration": 25,
    "start_time": "2023-10-07T14:50:27.799Z"
   },
   {
    "duration": 4,
    "start_time": "2023-10-07T14:50:27.826Z"
   },
   {
    "duration": 136007,
    "start_time": "2023-10-07T14:50:27.832Z"
   },
   {
    "duration": 4,
    "start_time": "2023-10-07T14:52:43.840Z"
   },
   {
    "duration": 276,
    "start_time": "2023-10-07T14:52:43.846Z"
   },
   {
    "duration": 6,
    "start_time": "2023-10-07T14:52:44.124Z"
   },
   {
    "duration": 31,
    "start_time": "2023-10-07T14:52:44.132Z"
   },
   {
    "duration": 11,
    "start_time": "2023-10-07T14:52:44.165Z"
   },
   {
    "duration": 28947,
    "start_time": "2023-10-07T14:52:44.178Z"
   },
   {
    "duration": 3,
    "start_time": "2023-10-07T14:53:13.128Z"
   },
   {
    "duration": 32,
    "start_time": "2023-10-07T14:53:13.133Z"
   },
   {
    "duration": 7164,
    "start_time": "2023-10-07T14:55:39.260Z"
   },
   {
    "duration": 6804,
    "start_time": "2023-10-07T14:56:45.621Z"
   },
   {
    "duration": 6285,
    "start_time": "2023-10-07T14:57:35.847Z"
   },
   {
    "duration": 3,
    "start_time": "2023-10-07T14:58:08.603Z"
   },
   {
    "duration": 6810,
    "start_time": "2023-10-07T14:58:46.015Z"
   },
   {
    "duration": 12321,
    "start_time": "2023-10-07T15:01:34.027Z"
   },
   {
    "duration": 8308,
    "start_time": "2023-10-07T15:03:53.002Z"
   },
   {
    "duration": 11199,
    "start_time": "2023-10-07T15:04:45.741Z"
   },
   {
    "duration": 34290,
    "start_time": "2023-10-07T15:05:43.884Z"
   },
   {
    "duration": 16864,
    "start_time": "2023-10-07T15:06:22.967Z"
   },
   {
    "duration": 52881,
    "start_time": "2023-10-07T15:06:41.443Z"
   },
   {
    "duration": 6266,
    "start_time": "2023-10-07T15:07:48.227Z"
   },
   {
    "duration": 12261,
    "start_time": "2023-10-07T15:08:01.694Z"
   },
   {
    "duration": 51394,
    "start_time": "2023-10-07T15:08:23.151Z"
   },
   {
    "duration": 34345,
    "start_time": "2023-10-07T15:12:04.198Z"
   },
   {
    "duration": 135245,
    "start_time": "2023-10-07T15:13:51.003Z"
   },
   {
    "duration": 4,
    "start_time": "2023-10-07T15:16:10.306Z"
   },
   {
    "duration": 19,
    "start_time": "2023-10-07T15:16:10.312Z"
   },
   {
    "duration": 99,
    "start_time": "2023-10-07T15:16:10.333Z"
   },
   {
    "duration": 47,
    "start_time": "2023-10-07T15:16:10.434Z"
   },
   {
    "duration": 758,
    "start_time": "2023-10-07T15:16:10.483Z"
   },
   {
    "duration": 3,
    "start_time": "2023-10-07T15:16:11.243Z"
   },
   {
    "duration": 42,
    "start_time": "2023-10-07T15:16:11.247Z"
   },
   {
    "duration": 23,
    "start_time": "2023-10-07T15:16:11.291Z"
   },
   {
    "duration": 28,
    "start_time": "2023-10-07T15:16:11.315Z"
   },
   {
    "duration": 30,
    "start_time": "2023-10-07T15:16:11.344Z"
   },
   {
    "duration": 26,
    "start_time": "2023-10-07T15:16:11.375Z"
   },
   {
    "duration": 40,
    "start_time": "2023-10-07T15:16:11.403Z"
   },
   {
    "duration": 45,
    "start_time": "2023-10-07T15:16:11.445Z"
   },
   {
    "duration": 17,
    "start_time": "2023-10-07T15:16:11.493Z"
   },
   {
    "duration": 22,
    "start_time": "2023-10-07T15:16:11.512Z"
   },
   {
    "duration": 14,
    "start_time": "2023-10-07T15:16:11.535Z"
   },
   {
    "duration": 42,
    "start_time": "2023-10-07T15:16:11.550Z"
   },
   {
    "duration": 45,
    "start_time": "2023-10-07T15:16:11.593Z"
   },
   {
    "duration": 32,
    "start_time": "2023-10-07T15:16:11.639Z"
   },
   {
    "duration": 26,
    "start_time": "2023-10-07T15:16:11.672Z"
   },
   {
    "duration": 156,
    "start_time": "2023-10-07T15:16:11.700Z"
   },
   {
    "duration": 145,
    "start_time": "2023-10-07T15:16:11.857Z"
   },
   {
    "duration": 6,
    "start_time": "2023-10-07T15:16:12.003Z"
   },
   {
    "duration": 34,
    "start_time": "2023-10-07T15:16:12.011Z"
   },
   {
    "duration": 37,
    "start_time": "2023-10-07T15:16:12.047Z"
   },
   {
    "duration": 27,
    "start_time": "2023-10-07T15:16:12.085Z"
   },
   {
    "duration": 23,
    "start_time": "2023-10-07T15:16:12.114Z"
   },
   {
    "duration": 12,
    "start_time": "2023-10-07T15:16:12.139Z"
   },
   {
    "duration": 28,
    "start_time": "2023-10-07T15:16:12.153Z"
   },
   {
    "duration": 31,
    "start_time": "2023-10-07T15:16:12.183Z"
   },
   {
    "duration": 12,
    "start_time": "2023-10-07T15:16:12.216Z"
   },
   {
    "duration": 35,
    "start_time": "2023-10-07T15:16:12.229Z"
   },
   {
    "duration": 9,
    "start_time": "2023-10-07T15:16:12.266Z"
   },
   {
    "duration": 58,
    "start_time": "2023-10-07T15:16:12.277Z"
   },
   {
    "duration": 54,
    "start_time": "2023-10-07T15:16:12.337Z"
   },
   {
    "duration": 34,
    "start_time": "2023-10-07T15:16:12.393Z"
   },
   {
    "duration": 41,
    "start_time": "2023-10-07T15:16:12.429Z"
   },
   {
    "duration": 29,
    "start_time": "2023-10-07T15:16:12.472Z"
   },
   {
    "duration": 19,
    "start_time": "2023-10-07T15:16:12.503Z"
   },
   {
    "duration": 19,
    "start_time": "2023-10-07T15:16:12.524Z"
   },
   {
    "duration": 19,
    "start_time": "2023-10-07T15:16:12.547Z"
   },
   {
    "duration": 35,
    "start_time": "2023-10-07T15:16:12.568Z"
   },
   {
    "duration": 15,
    "start_time": "2023-10-07T15:16:12.605Z"
   },
   {
    "duration": 14,
    "start_time": "2023-10-07T15:16:12.621Z"
   },
   {
    "duration": 9,
    "start_time": "2023-10-07T15:16:12.636Z"
   },
   {
    "duration": 31,
    "start_time": "2023-10-07T15:16:12.647Z"
   },
   {
    "duration": 19,
    "start_time": "2023-10-07T15:16:12.679Z"
   },
   {
    "duration": 13,
    "start_time": "2023-10-07T15:16:12.699Z"
   },
   {
    "duration": 15,
    "start_time": "2023-10-07T15:16:12.714Z"
   },
   {
    "duration": 140611,
    "start_time": "2023-10-07T15:16:12.731Z"
   },
   {
    "duration": 3,
    "start_time": "2023-10-07T15:18:33.344Z"
   },
   {
    "duration": 3358,
    "start_time": "2023-10-07T15:18:33.349Z"
   },
   {
    "duration": 6,
    "start_time": "2023-10-07T15:18:36.708Z"
   },
   {
    "duration": 201,
    "start_time": "2023-10-07T15:18:36.724Z"
   },
   {
    "duration": 140,
    "start_time": "2023-10-07T15:18:36.927Z"
   },
   {
    "duration": 29258,
    "start_time": "2023-10-07T15:18:37.069Z"
   },
   {
    "duration": 4,
    "start_time": "2023-10-07T15:19:06.329Z"
   },
   {
    "duration": 64,
    "start_time": "2023-10-07T15:19:06.334Z"
   },
   {
    "duration": 46,
    "start_time": "2023-10-07T15:19:06.399Z"
   },
   {
    "duration": 0,
    "start_time": "2023-10-07T15:19:06.447Z"
   },
   {
    "duration": 34698,
    "start_time": "2023-10-07T15:20:01.531Z"
   },
   {
    "duration": 36626,
    "start_time": "2023-10-07T15:20:44.217Z"
   },
   {
    "duration": 34977,
    "start_time": "2023-10-07T15:22:48.366Z"
   },
   {
    "duration": 3,
    "start_time": "2023-10-07T15:23:53.408Z"
   },
   {
    "duration": 18912,
    "start_time": "2023-10-07T15:23:54.720Z"
   },
   {
    "duration": 25169,
    "start_time": "2023-10-07T15:24:22.578Z"
   },
   {
    "duration": 2,
    "start_time": "2023-10-07T15:25:18.792Z"
   },
   {
    "duration": 74677,
    "start_time": "2023-10-07T15:25:19.976Z"
   },
   {
    "duration": 6,
    "start_time": "2023-10-07T15:31:24.076Z"
   },
   {
    "duration": 19,
    "start_time": "2023-10-07T15:31:32.472Z"
   },
   {
    "duration": 19,
    "start_time": "2023-10-07T15:31:42.304Z"
   },
   {
    "duration": 14,
    "start_time": "2023-10-07T15:32:10.586Z"
   },
   {
    "duration": 5,
    "start_time": "2023-10-07T15:32:13.202Z"
   },
   {
    "duration": 4,
    "start_time": "2023-10-07T15:32:28.620Z"
   },
   {
    "duration": 5,
    "start_time": "2023-10-07T15:32:48.746Z"
   },
   {
    "duration": 669,
    "start_time": "2023-10-07T15:32:50.608Z"
   },
   {
    "duration": 21,
    "start_time": "2023-10-07T15:32:55.048Z"
   },
   {
    "duration": 5,
    "start_time": "2023-10-07T15:32:58.871Z"
   },
   {
    "duration": 5,
    "start_time": "2023-10-07T15:33:36.070Z"
   },
   {
    "duration": 10,
    "start_time": "2023-10-07T15:36:55.957Z"
   },
   {
    "duration": 5,
    "start_time": "2023-10-07T15:36:59.230Z"
   },
   {
    "duration": 4,
    "start_time": "2023-10-07T15:37:09.711Z"
   },
   {
    "duration": 19,
    "start_time": "2023-10-07T15:37:23.807Z"
   },
   {
    "duration": 4,
    "start_time": "2023-10-07T15:37:53.308Z"
   },
   {
    "duration": 3,
    "start_time": "2023-10-07T15:37:53.947Z"
   },
   {
    "duration": 20,
    "start_time": "2023-10-07T15:37:54.517Z"
   },
   {
    "duration": 3,
    "start_time": "2023-10-07T15:38:36.495Z"
   },
   {
    "duration": 4,
    "start_time": "2023-10-07T15:38:44.450Z"
   },
   {
    "duration": 5,
    "start_time": "2023-10-07T15:38:54.013Z"
   },
   {
    "duration": 3,
    "start_time": "2023-10-07T15:40:19.310Z"
   },
   {
    "duration": 14882,
    "start_time": "2023-10-07T15:44:41.998Z"
   },
   {
    "duration": 1216,
    "start_time": "2023-10-07T15:46:11.868Z"
   },
   {
    "duration": 0,
    "start_time": "2023-10-07T15:46:13.086Z"
   },
   {
    "duration": 7,
    "start_time": "2023-10-07T15:46:23.573Z"
   },
   {
    "duration": 41,
    "start_time": "2023-10-07T15:46:25.753Z"
   },
   {
    "duration": 19,
    "start_time": "2023-10-07T15:46:28.706Z"
   },
   {
    "duration": 7,
    "start_time": "2023-10-07T15:47:53.726Z"
   },
   {
    "duration": 5,
    "start_time": "2023-10-07T15:48:08.725Z"
   },
   {
    "duration": 20,
    "start_time": "2023-10-07T15:48:09.237Z"
   },
   {
    "duration": 23,
    "start_time": "2023-10-07T15:48:10.317Z"
   },
   {
    "duration": 4,
    "start_time": "2023-10-07T15:48:11.494Z"
   },
   {
    "duration": 5,
    "start_time": "2023-10-07T15:48:15.087Z"
   },
   {
    "duration": 5,
    "start_time": "2023-10-07T15:48:16.175Z"
   },
   {
    "duration": 6,
    "start_time": "2023-10-07T15:48:17.022Z"
   },
   {
    "duration": 32,
    "start_time": "2023-10-07T15:48:17.926Z"
   },
   {
    "duration": 4,
    "start_time": "2023-10-07T15:48:19.247Z"
   },
   {
    "duration": 3,
    "start_time": "2023-10-07T15:48:22.095Z"
   },
   {
    "duration": 5,
    "start_time": "2023-10-07T15:48:22.639Z"
   },
   {
    "duration": 6,
    "start_time": "2023-10-07T15:48:23.335Z"
   },
   {
    "duration": 4,
    "start_time": "2023-10-07T15:48:26.153Z"
   },
   {
    "duration": 14880,
    "start_time": "2023-10-07T15:48:27.288Z"
   },
   {
    "duration": 36706,
    "start_time": "2023-10-07T15:48:47.903Z"
   },
   {
    "duration": 8815,
    "start_time": "2023-10-07T15:49:34.569Z"
   },
   {
    "duration": 11011,
    "start_time": "2023-10-07T15:49:47.386Z"
   },
   {
    "duration": 15599,
    "start_time": "2023-10-07T15:50:02.109Z"
   },
   {
    "duration": 5,
    "start_time": "2023-10-07T15:55:31.554Z"
   },
   {
    "duration": 24,
    "start_time": "2023-10-07T15:55:32.371Z"
   },
   {
    "duration": 5,
    "start_time": "2023-10-07T15:55:38.687Z"
   },
   {
    "duration": 102,
    "start_time": "2023-10-07T15:55:38.694Z"
   },
   {
    "duration": 58,
    "start_time": "2023-10-07T15:55:38.798Z"
   },
   {
    "duration": 143,
    "start_time": "2023-10-07T15:55:38.858Z"
   },
   {
    "duration": 105,
    "start_time": "2023-10-07T15:55:39.003Z"
   },
   {
    "duration": 209,
    "start_time": "2023-10-07T15:55:39.109Z"
   },
   {
    "duration": 43,
    "start_time": "2023-10-07T15:55:39.320Z"
   },
   {
    "duration": 40,
    "start_time": "2023-10-07T15:55:39.367Z"
   },
   {
    "duration": 22,
    "start_time": "2023-10-07T15:55:39.408Z"
   },
   {
    "duration": 23,
    "start_time": "2023-10-07T15:55:39.434Z"
   },
   {
    "duration": 31,
    "start_time": "2023-10-07T15:55:39.459Z"
   },
   {
    "duration": 50,
    "start_time": "2023-10-07T15:55:39.492Z"
   },
   {
    "duration": 137,
    "start_time": "2023-10-07T15:55:39.543Z"
   },
   {
    "duration": 15754,
    "start_time": "2023-10-07T15:55:39.682Z"
   },
   {
    "duration": 4,
    "start_time": "2023-10-07T15:56:14.489Z"
   },
   {
    "duration": 3,
    "start_time": "2023-10-07T15:56:15.969Z"
   },
   {
    "duration": 4,
    "start_time": "2023-10-07T15:56:16.352Z"
   },
   {
    "duration": 7,
    "start_time": "2023-10-07T15:56:17.248Z"
   },
   {
    "duration": 3,
    "start_time": "2023-10-07T15:56:18.360Z"
   },
   {
    "duration": 15284,
    "start_time": "2023-10-07T15:56:19.553Z"
   },
   {
    "duration": 6,
    "start_time": "2023-10-07T15:56:58.502Z"
   },
   {
    "duration": 145,
    "start_time": "2023-10-07T15:56:58.510Z"
   },
   {
    "duration": 40,
    "start_time": "2023-10-07T15:56:58.657Z"
   },
   {
    "duration": 18,
    "start_time": "2023-10-07T15:56:58.699Z"
   },
   {
    "duration": 18,
    "start_time": "2023-10-07T15:56:58.719Z"
   },
   {
    "duration": 22,
    "start_time": "2023-10-07T15:56:58.739Z"
   },
   {
    "duration": 47,
    "start_time": "2023-10-07T15:56:58.763Z"
   },
   {
    "duration": 39,
    "start_time": "2023-10-07T15:56:58.812Z"
   },
   {
    "duration": 126,
    "start_time": "2023-10-07T15:56:58.853Z"
   },
   {
    "duration": 41,
    "start_time": "2023-10-07T15:56:58.980Z"
   },
   {
    "duration": 16,
    "start_time": "2023-10-07T15:56:59.023Z"
   },
   {
    "duration": 26,
    "start_time": "2023-10-07T15:56:59.041Z"
   },
   {
    "duration": 15,
    "start_time": "2023-10-07T15:56:59.068Z"
   },
   {
    "duration": 15194,
    "start_time": "2023-10-07T15:56:59.085Z"
   },
   {
    "duration": 4,
    "start_time": "2023-10-07T15:57:41.644Z"
   },
   {
    "duration": 40,
    "start_time": "2023-10-07T15:57:41.650Z"
   },
   {
    "duration": 24,
    "start_time": "2023-10-07T15:57:41.692Z"
   },
   {
    "duration": 29,
    "start_time": "2023-10-07T15:57:41.717Z"
   },
   {
    "duration": 7,
    "start_time": "2023-10-07T15:57:41.748Z"
   },
   {
    "duration": 4,
    "start_time": "2023-10-07T15:57:41.756Z"
   },
   {
    "duration": 5,
    "start_time": "2023-10-07T15:57:41.762Z"
   },
   {
    "duration": 23,
    "start_time": "2023-10-07T15:57:41.768Z"
   },
   {
    "duration": 8,
    "start_time": "2023-10-07T15:57:41.793Z"
   },
   {
    "duration": 5,
    "start_time": "2023-10-07T15:57:41.803Z"
   },
   {
    "duration": 9,
    "start_time": "2023-10-07T15:57:41.810Z"
   },
   {
    "duration": 17,
    "start_time": "2023-10-07T15:57:41.824Z"
   },
   {
    "duration": 4,
    "start_time": "2023-10-07T15:57:41.843Z"
   },
   {
    "duration": 15456,
    "start_time": "2023-10-07T15:57:41.850Z"
   },
   {
    "duration": 1960,
    "start_time": "2023-10-07T16:14:19.343Z"
   },
   {
    "duration": 5,
    "start_time": "2023-10-07T16:15:31.668Z"
   },
   {
    "duration": 30,
    "start_time": "2023-10-07T16:15:38.942Z"
   },
   {
    "duration": 47,
    "start_time": "2023-10-07T16:15:39.702Z"
   },
   {
    "duration": 908,
    "start_time": "2023-10-07T16:15:48.055Z"
   },
   {
    "duration": 130,
    "start_time": "2023-10-07T16:20:34.141Z"
   },
   {
    "duration": 4,
    "start_time": "2023-10-07T16:20:41.997Z"
   },
   {
    "duration": 9,
    "start_time": "2023-10-07T16:20:42.003Z"
   },
   {
    "duration": 32,
    "start_time": "2023-10-07T16:20:42.014Z"
   },
   {
    "duration": 42,
    "start_time": "2023-10-07T16:20:42.048Z"
   },
   {
    "duration": 945,
    "start_time": "2023-10-07T16:20:42.092Z"
   },
   {
    "duration": 3,
    "start_time": "2023-10-07T16:20:43.039Z"
   },
   {
    "duration": 15,
    "start_time": "2023-10-07T16:20:43.044Z"
   },
   {
    "duration": 15,
    "start_time": "2023-10-07T16:20:43.060Z"
   },
   {
    "duration": 7,
    "start_time": "2023-10-07T16:20:43.077Z"
   },
   {
    "duration": 12,
    "start_time": "2023-10-07T16:20:43.086Z"
   },
   {
    "duration": 6,
    "start_time": "2023-10-07T16:20:43.099Z"
   },
   {
    "duration": 8,
    "start_time": "2023-10-07T16:20:43.107Z"
   },
   {
    "duration": 6,
    "start_time": "2023-10-07T16:20:43.116Z"
   },
   {
    "duration": 18,
    "start_time": "2023-10-07T16:20:43.123Z"
   },
   {
    "duration": 119,
    "start_time": "2023-10-07T16:20:43.143Z"
   },
   {
    "duration": 10,
    "start_time": "2023-10-07T16:20:43.264Z"
   },
   {
    "duration": 8,
    "start_time": "2023-10-07T16:20:43.275Z"
   },
   {
    "duration": 13,
    "start_time": "2023-10-07T16:20:43.284Z"
   },
   {
    "duration": 11,
    "start_time": "2023-10-07T16:20:43.299Z"
   },
   {
    "duration": 7,
    "start_time": "2023-10-07T16:20:43.312Z"
   },
   {
    "duration": 163,
    "start_time": "2023-10-07T16:20:43.332Z"
   },
   {
    "duration": 138,
    "start_time": "2023-10-07T16:20:43.496Z"
   },
   {
    "duration": 6,
    "start_time": "2023-10-07T16:20:43.636Z"
   },
   {
    "duration": 20,
    "start_time": "2023-10-07T16:20:43.644Z"
   },
   {
    "duration": 14,
    "start_time": "2023-10-07T16:20:43.666Z"
   },
   {
    "duration": 24,
    "start_time": "2023-10-07T16:20:43.681Z"
   },
   {
    "duration": 30,
    "start_time": "2023-10-07T16:20:43.706Z"
   },
   {
    "duration": 7,
    "start_time": "2023-10-07T16:20:43.740Z"
   },
   {
    "duration": 21,
    "start_time": "2023-10-07T16:20:43.748Z"
   },
   {
    "duration": 28,
    "start_time": "2023-10-07T16:20:43.771Z"
   },
   {
    "duration": 10,
    "start_time": "2023-10-07T16:20:43.800Z"
   },
   {
    "duration": 31,
    "start_time": "2023-10-07T16:20:43.811Z"
   },
   {
    "duration": 10,
    "start_time": "2023-10-07T16:20:43.844Z"
   },
   {
    "duration": 26,
    "start_time": "2023-10-07T16:20:43.856Z"
   },
   {
    "duration": 14,
    "start_time": "2023-10-07T16:20:43.883Z"
   },
   {
    "duration": 22,
    "start_time": "2023-10-07T16:20:43.899Z"
   },
   {
    "duration": 8,
    "start_time": "2023-10-07T16:20:43.922Z"
   },
   {
    "duration": 29,
    "start_time": "2023-10-07T16:20:43.932Z"
   },
   {
    "duration": 12,
    "start_time": "2023-10-07T16:20:43.963Z"
   },
   {
    "duration": 6,
    "start_time": "2023-10-07T16:20:43.977Z"
   },
   {
    "duration": 6,
    "start_time": "2023-10-07T16:20:43.984Z"
   },
   {
    "duration": 22,
    "start_time": "2023-10-07T16:20:43.991Z"
   },
   {
    "duration": 5,
    "start_time": "2023-10-07T16:20:44.015Z"
   },
   {
    "duration": 14,
    "start_time": "2023-10-07T16:20:44.021Z"
   },
   {
    "duration": 6,
    "start_time": "2023-10-07T16:20:44.037Z"
   },
   {
    "duration": 20,
    "start_time": "2023-10-07T16:20:44.045Z"
   },
   {
    "duration": 19,
    "start_time": "2023-10-07T16:20:44.066Z"
   },
   {
    "duration": 17,
    "start_time": "2023-10-07T16:20:44.086Z"
   },
   {
    "duration": 31,
    "start_time": "2023-10-07T16:20:44.104Z"
   },
   {
    "duration": 181002,
    "start_time": "2023-10-07T16:20:44.137Z"
   },
   {
    "duration": 4,
    "start_time": "2023-10-07T16:23:45.141Z"
   },
   {
    "duration": 370,
    "start_time": "2023-10-07T16:23:45.147Z"
   },
   {
    "duration": 14,
    "start_time": "2023-10-07T16:23:45.519Z"
   },
   {
    "duration": 25,
    "start_time": "2023-10-07T16:23:45.535Z"
   },
   {
    "duration": 22,
    "start_time": "2023-10-07T16:23:45.561Z"
   },
   {
    "duration": 52657,
    "start_time": "2023-10-07T16:23:45.584Z"
   },
   {
    "duration": 3,
    "start_time": "2023-10-07T16:24:38.244Z"
   },
   {
    "duration": 78983,
    "start_time": "2023-10-07T16:24:38.252Z"
   },
   {
    "duration": 7,
    "start_time": "2023-10-07T16:26:17.338Z"
   },
   {
    "duration": 17,
    "start_time": "2023-10-07T16:26:32.251Z"
   },
   {
    "duration": 4,
    "start_time": "2023-10-07T16:26:38.012Z"
   },
   {
    "duration": 12,
    "start_time": "2023-10-07T16:26:46.022Z"
   },
   {
    "duration": 5,
    "start_time": "2023-10-07T16:26:50.573Z"
   },
   {
    "duration": 20,
    "start_time": "2023-10-07T16:27:10.193Z"
   },
   {
    "duration": 16,
    "start_time": "2023-10-07T16:27:38.003Z"
   },
   {
    "duration": 16,
    "start_time": "2023-10-07T16:28:09.334Z"
   },
   {
    "duration": 21,
    "start_time": "2023-10-07T16:28:17.824Z"
   },
   {
    "duration": 121,
    "start_time": "2023-10-07T16:29:10.979Z"
   },
   {
    "duration": 4,
    "start_time": "2023-10-07T16:29:14.750Z"
   },
   {
    "duration": 14,
    "start_time": "2023-10-07T16:29:16.800Z"
   },
   {
    "duration": 10,
    "start_time": "2023-10-07T16:29:25.580Z"
   },
   {
    "duration": 11,
    "start_time": "2023-10-07T16:29:27.030Z"
   },
   {
    "duration": 5,
    "start_time": "2023-10-07T16:29:29.785Z"
   },
   {
    "duration": 14,
    "start_time": "2023-10-07T16:29:31.840Z"
   },
   {
    "duration": 17,
    "start_time": "2023-10-07T16:30:05.620Z"
   },
   {
    "duration": 26,
    "start_time": "2023-10-07T16:30:06.588Z"
   },
   {
    "duration": 22,
    "start_time": "2023-10-07T16:30:07.348Z"
   },
   {
    "duration": 20,
    "start_time": "2023-10-07T16:30:07.875Z"
   },
   {
    "duration": 9,
    "start_time": "2023-10-07T16:30:08.523Z"
   },
   {
    "duration": 6,
    "start_time": "2023-10-07T16:30:09.107Z"
   },
   {
    "duration": 4,
    "start_time": "2023-10-07T16:30:26.613Z"
   },
   {
    "duration": 14,
    "start_time": "2023-10-07T16:30:45.371Z"
   },
   {
    "duration": 26,
    "start_time": "2023-10-07T16:31:25.221Z"
   },
   {
    "duration": 16,
    "start_time": "2023-10-07T16:31:32.177Z"
   },
   {
    "duration": 5,
    "start_time": "2023-10-07T16:31:49.607Z"
   },
   {
    "duration": 5,
    "start_time": "2023-10-07T16:31:57.943Z"
   },
   {
    "duration": 14,
    "start_time": "2023-10-07T16:32:11.090Z"
   },
   {
    "duration": 14,
    "start_time": "2023-10-07T16:32:20.003Z"
   },
   {
    "duration": 19,
    "start_time": "2023-10-07T16:32:26.843Z"
   },
   {
    "duration": 14,
    "start_time": "2023-10-07T16:32:34.484Z"
   },
   {
    "duration": 20,
    "start_time": "2023-10-07T16:33:28.865Z"
   },
   {
    "duration": 6,
    "start_time": "2023-10-07T16:33:41.634Z"
   },
   {
    "duration": 5,
    "start_time": "2023-10-07T16:34:11.879Z"
   },
   {
    "duration": 2252,
    "start_time": "2023-10-07T16:35:03.115Z"
   },
   {
    "duration": 4,
    "start_time": "2023-10-07T16:35:05.369Z"
   },
   {
    "duration": 68,
    "start_time": "2023-10-07T16:35:05.375Z"
   },
   {
    "duration": 49,
    "start_time": "2023-10-07T16:35:05.445Z"
   },
   {
    "duration": 1056,
    "start_time": "2023-10-07T16:35:05.495Z"
   },
   {
    "duration": 3,
    "start_time": "2023-10-07T16:35:06.553Z"
   },
   {
    "duration": 50,
    "start_time": "2023-10-07T16:35:06.558Z"
   },
   {
    "duration": 39,
    "start_time": "2023-10-07T16:35:06.610Z"
   },
   {
    "duration": 32,
    "start_time": "2023-10-07T16:35:06.651Z"
   },
   {
    "duration": 23,
    "start_time": "2023-10-07T16:35:06.685Z"
   },
   {
    "duration": 62,
    "start_time": "2023-10-07T16:35:06.710Z"
   },
   {
    "duration": 30,
    "start_time": "2023-10-07T16:35:06.774Z"
   },
   {
    "duration": 53,
    "start_time": "2023-10-07T16:35:06.806Z"
   },
   {
    "duration": 59,
    "start_time": "2023-10-07T16:35:06.861Z"
   },
   {
    "duration": 61,
    "start_time": "2023-10-07T16:35:06.922Z"
   },
   {
    "duration": 53,
    "start_time": "2023-10-07T16:35:06.985Z"
   },
   {
    "duration": 77,
    "start_time": "2023-10-07T16:35:07.040Z"
   },
   {
    "duration": 179,
    "start_time": "2023-10-07T16:35:07.119Z"
   },
   {
    "duration": 93,
    "start_time": "2023-10-07T16:35:07.299Z"
   },
   {
    "duration": 197,
    "start_time": "2023-10-07T16:35:07.393Z"
   },
   {
    "duration": 366,
    "start_time": "2023-10-07T16:35:07.591Z"
   },
   {
    "duration": 222,
    "start_time": "2023-10-07T16:35:07.958Z"
   },
   {
    "duration": 7,
    "start_time": "2023-10-07T16:35:08.183Z"
   },
   {
    "duration": 162,
    "start_time": "2023-10-07T16:35:08.191Z"
   },
   {
    "duration": 153,
    "start_time": "2023-10-07T16:35:08.355Z"
   },
   {
    "duration": 47,
    "start_time": "2023-10-07T16:35:08.510Z"
   },
   {
    "duration": 41,
    "start_time": "2023-10-07T16:35:08.559Z"
   },
   {
    "duration": 60,
    "start_time": "2023-10-07T16:35:08.604Z"
   },
   {
    "duration": 111,
    "start_time": "2023-10-07T16:35:08.666Z"
   },
   {
    "duration": 115,
    "start_time": "2023-10-07T16:35:08.779Z"
   },
   {
    "duration": 42,
    "start_time": "2023-10-07T16:35:08.896Z"
   },
   {
    "duration": 63,
    "start_time": "2023-10-07T16:35:08.940Z"
   },
   {
    "duration": 70,
    "start_time": "2023-10-07T16:35:09.004Z"
   },
   {
    "duration": 31,
    "start_time": "2023-10-07T16:35:09.075Z"
   },
   {
    "duration": 23,
    "start_time": "2023-10-07T16:35:09.108Z"
   },
   {
    "duration": 36,
    "start_time": "2023-10-07T16:35:09.134Z"
   },
   {
    "duration": 51,
    "start_time": "2023-10-07T16:35:09.172Z"
   },
   {
    "duration": 36,
    "start_time": "2023-10-07T16:35:09.226Z"
   },
   {
    "duration": 9,
    "start_time": "2023-10-07T16:35:09.263Z"
   },
   {
    "duration": 13,
    "start_time": "2023-10-07T16:35:09.274Z"
   },
   {
    "duration": 12,
    "start_time": "2023-10-07T16:35:09.288Z"
   },
   {
    "duration": 9,
    "start_time": "2023-10-07T16:35:09.301Z"
   },
   {
    "duration": 8,
    "start_time": "2023-10-07T16:35:09.311Z"
   },
   {
    "duration": 40,
    "start_time": "2023-10-07T16:35:09.321Z"
   },
   {
    "duration": 22,
    "start_time": "2023-10-07T16:35:09.363Z"
   },
   {
    "duration": 47,
    "start_time": "2023-10-07T16:35:09.386Z"
   },
   {
    "duration": 28,
    "start_time": "2023-10-07T16:35:09.435Z"
   },
   {
    "duration": 46,
    "start_time": "2023-10-07T16:35:09.465Z"
   },
   {
    "duration": 22,
    "start_time": "2023-10-07T16:35:09.513Z"
   },
   {
    "duration": 170522,
    "start_time": "2023-10-07T16:35:09.537Z"
   },
   {
    "duration": 8,
    "start_time": "2023-10-07T16:38:00.125Z"
   },
   {
    "duration": 327,
    "start_time": "2023-10-07T16:38:00.140Z"
   },
   {
    "duration": 6,
    "start_time": "2023-10-07T16:38:00.469Z"
   },
   {
    "duration": 21,
    "start_time": "2023-10-07T16:38:00.477Z"
   },
   {
    "duration": 37,
    "start_time": "2023-10-07T16:38:00.500Z"
   },
   {
    "duration": 37991,
    "start_time": "2023-10-07T16:38:00.539Z"
   },
   {
    "duration": 5,
    "start_time": "2023-10-07T16:38:38.536Z"
   },
   {
    "duration": 292,
    "start_time": "2023-10-07T16:38:38.543Z"
   },
   {
    "duration": 149411,
    "start_time": "2023-10-07T16:38:38.837Z"
   },
   {
    "duration": 400656,
    "start_time": "2023-10-07T16:41:08.330Z"
   },
   {
    "duration": 0,
    "start_time": "2023-10-07T16:47:48.988Z"
   },
   {
    "duration": 0,
    "start_time": "2023-10-07T16:47:48.989Z"
   },
   {
    "duration": 0,
    "start_time": "2023-10-07T16:47:48.991Z"
   },
   {
    "duration": 0,
    "start_time": "2023-10-07T16:47:48.992Z"
   },
   {
    "duration": 0,
    "start_time": "2023-10-07T16:47:48.993Z"
   },
   {
    "duration": 0,
    "start_time": "2023-10-07T16:47:48.994Z"
   },
   {
    "duration": 0,
    "start_time": "2023-10-07T16:47:48.995Z"
   },
   {
    "duration": 0,
    "start_time": "2023-10-07T16:47:48.997Z"
   },
   {
    "duration": 0,
    "start_time": "2023-10-07T16:47:48.998Z"
   },
   {
    "duration": 0,
    "start_time": "2023-10-07T16:47:49.000Z"
   },
   {
    "duration": 0,
    "start_time": "2023-10-07T16:47:49.023Z"
   },
   {
    "duration": 0,
    "start_time": "2023-10-07T16:47:49.028Z"
   },
   {
    "duration": 0,
    "start_time": "2023-10-07T16:47:49.032Z"
   },
   {
    "duration": 0,
    "start_time": "2023-10-07T16:47:49.033Z"
   },
   {
    "duration": 0,
    "start_time": "2023-10-07T16:47:49.036Z"
   },
   {
    "duration": 0,
    "start_time": "2023-10-07T16:47:49.037Z"
   },
   {
    "duration": 1,
    "start_time": "2023-10-07T16:47:49.038Z"
   },
   {
    "duration": 0,
    "start_time": "2023-10-07T16:47:49.040Z"
   },
   {
    "duration": 0,
    "start_time": "2023-10-07T16:47:49.041Z"
   },
   {
    "duration": 0,
    "start_time": "2023-10-07T16:47:49.042Z"
   },
   {
    "duration": 0,
    "start_time": "2023-10-07T16:47:49.044Z"
   },
   {
    "duration": 0,
    "start_time": "2023-10-07T16:47:49.046Z"
   },
   {
    "duration": 0,
    "start_time": "2023-10-07T16:47:49.047Z"
   },
   {
    "duration": 0,
    "start_time": "2023-10-07T16:47:49.049Z"
   },
   {
    "duration": 0,
    "start_time": "2023-10-07T16:47:49.051Z"
   },
   {
    "duration": 0,
    "start_time": "2023-10-07T16:47:49.052Z"
   },
   {
    "duration": 4,
    "start_time": "2023-10-07T16:48:22.690Z"
   },
   {
    "duration": 31,
    "start_time": "2023-10-07T16:48:22.697Z"
   },
   {
    "duration": 56,
    "start_time": "2023-10-07T16:48:22.730Z"
   },
   {
    "duration": 48,
    "start_time": "2023-10-07T16:48:22.788Z"
   },
   {
    "duration": 837,
    "start_time": "2023-10-07T16:48:22.839Z"
   },
   {
    "duration": 3,
    "start_time": "2023-10-07T16:48:23.678Z"
   },
   {
    "duration": 27,
    "start_time": "2023-10-07T16:48:23.683Z"
   },
   {
    "duration": 31,
    "start_time": "2023-10-07T16:48:23.712Z"
   },
   {
    "duration": 24,
    "start_time": "2023-10-07T16:48:23.746Z"
   },
   {
    "duration": 24,
    "start_time": "2023-10-07T16:48:23.772Z"
   },
   {
    "duration": 28,
    "start_time": "2023-10-07T16:48:23.798Z"
   },
   {
    "duration": 20,
    "start_time": "2023-10-07T16:48:23.834Z"
   },
   {
    "duration": 21,
    "start_time": "2023-10-07T16:48:23.856Z"
   },
   {
    "duration": 28,
    "start_time": "2023-10-07T16:48:23.880Z"
   },
   {
    "duration": 48,
    "start_time": "2023-10-07T16:48:23.909Z"
   },
   {
    "duration": 28,
    "start_time": "2023-10-07T16:48:23.959Z"
   },
   {
    "duration": 24,
    "start_time": "2023-10-07T16:48:23.989Z"
   },
   {
    "duration": 25,
    "start_time": "2023-10-07T16:48:24.015Z"
   },
   {
    "duration": 9,
    "start_time": "2023-10-07T16:48:24.043Z"
   },
   {
    "duration": 16,
    "start_time": "2023-10-07T16:48:24.054Z"
   },
   {
    "duration": 197,
    "start_time": "2023-10-07T16:48:24.073Z"
   },
   {
    "duration": 8,
    "start_time": "2023-10-07T16:48:24.272Z"
   },
   {
    "duration": 13,
    "start_time": "2023-10-07T16:48:24.281Z"
   },
   {
    "duration": 7,
    "start_time": "2023-10-07T16:48:24.295Z"
   },
   {
    "duration": 23,
    "start_time": "2023-10-07T16:48:24.304Z"
   },
   {
    "duration": 26,
    "start_time": "2023-10-07T16:48:24.330Z"
   },
   {
    "duration": 2,
    "start_time": "2023-10-07T16:48:27.083Z"
   },
   {
    "duration": 6,
    "start_time": "2023-10-07T16:48:36.358Z"
   },
   {
    "duration": 20,
    "start_time": "2023-10-07T16:48:37.974Z"
   },
   {
    "duration": 6,
    "start_time": "2023-10-07T16:49:42.820Z"
   },
   {
    "duration": 28,
    "start_time": "2023-10-07T16:49:43.509Z"
   },
   {
    "duration": 6,
    "start_time": "2023-10-07T16:51:18.715Z"
   },
   {
    "duration": 21,
    "start_time": "2023-10-07T16:51:19.297Z"
   },
   {
    "duration": 6,
    "start_time": "2023-10-07T16:51:20.491Z"
   },
   {
    "duration": 20,
    "start_time": "2023-10-07T16:51:21.937Z"
   },
   {
    "duration": 3,
    "start_time": "2023-10-07T16:53:40.179Z"
   },
   {
    "duration": 9,
    "start_time": "2023-10-07T16:53:40.912Z"
   },
   {
    "duration": 6,
    "start_time": "2023-10-07T16:53:41.618Z"
   },
   {
    "duration": 6,
    "start_time": "2023-10-07T16:54:36.425Z"
   },
   {
    "duration": 4,
    "start_time": "2023-10-07T16:56:42.014Z"
   },
   {
    "duration": 24,
    "start_time": "2023-10-07T16:56:42.436Z"
   },
   {
    "duration": 9,
    "start_time": "2023-10-07T16:59:38.242Z"
   },
   {
    "duration": 5,
    "start_time": "2023-10-07T17:01:53.764Z"
   },
   {
    "duration": 240937,
    "start_time": "2023-10-07T17:02:18.725Z"
   },
   {
    "duration": 133,
    "start_time": "2023-10-07T17:20:22.255Z"
   },
   {
    "duration": 4,
    "start_time": "2023-10-07T17:21:50.342Z"
   },
   {
    "duration": 240,
    "start_time": "2023-10-07T17:22:18.700Z"
   },
   {
    "duration": 6,
    "start_time": "2023-10-07T17:23:00.125Z"
   },
   {
    "duration": 8,
    "start_time": "2023-10-07T17:23:28.866Z"
   },
   {
    "duration": 45771,
    "start_time": "2023-10-07T17:23:40.466Z"
   },
   {
    "duration": 3,
    "start_time": "2023-10-07T17:28:16.517Z"
   },
   {
    "duration": 9950,
    "start_time": "2023-10-07T17:28:38.905Z"
   },
   {
    "duration": 18127,
    "start_time": "2023-10-07T17:29:08.621Z"
   },
   {
    "duration": 116435,
    "start_time": "2023-10-07T17:29:54.719Z"
   },
   {
    "duration": 0,
    "start_time": "2023-10-07T17:31:51.156Z"
   },
   {
    "duration": 2,
    "start_time": "2023-10-07T17:31:54.267Z"
   },
   {
    "duration": 14987,
    "start_time": "2023-10-07T17:32:00.661Z"
   },
   {
    "duration": 11883,
    "start_time": "2023-10-07T17:32:21.970Z"
   },
   {
    "duration": 44473,
    "start_time": "2023-10-07T17:33:10.080Z"
   },
   {
    "duration": 82845,
    "start_time": "2023-10-07T17:34:02.102Z"
   },
   {
    "duration": 283130,
    "start_time": "2023-10-07T17:35:58.796Z"
   },
   {
    "duration": 549554,
    "start_time": "2023-10-07T17:45:22.214Z"
   },
   {
    "duration": 26,
    "start_time": "2023-10-07T18:19:05.571Z"
   },
   {
    "duration": 19,
    "start_time": "2023-10-07T18:19:06.184Z"
   },
   {
    "duration": 24,
    "start_time": "2023-10-07T18:19:06.836Z"
   },
   {
    "duration": 5,
    "start_time": "2023-10-07T18:19:07.393Z"
   },
   {
    "duration": 4,
    "start_time": "2023-10-07T18:19:07.867Z"
   },
   {
    "duration": 12,
    "start_time": "2023-10-07T18:19:08.417Z"
   },
   {
    "duration": 9,
    "start_time": "2023-10-07T18:19:08.858Z"
   },
   {
    "duration": 5,
    "start_time": "2023-10-07T18:19:15.935Z"
   },
   {
    "duration": 4,
    "start_time": "2023-10-07T18:19:16.491Z"
   },
   {
    "duration": 28,
    "start_time": "2023-10-07T18:19:17.149Z"
   },
   {
    "duration": 4,
    "start_time": "2023-10-07T18:19:18.659Z"
   },
   {
    "duration": 3,
    "start_time": "2023-10-07T18:19:19.515Z"
   },
   {
    "duration": 4,
    "start_time": "2023-10-07T18:19:21.171Z"
   },
   {
    "duration": 3,
    "start_time": "2023-10-07T18:19:22.035Z"
   },
   {
    "duration": 4,
    "start_time": "2023-10-07T18:19:22.652Z"
   },
   {
    "duration": 6,
    "start_time": "2023-10-07T18:19:23.477Z"
   },
   {
    "duration": 8,
    "start_time": "2023-10-07T18:19:24.133Z"
   },
   {
    "duration": 128299,
    "start_time": "2023-10-07T18:19:25.045Z"
   },
   {
    "duration": 70,
    "start_time": "2023-10-07T18:23:32.441Z"
   },
   {
    "duration": 10,
    "start_time": "2023-10-07T18:23:41.692Z"
   },
   {
    "duration": 5,
    "start_time": "2023-10-07T18:24:40.251Z"
   },
   {
    "duration": 23,
    "start_time": "2023-10-07T18:24:45.243Z"
   },
   {
    "duration": 5,
    "start_time": "2023-10-07T18:25:14.785Z"
   },
   {
    "duration": 38,
    "start_time": "2023-10-07T18:25:22.180Z"
   },
   {
    "duration": 3,
    "start_time": "2023-10-07T18:25:38.293Z"
   },
   {
    "duration": 87,
    "start_time": "2023-10-07T18:25:59.798Z"
   },
   {
    "duration": 3,
    "start_time": "2023-10-07T18:26:13.465Z"
   },
   {
    "duration": 6,
    "start_time": "2023-10-07T18:26:17.191Z"
   },
   {
    "duration": 4,
    "start_time": "2023-10-07T18:26:33.505Z"
   },
   {
    "duration": 19,
    "start_time": "2023-10-07T18:28:18.678Z"
   },
   {
    "duration": 45,
    "start_time": "2023-10-07T18:28:32.441Z"
   },
   {
    "duration": 16,
    "start_time": "2023-10-07T18:28:51.800Z"
   },
   {
    "duration": 19,
    "start_time": "2023-10-07T18:29:30.439Z"
   },
   {
    "duration": 16,
    "start_time": "2023-10-07T18:29:51.647Z"
   },
   {
    "duration": 14,
    "start_time": "2023-10-07T18:30:02.983Z"
   },
   {
    "duration": 4,
    "start_time": "2023-10-07T18:30:17.178Z"
   },
   {
    "duration": 21,
    "start_time": "2023-10-07T18:30:19.667Z"
   },
   {
    "duration": 6,
    "start_time": "2023-10-07T18:31:20.272Z"
   },
   {
    "duration": 91637,
    "start_time": "2023-10-07T18:31:20.911Z"
   },
   {
    "duration": 19,
    "start_time": "2023-10-07T18:41:30.690Z"
   },
   {
    "duration": 12,
    "start_time": "2023-10-07T18:44:01.992Z"
   },
   {
    "duration": 15,
    "start_time": "2023-10-07T18:44:07.170Z"
   },
   {
    "duration": 7,
    "start_time": "2023-10-07T18:45:27.885Z"
   },
   {
    "duration": 42486,
    "start_time": "2023-10-07T18:48:55.659Z"
   },
   {
    "duration": 4,
    "start_time": "2023-10-07T19:01:06.288Z"
   },
   {
    "duration": 225,
    "start_time": "2023-10-07T19:01:15.422Z"
   },
   {
    "duration": 11,
    "start_time": "2023-10-07T19:09:54.370Z"
   },
   {
    "duration": 3,
    "start_time": "2023-10-07T19:11:07.941Z"
   },
   {
    "duration": 153,
    "start_time": "2023-10-07T19:11:38.488Z"
   },
   {
    "duration": 139,
    "start_time": "2023-10-07T19:12:33.379Z"
   },
   {
    "duration": 130,
    "start_time": "2023-10-07T19:13:23.358Z"
   },
   {
    "duration": 6,
    "start_time": "2023-10-07T19:14:44.844Z"
   },
   {
    "duration": 156,
    "start_time": "2023-10-07T19:14:45.301Z"
   },
   {
    "duration": 101,
    "start_time": "2023-10-07T19:15:43.152Z"
   },
   {
    "duration": 305,
    "start_time": "2023-10-07T19:15:47.292Z"
   },
   {
    "duration": 7,
    "start_time": "2023-10-07T19:18:46.844Z"
   },
   {
    "duration": 4,
    "start_time": "2023-10-07T19:51:44.472Z"
   },
   {
    "duration": 2077,
    "start_time": "2023-10-07T19:53:42.026Z"
   },
   {
    "duration": 4,
    "start_time": "2023-10-07T19:53:44.105Z"
   },
   {
    "duration": 46,
    "start_time": "2023-10-07T19:53:44.123Z"
   },
   {
    "duration": 46,
    "start_time": "2023-10-07T19:53:44.171Z"
   },
   {
    "duration": 973,
    "start_time": "2023-10-07T19:53:44.219Z"
   },
   {
    "duration": 3,
    "start_time": "2023-10-07T19:53:45.194Z"
   },
   {
    "duration": 6,
    "start_time": "2023-10-07T19:53:45.199Z"
   },
   {
    "duration": 26,
    "start_time": "2023-10-07T19:53:45.206Z"
   },
   {
    "duration": 14,
    "start_time": "2023-10-07T19:53:45.235Z"
   },
   {
    "duration": 12,
    "start_time": "2023-10-07T19:53:45.250Z"
   },
   {
    "duration": 8,
    "start_time": "2023-10-07T19:53:45.265Z"
   },
   {
    "duration": 6,
    "start_time": "2023-10-07T19:53:45.274Z"
   },
   {
    "duration": 5,
    "start_time": "2023-10-07T19:53:45.281Z"
   },
   {
    "duration": 4,
    "start_time": "2023-10-07T19:53:45.288Z"
   },
   {
    "duration": 6,
    "start_time": "2023-10-07T19:53:45.294Z"
   },
   {
    "duration": 6,
    "start_time": "2023-10-07T19:53:45.301Z"
   },
   {
    "duration": 8,
    "start_time": "2023-10-07T19:53:45.309Z"
   },
   {
    "duration": 27,
    "start_time": "2023-10-07T19:53:45.319Z"
   },
   {
    "duration": 5,
    "start_time": "2023-10-07T19:53:45.348Z"
   },
   {
    "duration": 13,
    "start_time": "2023-10-07T19:53:45.355Z"
   },
   {
    "duration": 199,
    "start_time": "2023-10-07T19:53:45.370Z"
   },
   {
    "duration": 6,
    "start_time": "2023-10-07T19:53:45.571Z"
   },
   {
    "duration": 22,
    "start_time": "2023-10-07T19:53:45.579Z"
   },
   {
    "duration": 18,
    "start_time": "2023-10-07T19:53:45.603Z"
   },
   {
    "duration": 31,
    "start_time": "2023-10-07T19:53:45.623Z"
   },
   {
    "duration": 8,
    "start_time": "2023-10-07T19:53:45.655Z"
   },
   {
    "duration": 20,
    "start_time": "2023-10-07T19:53:45.668Z"
   },
   {
    "duration": 17,
    "start_time": "2023-10-07T19:53:45.690Z"
   },
   {
    "duration": 28,
    "start_time": "2023-10-07T19:53:45.708Z"
   },
   {
    "duration": 16,
    "start_time": "2023-10-07T19:53:45.738Z"
   },
   {
    "duration": 21,
    "start_time": "2023-10-07T19:53:45.756Z"
   },
   {
    "duration": 20,
    "start_time": "2023-10-07T19:53:45.779Z"
   },
   {
    "duration": 40,
    "start_time": "2023-10-07T19:53:45.801Z"
   },
   {
    "duration": 23,
    "start_time": "2023-10-07T19:53:45.844Z"
   },
   {
    "duration": 33,
    "start_time": "2023-10-07T19:53:45.870Z"
   },
   {
    "duration": 6,
    "start_time": "2023-10-07T19:53:45.905Z"
   },
   {
    "duration": 24,
    "start_time": "2023-10-07T19:53:45.913Z"
   },
   {
    "duration": 35,
    "start_time": "2023-10-07T19:53:45.939Z"
   },
   {
    "duration": 12,
    "start_time": "2023-10-07T19:53:45.976Z"
   },
   {
    "duration": 17,
    "start_time": "2023-10-07T19:53:45.990Z"
   },
   {
    "duration": 11,
    "start_time": "2023-10-07T19:53:46.008Z"
   },
   {
    "duration": 39,
    "start_time": "2023-10-07T19:53:46.021Z"
   },
   {
    "duration": 30,
    "start_time": "2023-10-07T19:53:46.061Z"
   },
   {
    "duration": 259640,
    "start_time": "2023-10-07T19:53:46.093Z"
   },
   {
    "duration": 5,
    "start_time": "2023-10-07T19:58:05.735Z"
   },
   {
    "duration": 321,
    "start_time": "2023-10-07T19:58:05.749Z"
   },
   {
    "duration": 10,
    "start_time": "2023-10-07T19:58:06.072Z"
   },
   {
    "duration": 114,
    "start_time": "2023-10-07T19:58:06.083Z"
   },
   {
    "duration": 70652,
    "start_time": "2023-10-07T19:58:06.199Z"
   },
   {
    "duration": 5,
    "start_time": "2023-10-07T19:59:16.859Z"
   },
   {
    "duration": 63699,
    "start_time": "2023-10-07T19:59:16.868Z"
   },
   {
    "duration": 0,
    "start_time": "2023-10-07T20:00:20.568Z"
   },
   {
    "duration": 0,
    "start_time": "2023-10-07T20:00:20.569Z"
   },
   {
    "duration": 0,
    "start_time": "2023-10-07T20:00:20.570Z"
   },
   {
    "duration": 0,
    "start_time": "2023-10-07T20:00:20.571Z"
   },
   {
    "duration": 0,
    "start_time": "2023-10-07T20:00:20.572Z"
   },
   {
    "duration": 0,
    "start_time": "2023-10-07T20:00:20.573Z"
   },
   {
    "duration": 0,
    "start_time": "2023-10-07T20:00:20.574Z"
   },
   {
    "duration": 0,
    "start_time": "2023-10-07T20:00:20.575Z"
   },
   {
    "duration": 0,
    "start_time": "2023-10-07T20:00:20.576Z"
   },
   {
    "duration": 0,
    "start_time": "2023-10-07T20:00:20.578Z"
   },
   {
    "duration": 0,
    "start_time": "2023-10-07T20:00:20.579Z"
   },
   {
    "duration": 0,
    "start_time": "2023-10-07T20:00:20.580Z"
   },
   {
    "duration": 0,
    "start_time": "2023-10-07T20:00:20.581Z"
   },
   {
    "duration": 0,
    "start_time": "2023-10-07T20:00:20.583Z"
   },
   {
    "duration": 0,
    "start_time": "2023-10-07T20:00:20.584Z"
   },
   {
    "duration": 0,
    "start_time": "2023-10-07T20:00:20.585Z"
   },
   {
    "duration": 0,
    "start_time": "2023-10-07T20:00:20.587Z"
   },
   {
    "duration": 0,
    "start_time": "2023-10-07T20:00:20.588Z"
   },
   {
    "duration": 0,
    "start_time": "2023-10-07T20:00:20.589Z"
   },
   {
    "duration": 3,
    "start_time": "2023-10-07T20:00:41.347Z"
   },
   {
    "duration": 39694,
    "start_time": "2023-10-07T20:00:41.352Z"
   },
   {
    "duration": 0,
    "start_time": "2023-10-07T20:01:21.050Z"
   },
   {
    "duration": 0,
    "start_time": "2023-10-07T20:01:21.051Z"
   },
   {
    "duration": 0,
    "start_time": "2023-10-07T20:01:21.053Z"
   },
   {
    "duration": 0,
    "start_time": "2023-10-07T20:01:21.054Z"
   },
   {
    "duration": 0,
    "start_time": "2023-10-07T20:01:21.056Z"
   },
   {
    "duration": 0,
    "start_time": "2023-10-07T20:01:21.057Z"
   },
   {
    "duration": 0,
    "start_time": "2023-10-07T20:01:21.058Z"
   },
   {
    "duration": 0,
    "start_time": "2023-10-07T20:01:21.060Z"
   },
   {
    "duration": 0,
    "start_time": "2023-10-07T20:01:21.061Z"
   },
   {
    "duration": 0,
    "start_time": "2023-10-07T20:01:21.062Z"
   },
   {
    "duration": 0,
    "start_time": "2023-10-07T20:01:21.064Z"
   },
   {
    "duration": 0,
    "start_time": "2023-10-07T20:01:21.065Z"
   },
   {
    "duration": 0,
    "start_time": "2023-10-07T20:01:21.066Z"
   },
   {
    "duration": 0,
    "start_time": "2023-10-07T20:01:21.067Z"
   },
   {
    "duration": 0,
    "start_time": "2023-10-07T20:01:21.069Z"
   },
   {
    "duration": 0,
    "start_time": "2023-10-07T20:01:21.070Z"
   },
   {
    "duration": 0,
    "start_time": "2023-10-07T20:01:21.071Z"
   },
   {
    "duration": 0,
    "start_time": "2023-10-07T20:01:21.072Z"
   },
   {
    "duration": 0,
    "start_time": "2023-10-07T20:01:21.073Z"
   },
   {
    "duration": 531075,
    "start_time": "2023-10-07T20:01:25.584Z"
   },
   {
    "duration": 6,
    "start_time": "2023-10-07T20:10:16.662Z"
   },
   {
    "duration": 86,
    "start_time": "2023-10-07T20:10:16.670Z"
   },
   {
    "duration": 22,
    "start_time": "2023-10-07T20:10:16.759Z"
   },
   {
    "duration": 14,
    "start_time": "2023-10-07T20:10:16.783Z"
   },
   {
    "duration": 11,
    "start_time": "2023-10-07T20:10:16.799Z"
   },
   {
    "duration": 10,
    "start_time": "2023-10-07T20:10:16.813Z"
   },
   {
    "duration": 20,
    "start_time": "2023-10-07T20:10:16.827Z"
   },
   {
    "duration": 42,
    "start_time": "2023-10-07T20:10:16.849Z"
   },
   {
    "duration": 52,
    "start_time": "2023-10-07T20:10:16.895Z"
   },
   {
    "duration": 37,
    "start_time": "2023-10-07T20:10:16.949Z"
   },
   {
    "duration": 20,
    "start_time": "2023-10-07T20:10:16.989Z"
   },
   {
    "duration": 152056,
    "start_time": "2023-10-07T20:10:17.011Z"
   },
   {
    "duration": 6,
    "start_time": "2023-10-07T20:12:49.128Z"
   },
   {
    "duration": 23,
    "start_time": "2023-10-07T20:12:49.137Z"
   },
   {
    "duration": 289,
    "start_time": "2023-10-07T20:12:49.162Z"
   },
   {
    "duration": 3,
    "start_time": "2023-10-07T20:12:49.458Z"
   },
   {
    "duration": 219,
    "start_time": "2023-10-07T20:12:49.463Z"
   },
   {
    "duration": 0,
    "start_time": "2023-10-07T20:12:49.684Z"
   },
   {
    "duration": 0,
    "start_time": "2023-10-07T20:12:49.685Z"
   },
   {
    "duration": 143,
    "start_time": "2023-10-07T20:14:09.464Z"
   },
   {
    "duration": 4,
    "start_time": "2023-10-07T20:14:14.607Z"
   },
   {
    "duration": 139,
    "start_time": "2023-10-07T20:14:16.949Z"
   },
   {
    "duration": 13,
    "start_time": "2023-10-07T20:14:56.060Z"
   },
   {
    "duration": 13,
    "start_time": "2023-10-07T20:15:23.258Z"
   },
   {
    "duration": 119,
    "start_time": "2023-10-07T20:15:23.952Z"
   },
   {
    "duration": 5,
    "start_time": "2023-10-07T20:15:36.751Z"
   },
   {
    "duration": 13,
    "start_time": "2023-10-07T20:15:48.345Z"
   },
   {
    "duration": 4,
    "start_time": "2023-10-07T20:15:50.603Z"
   },
   {
    "duration": 7,
    "start_time": "2023-10-07T20:16:04.612Z"
   },
   {
    "duration": 13,
    "start_time": "2023-10-07T20:16:18.852Z"
   },
   {
    "duration": 4,
    "start_time": "2023-10-07T20:16:27.453Z"
   },
   {
    "duration": 3,
    "start_time": "2023-10-07T20:16:59.100Z"
   },
   {
    "duration": 4,
    "start_time": "2023-10-07T20:17:00.571Z"
   },
   {
    "duration": 161,
    "start_time": "2023-10-07T20:17:03.437Z"
   },
   {
    "duration": 4,
    "start_time": "2023-10-07T20:17:21.903Z"
   },
   {
    "duration": 4,
    "start_time": "2023-10-07T20:17:23.807Z"
   },
   {
    "duration": 3168,
    "start_time": "2023-10-08T21:07:11.354Z"
   },
   {
    "duration": 6,
    "start_time": "2023-10-08T21:07:32.271Z"
   },
   {
    "duration": 3310,
    "start_time": "2023-10-10T10:06:49.567Z"
   },
   {
    "duration": 4,
    "start_time": "2023-10-10T10:06:52.879Z"
   },
   {
    "duration": 84,
    "start_time": "2023-10-10T10:06:52.885Z"
   },
   {
    "duration": 41,
    "start_time": "2023-10-10T10:06:52.971Z"
   },
   {
    "duration": 860,
    "start_time": "2023-10-10T10:06:53.013Z"
   },
   {
    "duration": 3,
    "start_time": "2023-10-10T10:06:53.875Z"
   },
   {
    "duration": 25,
    "start_time": "2023-10-10T10:06:53.879Z"
   },
   {
    "duration": 15,
    "start_time": "2023-10-10T10:06:53.906Z"
   },
   {
    "duration": 15,
    "start_time": "2023-10-10T10:06:53.923Z"
   },
   {
    "duration": 5,
    "start_time": "2023-10-10T10:06:53.940Z"
   },
   {
    "duration": 3,
    "start_time": "2023-10-10T10:06:57.491Z"
   },
   {
    "duration": 5,
    "start_time": "2023-10-10T10:10:19.289Z"
   },
   {
    "duration": 4,
    "start_time": "2023-10-10T10:10:22.723Z"
   },
   {
    "duration": 5,
    "start_time": "2023-10-10T10:12:51.662Z"
   },
   {
    "duration": 156,
    "start_time": "2023-10-10T10:12:53.029Z"
   },
   {
    "duration": 6,
    "start_time": "2023-10-10T10:12:59.428Z"
   },
   {
    "duration": 4,
    "start_time": "2023-10-10T10:12:59.716Z"
   },
   {
    "duration": 4,
    "start_time": "2023-10-10T10:13:00.446Z"
   },
   {
    "duration": 11,
    "start_time": "2023-10-10T10:13:01.135Z"
   },
   {
    "duration": 3,
    "start_time": "2023-10-10T10:21:14.402Z"
   },
   {
    "duration": 15,
    "start_time": "2023-10-10T10:21:14.407Z"
   },
   {
    "duration": 36,
    "start_time": "2023-10-10T10:21:14.423Z"
   },
   {
    "duration": 43,
    "start_time": "2023-10-10T10:21:14.461Z"
   },
   {
    "duration": 777,
    "start_time": "2023-10-10T10:21:14.506Z"
   },
   {
    "duration": 3,
    "start_time": "2023-10-10T10:21:15.284Z"
   },
   {
    "duration": 19,
    "start_time": "2023-10-10T10:21:15.289Z"
   },
   {
    "duration": 8,
    "start_time": "2023-10-10T10:21:15.310Z"
   },
   {
    "duration": 19,
    "start_time": "2023-10-10T10:21:15.320Z"
   },
   {
    "duration": 8,
    "start_time": "2023-10-10T10:21:15.342Z"
   },
   {
    "duration": 25,
    "start_time": "2023-10-10T10:21:15.352Z"
   },
   {
    "duration": 17,
    "start_time": "2023-10-10T10:21:15.379Z"
   },
   {
    "duration": 26,
    "start_time": "2023-10-10T10:21:15.398Z"
   },
   {
    "duration": 30,
    "start_time": "2023-10-10T10:21:15.426Z"
   },
   {
    "duration": 253,
    "start_time": "2023-10-10T10:21:15.458Z"
   },
   {
    "duration": 7,
    "start_time": "2023-10-10T10:21:15.713Z"
   },
   {
    "duration": 19,
    "start_time": "2023-10-10T10:21:15.722Z"
   },
   {
    "duration": 7,
    "start_time": "2023-10-10T10:21:15.742Z"
   },
   {
    "duration": 15,
    "start_time": "2023-10-10T10:21:15.751Z"
   },
   {
    "duration": 12,
    "start_time": "2023-10-10T10:21:15.767Z"
   },
   {
    "duration": 10,
    "start_time": "2023-10-10T10:21:15.781Z"
   },
   {
    "duration": 7,
    "start_time": "2023-10-10T10:21:15.792Z"
   },
   {
    "duration": 25,
    "start_time": "2023-10-10T10:21:15.800Z"
   },
   {
    "duration": 39,
    "start_time": "2023-10-10T10:21:15.826Z"
   },
   {
    "duration": 59,
    "start_time": "2023-10-10T10:21:15.866Z"
   },
   {
    "duration": 18,
    "start_time": "2023-10-10T10:21:15.926Z"
   },
   {
    "duration": 35,
    "start_time": "2023-10-10T10:21:15.945Z"
   },
   {
    "duration": 10,
    "start_time": "2023-10-10T10:21:15.984Z"
   },
   {
    "duration": 39,
    "start_time": "2023-10-10T10:21:15.996Z"
   },
   {
    "duration": 13,
    "start_time": "2023-10-10T10:21:16.037Z"
   },
   {
    "duration": 23,
    "start_time": "2023-10-10T10:21:16.052Z"
   },
   {
    "duration": 14,
    "start_time": "2023-10-10T10:21:16.078Z"
   },
   {
    "duration": 38,
    "start_time": "2023-10-10T10:21:16.094Z"
   },
   {
    "duration": 68,
    "start_time": "2023-10-10T10:21:16.134Z"
   },
   {
    "duration": 130,
    "start_time": "2023-10-10T10:21:16.204Z"
   },
   {
    "duration": 8,
    "start_time": "2023-10-10T10:21:16.335Z"
   },
   {
    "duration": 7,
    "start_time": "2023-10-10T10:21:16.344Z"
   },
   {
    "duration": 25049,
    "start_time": "2023-10-10T10:21:16.353Z"
   },
   {
    "duration": 0,
    "start_time": "2023-10-10T10:21:41.403Z"
   },
   {
    "duration": 0,
    "start_time": "2023-10-10T10:21:41.405Z"
   },
   {
    "duration": 0,
    "start_time": "2023-10-10T10:21:41.406Z"
   },
   {
    "duration": 0,
    "start_time": "2023-10-10T10:21:41.407Z"
   },
   {
    "duration": 0,
    "start_time": "2023-10-10T10:21:41.408Z"
   },
   {
    "duration": 0,
    "start_time": "2023-10-10T10:21:41.409Z"
   },
   {
    "duration": 0,
    "start_time": "2023-10-10T10:21:41.410Z"
   },
   {
    "duration": 0,
    "start_time": "2023-10-10T10:21:41.411Z"
   },
   {
    "duration": 0,
    "start_time": "2023-10-10T10:21:41.413Z"
   },
   {
    "duration": 0,
    "start_time": "2023-10-10T10:21:41.413Z"
   },
   {
    "duration": 0,
    "start_time": "2023-10-10T10:21:41.415Z"
   },
   {
    "duration": 0,
    "start_time": "2023-10-10T10:21:41.416Z"
   },
   {
    "duration": 0,
    "start_time": "2023-10-10T10:21:41.417Z"
   },
   {
    "duration": 0,
    "start_time": "2023-10-10T10:21:41.418Z"
   },
   {
    "duration": 0,
    "start_time": "2023-10-10T10:21:41.420Z"
   },
   {
    "duration": 0,
    "start_time": "2023-10-10T10:21:41.440Z"
   },
   {
    "duration": 0,
    "start_time": "2023-10-10T10:21:41.442Z"
   },
   {
    "duration": 0,
    "start_time": "2023-10-10T10:21:41.443Z"
   },
   {
    "duration": 0,
    "start_time": "2023-10-10T10:21:41.444Z"
   },
   {
    "duration": 0,
    "start_time": "2023-10-10T10:21:41.445Z"
   },
   {
    "duration": 0,
    "start_time": "2023-10-10T10:21:41.446Z"
   },
   {
    "duration": 0,
    "start_time": "2023-10-10T10:21:41.447Z"
   },
   {
    "duration": 0,
    "start_time": "2023-10-10T10:21:41.448Z"
   },
   {
    "duration": 0,
    "start_time": "2023-10-10T10:21:41.449Z"
   },
   {
    "duration": 0,
    "start_time": "2023-10-10T10:21:41.450Z"
   },
   {
    "duration": 0,
    "start_time": "2023-10-10T10:21:41.450Z"
   },
   {
    "duration": 5,
    "start_time": "2023-10-10T10:23:07.311Z"
   },
   {
    "duration": 13,
    "start_time": "2023-10-10T10:23:07.318Z"
   },
   {
    "duration": 30,
    "start_time": "2023-10-10T10:23:07.333Z"
   },
   {
    "duration": 53,
    "start_time": "2023-10-10T10:23:07.366Z"
   },
   {
    "duration": 851,
    "start_time": "2023-10-10T10:23:07.421Z"
   },
   {
    "duration": 4,
    "start_time": "2023-10-10T10:23:08.273Z"
   },
   {
    "duration": 16,
    "start_time": "2023-10-10T10:23:08.279Z"
   },
   {
    "duration": 19,
    "start_time": "2023-10-10T10:23:08.297Z"
   },
   {
    "duration": 13,
    "start_time": "2023-10-10T10:23:08.318Z"
   },
   {
    "duration": 20,
    "start_time": "2023-10-10T10:23:08.334Z"
   },
   {
    "duration": 4,
    "start_time": "2023-10-10T10:23:08.356Z"
   },
   {
    "duration": 6,
    "start_time": "2023-10-10T10:23:08.362Z"
   },
   {
    "duration": 20,
    "start_time": "2023-10-10T10:23:08.370Z"
   },
   {
    "duration": 12,
    "start_time": "2023-10-10T10:23:08.391Z"
   },
   {
    "duration": 188,
    "start_time": "2023-10-10T10:23:08.405Z"
   },
   {
    "duration": 6,
    "start_time": "2023-10-10T10:23:08.595Z"
   },
   {
    "duration": 6,
    "start_time": "2023-10-10T10:23:08.603Z"
   },
   {
    "duration": 13,
    "start_time": "2023-10-10T10:23:08.611Z"
   },
   {
    "duration": 18,
    "start_time": "2023-10-10T10:23:08.625Z"
   },
   {
    "duration": 5,
    "start_time": "2023-10-10T10:23:08.645Z"
   },
   {
    "duration": 7,
    "start_time": "2023-10-10T10:23:08.652Z"
   },
   {
    "duration": 14,
    "start_time": "2023-10-10T10:23:08.661Z"
   },
   {
    "duration": 23,
    "start_time": "2023-10-10T10:23:08.677Z"
   },
   {
    "duration": 6,
    "start_time": "2023-10-10T10:23:08.702Z"
   },
   {
    "duration": 47,
    "start_time": "2023-10-10T10:23:08.710Z"
   },
   {
    "duration": 6,
    "start_time": "2023-10-10T10:23:08.759Z"
   },
   {
    "duration": 21,
    "start_time": "2023-10-10T10:23:08.767Z"
   },
   {
    "duration": 13,
    "start_time": "2023-10-10T10:23:08.793Z"
   },
   {
    "duration": 34,
    "start_time": "2023-10-10T10:23:08.808Z"
   },
   {
    "duration": 4,
    "start_time": "2023-10-10T10:23:08.843Z"
   },
   {
    "duration": 13,
    "start_time": "2023-10-10T10:23:08.848Z"
   },
   {
    "duration": 11,
    "start_time": "2023-10-10T10:23:08.863Z"
   },
   {
    "duration": 7,
    "start_time": "2023-10-10T10:23:08.876Z"
   },
   {
    "duration": 8,
    "start_time": "2023-10-10T10:23:08.884Z"
   },
   {
    "duration": 50,
    "start_time": "2023-10-10T10:23:08.894Z"
   },
   {
    "duration": 7,
    "start_time": "2023-10-10T10:23:08.946Z"
   },
   {
    "duration": 8,
    "start_time": "2023-10-10T10:23:08.954Z"
   },
   {
    "duration": 122678,
    "start_time": "2023-10-10T10:23:08.964Z"
   },
   {
    "duration": 4,
    "start_time": "2023-10-10T10:25:11.644Z"
   },
   {
    "duration": 245,
    "start_time": "2023-10-10T10:25:11.650Z"
   },
   {
    "duration": 6,
    "start_time": "2023-10-10T10:25:11.896Z"
   },
   {
    "duration": 36,
    "start_time": "2023-10-10T10:25:11.903Z"
   },
   {
    "duration": 31106,
    "start_time": "2023-10-10T10:25:11.941Z"
   },
   {
    "duration": 3,
    "start_time": "2023-10-10T10:25:43.050Z"
   },
   {
    "duration": 83103,
    "start_time": "2023-10-10T10:25:43.054Z"
   },
   {
    "duration": 4,
    "start_time": "2023-10-10T10:27:06.240Z"
   },
   {
    "duration": 49,
    "start_time": "2023-10-10T10:27:06.246Z"
   },
   {
    "duration": 31,
    "start_time": "2023-10-10T10:27:06.296Z"
   },
   {
    "duration": 6,
    "start_time": "2023-10-10T10:27:06.329Z"
   },
   {
    "duration": 11,
    "start_time": "2023-10-10T10:27:06.337Z"
   },
   {
    "duration": 16,
    "start_time": "2023-10-10T10:27:06.350Z"
   },
   {
    "duration": 19,
    "start_time": "2023-10-10T10:27:06.369Z"
   },
   {
    "duration": 48,
    "start_time": "2023-10-10T10:27:06.390Z"
   },
   {
    "duration": 6,
    "start_time": "2023-10-10T10:27:06.439Z"
   },
   {
    "duration": 24,
    "start_time": "2023-10-10T10:27:06.447Z"
   },
   {
    "duration": 21,
    "start_time": "2023-10-10T10:27:06.473Z"
   },
   {
    "duration": 37552,
    "start_time": "2023-10-10T10:27:06.496Z"
   },
   {
    "duration": 4,
    "start_time": "2023-10-10T10:27:44.050Z"
   },
   {
    "duration": 7,
    "start_time": "2023-10-10T10:27:44.056Z"
   },
   {
    "duration": 283,
    "start_time": "2023-10-10T10:27:44.065Z"
   },
   {
    "duration": 3,
    "start_time": "2023-10-10T10:27:44.350Z"
   },
   {
    "duration": 213,
    "start_time": "2023-10-10T10:27:44.354Z"
   },
   {
    "duration": 4,
    "start_time": "2023-10-10T10:27:44.568Z"
   },
   {
    "duration": 8,
    "start_time": "2023-10-10T10:27:44.574Z"
   },
   {
    "duration": 11,
    "start_time": "2023-10-10T10:28:33.123Z"
   },
   {
    "duration": 11,
    "start_time": "2023-10-10T10:28:40.396Z"
   },
   {
    "duration": 8,
    "start_time": "2023-10-10T10:28:46.430Z"
   },
   {
    "duration": 9,
    "start_time": "2023-10-10T10:29:21.449Z"
   },
   {
    "duration": 4,
    "start_time": "2023-10-10T10:29:29.027Z"
   },
   {
    "duration": 4,
    "start_time": "2023-10-10T10:32:37.933Z"
   },
   {
    "duration": 35,
    "start_time": "2023-10-10T10:32:37.939Z"
   },
   {
    "duration": 54,
    "start_time": "2023-10-10T10:32:37.976Z"
   },
   {
    "duration": 43,
    "start_time": "2023-10-10T10:32:38.032Z"
   },
   {
    "duration": 605,
    "start_time": "2023-10-10T10:32:38.077Z"
   },
   {
    "duration": 3,
    "start_time": "2023-10-10T10:32:38.684Z"
   },
   {
    "duration": 15,
    "start_time": "2023-10-10T10:32:38.688Z"
   },
   {
    "duration": 20,
    "start_time": "2023-10-10T10:32:38.705Z"
   },
   {
    "duration": 7,
    "start_time": "2023-10-10T10:32:38.727Z"
   },
   {
    "duration": 21,
    "start_time": "2023-10-10T10:32:38.735Z"
   },
   {
    "duration": 21,
    "start_time": "2023-10-10T10:32:38.757Z"
   },
   {
    "duration": 26,
    "start_time": "2023-10-10T10:32:38.779Z"
   },
   {
    "duration": 22,
    "start_time": "2023-10-10T10:32:38.806Z"
   },
   {
    "duration": 14,
    "start_time": "2023-10-10T10:32:38.831Z"
   },
   {
    "duration": 175,
    "start_time": "2023-10-10T10:32:38.847Z"
   },
   {
    "duration": 6,
    "start_time": "2023-10-10T10:32:39.023Z"
   },
   {
    "duration": 11,
    "start_time": "2023-10-10T10:32:39.039Z"
   },
   {
    "duration": 27,
    "start_time": "2023-10-10T10:32:39.052Z"
   },
   {
    "duration": 30,
    "start_time": "2023-10-10T10:32:39.080Z"
   },
   {
    "duration": 16,
    "start_time": "2023-10-10T10:32:39.112Z"
   },
   {
    "duration": 19,
    "start_time": "2023-10-10T10:32:39.129Z"
   },
   {
    "duration": 30,
    "start_time": "2023-10-10T10:32:39.149Z"
   },
   {
    "duration": 31,
    "start_time": "2023-10-10T10:32:39.180Z"
   },
   {
    "duration": 40,
    "start_time": "2023-10-10T10:32:39.213Z"
   },
   {
    "duration": 43,
    "start_time": "2023-10-10T10:32:39.254Z"
   },
   {
    "duration": 30,
    "start_time": "2023-10-10T10:32:39.299Z"
   },
   {
    "duration": 43,
    "start_time": "2023-10-10T10:32:39.330Z"
   },
   {
    "duration": 37,
    "start_time": "2023-10-10T10:32:39.374Z"
   },
   {
    "duration": 37,
    "start_time": "2023-10-10T10:32:39.412Z"
   },
   {
    "duration": 18,
    "start_time": "2023-10-10T10:32:39.450Z"
   },
   {
    "duration": 20,
    "start_time": "2023-10-10T10:32:39.470Z"
   },
   {
    "duration": 11,
    "start_time": "2023-10-10T10:32:39.492Z"
   },
   {
    "duration": 23,
    "start_time": "2023-10-10T10:32:39.504Z"
   },
   {
    "duration": 14,
    "start_time": "2023-10-10T10:32:39.529Z"
   },
   {
    "duration": 14,
    "start_time": "2023-10-10T10:32:39.545Z"
   },
   {
    "duration": 9,
    "start_time": "2023-10-10T10:32:39.562Z"
   },
   {
    "duration": 4,
    "start_time": "2023-10-10T10:32:50.617Z"
   },
   {
    "duration": 16,
    "start_time": "2023-10-10T10:32:53.011Z"
   },
   {
    "duration": 5,
    "start_time": "2023-10-10T10:33:17.462Z"
   },
   {
    "duration": 5,
    "start_time": "2023-10-10T10:33:19.845Z"
   },
   {
    "duration": 13511,
    "start_time": "2023-10-10T10:33:20.437Z"
   },
   {
    "duration": 13696,
    "start_time": "2023-10-10T10:33:47.969Z"
   },
   {
    "duration": 30176,
    "start_time": "2023-10-10T10:34:04.476Z"
   },
   {
    "duration": 7,
    "start_time": "2023-10-10T10:35:34.942Z"
   },
   {
    "duration": 5,
    "start_time": "2023-10-10T10:35:37.613Z"
   },
   {
    "duration": 18,
    "start_time": "2023-10-10T10:35:38.350Z"
   },
   {
    "duration": 6,
    "start_time": "2023-10-10T10:36:21.331Z"
   },
   {
    "duration": 4,
    "start_time": "2023-10-10T10:36:23.210Z"
   },
   {
    "duration": 8150,
    "start_time": "2023-10-10T10:36:23.802Z"
   },
   {
    "duration": 205686,
    "start_time": "2023-10-10T10:36:33.963Z"
   },
   {
    "duration": 3,
    "start_time": "2023-10-10T11:20:29.684Z"
   },
   {
    "duration": 198,
    "start_time": "2023-10-10T11:20:30.533Z"
   },
   {
    "duration": 7,
    "start_time": "2023-10-10T11:20:35.493Z"
   },
   {
    "duration": 6,
    "start_time": "2023-10-10T11:20:37.213Z"
   },
   {
    "duration": 15,
    "start_time": "2023-10-10T11:20:43.655Z"
   },
   {
    "duration": 11,
    "start_time": "2023-10-10T11:21:24.082Z"
   },
   {
    "duration": 8,
    "start_time": "2023-10-10T11:21:24.803Z"
   },
   {
    "duration": 27463,
    "start_time": "2023-10-10T11:21:26.091Z"
   },
   {
    "duration": 49291,
    "start_time": "2023-10-10T11:21:57.062Z"
   },
   {
    "duration": 64980,
    "start_time": "2023-10-10T11:22:51.661Z"
   },
   {
    "duration": 91953,
    "start_time": "2023-10-10T11:24:32.488Z"
   },
   {
    "duration": 25330,
    "start_time": "2023-10-10T11:28:14.520Z"
   },
   {
    "duration": 3,
    "start_time": "2023-10-10T11:29:23.434Z"
   },
   {
    "duration": 184,
    "start_time": "2023-10-10T11:29:24.224Z"
   },
   {
    "duration": 3,
    "start_time": "2023-10-10T11:29:28.784Z"
   },
   {
    "duration": 133,
    "start_time": "2023-10-10T11:29:29.562Z"
   },
   {
    "duration": 3,
    "start_time": "2023-10-10T11:29:48.916Z"
   },
   {
    "duration": 4,
    "start_time": "2023-10-10T11:29:51.965Z"
   },
   {
    "duration": 1832,
    "start_time": "2023-10-11T06:15:20.465Z"
   },
   {
    "duration": 4,
    "start_time": "2023-10-11T06:15:22.299Z"
   },
   {
    "duration": 73,
    "start_time": "2023-10-11T06:15:22.304Z"
   },
   {
    "duration": 42,
    "start_time": "2023-10-11T06:15:22.378Z"
   },
   {
    "duration": 735,
    "start_time": "2023-10-11T06:15:22.422Z"
   },
   {
    "duration": 3,
    "start_time": "2023-10-11T06:15:23.158Z"
   },
   {
    "duration": 24,
    "start_time": "2023-10-11T06:15:23.162Z"
   },
   {
    "duration": 4,
    "start_time": "2023-10-11T06:15:23.187Z"
   },
   {
    "duration": 13,
    "start_time": "2023-10-11T06:15:23.193Z"
   },
   {
    "duration": 23,
    "start_time": "2023-10-11T06:15:23.209Z"
   },
   {
    "duration": 25,
    "start_time": "2023-10-11T06:15:23.234Z"
   },
   {
    "duration": 15,
    "start_time": "2023-10-11T06:15:23.261Z"
   },
   {
    "duration": 5,
    "start_time": "2023-10-11T06:15:23.278Z"
   },
   {
    "duration": 15,
    "start_time": "2023-10-11T06:15:23.285Z"
   },
   {
    "duration": 140,
    "start_time": "2023-10-11T06:15:23.302Z"
   },
   {
    "duration": 5,
    "start_time": "2023-10-11T06:15:23.443Z"
   },
   {
    "duration": 9,
    "start_time": "2023-10-11T06:15:23.449Z"
   },
   {
    "duration": 20,
    "start_time": "2023-10-11T06:15:23.459Z"
   },
   {
    "duration": 9,
    "start_time": "2023-10-11T06:15:23.481Z"
   },
   {
    "duration": 8,
    "start_time": "2023-10-11T06:15:23.492Z"
   },
   {
    "duration": 19,
    "start_time": "2023-10-11T06:15:23.501Z"
   },
   {
    "duration": 28,
    "start_time": "2023-10-11T06:15:23.521Z"
   },
   {
    "duration": 32,
    "start_time": "2023-10-11T06:15:23.550Z"
   },
   {
    "duration": 8,
    "start_time": "2023-10-11T06:15:23.583Z"
   },
   {
    "duration": 26,
    "start_time": "2023-10-11T06:15:23.592Z"
   },
   {
    "duration": 27,
    "start_time": "2023-10-11T06:15:23.620Z"
   },
   {
    "duration": 34,
    "start_time": "2023-10-11T06:15:23.648Z"
   },
   {
    "duration": 6,
    "start_time": "2023-10-11T06:15:23.684Z"
   },
   {
    "duration": 20,
    "start_time": "2023-10-11T06:15:23.691Z"
   },
   {
    "duration": 47,
    "start_time": "2023-10-11T06:15:23.712Z"
   },
   {
    "duration": 22,
    "start_time": "2023-10-11T06:15:23.761Z"
   },
   {
    "duration": 14,
    "start_time": "2023-10-11T06:15:23.784Z"
   },
   {
    "duration": 9,
    "start_time": "2023-10-11T06:15:23.800Z"
   },
   {
    "duration": 6,
    "start_time": "2023-10-11T06:15:23.810Z"
   },
   {
    "duration": 11,
    "start_time": "2023-10-11T06:15:23.817Z"
   },
   {
    "duration": 8,
    "start_time": "2023-10-11T06:15:23.830Z"
   },
   {
    "duration": 6,
    "start_time": "2023-10-11T06:15:23.840Z"
   },
   {
    "duration": 187800,
    "start_time": "2023-10-11T06:15:32.458Z"
   },
   {
    "duration": 3,
    "start_time": "2023-10-11T06:21:52.194Z"
   },
   {
    "duration": 3,
    "start_time": "2023-10-11T06:21:59.799Z"
   },
   {
    "duration": 194,
    "start_time": "2023-10-11T06:22:00.738Z"
   },
   {
    "duration": 3,
    "start_time": "2023-10-11T06:24:22.294Z"
   },
   {
    "duration": 4,
    "start_time": "2023-10-11T06:24:23.325Z"
   },
   {
    "duration": 27,
    "start_time": "2023-10-11T06:24:27.303Z"
   },
   {
    "duration": 31,
    "start_time": "2023-10-11T06:24:29.226Z"
   },
   {
    "duration": 602,
    "start_time": "2023-10-11T06:24:33.014Z"
   },
   {
    "duration": 5,
    "start_time": "2023-10-11T06:25:16.151Z"
   },
   {
    "duration": 4,
    "start_time": "2023-10-11T06:25:41.396Z"
   },
   {
    "duration": 4,
    "start_time": "2023-10-11T06:25:55.468Z"
   },
   {
    "duration": 3,
    "start_time": "2023-10-11T06:32:09.262Z"
   },
   {
    "duration": 16,
    "start_time": "2023-10-11T06:32:09.268Z"
   },
   {
    "duration": 29,
    "start_time": "2023-10-11T06:32:09.286Z"
   },
   {
    "duration": 32,
    "start_time": "2023-10-11T06:32:09.317Z"
   },
   {
    "duration": 543,
    "start_time": "2023-10-11T06:32:09.350Z"
   },
   {
    "duration": 4,
    "start_time": "2023-10-11T06:32:09.894Z"
   },
   {
    "duration": 2,
    "start_time": "2023-10-11T06:32:09.900Z"
   },
   {
    "duration": 3,
    "start_time": "2023-10-11T06:32:09.904Z"
   },
   {
    "duration": 4,
    "start_time": "2023-10-11T06:32:09.909Z"
   },
   {
    "duration": 26,
    "start_time": "2023-10-11T06:32:09.914Z"
   },
   {
    "duration": 7,
    "start_time": "2023-10-11T06:32:09.943Z"
   },
   {
    "duration": 4,
    "start_time": "2023-10-11T06:32:09.951Z"
   },
   {
    "duration": 5,
    "start_time": "2023-10-11T06:32:09.956Z"
   },
   {
    "duration": 10,
    "start_time": "2023-10-11T06:32:09.962Z"
   },
   {
    "duration": 4,
    "start_time": "2023-10-11T06:32:09.974Z"
   },
   {
    "duration": 188,
    "start_time": "2023-10-11T06:32:09.980Z"
   },
   {
    "duration": 6,
    "start_time": "2023-10-11T06:32:10.170Z"
   },
   {
    "duration": 5,
    "start_time": "2023-10-11T06:32:10.177Z"
   },
   {
    "duration": 4,
    "start_time": "2023-10-11T06:32:10.183Z"
   },
   {
    "duration": 9,
    "start_time": "2023-10-11T06:32:10.188Z"
   },
   {
    "duration": 4,
    "start_time": "2023-10-11T06:32:10.198Z"
   },
   {
    "duration": 3,
    "start_time": "2023-10-11T06:32:10.203Z"
   },
   {
    "duration": 32,
    "start_time": "2023-10-11T06:32:10.208Z"
   },
   {
    "duration": 13,
    "start_time": "2023-10-11T06:32:10.242Z"
   },
   {
    "duration": 6,
    "start_time": "2023-10-11T06:32:10.257Z"
   },
   {
    "duration": 14,
    "start_time": "2023-10-11T06:32:10.264Z"
   },
   {
    "duration": 5,
    "start_time": "2023-10-11T06:32:10.279Z"
   },
   {
    "duration": 18,
    "start_time": "2023-10-11T06:32:10.285Z"
   },
   {
    "duration": 4,
    "start_time": "2023-10-11T06:32:10.306Z"
   },
   {
    "duration": 39,
    "start_time": "2023-10-11T06:32:10.311Z"
   },
   {
    "duration": 2,
    "start_time": "2023-10-11T06:32:10.351Z"
   },
   {
    "duration": 6,
    "start_time": "2023-10-11T06:32:10.355Z"
   },
   {
    "duration": 4,
    "start_time": "2023-10-11T06:32:10.362Z"
   },
   {
    "duration": 5,
    "start_time": "2023-10-11T06:32:10.368Z"
   },
   {
    "duration": 3,
    "start_time": "2023-10-11T06:32:10.374Z"
   },
   {
    "duration": 6,
    "start_time": "2023-10-11T06:32:10.378Z"
   },
   {
    "duration": 6,
    "start_time": "2023-10-11T06:32:10.385Z"
   },
   {
    "duration": 50,
    "start_time": "2023-10-11T06:32:10.392Z"
   },
   {
    "duration": 229704,
    "start_time": "2023-10-11T06:32:10.444Z"
   },
   {
    "duration": 8,
    "start_time": "2023-10-11T06:36:00.151Z"
   },
   {
    "duration": 59,
    "start_time": "2023-10-11T06:36:00.160Z"
   },
   {
    "duration": 306,
    "start_time": "2023-10-11T06:36:00.221Z"
   },
   {
    "duration": 141,
    "start_time": "2023-10-11T06:42:15.817Z"
   },
   {
    "duration": 7,
    "start_time": "2023-10-11T06:42:29.373Z"
   },
   {
    "duration": 7,
    "start_time": "2023-10-11T06:42:33.136Z"
   },
   {
    "duration": 13,
    "start_time": "2023-10-11T06:42:35.393Z"
   },
   {
    "duration": 90809,
    "start_time": "2023-10-11T06:43:13.352Z"
   },
   {
    "duration": 12,
    "start_time": "2023-10-11T06:46:51.037Z"
   },
   {
    "duration": 2,
    "start_time": "2023-10-11T06:46:58.899Z"
   },
   {
    "duration": 24213,
    "start_time": "2023-10-11T06:46:59.466Z"
   },
   {
    "duration": 24275,
    "start_time": "2023-10-11T06:47:43.693Z"
   },
   {
    "duration": 24055,
    "start_time": "2023-10-11T06:49:01.586Z"
   },
   {
    "duration": 3,
    "start_time": "2023-10-11T06:51:49.916Z"
   },
   {
    "duration": 16,
    "start_time": "2023-10-11T06:51:51.171Z"
   },
   {
    "duration": 15,
    "start_time": "2023-10-11T06:51:51.966Z"
   },
   {
    "duration": 3,
    "start_time": "2023-10-11T06:51:52.779Z"
   },
   {
    "duration": 5,
    "start_time": "2023-10-11T06:51:53.237Z"
   },
   {
    "duration": 3,
    "start_time": "2023-10-11T06:51:54.043Z"
   },
   {
    "duration": 4,
    "start_time": "2023-10-11T06:51:54.469Z"
   },
   {
    "duration": 14,
    "start_time": "2023-10-11T06:51:54.879Z"
   },
   {
    "duration": 6,
    "start_time": "2023-10-11T06:51:56.780Z"
   },
   {
    "duration": 4,
    "start_time": "2023-10-11T06:51:57.445Z"
   },
   {
    "duration": 3,
    "start_time": "2023-10-11T06:51:58.715Z"
   },
   {
    "duration": 32465,
    "start_time": "2023-10-11T06:53:05.597Z"
   },
   {
    "duration": 5920,
    "start_time": "2023-10-11T06:56:17.754Z"
   },
   {
    "duration": 88,
    "start_time": "2023-10-11T07:00:26.261Z"
   },
   {
    "duration": 6591,
    "start_time": "2023-10-11T07:00:37.713Z"
   },
   {
    "duration": 5868,
    "start_time": "2023-10-11T07:00:56.032Z"
   },
   {
    "duration": 3,
    "start_time": "2023-10-11T07:05:59.422Z"
   },
   {
    "duration": 123,
    "start_time": "2023-10-11T07:06:00.375Z"
   },
   {
    "duration": 4,
    "start_time": "2023-10-11T07:06:30.879Z"
   },
   {
    "duration": 120,
    "start_time": "2023-10-11T07:06:32.678Z"
   },
   {
    "duration": 4,
    "start_time": "2023-10-11T07:07:01.557Z"
   },
   {
    "duration": 9,
    "start_time": "2023-10-11T07:08:40.218Z"
   },
   {
    "duration": 8,
    "start_time": "2023-10-11T07:08:46.554Z"
   },
   {
    "duration": 8,
    "start_time": "2023-10-11T07:09:47.534Z"
   },
   {
    "duration": 10,
    "start_time": "2023-10-11T07:11:15.475Z"
   },
   {
    "duration": 4,
    "start_time": "2023-10-11T07:11:30.295Z"
   },
   {
    "duration": 7,
    "start_time": "2023-10-11T07:11:47.406Z"
   },
   {
    "duration": 204,
    "start_time": "2023-10-11T07:12:53.069Z"
   },
   {
    "duration": 92,
    "start_time": "2023-10-11T07:13:23.325Z"
   },
   {
    "duration": 122,
    "start_time": "2023-10-11T07:13:28.453Z"
   },
   {
    "duration": 131,
    "start_time": "2023-10-11T07:14:40.101Z"
   },
   {
    "duration": 110,
    "start_time": "2023-10-11T07:16:57.400Z"
   },
   {
    "duration": 126,
    "start_time": "2023-10-11T07:17:19.439Z"
   },
   {
    "duration": 149,
    "start_time": "2023-10-11T07:18:12.774Z"
   },
   {
    "duration": 130,
    "start_time": "2023-10-11T07:18:44.692Z"
   },
   {
    "duration": 140,
    "start_time": "2023-10-11T07:18:59.581Z"
   },
   {
    "duration": 129,
    "start_time": "2023-10-11T07:19:15.172Z"
   },
   {
    "duration": 5,
    "start_time": "2023-10-11T07:22:12.115Z"
   },
   {
    "duration": 4,
    "start_time": "2023-10-11T07:23:13.175Z"
   },
   {
    "duration": 190,
    "start_time": "2023-10-11T07:23:14.268Z"
   },
   {
    "duration": 9,
    "start_time": "2023-10-11T07:30:14.190Z"
   },
   {
    "duration": 3,
    "start_time": "2023-10-11T07:30:28.330Z"
   },
   {
    "duration": 3,
    "start_time": "2023-10-11T07:30:47.820Z"
   },
   {
    "duration": 1702,
    "start_time": "2023-10-11T07:31:55.828Z"
   },
   {
    "duration": 13,
    "start_time": "2023-10-11T07:31:57.532Z"
   },
   {
    "duration": 55,
    "start_time": "2023-10-11T07:31:57.546Z"
   },
   {
    "duration": 55,
    "start_time": "2023-10-11T07:31:57.603Z"
   },
   {
    "duration": 803,
    "start_time": "2023-10-11T07:31:57.659Z"
   },
   {
    "duration": 7,
    "start_time": "2023-10-11T07:31:58.464Z"
   },
   {
    "duration": 3,
    "start_time": "2023-10-11T07:31:58.472Z"
   },
   {
    "duration": 15,
    "start_time": "2023-10-11T07:31:58.476Z"
   },
   {
    "duration": 12,
    "start_time": "2023-10-11T07:31:58.492Z"
   },
   {
    "duration": 10,
    "start_time": "2023-10-11T07:31:58.507Z"
   },
   {
    "duration": 5,
    "start_time": "2023-10-11T07:31:58.518Z"
   },
   {
    "duration": 4,
    "start_time": "2023-10-11T07:31:58.525Z"
   },
   {
    "duration": 11,
    "start_time": "2023-10-11T07:31:58.531Z"
   },
   {
    "duration": 8,
    "start_time": "2023-10-11T07:31:58.543Z"
   },
   {
    "duration": 7,
    "start_time": "2023-10-11T07:31:58.552Z"
   },
   {
    "duration": 152,
    "start_time": "2023-10-11T07:31:58.561Z"
   },
   {
    "duration": 5,
    "start_time": "2023-10-11T07:31:58.714Z"
   },
   {
    "duration": 5,
    "start_time": "2023-10-11T07:31:58.720Z"
   },
   {
    "duration": 31,
    "start_time": "2023-10-11T07:31:58.726Z"
   },
   {
    "duration": 10,
    "start_time": "2023-10-11T07:31:58.759Z"
   },
   {
    "duration": 7,
    "start_time": "2023-10-11T07:31:58.771Z"
   },
   {
    "duration": 6,
    "start_time": "2023-10-11T07:31:58.779Z"
   },
   {
    "duration": 22,
    "start_time": "2023-10-11T07:31:58.786Z"
   },
   {
    "duration": 21,
    "start_time": "2023-10-11T07:31:58.810Z"
   },
   {
    "duration": 25,
    "start_time": "2023-10-11T07:31:58.832Z"
   },
   {
    "duration": 18,
    "start_time": "2023-10-11T07:31:58.858Z"
   },
   {
    "duration": 7,
    "start_time": "2023-10-11T07:31:58.878Z"
   },
   {
    "duration": 15,
    "start_time": "2023-10-11T07:31:58.889Z"
   },
   {
    "duration": 5,
    "start_time": "2023-10-11T07:31:58.906Z"
   },
   {
    "duration": 23,
    "start_time": "2023-10-11T07:31:58.912Z"
   },
   {
    "duration": 17,
    "start_time": "2023-10-11T07:31:58.936Z"
   },
   {
    "duration": 9,
    "start_time": "2023-10-11T07:31:58.955Z"
   },
   {
    "duration": 7,
    "start_time": "2023-10-11T07:31:58.966Z"
   },
   {
    "duration": 4,
    "start_time": "2023-10-11T07:31:58.975Z"
   },
   {
    "duration": 4,
    "start_time": "2023-10-11T07:31:58.980Z"
   },
   {
    "duration": 12,
    "start_time": "2023-10-11T07:31:58.985Z"
   },
   {
    "duration": 9,
    "start_time": "2023-10-11T07:31:59.001Z"
   },
   {
    "duration": 41,
    "start_time": "2023-10-11T07:31:59.011Z"
   },
   {
    "duration": 405503,
    "start_time": "2023-10-11T07:31:59.053Z"
   },
   {
    "duration": 3,
    "start_time": "2023-10-11T07:38:44.565Z"
   },
   {
    "duration": 29,
    "start_time": "2023-10-11T07:38:44.569Z"
   },
   {
    "duration": 225,
    "start_time": "2023-10-11T07:38:44.600Z"
   },
   {
    "duration": 30,
    "start_time": "2023-10-11T07:38:44.826Z"
   },
   {
    "duration": 37,
    "start_time": "2023-10-11T07:38:44.857Z"
   },
   {
    "duration": 161467,
    "start_time": "2023-10-11T07:38:44.895Z"
   },
   {
    "duration": 2,
    "start_time": "2023-10-11T07:41:26.373Z"
   },
   {
    "duration": 125,
    "start_time": "2023-10-11T07:41:26.376Z"
   },
   {
    "duration": 0,
    "start_time": "2023-10-11T07:41:26.502Z"
   },
   {
    "duration": 0,
    "start_time": "2023-10-11T07:41:26.503Z"
   },
   {
    "duration": 0,
    "start_time": "2023-10-11T07:41:26.504Z"
   },
   {
    "duration": 0,
    "start_time": "2023-10-11T07:41:26.505Z"
   },
   {
    "duration": 0,
    "start_time": "2023-10-11T07:41:26.506Z"
   },
   {
    "duration": 0,
    "start_time": "2023-10-11T07:41:26.507Z"
   },
   {
    "duration": 0,
    "start_time": "2023-10-11T07:41:26.508Z"
   },
   {
    "duration": 0,
    "start_time": "2023-10-11T07:41:26.509Z"
   },
   {
    "duration": 0,
    "start_time": "2023-10-11T07:41:26.510Z"
   },
   {
    "duration": 0,
    "start_time": "2023-10-11T07:41:26.511Z"
   },
   {
    "duration": 0,
    "start_time": "2023-10-11T07:41:26.512Z"
   },
   {
    "duration": 0,
    "start_time": "2023-10-11T07:41:26.513Z"
   },
   {
    "duration": 0,
    "start_time": "2023-10-11T07:41:26.514Z"
   },
   {
    "duration": 0,
    "start_time": "2023-10-11T07:41:26.515Z"
   },
   {
    "duration": 0,
    "start_time": "2023-10-11T07:41:26.516Z"
   },
   {
    "duration": 0,
    "start_time": "2023-10-11T07:41:26.518Z"
   },
   {
    "duration": 0,
    "start_time": "2023-10-11T07:41:26.519Z"
   },
   {
    "duration": 0,
    "start_time": "2023-10-11T07:41:26.520Z"
   },
   {
    "duration": 0,
    "start_time": "2023-10-11T07:41:26.521Z"
   },
   {
    "duration": 0,
    "start_time": "2023-10-11T07:41:26.522Z"
   },
   {
    "duration": 25509,
    "start_time": "2023-10-11T07:42:33.612Z"
   },
   {
    "duration": 5,
    "start_time": "2023-10-11T07:44:10.367Z"
   },
   {
    "duration": 27,
    "start_time": "2023-10-11T07:44:10.374Z"
   },
   {
    "duration": 17,
    "start_time": "2023-10-11T07:44:10.403Z"
   },
   {
    "duration": 8,
    "start_time": "2023-10-11T07:44:10.421Z"
   },
   {
    "duration": 4,
    "start_time": "2023-10-11T07:44:10.431Z"
   },
   {
    "duration": 11,
    "start_time": "2023-10-11T07:44:10.436Z"
   },
   {
    "duration": 11,
    "start_time": "2023-10-11T07:44:10.448Z"
   },
   {
    "duration": 13,
    "start_time": "2023-10-11T07:44:10.460Z"
   },
   {
    "duration": 5,
    "start_time": "2023-10-11T07:44:10.474Z"
   },
   {
    "duration": 5,
    "start_time": "2023-10-11T07:44:10.480Z"
   },
   {
    "duration": 4,
    "start_time": "2023-10-11T07:44:10.486Z"
   },
   {
    "duration": 5691,
    "start_time": "2023-10-11T07:44:10.491Z"
   },
   {
    "duration": 3,
    "start_time": "2023-10-11T07:44:16.183Z"
   },
   {
    "duration": 9,
    "start_time": "2023-10-11T07:44:16.189Z"
   },
   {
    "duration": 227,
    "start_time": "2023-10-11T07:44:16.200Z"
   },
   {
    "duration": 3,
    "start_time": "2023-10-11T07:44:16.428Z"
   },
   {
    "duration": 25,
    "start_time": "2023-10-11T07:44:16.432Z"
   },
   {
    "duration": 144,
    "start_time": "2023-10-11T07:44:16.458Z"
   },
   {
    "duration": 3,
    "start_time": "2023-10-11T07:44:16.604Z"
   },
   {
    "duration": 27,
    "start_time": "2023-10-11T07:44:16.609Z"
   },
   {
    "duration": 4,
    "start_time": "2023-10-11T07:46:04.966Z"
   },
   {
    "duration": 4,
    "start_time": "2023-10-11T07:46:05.689Z"
   },
   {
    "duration": 276,
    "start_time": "2023-10-11T07:46:06.903Z"
   },
   {
    "duration": 3,
    "start_time": "2023-10-11T07:46:23.397Z"
   },
   {
    "duration": 6,
    "start_time": "2023-10-11T07:46:23.917Z"
   },
   {
    "duration": 135,
    "start_time": "2023-10-11T07:46:24.990Z"
   },
   {
    "duration": 19,
    "start_time": "2023-10-11T07:46:45.838Z"
   },
   {
    "duration": 3,
    "start_time": "2023-10-11T07:46:46.821Z"
   }
  ],
  "kernelspec": {
   "display_name": "Python 3 (ipykernel)",
   "language": "python",
   "name": "python3"
  },
  "language_info": {
   "codemirror_mode": {
    "name": "ipython",
    "version": 3
   },
   "file_extension": ".py",
   "mimetype": "text/x-python",
   "name": "python",
   "nbconvert_exporter": "python",
   "pygments_lexer": "ipython3",
   "version": "3.11.4"
  },
  "toc": {
   "base_numbering": 1,
   "nav_menu": {},
   "number_sections": false,
   "sideBar": true,
   "skip_h1_title": false,
   "title_cell": "Table of Contents",
   "title_sidebar": "Contents",
   "toc_cell": false,
   "toc_position": {
    "height": "calc(100% - 180px)",
    "left": "10px",
    "top": "150px",
    "width": "207.983px"
   },
   "toc_section_display": true,
   "toc_window_display": false
  },
  "varInspector": {
   "cols": {
    "lenName": 16,
    "lenType": 16,
    "lenVar": 40
   },
   "kernels_config": {
    "python": {
     "delete_cmd_postfix": "",
     "delete_cmd_prefix": "del ",
     "library": "var_list.py",
     "varRefreshCmd": "print(var_dic_list())"
    },
    "r": {
     "delete_cmd_postfix": ") ",
     "delete_cmd_prefix": "rm(",
     "library": "var_list.r",
     "varRefreshCmd": "cat(var_dic_list()) "
    }
   },
   "types_to_exclude": [
    "module",
    "function",
    "builtin_function_or_method",
    "instance",
    "_Feature"
   ],
   "window_display": false
  }
 },
 "nbformat": 4,
 "nbformat_minor": 5
}
