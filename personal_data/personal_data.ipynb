{
 "cells": [
  {
   "cell_type": "markdown",
   "metadata": {
    "toc": true
   },
   "source": [
    "<h1>Содержание<span class=\"tocSkip\"></span></h1>\n",
    "<div class=\"toc\"><ul class=\"toc-item\"><li><span><a href=\"#Подготовка-данных-для-модели\" data-toc-modified-id=\"Подготовка-данных-для-модели-1\"><span class=\"toc-item-num\">1&nbsp;&nbsp;</span>Подготовка данных для модели</a></span></li><li><span><a href=\"#Загрузка-данных\" data-toc-modified-id=\"Загрузка-данных-2\"><span class=\"toc-item-num\">2&nbsp;&nbsp;</span>Загрузка данных</a></span><ul class=\"toc-item\"><li><span><a href=\"#Загрузка-данных\" data-toc-modified-id=\"Загрузка-данных-2.1\"><span class=\"toc-item-num\">2.1&nbsp;&nbsp;</span>Загрузка данных</a></span></li><li><span><a href=\"#Выделение-характеристик-и-целевого-признака\" data-toc-modified-id=\"Выделение-характеристик-и-целевого-признака-2.2\"><span class=\"toc-item-num\">2.2&nbsp;&nbsp;</span>Выделение характеристик и целевого признака</a></span></li><li><span><a href=\"#Вывод\" data-toc-modified-id=\"Вывод-2.3\"><span class=\"toc-item-num\">2.3&nbsp;&nbsp;</span>Вывод</a></span></li></ul></li><li><span><a href=\"#Умножение-матриц\" data-toc-modified-id=\"Умножение-матриц-3\"><span class=\"toc-item-num\">3&nbsp;&nbsp;</span>Умножение матриц</a></span></li><li><span><a href=\"#Алгоритм-преобразования\" data-toc-modified-id=\"Алгоритм-преобразования-4\"><span class=\"toc-item-num\">4&nbsp;&nbsp;</span>Алгоритм преобразования</a></span></li><li><span><a href=\"#Проверка-алгоритма\" data-toc-modified-id=\"Проверка-алгоритма-5\"><span class=\"toc-item-num\">5&nbsp;&nbsp;</span>Проверка алгоритма</a></span><ul class=\"toc-item\"><li><span><a href=\"#Создание-матриц-шифрования-и-дешифрования\" data-toc-modified-id=\"Создание-матриц-шифрования-и-дешифрования-5.1\"><span class=\"toc-item-num\">5.1&nbsp;&nbsp;</span>Создание матриц шифрования и дешифрования</a></span></li><li><span><a href=\"#Шифрование-данных\" data-toc-modified-id=\"Шифрование-данных-5.2\"><span class=\"toc-item-num\">5.2&nbsp;&nbsp;</span>Шифрование данных</a></span></li><li><span><a href=\"#Подготовка-данных-для-обучения-модели\" data-toc-modified-id=\"Подготовка-данных-для-обучения-модели-5.3\"><span class=\"toc-item-num\">5.3&nbsp;&nbsp;</span>Подготовка данных для обучения модели</a></span></li><li><span><a href=\"#Проверка-на-модели-линейной-регрессии\" data-toc-modified-id=\"Проверка-на-модели-линейной-регрессии-5.4\"><span class=\"toc-item-num\">5.4&nbsp;&nbsp;</span>Проверка на модели линейной регрессии</a></span></li><li><span><a href=\"#Проверка-на-модели-из-Scikit-Learn\" data-toc-modified-id=\"Проверка-на-модели-из-Scikit-Learn-5.5\"><span class=\"toc-item-num\">5.5&nbsp;&nbsp;</span>Проверка на модели из Scikit Learn</a></span></li><li><span><a href=\"#Вывод\" data-toc-modified-id=\"Вывод-5.6\"><span class=\"toc-item-num\">5.6&nbsp;&nbsp;</span>Вывод</a></span></li></ul></li><li><span><a href=\"#Общий-вывод\" data-toc-modified-id=\"Общий-вывод-6\"><span class=\"toc-item-num\">6&nbsp;&nbsp;</span>Общий вывод</a></span></li><li><span><a href=\"#Чек-лист-проверки\" data-toc-modified-id=\"Чек-лист-проверки-7\"><span class=\"toc-item-num\">7&nbsp;&nbsp;</span>Чек-лист проверки</a></span></li></ul></div>"
   ]
  },
  {
   "cell_type": "markdown",
   "metadata": {},
   "source": [
    "# Защита персональных данных клиентов"
   ]
  },
  {
   "cell_type": "markdown",
   "metadata": {},
   "source": [
    "Нужно защитить данные клиентов страховой компании «Хоть потоп». Разработайте такой метод преобразования данных, чтобы по ним было сложно восстановить персональную информацию. Обоснуйте корректность его работы.\n",
    "\n",
    "Нужно защитить данные, чтобы при преобразовании качество моделей машинного обучения не ухудшилось. Подбирать наилучшую модель не требуется."
   ]
  },
  {
   "cell_type": "markdown",
   "metadata": {},
   "source": [
    "# Загрузка библиотек"
   ]
  },
  {
   "cell_type": "code",
   "execution_count": 1,
   "metadata": {},
   "outputs": [],
   "source": [
    "import pandas as pd\n",
    "import numpy as np\n",
    "from sklearn.model_selection import train_test_split\n",
    "from sklearn.linear_model import LinearRegression\n",
    "from sklearn.metrics import r2_score"
   ]
  },
  {
   "cell_type": "code",
   "execution_count": 2,
   "metadata": {},
   "outputs": [],
   "source": [
    "# определим константы\n",
    "RANDOM_STATE = 12345\n",
    "np.random.seed(42)"
   ]
  },
  {
   "cell_type": "markdown",
   "metadata": {},
   "source": [
    "## Подготовка данных для модели"
   ]
  },
  {
   "cell_type": "markdown",
   "metadata": {},
   "source": [
    "## Загрузка данных"
   ]
  },
  {
   "cell_type": "markdown",
   "metadata": {},
   "source": [
    "### Загрузка данных"
   ]
  },
  {
   "cell_type": "code",
   "execution_count": 3,
   "metadata": {},
   "outputs": [],
   "source": [
    "def first_look(df, num_of_srtings=5):\n",
    "    print('Общая информация')\n",
    "    display(df.info())\n",
    "    \n",
    "    print(f'Первые {num_of_srtings} строк(и) данных')\n",
    "    display(df.head(num_of_srtings))\n",
    "    \n",
    "    print('Основные статистические характеристики данных')\n",
    "    display(df.describe())\n",
    "    print('Количество пропусков:')\n",
    "    print(df.isna().sum())\n",
    "    print()\n",
    "    \n",
    "    print('Количество дубликатов:', df.duplicated().sum())"
   ]
  },
  {
   "cell_type": "code",
   "execution_count": 4,
   "metadata": {},
   "outputs": [],
   "source": [
    "data = pd.read_csv('/datasets/insurance.csv')"
   ]
  },
  {
   "cell_type": "code",
   "execution_count": 5,
   "metadata": {},
   "outputs": [
    {
     "name": "stdout",
     "output_type": "stream",
     "text": [
      "Общая информация\n",
      "<class 'pandas.core.frame.DataFrame'>\n",
      "RangeIndex: 5000 entries, 0 to 4999\n",
      "Data columns (total 5 columns):\n",
      " #   Column             Non-Null Count  Dtype  \n",
      "---  ------             --------------  -----  \n",
      " 0   Пол                5000 non-null   int64  \n",
      " 1   Возраст            5000 non-null   float64\n",
      " 2   Зарплата           5000 non-null   float64\n",
      " 3   Члены семьи        5000 non-null   int64  \n",
      " 4   Страховые выплаты  5000 non-null   int64  \n",
      "dtypes: float64(2), int64(3)\n",
      "memory usage: 195.4 KB\n"
     ]
    },
    {
     "data": {
      "text/plain": [
       "None"
      ]
     },
     "metadata": {},
     "output_type": "display_data"
    },
    {
     "name": "stdout",
     "output_type": "stream",
     "text": [
      "Первые 5 строк(и) данных\n"
     ]
    },
    {
     "data": {
      "text/html": [
       "<div>\n",
       "<style scoped>\n",
       "    .dataframe tbody tr th:only-of-type {\n",
       "        vertical-align: middle;\n",
       "    }\n",
       "\n",
       "    .dataframe tbody tr th {\n",
       "        vertical-align: top;\n",
       "    }\n",
       "\n",
       "    .dataframe thead th {\n",
       "        text-align: right;\n",
       "    }\n",
       "</style>\n",
       "<table border=\"1\" class=\"dataframe\">\n",
       "  <thead>\n",
       "    <tr style=\"text-align: right;\">\n",
       "      <th></th>\n",
       "      <th>Пол</th>\n",
       "      <th>Возраст</th>\n",
       "      <th>Зарплата</th>\n",
       "      <th>Члены семьи</th>\n",
       "      <th>Страховые выплаты</th>\n",
       "    </tr>\n",
       "  </thead>\n",
       "  <tbody>\n",
       "    <tr>\n",
       "      <th>0</th>\n",
       "      <td>1</td>\n",
       "      <td>41.0</td>\n",
       "      <td>49600.0</td>\n",
       "      <td>1</td>\n",
       "      <td>0</td>\n",
       "    </tr>\n",
       "    <tr>\n",
       "      <th>1</th>\n",
       "      <td>0</td>\n",
       "      <td>46.0</td>\n",
       "      <td>38000.0</td>\n",
       "      <td>1</td>\n",
       "      <td>1</td>\n",
       "    </tr>\n",
       "    <tr>\n",
       "      <th>2</th>\n",
       "      <td>0</td>\n",
       "      <td>29.0</td>\n",
       "      <td>21000.0</td>\n",
       "      <td>0</td>\n",
       "      <td>0</td>\n",
       "    </tr>\n",
       "    <tr>\n",
       "      <th>3</th>\n",
       "      <td>0</td>\n",
       "      <td>21.0</td>\n",
       "      <td>41700.0</td>\n",
       "      <td>2</td>\n",
       "      <td>0</td>\n",
       "    </tr>\n",
       "    <tr>\n",
       "      <th>4</th>\n",
       "      <td>1</td>\n",
       "      <td>28.0</td>\n",
       "      <td>26100.0</td>\n",
       "      <td>0</td>\n",
       "      <td>0</td>\n",
       "    </tr>\n",
       "  </tbody>\n",
       "</table>\n",
       "</div>"
      ],
      "text/plain": [
       "   Пол  Возраст  Зарплата  Члены семьи  Страховые выплаты\n",
       "0    1     41.0   49600.0            1                  0\n",
       "1    0     46.0   38000.0            1                  1\n",
       "2    0     29.0   21000.0            0                  0\n",
       "3    0     21.0   41700.0            2                  0\n",
       "4    1     28.0   26100.0            0                  0"
      ]
     },
     "metadata": {},
     "output_type": "display_data"
    },
    {
     "name": "stdout",
     "output_type": "stream",
     "text": [
      "Основные статистические характеристики данных\n"
     ]
    },
    {
     "data": {
      "text/html": [
       "<div>\n",
       "<style scoped>\n",
       "    .dataframe tbody tr th:only-of-type {\n",
       "        vertical-align: middle;\n",
       "    }\n",
       "\n",
       "    .dataframe tbody tr th {\n",
       "        vertical-align: top;\n",
       "    }\n",
       "\n",
       "    .dataframe thead th {\n",
       "        text-align: right;\n",
       "    }\n",
       "</style>\n",
       "<table border=\"1\" class=\"dataframe\">\n",
       "  <thead>\n",
       "    <tr style=\"text-align: right;\">\n",
       "      <th></th>\n",
       "      <th>Пол</th>\n",
       "      <th>Возраст</th>\n",
       "      <th>Зарплата</th>\n",
       "      <th>Члены семьи</th>\n",
       "      <th>Страховые выплаты</th>\n",
       "    </tr>\n",
       "  </thead>\n",
       "  <tbody>\n",
       "    <tr>\n",
       "      <th>count</th>\n",
       "      <td>5000.000000</td>\n",
       "      <td>5000.000000</td>\n",
       "      <td>5000.000000</td>\n",
       "      <td>5000.000000</td>\n",
       "      <td>5000.000000</td>\n",
       "    </tr>\n",
       "    <tr>\n",
       "      <th>mean</th>\n",
       "      <td>0.499000</td>\n",
       "      <td>30.952800</td>\n",
       "      <td>39916.360000</td>\n",
       "      <td>1.194200</td>\n",
       "      <td>0.148000</td>\n",
       "    </tr>\n",
       "    <tr>\n",
       "      <th>std</th>\n",
       "      <td>0.500049</td>\n",
       "      <td>8.440807</td>\n",
       "      <td>9900.083569</td>\n",
       "      <td>1.091387</td>\n",
       "      <td>0.463183</td>\n",
       "    </tr>\n",
       "    <tr>\n",
       "      <th>min</th>\n",
       "      <td>0.000000</td>\n",
       "      <td>18.000000</td>\n",
       "      <td>5300.000000</td>\n",
       "      <td>0.000000</td>\n",
       "      <td>0.000000</td>\n",
       "    </tr>\n",
       "    <tr>\n",
       "      <th>25%</th>\n",
       "      <td>0.000000</td>\n",
       "      <td>24.000000</td>\n",
       "      <td>33300.000000</td>\n",
       "      <td>0.000000</td>\n",
       "      <td>0.000000</td>\n",
       "    </tr>\n",
       "    <tr>\n",
       "      <th>50%</th>\n",
       "      <td>0.000000</td>\n",
       "      <td>30.000000</td>\n",
       "      <td>40200.000000</td>\n",
       "      <td>1.000000</td>\n",
       "      <td>0.000000</td>\n",
       "    </tr>\n",
       "    <tr>\n",
       "      <th>75%</th>\n",
       "      <td>1.000000</td>\n",
       "      <td>37.000000</td>\n",
       "      <td>46600.000000</td>\n",
       "      <td>2.000000</td>\n",
       "      <td>0.000000</td>\n",
       "    </tr>\n",
       "    <tr>\n",
       "      <th>max</th>\n",
       "      <td>1.000000</td>\n",
       "      <td>65.000000</td>\n",
       "      <td>79000.000000</td>\n",
       "      <td>6.000000</td>\n",
       "      <td>5.000000</td>\n",
       "    </tr>\n",
       "  </tbody>\n",
       "</table>\n",
       "</div>"
      ],
      "text/plain": [
       "               Пол      Возраст      Зарплата  Члены семьи  Страховые выплаты\n",
       "count  5000.000000  5000.000000   5000.000000  5000.000000        5000.000000\n",
       "mean      0.499000    30.952800  39916.360000     1.194200           0.148000\n",
       "std       0.500049     8.440807   9900.083569     1.091387           0.463183\n",
       "min       0.000000    18.000000   5300.000000     0.000000           0.000000\n",
       "25%       0.000000    24.000000  33300.000000     0.000000           0.000000\n",
       "50%       0.000000    30.000000  40200.000000     1.000000           0.000000\n",
       "75%       1.000000    37.000000  46600.000000     2.000000           0.000000\n",
       "max       1.000000    65.000000  79000.000000     6.000000           5.000000"
      ]
     },
     "metadata": {},
     "output_type": "display_data"
    },
    {
     "name": "stdout",
     "output_type": "stream",
     "text": [
      "Количество пропусков:\n",
      "Пол                  0\n",
      "Возраст              0\n",
      "Зарплата             0\n",
      "Члены семьи          0\n",
      "Страховые выплаты    0\n",
      "dtype: int64\n",
      "\n",
      "Количество дубликатов: 153\n"
     ]
    }
   ],
   "source": [
    "first_look(data)"
   ]
  },
  {
   "cell_type": "code",
   "execution_count": 6,
   "metadata": {},
   "outputs": [
    {
     "data": {
      "text/html": [
       "<div>\n",
       "<style scoped>\n",
       "    .dataframe tbody tr th:only-of-type {\n",
       "        vertical-align: middle;\n",
       "    }\n",
       "\n",
       "    .dataframe tbody tr th {\n",
       "        vertical-align: top;\n",
       "    }\n",
       "\n",
       "    .dataframe thead th {\n",
       "        text-align: right;\n",
       "    }\n",
       "</style>\n",
       "<table border=\"1\" class=\"dataframe\">\n",
       "  <thead>\n",
       "    <tr style=\"text-align: right;\">\n",
       "      <th></th>\n",
       "      <th>Пол</th>\n",
       "      <th>Возраст</th>\n",
       "      <th>Зарплата</th>\n",
       "      <th>Члены семьи</th>\n",
       "      <th>Страховые выплаты</th>\n",
       "    </tr>\n",
       "  </thead>\n",
       "  <tbody>\n",
       "    <tr>\n",
       "      <th>281</th>\n",
       "      <td>1</td>\n",
       "      <td>39.0</td>\n",
       "      <td>48100.0</td>\n",
       "      <td>1</td>\n",
       "      <td>0</td>\n",
       "    </tr>\n",
       "    <tr>\n",
       "      <th>488</th>\n",
       "      <td>1</td>\n",
       "      <td>24.0</td>\n",
       "      <td>32900.0</td>\n",
       "      <td>1</td>\n",
       "      <td>0</td>\n",
       "    </tr>\n",
       "    <tr>\n",
       "      <th>513</th>\n",
       "      <td>0</td>\n",
       "      <td>31.0</td>\n",
       "      <td>37400.0</td>\n",
       "      <td>2</td>\n",
       "      <td>0</td>\n",
       "    </tr>\n",
       "    <tr>\n",
       "      <th>718</th>\n",
       "      <td>1</td>\n",
       "      <td>22.0</td>\n",
       "      <td>32600.0</td>\n",
       "      <td>1</td>\n",
       "      <td>0</td>\n",
       "    </tr>\n",
       "    <tr>\n",
       "      <th>785</th>\n",
       "      <td>0</td>\n",
       "      <td>20.0</td>\n",
       "      <td>35800.0</td>\n",
       "      <td>0</td>\n",
       "      <td>0</td>\n",
       "    </tr>\n",
       "  </tbody>\n",
       "</table>\n",
       "</div>"
      ],
      "text/plain": [
       "     Пол  Возраст  Зарплата  Члены семьи  Страховые выплаты\n",
       "281    1     39.0   48100.0            1                  0\n",
       "488    1     24.0   32900.0            1                  0\n",
       "513    0     31.0   37400.0            2                  0\n",
       "718    1     22.0   32600.0            1                  0\n",
       "785    0     20.0   35800.0            0                  0"
      ]
     },
     "execution_count": 6,
     "metadata": {},
     "output_type": "execute_result"
    }
   ],
   "source": [
    "data[data.duplicated()].head()"
   ]
  },
  {
   "cell_type": "markdown",
   "metadata": {},
   "source": [
    "Дубликаты не несут полезной для обучения модели информации, поэтому удалим их."
   ]
  },
  {
   "cell_type": "code",
   "execution_count": 7,
   "metadata": {},
   "outputs": [],
   "source": [
    "data = data.drop_duplicates()"
   ]
  },
  {
   "cell_type": "code",
   "execution_count": 8,
   "metadata": {},
   "outputs": [
    {
     "name": "stdout",
     "output_type": "stream",
     "text": [
      "Количество дубликатов: 0\n"
     ]
    }
   ],
   "source": [
    "print('Количество дубликатов:', data.duplicated().sum())"
   ]
  },
  {
   "cell_type": "markdown",
   "metadata": {},
   "source": [
    "### Выделение характеристик и целевого признака"
   ]
  },
  {
   "cell_type": "markdown",
   "metadata": {},
   "source": [
    "Разобьем имеющиеся данные на характеристики и целевой признак."
   ]
  },
  {
   "cell_type": "code",
   "execution_count": 9,
   "metadata": {},
   "outputs": [],
   "source": [
    "features = data.drop('Страховые выплаты', axis=1)\n",
    "target = data['Страховые выплаты']"
   ]
  },
  {
   "cell_type": "markdown",
   "metadata": {},
   "source": [
    " Проверим верность разбиения"
   ]
  },
  {
   "cell_type": "code",
   "execution_count": 10,
   "metadata": {},
   "outputs": [
    {
     "data": {
      "text/plain": [
       "((4847, 4), (4847,))"
      ]
     },
     "execution_count": 10,
     "metadata": {},
     "output_type": "execute_result"
    }
   ],
   "source": [
    "# размерности характеристик и целевого признака\n",
    "features.shape, target.shape"
   ]
  },
  {
   "cell_type": "markdown",
   "metadata": {},
   "source": [
    "### Вывод"
   ]
  },
  {
   "cell_type": "markdown",
   "metadata": {},
   "source": [
    "На этапе подготовки данных мы загрузили данные из файла '/datasets/insurance.csv'. Нам доступны данные 5000 клиентов. По каждому клиенту предоставлены значения 4х числовых характеристик.\n",
    "\n",
    "Пропуски отсутствуют. В данных найдены 153 дубликата. Дубликаты удалены.\n",
    "\n",
    "Данные разбиты на характеристики (пол, возраст, зарплата застрахованного и количество членов семьи) и целевой признак – количество страховых выплат.\n"
   ]
  },
  {
   "cell_type": "markdown",
   "metadata": {},
   "source": [
    "## Умножение матриц"
   ]
  },
  {
   "cell_type": "markdown",
   "metadata": {},
   "source": [
    "Для того, чтобы зашифровать данные клиентов, умножим матрицу признаков на обратимую квадратную матрицу, размерность которой совпадает с числом характеристик. Докажем, что такое умножение не изменит качества линейной регрессии."
   ]
  },
  {
   "cell_type": "markdown",
   "metadata": {},
   "source": [
    "Обозначения:\n",
    "\n",
    "- $X$ — матрица признаков (нулевой столбец состоит из единиц)\n",
    "\n",
    "- $y$ — вектор целевого признака\n",
    "\n",
    "- $P$ — матрица, на которую умножаются признаки\n",
    "\n",
    "- $w$ — вектор весов линейной регрессии (нулевой элемент равен сдвигу)"
   ]
  },
  {
   "cell_type": "markdown",
   "metadata": {},
   "source": [
    "Предсказания:\n",
    "\n",
    "$$\n",
    "a = Xw\n",
    "$$\n",
    "\n",
    "Задача обучения:\n",
    "\n",
    "$$\n",
    "w = \\arg\\min_w MSE(Xw, y)\n",
    "$$\n",
    "\n",
    "Формула обучения:\n",
    "\n",
    "$$\n",
    "w = (X^T X)^{-1} X^T y\n",
    "$$"
   ]
  },
  {
   "cell_type": "markdown",
   "metadata": {},
   "source": [
    "**Утверждение 1**. Качество модели линейной регрессии не изменится при умножении матрицы характеристик на обратимую матрицу, имеющую размерность, равную количеству характеристик, описывающих данные."
   ]
  },
  {
   "cell_type": "markdown",
   "metadata": {},
   "source": [
    "**Доказательство**. Для нахождения вектора весов $w$ используется нормальное уравнение, которое имеет вид:"
   ]
  },
  {
   "cell_type": "markdown",
   "metadata": {},
   "source": [
    "$$\n",
    "        X^T X w = X^T y\\label{eq1}\\tag{1}   \n",
    "$$              "
   ]
  },
  {
   "cell_type": "markdown",
   "metadata": {},
   "source": [
    "Обозначим через $Z$ матрицу, которую получаем при умножении матрицы  характеристик $X$ на обратимую матрицу $B$:\n",
    "\n",
    "$$\n",
    "Z = X B\\label{eq2}\\tag{2}\n",
    "$$"
   ]
  },
  {
   "cell_type": "markdown",
   "metadata": {},
   "source": [
    "Составим для $Z$ уравнение, аналогичное (1) и посмотрим, как его решение $\\hat w$ связано с решением $w$ уравнения (1)"
   ]
  },
  {
   "cell_type": "markdown",
   "metadata": {},
   "source": [
    "$$\n",
    "        Z^T Z \\hat w = Z^T y\\label{eq3}\\tag{3}   \n",
    "$$  "
   ]
  },
  {
   "cell_type": "markdown",
   "metadata": {},
   "source": [
    "Подставим в выражение (3) вместо $Z$ правую сторону выражения (2):"
   ]
  },
  {
   "cell_type": "markdown",
   "metadata": {},
   "source": [
    "$$\n",
    "        (X B)^T (X B) \\hat w = (X B)^T y\\label{eq4}\\tag{4}  \n",
    "$$"
   ]
  },
  {
   "cell_type": "markdown",
   "metadata": {},
   "source": [
    "Справедлива следующая теорема: транспонирование произведения матриц равно произведению транспонированных матриц, взятых в обратном порядке, то есть"
   ]
  },
  {
   "cell_type": "markdown",
   "metadata": {},
   "source": [
    "$$\n",
    "(X B)^T = B^T X^T\n",
    "$$"
   ]
  },
  {
   "cell_type": "markdown",
   "metadata": {},
   "source": [
    "Воспользуемся ею, чтобы раскрыть скобки в выражении (4)."
   ]
  },
  {
   "cell_type": "markdown",
   "metadata": {},
   "source": [
    "$$\n",
    "        B^T X^T X B \\hat w = B^T X^T y  \n",
    "$$"
   ]
  },
  {
   "cell_type": "markdown",
   "metadata": {},
   "source": [
    "Домножим обе части равенства на $(B^T)^{-1}$ слева:"
   ]
  },
  {
   "cell_type": "markdown",
   "metadata": {},
   "source": [
    "$$\n",
    "        (B^T)^{-1} B^T X^T X B \\hat w = (B^T)^{-1} B^T X^T y\n",
    "$$"
   ]
  },
  {
   "cell_type": "markdown",
   "metadata": {},
   "source": [
    "$$\n",
    "        X^T X B \\hat w = X^T y\\label{eq5}\\tag{5}  \n",
    "$$"
   ]
  },
  {
   "cell_type": "markdown",
   "metadata": {},
   "source": [
    "Сравним выражение (5) с выражением (1): $X^T X w = X^T y$"
   ]
  },
  {
   "cell_type": "markdown",
   "metadata": {},
   "source": [
    "Оба выражения имеют одинаковую структуру. Фактически, выражение (5) можно получить из (1) заменив $w$ на $B \\hat w$."
   ]
  },
  {
   "cell_type": "markdown",
   "metadata": {},
   "source": [
    "Таким образом, мы получили соотношения, которые связывают вектора весов $w$ и $\\hat w$ линейной регрессии до преобразования признаков с помощью матрицы $B$ и после:"
   ]
  },
  {
   "cell_type": "markdown",
   "metadata": {},
   "source": [
    "$$\n",
    "w = B \\hat w\\label{eq6}\\tag{6}\n",
    "$$"
   ]
  },
  {
   "cell_type": "markdown",
   "metadata": {},
   "source": [
    "$$\n",
    "\\hat w = B^{-1}  w\\label{eq7}\\tag{7}\n",
    "$$"
   ]
  },
  {
   "cell_type": "markdown",
   "metadata": {},
   "source": [
    "Выясним, как отреагируют на изменение вектора весов предсказания линейной регрессии. Вектор предсказаний рассчитывается по формуле:"
   ]
  },
  {
   "cell_type": "markdown",
   "metadata": {},
   "source": [
    "$$\n",
    "a = X w\n",
    "$$"
   ]
  },
  {
   "cell_type": "markdown",
   "metadata": {},
   "source": [
    "Посмотрим на вектор предсказаний $\\hat a = Z \\hat w$, который получается после шифрования данных пользователей по формуле (2). Подставим в это выражение $X B$ вместо $Z$ и $B^{-1}  w$ вместо $\\hat w$:"
   ]
  },
  {
   "cell_type": "markdown",
   "metadata": {},
   "source": [
    "$$\n",
    "\\hat a = Z \\hat w \\stackrel{(2)}{=} X B\\hat w \\stackrel{(7)}{=} X B B^{-1} w = X E w = X w= a\n",
    "$$"
   ]
  },
  {
   "cell_type": "markdown",
   "metadata": {},
   "source": [
    "Таким образом видим, что предсказания линейной регрессии никак не изменятся при умножении матрицы характеристик на обратимую матрицу. А следовательно, не изменится и качество модели. Что и требовалось доказать."
   ]
  },
  {
   "cell_type": "markdown",
   "metadata": {},
   "source": [
    "Выше приведено строгое доказательство утверждения 1 с помощью линейной алгебры. Его можно и более наглядно проиллюстрировать, если вспомнить геометрический смысл умножения на квадратную матрицу. Существует взаимно однозначное соответствие между квадратными матрицами $n$-го порядка и линейными преобразованиями $n$ неизвестных. Это значит, что умножая характеристики на квадратную матрицу, мы просто меняем систему координат, в которой производятся вычисления. Такое преобразования не затрагивает вычислительный алгоритм линейной регрессии."
   ]
  },
  {
   "cell_type": "markdown",
   "metadata": {},
   "source": [
    "## Алгоритм преобразования"
   ]
  },
  {
   "cell_type": "markdown",
   "metadata": {},
   "source": [
    "Основываясь на приведенных выше рассуждениях, будем реализовывать следующий алгоритм шифрования персональных данных. "
   ]
  },
  {
   "cell_type": "markdown",
   "metadata": {},
   "source": [
    "**Алгоритм шифрования данных клиентов**\n",
    "\n",
    "1.\tС помощью функции np.random.normal() сгенерируем случайную обратимую квадратную матрицу В. Размерность матрицы равна количеству характеристик (в нашем случае 4).\n",
    "2.\tУмножим матрицу характеристик на матрицу В справа.\n"
   ]
  },
  {
   "cell_type": "markdown",
   "metadata": {},
   "source": [
    "**Обоснование**\n",
    "\n",
    "Утверждение 1 позволяет нам реализовать такой алгоритм действий без ущерба для качества линейной регрессии. В то же время, внешний вид данных пользователей станет нечитаемым для человека. \n",
    "\n",
    "Матрица шифрования должна быть обратимой по двум причинам.\n",
    "\n",
    "Во-первых, потому что ее определитель должен быть отличен от нуля. Если определитель равен нулю, значит в матрице есть нулевая строка (столбец) или есть линейно зависимые строки. В результате умножения на такую матрицу мы получим матрицу тоже с нулевой строкой (столбцом) или с линейно зависимыми строками. Применительно к задаче машинного обучения это означает, что при таком шифровании возникнет мультиколлинеарность характеристик там, где их изначально не было. А это приведет к ухудшению качества модели.\n",
    "\n",
    "Во-вторых, наличие обратной матрицы позволит нам в дальнейшем восстановить начальный вид данных по зашифрованному.\n"
   ]
  },
  {
   "cell_type": "markdown",
   "metadata": {},
   "source": [
    "## Проверка алгоритма"
   ]
  },
  {
   "cell_type": "markdown",
   "metadata": {},
   "source": [
    "### Создание матриц шифрования и дешифрования"
   ]
  },
  {
   "cell_type": "code",
   "execution_count": 11,
   "metadata": {},
   "outputs": [],
   "source": [
    "def get_rand_matrix(dim):\n",
    "    '''\n",
    "    создает случайную квадратную матрицу размером dim Х dim\n",
    "    '''\n",
    "    det = 0\n",
    "    while det == 0:\n",
    "        matrix = np.random.normal(size=[dim, dim])\n",
    "        det = np.linalg.det(matrix)\n",
    "    return matrix"
   ]
  },
  {
   "cell_type": "markdown",
   "metadata": {},
   "source": [
    "Создадим случайную квадратную матрицу размерностью 4."
   ]
  },
  {
   "cell_type": "code",
   "execution_count": 12,
   "metadata": {},
   "outputs": [
    {
     "data": {
      "text/plain": [
       "array([[ 0.49671415, -0.1382643 ,  0.64768854,  1.52302986],\n",
       "       [-0.23415337, -0.23413696,  1.57921282,  0.76743473],\n",
       "       [-0.46947439,  0.54256004, -0.46341769, -0.46572975],\n",
       "       [ 0.24196227, -1.91328024, -1.72491783, -0.56228753]])"
      ]
     },
     "execution_count": 12,
     "metadata": {},
     "output_type": "execute_result"
    }
   ],
   "source": [
    "# матрица для шифрования\n",
    "B = get_rand_matrix(features.shape[1])\n",
    "B"
   ]
  },
  {
   "cell_type": "markdown",
   "metadata": {},
   "source": [
    "Cохраним обратную матрицу в отдельную переменную для последующего использования."
   ]
  },
  {
   "cell_type": "code",
   "execution_count": 13,
   "metadata": {},
   "outputs": [
    {
     "data": {
      "text/plain": [
       "array([[-0.33124857, -1.0333483 , -2.21070923, -0.47651024],\n",
       "       [ 0.12864778, -0.47781825,  0.15271687, -0.43017975],\n",
       "       [-0.51338817,  0.33588835, -0.8347692 , -0.24072429],\n",
       "       [ 0.99462192,  0.15079316,  1.08985145,  0.21872535]])"
      ]
     },
     "execution_count": 13,
     "metadata": {},
     "output_type": "execute_result"
    }
   ],
   "source": [
    "# матрица для дешифрования\n",
    "B_1 = np.linalg.inv(B)\n",
    "B_1"
   ]
  },
  {
   "cell_type": "markdown",
   "metadata": {},
   "source": [
    "### Шифрование данных"
   ]
  },
  {
   "cell_type": "markdown",
   "metadata": {},
   "source": [
    "Зашифруем данные клиентов и сохраним их в отдельную переменную."
   ]
  },
  {
   "cell_type": "code",
   "execution_count": 14,
   "metadata": {},
   "outputs": [
    {
     "name": "stdout",
     "output_type": "stream",
     "text": [
      "Размерность зашифрованных данных: (4847, 4)\n"
     ]
    },
    {
     "data": {
      "text/html": [
       "<div>\n",
       "<style scoped>\n",
       "    .dataframe tbody tr th:only-of-type {\n",
       "        vertical-align: middle;\n",
       "    }\n",
       "\n",
       "    .dataframe tbody tr th {\n",
       "        vertical-align: top;\n",
       "    }\n",
       "\n",
       "    .dataframe thead th {\n",
       "        text-align: right;\n",
       "    }\n",
       "</style>\n",
       "<table border=\"1\" class=\"dataframe\">\n",
       "  <thead>\n",
       "    <tr style=\"text-align: right;\">\n",
       "      <th></th>\n",
       "      <th>Пол</th>\n",
       "      <th>Возраст</th>\n",
       "      <th>Зарплата</th>\n",
       "      <th>Члены семьи</th>\n",
       "    </tr>\n",
       "  </thead>\n",
       "  <tbody>\n",
       "    <tr>\n",
       "      <th>0</th>\n",
       "      <td>-23294.791154</td>\n",
       "      <td>26899.327002</td>\n",
       "      <td>-22921.847067</td>\n",
       "      <td>-23067.770211</td>\n",
       "    </tr>\n",
       "    <tr>\n",
       "      <th>1</th>\n",
       "      <td>-17850.555758</td>\n",
       "      <td>20604.598076</td>\n",
       "      <td>-17538.953455</td>\n",
       "      <td>-17662.990926</td>\n",
       "    </tr>\n",
       "    <tr>\n",
       "      <th>2</th>\n",
       "      <td>-9865.752553</td>\n",
       "      <td>11386.970944</td>\n",
       "      <td>-9685.974377</td>\n",
       "      <td>-9758.069218</td>\n",
       "    </tr>\n",
       "    <tr>\n",
       "      <th>3</th>\n",
       "      <td>-19581.515190</td>\n",
       "      <td>22616.010381</td>\n",
       "      <td>-19294.804157</td>\n",
       "      <td>-19405.939170</td>\n",
       "    </tr>\n",
       "    <tr>\n",
       "      <th>4</th>\n",
       "      <td>-12259.341053</td>\n",
       "      <td>14154.123038</td>\n",
       "      <td>-12050.336135</td>\n",
       "      <td>-12132.535366</td>\n",
       "    </tr>\n",
       "  </tbody>\n",
       "</table>\n",
       "</div>"
      ],
      "text/plain": [
       "            Пол       Возраст      Зарплата   Члены семьи\n",
       "0 -23294.791154  26899.327002 -22921.847067 -23067.770211\n",
       "1 -17850.555758  20604.598076 -17538.953455 -17662.990926\n",
       "2  -9865.752553  11386.970944  -9685.974377  -9758.069218\n",
       "3 -19581.515190  22616.010381 -19294.804157 -19405.939170\n",
       "4 -12259.341053  14154.123038 -12050.336135 -12132.535366"
      ]
     },
     "execution_count": 14,
     "metadata": {},
     "output_type": "execute_result"
    }
   ],
   "source": [
    "# зашифрованные данные\n",
    "features_new = features @ B\n",
    "features_new.columns = features.columns\n",
    "print('Размерность зашифрованных данных:', features_new.shape)\n",
    "features_new.head()"
   ]
  },
  {
   "cell_type": "markdown",
   "metadata": {},
   "source": [
    "Видим, что данные изменили свой внешний вид. \n",
    "\n",
    "Интересно, что в столбце Пол теперь не два уникальных значения. Это связано с тем, что при умножении на матрицу $В$ сюда попал результат скалярного произведения всей строки на первый столбец $В$, а значит на формирование значения оказали влияние все числа строки матрицы характеристик, что и привело к совершенно разным значениям для разных клиентов. "
   ]
  },
  {
   "cell_type": "markdown",
   "metadata": {},
   "source": [
    "Проверим обратимость шифрования данных. Для этого домножим преобразованные данные на матрицу для дешифровки."
   ]
  },
  {
   "cell_type": "code",
   "execution_count": 15,
   "metadata": {},
   "outputs": [
    {
     "data": {
      "text/html": [
       "<div>\n",
       "<style scoped>\n",
       "    .dataframe tbody tr th:only-of-type {\n",
       "        vertical-align: middle;\n",
       "    }\n",
       "\n",
       "    .dataframe tbody tr th {\n",
       "        vertical-align: top;\n",
       "    }\n",
       "\n",
       "    .dataframe thead th {\n",
       "        text-align: right;\n",
       "    }\n",
       "</style>\n",
       "<table border=\"1\" class=\"dataframe\">\n",
       "  <thead>\n",
       "    <tr style=\"text-align: right;\">\n",
       "      <th></th>\n",
       "      <th>Пол</th>\n",
       "      <th>Возраст</th>\n",
       "      <th>Зарплата</th>\n",
       "      <th>Члены семьи</th>\n",
       "    </tr>\n",
       "  </thead>\n",
       "  <tbody>\n",
       "    <tr>\n",
       "      <th>0</th>\n",
       "      <td>1.000000e+00</td>\n",
       "      <td>41.0</td>\n",
       "      <td>49600.0</td>\n",
       "      <td>1.000000e+00</td>\n",
       "    </tr>\n",
       "    <tr>\n",
       "      <th>1</th>\n",
       "      <td>1.168548e-11</td>\n",
       "      <td>46.0</td>\n",
       "      <td>38000.0</td>\n",
       "      <td>1.000000e+00</td>\n",
       "    </tr>\n",
       "    <tr>\n",
       "      <th>2</th>\n",
       "      <td>4.429902e-12</td>\n",
       "      <td>29.0</td>\n",
       "      <td>21000.0</td>\n",
       "      <td>1.109661e-12</td>\n",
       "    </tr>\n",
       "    <tr>\n",
       "      <th>3</th>\n",
       "      <td>9.105370e-12</td>\n",
       "      <td>21.0</td>\n",
       "      <td>41700.0</td>\n",
       "      <td>2.000000e+00</td>\n",
       "    </tr>\n",
       "    <tr>\n",
       "      <th>4</th>\n",
       "      <td>1.000000e+00</td>\n",
       "      <td>28.0</td>\n",
       "      <td>26100.0</td>\n",
       "      <td>2.769852e-13</td>\n",
       "    </tr>\n",
       "  </tbody>\n",
       "</table>\n",
       "</div>"
      ],
      "text/plain": [
       "            Пол  Возраст  Зарплата   Члены семьи\n",
       "0  1.000000e+00     41.0   49600.0  1.000000e+00\n",
       "1  1.168548e-11     46.0   38000.0  1.000000e+00\n",
       "2  4.429902e-12     29.0   21000.0  1.109661e-12\n",
       "3  9.105370e-12     21.0   41700.0  2.000000e+00\n",
       "4  1.000000e+00     28.0   26100.0  2.769852e-13"
      ]
     },
     "execution_count": 15,
     "metadata": {},
     "output_type": "execute_result"
    }
   ],
   "source": [
    "# восстановленные данные\n",
    "decrypted = (features_new @ B_1)\n",
    "decrypted.columns = features_new.columns\n",
    "decrypted.head()"
   ]
  },
  {
   "cell_type": "code",
   "execution_count": 16,
   "metadata": {},
   "outputs": [
    {
     "data": {
      "text/html": [
       "<div>\n",
       "<style scoped>\n",
       "    .dataframe tbody tr th:only-of-type {\n",
       "        vertical-align: middle;\n",
       "    }\n",
       "\n",
       "    .dataframe tbody tr th {\n",
       "        vertical-align: top;\n",
       "    }\n",
       "\n",
       "    .dataframe thead th {\n",
       "        text-align: right;\n",
       "    }\n",
       "</style>\n",
       "<table border=\"1\" class=\"dataframe\">\n",
       "  <thead>\n",
       "    <tr style=\"text-align: right;\">\n",
       "      <th></th>\n",
       "      <th>Пол</th>\n",
       "      <th>Возраст</th>\n",
       "      <th>Зарплата</th>\n",
       "      <th>Члены семьи</th>\n",
       "    </tr>\n",
       "  </thead>\n",
       "  <tbody>\n",
       "    <tr>\n",
       "      <th>0</th>\n",
       "      <td>1.0</td>\n",
       "      <td>41.0</td>\n",
       "      <td>49600.0</td>\n",
       "      <td>1.0</td>\n",
       "    </tr>\n",
       "    <tr>\n",
       "      <th>1</th>\n",
       "      <td>0.0</td>\n",
       "      <td>46.0</td>\n",
       "      <td>38000.0</td>\n",
       "      <td>1.0</td>\n",
       "    </tr>\n",
       "    <tr>\n",
       "      <th>2</th>\n",
       "      <td>0.0</td>\n",
       "      <td>29.0</td>\n",
       "      <td>21000.0</td>\n",
       "      <td>0.0</td>\n",
       "    </tr>\n",
       "    <tr>\n",
       "      <th>3</th>\n",
       "      <td>0.0</td>\n",
       "      <td>21.0</td>\n",
       "      <td>41700.0</td>\n",
       "      <td>2.0</td>\n",
       "    </tr>\n",
       "    <tr>\n",
       "      <th>4</th>\n",
       "      <td>1.0</td>\n",
       "      <td>28.0</td>\n",
       "      <td>26100.0</td>\n",
       "      <td>0.0</td>\n",
       "    </tr>\n",
       "  </tbody>\n",
       "</table>\n",
       "</div>"
      ],
      "text/plain": [
       "   Пол  Возраст  Зарплата  Члены семьи\n",
       "0  1.0     41.0   49600.0          1.0\n",
       "1  0.0     46.0   38000.0          1.0\n",
       "2  0.0     29.0   21000.0          0.0\n",
       "3  0.0     21.0   41700.0          2.0\n",
       "4  1.0     28.0   26100.0          0.0"
      ]
     },
     "execution_count": 16,
     "metadata": {},
     "output_type": "execute_result"
    }
   ],
   "source": [
    "# округлим до целых чисел\n",
    "decrypted['Пол'] = abs(round(decrypted['Пол']))\n",
    "decrypted['Члены семьи'] = abs(round(decrypted['Члены семьи']))\n",
    "\n",
    "decrypted.head()"
   ]
  },
  {
   "cell_type": "code",
   "execution_count": 17,
   "metadata": {},
   "outputs": [
    {
     "data": {
      "text/html": [
       "<div>\n",
       "<style scoped>\n",
       "    .dataframe tbody tr th:only-of-type {\n",
       "        vertical-align: middle;\n",
       "    }\n",
       "\n",
       "    .dataframe tbody tr th {\n",
       "        vertical-align: top;\n",
       "    }\n",
       "\n",
       "    .dataframe thead th {\n",
       "        text-align: right;\n",
       "    }\n",
       "</style>\n",
       "<table border=\"1\" class=\"dataframe\">\n",
       "  <thead>\n",
       "    <tr style=\"text-align: right;\">\n",
       "      <th></th>\n",
       "      <th>Пол</th>\n",
       "      <th>Возраст</th>\n",
       "      <th>Зарплата</th>\n",
       "      <th>Члены семьи</th>\n",
       "    </tr>\n",
       "  </thead>\n",
       "  <tbody>\n",
       "    <tr>\n",
       "      <th>0</th>\n",
       "      <td>1</td>\n",
       "      <td>41.0</td>\n",
       "      <td>49600.0</td>\n",
       "      <td>1</td>\n",
       "    </tr>\n",
       "    <tr>\n",
       "      <th>1</th>\n",
       "      <td>0</td>\n",
       "      <td>46.0</td>\n",
       "      <td>38000.0</td>\n",
       "      <td>1</td>\n",
       "    </tr>\n",
       "    <tr>\n",
       "      <th>2</th>\n",
       "      <td>0</td>\n",
       "      <td>29.0</td>\n",
       "      <td>21000.0</td>\n",
       "      <td>0</td>\n",
       "    </tr>\n",
       "    <tr>\n",
       "      <th>3</th>\n",
       "      <td>0</td>\n",
       "      <td>21.0</td>\n",
       "      <td>41700.0</td>\n",
       "      <td>2</td>\n",
       "    </tr>\n",
       "    <tr>\n",
       "      <th>4</th>\n",
       "      <td>1</td>\n",
       "      <td>28.0</td>\n",
       "      <td>26100.0</td>\n",
       "      <td>0</td>\n",
       "    </tr>\n",
       "  </tbody>\n",
       "</table>\n",
       "</div>"
      ],
      "text/plain": [
       "   Пол  Возраст  Зарплата  Члены семьи\n",
       "0    1     41.0   49600.0            1\n",
       "1    0     46.0   38000.0            1\n",
       "2    0     29.0   21000.0            0\n",
       "3    0     21.0   41700.0            2\n",
       "4    1     28.0   26100.0            0"
      ]
     },
     "execution_count": 17,
     "metadata": {},
     "output_type": "execute_result"
    }
   ],
   "source": [
    "# сравним с первоначальными данными\n",
    "features.head()"
   ]
  },
  {
   "cell_type": "markdown",
   "metadata": {},
   "source": [
    "Наш алгоритм шифрования позволяет восстановить первоначальный вид данных при наличии ключа дешифровки."
   ]
  },
  {
   "cell_type": "markdown",
   "metadata": {},
   "source": [
    "### Подготовка данных для обучения модели"
   ]
  },
  {
   "cell_type": "markdown",
   "metadata": {},
   "source": [
    "Разобьем данные на две выборки – обучающую и тестовую в отношении 4 : 1."
   ]
  },
  {
   "cell_type": "code",
   "execution_count": 18,
   "metadata": {},
   "outputs": [],
   "source": [
    "features_train, features_test, \\\n",
    "features_new_train, features_new_test, \\\n",
    "target_train, target_test = train_test_split(\n",
    "    features,\n",
    "    features_new,\n",
    "    target,\n",
    "    test_size=.2,\n",
    "    random_state=RANDOM_STATE\n",
    ")"
   ]
  },
  {
   "cell_type": "code",
   "execution_count": 19,
   "metadata": {},
   "outputs": [
    {
     "data": {
      "text/plain": [
       "((3877, 4), (970, 4))"
      ]
     },
     "execution_count": 19,
     "metadata": {},
     "output_type": "execute_result"
    }
   ],
   "source": [
    "# проверка размерности\n",
    "features_train.shape, features_test.shape"
   ]
  },
  {
   "cell_type": "code",
   "execution_count": 20,
   "metadata": {},
   "outputs": [
    {
     "data": {
      "text/plain": [
       "((3877, 4), (970, 4))"
      ]
     },
     "execution_count": 20,
     "metadata": {},
     "output_type": "execute_result"
    }
   ],
   "source": [
    "# проверка размерности\n",
    "features_new_train.shape, features_new_test.shape"
   ]
  },
  {
   "cell_type": "code",
   "execution_count": 21,
   "metadata": {},
   "outputs": [
    {
     "data": {
      "text/plain": [
       "((3877,), (970,))"
      ]
     },
     "execution_count": 21,
     "metadata": {},
     "output_type": "execute_result"
    }
   ],
   "source": [
    "# проверка размерности\n",
    "target_train.shape, target_test.shape"
   ]
  },
  {
   "cell_type": "markdown",
   "metadata": {},
   "source": [
    "### Проверка на модели линейной регрессии"
   ]
  },
  {
   "cell_type": "markdown",
   "metadata": {},
   "source": [
    "Напишем класс линейной регрессии."
   ]
  },
  {
   "cell_type": "code",
   "execution_count": 22,
   "metadata": {},
   "outputs": [],
   "source": [
    "class MyLinearRegression:\n",
    "    \n",
    "    def fit(self, train_features, train_target):\n",
    "        X = np.concatenate((np.ones((train_features.shape[0], 1)), train_features), axis=1)\n",
    "        y = train_target\n",
    "        w = np.linalg.inv(X.T @ X) @ X.T @ y\n",
    "        self.w = w[1:]\n",
    "        self.w0 = w[0]\n",
    "\n",
    "    def predict(self, test_features):\n",
    "        return test_features.dot(self.w) + self.w0"
   ]
  },
  {
   "cell_type": "markdown",
   "metadata": {},
   "source": [
    "Обучим модель линейной регрессии на незашифрованных данных и вычислим для нее показатель метрики R2."
   ]
  },
  {
   "cell_type": "code",
   "execution_count": 23,
   "metadata": {},
   "outputs": [
    {
     "name": "stdout",
     "output_type": "stream",
     "text": [
      "0.4160549216151218\n"
     ]
    }
   ],
   "source": [
    "# наша модель, данные без шифрования \n",
    "model_1 = MyLinearRegression()\n",
    "model_1.fit(features_train, target_train)\n",
    "predictions = model_1.predict(features_test)\n",
    "\n",
    "# метрика R2\n",
    "r2_first = r2_score(target_test, predictions)\n",
    "print(r2_first)"
   ]
  },
  {
   "cell_type": "markdown",
   "metadata": {},
   "source": [
    "Теперь обучим модель линейной регрессии на зашифрованных данных и сравним ее показатель метрики R2 с первым результатом."
   ]
  },
  {
   "cell_type": "code",
   "execution_count": 24,
   "metadata": {},
   "outputs": [
    {
     "name": "stdout",
     "output_type": "stream",
     "text": [
      "0.41605492087348384\n"
     ]
    }
   ],
   "source": [
    "# наша модель, данные зашифрованы \n",
    "model_2 = MyLinearRegression()\n",
    "model_2.fit(features_new_train, target_train)\n",
    "predictions_new = model_2.predict(features_new_test)\n",
    "\n",
    "# метрика R2\n",
    "r2_second  = r2_score(target_test, predictions_new)\n",
    "print(r2_second)"
   ]
  },
  {
   "cell_type": "code",
   "execution_count": 25,
   "metadata": {},
   "outputs": [
    {
     "data": {
      "text/plain": [
       "'0.0000000007'"
      ]
     },
     "execution_count": 25,
     "metadata": {},
     "output_type": "execute_result"
    }
   ],
   "source": [
    "f'{r2_first - r2_second:0.10f}'"
   ]
  },
  {
   "cell_type": "markdown",
   "metadata": {},
   "source": [
    "Видим, что метрики практически совпадают. Разница появляется только в 10ом знаке после запятой."
   ]
  },
  {
   "cell_type": "markdown",
   "metadata": {},
   "source": [
    "Посмотрим на веса моделей и выясним, выполняется ли соотношение (7) из доказательства утверждения 1."
   ]
  },
  {
   "cell_type": "code",
   "execution_count": 26,
   "metadata": {},
   "outputs": [
    {
     "data": {
      "text/plain": [
       "array([ 1.52535832e-02,  3.64619543e-02,  1.79690961e-07, -1.41285669e-02])"
      ]
     },
     "execution_count": 26,
     "metadata": {},
     "output_type": "execute_result"
    }
   ],
   "source": [
    "# веса модели без шифрования\n",
    "model_1.w"
   ]
  },
  {
   "cell_type": "code",
   "execution_count": 27,
   "metadata": {},
   "outputs": [
    {
     "data": {
      "text/plain": [
       "array([-0.03599862, -0.009382  ,  0.00781707,  0.01757968])"
      ]
     },
     "execution_count": 27,
     "metadata": {},
     "output_type": "execute_result"
    }
   ],
   "source": [
    "# веса модели на зашифрованных данных\n",
    "model_2.w"
   ]
  },
  {
   "cell_type": "code",
   "execution_count": 28,
   "metadata": {},
   "outputs": [
    {
     "data": {
      "text/plain": [
       "array([-0.03599862, -0.009382  ,  0.00781708,  0.01757968])"
      ]
     },
     "execution_count": 28,
     "metadata": {},
     "output_type": "execute_result"
    }
   ],
   "source": [
    "# домножим слева веса без шифрования на матрицу, обратную к В\n",
    "B_1 @ model_1.w"
   ]
  },
  {
   "attachments": {},
   "cell_type": "markdown",
   "metadata": {},
   "source": [
    "Видим, что соотношение (7) выполняется."
   ]
  },
  {
   "cell_type": "markdown",
   "metadata": {},
   "source": [
    "### Проверка на модели из Scikit Learn"
   ]
  },
  {
   "cell_type": "markdown",
   "metadata": {},
   "source": [
    "Проведем аналогичную проверку для модели линейной регрессии из Scikit Learn."
   ]
  },
  {
   "cell_type": "code",
   "execution_count": 29,
   "metadata": {},
   "outputs": [
    {
     "name": "stdout",
     "output_type": "stream",
     "text": [
      "0.4160549216151235\n"
     ]
    }
   ],
   "source": [
    "# модель из Scikit Learn, данные без шифрования\n",
    "model_3 = LinearRegression()\n",
    "model_3.fit(features_train, target_train)\n",
    "predictions_3 = model_3.predict(features_test)\n",
    "\n",
    "# метрика R2\n",
    "r2_third = r2_score(target_test, predictions_3)\n",
    "print(r2_third)"
   ]
  },
  {
   "cell_type": "code",
   "execution_count": 30,
   "metadata": {},
   "outputs": [
    {
     "name": "stdout",
     "output_type": "stream",
     "text": [
      "0.41605492161522994\n"
     ]
    }
   ],
   "source": [
    "# модель из Scikit Learn, данные зашифрованы\n",
    "model_4 = LinearRegression()\n",
    "model_4.fit(features_new_train, target_train)\n",
    "predictions_4 = model_4.predict(features_new_test)\n",
    "\n",
    "# метрика R2\n",
    "r2_fourth = r2_score(target_test, predictions_4)\n",
    "print(r2_fourth)"
   ]
  },
  {
   "cell_type": "code",
   "execution_count": 31,
   "metadata": {},
   "outputs": [
    {
     "data": {
      "text/plain": [
       "'-0.00000000000011'"
      ]
     },
     "execution_count": 31,
     "metadata": {},
     "output_type": "execute_result"
    }
   ],
   "source": [
    "f'{r2_third - r2_fourth:0.14f}'"
   ]
  },
  {
   "cell_type": "markdown",
   "metadata": {},
   "source": [
    "Метрики также совладают, разница появляется в 13ом знаке после запятой."
   ]
  },
  {
   "cell_type": "code",
   "execution_count": 32,
   "metadata": {},
   "outputs": [
    {
     "data": {
      "text/plain": [
       "array([ 1.52535832e-02,  3.64619543e-02,  1.79690961e-07, -1.41285669e-02])"
      ]
     },
     "execution_count": 32,
     "metadata": {},
     "output_type": "execute_result"
    }
   ],
   "source": [
    "# веса модели без шифрования\n",
    "model_3.coef_"
   ]
  },
  {
   "cell_type": "code",
   "execution_count": 33,
   "metadata": {},
   "outputs": [
    {
     "data": {
      "text/plain": [
       "array([-0.03599862, -0.009382  ,  0.00781708,  0.01757968])"
      ]
     },
     "execution_count": 33,
     "metadata": {},
     "output_type": "execute_result"
    }
   ],
   "source": [
    "# веса модели на зашифрованных данных\n",
    "model_4.coef_"
   ]
  },
  {
   "cell_type": "code",
   "execution_count": 34,
   "metadata": {},
   "outputs": [
    {
     "data": {
      "text/plain": [
       "array([-0.03599862, -0.009382  ,  0.00781708,  0.01757968])"
      ]
     },
     "execution_count": 34,
     "metadata": {},
     "output_type": "execute_result"
    }
   ],
   "source": [
    "# домножим слева веса без шифрования на матрицу, обратную к В\n",
    "np.linalg.inv(B) @ model_3.coef_"
   ]
  },
  {
   "cell_type": "markdown",
   "metadata": {},
   "source": [
    "Видим, что соотношение (7) также выполняется."
   ]
  },
  {
   "cell_type": "markdown",
   "metadata": {},
   "source": [
    "### Вывод"
   ]
  },
  {
   "cell_type": "markdown",
   "metadata": {},
   "source": [
    "На этапе проверки влияния алгоритма шифрования на точность моделей линейной регрессии мы работали с моделью, написанной с использованием аналитического решения нормального уравнения, и с моделью из библиотеки Scikit Learn. \n",
    "\n",
    "Для каждой модели провели обучение на зашифрованных и незашифрованных данных и вычислили значение материки R2. В обоих случаях значения материк совпали. Расхождение появляется после 15го знака после запятой. Скорее всего, оно связано с вычислительной погрешностью при работе с действительными числами.\n",
    "\n",
    "Также были проверены соотношения весов моделей, полученные в ходе доказательства утверждения 1. Они также выполняются, причем для моделей из библиотеки Scikit Learn без погрешностей.\n"
   ]
  },
  {
   "cell_type": "markdown",
   "metadata": {},
   "source": [
    "## Общий вывод"
   ]
  },
  {
   "cell_type": "markdown",
   "metadata": {},
   "source": [
    "Перед нами **стоит задача зашифровать данные клиентов** страховой компании «Хоть потоп» так, чтобы по ним было сложно восстановить персональную информацию, и при этом не ухудшилось качество предсказаний модели линейной регрессии.\n",
    "\n",
    "Нам **доступны данные 5000 клиентов**. По каждому клиенту предоставлены значения 4х числовых характеристик (пол, возраст, зарплата застрахованного и количество членов семьи). Целевой признак для модели – количество страховых выплат. Пропуски отсутствуют. В данных найдены дубликаты.\n",
    "\n",
    "На этапе подготовки данных дубликаты удалены. Данные разбиты на характеристики и целевой признак.\n",
    "\n",
    "**Для шифрования** персональных данных решено **матрицу признаков умножить на обратимую квадратную матрицу**, размерность которой совпадает с числом характеристик. \n",
    "\n",
    "Для подтверждения допустимости такого преобразования признаков мы математически **доказали** следующее **утверждение**:  \n",
    "\n",
    "Качество модели линейной регрессии не изменится при умножении матрицы характеристик на обратимую матрицу, имеющую размерность, равную количеству характеристик, описывающих данные.\n",
    "\n",
    "В процессе доказательства были **выведены соотношения**, которые показывают, **как соотносятся между собой векторы весов моделей обученных с применением шифрования и без него**:\n",
    "\n",
    "$$\n",
    "w = B \\hat w\n",
    "$$\n",
    "\n",
    "$$\n",
    "\\hat w = B^{-1}  w\n",
    "$$\n",
    "\n",
    "На этапе вычислительной **проверки влияния алгоритма шифрования на точность моделей линейной регрессии** мы работали с моделью, написанной с использованием аналитического решения нормального уравнения, и с моделью из библиотеки Scikit Learn. \n",
    "\n",
    "Для каждой модели провели обучение на зашифрованных и незашифрованных данных и вычислили значение материки R2. В обоих случаях **значения материк совпали**. Расхождение появляется после 14го знака после запятой. \n",
    "\n",
    "Были проверены **соотношения весов моделей**, полученные в ходе доказательства утверждения. Они также **выполняются**, причем для моделей из библиотеки Scikit Learn без погрешностей."
   ]
  },
  {
   "cell_type": "code",
   "execution_count": null,
   "metadata": {},
   "outputs": [],
   "source": []
  }
 ],
 "metadata": {
  "ExecuteTimeLog": [
   {
    "duration": 423,
    "start_time": "2023-07-25T07:34:51.160Z"
   },
   {
    "duration": 68,
    "start_time": "2023-07-25T07:35:27.861Z"
   },
   {
    "duration": 9,
    "start_time": "2023-07-25T07:35:35.005Z"
   },
   {
    "duration": 7,
    "start_time": "2023-07-25T07:35:39.759Z"
   },
   {
    "duration": 141,
    "start_time": "2023-07-25T07:35:45.143Z"
   },
   {
    "duration": 78,
    "start_time": "2023-07-25T07:35:53.760Z"
   },
   {
    "duration": 14,
    "start_time": "2023-07-25T07:36:08.817Z"
   },
   {
    "duration": 4,
    "start_time": "2023-07-25T07:40:22.022Z"
   },
   {
    "duration": 24,
    "start_time": "2023-07-25T07:40:30.416Z"
   },
   {
    "duration": 4,
    "start_time": "2023-07-25T07:40:47.305Z"
   },
   {
    "duration": 17,
    "start_time": "2023-07-25T07:40:50.791Z"
   },
   {
    "duration": 37,
    "start_time": "2023-07-25T07:41:32.473Z"
   },
   {
    "duration": 19,
    "start_time": "2023-07-25T07:41:35.759Z"
   },
   {
    "duration": 9,
    "start_time": "2023-07-25T07:42:04.443Z"
   },
   {
    "duration": 12,
    "start_time": "2023-07-25T07:42:09.701Z"
   },
   {
    "duration": 13,
    "start_time": "2023-07-25T07:49:10.420Z"
   },
   {
    "duration": 10,
    "start_time": "2023-07-25T07:49:16.878Z"
   },
   {
    "duration": 8,
    "start_time": "2023-07-25T07:49:22.013Z"
   },
   {
    "duration": 5,
    "start_time": "2023-07-25T07:50:01.738Z"
   },
   {
    "duration": 17,
    "start_time": "2023-07-25T07:50:09.211Z"
   },
   {
    "duration": 8,
    "start_time": "2023-07-25T07:50:36.416Z"
   },
   {
    "duration": 6,
    "start_time": "2023-07-25T07:50:41.951Z"
   },
   {
    "duration": 6,
    "start_time": "2023-07-25T11:07:03.768Z"
   },
   {
    "duration": 23,
    "start_time": "2023-07-25T11:11:05.547Z"
   },
   {
    "duration": 7,
    "start_time": "2023-07-25T11:11:25.170Z"
   },
   {
    "duration": 942,
    "start_time": "2023-07-25T11:13:15.363Z"
   },
   {
    "duration": 15,
    "start_time": "2023-07-25T11:14:31.868Z"
   },
   {
    "duration": 6,
    "start_time": "2023-07-25T11:16:44.508Z"
   },
   {
    "duration": 6,
    "start_time": "2023-07-25T11:17:12.869Z"
   },
   {
    "duration": 148,
    "start_time": "2023-07-25T11:32:10.549Z"
   },
   {
    "duration": 7,
    "start_time": "2023-07-25T11:32:29.128Z"
   },
   {
    "duration": 29,
    "start_time": "2023-07-25T11:32:30.543Z"
   },
   {
    "duration": 6,
    "start_time": "2023-07-25T11:32:52.226Z"
   },
   {
    "duration": 5,
    "start_time": "2023-07-25T11:33:45.610Z"
   },
   {
    "duration": 6,
    "start_time": "2023-07-25T11:34:10.218Z"
   },
   {
    "duration": 15,
    "start_time": "2023-07-25T11:34:17.016Z"
   },
   {
    "duration": 18,
    "start_time": "2023-07-25T11:34:27.940Z"
   },
   {
    "duration": 5,
    "start_time": "2023-07-25T11:35:51.638Z"
   },
   {
    "duration": 12,
    "start_time": "2023-07-25T11:35:53.435Z"
   },
   {
    "duration": 5,
    "start_time": "2023-07-25T11:36:46.939Z"
   },
   {
    "duration": 13,
    "start_time": "2023-07-25T11:36:48.364Z"
   },
   {
    "duration": 17,
    "start_time": "2023-07-25T11:38:37.312Z"
   },
   {
    "duration": 4,
    "start_time": "2023-07-25T11:38:41.329Z"
   },
   {
    "duration": 13,
    "start_time": "2023-07-25T11:38:42.353Z"
   },
   {
    "duration": 19,
    "start_time": "2023-07-25T11:38:46.330Z"
   },
   {
    "duration": 5,
    "start_time": "2023-07-25T11:38:55.322Z"
   },
   {
    "duration": 5,
    "start_time": "2023-07-25T11:39:14.202Z"
   },
   {
    "duration": 15,
    "start_time": "2023-07-25T11:39:20.933Z"
   },
   {
    "duration": 20,
    "start_time": "2023-07-25T11:39:54.146Z"
   },
   {
    "duration": 5,
    "start_time": "2023-07-25T11:40:17.131Z"
   },
   {
    "duration": 6,
    "start_time": "2023-07-25T11:40:22.107Z"
   },
   {
    "duration": 15,
    "start_time": "2023-07-25T11:40:37.795Z"
   },
   {
    "duration": 3,
    "start_time": "2023-07-25T11:40:56.113Z"
   },
   {
    "duration": 11,
    "start_time": "2023-07-25T11:41:03.268Z"
   },
   {
    "duration": 56,
    "start_time": "2023-07-25T11:41:31.296Z"
   },
   {
    "duration": 12,
    "start_time": "2023-07-25T11:42:34.991Z"
   },
   {
    "duration": 8,
    "start_time": "2023-07-25T11:42:38.760Z"
   },
   {
    "duration": 20,
    "start_time": "2023-07-25T11:42:38.771Z"
   },
   {
    "duration": 78,
    "start_time": "2023-07-25T11:42:38.794Z"
   },
   {
    "duration": 19,
    "start_time": "2023-07-25T11:42:38.875Z"
   },
   {
    "duration": 16,
    "start_time": "2023-07-25T11:42:38.896Z"
   },
   {
    "duration": 23,
    "start_time": "2023-07-25T11:42:38.914Z"
   },
   {
    "duration": 47,
    "start_time": "2023-07-25T11:42:38.939Z"
   },
   {
    "duration": 14,
    "start_time": "2023-07-25T11:42:38.989Z"
   },
   {
    "duration": 16,
    "start_time": "2023-07-25T11:42:39.006Z"
   },
   {
    "duration": 11,
    "start_time": "2023-07-25T11:42:39.024Z"
   },
   {
    "duration": 42,
    "start_time": "2023-07-25T11:42:39.038Z"
   },
   {
    "duration": 85,
    "start_time": "2023-07-25T11:42:39.082Z"
   },
   {
    "duration": 107,
    "start_time": "2023-07-25T11:42:39.170Z"
   },
   {
    "duration": 83,
    "start_time": "2023-07-25T11:42:39.279Z"
   },
   {
    "duration": 91,
    "start_time": "2023-07-25T11:42:39.364Z"
   },
   {
    "duration": 20,
    "start_time": "2023-07-25T11:42:39.457Z"
   },
   {
    "duration": 29,
    "start_time": "2023-07-25T11:42:39.480Z"
   },
   {
    "duration": 55,
    "start_time": "2023-07-25T11:42:39.511Z"
   },
   {
    "duration": 4,
    "start_time": "2023-07-25T11:42:46.268Z"
   },
   {
    "duration": 5,
    "start_time": "2023-07-25T11:43:37.316Z"
   },
   {
    "duration": 9,
    "start_time": "2023-07-25T11:45:02.050Z"
   },
   {
    "duration": 55,
    "start_time": "2023-07-25T11:45:02.061Z"
   },
   {
    "duration": 109,
    "start_time": "2023-07-25T11:45:02.118Z"
   },
   {
    "duration": 39,
    "start_time": "2023-07-25T11:45:02.230Z"
   },
   {
    "duration": 63,
    "start_time": "2023-07-25T11:45:02.276Z"
   },
   {
    "duration": 37,
    "start_time": "2023-07-25T11:45:02.341Z"
   },
   {
    "duration": 58,
    "start_time": "2023-07-25T11:45:02.382Z"
   },
   {
    "duration": 43,
    "start_time": "2023-07-25T11:45:02.442Z"
   },
   {
    "duration": 43,
    "start_time": "2023-07-25T11:45:02.487Z"
   },
   {
    "duration": 46,
    "start_time": "2023-07-25T11:45:02.534Z"
   },
   {
    "duration": 35,
    "start_time": "2023-07-25T11:45:02.582Z"
   },
   {
    "duration": 201,
    "start_time": "2023-07-25T11:45:02.619Z"
   },
   {
    "duration": 52,
    "start_time": "2023-07-25T11:45:02.823Z"
   },
   {
    "duration": 89,
    "start_time": "2023-07-25T11:45:02.878Z"
   },
   {
    "duration": 112,
    "start_time": "2023-07-25T11:45:02.970Z"
   },
   {
    "duration": 46,
    "start_time": "2023-07-25T11:45:03.085Z"
   },
   {
    "duration": 49,
    "start_time": "2023-07-25T11:45:03.132Z"
   },
   {
    "duration": 87,
    "start_time": "2023-07-25T11:45:03.183Z"
   },
   {
    "duration": 107,
    "start_time": "2023-07-25T11:45:03.276Z"
   },
   {
    "duration": 5,
    "start_time": "2023-07-25T11:45:13.999Z"
   },
   {
    "duration": 5,
    "start_time": "2023-07-25T11:45:24.770Z"
   },
   {
    "duration": 10,
    "start_time": "2023-07-25T11:45:54.373Z"
   },
   {
    "duration": 62,
    "start_time": "2023-07-25T12:30:59.528Z"
   },
   {
    "duration": 179,
    "start_time": "2023-07-25T12:31:24.409Z"
   },
   {
    "duration": 4,
    "start_time": "2023-07-25T12:40:13.942Z"
   },
   {
    "duration": 139,
    "start_time": "2023-07-25T12:40:14.743Z"
   },
   {
    "duration": 48,
    "start_time": "2023-07-25T12:40:26.903Z"
   },
   {
    "duration": 11,
    "start_time": "2023-07-25T12:40:26.957Z"
   },
   {
    "duration": 34,
    "start_time": "2023-07-25T12:40:26.974Z"
   },
   {
    "duration": 23,
    "start_time": "2023-07-25T12:40:27.010Z"
   },
   {
    "duration": 13,
    "start_time": "2023-07-25T12:40:27.036Z"
   },
   {
    "duration": 17,
    "start_time": "2023-07-25T12:40:27.051Z"
   },
   {
    "duration": 25,
    "start_time": "2023-07-25T12:40:27.074Z"
   },
   {
    "duration": 22,
    "start_time": "2023-07-25T12:40:27.101Z"
   },
   {
    "duration": 27,
    "start_time": "2023-07-25T12:40:27.125Z"
   },
   {
    "duration": 26,
    "start_time": "2023-07-25T12:40:27.158Z"
   },
   {
    "duration": 14,
    "start_time": "2023-07-25T12:40:27.186Z"
   },
   {
    "duration": 166,
    "start_time": "2023-07-25T12:40:27.201Z"
   },
   {
    "duration": 23,
    "start_time": "2023-07-25T12:40:27.369Z"
   },
   {
    "duration": 66,
    "start_time": "2023-07-25T12:40:27.397Z"
   },
   {
    "duration": 85,
    "start_time": "2023-07-25T12:40:27.470Z"
   },
   {
    "duration": 26,
    "start_time": "2023-07-25T12:40:27.556Z"
   },
   {
    "duration": 22,
    "start_time": "2023-07-25T12:40:27.584Z"
   },
   {
    "duration": 23,
    "start_time": "2023-07-25T12:40:27.608Z"
   },
   {
    "duration": 130,
    "start_time": "2023-07-25T12:40:27.633Z"
   },
   {
    "duration": 24,
    "start_time": "2023-07-25T12:40:27.765Z"
   },
   {
    "duration": 7,
    "start_time": "2023-07-25T12:40:27.791Z"
   },
   {
    "duration": 19,
    "start_time": "2023-07-25T12:40:27.800Z"
   },
   {
    "duration": 4,
    "start_time": "2023-07-25T12:40:30.667Z"
   },
   {
    "duration": 45,
    "start_time": "2023-07-25T12:40:31.432Z"
   },
   {
    "duration": 4,
    "start_time": "2023-07-25T12:40:43.000Z"
   },
   {
    "duration": 12,
    "start_time": "2023-07-25T12:41:32.534Z"
   },
   {
    "duration": 12,
    "start_time": "2023-07-25T12:41:44.508Z"
   },
   {
    "duration": 4,
    "start_time": "2023-07-25T12:42:09.528Z"
   },
   {
    "duration": 5,
    "start_time": "2023-07-25T12:44:27.420Z"
   },
   {
    "duration": 6,
    "start_time": "2023-07-25T12:44:31.078Z"
   },
   {
    "duration": 5,
    "start_time": "2023-07-25T12:44:33.573Z"
   },
   {
    "duration": 6,
    "start_time": "2023-07-25T12:44:39.508Z"
   },
   {
    "duration": 6,
    "start_time": "2023-07-25T13:21:08.811Z"
   },
   {
    "duration": 6,
    "start_time": "2023-07-25T13:21:26.038Z"
   },
   {
    "duration": 20,
    "start_time": "2023-07-25T13:21:50.464Z"
   },
   {
    "duration": 6,
    "start_time": "2023-07-25T13:22:07.606Z"
   },
   {
    "duration": 11,
    "start_time": "2023-07-25T13:22:31.513Z"
   },
   {
    "duration": 6,
    "start_time": "2023-07-25T13:22:35.692Z"
   },
   {
    "duration": 6,
    "start_time": "2023-07-25T13:23:24.843Z"
   },
   {
    "duration": 5,
    "start_time": "2023-07-25T13:23:29.867Z"
   },
   {
    "duration": 181,
    "start_time": "2023-07-25T14:24:15.721Z"
   },
   {
    "duration": 101,
    "start_time": "2023-07-26T15:03:56.257Z"
   },
   {
    "duration": 90,
    "start_time": "2023-07-26T15:06:10.912Z"
   },
   {
    "duration": 88,
    "start_time": "2023-07-26T15:09:07.397Z"
   },
   {
    "duration": 195,
    "start_time": "2023-07-26T15:11:25.052Z"
   },
   {
    "duration": 79,
    "start_time": "2023-07-26T15:14:17.981Z"
   },
   {
    "duration": 76,
    "start_time": "2023-07-26T15:16:05.645Z"
   },
   {
    "duration": 141,
    "start_time": "2023-07-26T15:26:33.799Z"
   },
   {
    "duration": 290,
    "start_time": "2023-07-26T15:27:21.988Z"
   },
   {
    "duration": 101,
    "start_time": "2023-07-26T15:29:44.598Z"
   },
   {
    "duration": 219,
    "start_time": "2023-07-26T15:34:23.365Z"
   },
   {
    "duration": 86,
    "start_time": "2023-07-26T15:35:18.868Z"
   },
   {
    "duration": 45,
    "start_time": "2023-07-26T16:43:27.389Z"
   },
   {
    "duration": 6,
    "start_time": "2023-07-26T16:48:40.398Z"
   },
   {
    "duration": 1197,
    "start_time": "2023-07-26T17:16:16.535Z"
   },
   {
    "duration": 4,
    "start_time": "2023-07-26T17:16:19.745Z"
   },
   {
    "duration": 78,
    "start_time": "2023-07-26T17:16:20.595Z"
   },
   {
    "duration": 19,
    "start_time": "2023-07-26T17:16:21.801Z"
   },
   {
    "duration": 16,
    "start_time": "2023-07-26T17:16:23.402Z"
   },
   {
    "duration": 4,
    "start_time": "2023-07-26T17:16:25.226Z"
   },
   {
    "duration": 5,
    "start_time": "2023-07-26T17:16:25.914Z"
   },
   {
    "duration": 4,
    "start_time": "2023-07-26T17:16:28.263Z"
   },
   {
    "duration": 5,
    "start_time": "2023-07-26T17:16:33.123Z"
   },
   {
    "duration": 7,
    "start_time": "2023-07-26T17:16:35.091Z"
   },
   {
    "duration": 10,
    "start_time": "2023-07-26T17:16:37.522Z"
   },
   {
    "duration": 4,
    "start_time": "2023-07-26T17:16:44.644Z"
   },
   {
    "duration": 9,
    "start_time": "2023-07-26T17:16:46.188Z"
   },
   {
    "duration": 7,
    "start_time": "2023-07-26T17:16:48.156Z"
   },
   {
    "duration": 5,
    "start_time": "2023-07-26T17:17:00.247Z"
   },
   {
    "duration": 4,
    "start_time": "2023-07-26T17:17:19.304Z"
   },
   {
    "duration": 5,
    "start_time": "2023-07-26T17:18:03.341Z"
   },
   {
    "duration": 6,
    "start_time": "2023-07-26T17:18:07.270Z"
   },
   {
    "duration": 83,
    "start_time": "2023-07-26T17:23:51.357Z"
   },
   {
    "duration": 4,
    "start_time": "2023-07-26T17:24:56.084Z"
   },
   {
    "duration": 4,
    "start_time": "2023-07-26T17:25:09.605Z"
   },
   {
    "duration": 4,
    "start_time": "2023-07-26T17:26:25.735Z"
   },
   {
    "duration": 10,
    "start_time": "2023-07-26T17:31:12.559Z"
   },
   {
    "duration": 12,
    "start_time": "2023-07-26T17:31:54.190Z"
   },
   {
    "duration": 3,
    "start_time": "2023-07-26T17:31:55.615Z"
   },
   {
    "duration": 5,
    "start_time": "2023-07-26T17:32:04.230Z"
   },
   {
    "duration": 4,
    "start_time": "2023-07-26T17:36:12.757Z"
   },
   {
    "duration": 4,
    "start_time": "2023-07-26T17:36:21.596Z"
   },
   {
    "duration": 5,
    "start_time": "2023-07-26T17:36:41.783Z"
   },
   {
    "duration": 3,
    "start_time": "2023-07-26T17:39:09.355Z"
   },
   {
    "duration": 3,
    "start_time": "2023-07-26T17:41:10.466Z"
   },
   {
    "duration": 174,
    "start_time": "2023-07-26T17:48:18.552Z"
   },
   {
    "duration": 80,
    "start_time": "2023-07-26T18:41:49.063Z"
   },
   {
    "duration": 1047,
    "start_time": "2023-07-26T19:03:14.609Z"
   },
   {
    "duration": 4,
    "start_time": "2023-07-26T19:03:15.659Z"
   },
   {
    "duration": 57,
    "start_time": "2023-07-26T19:03:15.664Z"
   },
   {
    "duration": 25,
    "start_time": "2023-07-26T19:03:15.723Z"
   },
   {
    "duration": 46,
    "start_time": "2023-07-26T19:03:15.750Z"
   },
   {
    "duration": 19,
    "start_time": "2023-07-26T19:03:15.798Z"
   },
   {
    "duration": 20,
    "start_time": "2023-07-26T19:03:15.818Z"
   },
   {
    "duration": 30,
    "start_time": "2023-07-26T19:03:15.840Z"
   },
   {
    "duration": 19,
    "start_time": "2023-07-26T19:03:15.872Z"
   },
   {
    "duration": 6,
    "start_time": "2023-07-26T19:03:15.894Z"
   },
   {
    "duration": 19,
    "start_time": "2023-07-26T19:03:15.901Z"
   },
   {
    "duration": 60,
    "start_time": "2023-07-26T19:03:15.922Z"
   },
   {
    "duration": 9,
    "start_time": "2023-07-26T19:03:15.984Z"
   },
   {
    "duration": 96,
    "start_time": "2023-07-26T19:03:15.994Z"
   },
   {
    "duration": 98,
    "start_time": "2023-07-26T19:03:16.093Z"
   },
   {
    "duration": 101,
    "start_time": "2023-07-26T19:03:16.274Z"
   },
   {
    "duration": 19,
    "start_time": "2023-07-26T19:03:16.379Z"
   },
   {
    "duration": 9,
    "start_time": "2023-07-26T19:03:16.402Z"
   },
   {
    "duration": 22,
    "start_time": "2023-07-26T19:03:16.413Z"
   },
   {
    "duration": 17,
    "start_time": "2023-07-26T19:03:16.437Z"
   },
   {
    "duration": 149,
    "start_time": "2023-07-26T19:03:16.456Z"
   },
   {
    "duration": 98,
    "start_time": "2023-07-26T19:03:16.678Z"
   },
   {
    "duration": 9,
    "start_time": "2023-07-26T19:03:16.781Z"
   },
   {
    "duration": 15,
    "start_time": "2023-07-26T19:03:16.792Z"
   },
   {
    "duration": 14,
    "start_time": "2023-07-26T19:03:16.809Z"
   },
   {
    "duration": 22,
    "start_time": "2023-07-26T19:10:00.571Z"
   },
   {
    "duration": 12,
    "start_time": "2023-07-26T19:10:25.918Z"
   },
   {
    "duration": 14,
    "start_time": "2023-07-26T19:10:32.229Z"
   },
   {
    "duration": 4,
    "start_time": "2023-07-26T19:11:06.187Z"
   },
   {
    "duration": 15,
    "start_time": "2023-07-26T19:11:15.339Z"
   },
   {
    "duration": 105,
    "start_time": "2023-07-26T19:11:35.134Z"
   },
   {
    "duration": 14,
    "start_time": "2023-07-26T19:11:39.927Z"
   },
   {
    "duration": 4,
    "start_time": "2023-07-26T19:11:58.737Z"
   },
   {
    "duration": 11,
    "start_time": "2023-07-26T19:12:03.905Z"
   },
   {
    "duration": 11,
    "start_time": "2023-07-26T19:12:20.739Z"
   },
   {
    "duration": 11,
    "start_time": "2023-07-26T19:14:07.187Z"
   },
   {
    "duration": 12,
    "start_time": "2023-07-26T19:14:19.234Z"
   },
   {
    "duration": 11,
    "start_time": "2023-07-26T19:14:28.531Z"
   },
   {
    "duration": 10,
    "start_time": "2023-07-26T19:14:31.755Z"
   },
   {
    "duration": 17,
    "start_time": "2023-07-26T19:14:32.268Z"
   },
   {
    "duration": 13,
    "start_time": "2023-07-26T19:16:17.326Z"
   },
   {
    "duration": 13,
    "start_time": "2023-07-26T19:16:30.408Z"
   },
   {
    "duration": 14,
    "start_time": "2023-07-26T19:20:39.340Z"
   },
   {
    "duration": 1278,
    "start_time": "2023-07-26T19:23:23.162Z"
   },
   {
    "duration": 4,
    "start_time": "2023-07-26T19:23:24.442Z"
   },
   {
    "duration": 43,
    "start_time": "2023-07-26T19:23:24.448Z"
   },
   {
    "duration": 19,
    "start_time": "2023-07-26T19:23:24.493Z"
   },
   {
    "duration": 16,
    "start_time": "2023-07-26T19:23:24.513Z"
   },
   {
    "duration": 5,
    "start_time": "2023-07-26T19:23:24.530Z"
   },
   {
    "duration": 9,
    "start_time": "2023-07-26T19:23:24.537Z"
   },
   {
    "duration": 27,
    "start_time": "2023-07-26T19:23:24.548Z"
   },
   {
    "duration": 23,
    "start_time": "2023-07-26T19:23:24.577Z"
   },
   {
    "duration": 10,
    "start_time": "2023-07-26T19:23:24.602Z"
   },
   {
    "duration": 9,
    "start_time": "2023-07-26T19:23:24.614Z"
   },
   {
    "duration": 157,
    "start_time": "2023-07-26T19:23:24.625Z"
   },
   {
    "duration": 14,
    "start_time": "2023-07-26T19:23:24.784Z"
   },
   {
    "duration": 144,
    "start_time": "2023-07-26T19:23:24.800Z"
   },
   {
    "duration": 0,
    "start_time": "2023-07-26T19:23:24.946Z"
   },
   {
    "duration": 1,
    "start_time": "2023-07-26T19:23:24.947Z"
   },
   {
    "duration": 0,
    "start_time": "2023-07-26T19:23:24.949Z"
   },
   {
    "duration": 0,
    "start_time": "2023-07-26T19:23:24.951Z"
   },
   {
    "duration": 0,
    "start_time": "2023-07-26T19:23:24.952Z"
   },
   {
    "duration": 0,
    "start_time": "2023-07-26T19:23:24.953Z"
   },
   {
    "duration": 0,
    "start_time": "2023-07-26T19:23:24.954Z"
   },
   {
    "duration": 0,
    "start_time": "2023-07-26T19:23:24.956Z"
   },
   {
    "duration": 0,
    "start_time": "2023-07-26T19:23:24.970Z"
   },
   {
    "duration": 0,
    "start_time": "2023-07-26T19:23:24.971Z"
   },
   {
    "duration": 0,
    "start_time": "2023-07-26T19:23:24.972Z"
   },
   {
    "duration": 0,
    "start_time": "2023-07-26T19:23:24.973Z"
   },
   {
    "duration": 0,
    "start_time": "2023-07-26T19:23:24.975Z"
   },
   {
    "duration": 0,
    "start_time": "2023-07-26T19:23:24.979Z"
   },
   {
    "duration": 1198,
    "start_time": "2023-07-26T19:23:49.345Z"
   },
   {
    "duration": 4,
    "start_time": "2023-07-26T19:23:50.545Z"
   },
   {
    "duration": 42,
    "start_time": "2023-07-26T19:23:50.551Z"
   },
   {
    "duration": 28,
    "start_time": "2023-07-26T19:23:50.597Z"
   },
   {
    "duration": 26,
    "start_time": "2023-07-26T19:23:50.627Z"
   },
   {
    "duration": 69,
    "start_time": "2023-07-26T19:23:50.655Z"
   },
   {
    "duration": 82,
    "start_time": "2023-07-26T19:23:50.726Z"
   },
   {
    "duration": 14,
    "start_time": "2023-07-26T19:23:50.811Z"
   },
   {
    "duration": 20,
    "start_time": "2023-07-26T19:23:50.827Z"
   },
   {
    "duration": 45,
    "start_time": "2023-07-26T19:23:50.851Z"
   },
   {
    "duration": 21,
    "start_time": "2023-07-26T19:23:50.899Z"
   },
   {
    "duration": 62,
    "start_time": "2023-07-26T19:23:50.925Z"
   },
   {
    "duration": 124,
    "start_time": "2023-07-26T19:23:50.994Z"
   },
   {
    "duration": 42,
    "start_time": "2023-07-26T19:23:51.120Z"
   },
   {
    "duration": 28,
    "start_time": "2023-07-26T19:23:51.163Z"
   },
   {
    "duration": 27,
    "start_time": "2023-07-26T19:23:51.192Z"
   },
   {
    "duration": 79,
    "start_time": "2023-07-26T19:23:51.221Z"
   },
   {
    "duration": 25,
    "start_time": "2023-07-26T19:23:51.384Z"
   },
   {
    "duration": 133,
    "start_time": "2023-07-26T19:23:51.470Z"
   },
   {
    "duration": 15,
    "start_time": "2023-07-26T19:23:51.605Z"
   },
   {
    "duration": 16,
    "start_time": "2023-07-26T19:23:51.622Z"
   },
   {
    "duration": 6,
    "start_time": "2023-07-26T19:23:51.639Z"
   },
   {
    "duration": 126,
    "start_time": "2023-07-26T19:23:51.646Z"
   },
   {
    "duration": 98,
    "start_time": "2023-07-26T19:23:51.774Z"
   },
   {
    "duration": 123,
    "start_time": "2023-07-26T19:23:51.874Z"
   },
   {
    "duration": 22,
    "start_time": "2023-07-26T19:23:51.999Z"
   },
   {
    "duration": 37,
    "start_time": "2023-07-26T19:23:52.024Z"
   },
   {
    "duration": 50,
    "start_time": "2023-07-26T19:23:52.067Z"
   },
   {
    "duration": 16,
    "start_time": "2023-07-26T19:24:09.775Z"
   },
   {
    "duration": 4,
    "start_time": "2023-07-26T19:24:32.681Z"
   },
   {
    "duration": 1200,
    "start_time": "2023-07-26T19:24:42.714Z"
   },
   {
    "duration": 4,
    "start_time": "2023-07-26T19:24:43.916Z"
   },
   {
    "duration": 34,
    "start_time": "2023-07-26T19:24:43.925Z"
   },
   {
    "duration": 25,
    "start_time": "2023-07-26T19:24:43.961Z"
   },
   {
    "duration": 21,
    "start_time": "2023-07-26T19:24:43.988Z"
   },
   {
    "duration": 7,
    "start_time": "2023-07-26T19:24:44.011Z"
   },
   {
    "duration": 7,
    "start_time": "2023-07-26T19:24:44.020Z"
   },
   {
    "duration": 19,
    "start_time": "2023-07-26T19:24:44.029Z"
   },
   {
    "duration": 8,
    "start_time": "2023-07-26T19:24:44.051Z"
   },
   {
    "duration": 13,
    "start_time": "2023-07-26T19:24:44.071Z"
   },
   {
    "duration": 17,
    "start_time": "2023-07-26T19:24:44.086Z"
   },
   {
    "duration": 75,
    "start_time": "2023-07-26T19:24:44.105Z"
   },
   {
    "duration": 104,
    "start_time": "2023-07-26T19:24:44.182Z"
   },
   {
    "duration": 32,
    "start_time": "2023-07-26T19:24:44.288Z"
   },
   {
    "duration": 12,
    "start_time": "2023-07-26T19:24:44.323Z"
   },
   {
    "duration": 14,
    "start_time": "2023-07-26T19:24:44.338Z"
   },
   {
    "duration": 119,
    "start_time": "2023-07-26T19:24:44.354Z"
   },
   {
    "duration": 101,
    "start_time": "2023-07-26T19:24:44.475Z"
   },
   {
    "duration": 97,
    "start_time": "2023-07-26T19:24:44.578Z"
   },
   {
    "duration": 41,
    "start_time": "2023-07-26T19:24:44.679Z"
   },
   {
    "duration": 5,
    "start_time": "2023-07-26T19:24:44.772Z"
   },
   {
    "duration": 57,
    "start_time": "2023-07-26T19:24:44.779Z"
   },
   {
    "duration": 30,
    "start_time": "2023-07-26T19:24:44.839Z"
   },
   {
    "duration": 109,
    "start_time": "2023-07-26T19:24:44.873Z"
   },
   {
    "duration": 133,
    "start_time": "2023-07-26T19:24:44.985Z"
   },
   {
    "duration": 25,
    "start_time": "2023-07-26T19:24:45.170Z"
   },
   {
    "duration": 25,
    "start_time": "2023-07-26T19:24:45.198Z"
   },
   {
    "duration": 15,
    "start_time": "2023-07-26T19:24:45.225Z"
   },
   {
    "duration": 1261,
    "start_time": "2023-07-26T19:24:57.139Z"
   },
   {
    "duration": 4,
    "start_time": "2023-07-26T19:24:58.403Z"
   },
   {
    "duration": 37,
    "start_time": "2023-07-26T19:24:58.409Z"
   },
   {
    "duration": 26,
    "start_time": "2023-07-26T19:24:58.449Z"
   },
   {
    "duration": 24,
    "start_time": "2023-07-26T19:24:58.477Z"
   },
   {
    "duration": 8,
    "start_time": "2023-07-26T19:24:58.503Z"
   },
   {
    "duration": 19,
    "start_time": "2023-07-26T19:24:58.513Z"
   },
   {
    "duration": 22,
    "start_time": "2023-07-26T19:24:58.536Z"
   },
   {
    "duration": 30,
    "start_time": "2023-07-26T19:24:58.561Z"
   },
   {
    "duration": 9,
    "start_time": "2023-07-26T19:24:58.595Z"
   },
   {
    "duration": 17,
    "start_time": "2023-07-26T19:24:58.606Z"
   },
   {
    "duration": 56,
    "start_time": "2023-07-26T19:24:58.625Z"
   },
   {
    "duration": 97,
    "start_time": "2023-07-26T19:24:58.683Z"
   },
   {
    "duration": 16,
    "start_time": "2023-07-26T19:24:58.782Z"
   },
   {
    "duration": 38,
    "start_time": "2023-07-26T19:24:58.801Z"
   },
   {
    "duration": 23,
    "start_time": "2023-07-26T19:24:58.844Z"
   },
   {
    "duration": 119,
    "start_time": "2023-07-26T19:24:58.869Z"
   },
   {
    "duration": 129,
    "start_time": "2023-07-26T19:24:58.992Z"
   },
   {
    "duration": 164,
    "start_time": "2023-07-26T19:24:59.123Z"
   },
   {
    "duration": 14,
    "start_time": "2023-07-26T19:24:59.289Z"
   },
   {
    "duration": 20,
    "start_time": "2023-07-26T19:24:59.305Z"
   },
   {
    "duration": 22,
    "start_time": "2023-07-26T19:24:59.327Z"
   },
   {
    "duration": 22,
    "start_time": "2023-07-26T19:24:59.352Z"
   },
   {
    "duration": 118,
    "start_time": "2023-07-26T19:24:59.376Z"
   },
   {
    "duration": 9,
    "start_time": "2023-07-26T19:24:59.497Z"
   },
   {
    "duration": 173,
    "start_time": "2023-07-26T19:24:59.508Z"
   },
   {
    "duration": 20,
    "start_time": "2023-07-26T19:24:59.683Z"
   },
   {
    "duration": 10,
    "start_time": "2023-07-26T19:24:59.707Z"
   },
   {
    "duration": 3483,
    "start_time": "2023-07-27T03:29:31.473Z"
   },
   {
    "duration": 5,
    "start_time": "2023-07-27T03:29:34.960Z"
   },
   {
    "duration": 121,
    "start_time": "2023-07-27T03:29:34.967Z"
   },
   {
    "duration": 24,
    "start_time": "2023-07-27T03:29:35.091Z"
   },
   {
    "duration": 20,
    "start_time": "2023-07-27T03:29:35.117Z"
   },
   {
    "duration": 13,
    "start_time": "2023-07-27T03:29:35.140Z"
   },
   {
    "duration": 22,
    "start_time": "2023-07-27T03:29:35.155Z"
   },
   {
    "duration": 49,
    "start_time": "2023-07-27T03:29:35.180Z"
   },
   {
    "duration": 24,
    "start_time": "2023-07-27T03:29:35.231Z"
   },
   {
    "duration": 12,
    "start_time": "2023-07-27T03:29:35.259Z"
   },
   {
    "duration": 25,
    "start_time": "2023-07-27T03:29:35.273Z"
   },
   {
    "duration": 173,
    "start_time": "2023-07-27T03:29:35.301Z"
   },
   {
    "duration": 14,
    "start_time": "2023-07-27T03:29:35.476Z"
   },
   {
    "duration": 22,
    "start_time": "2023-07-27T03:29:35.493Z"
   },
   {
    "duration": 15,
    "start_time": "2023-07-27T03:29:35.517Z"
   },
   {
    "duration": 25,
    "start_time": "2023-07-27T03:29:35.535Z"
   },
   {
    "duration": 91,
    "start_time": "2023-07-27T03:29:35.564Z"
   },
   {
    "duration": 118,
    "start_time": "2023-07-27T03:29:35.657Z"
   },
   {
    "duration": 186,
    "start_time": "2023-07-27T03:29:35.777Z"
   },
   {
    "duration": 18,
    "start_time": "2023-07-27T03:29:35.966Z"
   },
   {
    "duration": 15,
    "start_time": "2023-07-27T03:29:35.987Z"
   },
   {
    "duration": 27,
    "start_time": "2023-07-27T03:29:36.004Z"
   },
   {
    "duration": 131,
    "start_time": "2023-07-27T03:29:36.033Z"
   },
   {
    "duration": 101,
    "start_time": "2023-07-27T03:29:36.166Z"
   },
   {
    "duration": 204,
    "start_time": "2023-07-27T03:29:36.270Z"
   },
   {
    "duration": 98,
    "start_time": "2023-07-27T03:29:36.477Z"
   },
   {
    "duration": 154,
    "start_time": "2023-07-27T03:29:36.577Z"
   },
   {
    "duration": 44,
    "start_time": "2023-07-27T03:29:36.734Z"
   },
   {
    "duration": 1410,
    "start_time": "2023-07-27T09:27:34.546Z"
   },
   {
    "duration": 3,
    "start_time": "2023-07-27T09:27:45.385Z"
   },
   {
    "duration": 78,
    "start_time": "2023-07-27T09:27:50.394Z"
   },
   {
    "duration": 25,
    "start_time": "2023-07-27T09:27:51.202Z"
   },
   {
    "duration": 4,
    "start_time": "2023-07-27T09:28:26.797Z"
   },
   {
    "duration": 40,
    "start_time": "2023-07-27T09:28:29.547Z"
   },
   {
    "duration": 4,
    "start_time": "2023-07-27T09:28:59.984Z"
   },
   {
    "duration": 41,
    "start_time": "2023-07-27T09:29:03.313Z"
   },
   {
    "duration": 4,
    "start_time": "2023-07-27T09:31:39.227Z"
   },
   {
    "duration": 43,
    "start_time": "2023-07-27T09:31:42.052Z"
   },
   {
    "duration": 295,
    "start_time": "2023-07-27T09:31:55.093Z"
   },
   {
    "duration": 5,
    "start_time": "2023-07-27T09:31:58.893Z"
   },
   {
    "duration": 40,
    "start_time": "2023-07-27T09:32:01.351Z"
   },
   {
    "duration": 3,
    "start_time": "2023-07-27T09:32:18.926Z"
   },
   {
    "duration": 38,
    "start_time": "2023-07-27T09:32:20.935Z"
   },
   {
    "duration": 126,
    "start_time": "2023-07-27T09:37:36.419Z"
   },
   {
    "duration": 3,
    "start_time": "2023-07-27T09:40:28.846Z"
   },
   {
    "duration": 136,
    "start_time": "2023-07-27T10:02:25.194Z"
   },
   {
    "duration": 3,
    "start_time": "2023-07-27T10:02:27.744Z"
   },
   {
    "duration": 14,
    "start_time": "2023-07-27T10:02:29.588Z"
   },
   {
    "duration": 4,
    "start_time": "2023-07-27T10:02:40.908Z"
   },
   {
    "duration": 17,
    "start_time": "2023-07-27T10:02:40.916Z"
   },
   {
    "duration": 65,
    "start_time": "2023-07-27T10:02:40.936Z"
   },
   {
    "duration": 40,
    "start_time": "2023-07-27T10:02:41.003Z"
   },
   {
    "duration": 10,
    "start_time": "2023-07-27T10:02:41.045Z"
   },
   {
    "duration": 34,
    "start_time": "2023-07-27T10:02:41.057Z"
   },
   {
    "duration": 6,
    "start_time": "2023-07-27T10:02:41.093Z"
   },
   {
    "duration": 7,
    "start_time": "2023-07-27T10:02:41.100Z"
   },
   {
    "duration": 10,
    "start_time": "2023-07-27T10:02:41.108Z"
   },
   {
    "duration": 3,
    "start_time": "2023-07-27T10:02:44.413Z"
   },
   {
    "duration": 9,
    "start_time": "2023-07-27T10:02:45.737Z"
   },
   {
    "duration": 5,
    "start_time": "2023-07-27T10:02:57.184Z"
   },
   {
    "duration": 294,
    "start_time": "2023-07-27T10:05:35.851Z"
   },
   {
    "duration": 4,
    "start_time": "2023-07-27T10:13:45.693Z"
   },
   {
    "duration": 3,
    "start_time": "2023-07-27T10:13:47.940Z"
   },
   {
    "duration": 3,
    "start_time": "2023-07-27T10:13:57.581Z"
   },
   {
    "duration": 2,
    "start_time": "2023-07-27T10:14:25.242Z"
   },
   {
    "duration": 5,
    "start_time": "2023-07-27T10:18:47.918Z"
   },
   {
    "duration": 4,
    "start_time": "2023-07-27T10:19:15.147Z"
   },
   {
    "duration": 4,
    "start_time": "2023-07-27T10:19:31.468Z"
   },
   {
    "duration": 5,
    "start_time": "2023-07-27T10:19:48.888Z"
   },
   {
    "duration": 5,
    "start_time": "2023-07-27T10:19:58.391Z"
   },
   {
    "duration": 4,
    "start_time": "2023-07-27T10:20:07.227Z"
   },
   {
    "duration": 4,
    "start_time": "2023-07-27T10:20:59.398Z"
   },
   {
    "duration": 17,
    "start_time": "2023-07-27T10:22:28.681Z"
   },
   {
    "duration": 5,
    "start_time": "2023-07-27T10:25:01.780Z"
   },
   {
    "duration": 5,
    "start_time": "2023-07-27T10:25:34.318Z"
   },
   {
    "duration": 6,
    "start_time": "2023-07-27T10:26:22.819Z"
   },
   {
    "duration": 4,
    "start_time": "2023-07-27T10:26:24.804Z"
   },
   {
    "duration": 4,
    "start_time": "2023-07-27T10:26:25.420Z"
   },
   {
    "duration": 8,
    "start_time": "2023-07-27T10:26:48.318Z"
   },
   {
    "duration": 3,
    "start_time": "2023-07-27T10:27:58.828Z"
   },
   {
    "duration": 37,
    "start_time": "2023-07-27T10:27:58.833Z"
   },
   {
    "duration": 15,
    "start_time": "2023-07-27T10:27:58.872Z"
   },
   {
    "duration": 34,
    "start_time": "2023-07-27T10:27:58.889Z"
   },
   {
    "duration": 40,
    "start_time": "2023-07-27T10:27:58.925Z"
   },
   {
    "duration": 10,
    "start_time": "2023-07-27T10:27:58.966Z"
   },
   {
    "duration": 18,
    "start_time": "2023-07-27T10:27:58.977Z"
   },
   {
    "duration": 18,
    "start_time": "2023-07-27T10:27:58.996Z"
   },
   {
    "duration": 21,
    "start_time": "2023-07-27T10:27:59.016Z"
   },
   {
    "duration": 11,
    "start_time": "2023-07-27T10:27:59.040Z"
   },
   {
    "duration": 193,
    "start_time": "2023-07-27T10:27:59.053Z"
   },
   {
    "duration": 0,
    "start_time": "2023-07-27T10:27:59.248Z"
   },
   {
    "duration": 0,
    "start_time": "2023-07-27T10:27:59.249Z"
   },
   {
    "duration": 0,
    "start_time": "2023-07-27T10:27:59.250Z"
   },
   {
    "duration": 0,
    "start_time": "2023-07-27T10:27:59.252Z"
   },
   {
    "duration": 0,
    "start_time": "2023-07-27T10:27:59.254Z"
   },
   {
    "duration": 0,
    "start_time": "2023-07-27T10:27:59.255Z"
   },
   {
    "duration": 0,
    "start_time": "2023-07-27T10:27:59.257Z"
   },
   {
    "duration": 0,
    "start_time": "2023-07-27T10:27:59.258Z"
   },
   {
    "duration": 0,
    "start_time": "2023-07-27T10:27:59.259Z"
   },
   {
    "duration": 0,
    "start_time": "2023-07-27T10:27:59.260Z"
   },
   {
    "duration": 4,
    "start_time": "2023-07-27T10:28:15.513Z"
   },
   {
    "duration": 8,
    "start_time": "2023-07-27T10:28:16.961Z"
   },
   {
    "duration": 5,
    "start_time": "2023-07-27T10:28:25.675Z"
   },
   {
    "duration": 6,
    "start_time": "2023-07-27T10:28:29.784Z"
   },
   {
    "duration": 12,
    "start_time": "2023-07-27T10:28:32.908Z"
   },
   {
    "duration": 11,
    "start_time": "2023-07-27T10:28:34.835Z"
   },
   {
    "duration": 11,
    "start_time": "2023-07-27T10:28:35.983Z"
   },
   {
    "duration": 8,
    "start_time": "2023-07-27T10:28:37.108Z"
   },
   {
    "duration": 5,
    "start_time": "2023-07-27T10:28:38.588Z"
   },
   {
    "duration": 4,
    "start_time": "2023-07-27T10:28:39.507Z"
   },
   {
    "duration": 3,
    "start_time": "2023-07-27T10:28:40.340Z"
   },
   {
    "duration": 4,
    "start_time": "2023-07-27T10:28:41.915Z"
   },
   {
    "duration": 7,
    "start_time": "2023-07-27T10:28:49.342Z"
   },
   {
    "duration": 6,
    "start_time": "2023-07-27T10:31:01.629Z"
   },
   {
    "duration": 5,
    "start_time": "2023-07-27T10:31:08.458Z"
   },
   {
    "duration": 104,
    "start_time": "2023-07-27T10:31:12.886Z"
   },
   {
    "duration": 6,
    "start_time": "2023-07-27T10:31:17.045Z"
   },
   {
    "duration": 3,
    "start_time": "2023-07-27T10:31:20.792Z"
   },
   {
    "duration": 13,
    "start_time": "2023-07-27T10:31:20.797Z"
   },
   {
    "duration": 10,
    "start_time": "2023-07-27T10:31:20.811Z"
   },
   {
    "duration": 43,
    "start_time": "2023-07-27T10:31:20.822Z"
   },
   {
    "duration": 42,
    "start_time": "2023-07-27T10:31:20.867Z"
   },
   {
    "duration": 10,
    "start_time": "2023-07-27T10:31:20.911Z"
   },
   {
    "duration": 17,
    "start_time": "2023-07-27T10:31:20.923Z"
   },
   {
    "duration": 8,
    "start_time": "2023-07-27T10:31:20.942Z"
   },
   {
    "duration": 20,
    "start_time": "2023-07-27T10:31:20.951Z"
   },
   {
    "duration": 18,
    "start_time": "2023-07-27T10:31:20.972Z"
   },
   {
    "duration": 5,
    "start_time": "2023-07-27T10:31:20.992Z"
   },
   {
    "duration": 24,
    "start_time": "2023-07-27T10:31:20.998Z"
   },
   {
    "duration": 15,
    "start_time": "2023-07-27T10:31:21.024Z"
   },
   {
    "duration": 36,
    "start_time": "2023-07-27T10:31:21.042Z"
   },
   {
    "duration": 108,
    "start_time": "2023-07-27T10:31:21.079Z"
   },
   {
    "duration": 39,
    "start_time": "2023-07-27T10:31:21.189Z"
   },
   {
    "duration": 11,
    "start_time": "2023-07-27T10:31:21.229Z"
   },
   {
    "duration": 6,
    "start_time": "2023-07-27T10:31:24.711Z"
   },
   {
    "duration": 4,
    "start_time": "2023-07-27T10:31:25.439Z"
   },
   {
    "duration": 4,
    "start_time": "2023-07-27T10:31:27.789Z"
   },
   {
    "duration": 4,
    "start_time": "2023-07-27T10:31:30.094Z"
   },
   {
    "duration": 7,
    "start_time": "2023-07-27T10:32:18.118Z"
   },
   {
    "duration": 153,
    "start_time": "2023-07-27T10:32:24.355Z"
   },
   {
    "duration": 4,
    "start_time": "2023-07-27T10:32:30.814Z"
   },
   {
    "duration": 8,
    "start_time": "2023-07-27T10:32:47.921Z"
   },
   {
    "duration": 53,
    "start_time": "2023-07-27T10:32:50.320Z"
   },
   {
    "duration": 7,
    "start_time": "2023-07-27T10:33:10.411Z"
   },
   {
    "duration": 4,
    "start_time": "2023-07-27T10:33:13.955Z"
   },
   {
    "duration": 4,
    "start_time": "2023-07-27T10:33:33.447Z"
   },
   {
    "duration": 4,
    "start_time": "2023-07-27T10:33:38.791Z"
   },
   {
    "duration": 5,
    "start_time": "2023-07-27T10:33:40.095Z"
   },
   {
    "duration": 4,
    "start_time": "2023-07-27T10:33:41.535Z"
   },
   {
    "duration": 79,
    "start_time": "2023-07-27T10:34:20.898Z"
   },
   {
    "duration": 16,
    "start_time": "2023-07-27T10:34:23.803Z"
   },
   {
    "duration": 10,
    "start_time": "2023-07-27T10:34:46.519Z"
   },
   {
    "duration": 9,
    "start_time": "2023-07-27T10:35:27.915Z"
   },
   {
    "duration": 4,
    "start_time": "2023-07-27T10:35:30.864Z"
   },
   {
    "duration": 4,
    "start_time": "2023-07-27T10:35:38.136Z"
   },
   {
    "duration": 5,
    "start_time": "2023-07-27T10:35:43.840Z"
   },
   {
    "duration": 5,
    "start_time": "2023-07-27T10:35:44.708Z"
   },
   {
    "duration": 6,
    "start_time": "2023-07-27T10:35:45.835Z"
   },
   {
    "duration": 3,
    "start_time": "2023-07-27T10:38:59.984Z"
   },
   {
    "duration": 5,
    "start_time": "2023-07-27T10:39:31.942Z"
   },
   {
    "duration": 4,
    "start_time": "2023-07-27T10:39:33.199Z"
   },
   {
    "duration": 4,
    "start_time": "2023-07-27T10:39:37.255Z"
   },
   {
    "duration": 4,
    "start_time": "2023-07-27T10:39:38.488Z"
   },
   {
    "duration": 459,
    "start_time": "2023-07-27T10:39:57.201Z"
   },
   {
    "duration": 2065,
    "start_time": "2023-07-27T10:40:12.152Z"
   },
   {
    "duration": 2543,
    "start_time": "2023-07-27T10:40:16.447Z"
   },
   {
    "duration": 5,
    "start_time": "2023-07-27T10:40:57.219Z"
   },
   {
    "duration": 5,
    "start_time": "2023-07-27T10:41:00.750Z"
   },
   {
    "duration": 3,
    "start_time": "2023-07-27T10:41:02.955Z"
   },
   {
    "duration": 4,
    "start_time": "2023-07-27T10:41:28.461Z"
   },
   {
    "duration": 4,
    "start_time": "2023-07-27T10:41:34.653Z"
   },
   {
    "duration": 6,
    "start_time": "2023-07-27T10:41:37.110Z"
   },
   {
    "duration": 5,
    "start_time": "2023-07-27T10:41:39.585Z"
   },
   {
    "duration": 258,
    "start_time": "2023-07-27T10:49:39.911Z"
   },
   {
    "duration": 197,
    "start_time": "2023-07-27T10:54:08.615Z"
   },
   {
    "duration": 1398,
    "start_time": "2023-07-27T10:55:23.065Z"
   },
   {
    "duration": 3,
    "start_time": "2023-07-27T10:55:24.465Z"
   },
   {
    "duration": 40,
    "start_time": "2023-07-27T10:55:24.470Z"
   },
   {
    "duration": 54,
    "start_time": "2023-07-27T10:55:24.513Z"
   },
   {
    "duration": 56,
    "start_time": "2023-07-27T10:55:24.569Z"
   },
   {
    "duration": 9,
    "start_time": "2023-07-27T10:55:24.627Z"
   },
   {
    "duration": 18,
    "start_time": "2023-07-27T10:55:24.638Z"
   },
   {
    "duration": 33,
    "start_time": "2023-07-27T10:55:24.657Z"
   },
   {
    "duration": 24,
    "start_time": "2023-07-27T10:55:24.691Z"
   },
   {
    "duration": 17,
    "start_time": "2023-07-27T10:55:24.718Z"
   },
   {
    "duration": 19,
    "start_time": "2023-07-27T10:55:24.736Z"
   },
   {
    "duration": 65,
    "start_time": "2023-07-27T10:55:24.757Z"
   },
   {
    "duration": 42,
    "start_time": "2023-07-27T10:55:24.824Z"
   },
   {
    "duration": 37,
    "start_time": "2023-07-27T10:55:24.868Z"
   },
   {
    "duration": 21,
    "start_time": "2023-07-27T10:55:24.972Z"
   },
   {
    "duration": 55,
    "start_time": "2023-07-27T10:55:24.995Z"
   },
   {
    "duration": 56,
    "start_time": "2023-07-27T10:55:25.052Z"
   },
   {
    "duration": 31,
    "start_time": "2023-07-27T10:55:25.110Z"
   },
   {
    "duration": 23,
    "start_time": "2023-07-27T10:55:25.143Z"
   },
   {
    "duration": 29,
    "start_time": "2023-07-27T10:55:25.168Z"
   },
   {
    "duration": 27,
    "start_time": "2023-07-27T10:55:25.199Z"
   },
   {
    "duration": 11,
    "start_time": "2023-07-27T10:55:25.228Z"
   },
   {
    "duration": 16,
    "start_time": "2023-07-27T10:55:25.240Z"
   },
   {
    "duration": 37,
    "start_time": "2023-07-27T10:55:25.259Z"
   },
   {
    "duration": 98,
    "start_time": "2023-07-27T10:55:25.375Z"
   },
   {
    "duration": 32,
    "start_time": "2023-07-27T10:55:25.475Z"
   },
   {
    "duration": 24,
    "start_time": "2023-07-27T10:55:25.509Z"
   },
   {
    "duration": 41,
    "start_time": "2023-07-27T10:55:25.536Z"
   },
   {
    "duration": 56,
    "start_time": "2023-07-27T10:55:25.579Z"
   },
   {
    "duration": 14,
    "start_time": "2023-07-27T10:55:25.637Z"
   },
   {
    "duration": 20,
    "start_time": "2023-07-27T10:55:25.653Z"
   },
   {
    "duration": 45,
    "start_time": "2023-07-27T10:55:25.675Z"
   },
   {
    "duration": 7,
    "start_time": "2023-07-27T10:55:25.722Z"
   },
   {
    "duration": 33,
    "start_time": "2023-07-27T10:55:25.731Z"
   }
  ],
  "kernelspec": {
   "display_name": "Python 3 (ipykernel)",
   "language": "python",
   "name": "python3"
  },
  "language_info": {
   "codemirror_mode": {
    "name": "ipython",
    "version": 3
   },
   "file_extension": ".py",
   "mimetype": "text/x-python",
   "name": "python",
   "nbconvert_exporter": "python",
   "pygments_lexer": "ipython3",
   "version": "3.11.4"
  },
  "toc": {
   "base_numbering": 1,
   "nav_menu": {},
   "number_sections": true,
   "sideBar": true,
   "skip_h1_title": true,
   "title_cell": "Содержание",
   "title_sidebar": "Contents",
   "toc_cell": true,
   "toc_position": {
    "height": "calc(100% - 180px)",
    "left": "10px",
    "top": "150px",
    "width": "209.75px"
   },
   "toc_section_display": true,
   "toc_window_display": false
  }
 },
 "nbformat": 4,
 "nbformat_minor": 4
}
