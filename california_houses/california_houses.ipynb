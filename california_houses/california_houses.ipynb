{
 "cells": [
  {
   "cell_type": "markdown",
   "id": "3bfbe498",
   "metadata": {
    "id": "GEqQaHzsZ_bA"
   },
   "source": [
    "# Предсказание стоимости жилья в Калифорнии"
   ]
  },
  {
   "cell_type": "markdown",
   "id": "ce2a4605",
   "metadata": {},
   "source": [
    "## Введение"
   ]
  },
  {
   "cell_type": "markdown",
   "id": "GEqQaHzsZ_bA",
   "metadata": {
    "id": "GEqQaHzsZ_bA"
   },
   "source": [
    "В проекте вам нужно обучить модель линейной регрессии на данных о жилье в Калифорнии в 1990 году. На основе данных нужно предсказать медианную стоимость дома в жилом массиве. Обучите модель и сделайте предсказания на тестовой выборке. Для оценки качества модели используйте метрики RMSE, MAE и R2."
   ]
  },
  {
   "cell_type": "markdown",
   "id": "9639df9d",
   "metadata": {},
   "source": [
    "### Описание признаков"
   ]
  },
  {
   "cell_type": "markdown",
   "id": "5c9e1f6a",
   "metadata": {},
   "source": [
    "В колонках датасета содержатся следующие данные:\n",
    "\n",
    "•\tlongitude — широта;\n",
    "\n",
    "•\tlatitude — долгота;\n",
    "\n",
    "•\thousing_median_age — медианный возраст жителей жилого массива;\n",
    "\n",
    "•\ttotal_rooms — общее количество комнат в домах жилого массива;\n",
    "\n",
    "•\ttotal_bedrooms — общее количество спален в домах жилого массива;\n",
    "\n",
    "•\tpopulation — количество человек, которые проживают в жилом массиве;\n",
    "\n",
    "•\thouseholds — количество домовладений в жилом массиве;\n",
    "\n",
    "•\tmedian_income — медианный доход жителей жилого массива;\n",
    "\n",
    "•\tmedian_house_value — медианная стоимость дома в жилом массиве;\n",
    "\n",
    "•\tocean_proximity — близость к океану.\n"
   ]
  },
  {
   "cell_type": "markdown",
   "id": "7421f55d",
   "metadata": {},
   "source": [
    "### Импорт библиотек"
   ]
  },
  {
   "cell_type": "markdown",
   "id": "837e7df7",
   "metadata": {},
   "source": [
    "Импортируем нужные библиотеки и инициализируем Spark-сессию."
   ]
  },
  {
   "cell_type": "code",
   "execution_count": 1,
   "id": "ddeae102",
   "metadata": {},
   "outputs": [],
   "source": [
    "import pandas as pd \n",
    "import numpy as np\n",
    "import pyspark\n",
    "from pyspark.sql import SparkSession\n",
    "from pyspark.sql.types import *\n",
    "import pyspark.sql.functions as F\n",
    "\n",
    "from pyspark.ml.feature import StringIndexer, VectorAssembler, StandardScaler\n",
    "\n",
    "pyspark_version = pyspark.__version__\n",
    "if int(pyspark_version[:1]) == 3:\n",
    "    from pyspark.ml.feature import OneHotEncoder    \n",
    "elif int(pyspark_version[:1]) == 2:\n",
    "    from pyspark.ml.feature import OneHotEncodeEstimator\n",
    "\n",
    "from pyspark.ml.regression import LinearRegression\n",
    "\n",
    "from pyspark.ml.evaluation import RegressionEvaluator"
   ]
  },
  {
   "cell_type": "code",
   "execution_count": 2,
   "id": "1436e17c",
   "metadata": {},
   "outputs": [],
   "source": [
    "spark = SparkSession.builder \\\n",
    "                    .master(\"local\") \\\n",
    "                    .appName(\"California Housing Predicting House Value\") \\\n",
    "                    .getOrCreate()"
   ]
  },
  {
   "cell_type": "code",
   "execution_count": 3,
   "id": "d59a27d8",
   "metadata": {},
   "outputs": [],
   "source": [
    "# зададим константы\n",
    "RANDOM_SEED = 2023"
   ]
  },
  {
   "cell_type": "markdown",
   "id": "c8e6bfd8",
   "metadata": {},
   "source": [
    "### Знакомство с данными"
   ]
  },
  {
   "cell_type": "markdown",
   "id": "19223ecc",
   "metadata": {
    "id": "df92e3ec"
   },
   "source": [
    "Прочитаем данные из файла '/datasets/housing.csv' с помощью pySpark. Выведем типы данных колонок датасета."
   ]
  },
  {
   "cell_type": "code",
   "execution_count": 4,
   "id": "43a15417",
   "metadata": {},
   "outputs": [
    {
     "name": "stderr",
     "output_type": "stream",
     "text": [
      "[Stage 1:>                                                          (0 + 1) / 1]\r"
     ]
    },
    {
     "name": "stdout",
     "output_type": "stream",
     "text": [
      "root\n",
      " |-- longitude: double (nullable = true)\n",
      " |-- latitude: double (nullable = true)\n",
      " |-- housing_median_age: double (nullable = true)\n",
      " |-- total_rooms: double (nullable = true)\n",
      " |-- total_bedrooms: double (nullable = true)\n",
      " |-- population: double (nullable = true)\n",
      " |-- households: double (nullable = true)\n",
      " |-- median_income: double (nullable = true)\n",
      " |-- median_house_value: double (nullable = true)\n",
      " |-- ocean_proximity: string (nullable = true)\n",
      "\n"
     ]
    },
    {
     "name": "stderr",
     "output_type": "stream",
     "text": [
      "                                                                                \r"
     ]
    }
   ],
   "source": [
    "df_housing = spark.read.load(\n",
    "    '/datasets/housing.csv', \n",
    "    format='csv',\n",
    "    sep=',',\n",
    "    inferSchema=True,\n",
    "    header='true'\n",
    ")\n",
    "df_housing.printSchema()"
   ]
  },
  {
   "cell_type": "code",
   "execution_count": 5,
   "id": "47fa2337",
   "metadata": {},
   "outputs": [
    {
     "name": "stdout",
     "output_type": "stream",
     "text": [
      "               column    type\n",
      "0           longitude  double\n",
      "1            latitude  double\n",
      "2  housing_median_age  double\n",
      "3         total_rooms  double\n",
      "4      total_bedrooms  double\n",
      "5          population  double\n",
      "6          households  double\n",
      "7       median_income  double\n",
      "8  median_house_value  double\n",
      "9     ocean_proximity  string\n"
     ]
    }
   ],
   "source": [
    "# выведем названия колонок \n",
    "print(pd.DataFrame(df_housing.dtypes, columns=['column', 'type']))"
   ]
  },
  {
   "cell_type": "code",
   "execution_count": 6,
   "id": "526f500e",
   "metadata": {
    "scrolled": true
   },
   "outputs": [
    {
     "name": "stdout",
     "output_type": "stream",
     "text": [
      "+---------+--------+------------------+-----------+--------------+----------+----------+-------------+------------------+---------------+\n",
      "|longitude|latitude|housing_median_age|total_rooms|total_bedrooms|population|households|median_income|median_house_value|ocean_proximity|\n",
      "+---------+--------+------------------+-----------+--------------+----------+----------+-------------+------------------+---------------+\n",
      "|  -122.23|   37.88|              41.0|      880.0|         129.0|     322.0|     126.0|       8.3252|          452600.0|       NEAR BAY|\n",
      "|  -122.22|   37.86|              21.0|     7099.0|        1106.0|    2401.0|    1138.0|       8.3014|          358500.0|       NEAR BAY|\n",
      "|  -122.24|   37.85|              52.0|     1467.0|         190.0|     496.0|     177.0|       7.2574|          352100.0|       NEAR BAY|\n",
      "|  -122.25|   37.85|              52.0|     1274.0|         235.0|     558.0|     219.0|       5.6431|          341300.0|       NEAR BAY|\n",
      "|  -122.25|   37.85|              52.0|     1627.0|         280.0|     565.0|     259.0|       3.8462|          342200.0|       NEAR BAY|\n",
      "+---------+--------+------------------+-----------+--------------+----------+----------+-------------+------------------+---------------+\n",
      "only showing top 5 rows\n",
      "\n"
     ]
    }
   ],
   "source": [
    "# выведите первые 10 строк \n",
    "df_housing.show(5)"
   ]
  },
  {
   "cell_type": "code",
   "execution_count": 7,
   "id": "a666d7f8",
   "metadata": {},
   "outputs": [
    {
     "name": "stderr",
     "output_type": "stream",
     "text": [
      "                                                                                \r"
     ]
    },
    {
     "name": "stdout",
     "output_type": "stream",
     "text": [
      "+-------+-------------------+\n",
      "|summary|          longitude|\n",
      "+-------+-------------------+\n",
      "|  count|              20640|\n",
      "|   mean|-119.56970445736148|\n",
      "| stddev|  2.003531723502584|\n",
      "|    min|            -124.35|\n",
      "|    max|            -114.31|\n",
      "+-------+-------------------+\n",
      "\n",
      "+-------+-----------------+\n",
      "|summary|         latitude|\n",
      "+-------+-----------------+\n",
      "|  count|            20640|\n",
      "|   mean| 35.6318614341087|\n",
      "| stddev|2.135952397457101|\n",
      "|    min|            32.54|\n",
      "|    max|            41.95|\n",
      "+-------+-----------------+\n",
      "\n",
      "+-------+------------------+\n",
      "|summary|housing_median_age|\n",
      "+-------+------------------+\n",
      "|  count|             20640|\n",
      "|   mean|28.639486434108527|\n",
      "| stddev| 12.58555761211163|\n",
      "|    min|               1.0|\n",
      "|    max|              52.0|\n",
      "+-------+------------------+\n",
      "\n",
      "+-------+------------------+\n",
      "|summary|       total_rooms|\n",
      "+-------+------------------+\n",
      "|  count|             20640|\n",
      "|   mean|2635.7630813953488|\n",
      "| stddev|2181.6152515827944|\n",
      "|    min|               2.0|\n",
      "|    max|           39320.0|\n",
      "+-------+------------------+\n",
      "\n",
      "+-------+------------------+\n",
      "|summary|    total_bedrooms|\n",
      "+-------+------------------+\n",
      "|  count|             20433|\n",
      "|   mean| 537.8705525375618|\n",
      "| stddev|421.38507007403115|\n",
      "|    min|               1.0|\n",
      "|    max|            6445.0|\n",
      "+-------+------------------+\n",
      "\n",
      "+-------+------------------+\n",
      "|summary|        population|\n",
      "+-------+------------------+\n",
      "|  count|             20640|\n",
      "|   mean|1425.4767441860465|\n",
      "| stddev|  1132.46212176534|\n",
      "|    min|               3.0|\n",
      "|    max|           35682.0|\n",
      "+-------+------------------+\n",
      "\n",
      "+-------+-----------------+\n",
      "|summary|       households|\n",
      "+-------+-----------------+\n",
      "|  count|            20640|\n",
      "|   mean|499.5396802325581|\n",
      "| stddev|382.3297528316098|\n",
      "|    min|              1.0|\n",
      "|    max|           6082.0|\n",
      "+-------+-----------------+\n",
      "\n",
      "+-------+------------------+\n",
      "|summary|     median_income|\n",
      "+-------+------------------+\n",
      "|  count|             20640|\n",
      "|   mean|3.8706710029070246|\n",
      "| stddev| 1.899821717945263|\n",
      "|    min|            0.4999|\n",
      "|    max|           15.0001|\n",
      "+-------+------------------+\n",
      "\n",
      "+-------+------------------+\n",
      "|summary|median_house_value|\n",
      "+-------+------------------+\n",
      "|  count|             20640|\n",
      "|   mean|206855.81690891474|\n",
      "| stddev|115395.61587441359|\n",
      "|    min|           14999.0|\n",
      "|    max|          500001.0|\n",
      "+-------+------------------+\n",
      "\n"
     ]
    },
    {
     "name": "stderr",
     "output_type": "stream",
     "text": [
      "[Stage 21:>                                                         (0 + 1) / 1]\r"
     ]
    },
    {
     "name": "stdout",
     "output_type": "stream",
     "text": [
      "+-------+---------------+\n",
      "|summary|ocean_proximity|\n",
      "+-------+---------------+\n",
      "|  count|          20640|\n",
      "|   mean|           null|\n",
      "| stddev|           null|\n",
      "|    min|      <1H OCEAN|\n",
      "|    max|     NEAR OCEAN|\n",
      "+-------+---------------+\n",
      "\n"
     ]
    },
    {
     "name": "stderr",
     "output_type": "stream",
     "text": [
      "                                                                                \r"
     ]
    }
   ],
   "source": [
    "# посмотрим базовые статистики\n",
    "# df_housing.toPandas().describe()\n",
    "for column in df_housing.columns:\n",
    "    df_housing.describe(column).show()"
   ]
  },
  {
   "cell_type": "markdown",
   "id": "9f9c4c21",
   "metadata": {},
   "source": [
    "Исследуем данные на наличие пропусков."
   ]
  },
  {
   "cell_type": "code",
   "execution_count": 8,
   "id": "6904e470",
   "metadata": {
    "scrolled": true
   },
   "outputs": [
    {
     "name": "stdout",
     "output_type": "stream",
     "text": [
      "longitude            0\n",
      "latitude             0\n",
      "housing_median_age   0\n",
      "total_rooms          0\n",
      "total_bedrooms       207\n",
      "population           0\n",
      "households           0\n",
      "median_income        0\n",
      "median_house_value   0\n",
      "ocean_proximity      0\n"
     ]
    }
   ],
   "source": [
    "# подсчет пропусков по столбцам\n",
    "for column in df_housing.columns:\n",
    "    print(f'{column:20} {df_housing.select(column).count() - df_housing.select(column).dropna().count()}')"
   ]
  },
  {
   "cell_type": "markdown",
   "id": "84cadaa8",
   "metadata": {},
   "source": [
    "### Вывод"
   ]
  },
  {
   "cell_type": "markdown",
   "id": "6a7d4f16",
   "metadata": {},
   "source": [
    "Нам доступны данные о жилье в Калифорнии в 1990 году. В них содержатся записи о 24 640 наблюдениях. \n",
    "\n",
    "Всего имеется 10 столбцов: 9 характеристик и целевой признак (медианная стоимость дома в жилом массиве). \n",
    "\n",
    "Один столбец содержит строковые данные (близость к океану), остальные – числовые. \n",
    "\n",
    "Пропуски есть только в столбце с общим количеством спален в домах жилого массива."
   ]
  },
  {
   "cell_type": "markdown",
   "id": "53871372",
   "metadata": {
    "id": "53871372"
   },
   "source": [
    "## Подготовка данных"
   ]
  },
  {
   "cell_type": "markdown",
   "id": "6b66f391",
   "metadata": {},
   "source": [
    "### Создание тестового датасета"
   ]
  },
  {
   "cell_type": "markdown",
   "id": "90b9f123",
   "metadata": {},
   "source": [
    "Разделим датасет на две части – тренировочную и тестовую выборку в отношении 4 : 1. Закономерности для преобразования данных (заполнения пропусков, масштабирования и т.д.) будем вырабатывать на тренировочных данных, а применять преобразования будем к обеим выборкам."
   ]
  },
  {
   "cell_type": "code",
   "execution_count": 9,
   "id": "48c9d702",
   "metadata": {},
   "outputs": [
    {
     "name": "stderr",
     "output_type": "stream",
     "text": [
      "                                                                                \r"
     ]
    },
    {
     "name": "stdout",
     "output_type": "stream",
     "text": [
      "train: 16519 \n",
      "test: 4121\n"
     ]
    }
   ],
   "source": [
    "# разбивка на тренировочную и тестовую выборки\n",
    "train_data, test_data = df_housing.randomSplit([.8,.2], seed=RANDOM_SEED)\n",
    "print('train:',train_data.count(), '\\ntest:', test_data.count()) "
   ]
  },
  {
   "cell_type": "code",
   "execution_count": 10,
   "id": "52a441c4",
   "metadata": {},
   "outputs": [],
   "source": [
    "# целевой признак\n",
    "target = 'median_house_value'"
   ]
  },
  {
   "cell_type": "code",
   "execution_count": 11,
   "id": "ee561e38",
   "metadata": {},
   "outputs": [],
   "source": [
    "# столбец с категориальным признаком\n",
    "categorical_col = 'ocean_proximity'"
   ]
  },
  {
   "cell_type": "markdown",
   "id": "8f2723f9",
   "metadata": {},
   "source": [
    "### Обработка пропусков"
   ]
  },
  {
   "cell_type": "markdown",
   "id": "89a6ceab",
   "metadata": {},
   "source": [
    "Пропуски содержатся в столбце 'total_bedrooms'. Заполним их медианным значением этого столбца."
   ]
  },
  {
   "cell_type": "markdown",
   "id": "61f3769c",
   "metadata": {},
   "source": [
    "Вычислим 50-й перцентиль столбца total_bedrooms. Это и есть медианное значение. Параметр relativeError выставим равным нулю, так как наш датасет имеет размер, позволяющий нам точно вычислить медиану."
   ]
  },
  {
   "cell_type": "code",
   "execution_count": 12,
   "id": "b1a24d99",
   "metadata": {},
   "outputs": [
    {
     "name": "stderr",
     "output_type": "stream",
     "text": [
      "                                                                                \r"
     ]
    },
    {
     "data": {
      "text/plain": [
       "432.0"
      ]
     },
     "execution_count": 12,
     "metadata": {},
     "output_type": "execute_result"
    }
   ],
   "source": [
    "# расчет медианы\n",
    "median_total_bedrooms = train_data.approxQuantile('total_bedrooms', [0.5], 0)[0]\n",
    "median_total_bedrooms"
   ]
  },
  {
   "cell_type": "code",
   "execution_count": 13,
   "id": "cf338137",
   "metadata": {},
   "outputs": [
    {
     "data": {
      "text/plain": [
       "(167, 40)"
      ]
     },
     "execution_count": 13,
     "metadata": {},
     "output_type": "execute_result"
    }
   ],
   "source": [
    "# количество пропусков до заполнения\n",
    "train_data.filter(F.col('total_bedrooms').isNull()).count(), \\\n",
    "test_data.filter(F.col('total_bedrooms').isNull()).count(), "
   ]
  },
  {
   "cell_type": "code",
   "execution_count": 14,
   "id": "a127948e",
   "metadata": {},
   "outputs": [],
   "source": [
    "# заполняем пропуски медианным значением\n",
    "train_data = train_data.fillna({'total_bedrooms': median_total_bedrooms})\n",
    "test_data = test_data.fillna({'total_bedrooms': median_total_bedrooms})"
   ]
  },
  {
   "cell_type": "code",
   "execution_count": 15,
   "id": "5a1eda01",
   "metadata": {},
   "outputs": [
    {
     "data": {
      "text/plain": [
       "(0, 0)"
      ]
     },
     "execution_count": 15,
     "metadata": {},
     "output_type": "execute_result"
    }
   ],
   "source": [
    "# количество пропусков после заполнения\n",
    "train_data.filter(F.col('total_bedrooms').isNull()).count(), \\\n",
    "test_data.filter(F.col('total_bedrooms').isNull()).count(), "
   ]
  },
  {
   "cell_type": "markdown",
   "id": "acac5efd",
   "metadata": {},
   "source": [
    "### Преобразование категориальных значений"
   ]
  },
  {
   "cell_type": "markdown",
   "id": "007fafb8",
   "metadata": {},
   "source": [
    "#### StringIndexer"
   ]
  },
  {
   "cell_type": "markdown",
   "id": "512bcf69",
   "metadata": {},
   "source": [
    "В первую очередь трансформируем категориальный признак с помощью трансформера StringIndexer."
   ]
  },
  {
   "cell_type": "code",
   "execution_count": 16,
   "id": "e0b32085",
   "metadata": {},
   "outputs": [],
   "source": [
    "# определим StringIndexer\n",
    "indexer = StringIndexer(inputCol=categorical_col, \n",
    "                        outputCol=categorical_col+'_idx',\n",
    "                         handleInvalid='keep'\n",
    "                       ) "
   ]
  },
  {
   "cell_type": "code",
   "execution_count": 17,
   "id": "e0c5de4b",
   "metadata": {},
   "outputs": [
    {
     "name": "stderr",
     "output_type": "stream",
     "text": [
      "                                                                                \r"
     ]
    }
   ],
   "source": [
    "# обучим оценщик на тренировочной выборке\n",
    "indexer = indexer.fit(train_data)"
   ]
  },
  {
   "cell_type": "code",
   "execution_count": 18,
   "id": "bc0de32f",
   "metadata": {},
   "outputs": [
    {
     "name": "stdout",
     "output_type": "stream",
     "text": [
      "root\n",
      " |-- longitude: double (nullable = true)\n",
      " |-- latitude: double (nullable = true)\n",
      " |-- housing_median_age: double (nullable = true)\n",
      " |-- total_rooms: double (nullable = true)\n",
      " |-- total_bedrooms: double (nullable = false)\n",
      " |-- population: double (nullable = true)\n",
      " |-- households: double (nullable = true)\n",
      " |-- median_income: double (nullable = true)\n",
      " |-- median_house_value: double (nullable = true)\n",
      " |-- ocean_proximity: string (nullable = true)\n",
      " |-- ocean_proximity_idx: double (nullable = false)\n",
      "\n"
     ]
    }
   ],
   "source": [
    "# трансформируем категориальный признак на тренировочной выборке\n",
    "train_data = indexer.transform(train_data)\n",
    "train_data.printSchema()"
   ]
  },
  {
   "cell_type": "code",
   "execution_count": 19,
   "id": "ee57f362",
   "metadata": {},
   "outputs": [
    {
     "name": "stdout",
     "output_type": "stream",
     "text": [
      "root\n",
      " |-- longitude: double (nullable = true)\n",
      " |-- latitude: double (nullable = true)\n",
      " |-- housing_median_age: double (nullable = true)\n",
      " |-- total_rooms: double (nullable = true)\n",
      " |-- total_bedrooms: double (nullable = false)\n",
      " |-- population: double (nullable = true)\n",
      " |-- households: double (nullable = true)\n",
      " |-- median_income: double (nullable = true)\n",
      " |-- median_house_value: double (nullable = true)\n",
      " |-- ocean_proximity: string (nullable = true)\n",
      " |-- ocean_proximity_idx: double (nullable = false)\n",
      "\n"
     ]
    }
   ],
   "source": [
    "# трансформируем категориальный признак на тестовой выборке\n",
    "test_data = indexer.transform(test_data)\n",
    "test_data.printSchema()"
   ]
  },
  {
   "cell_type": "code",
   "execution_count": 20,
   "id": "9af1a246",
   "metadata": {},
   "outputs": [
    {
     "name": "stderr",
     "output_type": "stream",
     "text": [
      "                                                                                \r"
     ]
    },
    {
     "data": {
      "text/plain": [
       "[Row(ocean_proximity_idx=0.0),\n",
       " Row(ocean_proximity_idx=1.0),\n",
       " Row(ocean_proximity_idx=4.0),\n",
       " Row(ocean_proximity_idx=3.0),\n",
       " Row(ocean_proximity_idx=2.0)]"
      ]
     },
     "execution_count": 20,
     "metadata": {},
     "output_type": "execute_result"
    }
   ],
   "source": [
    "# посмотрим на значения в индексированной колонке\n",
    "test_data.select('ocean_proximity_idx').distinct().collect()"
   ]
  },
  {
   "cell_type": "markdown",
   "id": "4589d288",
   "metadata": {},
   "source": [
    "#### OneHotEncoder"
   ]
  },
  {
   "cell_type": "markdown",
   "id": "a3f24982",
   "metadata": {},
   "source": [
    "Преобразуем колонку с категориальными значениями техникой One hot encoding."
   ]
  },
  {
   "cell_type": "code",
   "execution_count": 21,
   "id": "8f9391b8",
   "metadata": {},
   "outputs": [],
   "source": [
    "# определим OneHotEncoder\n",
    "encoder = OneHotEncoder(inputCol='ocean_proximity_idx',\n",
    "                        outputCol='ocean_proximity_idx_ohe')"
   ]
  },
  {
   "cell_type": "code",
   "execution_count": 22,
   "id": "4324f02e",
   "metadata": {},
   "outputs": [],
   "source": [
    "# обучим оценщик на тренировочной выборке\n",
    "encoder = encoder.fit(train_data)"
   ]
  },
  {
   "cell_type": "code",
   "execution_count": 23,
   "id": "a8c56c77",
   "metadata": {},
   "outputs": [
    {
     "name": "stdout",
     "output_type": "stream",
     "text": [
      "root\n",
      " |-- longitude: double (nullable = true)\n",
      " |-- latitude: double (nullable = true)\n",
      " |-- housing_median_age: double (nullable = true)\n",
      " |-- total_rooms: double (nullable = true)\n",
      " |-- total_bedrooms: double (nullable = false)\n",
      " |-- population: double (nullable = true)\n",
      " |-- households: double (nullable = true)\n",
      " |-- median_income: double (nullable = true)\n",
      " |-- median_house_value: double (nullable = true)\n",
      " |-- ocean_proximity: string (nullable = true)\n",
      " |-- ocean_proximity_idx: double (nullable = false)\n",
      " |-- ocean_proximity_idx_ohe: vector (nullable = true)\n",
      "\n"
     ]
    }
   ],
   "source": [
    "# преобразуем индексированный категориальный признак на тренировочной выборке\n",
    "train_data = encoder.transform(train_data)\n",
    "train_data.printSchema()"
   ]
  },
  {
   "cell_type": "code",
   "execution_count": 24,
   "id": "b7de6530",
   "metadata": {},
   "outputs": [
    {
     "name": "stdout",
     "output_type": "stream",
     "text": [
      "root\n",
      " |-- longitude: double (nullable = true)\n",
      " |-- latitude: double (nullable = true)\n",
      " |-- housing_median_age: double (nullable = true)\n",
      " |-- total_rooms: double (nullable = true)\n",
      " |-- total_bedrooms: double (nullable = false)\n",
      " |-- population: double (nullable = true)\n",
      " |-- households: double (nullable = true)\n",
      " |-- median_income: double (nullable = true)\n",
      " |-- median_house_value: double (nullable = true)\n",
      " |-- ocean_proximity: string (nullable = true)\n",
      " |-- ocean_proximity_idx: double (nullable = false)\n",
      " |-- ocean_proximity_idx_ohe: vector (nullable = true)\n",
      "\n"
     ]
    }
   ],
   "source": [
    "# преобразуем индексированный категориальный признак на тестовой выборке\n",
    "test_data = encoder.transform(test_data)\n",
    "test_data.printSchema()"
   ]
  },
  {
   "cell_type": "code",
   "execution_count": 25,
   "id": "25c3eaca",
   "metadata": {},
   "outputs": [
    {
     "name": "stdout",
     "output_type": "stream",
     "text": [
      "+-----------------------+\n",
      "|ocean_proximity_idx_ohe|\n",
      "+-----------------------+\n",
      "|          (5,[2],[1.0])|\n",
      "|          (5,[2],[1.0])|\n",
      "|          (5,[2],[1.0])|\n",
      "|          (5,[2],[1.0])|\n",
      "|          (5,[2],[1.0])|\n",
      "+-----------------------+\n",
      "only showing top 5 rows\n",
      "\n"
     ]
    }
   ],
   "source": [
    "# посмотрим на значения внутри ocean_proximity_idx_ohe\n",
    "test_data.select('ocean_proximity_idx_ohe').show(5)"
   ]
  },
  {
   "cell_type": "markdown",
   "id": "054ee06e",
   "metadata": {},
   "source": [
    "### Генерация синтетических признаков"
   ]
  },
  {
   "cell_type": "markdown",
   "id": "8868a950",
   "metadata": {},
   "source": [
    "Создадим несколько новых столбцов с признаками:\n",
    "\n",
    "- rooms_per_household: отношение количества комнат total_rooms к количеству домовладений households.\n",
    "- population_in_household: отношение количества жителей population к количеству домовладений households. \n",
    "- bedroom_index: отношение количества спален total_bedrooms к общему количеству комнат total_rooms.\n"
   ]
  },
  {
   "cell_type": "code",
   "execution_count": 26,
   "id": "4dfd8cea",
   "metadata": {},
   "outputs": [
    {
     "name": "stdout",
     "output_type": "stream",
     "text": [
      "root\n",
      " |-- longitude: double (nullable = true)\n",
      " |-- latitude: double (nullable = true)\n",
      " |-- housing_median_age: double (nullable = true)\n",
      " |-- total_rooms: double (nullable = true)\n",
      " |-- total_bedrooms: double (nullable = false)\n",
      " |-- population: double (nullable = true)\n",
      " |-- households: double (nullable = true)\n",
      " |-- median_income: double (nullable = true)\n",
      " |-- median_house_value: double (nullable = true)\n",
      " |-- ocean_proximity: string (nullable = true)\n",
      " |-- ocean_proximity_idx: double (nullable = false)\n",
      " |-- ocean_proximity_idx_ohe: vector (nullable = true)\n",
      " |-- rooms_per_household: double (nullable = true)\n",
      " |-- population_in_household: double (nullable = true)\n",
      " |-- bedroom_index: double (nullable = true)\n",
      "\n"
     ]
    }
   ],
   "source": [
    "# для тренировочной выборки\n",
    "train_data = train_data.withColumn(\n",
    "    'rooms_per_household',\n",
    "    F.col('total_rooms') / F.col('households')\n",
    ").withColumn(\n",
    "    'population_in_household',\n",
    "    F.col('population') / F.col('households')\n",
    ").withColumn(\n",
    "    'bedroom_index',\n",
    "    F.col('total_bedrooms') / F.col('total_rooms')\n",
    ")\n",
    "\n",
    "train_data.printSchema()"
   ]
  },
  {
   "cell_type": "code",
   "execution_count": 27,
   "id": "eafe06da",
   "metadata": {},
   "outputs": [
    {
     "name": "stdout",
     "output_type": "stream",
     "text": [
      "root\n",
      " |-- longitude: double (nullable = true)\n",
      " |-- latitude: double (nullable = true)\n",
      " |-- housing_median_age: double (nullable = true)\n",
      " |-- total_rooms: double (nullable = true)\n",
      " |-- total_bedrooms: double (nullable = false)\n",
      " |-- population: double (nullable = true)\n",
      " |-- households: double (nullable = true)\n",
      " |-- median_income: double (nullable = true)\n",
      " |-- median_house_value: double (nullable = true)\n",
      " |-- ocean_proximity: string (nullable = true)\n",
      " |-- ocean_proximity_idx: double (nullable = false)\n",
      " |-- ocean_proximity_idx_ohe: vector (nullable = true)\n",
      " |-- rooms_per_household: double (nullable = true)\n",
      " |-- population_in_household: double (nullable = true)\n",
      " |-- bedroom_index: double (nullable = true)\n",
      "\n"
     ]
    }
   ],
   "source": [
    "# для тестовой выборки\n",
    "test_data = test_data.withColumn(\n",
    "    'rooms_per_household',\n",
    "    F.col('total_rooms') / F.col('households')\n",
    ").withColumn(\n",
    "    'population_in_household',\n",
    "    F.col('population') / F.col('households')\n",
    ").withColumn(\n",
    "    'bedroom_index',\n",
    "    F.col('total_bedrooms') / F.col('total_rooms')\n",
    ")\n",
    "\n",
    "test_data.printSchema()"
   ]
  },
  {
   "cell_type": "markdown",
   "id": "91fb7e0b",
   "metadata": {},
   "source": [
    "Создадим переменные с названиями столбцов, необходимые для дальнейшей работы."
   ]
  },
  {
   "cell_type": "code",
   "execution_count": 28,
   "id": "7d2a99ee",
   "metadata": {},
   "outputs": [],
   "source": [
    "# список числовых столбцов\n",
    "numerical_cols = ['longitude',\n",
    " 'latitude',\n",
    " 'housing_median_age',\n",
    " 'total_rooms',\n",
    " 'total_bedrooms',\n",
    " 'population',\n",
    " 'households',\n",
    " 'median_income',\n",
    " 'rooms_per_household',\n",
    " 'population_in_household',\n",
    " 'bedroom_index']"
   ]
  },
  {
   "cell_type": "markdown",
   "id": "789220e8",
   "metadata": {},
   "source": [
    "### Вектора признаков"
   ]
  },
  {
   "cell_type": "markdown",
   "id": "c380e086",
   "metadata": {},
   "source": [
    "Объединим признаки в вектора, с которым ML-алгоритм умеет работать."
   ]
  },
  {
   "cell_type": "markdown",
   "id": "87af57db",
   "metadata": {},
   "source": [
    "В нашем наборе данных только один категориальный признак. После его обработки OneHotEncoder  вернул нам вектор, который хранится в столбце 'ocean_proximity_idx_ohe'. Поэтому дополнительно обрабатывать этот столбец с помощью VectorAssembler нет смысла."
   ]
  },
  {
   "cell_type": "code",
   "execution_count": 29,
   "id": "a6b6e74d",
   "metadata": {},
   "outputs": [],
   "source": [
    "# ассемблер вектора числовых признаков\n",
    "numerical_assembler = VectorAssembler(\n",
    "    inputCols=numerical_cols,\n",
    "    outputCol=\"numerical_features\"\n",
    ")"
   ]
  },
  {
   "cell_type": "code",
   "execution_count": 30,
   "id": "603536d1",
   "metadata": {},
   "outputs": [],
   "source": [
    "# добавляем вектор числовых признаков к тренировочным данным\n",
    "train_data = numerical_assembler.transform(train_data) "
   ]
  },
  {
   "cell_type": "code",
   "execution_count": 31,
   "id": "5fe9959c",
   "metadata": {},
   "outputs": [
    {
     "name": "stdout",
     "output_type": "stream",
     "text": [
      "+--------------------------------------------------------------------------------------------------------------+\n",
      "|numerical_features                                                                                            |\n",
      "+--------------------------------------------------------------------------------------------------------------+\n",
      "|[-124.35,40.54,52.0,1820.0,300.0,806.0,270.0,3.0147,6.7407407407407405,2.9851851851851854,0.16483516483516483]|\n",
      "|[-124.3,41.8,19.0,2672.0,552.0,1298.0,478.0,1.9797,5.589958158995816,2.715481171548117,0.20658682634730538]   |\n",
      "|[-124.3,41.84,17.0,2677.0,531.0,1244.0,456.0,3.0313,5.870614035087719,2.7280701754385963,0.19835636906985432] |\n",
      "|[-124.27,40.69,36.0,2349.0,528.0,1194.0,465.0,2.5179,5.051612903225807,2.567741935483871,0.2247765006385696]  |\n",
      "|[-124.26,40.58,52.0,2217.0,394.0,907.0,369.0,2.3571,6.008130081300813,2.4579945799457996,0.17771763644564728] |\n",
      "+--------------------------------------------------------------------------------------------------------------+\n",
      "only showing top 5 rows\n",
      "\n"
     ]
    }
   ],
   "source": [
    "# посмотрим пример получившегося вектора\n",
    "train_data.select('numerical_features').show(5, truncate=False)"
   ]
  },
  {
   "cell_type": "code",
   "execution_count": 32,
   "id": "fbca5082",
   "metadata": {},
   "outputs": [],
   "source": [
    "# добавляем вектор числовых признаков к тестовым данным\n",
    "test_data = numerical_assembler.transform(test_data) "
   ]
  },
  {
   "cell_type": "code",
   "execution_count": 33,
   "id": "5fb24e5f",
   "metadata": {},
   "outputs": [
    {
     "name": "stdout",
     "output_type": "stream",
     "text": [
      "root\n",
      " |-- longitude: double (nullable = true)\n",
      " |-- latitude: double (nullable = true)\n",
      " |-- housing_median_age: double (nullable = true)\n",
      " |-- total_rooms: double (nullable = true)\n",
      " |-- total_bedrooms: double (nullable = false)\n",
      " |-- population: double (nullable = true)\n",
      " |-- households: double (nullable = true)\n",
      " |-- median_income: double (nullable = true)\n",
      " |-- median_house_value: double (nullable = true)\n",
      " |-- ocean_proximity: string (nullable = true)\n",
      " |-- ocean_proximity_idx: double (nullable = false)\n",
      " |-- ocean_proximity_idx_ohe: vector (nullable = true)\n",
      " |-- rooms_per_household: double (nullable = true)\n",
      " |-- population_in_household: double (nullable = true)\n",
      " |-- bedroom_index: double (nullable = true)\n",
      " |-- numerical_features: vector (nullable = true)\n",
      "\n"
     ]
    }
   ],
   "source": [
    "# проверим столбцы\n",
    "test_data.printSchema()"
   ]
  },
  {
   "cell_type": "markdown",
   "id": "c28d7f5b",
   "metadata": {},
   "source": [
    "### Шкалирование значений"
   ]
  },
  {
   "cell_type": "markdown",
   "id": "6b61dab0",
   "metadata": {},
   "source": [
    "Для числовых признаков тоже нужна трансформация — шкалирование значений — чтобы сильные выбросы не смещали предсказания модели."
   ]
  },
  {
   "cell_type": "code",
   "execution_count": 34,
   "id": "9e0f0fad",
   "metadata": {},
   "outputs": [],
   "source": [
    "# инициализируем StandardScaler\n",
    "standardScaler = StandardScaler(\n",
    "    inputCol='numerical_features',\n",
    "    outputCol=\"numerical_features_scaled\"\n",
    ")"
   ]
  },
  {
   "cell_type": "code",
   "execution_count": 35,
   "id": "3e82d999",
   "metadata": {},
   "outputs": [
    {
     "name": "stderr",
     "output_type": "stream",
     "text": [
      "                                                                                \r"
     ]
    }
   ],
   "source": [
    "# обучаем StandardScaler на тренировочной выборке\n",
    "standardScaler = standardScaler.fit(train_data)"
   ]
  },
  {
   "cell_type": "code",
   "execution_count": 36,
   "id": "c864aa49",
   "metadata": {},
   "outputs": [],
   "source": [
    "# масштабируем числовые признаки тренировочной выборки\n",
    "train_data = standardScaler.transform(train_data)"
   ]
  },
  {
   "cell_type": "code",
   "execution_count": 37,
   "id": "1164c8d7",
   "metadata": {},
   "outputs": [
    {
     "name": "stdout",
     "output_type": "stream",
     "text": [
      "+------------------------------------------------------------------------------------------------------------------------------------------------------------------------------------------------------------------+\n",
      "|numerical_features_scaled                                                                                                                                                                                         |\n",
      "+------------------------------------------------------------------------------------------------------------------------------------------------------------------------------------------------------------------+\n",
      "|[-62.02964256566471,18.99375002446522,4.136996929296689,0.8514654800992952,0.7273133614390778,0.7427055124812206,0.7186026186759754,1.5839557840149008,2.681443914416072,0.2573081351742053,2.4884194570386304]   |\n",
      "|[-62.004701012562315,19.58408364634056,1.511595031858406,1.2500636059479764,1.338256585047903,1.1960691751868788,1.2721927841745047,1.040155659141639,2.223666487673377,0.23406098885231058,3.1187197147196724]   |\n",
      "|[-62.004701012562315,19.602824396241367,1.3524797653469947,1.25240279682737,1.2873446497471677,1.1463097487923555,1.213639978208314,1.5926776024428198,2.335310447875449,0.23514609845651058,2.9944693458738305]  |\n",
      "|[-61.98973608070087,19.064027836593237,2.8640747972054004,1.0989518751391454,1.2800715161327767,1.1002362058344632,1.2375933988308465,1.3229317240757352,2.009514562023048,0.22132660054286485,3.393318520556041] |\n",
      "|[-61.984747770080396,19.012490774366025,4.136996929296689,1.0371972359231525,0.9552048813566554,0.8357740692561626,0.9820902455238331,1.2384456756896285,2.390013866896448,0.21186692362434567,2.6828985479676155]|\n",
      "+------------------------------------------------------------------------------------------------------------------------------------------------------------------------------------------------------------------+\n",
      "only showing top 5 rows\n",
      "\n"
     ]
    }
   ],
   "source": [
    "# посмотрим пример получившегося вектора\n",
    "train_data.select('numerical_features_scaled').show(5, truncate=False)"
   ]
  },
  {
   "cell_type": "code",
   "execution_count": 38,
   "id": "c6330c61",
   "metadata": {},
   "outputs": [],
   "source": [
    "# масштабируем числовые признаки тестовой выборки\n",
    "test_data = standardScaler.transform(test_data)"
   ]
  },
  {
   "cell_type": "code",
   "execution_count": 39,
   "id": "629b10ff",
   "metadata": {},
   "outputs": [
    {
     "name": "stdout",
     "output_type": "stream",
     "text": [
      "root\n",
      " |-- longitude: double (nullable = true)\n",
      " |-- latitude: double (nullable = true)\n",
      " |-- housing_median_age: double (nullable = true)\n",
      " |-- total_rooms: double (nullable = true)\n",
      " |-- total_bedrooms: double (nullable = false)\n",
      " |-- population: double (nullable = true)\n",
      " |-- households: double (nullable = true)\n",
      " |-- median_income: double (nullable = true)\n",
      " |-- median_house_value: double (nullable = true)\n",
      " |-- ocean_proximity: string (nullable = true)\n",
      " |-- ocean_proximity_idx: double (nullable = false)\n",
      " |-- ocean_proximity_idx_ohe: vector (nullable = true)\n",
      " |-- rooms_per_household: double (nullable = true)\n",
      " |-- population_in_household: double (nullable = true)\n",
      " |-- bedroom_index: double (nullable = true)\n",
      " |-- numerical_features: vector (nullable = true)\n",
      " |-- numerical_features_scaled: vector (nullable = true)\n",
      "\n"
     ]
    }
   ],
   "source": [
    "# проверим столбцы\n",
    "test_data.printSchema()"
   ]
  },
  {
   "cell_type": "markdown",
   "id": "ab6a9acf",
   "metadata": {},
   "source": [
    "### Вывод"
   ]
  },
  {
   "cell_type": "markdown",
   "id": "51cdcfd3",
   "metadata": {},
   "source": [
    "На этапе подготовки данных мы разделили датасет на две части – тренировочную и тестовую выборку в отношении 4 : 1.\n",
    "\n",
    "Пропуски содержались только в столбце total_bedrooms с общим количеством спален в домах жилого массива. Заполнили их медианным значением по столбцу.\n",
    "\n",
    "Столбец ocean_proximity содержит категориальный признак - близость к океану. Обработали этот признак следующим образом: сначала привели его числовому виду с помощью StringIndexer, затем преобразовали с помощью техники One hot encoding.\n",
    "\n",
    "Для повышения качества модели создали несколько новых столбцов с признаками:\n",
    "    \n",
    "- rooms_per_household: отношение количества комнат total_rooms к количеству домовладений households.\n",
    "- population_in_household: отношение количества жителей population к количеству домовладений households.\n",
    "- bedroom_index: отношение количества спален total_bedrooms к общему количеству комнат total_rooms. \n",
    "\n",
    "Далее числовые признаки собрали в вектор, который затем масштабировали с помощью StandardScaler.\n",
    "Теперь можно переходить к обучению модели.\n"
   ]
  },
  {
   "cell_type": "markdown",
   "id": "9f0a82f3",
   "metadata": {
    "id": "9f0a82f3"
   },
   "source": [
    "## Обучение моделей"
   ]
  },
  {
   "cell_type": "markdown",
   "id": "69563b5f",
   "metadata": {
    "id": "bddb08c4"
   },
   "source": [
    "Построим две модели линейной регрессии на разных наборах данных: \n",
    "\n",
    "- используя все данные из файла;\n",
    "\n",
    "- используя только числовые переменные, исключив категориальные."
   ]
  },
  {
   "cell_type": "markdown",
   "id": "00f26c04",
   "metadata": {},
   "source": [
    "### Наборы данных для обучения"
   ]
  },
  {
   "cell_type": "markdown",
   "id": "185e02f4",
   "metadata": {},
   "source": [
    "Соберем трансформированные категорийные и числовые признаки с помощью VectorAssembler."
   ]
  },
  {
   "cell_type": "code",
   "execution_count": 40,
   "id": "2fdf03c9",
   "metadata": {},
   "outputs": [],
   "source": [
    "# для обучения модели по всем данным\n",
    "all_features = ['ocean_proximity_idx_ohe','numerical_features_scaled']"
   ]
  },
  {
   "cell_type": "code",
   "execution_count": 41,
   "id": "6cfe12d9",
   "metadata": {},
   "outputs": [],
   "source": [
    "# ассемблер всех признаков\n",
    "all_features_assembler = VectorAssembler(\n",
    "    inputCols=all_features, \n",
    "    outputCol=\"all_features\")"
   ]
  },
  {
   "cell_type": "code",
   "execution_count": 42,
   "id": "ad6d12c3",
   "metadata": {},
   "outputs": [],
   "source": [
    "# собираем все признаки для тренировочной выборки\n",
    "train_data = all_features_assembler.transform(train_data)"
   ]
  },
  {
   "cell_type": "code",
   "execution_count": 43,
   "id": "38d71b83",
   "metadata": {},
   "outputs": [
    {
     "name": "stdout",
     "output_type": "stream",
     "text": [
      "+-----------------------------------------------------------------------------------------------------------------------------------------------------------------------------------------------------------------------------------+\n",
      "|all_features                                                                                                                                                                                                                       |\n",
      "+-----------------------------------------------------------------------------------------------------------------------------------------------------------------------------------------------------------------------------------+\n",
      "|[0.0,0.0,1.0,0.0,0.0,-62.02964256566471,18.99375002446522,4.136996929296689,0.8514654800992952,0.7273133614390778,0.7427055124812206,0.7186026186759754,1.5839557840149008,2.681443914416072,0.2573081351742053,2.4884194570386304]|\n",
      "+-----------------------------------------------------------------------------------------------------------------------------------------------------------------------------------------------------------------------------------+\n",
      "only showing top 1 row\n",
      "\n"
     ]
    }
   ],
   "source": [
    "# посмотрим пример получившегося вектора\n",
    "train_data.select('all_features').show(1, truncate=False)"
   ]
  },
  {
   "cell_type": "code",
   "execution_count": 44,
   "id": "6ea74808",
   "metadata": {},
   "outputs": [],
   "source": [
    "# собираем все признаки для тестовой выборки\n",
    "test_data = all_features_assembler.transform(test_data)"
   ]
  },
  {
   "cell_type": "code",
   "execution_count": 45,
   "id": "408e7e7e",
   "metadata": {},
   "outputs": [
    {
     "name": "stdout",
     "output_type": "stream",
     "text": [
      "root\n",
      " |-- longitude: double (nullable = true)\n",
      " |-- latitude: double (nullable = true)\n",
      " |-- housing_median_age: double (nullable = true)\n",
      " |-- total_rooms: double (nullable = true)\n",
      " |-- total_bedrooms: double (nullable = false)\n",
      " |-- population: double (nullable = true)\n",
      " |-- households: double (nullable = true)\n",
      " |-- median_income: double (nullable = true)\n",
      " |-- median_house_value: double (nullable = true)\n",
      " |-- ocean_proximity: string (nullable = true)\n",
      " |-- ocean_proximity_idx: double (nullable = false)\n",
      " |-- ocean_proximity_idx_ohe: vector (nullable = true)\n",
      " |-- rooms_per_household: double (nullable = true)\n",
      " |-- population_in_household: double (nullable = true)\n",
      " |-- bedroom_index: double (nullable = true)\n",
      " |-- numerical_features: vector (nullable = true)\n",
      " |-- numerical_features_scaled: vector (nullable = true)\n",
      " |-- all_features: vector (nullable = true)\n",
      "\n"
     ]
    }
   ],
   "source": [
    "# проверим столбцы\n",
    "test_data.printSchema()"
   ]
  },
  {
   "cell_type": "markdown",
   "id": "cf31a2d4",
   "metadata": {
    "id": "bddb08c4"
   },
   "source": [
    "Для построения модели будем использовать оценщик LinearRegression из библиотеки MLlib."
   ]
  },
  {
   "cell_type": "markdown",
   "id": "b2831c2a",
   "metadata": {},
   "source": [
    "### Регрессия по всем данным"
   ]
  },
  {
   "cell_type": "code",
   "execution_count": 46,
   "id": "298878a6",
   "metadata": {},
   "outputs": [],
   "source": [
    "# инициализируем линейную регрессию\n",
    "lr_all = LinearRegression(labelCol=target, featuresCol='all_features')"
   ]
  },
  {
   "cell_type": "code",
   "execution_count": 47,
   "id": "a1091e01",
   "metadata": {},
   "outputs": [
    {
     "name": "stderr",
     "output_type": "stream",
     "text": [
      "23/07/14 17:08:27 WARN Instrumentation: [c70d7b66] regParam is zero, which might cause numerical instability and overfitting.\n",
      "23/07/14 17:08:27 WARN BLAS: Failed to load implementation from: com.github.fommil.netlib.NativeSystemBLAS\n",
      "23/07/14 17:08:27 WARN BLAS: Failed to load implementation from: com.github.fommil.netlib.NativeRefBLAS\n",
      "23/07/14 17:08:28 WARN LAPACK: Failed to load implementation from: com.github.fommil.netlib.NativeSystemLAPACK\n",
      "23/07/14 17:08:28 WARN LAPACK: Failed to load implementation from: com.github.fommil.netlib.NativeRefLAPACK\n",
      "                                                                                \r"
     ]
    }
   ],
   "source": [
    "# обучаем модель на тренировочной выборке\n",
    "lr_all = lr_all.fit(train_data)"
   ]
  },
  {
   "cell_type": "code",
   "execution_count": 48,
   "id": "315cae2d",
   "metadata": {},
   "outputs": [],
   "source": [
    "# создаем предсказания для тестовой выборки\n",
    "predictions_on_all = lr_all.transform(test_data)"
   ]
  },
  {
   "cell_type": "code",
   "execution_count": 49,
   "id": "c72b2cfa",
   "metadata": {},
   "outputs": [
    {
     "name": "stdout",
     "output_type": "stream",
     "text": [
      "+------------------+------------------+\n",
      "|median_house_value|        prediction|\n",
      "+------------------+------------------+\n",
      "|           78300.0|122851.96173983812|\n",
      "|           67000.0| 149528.3170852661|\n",
      "|           62500.0|163295.19871732593|\n",
      "|          100600.0| 188242.8727504313|\n",
      "|          104200.0|195876.33860859275|\n",
      "|           74100.0|154340.64693838358|\n",
      "|          128100.0|216722.72860649228|\n",
      "|          130600.0|214340.63430464268|\n",
      "|           92800.0|207301.13498076797|\n",
      "|           83000.0| 173963.9000453055|\n",
      "+------------------+------------------+\n",
      "only showing top 10 rows\n",
      "\n"
     ]
    }
   ],
   "source": [
    "predictions_on_all.select('median_house_value', 'prediction').show(10)"
   ]
  },
  {
   "cell_type": "markdown",
   "id": "46a562b3",
   "metadata": {},
   "source": [
    "### Регрессия по числовым характеристикам"
   ]
  },
  {
   "cell_type": "code",
   "execution_count": 50,
   "id": "ac0c1c1c",
   "metadata": {},
   "outputs": [],
   "source": [
    "# инициализируем линейную регрессию\n",
    "lr_num = LinearRegression(labelCol=target, featuresCol='numerical_features_scaled')"
   ]
  },
  {
   "cell_type": "code",
   "execution_count": 51,
   "id": "7b17ec43",
   "metadata": {},
   "outputs": [
    {
     "name": "stderr",
     "output_type": "stream",
     "text": [
      "23/07/14 17:08:31 WARN Instrumentation: [736c9be9] regParam is zero, which might cause numerical instability and overfitting.\n"
     ]
    }
   ],
   "source": [
    "# обучаем модель на тренировочной выборке\n",
    "lr_num = lr_num.fit(train_data)"
   ]
  },
  {
   "cell_type": "code",
   "execution_count": 52,
   "id": "93c9ba53",
   "metadata": {},
   "outputs": [],
   "source": [
    "# создаем предсказания для тестовой выборки\n",
    "predictions_on_num = lr_num.transform(test_data)"
   ]
  },
  {
   "cell_type": "code",
   "execution_count": 53,
   "id": "e977b4c8",
   "metadata": {
    "scrolled": true
   },
   "outputs": [
    {
     "name": "stdout",
     "output_type": "stream",
     "text": [
      "+------------------+------------------+\n",
      "|median_house_value|        prediction|\n",
      "+------------------+------------------+\n",
      "|           78300.0| 78126.04342938773|\n",
      "|           67000.0|119507.87554582488|\n",
      "|           62500.0|133889.68745061755|\n",
      "|          100600.0|157414.14855087502|\n",
      "|          104200.0|165685.66417634767|\n",
      "|           74100.0|124235.44595741061|\n",
      "|          128100.0|189241.86645224597|\n",
      "|          130600.0|186014.30771065038|\n",
      "|           92800.0| 176969.7893705424|\n",
      "|           83000.0|142409.18660525745|\n",
      "+------------------+------------------+\n",
      "only showing top 10 rows\n",
      "\n"
     ]
    }
   ],
   "source": [
    "predictions_on_num.select('median_house_value', 'prediction').show(10)"
   ]
  },
  {
   "cell_type": "markdown",
   "id": "6e4cbe1d",
   "metadata": {},
   "source": [
    "Предсказания модели, которая училась только на числовых признаках выглядят более близкими к целевому признаку. Получим более точную оценку ошибки, рассчитав несколько метрик для двух моделей."
   ]
  },
  {
   "cell_type": "markdown",
   "id": "309e3ed2",
   "metadata": {},
   "source": [
    "### Вывод"
   ]
  },
  {
   "cell_type": "markdown",
   "id": "19ae0dd1",
   "metadata": {},
   "source": [
    "На этапе обучения модели мы создали дополнительный столбец all_features, который представляет собой вектор в пространстве масштабированных числовых признаков и обработанного техникой One hot encoding категориального признака.\n",
    "\n",
    "Модель линейной регрессии обучалась два раза: на всех имеющихся характеристиках и только на числовых.\n",
    "\n",
    "Перейдем к оценке качества прогнозов полученной модели."
   ]
  },
  {
   "cell_type": "markdown",
   "id": "757fd103",
   "metadata": {
    "id": "757fd103"
   },
   "source": [
    "## Анализ результатов"
   ]
  },
  {
   "cell_type": "markdown",
   "id": "082e9128",
   "metadata": {},
   "source": [
    "Сравним результаты работы линейной регрессии на двух наборах данных по метрикам RMSE, MAE и R2."
   ]
  },
  {
   "cell_type": "markdown",
   "id": "da57af1d",
   "metadata": {},
   "source": [
    "### Метрика RMSE"
   ]
  },
  {
   "cell_type": "markdown",
   "id": "de3fb79b",
   "metadata": {},
   "source": [
    "RMSE (Root Mean Squared Error), это корень квадратный из среднеквадратичной ошибки прогноза. Эта метрика показывает, на сколько, в среднем, прогноз отклоняется от реальных значений рыночной цены."
   ]
  },
  {
   "cell_type": "code",
   "execution_count": 55,
   "id": "c93b766d",
   "metadata": {},
   "outputs": [
    {
     "data": {
      "text/plain": [
       "69278.94079842806"
      ]
     },
     "execution_count": 55,
     "metadata": {},
     "output_type": "execute_result"
    }
   ],
   "source": [
    "# величина ошибки на всех признаках\n",
    "rmse_all = RegressionEvaluator(\n",
    "    labelCol='median_house_value',\n",
    ").evaluate(predictions_on_all)\n",
    "\n",
    "rmse_all"
   ]
  },
  {
   "cell_type": "code",
   "execution_count": 56,
   "id": "f27c98aa",
   "metadata": {},
   "outputs": [
    {
     "data": {
      "text/plain": [
       "70260.62561297978"
      ]
     },
     "execution_count": 56,
     "metadata": {},
     "output_type": "execute_result"
    }
   ],
   "source": [
    "# величина ошибки на числовых признаках\n",
    "rmse_num = RegressionEvaluator(\n",
    "    labelCol='median_house_value',\n",
    "    metricName='rmse'\n",
    ").evaluate(predictions_on_num)\n",
    "\n",
    "rmse_num\n",
    "# 70610.93156332383"
   ]
  },
  {
   "cell_type": "markdown",
   "id": "b9876b5f",
   "metadata": {},
   "source": [
    "### Метрика MAE"
   ]
  },
  {
   "cell_type": "markdown",
   "id": "20866892",
   "metadata": {},
   "source": [
    "Средняя абсолютная ошибка (MAE). Это степень несоответствия между фактическими и прогнозируемыми значениями. Абсолютная ошибка представляет собой разность между спрогнозированным и фактическим значениями. MAE — это среднее от таких ошибок, что помогает понять эффективность модели."
   ]
  },
  {
   "cell_type": "code",
   "execution_count": 58,
   "id": "85bd3a52",
   "metadata": {},
   "outputs": [
    {
     "data": {
      "text/plain": [
       "49359.56970419781"
      ]
     },
     "execution_count": 58,
     "metadata": {},
     "output_type": "execute_result"
    }
   ],
   "source": [
    "# величина ошибки на всех признаках\n",
    "mae_all = RegressionEvaluator(\n",
    "    labelCol='median_house_value',\n",
    "    metricName='mae'\n",
    ").evaluate(predictions_on_all)\n",
    "\n",
    "mae_all"
   ]
  },
  {
   "cell_type": "code",
   "execution_count": 59,
   "id": "88bf34cc",
   "metadata": {},
   "outputs": [
    {
     "data": {
      "text/plain": [
       "50372.631036849154"
      ]
     },
     "execution_count": 59,
     "metadata": {},
     "output_type": "execute_result"
    }
   ],
   "source": [
    "# величина ошибки на числовых признаках\n",
    "mae_num = RegressionEvaluator(\n",
    "    labelCol='median_house_value',\n",
    "    metricName='mae'\n",
    ").evaluate(predictions_on_num)\n",
    "mae_num"
   ]
  },
  {
   "cell_type": "markdown",
   "id": "d5f1b054",
   "metadata": {},
   "source": [
    "### Метрика R2"
   ]
  },
  {
   "cell_type": "markdown",
   "id": "b1fdd950",
   "metadata": {},
   "source": [
    "R2 - это показатель хорошей подгонки модели. В регрессии коэффициент детерминации R2 является статистической мерой того, насколько хорошо предсказания регрессии приближаются к реальным точкам данных. Значение R2, равное 1, указывает на то, что предсказания регрессии идеально соответствуют данным."
   ]
  },
  {
   "cell_type": "code",
   "execution_count": 61,
   "id": "c3d5b06d",
   "metadata": {},
   "outputs": [
    {
     "data": {
      "text/plain": [
       "0.6457435162598251"
      ]
     },
     "execution_count": 61,
     "metadata": {},
     "output_type": "execute_result"
    }
   ],
   "source": [
    "# величина ошибки на всех признаках\n",
    "r2_all = RegressionEvaluator(\n",
    "    labelCol='median_house_value',\n",
    "    metricName='r2'\n",
    ").evaluate(predictions_on_all)\n",
    "\n",
    "r2_all"
   ]
  },
  {
   "cell_type": "code",
   "execution_count": 62,
   "id": "cc3a83c9",
   "metadata": {},
   "outputs": [
    {
     "data": {
      "text/plain": [
       "0.6356327336797164"
      ]
     },
     "execution_count": 62,
     "metadata": {},
     "output_type": "execute_result"
    }
   ],
   "source": [
    "# величина ошибки на числовых признаках\n",
    "r2_num = RegressionEvaluator(\n",
    "    labelCol='median_house_value',\n",
    "    metricName='r2'\n",
    ").evaluate(predictions_on_num)\n",
    "r2_num"
   ]
  },
  {
   "cell_type": "markdown",
   "id": "6f2c817a",
   "metadata": {},
   "source": [
    "### Вывод"
   ]
  },
  {
   "cell_type": "markdown",
   "id": "1907db46",
   "metadata": {},
   "source": [
    "Анализ метрик моделей показал, что результаты модели, которая обучалась на всех данных выше результатов модели, обученной только на числовых данных. Прогноз отклоняется от реальных значений в среднем на 69 278 $.\n",
    "\n",
    "Величина R2 в 0,65 говорит, что модель недостаточно хорошо подогнана к обучающим данным.\n",
    "\n",
    "Возможные дальнейшие пути улучшения качества прогнозов:\n",
    "\n",
    "- выбор более мощной модели\n",
    "- генерация большего числа новых признаков\n",
    "- более тонкая настройка гиперпараметров модели.\n"
   ]
  },
  {
   "cell_type": "markdown",
   "id": "f4e8640d",
   "metadata": {},
   "source": [
    "## Общий вывод"
   ]
  },
  {
   "cell_type": "markdown",
   "id": "203117e2",
   "metadata": {},
   "source": [
    "В данном проекте нужно **предсказать медианную стоимость дома в жилом массиве** на данных о жилье в Калифорнии в 1990 году. На основе данных нужно обучить модель линейной регрессии с помощью библиотек pyspark и модуля MLlib. \n",
    "\n",
    "Для обучения модели линейной регрессии нам доступны **данные о жилье в Калифорнии в 1990 году**. В них содержатся записи о 24 640 наблюдениях.\n",
    "\n",
    "Всего имеется 10 столбцов: 9 характеристик и целевой признак (медианная стоимость дома в жилом массиве). Один столбец содержит строковые данные (близость к океану), остальные – числовые.\n",
    "\n",
    "На этапе подготовки данных мы разделили датасет на две части – тренировочную и тестовую выборку в отношении 4 : 1.\n",
    "\n",
    "**Пропуски** содержались только в столбце total_bedrooms с общим количеством спален в домах жилого массива. Заполнили их медианным значением по столбцу.\n",
    "\n",
    "**Категориальный признак обработали** следующим образом: сначала привели его числовому виду с помощью StringIndexer, затем преобразовали с помощью техники One hot encoding. \n",
    "\n",
    "Для повышения качества модели **создали несколько** новых **столбцов с числовыми признаками** (rooms_per_household, population_in_household и bedroom_index). \n",
    "\n",
    "Числовые признаки масштабировали с помощью StandardScaler.\n",
    "\n",
    "**Модель линейной регрессии обучили два раза**: на всех имеющихся характеристиках (lr_all) и только на числовых (lr_num).\n",
    "\n",
    "Для оценки качества получившихся моделей сравнили результаты работы линейной регрессии на двух наборах данных по метрикам **RMSE, MAE и R2**.\n",
    "\n",
    "Анализ метрик моделей показал, что **результаты модели, которая обучалась на всех данных выше результатов модели, обученной только на числовых данных**. Прогноз отклоняется от реальных значений в среднем на 69 278 $.\n",
    "\n",
    "Величина R2 в 0,65 говорит, что модель недостаточно хорошо подогнана к обучающим данным.\n",
    "\n",
    "Возможные **дальнейшие пути улучшения качества прогнозов**:\n",
    "\n",
    "- выбор более мощной модели\n",
    "- генерация большего числа новых признаков\n",
    "- более тонкая настройка гиперпараметров модели.\n"
   ]
  },
  {
   "cell_type": "code",
   "execution_count": 63,
   "id": "d36ae33b",
   "metadata": {},
   "outputs": [],
   "source": [
    "spark.stop()"
   ]
  }
 ],
 "metadata": {
  "ExecuteTimeLog": [
   {
    "duration": 18618,
    "start_time": "2023-07-13T19:32:59.275Z"
   },
   {
    "duration": 11890,
    "start_time": "2023-07-13T19:39:23.906Z"
   },
   {
    "duration": 44,
    "start_time": "2023-07-13T19:53:50.878Z"
   },
   {
    "duration": 9,
    "start_time": "2023-07-13T19:54:08.050Z"
   },
   {
    "duration": 8,
    "start_time": "2023-07-13T19:54:29.669Z"
   },
   {
    "duration": 1678,
    "start_time": "2023-07-13T19:55:02.593Z"
   },
   {
    "duration": 7061,
    "start_time": "2023-07-13T20:02:24.107Z"
   },
   {
    "duration": 7946,
    "start_time": "2023-07-13T20:03:00.151Z"
   },
   {
    "duration": 137,
    "start_time": "2023-07-13T20:07:04.251Z"
   },
   {
    "duration": 10,
    "start_time": "2023-07-13T20:07:21.318Z"
   },
   {
    "duration": 21,
    "start_time": "2023-07-13T20:07:37.793Z"
   },
   {
    "duration": 2559,
    "start_time": "2023-07-13T20:07:49.297Z"
   },
   {
    "duration": 244,
    "start_time": "2023-07-13T20:09:24.740Z"
   },
   {
    "duration": 176,
    "start_time": "2023-07-13T20:09:34.589Z"
   },
   {
    "duration": 379,
    "start_time": "2023-07-13T20:09:47.078Z"
   },
   {
    "duration": 219,
    "start_time": "2023-07-13T20:09:57.503Z"
   },
   {
    "duration": 4208,
    "start_time": "2023-07-13T20:11:03.583Z"
   },
   {
    "duration": 160,
    "start_time": "2023-07-13T20:13:10.166Z"
   },
   {
    "duration": 4185,
    "start_time": "2023-07-13T20:13:22.683Z"
   },
   {
    "duration": 3555,
    "start_time": "2023-07-13T20:13:31.913Z"
   },
   {
    "duration": 3288,
    "start_time": "2023-07-13T20:13:58.391Z"
   },
   {
    "duration": 18546,
    "start_time": "2023-07-14T08:20:02.947Z"
   },
   {
    "duration": 9598,
    "start_time": "2023-07-14T08:21:16.809Z"
   },
   {
    "duration": 66,
    "start_time": "2023-07-14T08:21:31.242Z"
   },
   {
    "duration": 765,
    "start_time": "2023-07-14T08:21:43.614Z"
   },
   {
    "duration": 274,
    "start_time": "2023-07-14T08:21:59.630Z"
   },
   {
    "duration": 400,
    "start_time": "2023-07-14T08:22:06.694Z"
   },
   {
    "duration": 1207,
    "start_time": "2023-07-14T08:22:29.207Z"
   },
   {
    "duration": 9467,
    "start_time": "2023-07-14T08:22:34.026Z"
   },
   {
    "duration": 554,
    "start_time": "2023-07-14T08:30:52.977Z"
   },
   {
    "duration": 625,
    "start_time": "2023-07-14T08:30:59.523Z"
   },
   {
    "duration": 373,
    "start_time": "2023-07-14T08:31:03.219Z"
   },
   {
    "duration": 2846,
    "start_time": "2023-07-14T08:40:33.455Z"
   },
   {
    "duration": 3422,
    "start_time": "2023-07-14T08:40:58.873Z"
   },
   {
    "duration": 10,
    "start_time": "2023-07-14T08:41:10.082Z"
   },
   {
    "duration": 2422,
    "start_time": "2023-07-14T08:41:23.685Z"
   },
   {
    "duration": 2647,
    "start_time": "2023-07-14T08:41:50.024Z"
   },
   {
    "duration": 13,
    "start_time": "2023-07-14T08:51:29.421Z"
   },
   {
    "duration": 12,
    "start_time": "2023-07-14T08:51:35.045Z"
   },
   {
    "duration": 11,
    "start_time": "2023-07-14T08:52:04.792Z"
   },
   {
    "duration": 354,
    "start_time": "2023-07-14T08:52:13.616Z"
   },
   {
    "duration": 223,
    "start_time": "2023-07-14T08:52:29.850Z"
   },
   {
    "duration": 382,
    "start_time": "2023-07-14T08:53:01.138Z"
   },
   {
    "duration": 162,
    "start_time": "2023-07-14T08:53:06.264Z"
   },
   {
    "duration": 248,
    "start_time": "2023-07-14T08:53:09.544Z"
   },
   {
    "duration": 3,
    "start_time": "2023-07-14T08:54:54.436Z"
   },
   {
    "duration": 17,
    "start_time": "2023-07-14T08:54:58.524Z"
   },
   {
    "duration": 21,
    "start_time": "2023-07-14T08:55:21.167Z"
   },
   {
    "duration": 5,
    "start_time": "2023-07-14T08:56:04.818Z"
   },
   {
    "duration": 466,
    "start_time": "2023-07-14T08:56:04.825Z"
   },
   {
    "duration": 10,
    "start_time": "2023-07-14T08:56:05.293Z"
   },
   {
    "duration": 204,
    "start_time": "2023-07-14T08:56:05.305Z"
   },
   {
    "duration": 2386,
    "start_time": "2023-07-14T08:56:05.512Z"
   },
   {
    "duration": 3101,
    "start_time": "2023-07-14T08:56:07.899Z"
   },
   {
    "duration": 196,
    "start_time": "2023-07-14T08:56:11.002Z"
   },
   {
    "duration": 15,
    "start_time": "2023-07-14T08:56:15.909Z"
   },
   {
    "duration": 13,
    "start_time": "2023-07-14T08:56:31.735Z"
   },
   {
    "duration": 66,
    "start_time": "2023-07-14T08:57:55.360Z"
   },
   {
    "duration": 200,
    "start_time": "2023-07-14T08:58:54.206Z"
   },
   {
    "duration": 538,
    "start_time": "2023-07-14T08:58:59.679Z"
   },
   {
    "duration": 130,
    "start_time": "2023-07-14T08:59:00.888Z"
   },
   {
    "duration": 273,
    "start_time": "2023-07-14T08:59:23.011Z"
   },
   {
    "duration": 137,
    "start_time": "2023-07-14T08:59:30.652Z"
   },
   {
    "duration": 215,
    "start_time": "2023-07-14T08:59:37.492Z"
   },
   {
    "duration": 51,
    "start_time": "2023-07-14T08:59:39.133Z"
   },
   {
    "duration": 255,
    "start_time": "2023-07-14T09:03:20.751Z"
   },
   {
    "duration": 38,
    "start_time": "2023-07-14T09:03:56.058Z"
   },
   {
    "duration": 37,
    "start_time": "2023-07-14T09:04:29.637Z"
   },
   {
    "duration": 4,
    "start_time": "2023-07-14T09:05:24.748Z"
   },
   {
    "duration": 12,
    "start_time": "2023-07-14T09:05:29.365Z"
   },
   {
    "duration": 15,
    "start_time": "2023-07-14T09:05:37.542Z"
   },
   {
    "duration": 4,
    "start_time": "2023-07-14T09:07:21.077Z"
   },
   {
    "duration": 312,
    "start_time": "2023-07-14T09:07:21.083Z"
   },
   {
    "duration": 7,
    "start_time": "2023-07-14T09:07:21.396Z"
   },
   {
    "duration": 134,
    "start_time": "2023-07-14T09:07:21.404Z"
   },
   {
    "duration": 2000,
    "start_time": "2023-07-14T09:07:21.570Z"
   },
   {
    "duration": 2545,
    "start_time": "2023-07-14T09:07:23.571Z"
   },
   {
    "duration": 197,
    "start_time": "2023-07-14T09:07:26.118Z"
   },
   {
    "duration": 134,
    "start_time": "2023-07-14T09:07:26.317Z"
   },
   {
    "duration": 14,
    "start_time": "2023-07-14T09:07:34.523Z"
   },
   {
    "duration": 35,
    "start_time": "2023-07-14T09:07:37.371Z"
   },
   {
    "duration": 2,
    "start_time": "2023-07-14T09:37:28.803Z"
   },
   {
    "duration": 9,
    "start_time": "2023-07-14T09:47:43.408Z"
   },
   {
    "duration": 3,
    "start_time": "2023-07-14T09:49:11.369Z"
   },
   {
    "duration": 1177,
    "start_time": "2023-07-14T09:49:16.932Z"
   },
   {
    "duration": 567,
    "start_time": "2023-07-14T09:49:27.612Z"
   },
   {
    "duration": 5,
    "start_time": "2023-07-14T09:49:48.493Z"
   },
   {
    "duration": 4,
    "start_time": "2023-07-14T09:49:48.501Z"
   },
   {
    "duration": 264,
    "start_time": "2023-07-14T09:49:48.506Z"
   },
   {
    "duration": 6,
    "start_time": "2023-07-14T09:49:48.773Z"
   },
   {
    "duration": 126,
    "start_time": "2023-07-14T09:49:48.780Z"
   },
   {
    "duration": 1910,
    "start_time": "2023-07-14T09:49:48.908Z"
   },
   {
    "duration": 2869,
    "start_time": "2023-07-14T09:49:50.819Z"
   },
   {
    "duration": 992,
    "start_time": "2023-07-14T09:49:53.690Z"
   },
   {
    "duration": 339,
    "start_time": "2023-07-14T09:50:00.065Z"
   },
   {
    "duration": 515,
    "start_time": "2023-07-14T09:50:32.355Z"
   },
   {
    "duration": 664,
    "start_time": "2023-07-14T09:51:07.015Z"
   },
   {
    "duration": 23,
    "start_time": "2023-07-14T09:51:39.555Z"
   },
   {
    "duration": 64,
    "start_time": "2023-07-14T09:51:42.003Z"
   },
   {
    "duration": 5,
    "start_time": "2023-07-14T09:55:13.676Z"
   },
   {
    "duration": 4,
    "start_time": "2023-07-14T09:55:58.272Z"
   },
   {
    "duration": 4,
    "start_time": "2023-07-14T09:56:08.595Z"
   },
   {
    "duration": 4,
    "start_time": "2023-07-14T09:59:39.259Z"
   },
   {
    "duration": 4,
    "start_time": "2023-07-14T10:01:21.038Z"
   },
   {
    "duration": 5,
    "start_time": "2023-07-14T10:01:38.448Z"
   },
   {
    "duration": 4,
    "start_time": "2023-07-14T10:03:34.574Z"
   },
   {
    "duration": 4,
    "start_time": "2023-07-14T10:03:40.318Z"
   },
   {
    "duration": 2,
    "start_time": "2023-07-14T10:06:07.191Z"
   },
   {
    "duration": 85,
    "start_time": "2023-07-14T10:10:49.488Z"
   },
   {
    "duration": 23,
    "start_time": "2023-07-14T10:45:45.268Z"
   },
   {
    "duration": 1302,
    "start_time": "2023-07-14T10:46:08.576Z"
   },
   {
    "duration": 6,
    "start_time": "2023-07-14T10:46:36.970Z"
   },
   {
    "duration": 12,
    "start_time": "2023-07-14T10:47:13.831Z"
   },
   {
    "duration": 124,
    "start_time": "2023-07-14T10:47:51.532Z"
   },
   {
    "duration": 7,
    "start_time": "2023-07-14T10:48:00.499Z"
   },
   {
    "duration": 32,
    "start_time": "2023-07-14T10:48:00.507Z"
   },
   {
    "duration": 31,
    "start_time": "2023-07-14T10:48:00.541Z"
   },
   {
    "duration": 405,
    "start_time": "2023-07-14T10:48:00.574Z"
   },
   {
    "duration": 8,
    "start_time": "2023-07-14T10:48:00.982Z"
   },
   {
    "duration": 132,
    "start_time": "2023-07-14T10:48:00.991Z"
   },
   {
    "duration": 2355,
    "start_time": "2023-07-14T10:48:01.124Z"
   },
   {
    "duration": 3298,
    "start_time": "2023-07-14T10:48:03.481Z"
   },
   {
    "duration": 637,
    "start_time": "2023-07-14T10:48:06.780Z"
   },
   {
    "duration": 3,
    "start_time": "2023-07-14T10:48:07.419Z"
   },
   {
    "duration": 257,
    "start_time": "2023-07-14T10:48:07.424Z"
   },
   {
    "duration": 447,
    "start_time": "2023-07-14T10:48:07.684Z"
   },
   {
    "duration": 59,
    "start_time": "2023-07-14T10:48:08.132Z"
   },
   {
    "duration": 122,
    "start_time": "2023-07-14T10:48:08.193Z"
   },
   {
    "duration": 53,
    "start_time": "2023-07-14T10:48:08.317Z"
   },
   {
    "duration": 6,
    "start_time": "2023-07-14T10:48:08.373Z"
   },
   {
    "duration": 15,
    "start_time": "2023-07-14T10:48:08.382Z"
   },
   {
    "duration": 384,
    "start_time": "2023-07-14T10:48:10.789Z"
   },
   {
    "duration": 17,
    "start_time": "2023-07-14T10:48:31.809Z"
   },
   {
    "duration": 19,
    "start_time": "2023-07-14T10:48:40.921Z"
   },
   {
    "duration": 111,
    "start_time": "2023-07-14T10:55:17.182Z"
   },
   {
    "duration": 14,
    "start_time": "2023-07-14T10:56:48.409Z"
   },
   {
    "duration": 485,
    "start_time": "2023-07-14T10:56:55.483Z"
   },
   {
    "duration": 15,
    "start_time": "2023-07-14T10:57:05.235Z"
   },
   {
    "duration": 10,
    "start_time": "2023-07-14T10:57:16.653Z"
   },
   {
    "duration": 14,
    "start_time": "2023-07-14T10:58:47.160Z"
   },
   {
    "duration": 2871,
    "start_time": "2023-07-14T10:58:53.216Z"
   },
   {
    "duration": 2145,
    "start_time": "2023-07-14T10:59:59.952Z"
   },
   {
    "duration": 11,
    "start_time": "2023-07-14T11:03:58.652Z"
   },
   {
    "duration": 129,
    "start_time": "2023-07-14T11:04:40.330Z"
   },
   {
    "duration": 85,
    "start_time": "2023-07-14T11:05:03.388Z"
   },
   {
    "duration": 166,
    "start_time": "2023-07-14T11:05:22.734Z"
   },
   {
    "duration": 111,
    "start_time": "2023-07-14T11:05:34.591Z"
   },
   {
    "duration": 202,
    "start_time": "2023-07-14T11:06:08.035Z"
   },
   {
    "duration": 24,
    "start_time": "2023-07-14T11:06:49.985Z"
   },
   {
    "duration": 162,
    "start_time": "2023-07-14T11:06:56.993Z"
   },
   {
    "duration": 172,
    "start_time": "2023-07-14T11:07:25.947Z"
   },
   {
    "duration": 262,
    "start_time": "2023-07-14T11:07:31.106Z"
   },
   {
    "duration": 599,
    "start_time": "2023-07-14T11:08:26.172Z"
   },
   {
    "duration": 7,
    "start_time": "2023-07-14T11:11:07.638Z"
   },
   {
    "duration": 110,
    "start_time": "2023-07-14T11:11:18.760Z"
   },
   {
    "duration": 4,
    "start_time": "2023-07-14T11:11:24.759Z"
   },
   {
    "duration": 10,
    "start_time": "2023-07-14T11:11:24.765Z"
   },
   {
    "duration": 6,
    "start_time": "2023-07-14T11:11:24.776Z"
   },
   {
    "duration": 317,
    "start_time": "2023-07-14T11:11:24.783Z"
   },
   {
    "duration": 9,
    "start_time": "2023-07-14T11:11:25.104Z"
   },
   {
    "duration": 160,
    "start_time": "2023-07-14T11:11:25.115Z"
   },
   {
    "duration": 1900,
    "start_time": "2023-07-14T11:11:25.277Z"
   },
   {
    "duration": 2310,
    "start_time": "2023-07-14T11:11:27.178Z"
   },
   {
    "duration": 488,
    "start_time": "2023-07-14T11:11:29.490Z"
   },
   {
    "duration": 3,
    "start_time": "2023-07-14T11:11:29.980Z"
   },
   {
    "duration": 9,
    "start_time": "2023-07-14T11:11:29.985Z"
   },
   {
    "duration": 75,
    "start_time": "2023-07-14T11:11:29.996Z"
   },
   {
    "duration": 415,
    "start_time": "2023-07-14T11:11:30.073Z"
   },
   {
    "duration": 678,
    "start_time": "2023-07-14T11:11:30.491Z"
   },
   {
    "duration": 24,
    "start_time": "2023-07-14T11:11:31.171Z"
   },
   {
    "duration": 192,
    "start_time": "2023-07-14T11:11:31.198Z"
   },
   {
    "duration": 8,
    "start_time": "2023-07-14T11:11:31.392Z"
   },
   {
    "duration": 391,
    "start_time": "2023-07-14T11:11:31.402Z"
   },
   {
    "duration": 85,
    "start_time": "2023-07-14T11:11:31.799Z"
   },
   {
    "duration": 16,
    "start_time": "2023-07-14T11:11:31.886Z"
   },
   {
    "duration": 1552,
    "start_time": "2023-07-14T11:11:31.967Z"
   },
   {
    "duration": 49,
    "start_time": "2023-07-14T11:11:33.521Z"
   },
   {
    "duration": 9,
    "start_time": "2023-07-14T11:11:36.986Z"
   },
   {
    "duration": 21,
    "start_time": "2023-07-14T11:12:23.135Z"
   },
   {
    "duration": 185,
    "start_time": "2023-07-14T11:12:39.145Z"
   },
   {
    "duration": 160,
    "start_time": "2023-07-14T11:12:45.929Z"
   },
   {
    "duration": 17,
    "start_time": "2023-07-14T11:12:53.803Z"
   },
   {
    "duration": 310,
    "start_time": "2023-07-14T11:13:20.062Z"
   },
   {
    "duration": 797,
    "start_time": "2023-07-14T11:13:51.841Z"
   },
   {
    "duration": 467,
    "start_time": "2023-07-14T11:13:55.826Z"
   },
   {
    "duration": 524,
    "start_time": "2023-07-14T11:14:02.962Z"
   },
   {
    "duration": 397,
    "start_time": "2023-07-14T11:14:21.236Z"
   },
   {
    "duration": 412,
    "start_time": "2023-07-14T11:16:12.161Z"
   },
   {
    "duration": 362,
    "start_time": "2023-07-14T11:16:31.620Z"
   },
   {
    "duration": 392,
    "start_time": "2023-07-14T11:16:39.029Z"
   },
   {
    "duration": 336,
    "start_time": "2023-07-14T11:16:57.359Z"
   },
   {
    "duration": 384,
    "start_time": "2023-07-14T11:17:10.705Z"
   },
   {
    "duration": 6,
    "start_time": "2023-07-14T11:31:07.819Z"
   },
   {
    "duration": 5,
    "start_time": "2023-07-14T11:31:31.980Z"
   },
   {
    "duration": 49,
    "start_time": "2023-07-14T11:31:31.987Z"
   },
   {
    "duration": 40,
    "start_time": "2023-07-14T11:31:32.038Z"
   },
   {
    "duration": 314,
    "start_time": "2023-07-14T11:31:32.079Z"
   },
   {
    "duration": 7,
    "start_time": "2023-07-14T11:31:32.395Z"
   },
   {
    "duration": 106,
    "start_time": "2023-07-14T11:31:32.404Z"
   },
   {
    "duration": 1529,
    "start_time": "2023-07-14T11:31:32.512Z"
   },
   {
    "duration": 2297,
    "start_time": "2023-07-14T11:31:34.043Z"
   },
   {
    "duration": 412,
    "start_time": "2023-07-14T11:31:36.342Z"
   },
   {
    "duration": 3,
    "start_time": "2023-07-14T11:31:36.769Z"
   },
   {
    "duration": 10,
    "start_time": "2023-07-14T11:31:36.774Z"
   },
   {
    "duration": 5,
    "start_time": "2023-07-14T11:31:36.786Z"
   },
   {
    "duration": 277,
    "start_time": "2023-07-14T11:31:36.793Z"
   },
   {
    "duration": 492,
    "start_time": "2023-07-14T11:31:37.074Z"
   },
   {
    "duration": 19,
    "start_time": "2023-07-14T11:31:37.568Z"
   },
   {
    "duration": 108,
    "start_time": "2023-07-14T11:31:37.589Z"
   },
   {
    "duration": 7,
    "start_time": "2023-07-14T11:31:37.699Z"
   },
   {
    "duration": 364,
    "start_time": "2023-07-14T11:31:37.708Z"
   },
   {
    "duration": 16,
    "start_time": "2023-07-14T11:31:38.074Z"
   },
   {
    "duration": 78,
    "start_time": "2023-07-14T11:31:38.091Z"
   },
   {
    "duration": 2106,
    "start_time": "2023-07-14T11:31:38.171Z"
   },
   {
    "duration": 9,
    "start_time": "2023-07-14T11:31:40.279Z"
   },
   {
    "duration": 13,
    "start_time": "2023-07-14T11:31:40.290Z"
   },
   {
    "duration": 83,
    "start_time": "2023-07-14T11:31:40.304Z"
   },
   {
    "duration": 16,
    "start_time": "2023-07-14T11:31:40.389Z"
   },
   {
    "duration": 576,
    "start_time": "2023-07-14T11:31:40.469Z"
   },
   {
    "duration": 4,
    "start_time": "2023-07-14T11:32:09.163Z"
   },
   {
    "duration": 513,
    "start_time": "2023-07-14T12:08:56.295Z"
   },
   {
    "duration": 604,
    "start_time": "2023-07-14T12:09:10.004Z"
   },
   {
    "duration": 12,
    "start_time": "2023-07-14T12:13:22.423Z"
   },
   {
    "duration": 38,
    "start_time": "2023-07-14T12:13:23.199Z"
   },
   {
    "duration": 4,
    "start_time": "2023-07-14T12:13:23.974Z"
   },
   {
    "duration": 5,
    "start_time": "2023-07-14T12:15:51.808Z"
   },
   {
    "duration": 16,
    "start_time": "2023-07-14T12:15:51.814Z"
   },
   {
    "duration": 12,
    "start_time": "2023-07-14T12:15:51.832Z"
   },
   {
    "duration": 231,
    "start_time": "2023-07-14T12:15:51.845Z"
   },
   {
    "duration": 7,
    "start_time": "2023-07-14T12:15:52.079Z"
   },
   {
    "duration": 86,
    "start_time": "2023-07-14T12:15:52.088Z"
   },
   {
    "duration": 1529,
    "start_time": "2023-07-14T12:15:52.176Z"
   },
   {
    "duration": 2048,
    "start_time": "2023-07-14T12:15:53.707Z"
   },
   {
    "duration": 334,
    "start_time": "2023-07-14T12:15:55.757Z"
   },
   {
    "duration": 3,
    "start_time": "2023-07-14T12:15:56.092Z"
   },
   {
    "duration": 18,
    "start_time": "2023-07-14T12:15:56.097Z"
   },
   {
    "duration": 9,
    "start_time": "2023-07-14T12:15:56.116Z"
   },
   {
    "duration": 223,
    "start_time": "2023-07-14T12:15:56.126Z"
   },
   {
    "duration": 388,
    "start_time": "2023-07-14T12:15:56.350Z"
   },
   {
    "duration": 23,
    "start_time": "2023-07-14T12:15:56.769Z"
   },
   {
    "duration": 115,
    "start_time": "2023-07-14T12:15:56.793Z"
   },
   {
    "duration": 8,
    "start_time": "2023-07-14T12:15:56.910Z"
   },
   {
    "duration": 290,
    "start_time": "2023-07-14T12:15:56.920Z"
   },
   {
    "duration": 18,
    "start_time": "2023-07-14T12:15:57.267Z"
   },
   {
    "duration": 21,
    "start_time": "2023-07-14T12:15:57.287Z"
   },
   {
    "duration": 1379,
    "start_time": "2023-07-14T12:15:57.310Z"
   },
   {
    "duration": 7,
    "start_time": "2023-07-14T12:15:58.691Z"
   },
   {
    "duration": 68,
    "start_time": "2023-07-14T12:15:58.700Z"
   },
   {
    "duration": 18,
    "start_time": "2023-07-14T12:15:58.771Z"
   },
   {
    "duration": 80,
    "start_time": "2023-07-14T12:15:58.791Z"
   },
   {
    "duration": 347,
    "start_time": "2023-07-14T12:15:58.873Z"
   },
   {
    "duration": 4,
    "start_time": "2023-07-14T12:16:09.497Z"
   },
   {
    "duration": 10,
    "start_time": "2023-07-14T12:16:24.018Z"
   },
   {
    "duration": 17,
    "start_time": "2023-07-14T12:16:25.778Z"
   },
   {
    "duration": 4,
    "start_time": "2023-07-14T12:16:26.696Z"
   },
   {
    "duration": 1545,
    "start_time": "2023-07-14T12:18:28.729Z"
   },
   {
    "duration": 1669,
    "start_time": "2023-07-14T12:18:44.652Z"
   },
   {
    "duration": 1341,
    "start_time": "2023-07-14T12:19:07.118Z"
   },
   {
    "duration": 2,
    "start_time": "2023-07-14T12:20:24.896Z"
   },
   {
    "duration": 343,
    "start_time": "2023-07-14T12:20:46.482Z"
   },
   {
    "duration": 161,
    "start_time": "2023-07-14T12:20:54.532Z"
   },
   {
    "duration": 154,
    "start_time": "2023-07-14T12:21:27.991Z"
   },
   {
    "duration": 204,
    "start_time": "2023-07-14T12:21:31.690Z"
   },
   {
    "duration": 17,
    "start_time": "2023-07-14T12:22:31.486Z"
   },
   {
    "duration": 4,
    "start_time": "2023-07-14T12:23:05.458Z"
   },
   {
    "duration": 3,
    "start_time": "2023-07-14T12:23:39.494Z"
   },
   {
    "duration": 9,
    "start_time": "2023-07-14T12:30:47.128Z"
   },
   {
    "duration": 10,
    "start_time": "2023-07-14T12:32:08.675Z"
   },
   {
    "duration": 691,
    "start_time": "2023-07-14T12:32:14.181Z"
   },
   {
    "duration": 21,
    "start_time": "2023-07-14T12:32:17.444Z"
   },
   {
    "duration": 376,
    "start_time": "2023-07-14T12:32:21.692Z"
   },
   {
    "duration": 14,
    "start_time": "2023-07-14T12:32:35.149Z"
   },
   {
    "duration": 9,
    "start_time": "2023-07-14T12:32:36.437Z"
   },
   {
    "duration": 106,
    "start_time": "2023-07-14T12:47:14.120Z"
   },
   {
    "duration": 3,
    "start_time": "2023-07-14T12:47:17.367Z"
   },
   {
    "duration": 7,
    "start_time": "2023-07-14T12:47:18.272Z"
   },
   {
    "duration": 9,
    "start_time": "2023-07-14T12:47:19.150Z"
   },
   {
    "duration": 20,
    "start_time": "2023-07-14T12:47:28.202Z"
   },
   {
    "duration": 298,
    "start_time": "2023-07-14T12:47:31.681Z"
   },
   {
    "duration": 16,
    "start_time": "2023-07-14T12:48:08.430Z"
   },
   {
    "duration": 4,
    "start_time": "2023-07-14T12:48:18.839Z"
   },
   {
    "duration": 5,
    "start_time": "2023-07-14T12:52:26.621Z"
   },
   {
    "duration": 36,
    "start_time": "2023-07-14T12:55:18.833Z"
   },
   {
    "duration": 2304,
    "start_time": "2023-07-14T12:55:58.589Z"
   },
   {
    "duration": 17,
    "start_time": "2023-07-14T12:57:38.937Z"
   },
   {
    "duration": 4,
    "start_time": "2023-07-14T12:57:54.580Z"
   },
   {
    "duration": 272,
    "start_time": "2023-07-14T12:58:31.896Z"
   },
   {
    "duration": 9,
    "start_time": "2023-07-14T12:59:29.528Z"
   },
   {
    "duration": 1333,
    "start_time": "2023-07-14T12:59:43.137Z"
   },
   {
    "duration": 24,
    "start_time": "2023-07-14T13:00:05.571Z"
   },
   {
    "duration": 194,
    "start_time": "2023-07-14T13:00:17.132Z"
   },
   {
    "duration": 5,
    "start_time": "2023-07-14T13:10:51.510Z"
   },
   {
    "duration": 16,
    "start_time": "2023-07-14T13:13:22.736Z"
   },
   {
    "duration": 240,
    "start_time": "2023-07-14T13:13:26.856Z"
   },
   {
    "duration": 4,
    "start_time": "2023-07-14T13:14:10.925Z"
   },
   {
    "duration": 277,
    "start_time": "2023-07-14T13:14:25.736Z"
   },
   {
    "duration": 216,
    "start_time": "2023-07-14T13:14:41.913Z"
   },
   {
    "duration": 317,
    "start_time": "2023-07-14T13:15:06.052Z"
   },
   {
    "duration": 214,
    "start_time": "2023-07-14T13:15:45.520Z"
   },
   {
    "duration": 242,
    "start_time": "2023-07-14T13:16:04.882Z"
   },
   {
    "duration": 196,
    "start_time": "2023-07-14T13:16:46.302Z"
   },
   {
    "duration": 194,
    "start_time": "2023-07-14T13:17:10.514Z"
   },
   {
    "duration": 310,
    "start_time": "2023-07-14T13:17:14.194Z"
   },
   {
    "duration": 58,
    "start_time": "2023-07-14T13:22:40.240Z"
   },
   {
    "duration": 238,
    "start_time": "2023-07-14T13:22:49.776Z"
   },
   {
    "duration": 4,
    "start_time": "2023-07-14T14:11:32.188Z"
   },
   {
    "duration": 7,
    "start_time": "2023-07-14T14:14:50.292Z"
   },
   {
    "duration": 19,
    "start_time": "2023-07-14T14:14:50.301Z"
   },
   {
    "duration": 16,
    "start_time": "2023-07-14T14:14:50.322Z"
   },
   {
    "duration": 265,
    "start_time": "2023-07-14T14:14:50.340Z"
   },
   {
    "duration": 8,
    "start_time": "2023-07-14T14:14:50.611Z"
   },
   {
    "duration": 99,
    "start_time": "2023-07-14T14:14:50.621Z"
   },
   {
    "duration": 1755,
    "start_time": "2023-07-14T14:14:50.722Z"
   },
   {
    "duration": 2613,
    "start_time": "2023-07-14T14:14:52.480Z"
   },
   {
    "duration": 417,
    "start_time": "2023-07-14T14:14:55.096Z"
   },
   {
    "duration": 5,
    "start_time": "2023-07-14T14:14:55.515Z"
   },
   {
    "duration": 14,
    "start_time": "2023-07-14T14:14:55.522Z"
   },
   {
    "duration": 42,
    "start_time": "2023-07-14T14:14:55.538Z"
   },
   {
    "duration": 220,
    "start_time": "2023-07-14T14:14:55.582Z"
   },
   {
    "duration": 400,
    "start_time": "2023-07-14T14:14:55.805Z"
   },
   {
    "duration": 70,
    "start_time": "2023-07-14T14:14:56.207Z"
   },
   {
    "duration": 121,
    "start_time": "2023-07-14T14:14:56.280Z"
   },
   {
    "duration": 9,
    "start_time": "2023-07-14T14:14:56.402Z"
   },
   {
    "duration": 274,
    "start_time": "2023-07-14T14:14:56.413Z"
   },
   {
    "duration": 15,
    "start_time": "2023-07-14T14:14:56.689Z"
   },
   {
    "duration": 67,
    "start_time": "2023-07-14T14:14:56.706Z"
   },
   {
    "duration": 1931,
    "start_time": "2023-07-14T14:14:56.775Z"
   },
   {
    "duration": 68,
    "start_time": "2023-07-14T14:14:58.707Z"
   },
   {
    "duration": 13,
    "start_time": "2023-07-14T14:14:58.778Z"
   },
   {
    "duration": 91,
    "start_time": "2023-07-14T14:14:58.793Z"
   },
   {
    "duration": 84,
    "start_time": "2023-07-14T14:14:58.886Z"
   },
   {
    "duration": 613,
    "start_time": "2023-07-14T14:14:58.973Z"
   },
   {
    "duration": 38,
    "start_time": "2023-07-14T14:15:03.700Z"
   },
   {
    "duration": 33,
    "start_time": "2023-07-14T14:15:32.422Z"
   },
   {
    "duration": 5,
    "start_time": "2023-07-14T14:16:23.036Z"
   },
   {
    "duration": 68,
    "start_time": "2023-07-14T14:17:53.151Z"
   },
   {
    "duration": 4,
    "start_time": "2023-07-14T14:17:56.671Z"
   },
   {
    "duration": 5,
    "start_time": "2023-07-14T14:18:24.330Z"
   },
   {
    "duration": 4,
    "start_time": "2023-07-14T14:18:37.527Z"
   },
   {
    "duration": 4,
    "start_time": "2023-07-14T14:18:53.878Z"
   },
   {
    "duration": 2,
    "start_time": "2023-07-14T14:18:58.456Z"
   },
   {
    "duration": 4,
    "start_time": "2023-07-14T14:19:09.430Z"
   },
   {
    "duration": 7,
    "start_time": "2023-07-14T14:19:15.928Z"
   },
   {
    "duration": 15,
    "start_time": "2023-07-14T14:19:16.664Z"
   },
   {
    "duration": 338,
    "start_time": "2023-07-14T14:19:17.463Z"
   },
   {
    "duration": 15,
    "start_time": "2023-07-14T14:19:19.023Z"
   },
   {
    "duration": 4,
    "start_time": "2023-07-14T14:19:20.120Z"
   },
   {
    "duration": 7,
    "start_time": "2023-07-14T14:19:24.249Z"
   },
   {
    "duration": 392,
    "start_time": "2023-07-14T14:19:24.921Z"
   },
   {
    "duration": 19,
    "start_time": "2023-07-14T14:19:25.873Z"
   },
   {
    "duration": 258,
    "start_time": "2023-07-14T14:19:26.729Z"
   },
   {
    "duration": 12,
    "start_time": "2023-07-14T14:19:28.233Z"
   },
   {
    "duration": 5,
    "start_time": "2023-07-14T14:19:29.005Z"
   },
   {
    "duration": 3,
    "start_time": "2023-07-14T14:19:35.193Z"
   },
   {
    "duration": 8,
    "start_time": "2023-07-14T14:19:38.014Z"
   },
   {
    "duration": 15,
    "start_time": "2023-07-14T14:19:38.980Z"
   },
   {
    "duration": 283,
    "start_time": "2023-07-14T14:19:39.538Z"
   },
   {
    "duration": 15,
    "start_time": "2023-07-14T14:19:41.539Z"
   },
   {
    "duration": 3,
    "start_time": "2023-07-14T14:19:42.451Z"
   },
   {
    "duration": 12,
    "start_time": "2023-07-14T14:20:21.520Z"
   },
   {
    "duration": 1904,
    "start_time": "2023-07-14T14:20:22.399Z"
   },
   {
    "duration": 21,
    "start_time": "2023-07-14T14:20:26.218Z"
   },
   {
    "duration": 299,
    "start_time": "2023-07-14T14:20:27.048Z"
   },
   {
    "duration": 9,
    "start_time": "2023-07-14T14:20:30.415Z"
   },
   {
    "duration": 1149,
    "start_time": "2023-07-14T14:20:31.152Z"
   },
   {
    "duration": 21,
    "start_time": "2023-07-14T14:20:32.976Z"
   },
   {
    "duration": 250,
    "start_time": "2023-07-14T14:20:33.585Z"
   },
   {
    "duration": 2,
    "start_time": "2023-07-14T14:20:39.297Z"
   },
   {
    "duration": 277,
    "start_time": "2023-07-14T14:20:53.562Z"
   },
   {
    "duration": 211,
    "start_time": "2023-07-14T14:21:01.619Z"
   },
   {
    "duration": 374,
    "start_time": "2023-07-14T14:21:17.014Z"
   },
   {
    "duration": 4,
    "start_time": "2023-07-14T14:21:30.391Z"
   },
   {
    "duration": 254,
    "start_time": "2023-07-14T14:21:38.057Z"
   },
   {
    "duration": 323,
    "start_time": "2023-07-14T14:21:43.951Z"
   },
   {
    "duration": 4,
    "start_time": "2023-07-14T14:21:55.089Z"
   },
   {
    "duration": 3,
    "start_time": "2023-07-14T14:21:58.130Z"
   },
   {
    "duration": 198,
    "start_time": "2023-07-14T14:22:04.526Z"
   },
   {
    "duration": 206,
    "start_time": "2023-07-14T14:22:12.918Z"
   },
   {
    "duration": 61,
    "start_time": "2023-07-14T14:24:09.743Z"
   },
   {
    "duration": 4,
    "start_time": "2023-07-14T14:49:41.184Z"
   },
   {
    "duration": 4,
    "start_time": "2023-07-14T14:49:45.314Z"
   },
   {
    "duration": 8,
    "start_time": "2023-07-14T14:49:45.320Z"
   },
   {
    "duration": 5,
    "start_time": "2023-07-14T14:49:45.329Z"
   },
   {
    "duration": 268,
    "start_time": "2023-07-14T14:49:45.336Z"
   },
   {
    "duration": 8,
    "start_time": "2023-07-14T14:49:45.607Z"
   },
   {
    "duration": 82,
    "start_time": "2023-07-14T14:49:45.616Z"
   },
   {
    "duration": 1491,
    "start_time": "2023-07-14T14:49:45.700Z"
   },
   {
    "duration": 1916,
    "start_time": "2023-07-14T14:49:47.193Z"
   },
   {
    "duration": 277,
    "start_time": "2023-07-14T14:49:49.110Z"
   },
   {
    "duration": 3,
    "start_time": "2023-07-14T14:49:49.388Z"
   },
   {
    "duration": 290,
    "start_time": "2023-07-14T14:49:49.392Z"
   },
   {
    "duration": 386,
    "start_time": "2023-07-14T14:49:49.683Z"
   },
   {
    "duration": 21,
    "start_time": "2023-07-14T14:49:50.071Z"
   },
   {
    "duration": 187,
    "start_time": "2023-07-14T14:49:50.095Z"
   },
   {
    "duration": 6,
    "start_time": "2023-07-14T14:49:50.284Z"
   },
   {
    "duration": 401,
    "start_time": "2023-07-14T14:49:50.292Z"
   },
   {
    "duration": 77,
    "start_time": "2023-07-14T14:49:50.696Z"
   },
   {
    "duration": 13,
    "start_time": "2023-07-14T14:49:50.776Z"
   },
   {
    "duration": 1801,
    "start_time": "2023-07-14T14:49:50.792Z"
   },
   {
    "duration": 9,
    "start_time": "2023-07-14T14:49:52.594Z"
   },
   {
    "duration": 9,
    "start_time": "2023-07-14T14:49:52.605Z"
   },
   {
    "duration": 58,
    "start_time": "2023-07-14T14:49:52.616Z"
   },
   {
    "duration": 23,
    "start_time": "2023-07-14T14:49:52.676Z"
   },
   {
    "duration": 350,
    "start_time": "2023-07-14T14:49:52.700Z"
   },
   {
    "duration": 40,
    "start_time": "2023-07-14T14:49:53.052Z"
   },
   {
    "duration": 84,
    "start_time": "2023-07-14T14:49:53.094Z"
   },
   {
    "duration": 2,
    "start_time": "2023-07-14T14:49:53.180Z"
   },
   {
    "duration": 13,
    "start_time": "2023-07-14T14:49:53.184Z"
   },
   {
    "duration": 28,
    "start_time": "2023-07-14T14:49:53.199Z"
   },
   {
    "duration": 26,
    "start_time": "2023-07-14T14:49:53.228Z"
   },
   {
    "duration": 261,
    "start_time": "2023-07-14T14:49:53.256Z"
   },
   {
    "duration": 15,
    "start_time": "2023-07-14T14:49:53.519Z"
   },
   {
    "duration": 34,
    "start_time": "2023-07-14T14:49:53.536Z"
   },
   {
    "duration": 24,
    "start_time": "2023-07-14T14:49:53.572Z"
   },
   {
    "duration": 378,
    "start_time": "2023-07-14T14:49:53.598Z"
   },
   {
    "duration": 16,
    "start_time": "2023-07-14T14:49:53.979Z"
   },
   {
    "duration": 313,
    "start_time": "2023-07-14T14:49:53.998Z"
   },
   {
    "duration": 14,
    "start_time": "2023-07-14T14:49:54.312Z"
   },
   {
    "duration": 21,
    "start_time": "2023-07-14T14:49:54.328Z"
   },
   {
    "duration": 8,
    "start_time": "2023-07-14T14:49:54.351Z"
   },
   {
    "duration": 7,
    "start_time": "2023-07-14T14:49:54.371Z"
   },
   {
    "duration": 17,
    "start_time": "2023-07-14T14:49:54.380Z"
   },
   {
    "duration": 267,
    "start_time": "2023-07-14T14:49:54.399Z"
   },
   {
    "duration": 16,
    "start_time": "2023-07-14T14:49:54.667Z"
   },
   {
    "duration": 7,
    "start_time": "2023-07-14T14:49:54.685Z"
   },
   {
    "duration": 9,
    "start_time": "2023-07-14T14:49:54.694Z"
   },
   {
    "duration": 1184,
    "start_time": "2023-07-14T14:49:54.705Z"
   },
   {
    "duration": 17,
    "start_time": "2023-07-14T14:49:55.891Z"
   },
   {
    "duration": 320,
    "start_time": "2023-07-14T14:49:55.910Z"
   },
   {
    "duration": 7,
    "start_time": "2023-07-14T14:49:56.232Z"
   },
   {
    "duration": 856,
    "start_time": "2023-07-14T14:49:56.240Z"
   },
   {
    "duration": 71,
    "start_time": "2023-07-14T14:49:57.098Z"
   },
   {
    "duration": 231,
    "start_time": "2023-07-14T14:49:57.171Z"
   },
   {
    "duration": 2,
    "start_time": "2023-07-14T14:49:57.404Z"
   },
   {
    "duration": 266,
    "start_time": "2023-07-14T14:49:57.409Z"
   },
   {
    "duration": 405,
    "start_time": "2023-07-14T14:49:57.677Z"
   },
   {
    "duration": 3,
    "start_time": "2023-07-14T14:49:58.084Z"
   },
   {
    "duration": 236,
    "start_time": "2023-07-14T14:49:58.089Z"
   },
   {
    "duration": 307,
    "start_time": "2023-07-14T14:49:58.327Z"
   },
   {
    "duration": 3,
    "start_time": "2023-07-14T14:49:58.636Z"
   },
   {
    "duration": 275,
    "start_time": "2023-07-14T14:49:58.640Z"
   },
   {
    "duration": 182,
    "start_time": "2023-07-14T14:49:58.916Z"
   },
   {
    "duration": 2,
    "start_time": "2023-07-14T14:49:59.100Z"
   },
   {
    "duration": 5,
    "start_time": "2023-07-14T14:50:30.767Z"
   },
   {
    "duration": 25,
    "start_time": "2023-07-14T14:50:30.774Z"
   },
   {
    "duration": 37,
    "start_time": "2023-07-14T14:50:30.800Z"
   },
   {
    "duration": 272,
    "start_time": "2023-07-14T14:50:30.839Z"
   },
   {
    "duration": 7,
    "start_time": "2023-07-14T14:50:31.114Z"
   },
   {
    "duration": 102,
    "start_time": "2023-07-14T14:50:31.122Z"
   },
   {
    "duration": 1314,
    "start_time": "2023-07-14T14:50:31.226Z"
   },
   {
    "duration": 2653,
    "start_time": "2023-07-14T14:50:32.541Z"
   },
   {
    "duration": 378,
    "start_time": "2023-07-14T14:50:35.196Z"
   },
   {
    "duration": 3,
    "start_time": "2023-07-14T14:50:35.575Z"
   },
   {
    "duration": 221,
    "start_time": "2023-07-14T14:50:35.579Z"
   },
   {
    "duration": 314,
    "start_time": "2023-07-14T14:50:35.802Z"
   },
   {
    "duration": 17,
    "start_time": "2023-07-14T14:50:36.118Z"
   },
   {
    "duration": 104,
    "start_time": "2023-07-14T14:50:36.174Z"
   },
   {
    "duration": 8,
    "start_time": "2023-07-14T14:50:36.280Z"
   },
   {
    "duration": 391,
    "start_time": "2023-07-14T14:50:36.289Z"
   },
   {
    "duration": 14,
    "start_time": "2023-07-14T14:50:36.682Z"
   },
   {
    "duration": 75,
    "start_time": "2023-07-14T14:50:36.698Z"
   },
   {
    "duration": 1804,
    "start_time": "2023-07-14T14:50:36.775Z"
   },
   {
    "duration": 7,
    "start_time": "2023-07-14T14:50:38.581Z"
   },
   {
    "duration": 80,
    "start_time": "2023-07-14T14:50:38.590Z"
   },
   {
    "duration": 14,
    "start_time": "2023-07-14T14:50:38.673Z"
   },
   {
    "duration": 13,
    "start_time": "2023-07-14T14:50:38.688Z"
   },
   {
    "duration": 582,
    "start_time": "2023-07-14T14:50:38.703Z"
   },
   {
    "duration": 25,
    "start_time": "2023-07-14T14:50:39.287Z"
   },
   {
    "duration": 62,
    "start_time": "2023-07-14T14:50:39.314Z"
   },
   {
    "duration": 3,
    "start_time": "2023-07-14T14:50:39.379Z"
   },
   {
    "duration": 9,
    "start_time": "2023-07-14T14:50:39.384Z"
   },
   {
    "duration": 17,
    "start_time": "2023-07-14T14:50:39.395Z"
   },
   {
    "duration": 66,
    "start_time": "2023-07-14T14:50:39.415Z"
   },
   {
    "duration": 225,
    "start_time": "2023-07-14T14:50:39.483Z"
   },
   {
    "duration": 14,
    "start_time": "2023-07-14T14:50:39.709Z"
   },
   {
    "duration": 45,
    "start_time": "2023-07-14T14:50:39.725Z"
   },
   {
    "duration": 9,
    "start_time": "2023-07-14T14:50:39.772Z"
   },
   {
    "duration": 314,
    "start_time": "2023-07-14T14:50:39.783Z"
   },
   {
    "duration": 70,
    "start_time": "2023-07-14T14:50:40.099Z"
   },
   {
    "duration": 318,
    "start_time": "2023-07-14T14:50:40.171Z"
   },
   {
    "duration": 12,
    "start_time": "2023-07-14T14:50:40.491Z"
   },
   {
    "duration": 3,
    "start_time": "2023-07-14T14:50:40.504Z"
   },
   {
    "duration": 12,
    "start_time": "2023-07-14T14:50:40.509Z"
   },
   {
    "duration": 7,
    "start_time": "2023-07-14T14:50:40.525Z"
   },
   {
    "duration": 44,
    "start_time": "2023-07-14T14:50:40.533Z"
   },
   {
    "duration": 147,
    "start_time": "2023-07-14T14:50:40.580Z"
   },
   {
    "duration": 13,
    "start_time": "2023-07-14T14:50:40.729Z"
   },
   {
    "duration": 224,
    "start_time": "2023-07-14T14:50:40.769Z"
   },
   {
    "duration": 78,
    "start_time": "2023-07-14T14:50:40.995Z"
   },
   {
    "duration": 1111,
    "start_time": "2023-07-14T14:50:41.075Z"
   },
   {
    "duration": 80,
    "start_time": "2023-07-14T14:50:42.188Z"
   },
   {
    "duration": 164,
    "start_time": "2023-07-14T14:50:42.270Z"
   },
   {
    "duration": 7,
    "start_time": "2023-07-14T14:50:42.435Z"
   },
   {
    "duration": 791,
    "start_time": "2023-07-14T14:50:42.443Z"
   },
   {
    "duration": 35,
    "start_time": "2023-07-14T14:50:43.235Z"
   },
   {
    "duration": 174,
    "start_time": "2023-07-14T14:50:43.271Z"
   },
   {
    "duration": 3,
    "start_time": "2023-07-14T14:50:43.447Z"
   },
   {
    "duration": 326,
    "start_time": "2023-07-14T14:50:43.451Z"
   },
   {
    "duration": 255,
    "start_time": "2023-07-14T14:50:43.779Z"
   },
   {
    "duration": 3,
    "start_time": "2023-07-14T14:50:44.036Z"
   },
   {
    "duration": 244,
    "start_time": "2023-07-14T14:50:44.041Z"
   },
   {
    "duration": 226,
    "start_time": "2023-07-14T14:50:44.287Z"
   },
   {
    "duration": 2,
    "start_time": "2023-07-14T14:50:44.515Z"
   },
   {
    "duration": 188,
    "start_time": "2023-07-14T14:50:44.519Z"
   },
   {
    "duration": 172,
    "start_time": "2023-07-14T14:50:44.709Z"
   },
   {
    "duration": 3,
    "start_time": "2023-07-14T14:50:44.883Z"
   },
   {
    "duration": 5,
    "start_time": "2023-07-14T15:18:31.140Z"
   },
   {
    "duration": 46,
    "start_time": "2023-07-14T15:18:31.147Z"
   },
   {
    "duration": 33,
    "start_time": "2023-07-14T15:18:31.195Z"
   },
   {
    "duration": 241,
    "start_time": "2023-07-14T15:18:31.230Z"
   },
   {
    "duration": 7,
    "start_time": "2023-07-14T15:18:31.472Z"
   },
   {
    "duration": 97,
    "start_time": "2023-07-14T15:18:31.481Z"
   },
   {
    "duration": 1372,
    "start_time": "2023-07-14T15:18:31.580Z"
   },
   {
    "duration": 2450,
    "start_time": "2023-07-14T15:18:32.954Z"
   },
   {
    "duration": 386,
    "start_time": "2023-07-14T15:18:35.406Z"
   },
   {
    "duration": 4,
    "start_time": "2023-07-14T15:18:35.796Z"
   },
   {
    "duration": 195,
    "start_time": "2023-07-14T15:18:35.801Z"
   },
   {
    "duration": 342,
    "start_time": "2023-07-14T15:18:35.998Z"
   },
   {
    "duration": 42,
    "start_time": "2023-07-14T15:18:36.342Z"
   },
   {
    "duration": 118,
    "start_time": "2023-07-14T15:18:36.386Z"
   },
   {
    "duration": 8,
    "start_time": "2023-07-14T15:18:36.506Z"
   },
   {
    "duration": 268,
    "start_time": "2023-07-14T15:18:36.516Z"
   },
   {
    "duration": 83,
    "start_time": "2023-07-14T15:18:36.787Z"
   },
   {
    "duration": 15,
    "start_time": "2023-07-14T15:18:36.872Z"
   },
   {
    "duration": 1924,
    "start_time": "2023-07-14T15:18:36.889Z"
   },
   {
    "duration": 9,
    "start_time": "2023-07-14T15:18:38.814Z"
   },
   {
    "duration": 49,
    "start_time": "2023-07-14T15:18:38.825Z"
   },
   {
    "duration": 17,
    "start_time": "2023-07-14T15:18:38.876Z"
   },
   {
    "duration": 16,
    "start_time": "2023-07-14T15:18:38.895Z"
   },
   {
    "duration": 413,
    "start_time": "2023-07-14T15:18:38.913Z"
   },
   {
    "duration": 46,
    "start_time": "2023-07-14T15:18:39.327Z"
   },
   {
    "duration": 22,
    "start_time": "2023-07-14T15:18:39.375Z"
   },
   {
    "duration": 3,
    "start_time": "2023-07-14T15:18:39.398Z"
   },
   {
    "duration": 7,
    "start_time": "2023-07-14T15:18:39.405Z"
   },
   {
    "duration": 24,
    "start_time": "2023-07-14T15:18:39.413Z"
   },
   {
    "duration": 39,
    "start_time": "2023-07-14T15:18:39.439Z"
   },
   {
    "duration": 145,
    "start_time": "2023-07-14T15:18:39.480Z"
   },
   {
    "duration": 14,
    "start_time": "2023-07-14T15:18:39.627Z"
   },
   {
    "duration": 28,
    "start_time": "2023-07-14T15:18:39.642Z"
   },
   {
    "duration": 8,
    "start_time": "2023-07-14T15:18:39.672Z"
   },
   {
    "duration": 313,
    "start_time": "2023-07-14T15:18:39.681Z"
   },
   {
    "duration": 13,
    "start_time": "2023-07-14T15:18:39.996Z"
   },
   {
    "duration": 229,
    "start_time": "2023-07-14T15:18:40.011Z"
   },
   {
    "duration": 29,
    "start_time": "2023-07-14T15:18:40.242Z"
   },
   {
    "duration": 4,
    "start_time": "2023-07-14T15:18:40.273Z"
   },
   {
    "duration": 4,
    "start_time": "2023-07-14T15:18:40.279Z"
   },
   {
    "duration": 8,
    "start_time": "2023-07-14T15:18:40.285Z"
   },
   {
    "duration": 15,
    "start_time": "2023-07-14T15:18:40.295Z"
   },
   {
    "duration": 186,
    "start_time": "2023-07-14T15:18:40.312Z"
   },
   {
    "duration": 13,
    "start_time": "2023-07-14T15:18:40.500Z"
   },
   {
    "duration": 4,
    "start_time": "2023-07-14T15:18:40.515Z"
   },
   {
    "duration": 52,
    "start_time": "2023-07-14T15:18:40.521Z"
   },
   {
    "duration": 850,
    "start_time": "2023-07-14T15:18:40.574Z"
   },
   {
    "duration": 15,
    "start_time": "2023-07-14T15:18:41.425Z"
   },
   {
    "duration": 238,
    "start_time": "2023-07-14T15:18:41.441Z"
   },
   {
    "duration": 7,
    "start_time": "2023-07-14T15:18:41.681Z"
   },
   {
    "duration": 751,
    "start_time": "2023-07-14T15:18:41.690Z"
   },
   {
    "duration": 36,
    "start_time": "2023-07-14T15:18:42.443Z"
   },
   {
    "duration": 217,
    "start_time": "2023-07-14T15:18:42.481Z"
   },
   {
    "duration": 3,
    "start_time": "2023-07-14T15:18:42.700Z"
   },
   {
    "duration": 195,
    "start_time": "2023-07-14T15:18:42.704Z"
   },
   {
    "duration": 181,
    "start_time": "2023-07-14T15:18:42.900Z"
   },
   {
    "duration": 3,
    "start_time": "2023-07-14T15:18:43.083Z"
   },
   {
    "duration": 188,
    "start_time": "2023-07-14T15:18:43.088Z"
   },
   {
    "duration": 178,
    "start_time": "2023-07-14T15:18:43.278Z"
   },
   {
    "duration": 2,
    "start_time": "2023-07-14T15:18:43.459Z"
   },
   {
    "duration": 205,
    "start_time": "2023-07-14T15:18:43.463Z"
   },
   {
    "duration": 217,
    "start_time": "2023-07-14T15:18:43.670Z"
   },
   {
    "duration": 2,
    "start_time": "2023-07-14T15:18:43.889Z"
   },
   {
    "duration": 759,
    "start_time": "2023-07-14T15:23:09.148Z"
   },
   {
    "duration": 15321,
    "start_time": "2023-07-14T15:23:09.909Z"
   },
   {
    "duration": 3,
    "start_time": "2023-07-14T15:23:25.269Z"
   },
   {
    "duration": 8793,
    "start_time": "2023-07-14T15:23:25.274Z"
   },
   {
    "duration": 100,
    "start_time": "2023-07-14T15:23:34.070Z"
   },
   {
    "duration": 697,
    "start_time": "2023-07-14T15:23:34.172Z"
   },
   {
    "duration": 7118,
    "start_time": "2023-07-14T15:23:34.871Z"
   },
   {
    "duration": 5423,
    "start_time": "2023-07-14T15:23:41.991Z"
   },
   {
    "duration": 1321,
    "start_time": "2023-07-14T15:23:47.467Z"
   },
   {
    "duration": 4,
    "start_time": "2023-07-14T15:23:48.791Z"
   },
   {
    "duration": 692,
    "start_time": "2023-07-14T15:23:48.796Z"
   },
   {
    "duration": 831,
    "start_time": "2023-07-14T15:23:49.491Z"
   },
   {
    "duration": 82,
    "start_time": "2023-07-14T15:23:50.324Z"
   },
   {
    "duration": 291,
    "start_time": "2023-07-14T15:23:50.408Z"
   },
   {
    "duration": 133,
    "start_time": "2023-07-14T15:23:50.701Z"
   },
   {
    "duration": 0,
    "start_time": "2023-07-14T15:23:50.837Z"
   },
   {
    "duration": 0,
    "start_time": "2023-07-14T15:23:50.838Z"
   },
   {
    "duration": 0,
    "start_time": "2023-07-14T15:23:50.868Z"
   },
   {
    "duration": 0,
    "start_time": "2023-07-14T15:23:50.869Z"
   },
   {
    "duration": 0,
    "start_time": "2023-07-14T15:23:50.870Z"
   },
   {
    "duration": 0,
    "start_time": "2023-07-14T15:23:50.872Z"
   },
   {
    "duration": 0,
    "start_time": "2023-07-14T15:23:50.873Z"
   },
   {
    "duration": 0,
    "start_time": "2023-07-14T15:23:50.873Z"
   },
   {
    "duration": 0,
    "start_time": "2023-07-14T15:23:50.875Z"
   },
   {
    "duration": 0,
    "start_time": "2023-07-14T15:23:50.876Z"
   },
   {
    "duration": 0,
    "start_time": "2023-07-14T15:23:50.877Z"
   },
   {
    "duration": 0,
    "start_time": "2023-07-14T15:23:50.878Z"
   },
   {
    "duration": 0,
    "start_time": "2023-07-14T15:23:50.879Z"
   },
   {
    "duration": 0,
    "start_time": "2023-07-14T15:23:50.880Z"
   },
   {
    "duration": 0,
    "start_time": "2023-07-14T15:23:50.881Z"
   },
   {
    "duration": 0,
    "start_time": "2023-07-14T15:23:50.882Z"
   },
   {
    "duration": 0,
    "start_time": "2023-07-14T15:23:50.883Z"
   },
   {
    "duration": 0,
    "start_time": "2023-07-14T15:23:50.885Z"
   },
   {
    "duration": 0,
    "start_time": "2023-07-14T15:23:50.886Z"
   },
   {
    "duration": 0,
    "start_time": "2023-07-14T15:23:50.887Z"
   },
   {
    "duration": 0,
    "start_time": "2023-07-14T15:23:50.888Z"
   },
   {
    "duration": 0,
    "start_time": "2023-07-14T15:23:50.889Z"
   },
   {
    "duration": 0,
    "start_time": "2023-07-14T15:23:50.890Z"
   },
   {
    "duration": 0,
    "start_time": "2023-07-14T15:23:50.891Z"
   },
   {
    "duration": 0,
    "start_time": "2023-07-14T15:23:50.892Z"
   },
   {
    "duration": 0,
    "start_time": "2023-07-14T15:23:50.893Z"
   },
   {
    "duration": 0,
    "start_time": "2023-07-14T15:23:50.894Z"
   },
   {
    "duration": 0,
    "start_time": "2023-07-14T15:23:50.895Z"
   },
   {
    "duration": 0,
    "start_time": "2023-07-14T15:23:50.897Z"
   },
   {
    "duration": 0,
    "start_time": "2023-07-14T15:23:50.898Z"
   },
   {
    "duration": 1,
    "start_time": "2023-07-14T15:23:50.899Z"
   },
   {
    "duration": 0,
    "start_time": "2023-07-14T15:23:50.901Z"
   },
   {
    "duration": 0,
    "start_time": "2023-07-14T15:23:50.902Z"
   },
   {
    "duration": 0,
    "start_time": "2023-07-14T15:23:50.904Z"
   },
   {
    "duration": 0,
    "start_time": "2023-07-14T15:23:50.905Z"
   },
   {
    "duration": 0,
    "start_time": "2023-07-14T15:23:50.906Z"
   },
   {
    "duration": 0,
    "start_time": "2023-07-14T15:23:50.970Z"
   },
   {
    "duration": 0,
    "start_time": "2023-07-14T15:23:50.971Z"
   },
   {
    "duration": 0,
    "start_time": "2023-07-14T15:23:50.974Z"
   },
   {
    "duration": 0,
    "start_time": "2023-07-14T15:23:50.975Z"
   },
   {
    "duration": 0,
    "start_time": "2023-07-14T15:23:50.976Z"
   },
   {
    "duration": 0,
    "start_time": "2023-07-14T15:23:50.977Z"
   },
   {
    "duration": 0,
    "start_time": "2023-07-14T15:23:50.978Z"
   },
   {
    "duration": 0,
    "start_time": "2023-07-14T15:23:50.979Z"
   },
   {
    "duration": 0,
    "start_time": "2023-07-14T15:23:50.981Z"
   },
   {
    "duration": 0,
    "start_time": "2023-07-14T15:23:50.982Z"
   },
   {
    "duration": 0,
    "start_time": "2023-07-14T15:23:50.984Z"
   },
   {
    "duration": 0,
    "start_time": "2023-07-14T15:23:50.985Z"
   },
   {
    "duration": 745,
    "start_time": "2023-07-14T15:25:35.673Z"
   },
   {
    "duration": 15052,
    "start_time": "2023-07-14T15:25:36.421Z"
   },
   {
    "duration": 3,
    "start_time": "2023-07-14T15:25:51.475Z"
   },
   {
    "duration": 8614,
    "start_time": "2023-07-14T15:25:51.479Z"
   },
   {
    "duration": 120,
    "start_time": "2023-07-14T15:26:00.096Z"
   },
   {
    "duration": 578,
    "start_time": "2023-07-14T15:26:00.217Z"
   },
   {
    "duration": 6993,
    "start_time": "2023-07-14T15:26:00.797Z"
   },
   {
    "duration": 5476,
    "start_time": "2023-07-14T15:26:07.792Z"
   },
   {
    "duration": 1340,
    "start_time": "2023-07-14T15:26:13.270Z"
   },
   {
    "duration": 3,
    "start_time": "2023-07-14T15:26:14.611Z"
   },
   {
    "duration": 3,
    "start_time": "2023-07-14T15:26:14.668Z"
   },
   {
    "duration": 610,
    "start_time": "2023-07-14T15:26:14.672Z"
   },
   {
    "duration": 774,
    "start_time": "2023-07-14T15:26:15.284Z"
   },
   {
    "duration": 105,
    "start_time": "2023-07-14T15:26:16.067Z"
   },
   {
    "duration": 220,
    "start_time": "2023-07-14T15:26:16.174Z"
   },
   {
    "duration": 88,
    "start_time": "2023-07-14T15:26:16.396Z"
   },
   {
    "duration": 1207,
    "start_time": "2023-07-14T15:26:16.486Z"
   },
   {
    "duration": 99,
    "start_time": "2023-07-14T15:26:17.695Z"
   },
   {
    "duration": 19,
    "start_time": "2023-07-14T15:26:17.795Z"
   },
   {
    "duration": 3719,
    "start_time": "2023-07-14T15:26:17.868Z"
   },
   {
    "duration": 11,
    "start_time": "2023-07-14T15:26:21.588Z"
   },
   {
    "duration": 149,
    "start_time": "2023-07-14T15:26:21.600Z"
   },
   {
    "duration": 56,
    "start_time": "2023-07-14T15:26:21.750Z"
   },
   {
    "duration": 71,
    "start_time": "2023-07-14T15:26:21.808Z"
   },
   {
    "duration": 907,
    "start_time": "2023-07-14T15:26:21.880Z"
   },
   {
    "duration": 28,
    "start_time": "2023-07-14T15:26:22.788Z"
   },
   {
    "duration": 74,
    "start_time": "2023-07-14T15:26:22.818Z"
   },
   {
    "duration": 2,
    "start_time": "2023-07-14T15:26:22.894Z"
   },
   {
    "duration": 14,
    "start_time": "2023-07-14T15:26:22.898Z"
   },
   {
    "duration": 39,
    "start_time": "2023-07-14T15:26:22.971Z"
   },
   {
    "duration": 489,
    "start_time": "2023-07-14T15:26:23.012Z"
   },
   {
    "duration": 85,
    "start_time": "2023-07-14T15:26:23.503Z"
   },
   {
    "duration": 3,
    "start_time": "2023-07-14T15:26:23.590Z"
   },
   {
    "duration": 74,
    "start_time": "2023-07-14T15:26:23.594Z"
   },
   {
    "duration": 902,
    "start_time": "2023-07-14T15:26:23.670Z"
   },
   {
    "duration": 94,
    "start_time": "2023-07-14T15:26:24.574Z"
   },
   {
    "duration": 406,
    "start_time": "2023-07-14T15:26:24.670Z"
   },
   {
    "duration": 18,
    "start_time": "2023-07-14T15:26:25.079Z"
   },
   {
    "duration": 86,
    "start_time": "2023-07-14T15:26:25.099Z"
   },
   {
    "duration": 4,
    "start_time": "2023-07-14T15:26:25.187Z"
   },
   {
    "duration": 8,
    "start_time": "2023-07-14T15:26:25.195Z"
   },
   {
    "duration": 66,
    "start_time": "2023-07-14T15:26:25.205Z"
   },
   {
    "duration": 425,
    "start_time": "2023-07-14T15:26:25.273Z"
   },
   {
    "duration": 77,
    "start_time": "2023-07-14T15:26:25.699Z"
   },
   {
    "duration": 3,
    "start_time": "2023-07-14T15:26:25.778Z"
   },
   {
    "duration": 108,
    "start_time": "2023-07-14T15:26:25.783Z"
   },
   {
    "duration": 2612,
    "start_time": "2023-07-14T15:26:25.893Z"
   },
   {
    "duration": 75,
    "start_time": "2023-07-14T15:26:28.507Z"
   },
   {
    "duration": 499,
    "start_time": "2023-07-14T15:26:28.584Z"
   },
   {
    "duration": 10,
    "start_time": "2023-07-14T15:26:29.085Z"
   },
   {
    "duration": 1676,
    "start_time": "2023-07-14T15:26:29.097Z"
   },
   {
    "duration": 22,
    "start_time": "2023-07-14T15:26:30.775Z"
   },
   {
    "duration": 460,
    "start_time": "2023-07-14T15:26:30.798Z"
   },
   {
    "duration": 3,
    "start_time": "2023-07-14T15:26:31.269Z"
   },
   {
    "duration": 423,
    "start_time": "2023-07-14T15:26:31.273Z"
   },
   {
    "duration": 412,
    "start_time": "2023-07-14T15:26:31.698Z"
   },
   {
    "duration": 2,
    "start_time": "2023-07-14T15:26:32.169Z"
   },
   {
    "duration": 341,
    "start_time": "2023-07-14T15:26:32.172Z"
   },
   {
    "duration": 454,
    "start_time": "2023-07-14T15:26:32.515Z"
   },
   {
    "duration": 3,
    "start_time": "2023-07-14T15:26:32.972Z"
   },
   {
    "duration": 398,
    "start_time": "2023-07-14T15:26:32.977Z"
   },
   {
    "duration": 263,
    "start_time": "2023-07-14T15:26:33.377Z"
   },
   {
    "duration": 633,
    "start_time": "2023-07-14T15:26:33.642Z"
   },
   {
    "duration": 690,
    "start_time": "2023-07-14T15:54:57.420Z"
   },
   {
    "duration": 17573,
    "start_time": "2023-07-14T15:54:58.111Z"
   },
   {
    "duration": 3,
    "start_time": "2023-07-14T15:55:15.686Z"
   },
   {
    "duration": 11798,
    "start_time": "2023-07-14T15:55:15.691Z"
   },
   {
    "duration": 100,
    "start_time": "2023-07-14T15:55:27.492Z"
   },
   {
    "duration": 874,
    "start_time": "2023-07-14T15:55:27.595Z"
   },
   {
    "duration": 8415,
    "start_time": "2023-07-14T15:55:28.471Z"
   },
   {
    "duration": 7009,
    "start_time": "2023-07-14T15:55:36.888Z"
   },
   {
    "duration": 1996,
    "start_time": "2023-07-14T15:55:43.900Z"
   },
   {
    "duration": 3,
    "start_time": "2023-07-14T15:55:45.900Z"
   },
   {
    "duration": 63,
    "start_time": "2023-07-14T15:55:45.906Z"
   },
   {
    "duration": 717,
    "start_time": "2023-07-14T15:55:45.971Z"
   },
   {
    "duration": 814,
    "start_time": "2023-07-14T15:55:46.690Z"
   },
   {
    "duration": 173,
    "start_time": "2023-07-14T15:55:47.510Z"
   },
   {
    "duration": 305,
    "start_time": "2023-07-14T15:55:47.686Z"
   },
   {
    "duration": 96,
    "start_time": "2023-07-14T15:55:47.993Z"
   },
   {
    "duration": 1304,
    "start_time": "2023-07-14T15:55:48.092Z"
   },
   {
    "duration": 116,
    "start_time": "2023-07-14T15:55:49.398Z"
   },
   {
    "duration": 71,
    "start_time": "2023-07-14T15:55:49.516Z"
   },
   {
    "duration": 4614,
    "start_time": "2023-07-14T15:55:49.590Z"
   },
   {
    "duration": 16,
    "start_time": "2023-07-14T15:55:54.207Z"
   },
   {
    "duration": 314,
    "start_time": "2023-07-14T15:55:54.226Z"
   },
   {
    "duration": 126,
    "start_time": "2023-07-14T15:55:54.542Z"
   },
   {
    "duration": 29,
    "start_time": "2023-07-14T15:55:54.670Z"
   },
   {
    "duration": 1382,
    "start_time": "2023-07-14T15:55:54.700Z"
   },
   {
    "duration": 93,
    "start_time": "2023-07-14T15:55:56.085Z"
   },
   {
    "duration": 87,
    "start_time": "2023-07-14T15:55:56.181Z"
   },
   {
    "duration": 4,
    "start_time": "2023-07-14T15:55:56.271Z"
   },
   {
    "duration": 15,
    "start_time": "2023-07-14T15:55:56.277Z"
   },
   {
    "duration": 98,
    "start_time": "2023-07-14T15:55:56.294Z"
   },
   {
    "duration": 614,
    "start_time": "2023-07-14T15:55:56.393Z"
   },
   {
    "duration": 64,
    "start_time": "2023-07-14T15:55:57.009Z"
   },
   {
    "duration": 9,
    "start_time": "2023-07-14T15:55:57.076Z"
   },
   {
    "duration": 13,
    "start_time": "2023-07-14T15:55:57.090Z"
   },
   {
    "duration": 1081,
    "start_time": "2023-07-14T15:55:57.105Z"
   },
   {
    "duration": 97,
    "start_time": "2023-07-14T15:55:58.188Z"
   },
   {
    "duration": 703,
    "start_time": "2023-07-14T15:55:58.288Z"
   },
   {
    "duration": 78,
    "start_time": "2023-07-14T15:55:58.993Z"
   },
   {
    "duration": 6,
    "start_time": "2023-07-14T15:55:59.072Z"
   },
   {
    "duration": 4,
    "start_time": "2023-07-14T15:55:59.080Z"
   },
   {
    "duration": 17,
    "start_time": "2023-07-14T15:55:59.091Z"
   },
   {
    "duration": 60,
    "start_time": "2023-07-14T15:55:59.113Z"
   },
   {
    "duration": 698,
    "start_time": "2023-07-14T15:55:59.176Z"
   },
   {
    "duration": 23,
    "start_time": "2023-07-14T15:55:59.877Z"
   },
   {
    "duration": 4,
    "start_time": "2023-07-14T15:55:59.903Z"
   },
   {
    "duration": 100,
    "start_time": "2023-07-14T15:55:59.910Z"
   },
   {
    "duration": 4073,
    "start_time": "2023-07-14T15:56:00.013Z"
   },
   {
    "duration": 87,
    "start_time": "2023-07-14T15:56:04.092Z"
   },
   {
    "duration": 532,
    "start_time": "2023-07-14T15:56:04.181Z"
   },
   {
    "duration": 56,
    "start_time": "2023-07-14T15:56:04.716Z"
   },
   {
    "duration": 2150,
    "start_time": "2023-07-14T15:56:04.774Z"
   },
   {
    "duration": 29,
    "start_time": "2023-07-14T15:56:06.970Z"
   },
   {
    "duration": 576,
    "start_time": "2023-07-14T15:56:07.001Z"
   },
   {
    "duration": 1193,
    "start_time": "2023-07-14T15:56:07.579Z"
   },
   {
    "duration": 506,
    "start_time": "2023-07-14T15:56:08.774Z"
   },
   {
    "duration": 431,
    "start_time": "2023-07-14T15:56:09.283Z"
   },
   {
    "duration": 893,
    "start_time": "2023-07-14T15:56:09.716Z"
   },
   {
    "duration": 508,
    "start_time": "2023-07-14T15:56:10.667Z"
   },
   {
    "duration": 337,
    "start_time": "2023-07-14T15:56:11.177Z"
   },
   {
    "duration": 692,
    "start_time": "2023-07-14T15:56:11.516Z"
   },
   {
    "duration": 479,
    "start_time": "2023-07-14T15:56:12.210Z"
   },
   {
    "duration": 484,
    "start_time": "2023-07-14T15:56:12.692Z"
   },
   {
    "duration": 335,
    "start_time": "2023-07-14T15:56:13.178Z"
   },
   {
    "duration": 110,
    "start_time": "2023-07-14T16:38:30.005Z"
   },
   {
    "duration": 5,
    "start_time": "2023-07-14T16:38:38.204Z"
   },
   {
    "duration": 370,
    "start_time": "2023-07-14T16:38:38.212Z"
   },
   {
    "duration": 4,
    "start_time": "2023-07-14T16:38:38.584Z"
   },
   {
    "duration": 596,
    "start_time": "2023-07-14T16:38:38.590Z"
   },
   {
    "duration": 11,
    "start_time": "2023-07-14T16:38:39.188Z"
   },
   {
    "duration": 172,
    "start_time": "2023-07-14T16:38:39.202Z"
   },
   {
    "duration": 2706,
    "start_time": "2023-07-14T16:38:39.375Z"
   },
   {
    "duration": 3292,
    "start_time": "2023-07-14T16:38:42.084Z"
   },
   {
    "duration": 553,
    "start_time": "2023-07-14T16:38:45.379Z"
   },
   {
    "duration": 3,
    "start_time": "2023-07-14T16:38:45.935Z"
   },
   {
    "duration": 29,
    "start_time": "2023-07-14T16:38:45.940Z"
   },
   {
    "duration": 408,
    "start_time": "2023-07-14T16:38:45.971Z"
   },
   {
    "duration": 416,
    "start_time": "2023-07-14T16:38:46.380Z"
   },
   {
    "duration": 74,
    "start_time": "2023-07-14T16:38:46.799Z"
   },
   {
    "duration": 199,
    "start_time": "2023-07-14T16:38:46.874Z"
   },
   {
    "duration": 9,
    "start_time": "2023-07-14T16:38:47.076Z"
   },
   {
    "duration": 491,
    "start_time": "2023-07-14T16:38:47.087Z"
   },
   {
    "duration": 24,
    "start_time": "2023-07-14T16:38:47.580Z"
   },
   {
    "duration": 70,
    "start_time": "2023-07-14T16:38:47.606Z"
   },
   {
    "duration": 2293,
    "start_time": "2023-07-14T16:38:47.678Z"
   },
   {
    "duration": 8,
    "start_time": "2023-07-14T16:38:49.973Z"
   },
   {
    "duration": 10,
    "start_time": "2023-07-14T16:38:49.983Z"
   },
   {
    "duration": 73,
    "start_time": "2023-07-14T16:38:49.995Z"
   },
   {
    "duration": 23,
    "start_time": "2023-07-14T16:38:50.071Z"
   },
   {
    "duration": 192,
    "start_time": "2023-07-14T16:38:53.722Z"
   },
   {
    "duration": 16,
    "start_time": "2023-07-14T16:41:31.062Z"
   },
   {
    "duration": 234,
    "start_time": "2023-07-14T16:42:36.700Z"
   },
   {
    "duration": 176,
    "start_time": "2023-07-14T16:44:47.819Z"
   },
   {
    "duration": 217,
    "start_time": "2023-07-14T16:45:41.240Z"
   },
   {
    "duration": 70,
    "start_time": "2023-07-14T16:46:30.382Z"
   },
   {
    "duration": 198,
    "start_time": "2023-07-14T16:52:52.005Z"
   },
   {
    "duration": 221,
    "start_time": "2023-07-14T16:53:02.475Z"
   },
   {
    "duration": 707,
    "start_time": "2023-07-14T17:07:29.309Z"
   },
   {
    "duration": 15882,
    "start_time": "2023-07-14T17:07:30.018Z"
   },
   {
    "duration": 4,
    "start_time": "2023-07-14T17:07:45.902Z"
   },
   {
    "duration": 9761,
    "start_time": "2023-07-14T17:07:45.908Z"
   },
   {
    "duration": 97,
    "start_time": "2023-07-14T17:07:55.671Z"
   },
   {
    "duration": 813,
    "start_time": "2023-07-14T17:07:55.771Z"
   },
   {
    "duration": 8113,
    "start_time": "2023-07-14T17:07:56.585Z"
   },
   {
    "duration": 6215,
    "start_time": "2023-07-14T17:08:04.699Z"
   },
   {
    "duration": 1516,
    "start_time": "2023-07-14T17:08:10.969Z"
   },
   {
    "duration": 3,
    "start_time": "2023-07-14T17:08:12.491Z"
   },
   {
    "duration": 7,
    "start_time": "2023-07-14T17:08:12.496Z"
   },
   {
    "duration": 829,
    "start_time": "2023-07-14T17:08:12.569Z"
   },
   {
    "duration": 809,
    "start_time": "2023-07-14T17:08:13.400Z"
   },
   {
    "duration": 99,
    "start_time": "2023-07-14T17:08:14.210Z"
   },
   {
    "duration": 282,
    "start_time": "2023-07-14T17:08:14.313Z"
   },
   {
    "duration": 93,
    "start_time": "2023-07-14T17:08:14.596Z"
   },
   {
    "duration": 1493,
    "start_time": "2023-07-14T17:08:14.691Z"
   },
   {
    "duration": 106,
    "start_time": "2023-07-14T17:08:16.186Z"
   },
   {
    "duration": 87,
    "start_time": "2023-07-14T17:08:16.295Z"
   },
   {
    "duration": 4815,
    "start_time": "2023-07-14T17:08:16.384Z"
   },
   {
    "duration": 79,
    "start_time": "2023-07-14T17:08:21.201Z"
   },
   {
    "duration": 209,
    "start_time": "2023-07-14T17:08:21.282Z"
   },
   {
    "duration": 88,
    "start_time": "2023-07-14T17:08:21.493Z"
   },
   {
    "duration": 87,
    "start_time": "2023-07-14T17:08:21.583Z"
   },
   {
    "duration": 517,
    "start_time": "2023-07-14T17:08:21.672Z"
   },
   {
    "duration": 98,
    "start_time": "2023-07-14T17:08:22.192Z"
   },
   {
    "duration": 106,
    "start_time": "2023-07-14T17:08:22.293Z"
   },
   {
    "duration": 65,
    "start_time": "2023-07-14T17:08:22.404Z"
   },
   {
    "duration": 16,
    "start_time": "2023-07-14T17:08:22.471Z"
   },
   {
    "duration": 184,
    "start_time": "2023-07-14T17:08:22.489Z"
   },
   {
    "duration": 797,
    "start_time": "2023-07-14T17:08:22.675Z"
   },
   {
    "duration": 27,
    "start_time": "2023-07-14T17:08:23.474Z"
   },
   {
    "duration": 4,
    "start_time": "2023-07-14T17:08:23.568Z"
   },
   {
    "duration": 14,
    "start_time": "2023-07-14T17:08:23.573Z"
   },
   {
    "duration": 1398,
    "start_time": "2023-07-14T17:08:23.589Z"
   },
   {
    "duration": 105,
    "start_time": "2023-07-14T17:08:24.989Z"
   },
   {
    "duration": 501,
    "start_time": "2023-07-14T17:08:25.096Z"
   },
   {
    "duration": 22,
    "start_time": "2023-07-14T17:08:25.600Z"
   },
   {
    "duration": 48,
    "start_time": "2023-07-14T17:08:25.623Z"
   },
   {
    "duration": 4,
    "start_time": "2023-07-14T17:08:25.673Z"
   },
   {
    "duration": 13,
    "start_time": "2023-07-14T17:08:25.680Z"
   },
   {
    "duration": 90,
    "start_time": "2023-07-14T17:08:25.695Z"
   },
   {
    "duration": 557,
    "start_time": "2023-07-14T17:08:25.788Z"
   },
   {
    "duration": 25,
    "start_time": "2023-07-14T17:08:26.367Z"
   },
   {
    "duration": 75,
    "start_time": "2023-07-14T17:08:26.396Z"
   },
   {
    "duration": 53,
    "start_time": "2023-07-14T17:08:26.474Z"
   },
   {
    "duration": 3976,
    "start_time": "2023-07-14T17:08:26.529Z"
   },
   {
    "duration": 83,
    "start_time": "2023-07-14T17:08:30.508Z"
   },
   {
    "duration": 703,
    "start_time": "2023-07-14T17:08:30.593Z"
   },
   {
    "duration": 69,
    "start_time": "2023-07-14T17:08:31.299Z"
   },
   {
    "duration": 1999,
    "start_time": "2023-07-14T17:08:31.371Z"
   },
   {
    "duration": 23,
    "start_time": "2023-07-14T17:08:33.372Z"
   },
   {
    "duration": 610,
    "start_time": "2023-07-14T17:08:33.400Z"
   },
   {
    "duration": 57,
    "start_time": "2023-07-14T17:08:34.012Z"
   },
   {
    "duration": 805,
    "start_time": "2023-07-14T17:08:34.072Z"
   },
   {
    "duration": 508,
    "start_time": "2023-07-14T17:08:34.880Z"
   },
   {
    "duration": 4,
    "start_time": "2023-07-14T17:08:35.391Z"
   },
   {
    "duration": 480,
    "start_time": "2023-07-14T17:08:35.397Z"
   },
   {
    "duration": 421,
    "start_time": "2023-07-14T17:08:35.879Z"
   },
   {
    "duration": 2,
    "start_time": "2023-07-14T17:08:36.302Z"
   },
   {
    "duration": 476,
    "start_time": "2023-07-14T17:08:36.306Z"
   },
   {
    "duration": 415,
    "start_time": "2023-07-14T17:08:36.787Z"
   },
   {
    "duration": 276,
    "start_time": "2023-07-14T17:08:37.205Z"
   }
  ],
  "colab": {
   "name": "PySparkSprint.ipynb",
   "provenance": []
  },
  "kernelspec": {
   "display_name": "Python 3 (ipykernel)",
   "language": "python",
   "name": "python3"
  },
  "language_info": {
   "codemirror_mode": {
    "name": "ipython",
    "version": 3
   },
   "file_extension": ".py",
   "mimetype": "text/x-python",
   "name": "python",
   "nbconvert_exporter": "python",
   "pygments_lexer": "ipython3",
   "version": "3.9.5"
  },
  "toc": {
   "base_numbering": 1,
   "nav_menu": {},
   "number_sections": true,
   "sideBar": true,
   "skip_h1_title": true,
   "title_cell": "Table of Contents",
   "title_sidebar": "Contents",
   "toc_cell": false,
   "toc_position": {
    "height": "calc(100% - 180px)",
    "left": "10px",
    "top": "150px",
    "width": "232px"
   },
   "toc_section_display": true,
   "toc_window_display": false
  }
 },
 "nbformat": 4,
 "nbformat_minor": 5
}
