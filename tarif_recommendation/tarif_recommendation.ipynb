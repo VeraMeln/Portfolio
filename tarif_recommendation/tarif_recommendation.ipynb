{
 "cells": [
  {
   "cell_type": "markdown",
   "metadata": {},
   "source": [
    "# Рекомендация тарифов"
   ]
  },
  {
   "cell_type": "markdown",
   "metadata": {},
   "source": [
    "## Описание проекта"
   ]
  },
  {
   "cell_type": "markdown",
   "metadata": {},
   "source": [
    "Оператор мобильной связи «Мегалайн» выяснил: многие клиенты пользуются архивными тарифами. Они хотят построить систему, способную проанализировать поведение клиентов и предложить пользователям новый тариф: «Смарт» или «Ультра»."
   ]
  },
  {
   "cell_type": "markdown",
   "metadata": {},
   "source": [
    "В вашем распоряжении данные о поведении клиентов, которые уже перешли на эти тарифы (из проекта курса «Статистический анализ данных»). Нужно построить модель для задачи классификации, которая выберет подходящий тариф. Предобработка данных не понадобится — вы её уже сделали."
   ]
  },
  {
   "cell_type": "markdown",
   "metadata": {},
   "source": [
    "Постройте модель с максимально большим значением *accuracy*. Чтобы сдать проект успешно, нужно довести долю правильных ответов по крайней мере до 0.75. Проверьте *accuracy* на тестовой выборке самостоятельно."
   ]
  },
  {
   "cell_type": "markdown",
   "metadata": {},
   "source": [
    "Обучим на имеющихся данных несколько моделей с разными гиперпараметрами. Проверим их качество на валидационной выборке и выберем лучшую из тех, чья доля правильных ответов превысит 0,75."
   ]
  },
  {
   "cell_type": "markdown",
   "metadata": {},
   "source": [
    "## Описание данных"
   ]
  },
  {
   "cell_type": "markdown",
   "metadata": {},
   "source": [
    "Каждый объект в наборе данных — это информация о поведении одного пользователя за месяц. \n",
    "\n",
    "Известно:\n",
    "- сalls — количество звонков,\n",
    "- minutes — суммарная длительность звонков в минутах,\n",
    "- messages — количество sms-сообщений,\n",
    "- mb_used — израсходованный интернет-трафик в Мб,\n",
    "- is_ultra — каким тарифом пользовался в течение месяца («Ультра» — 1, «Смарт» — 0).\n"
   ]
  },
  {
   "cell_type": "code",
   "execution_count": 1,
   "metadata": {},
   "outputs": [],
   "source": [
    "# импортируем необходимые библиотеки и методы\n",
    "import pandas as pd\n",
    "\n",
    "from sklearn.model_selection import train_test_split\n",
    "from sklearn.metrics import accuracy_score\n",
    "\n",
    "from sklearn.tree import DecisionTreeClassifier\n",
    "from sklearn.ensemble import RandomForestClassifier\n",
    "\n",
    "from sklearn.linear_model import LogisticRegression\n",
    "from sklearn.tree import DecisionTreeRegressor\n",
    "from sklearn.ensemble import RandomForestRegressor\n",
    "from sklearn.linear_model import LinearRegression\n",
    "\n",
    "from sklearn.dummy import DummyClassifier"
   ]
  },
  {
   "cell_type": "markdown",
   "metadata": {},
   "source": [
    "## Откройте и изучите файл"
   ]
  },
  {
   "cell_type": "code",
   "execution_count": 2,
   "metadata": {},
   "outputs": [
    {
     "data": {
      "text/html": [
       "<div>\n",
       "<style scoped>\n",
       "    .dataframe tbody tr th:only-of-type {\n",
       "        vertical-align: middle;\n",
       "    }\n",
       "\n",
       "    .dataframe tbody tr th {\n",
       "        vertical-align: top;\n",
       "    }\n",
       "\n",
       "    .dataframe thead th {\n",
       "        text-align: right;\n",
       "    }\n",
       "</style>\n",
       "<table border=\"1\" class=\"dataframe\">\n",
       "  <thead>\n",
       "    <tr style=\"text-align: right;\">\n",
       "      <th></th>\n",
       "      <th>calls</th>\n",
       "      <th>minutes</th>\n",
       "      <th>messages</th>\n",
       "      <th>mb_used</th>\n",
       "      <th>is_ultra</th>\n",
       "    </tr>\n",
       "  </thead>\n",
       "  <tbody>\n",
       "    <tr>\n",
       "      <th>0</th>\n",
       "      <td>40.0</td>\n",
       "      <td>311.90</td>\n",
       "      <td>83.0</td>\n",
       "      <td>19915.42</td>\n",
       "      <td>0</td>\n",
       "    </tr>\n",
       "    <tr>\n",
       "      <th>1</th>\n",
       "      <td>85.0</td>\n",
       "      <td>516.75</td>\n",
       "      <td>56.0</td>\n",
       "      <td>22696.96</td>\n",
       "      <td>0</td>\n",
       "    </tr>\n",
       "    <tr>\n",
       "      <th>2</th>\n",
       "      <td>77.0</td>\n",
       "      <td>467.66</td>\n",
       "      <td>86.0</td>\n",
       "      <td>21060.45</td>\n",
       "      <td>0</td>\n",
       "    </tr>\n",
       "    <tr>\n",
       "      <th>3</th>\n",
       "      <td>106.0</td>\n",
       "      <td>745.53</td>\n",
       "      <td>81.0</td>\n",
       "      <td>8437.39</td>\n",
       "      <td>1</td>\n",
       "    </tr>\n",
       "    <tr>\n",
       "      <th>4</th>\n",
       "      <td>66.0</td>\n",
       "      <td>418.74</td>\n",
       "      <td>1.0</td>\n",
       "      <td>14502.75</td>\n",
       "      <td>0</td>\n",
       "    </tr>\n",
       "  </tbody>\n",
       "</table>\n",
       "</div>"
      ],
      "text/plain": [
       "   calls  minutes  messages   mb_used  is_ultra\n",
       "0   40.0   311.90      83.0  19915.42         0\n",
       "1   85.0   516.75      56.0  22696.96         0\n",
       "2   77.0   467.66      86.0  21060.45         0\n",
       "3  106.0   745.53      81.0   8437.39         1\n",
       "4   66.0   418.74       1.0  14502.75         0"
      ]
     },
     "execution_count": 2,
     "metadata": {},
     "output_type": "execute_result"
    }
   ],
   "source": [
    "# откроем файл и посмотрим первые 5 строк\n",
    "data = pd.read_csv('/datasets/users_behavior.csv')\n",
    "data.head()"
   ]
  },
  {
   "cell_type": "code",
   "execution_count": 3,
   "metadata": {},
   "outputs": [
    {
     "name": "stdout",
     "output_type": "stream",
     "text": [
      "<class 'pandas.core.frame.DataFrame'>\n",
      "RangeIndex: 3214 entries, 0 to 3213\n",
      "Data columns (total 5 columns):\n",
      " #   Column    Non-Null Count  Dtype  \n",
      "---  ------    --------------  -----  \n",
      " 0   calls     3214 non-null   float64\n",
      " 1   minutes   3214 non-null   float64\n",
      " 2   messages  3214 non-null   float64\n",
      " 3   mb_used   3214 non-null   float64\n",
      " 4   is_ultra  3214 non-null   int64  \n",
      "dtypes: float64(4), int64(1)\n",
      "memory usage: 125.7 KB\n"
     ]
    }
   ],
   "source": [
    "# посмотрим основную информацию об имеющемся наборе данных\n",
    "data.info()"
   ]
  },
  {
   "cell_type": "code",
   "execution_count": 4,
   "metadata": {},
   "outputs": [
    {
     "data": {
      "image/png": "[encoded data removed]",
      "text/plain": [
       "<Figure size 648x1080 with 6 Axes>"
      ]
     },
     "metadata": {
      "needs_background": "light"
     },
     "output_type": "display_data"
    }
   ],
   "source": [
    "# посмотрим, что собой представляют числовые значения имеющихся характеристик данных\n",
    "data.hist(figsize=(9, 15));"
   ]
  },
  {
   "cell_type": "code",
   "execution_count": 5,
   "metadata": {},
   "outputs": [
    {
     "data": {
      "text/html": [
       "<div>\n",
       "<style scoped>\n",
       "    .dataframe tbody tr th:only-of-type {\n",
       "        vertical-align: middle;\n",
       "    }\n",
       "\n",
       "    .dataframe tbody tr th {\n",
       "        vertical-align: top;\n",
       "    }\n",
       "\n",
       "    .dataframe thead th {\n",
       "        text-align: right;\n",
       "    }\n",
       "</style>\n",
       "<table border=\"1\" class=\"dataframe\">\n",
       "  <thead>\n",
       "    <tr style=\"text-align: right;\">\n",
       "      <th></th>\n",
       "      <th>calls</th>\n",
       "      <th>minutes</th>\n",
       "      <th>messages</th>\n",
       "      <th>mb_used</th>\n",
       "    </tr>\n",
       "  </thead>\n",
       "  <tbody>\n",
       "    <tr>\n",
       "      <th>count</th>\n",
       "      <td>3214.000000</td>\n",
       "      <td>3214.000000</td>\n",
       "      <td>3214.000000</td>\n",
       "      <td>3214.000000</td>\n",
       "    </tr>\n",
       "    <tr>\n",
       "      <th>mean</th>\n",
       "      <td>63.038892</td>\n",
       "      <td>438.208787</td>\n",
       "      <td>38.281269</td>\n",
       "      <td>17207.673836</td>\n",
       "    </tr>\n",
       "    <tr>\n",
       "      <th>std</th>\n",
       "      <td>33.236368</td>\n",
       "      <td>234.569872</td>\n",
       "      <td>36.148326</td>\n",
       "      <td>7570.968246</td>\n",
       "    </tr>\n",
       "    <tr>\n",
       "      <th>min</th>\n",
       "      <td>0.000000</td>\n",
       "      <td>0.000000</td>\n",
       "      <td>0.000000</td>\n",
       "      <td>0.000000</td>\n",
       "    </tr>\n",
       "    <tr>\n",
       "      <th>25%</th>\n",
       "      <td>40.000000</td>\n",
       "      <td>274.575000</td>\n",
       "      <td>9.000000</td>\n",
       "      <td>12491.902500</td>\n",
       "    </tr>\n",
       "    <tr>\n",
       "      <th>50%</th>\n",
       "      <td>62.000000</td>\n",
       "      <td>430.600000</td>\n",
       "      <td>30.000000</td>\n",
       "      <td>16943.235000</td>\n",
       "    </tr>\n",
       "    <tr>\n",
       "      <th>75%</th>\n",
       "      <td>82.000000</td>\n",
       "      <td>571.927500</td>\n",
       "      <td>57.000000</td>\n",
       "      <td>21424.700000</td>\n",
       "    </tr>\n",
       "    <tr>\n",
       "      <th>max</th>\n",
       "      <td>244.000000</td>\n",
       "      <td>1632.060000</td>\n",
       "      <td>224.000000</td>\n",
       "      <td>49745.730000</td>\n",
       "    </tr>\n",
       "  </tbody>\n",
       "</table>\n",
       "</div>"
      ],
      "text/plain": [
       "             calls      minutes     messages       mb_used\n",
       "count  3214.000000  3214.000000  3214.000000   3214.000000\n",
       "mean     63.038892   438.208787    38.281269  17207.673836\n",
       "std      33.236368   234.569872    36.148326   7570.968246\n",
       "min       0.000000     0.000000     0.000000      0.000000\n",
       "25%      40.000000   274.575000     9.000000  12491.902500\n",
       "50%      62.000000   430.600000    30.000000  16943.235000\n",
       "75%      82.000000   571.927500    57.000000  21424.700000\n",
       "max     244.000000  1632.060000   224.000000  49745.730000"
      ]
     },
     "execution_count": 5,
     "metadata": {},
     "output_type": "execute_result"
    }
   ],
   "source": [
    "# посмотрим, как распределились значения количественных признаков\n",
    "data.loc[:, 'calls':'mb_used'].describe()"
   ]
  },
  {
   "cell_type": "markdown",
   "metadata": {},
   "source": [
    "### Вывод"
   ]
  },
  {
   "cell_type": "markdown",
   "metadata": {},
   "source": [
    "В датасете представлена информация о 3214 пользователях. Данные прошли предобработку, пропусков не содержат.\n",
    "\n",
    "Среднестатистический пользователь за месяц: совершает 62 звонка, тратит на разговоры 430 минут, отправляет 30 сообщений и тратит 16 Гб интернет-траффика.\n",
    "\n",
    "Пользователи выбирают тариф «Смарт» более чем в 2 раза чаще, чем тариф «Ультра»."
   ]
  },
  {
   "cell_type": "markdown",
   "metadata": {},
   "source": [
    "## Разбейте данные на выборки"
   ]
  },
  {
   "cell_type": "markdown",
   "metadata": {},
   "source": [
    "### Разделим исходные данные на обучающую, валидационную и тестовую выборки"
   ]
  },
  {
   "cell_type": "markdown",
   "metadata": {},
   "source": [
    "Разобьем данные на три части – обучающую выборку, валидационную и тестовую в отношении 3:1:1. \n",
    "\n",
    "Сначала отделим 60% в качестве обучающего набора, затем оставшиеся данные разделим пополам.\n",
    "\n",
    "Так как в наших данных тариф «Смарт» встречается более чем в 2 раза чаще, чем тариф «Ультра», передадим функции train_test_split столбец «is_ultra» в качестве значения параметра stratify, чтобы это соотношение сохранилось после разделения данных на две выборки"
   ]
  },
  {
   "cell_type": "code",
   "execution_count": 6,
   "metadata": {},
   "outputs": [],
   "source": [
    "data_train, data_rest = train_test_split(\n",
    "    data,\n",
    "    test_size=0.4,\n",
    "    random_state=12345,\n",
    "    stratify=data['is_ultra']\n",
    ")"
   ]
  },
  {
   "cell_type": "code",
   "execution_count": 7,
   "metadata": {},
   "outputs": [
    {
     "data": {
      "text/plain": [
       "(3214, 1928, 1286)"
      ]
     },
     "execution_count": 7,
     "metadata": {},
     "output_type": "execute_result"
    }
   ],
   "source": [
    "# убедимся в правильности разбиения\n",
    "data.shape[0], data_train.shape[0], data_rest.shape[0]"
   ]
  },
  {
   "cell_type": "code",
   "execution_count": 8,
   "metadata": {},
   "outputs": [
    {
     "data": {
      "text/plain": [
       "0    0.693528\n",
       "1    0.306472\n",
       "Name: is_ultra, dtype: float64"
      ]
     },
     "execution_count": 8,
     "metadata": {},
     "output_type": "execute_result"
    }
   ],
   "source": [
    "# проверим соотношения значений 0 и 1 в столбце 'is_ultra' в исходном и в двух получившихся наборах\n",
    "data['is_ultra'].value_counts()/data.shape[0]"
   ]
  },
  {
   "cell_type": "code",
   "execution_count": 9,
   "metadata": {},
   "outputs": [
    {
     "data": {
      "text/plain": [
       "0    0.693465\n",
       "1    0.306535\n",
       "Name: is_ultra, dtype: float64"
      ]
     },
     "execution_count": 9,
     "metadata": {},
     "output_type": "execute_result"
    }
   ],
   "source": [
    "data_train['is_ultra'].value_counts()/data_train.shape[0]"
   ]
  },
  {
   "cell_type": "code",
   "execution_count": 10,
   "metadata": {},
   "outputs": [
    {
     "data": {
      "text/plain": [
       "0    0.693624\n",
       "1    0.306376\n",
       "Name: is_ultra, dtype: float64"
      ]
     },
     "execution_count": 10,
     "metadata": {},
     "output_type": "execute_result"
    }
   ],
   "source": [
    "data_rest['is_ultra'].value_counts()/data_rest.shape[0]"
   ]
  },
  {
   "cell_type": "markdown",
   "metadata": {},
   "source": [
    "Соотношение классов 0 (соответствует тарифу «Смарт») и 1 (соответствует тарифу «Ультра») во всех трех наборах сохранилось с точностью до трех знаков после запятой.\n",
    "\n",
    "Теперь разобьем data_rest на валидационную и тестовую выборки."
   ]
  },
  {
   "cell_type": "code",
   "execution_count": 11,
   "metadata": {},
   "outputs": [],
   "source": [
    "data_valid, data_test = train_test_split(\n",
    "    data_rest,\n",
    "    test_size=0.5,\n",
    "    random_state=12345,\n",
    "    stratify=data_rest['is_ultra']\n",
    ")"
   ]
  },
  {
   "cell_type": "code",
   "execution_count": 12,
   "metadata": {},
   "outputs": [
    {
     "data": {
      "text/plain": [
       "0    0.693624\n",
       "1    0.306376\n",
       "Name: is_ultra, dtype: float64"
      ]
     },
     "execution_count": 12,
     "metadata": {},
     "output_type": "execute_result"
    }
   ],
   "source": [
    "# проверим, соотношения значений 0 и 1 в столбце 'is_ultra' в валидационной и тестовой выборках\n",
    "# соответствуют превоначальным\n",
    "data_valid['is_ultra'].value_counts()/data_valid.shape[0]"
   ]
  },
  {
   "cell_type": "code",
   "execution_count": 13,
   "metadata": {},
   "outputs": [
    {
     "data": {
      "text/plain": [
       "0    0.693624\n",
       "1    0.306376\n",
       "Name: is_ultra, dtype: float64"
      ]
     },
     "execution_count": 13,
     "metadata": {},
     "output_type": "execute_result"
    }
   ],
   "source": [
    "data_test['is_ultra'].value_counts()/data_test.shape[0]"
   ]
  },
  {
   "cell_type": "markdown",
   "metadata": {},
   "source": [
    "Полное соответствие пропорциям из data_rest."
   ]
  },
  {
   "cell_type": "markdown",
   "metadata": {},
   "source": [
    "### Разделим обучающие признаки и целевой."
   ]
  },
  {
   "cell_type": "markdown",
   "metadata": {},
   "source": [
    "Создадим отдельные переменные для обучающих признаков и целевого признака для каждого из трех наборов данных."
   ]
  },
  {
   "cell_type": "code",
   "execution_count": 14,
   "metadata": {},
   "outputs": [],
   "source": [
    "features_train = data_train.drop('is_ultra', axis=1)\n",
    "target_train = data_train['is_ultra']\n",
    "\n",
    "features_valid = data_valid.drop('is_ultra', axis=1)\n",
    "target_valid = data_valid['is_ultra']\n",
    "\n",
    "features_test = data_test.drop('is_ultra', axis=1)\n",
    "target_test = data_test['is_ultra']"
   ]
  },
  {
   "cell_type": "markdown",
   "metadata": {},
   "source": [
    "### Выводы"
   ]
  },
  {
   "cell_type": "markdown",
   "metadata": {},
   "source": [
    "1. На данном шаге мы разделили исходные данные на три части – обучающую выборку, валидационную и тестовую в отношении 3:1:1. Соотношение данных по разным тарифам при этом сохранилось. \n",
    "1. Для каждого набора данных выделили обучающие признаки и целевой в различные переменные.\n",
    "\n",
    "Можно переходить к настройкам моделей и их обучению."
   ]
  },
  {
   "cell_type": "markdown",
   "metadata": {},
   "source": [
    "## Исследуйте модели"
   ]
  },
  {
   "cell_type": "markdown",
   "metadata": {},
   "source": [
    "Заведем массив, в который будем сохранять лучшие модели каждого вида, если доля их правильных ответов превысит 0,75."
   ]
  },
  {
   "cell_type": "code",
   "execution_count": 15,
   "metadata": {},
   "outputs": [],
   "source": [
    "best_models = []"
   ]
  },
  {
   "cell_type": "markdown",
   "metadata": {},
   "source": [
    "### Дерево решений"
   ]
  },
  {
   "cell_type": "markdown",
   "metadata": {},
   "source": [
    "Для классификации с использованием дерева решений попробуем различные настройки следующих параметров: глубина дерева и количество характеристик, которые учитываются при поиске лучшего разбиения. \n",
    "\n",
    "Посмотрим разные варианты сочетания этих параметров."
   ]
  },
  {
   "cell_type": "code",
   "execution_count": 16,
   "metadata": {},
   "outputs": [
    {
     "name": "stdout",
     "output_type": "stream",
     "text": [
      "depth \t max_feat \t accuracy_score\n",
      "1 \t 1 \t 0.7527216174183515\n",
      "1 \t 2 \t 0.7527216174183515\n",
      "1 \t 3 \t 0.7402799377916018\n",
      "1 \t 4 \t 0.7402799377916018\n",
      "1 \t sqrt \t 0.7527216174183515\n",
      "1 \t log2 \t 0.7527216174183515\n",
      "\n",
      "2 \t 1 \t 0.7807153965785381\n",
      "2 \t 2 \t 0.7527216174183515\n",
      "2 \t 3 \t 0.7822706065318819\n",
      "2 \t 4 \t 0.7729393468118196\n",
      "2 \t sqrt \t 0.7527216174183515\n",
      "2 \t log2 \t 0.7527216174183515\n",
      "\n",
      "3 \t 1 \t 0.7807153965785381\n",
      "3 \t 2 \t 0.7744945567651633\n",
      "3 \t 3 \t 0.7869362363919129\n",
      "3 \t 4 \t 0.7776049766718507\n",
      "3 \t sqrt \t 0.7744945567651633\n",
      "3 \t log2 \t 0.7744945567651633\n",
      "\n",
      "4 \t 1 \t 0.7807153965785381\n",
      "4 \t 2 \t 0.776049766718507\n",
      "4 \t 3 \t 0.7667185069984448\n",
      "4 \t 4 \t 0.7542768273716952\n",
      "4 \t sqrt \t 0.776049766718507\n",
      "4 \t log2 \t 0.776049766718507\n",
      "\n",
      "5 \t 1 \t 0.7884914463452566\n",
      "5 \t 2 \t 0.7822706065318819\n",
      "5 \t 3 \t 0.7931570762052877\n",
      "5 \t 4 \t 0.7853810264385692\n",
      "5 \t sqrt \t 0.7822706065318819\n",
      "5 \t log2 \t 0.7822706065318819\n",
      "\n",
      "--------------------------------------------------\n",
      "best results:\n",
      "5 \t 3 \t 0.7931570762052877\n",
      "best model: DecisionTreeClassifier(max_depth=5, max_features=3, random_state=12345)\n"
     ]
    }
   ],
   "source": [
    "# создаем переменные для лучшей на текущий момент модели и ее точности\n",
    "desision_tree_best_model = None\n",
    "best_result = 0\n",
    "\n",
    "print('depth','\\t', 'max_feat', '\\t', 'accuracy_score')\n",
    "\n",
    "# перебираем разные комбинации в цикле\n",
    "for depth in range(1, 6):    \n",
    "    for test_max_features in [1, 2, 3, 4, 'sqrt', 'log2']:\n",
    "        \n",
    "        model = DecisionTreeClassifier(\n",
    "            random_state=12345, \n",
    "            max_depth=depth,\n",
    "            max_features=test_max_features\n",
    "        )\n",
    "        \n",
    "        # обучаем модель на тренировочных данных\n",
    "        model.fit(features_train, target_train)\n",
    "        \n",
    "        # оцениваем качество модели на валидационной выборке\n",
    "        predictions = model.predict(features_valid)\n",
    "        result = accuracy_score(target_valid, predictions)\n",
    "        print(depth,'\\t', test_max_features, '\\t', result)\n",
    "        \n",
    "        # сохраняем лучшую на данный момент модель и ее показатели\n",
    "        if result > best_result:\n",
    "            best_result = result\n",
    "            desision_tree_best_model = model\n",
    "            best_max_features=test_max_features\n",
    "            best_depth = depth\n",
    "    print()\n",
    "\n",
    "print('--------------------------------------------------')\n",
    "print('best results:')\n",
    "print(best_depth,'\\t', best_max_features, '\\t', best_result)\n",
    "\n",
    "print(f'best model: {desision_tree_best_model}')\n",
    "\n",
    "# если доля правильных ответов превысит 0,75, сохраним нашу модель в списке лучших \n",
    "if best_result >= 0.75:\n",
    "    best_models.append([desision_tree_best_model, best_result])"
   ]
  },
  {
   "cell_type": "markdown",
   "metadata": {},
   "source": [
    "Точность дерева решений превысила порог в 0.75. \n",
    "\n",
    "Значения  гиперпараметров: \n",
    "- глубина – 5, \n",
    "- количество учитываемых при разбиении характеристик – 3.\n"
   ]
  },
  {
   "cell_type": "markdown",
   "metadata": {},
   "source": [
    "### Случайный лес"
   ]
  },
  {
   "cell_type": "markdown",
   "metadata": {},
   "source": [
    "Для классификации методом случайного леса попробуем различные комбинации следующих параметров: \n",
    "- количество деревьев в лесу,  \n",
    "- максимальная глубина деревьев, \n",
    "- количество характеристик, которые учитываются при поиске лучшего разбиения"
   ]
  },
  {
   "cell_type": "code",
   "execution_count": 17,
   "metadata": {},
   "outputs": [
    {
     "name": "stdout",
     "output_type": "stream",
     "text": [
      "n_estim depth \t max_feat \t accuracy_score\n",
      "50 \t 1 \t 1 \t 0.7340590979782271\n",
      "50 \t 1 \t 2 \t 0.7542768273716952\n",
      "50 \t 1 \t 3 \t 0.7480559875583204\n",
      "50 \t 1 \t 4 \t 0.7387247278382582\n",
      "50 \t 1 \t sqrt \t 0.7542768273716952\n",
      "50 \t 1 \t log2 \t 0.7542768273716952\n",
      "50 \t 2 \t 1 \t 0.7744945567651633\n",
      "50 \t 2 \t 2 \t 0.7947122861586314\n",
      "50 \t 2 \t 3 \t 0.7838258164852255\n",
      "50 \t 2 \t 4 \t 0.7822706065318819\n",
      "50 \t 2 \t sqrt \t 0.7947122861586314\n",
      "50 \t 2 \t log2 \t 0.7947122861586314\n",
      "50 \t 3 \t 1 \t 0.7962674961119751\n",
      "50 \t 3 \t 2 \t 0.7947122861586314\n",
      "50 \t 3 \t 3 \t 0.7978227060653188\n",
      "50 \t 3 \t 4 \t 0.7931570762052877\n",
      "50 \t 3 \t sqrt \t 0.7947122861586314\n",
      "50 \t 3 \t log2 \t 0.7947122861586314\n",
      "50 \t 4 \t 1 \t 0.7993779160186625\n",
      "50 \t 4 \t 2 \t 0.7978227060653188\n",
      "50 \t 4 \t 3 \t 0.7993779160186625\n",
      "50 \t 4 \t 4 \t 0.8009331259720062\n",
      "50 \t 4 \t sqrt \t 0.7978227060653188\n",
      "50 \t 4 \t log2 \t 0.7978227060653188\n",
      "50 \t 5 \t 1 \t 0.8055987558320373\n",
      "50 \t 5 \t 2 \t 0.8009331259720062\n",
      "50 \t 5 \t 3 \t 0.807153965785381\n",
      "50 \t 5 \t 4 \t 0.8055987558320373\n",
      "50 \t 5 \t sqrt \t 0.8009331259720062\n",
      "50 \t 5 \t log2 \t 0.8009331259720062\n",
      "\n",
      "60 \t 1 \t 1 \t 0.7293934681181959\n",
      "60 \t 1 \t 2 \t 0.7542768273716952\n",
      "60 \t 1 \t 3 \t 0.7480559875583204\n",
      "60 \t 1 \t 4 \t 0.7387247278382582\n",
      "60 \t 1 \t sqrt \t 0.7542768273716952\n",
      "60 \t 1 \t log2 \t 0.7542768273716952\n",
      "60 \t 2 \t 1 \t 0.7729393468118196\n",
      "60 \t 2 \t 2 \t 0.7947122861586314\n",
      "60 \t 2 \t 3 \t 0.7838258164852255\n",
      "60 \t 2 \t 4 \t 0.7807153965785381\n",
      "60 \t 2 \t sqrt \t 0.7947122861586314\n",
      "60 \t 2 \t log2 \t 0.7947122861586314\n",
      "60 \t 3 \t 1 \t 0.7962674961119751\n",
      "60 \t 3 \t 2 \t 0.7962674961119751\n",
      "60 \t 3 \t 3 \t 0.7947122861586314\n",
      "60 \t 3 \t 4 \t 0.7916018662519441\n",
      "60 \t 3 \t sqrt \t 0.7962674961119751\n",
      "60 \t 3 \t log2 \t 0.7962674961119751\n",
      "60 \t 4 \t 1 \t 0.7962674961119751\n",
      "60 \t 4 \t 2 \t 0.7993779160186625\n",
      "60 \t 4 \t 3 \t 0.7978227060653188\n",
      "60 \t 4 \t 4 \t 0.7962674961119751\n",
      "60 \t 4 \t sqrt \t 0.7993779160186625\n",
      "60 \t 4 \t log2 \t 0.7993779160186625\n",
      "60 \t 5 \t 1 \t 0.8009331259720062\n",
      "60 \t 5 \t 2 \t 0.7993779160186625\n",
      "60 \t 5 \t 3 \t 0.80248833592535\n",
      "60 \t 5 \t 4 \t 0.8133748055987559\n",
      "60 \t 5 \t sqrt \t 0.7993779160186625\n",
      "60 \t 5 \t log2 \t 0.7993779160186625\n",
      "\n",
      "70 \t 1 \t 1 \t 0.7309486780715396\n",
      "70 \t 1 \t 2 \t 0.7542768273716952\n",
      "70 \t 1 \t 3 \t 0.7480559875583204\n",
      "70 \t 1 \t 4 \t 0.7387247278382582\n",
      "70 \t 1 \t sqrt \t 0.7542768273716952\n",
      "70 \t 1 \t log2 \t 0.7542768273716952\n",
      "70 \t 2 \t 1 \t 0.7682737169517885\n",
      "70 \t 2 \t 2 \t 0.7884914463452566\n",
      "70 \t 2 \t 3 \t 0.7869362363919129\n",
      "70 \t 2 \t 4 \t 0.7807153965785381\n",
      "70 \t 2 \t sqrt \t 0.7884914463452566\n",
      "70 \t 2 \t log2 \t 0.7884914463452566\n",
      "70 \t 3 \t 1 \t 0.7962674961119751\n",
      "70 \t 3 \t 2 \t 0.7978227060653188\n",
      "70 \t 3 \t 3 \t 0.7947122861586314\n",
      "70 \t 3 \t 4 \t 0.7900466562986003\n",
      "70 \t 3 \t sqrt \t 0.7978227060653188\n",
      "70 \t 3 \t log2 \t 0.7978227060653188\n",
      "70 \t 4 \t 1 \t 0.7993779160186625\n",
      "70 \t 4 \t 2 \t 0.8009331259720062\n",
      "70 \t 4 \t 3 \t 0.7978227060653188\n",
      "70 \t 4 \t 4 \t 0.80248833592535\n",
      "70 \t 4 \t sqrt \t 0.8009331259720062\n",
      "70 \t 4 \t log2 \t 0.8009331259720062\n",
      "70 \t 5 \t 1 \t 0.8009331259720062\n",
      "70 \t 5 \t 2 \t 0.8009331259720062\n",
      "70 \t 5 \t 3 \t 0.7978227060653188\n",
      "70 \t 5 \t 4 \t 0.8040435458786936\n",
      "70 \t 5 \t sqrt \t 0.8009331259720062\n",
      "70 \t 5 \t log2 \t 0.8009331259720062\n",
      "\n",
      "80 \t 1 \t 1 \t 0.7340590979782271\n",
      "80 \t 1 \t 2 \t 0.7325038880248833\n",
      "80 \t 1 \t 3 \t 0.7465007776049767\n",
      "80 \t 1 \t 4 \t 0.7387247278382582\n",
      "80 \t 1 \t sqrt \t 0.7325038880248833\n",
      "80 \t 1 \t log2 \t 0.7325038880248833\n",
      "80 \t 2 \t 1 \t 0.7651632970451011\n",
      "80 \t 2 \t 2 \t 0.7869362363919129\n",
      "80 \t 2 \t 3 \t 0.7822706065318819\n",
      "80 \t 2 \t 4 \t 0.7807153965785381\n",
      "80 \t 2 \t sqrt \t 0.7869362363919129\n",
      "80 \t 2 \t log2 \t 0.7869362363919129\n",
      "80 \t 3 \t 1 \t 0.7931570762052877\n",
      "80 \t 3 \t 2 \t 0.7947122861586314\n",
      "80 \t 3 \t 3 \t 0.7931570762052877\n",
      "80 \t 3 \t 4 \t 0.7884914463452566\n",
      "80 \t 3 \t sqrt \t 0.7947122861586314\n",
      "80 \t 3 \t log2 \t 0.7947122861586314\n",
      "80 \t 4 \t 1 \t 0.7947122861586314\n",
      "80 \t 4 \t 2 \t 0.7978227060653188\n",
      "80 \t 4 \t 3 \t 0.7962674961119751\n",
      "80 \t 4 \t 4 \t 0.8040435458786936\n",
      "80 \t 4 \t sqrt \t 0.7978227060653188\n",
      "80 \t 4 \t log2 \t 0.7978227060653188\n",
      "80 \t 5 \t 1 \t 0.80248833592535\n",
      "80 \t 5 \t 2 \t 0.8009331259720062\n",
      "80 \t 5 \t 3 \t 0.8040435458786936\n",
      "80 \t 5 \t 4 \t 0.8040435458786936\n",
      "80 \t 5 \t sqrt \t 0.8009331259720062\n",
      "80 \t 5 \t log2 \t 0.8009331259720062\n",
      "\n",
      "90 \t 1 \t 1 \t 0.7325038880248833\n",
      "90 \t 1 \t 2 \t 0.7325038880248833\n",
      "90 \t 1 \t 3 \t 0.744945567651633\n",
      "90 \t 1 \t 4 \t 0.7387247278382582\n",
      "90 \t 1 \t sqrt \t 0.7325038880248833\n",
      "90 \t 1 \t log2 \t 0.7325038880248833\n",
      "90 \t 2 \t 1 \t 0.7651632970451011\n",
      "90 \t 2 \t 2 \t 0.7853810264385692\n",
      "90 \t 2 \t 3 \t 0.7822706065318819\n",
      "90 \t 2 \t 4 \t 0.7807153965785381\n",
      "90 \t 2 \t sqrt \t 0.7853810264385692\n",
      "90 \t 2 \t log2 \t 0.7853810264385692\n",
      "90 \t 3 \t 1 \t 0.7978227060653188\n",
      "90 \t 3 \t 2 \t 0.7962674961119751\n",
      "90 \t 3 \t 3 \t 0.7916018662519441\n",
      "90 \t 3 \t 4 \t 0.7900466562986003\n",
      "90 \t 3 \t sqrt \t 0.7962674961119751\n",
      "90 \t 3 \t log2 \t 0.7962674961119751\n",
      "90 \t 4 \t 1 \t 0.7947122861586314\n",
      "90 \t 4 \t 2 \t 0.7931570762052877\n",
      "90 \t 4 \t 3 \t 0.7962674961119751\n",
      "90 \t 4 \t 4 \t 0.8009331259720062\n",
      "90 \t 4 \t sqrt \t 0.7931570762052877\n",
      "90 \t 4 \t log2 \t 0.7931570762052877\n",
      "90 \t 5 \t 1 \t 0.8040435458786936\n",
      "90 \t 5 \t 2 \t 0.8009331259720062\n",
      "90 \t 5 \t 3 \t 0.8040435458786936\n",
      "90 \t 5 \t 4 \t 0.8040435458786936\n",
      "90 \t 5 \t sqrt \t 0.8009331259720062\n",
      "90 \t 5 \t log2 \t 0.8009331259720062\n",
      "\n",
      "100 \t 1 \t 1 \t 0.7356143079315708\n",
      "100 \t 1 \t 2 \t 0.7325038880248833\n",
      "100 \t 1 \t 3 \t 0.7465007776049767\n",
      "100 \t 1 \t 4 \t 0.7387247278382582\n",
      "100 \t 1 \t sqrt \t 0.7325038880248833\n",
      "100 \t 1 \t log2 \t 0.7325038880248833\n",
      "100 \t 2 \t 1 \t 0.7729393468118196\n",
      "100 \t 2 \t 2 \t 0.7869362363919129\n",
      "100 \t 2 \t 3 \t 0.7838258164852255\n",
      "100 \t 2 \t 4 \t 0.7807153965785381\n",
      "100 \t 2 \t sqrt \t 0.7869362363919129\n",
      "100 \t 2 \t log2 \t 0.7869362363919129\n",
      "100 \t 3 \t 1 \t 0.7962674961119751\n",
      "100 \t 3 \t 2 \t 0.7962674961119751\n",
      "100 \t 3 \t 3 \t 0.7947122861586314\n",
      "100 \t 3 \t 4 \t 0.7900466562986003\n",
      "100 \t 3 \t sqrt \t 0.7962674961119751\n",
      "100 \t 3 \t log2 \t 0.7962674961119751\n",
      "100 \t 4 \t 1 \t 0.7962674961119751\n",
      "100 \t 4 \t 2 \t 0.7947122861586314\n",
      "100 \t 4 \t 3 \t 0.7978227060653188\n",
      "100 \t 4 \t 4 \t 0.8009331259720062\n",
      "100 \t 4 \t sqrt \t 0.7947122861586314\n",
      "100 \t 4 \t log2 \t 0.7947122861586314\n",
      "100 \t 5 \t 1 \t 0.8055987558320373\n",
      "100 \t 5 \t 2 \t 0.7993779160186625\n",
      "100 \t 5 \t 3 \t 0.807153965785381\n",
      "100 \t 5 \t 4 \t 0.8087091757387247\n",
      "100 \t 5 \t sqrt \t 0.7993779160186625\n",
      "100 \t 5 \t log2 \t 0.7993779160186625\n",
      "\n",
      "--------------------------------------------------\n",
      "best results:\n",
      "60 \t 5 \t 4 \t 0.8133748055987559\n",
      "best model: RandomForestClassifier(max_depth=5, max_features=4, n_estimators=60,\n",
      "                       random_state=12345)\n"
     ]
    }
   ],
   "source": [
    "# создаем переменные для лучшей на текущий момент модели и ее точности\n",
    "random_forest_best_model = None\n",
    "best_result = 0\n",
    "\n",
    "print('n_estim', 'depth', '\\t', 'max_feat', '\\t', 'accuracy_score')\n",
    "\n",
    "# перебираем разные комбинации в цикле\n",
    "for estimators in range(50, 101, 10):\n",
    "    for depth in range(1, 6):\n",
    "        for test_max_features in [1, 2, 3, 4, 'sqrt', 'log2']:\n",
    "            \n",
    "            model = RandomForestClassifier(\n",
    "                n_estimators=estimators,\n",
    "                max_depth=depth,\n",
    "                max_features=test_max_features,\n",
    "                random_state=12345\n",
    "            )\n",
    "            \n",
    "            # обучаем модель на тренировочных данных\n",
    "            model.fit(features_train, target_train)\n",
    "            \n",
    "            # оцениваем качество модели на валидационной выборке\n",
    "            predictions = model.predict(features_valid)\n",
    "            result = accuracy_score(target_valid, predictions)\n",
    "            print(\n",
    "                estimators,'\\t',  \n",
    "                depth,'\\t', \n",
    "                test_max_features, '\\t',  \n",
    "                result\n",
    "            )   \n",
    "            # сохраняем лучшую на данный момент модель и ее показатели\n",
    "            if result > best_result:\n",
    "                best_result = result\n",
    "                random_forest_best_model = model\n",
    "                best_n_estimarots=estimators\n",
    "                best_depth = depth\n",
    "                best_max_features = test_max_features\n",
    "                \n",
    "    print()\n",
    "print('--------------------------------------------------')\n",
    "print('best results:')\n",
    "print(best_n_estimarots,'\\t', best_depth,'\\t', best_max_features, '\\t', best_result)\n",
    "\n",
    "\n",
    "print(f'best model: {random_forest_best_model}')\n",
    "\n",
    "# если доля правильных ответов превысит 0,75, сохраним нашу модель в списке лучших \n",
    "if best_result >= 0.75:\n",
    "    best_models.append([random_forest_best_model, best_result])"
   ]
  },
  {
   "cell_type": "markdown",
   "metadata": {},
   "source": [
    "Точность случайного леса превысила порог с 0.75. \n",
    "\n",
    "Значения  гиперпараметров: \t\n",
    "- количество деревьев в лесу - 60\n",
    "- максимальная глубина деревьев - 5\n",
    "- количество характеристик, которые учитываются при поиске лучшего разбиения - 4\n"
   ]
  },
  {
   "cell_type": "markdown",
   "metadata": {},
   "source": [
    "### Логистическая регрессия"
   ]
  },
  {
   "cell_type": "markdown",
   "metadata": {},
   "source": [
    "Для классификации методом логистической регрессии попробуем различные комбинации следующих параметров: \n",
    "- несколько вариантов алгоритмов для решения задачи оптимизации\n",
    "- несколько вариантов максимального числа итераций для алгоритма\n"
   ]
  },
  {
   "cell_type": "code",
   "execution_count": 18,
   "metadata": {},
   "outputs": [
    {
     "name": "stdout",
     "output_type": "stream",
     "text": [
      "solver \t max_iter \t accuracy_score\n",
      "lbfgs \t 500 \t 0.7387247278382582\n",
      "lbfgs \t 600 \t 0.7387247278382582\n",
      "lbfgs \t 700 \t 0.7387247278382582\n",
      "lbfgs \t 800 \t 0.7387247278382582\n",
      "lbfgs \t 900 \t 0.7387247278382582\n",
      "lbfgs \t 1000 \t 0.7387247278382582\n",
      "\n",
      "liblinear \t 500 \t 0.71850699844479\n",
      "liblinear \t 600 \t 0.71850699844479\n",
      "liblinear \t 700 \t 0.71850699844479\n",
      "liblinear \t 800 \t 0.71850699844479\n",
      "liblinear \t 900 \t 0.71850699844479\n",
      "liblinear \t 1000 \t 0.71850699844479\n",
      "\n",
      "newton-cg \t 500 \t 0.7387247278382582\n",
      "newton-cg \t 600 \t 0.7387247278382582\n",
      "newton-cg \t 700 \t 0.7387247278382582\n",
      "newton-cg \t 800 \t 0.7387247278382582\n",
      "newton-cg \t 900 \t 0.7387247278382582\n",
      "newton-cg \t 1000 \t 0.7387247278382582\n",
      "\n",
      "--------------------------------------------------\n",
      "best results:\n",
      "lbfgs \t 500 \t 0.7387247278382582\n",
      "best model: LogisticRegression(max_iter=500, random_state=12345)\n"
     ]
    }
   ],
   "source": [
    "# создаем переменные для лучшей на текущий момент модели и ее точности\n",
    "logistic_regression_best_model = None\n",
    "best_result = 0\n",
    "\n",
    "print('solver','\\t','max_iter','\\t', 'accuracy_score')\n",
    "\n",
    "# перебираем разные комбинации в цикле\n",
    "for test_solver in ['lbfgs', 'liblinear', 'newton-cg']:\n",
    "    for test_max_iter in range(500, 1001, 100):\n",
    "        model = LogisticRegression(\n",
    "            solver=test_solver,\n",
    "            max_iter=test_max_iter,\n",
    "            random_state=12345\n",
    "        )\n",
    "        \n",
    "        # обучаем модель на тренировочных данных\n",
    "        model.fit(features_train, target_train)\n",
    "        \n",
    "        # оцениваем качество модели на валидационной выборке\n",
    "        predictions = model.predict(features_valid)\n",
    "        result = accuracy_score(target_valid, predictions)\n",
    "        print(\n",
    "            test_solver,'\\t', \n",
    "            test_max_iter, '\\t', \n",
    "            result\n",
    "            )\n",
    "        \n",
    "        # сохраняем лучшую на данный момент модель и ее показатели\n",
    "        if result > best_result:\n",
    "            best_result = result\n",
    "            logistic_regression_best_model = model\n",
    "            best_solvers = test_solver\n",
    "            best_max_iter = test_max_iter\n",
    "                        \n",
    "    print()\n",
    "print('--------------------------------------------------')\n",
    "print('best results:')\n",
    "print(best_solvers,'\\t', best_max_iter, '\\t', best_result)\n",
    "\n",
    "\n",
    "print(f'best model: {logistic_regression_best_model}')\n",
    "\n",
    "# если доля правильных ответов превысит 0,75, сохраним нашу модель в списке лучших \n",
    "if best_result >= 0.75:\n",
    "    best_models.append([logistic_regression_best_model, best_result])"
   ]
  },
  {
   "cell_type": "markdown",
   "metadata": {},
   "source": [
    "Максимальная достигнутая точность модели логистической регрессии не превысила заданного порога в 0,75."
   ]
  },
  {
   "cell_type": "markdown",
   "metadata": {},
   "source": [
    "### Дерево решений для регрессии"
   ]
  },
  {
   "cell_type": "markdown",
   "metadata": {},
   "source": [
    "Предсказания дерева решений для регрессии в задаче классификации можно трактовать как вероятность попадания в тот или иной класс. Применим к предсказаниям операцию округления и так получим разделение на классы. \n",
    "\n",
    "Попробуем различные комбинации следующих параметров: \n",
    "- функция, измеряющая качество разбиения\n",
    "- максимальная глубина деревьев, \n",
    "- количество характеристик, которые учитываются при поиске лучшего разбиения\n"
   ]
  },
  {
   "cell_type": "code",
   "execution_count": 19,
   "metadata": {},
   "outputs": [
    {
     "name": "stdout",
     "output_type": "stream",
     "text": [
      "criterion    max_depth max_features \t accuracy_score\n",
      "friedman_mse \t 1 \t 1 \t 0.7527216174183515\n",
      "friedman_mse \t 1 \t 2 \t 0.7527216174183515\n",
      "friedman_mse \t 1 \t 3 \t 0.7402799377916018\n",
      "friedman_mse \t 1 \t 4 \t 0.7402799377916018\n",
      "friedman_mse \t 1 \t auto \t 0.7402799377916018\n",
      "friedman_mse \t 1 \t sqrt \t 0.7527216174183515\n",
      "friedman_mse \t 1 \t log2 \t 0.7527216174183515\n",
      "\n",
      "friedman_mse \t 2 \t 1 \t 0.7807153965785381\n",
      "friedman_mse \t 2 \t 2 \t 0.7527216174183515\n",
      "friedman_mse \t 2 \t 3 \t 0.7822706065318819\n",
      "friedman_mse \t 2 \t 4 \t 0.7729393468118196\n",
      "friedman_mse \t 2 \t auto \t 0.7729393468118196\n",
      "friedman_mse \t 2 \t sqrt \t 0.7527216174183515\n",
      "friedman_mse \t 2 \t log2 \t 0.7527216174183515\n",
      "\n",
      "friedman_mse \t 3 \t 1 \t 0.7807153965785381\n",
      "friedman_mse \t 3 \t 2 \t 0.7744945567651633\n",
      "friedman_mse \t 3 \t 3 \t 0.7869362363919129\n",
      "friedman_mse \t 3 \t 4 \t 0.7776049766718507\n",
      "friedman_mse \t 3 \t auto \t 0.7776049766718507\n",
      "friedman_mse \t 3 \t sqrt \t 0.7744945567651633\n",
      "friedman_mse \t 3 \t log2 \t 0.7744945567651633\n",
      "\n",
      "friedman_mse \t 4 \t 1 \t 0.7807153965785381\n",
      "friedman_mse \t 4 \t 2 \t 0.776049766718507\n",
      "friedman_mse \t 4 \t 3 \t 0.7667185069984448\n",
      "friedman_mse \t 4 \t 4 \t 0.7542768273716952\n",
      "friedman_mse \t 4 \t auto \t 0.7542768273716952\n",
      "friedman_mse \t 4 \t sqrt \t 0.776049766718507\n",
      "friedman_mse \t 4 \t log2 \t 0.776049766718507\n",
      "\n",
      "friedman_mse \t 5 \t 1 \t 0.7884914463452566\n",
      "friedman_mse \t 5 \t 2 \t 0.7822706065318819\n",
      "friedman_mse \t 5 \t 3 \t 0.7931570762052877\n",
      "friedman_mse \t 5 \t 4 \t 0.7853810264385692\n",
      "friedman_mse \t 5 \t auto \t 0.7853810264385692\n",
      "friedman_mse \t 5 \t sqrt \t 0.7822706065318819\n",
      "friedman_mse \t 5 \t log2 \t 0.7822706065318819\n",
      "\n",
      "poisson \t 1 \t 1 \t 0.7013996889580093\n",
      "poisson \t 1 \t 2 \t 0.7013996889580093\n",
      "poisson \t 1 \t 3 \t 0.7013996889580093\n",
      "poisson \t 1 \t 4 \t 0.7076205287713841\n",
      "poisson \t 1 \t auto \t 0.7076205287713841\n",
      "poisson \t 1 \t sqrt \t 0.7013996889580093\n",
      "poisson \t 1 \t log2 \t 0.7013996889580093\n",
      "\n",
      "poisson \t 2 \t 1 \t 0.713841368584759\n",
      "poisson \t 2 \t 2 \t 0.7060653188180405\n",
      "poisson \t 2 \t 3 \t 0.7169517884914464\n",
      "poisson \t 2 \t 4 \t 0.7216174183514774\n",
      "poisson \t 2 \t auto \t 0.7216174183514774\n",
      "poisson \t 2 \t sqrt \t 0.7060653188180405\n",
      "poisson \t 2 \t log2 \t 0.7060653188180405\n",
      "\n",
      "poisson \t 3 \t 1 \t 0.7122861586314152\n",
      "poisson \t 3 \t 2 \t 0.7200622083981337\n",
      "poisson \t 3 \t 3 \t 0.7293934681181959\n",
      "poisson \t 3 \t 4 \t 0.7340590979782271\n",
      "poisson \t 3 \t auto \t 0.7340590979782271\n",
      "poisson \t 3 \t sqrt \t 0.7200622083981337\n",
      "poisson \t 3 \t log2 \t 0.7200622083981337\n",
      "\n",
      "poisson \t 4 \t 1 \t 0.7262830482115086\n",
      "poisson \t 4 \t 2 \t 0.7325038880248833\n",
      "poisson \t 4 \t 3 \t 0.7278382581648523\n",
      "poisson \t 4 \t 4 \t 0.7325038880248833\n",
      "poisson \t 4 \t auto \t 0.7325038880248833\n",
      "poisson \t 4 \t sqrt \t 0.7325038880248833\n",
      "poisson \t 4 \t log2 \t 0.7325038880248833\n",
      "\n",
      "poisson \t 5 \t 1 \t 0.7418351477449455\n",
      "poisson \t 5 \t 2 \t 0.7371695178849145\n",
      "poisson \t 5 \t 3 \t 0.7309486780715396\n",
      "poisson \t 5 \t 4 \t 0.7356143079315708\n",
      "poisson \t 5 \t auto \t 0.7356143079315708\n",
      "poisson \t 5 \t sqrt \t 0.7371695178849145\n",
      "poisson \t 5 \t log2 \t 0.7371695178849145\n",
      "\n",
      "--------------------------------------------------\n",
      "best results:\n",
      "friedman_mse \t 5 \t 3 \t 0.7931570762052877\n",
      "best model: DecisionTreeRegressor(criterion='friedman_mse', max_depth=5, max_features=3,\n",
      "                      random_state=12345)\n"
     ]
    }
   ],
   "source": [
    "# создаем переменные для лучшей на текущий момент модели и ее точности\n",
    "decision_tree_regressor_best_model = None\n",
    "best_result = 0\n",
    "\n",
    "print('criterion', '  ', 'max_depth', 'max_features', '\\t', 'accuracy_score')\n",
    "\n",
    "# перебираем разные комбинации в цикле\n",
    "for test_criterion in [ 'friedman_mse', 'poisson']:\n",
    "    for depth in range(1, 6):\n",
    "        for test_max_features in [1, 2, 3, 4, 'auto', 'sqrt', 'log2']:\n",
    "            model = DecisionTreeRegressor(\n",
    "                criterion=test_criterion,\n",
    "                max_depth=depth,\n",
    "                max_features=test_max_features,\n",
    "                random_state=12345\n",
    "            )\n",
    "            \n",
    "            # обучаем модель на тренировочных данных\n",
    "            model.fit(features_train, target_train)\n",
    "            \n",
    "            # оцениваем качество модели на валидационной выборке\n",
    "            predictions = model.predict(features_valid).round()\n",
    "            result = accuracy_score(target_valid, predictions)\n",
    "            print(\n",
    "                test_criterion,'\\t', \n",
    "                depth, '\\t', \n",
    "                test_max_features, '\\t', \n",
    "                result\n",
    "                )\n",
    "            # сохраняем лучшую на данный момент модель и ее показатели\n",
    "            if result > best_result:\n",
    "                best_result = result\n",
    "                decision_tree_regressor_best_model = model\n",
    "                best_criterion = test_criterion\n",
    "                best_max_depth = depth\n",
    "                best_max_features = test_max_features\n",
    "                        \n",
    "        print()\n",
    "print('--------------------------------------------------')\n",
    "print('best results:')\n",
    "print(best_criterion,'\\t', best_max_depth, '\\t', best_max_features, '\\t', best_result)\n",
    "\n",
    "\n",
    "print(f'best model: {decision_tree_regressor_best_model}')\n",
    "\n",
    "# если доля правильных ответов превысит 0,75, сохраним нашу модель в списке лучших \n",
    "if best_result >= 0.75:\n",
    "    best_models.append([decision_tree_regressor_best_model, best_result])"
   ]
  },
  {
   "cell_type": "markdown",
   "metadata": {},
   "source": [
    "Точность дерева решений для регрессии превысила порог с 0.75.\n",
    "\n",
    "Значения  гиперпараметров: \t\n",
    "- функция, измеряющая качество разбиения - friedman_mse\n",
    "- максимальная глубина деревьев - 5\n",
    "- количество характеристик, которые учитываются при поиске лучшего разбиения - 3\n"
   ]
  },
  {
   "cell_type": "markdown",
   "metadata": {},
   "source": [
    "### Случайный лес для регресcии"
   ]
  },
  {
   "cell_type": "markdown",
   "metadata": {},
   "source": [
    "Предсказания случайного леса для регрессии в задаче классификации также можно трактовать как вероятность попадания в тот или иной класс. \n",
    "\n",
    "Здесь тоже применим к предсказаниям операцию округления и так получим разделение на классы. \n",
    "\n",
    "Попробуем различные комбинации следующих параметров: \n",
    "- количество деревьев в лесу, \n",
    "- функция, измеряющая качество разбиения, \n",
    "- максимальная глубина деревьев, \n",
    "- количество характеристик, которые учитываются при поиске лучшего разбиения\n"
   ]
  },
  {
   "cell_type": "code",
   "execution_count": 20,
   "metadata": {
    "scrolled": true
   },
   "outputs": [
    {
     "name": "stdout",
     "output_type": "stream",
     "text": [
      "n_estim    criter \t depth \t max_feat   accuracy_score\n",
      "50 \t friedman_mse \t 1 \t 1 \t 0.7340590979782271\n",
      "50 \t friedman_mse \t 1 \t 2 \t 0.7542768273716952\n",
      "50 \t friedman_mse \t 1 \t 3 \t 0.7480559875583204\n",
      "50 \t friedman_mse \t 1 \t 4 \t 0.7387247278382582\n",
      "50 \t friedman_mse \t 1 \t sqrt \t 0.7542768273716952\n",
      "50 \t friedman_mse \t 1 \t log2 \t 0.7542768273716952\n",
      "50 \t friedman_mse \t 2 \t 1 \t 0.7744945567651633\n",
      "50 \t friedman_mse \t 2 \t 2 \t 0.7947122861586314\n",
      "50 \t friedman_mse \t 2 \t 3 \t 0.7838258164852255\n",
      "50 \t friedman_mse \t 2 \t 4 \t 0.7822706065318819\n",
      "50 \t friedman_mse \t 2 \t sqrt \t 0.7947122861586314\n",
      "50 \t friedman_mse \t 2 \t log2 \t 0.7947122861586314\n",
      "50 \t friedman_mse \t 3 \t 1 \t 0.7962674961119751\n",
      "50 \t friedman_mse \t 3 \t 2 \t 0.7947122861586314\n",
      "50 \t friedman_mse \t 3 \t 3 \t 0.7978227060653188\n",
      "50 \t friedman_mse \t 3 \t 4 \t 0.7931570762052877\n",
      "50 \t friedman_mse \t 3 \t sqrt \t 0.7947122861586314\n",
      "50 \t friedman_mse \t 3 \t log2 \t 0.7947122861586314\n",
      "50 \t friedman_mse \t 4 \t 1 \t 0.7993779160186625\n",
      "50 \t friedman_mse \t 4 \t 2 \t 0.7978227060653188\n",
      "50 \t friedman_mse \t 4 \t 3 \t 0.7993779160186625\n",
      "50 \t friedman_mse \t 4 \t 4 \t 0.8009331259720062\n",
      "50 \t friedman_mse \t 4 \t sqrt \t 0.7978227060653188\n",
      "50 \t friedman_mse \t 4 \t log2 \t 0.7978227060653188\n",
      "50 \t friedman_mse \t 5 \t 1 \t 0.8055987558320373\n",
      "50 \t friedman_mse \t 5 \t 2 \t 0.8009331259720062\n",
      "50 \t friedman_mse \t 5 \t 3 \t 0.807153965785381\n",
      "50 \t friedman_mse \t 5 \t 4 \t 0.8055987558320373\n",
      "50 \t friedman_mse \t 5 \t sqrt \t 0.8009331259720062\n",
      "50 \t friedman_mse \t 5 \t log2 \t 0.8009331259720062\n",
      "50 \t poisson \t 1 \t 1 \t 0.7060653188180405\n",
      "50 \t poisson \t 1 \t 2 \t 0.7091757387247278\n",
      "50 \t poisson \t 1 \t 3 \t 0.7091757387247278\n",
      "50 \t poisson \t 1 \t 4 \t 0.7060653188180405\n",
      "50 \t poisson \t 1 \t sqrt \t 0.7091757387247278\n",
      "50 \t poisson \t 1 \t log2 \t 0.7091757387247278\n",
      "50 \t poisson \t 2 \t 1 \t 0.7325038880248833\n",
      "50 \t poisson \t 2 \t 2 \t 0.7169517884914464\n",
      "50 \t poisson \t 2 \t 3 \t 0.7309486780715396\n",
      "50 \t poisson \t 2 \t 4 \t 0.7309486780715396\n",
      "50 \t poisson \t 2 \t sqrt \t 0.7169517884914464\n",
      "50 \t poisson \t 2 \t log2 \t 0.7169517884914464\n",
      "50 \t poisson \t 3 \t 1 \t 0.7387247278382582\n",
      "50 \t poisson \t 3 \t 2 \t 0.7356143079315708\n",
      "50 \t poisson \t 3 \t 3 \t 0.7309486780715396\n",
      "50 \t poisson \t 3 \t 4 \t 0.7325038880248833\n",
      "50 \t poisson \t 3 \t sqrt \t 0.7356143079315708\n",
      "50 \t poisson \t 3 \t log2 \t 0.7356143079315708\n",
      "50 \t poisson \t 4 \t 1 \t 0.7387247278382582\n",
      "50 \t poisson \t 4 \t 2 \t 0.7402799377916018\n",
      "50 \t poisson \t 4 \t 3 \t 0.7356143079315708\n",
      "50 \t poisson \t 4 \t 4 \t 0.7309486780715396\n",
      "50 \t poisson \t 4 \t sqrt \t 0.7402799377916018\n",
      "50 \t poisson \t 4 \t log2 \t 0.7402799377916018\n",
      "50 \t poisson \t 5 \t 1 \t 0.7433903576982893\n",
      "50 \t poisson \t 5 \t 2 \t 0.7387247278382582\n",
      "50 \t poisson \t 5 \t 3 \t 0.7387247278382582\n",
      "50 \t poisson \t 5 \t 4 \t 0.7402799377916018\n",
      "50 \t poisson \t 5 \t sqrt \t 0.7387247278382582\n",
      "50 \t poisson \t 5 \t log2 \t 0.7387247278382582\n",
      "\n",
      "60 \t friedman_mse \t 1 \t 1 \t 0.7293934681181959\n",
      "60 \t friedman_mse \t 1 \t 2 \t 0.7542768273716952\n",
      "60 \t friedman_mse \t 1 \t 3 \t 0.7480559875583204\n",
      "60 \t friedman_mse \t 1 \t 4 \t 0.7387247278382582\n",
      "60 \t friedman_mse \t 1 \t sqrt \t 0.7542768273716952\n",
      "60 \t friedman_mse \t 1 \t log2 \t 0.7542768273716952\n",
      "60 \t friedman_mse \t 2 \t 1 \t 0.7729393468118196\n",
      "60 \t friedman_mse \t 2 \t 2 \t 0.7947122861586314\n",
      "60 \t friedman_mse \t 2 \t 3 \t 0.7838258164852255\n",
      "60 \t friedman_mse \t 2 \t 4 \t 0.7807153965785381\n",
      "60 \t friedman_mse \t 2 \t sqrt \t 0.7947122861586314\n",
      "60 \t friedman_mse \t 2 \t log2 \t 0.7947122861586314\n",
      "60 \t friedman_mse \t 3 \t 1 \t 0.7962674961119751\n",
      "60 \t friedman_mse \t 3 \t 2 \t 0.7962674961119751\n",
      "60 \t friedman_mse \t 3 \t 3 \t 0.7947122861586314\n",
      "60 \t friedman_mse \t 3 \t 4 \t 0.7916018662519441\n",
      "60 \t friedman_mse \t 3 \t sqrt \t 0.7962674961119751\n",
      "60 \t friedman_mse \t 3 \t log2 \t 0.7962674961119751\n",
      "60 \t friedman_mse \t 4 \t 1 \t 0.7962674961119751\n",
      "60 \t friedman_mse \t 4 \t 2 \t 0.7993779160186625\n",
      "60 \t friedman_mse \t 4 \t 3 \t 0.7978227060653188\n",
      "60 \t friedman_mse \t 4 \t 4 \t 0.7962674961119751\n",
      "60 \t friedman_mse \t 4 \t sqrt \t 0.7993779160186625\n",
      "60 \t friedman_mse \t 4 \t log2 \t 0.7993779160186625\n",
      "60 \t friedman_mse \t 5 \t 1 \t 0.8009331259720062\n",
      "60 \t friedman_mse \t 5 \t 2 \t 0.7993779160186625\n",
      "60 \t friedman_mse \t 5 \t 3 \t 0.80248833592535\n",
      "60 \t friedman_mse \t 5 \t 4 \t 0.8133748055987559\n",
      "60 \t friedman_mse \t 5 \t sqrt \t 0.7993779160186625\n",
      "60 \t friedman_mse \t 5 \t log2 \t 0.7993779160186625\n",
      "60 \t poisson \t 1 \t 1 \t 0.7060653188180405\n",
      "60 \t poisson \t 1 \t 2 \t 0.7091757387247278\n",
      "60 \t poisson \t 1 \t 3 \t 0.7091757387247278\n",
      "60 \t poisson \t 1 \t 4 \t 0.7076205287713841\n",
      "60 \t poisson \t 1 \t sqrt \t 0.7091757387247278\n",
      "60 \t poisson \t 1 \t log2 \t 0.7091757387247278\n",
      "60 \t poisson \t 2 \t 1 \t 0.7325038880248833\n",
      "60 \t poisson \t 2 \t 2 \t 0.7169517884914464\n",
      "60 \t poisson \t 2 \t 3 \t 0.7309486780715396\n",
      "60 \t poisson \t 2 \t 4 \t 0.7309486780715396\n",
      "60 \t poisson \t 2 \t sqrt \t 0.7169517884914464\n",
      "60 \t poisson \t 2 \t log2 \t 0.7169517884914464\n",
      "60 \t poisson \t 3 \t 1 \t 0.7387247278382582\n",
      "60 \t poisson \t 3 \t 2 \t 0.7309486780715396\n",
      "60 \t poisson \t 3 \t 3 \t 0.7309486780715396\n",
      "60 \t poisson \t 3 \t 4 \t 0.7340590979782271\n",
      "60 \t poisson \t 3 \t sqrt \t 0.7309486780715396\n",
      "60 \t poisson \t 3 \t log2 \t 0.7309486780715396\n",
      "60 \t poisson \t 4 \t 1 \t 0.7387247278382582\n",
      "60 \t poisson \t 4 \t 2 \t 0.7402799377916018\n",
      "60 \t poisson \t 4 \t 3 \t 0.7309486780715396\n",
      "60 \t poisson \t 4 \t 4 \t 0.7325038880248833\n",
      "60 \t poisson \t 4 \t sqrt \t 0.7402799377916018\n",
      "60 \t poisson \t 4 \t log2 \t 0.7402799377916018\n",
      "60 \t poisson \t 5 \t 1 \t 0.7433903576982893\n",
      "60 \t poisson \t 5 \t 2 \t 0.7387247278382582\n",
      "60 \t poisson \t 5 \t 3 \t 0.7387247278382582\n",
      "60 \t poisson \t 5 \t 4 \t 0.7402799377916018\n",
      "60 \t poisson \t 5 \t sqrt \t 0.7387247278382582\n",
      "60 \t poisson \t 5 \t log2 \t 0.7387247278382582\n",
      "\n",
      "70 \t friedman_mse \t 1 \t 1 \t 0.7309486780715396\n",
      "70 \t friedman_mse \t 1 \t 2 \t 0.7542768273716952\n",
      "70 \t friedman_mse \t 1 \t 3 \t 0.7480559875583204\n",
      "70 \t friedman_mse \t 1 \t 4 \t 0.7387247278382582\n",
      "70 \t friedman_mse \t 1 \t sqrt \t 0.7542768273716952\n",
      "70 \t friedman_mse \t 1 \t log2 \t 0.7542768273716952\n",
      "70 \t friedman_mse \t 2 \t 1 \t 0.7682737169517885\n",
      "70 \t friedman_mse \t 2 \t 2 \t 0.7884914463452566\n",
      "70 \t friedman_mse \t 2 \t 3 \t 0.7869362363919129\n",
      "70 \t friedman_mse \t 2 \t 4 \t 0.7807153965785381\n",
      "70 \t friedman_mse \t 2 \t sqrt \t 0.7884914463452566\n",
      "70 \t friedman_mse \t 2 \t log2 \t 0.7884914463452566\n",
      "70 \t friedman_mse \t 3 \t 1 \t 0.7962674961119751\n",
      "70 \t friedman_mse \t 3 \t 2 \t 0.7978227060653188\n",
      "70 \t friedman_mse \t 3 \t 3 \t 0.7947122861586314\n",
      "70 \t friedman_mse \t 3 \t 4 \t 0.7900466562986003\n",
      "70 \t friedman_mse \t 3 \t sqrt \t 0.7978227060653188\n",
      "70 \t friedman_mse \t 3 \t log2 \t 0.7978227060653188\n",
      "70 \t friedman_mse \t 4 \t 1 \t 0.7993779160186625\n",
      "70 \t friedman_mse \t 4 \t 2 \t 0.8009331259720062\n",
      "70 \t friedman_mse \t 4 \t 3 \t 0.7978227060653188\n",
      "70 \t friedman_mse \t 4 \t 4 \t 0.80248833592535\n",
      "70 \t friedman_mse \t 4 \t sqrt \t 0.8009331259720062\n",
      "70 \t friedman_mse \t 4 \t log2 \t 0.8009331259720062\n",
      "70 \t friedman_mse \t 5 \t 1 \t 0.8009331259720062\n",
      "70 \t friedman_mse \t 5 \t 2 \t 0.8009331259720062\n",
      "70 \t friedman_mse \t 5 \t 3 \t 0.7978227060653188\n",
      "70 \t friedman_mse \t 5 \t 4 \t 0.8040435458786936\n",
      "70 \t friedman_mse \t 5 \t sqrt \t 0.8009331259720062\n",
      "70 \t friedman_mse \t 5 \t log2 \t 0.8009331259720062\n",
      "70 \t poisson \t 1 \t 1 \t 0.7060653188180405\n",
      "70 \t poisson \t 1 \t 2 \t 0.7091757387247278\n",
      "70 \t poisson \t 1 \t 3 \t 0.7091757387247278\n",
      "70 \t poisson \t 1 \t 4 \t 0.7060653188180405\n",
      "70 \t poisson \t 1 \t sqrt \t 0.7091757387247278\n",
      "70 \t poisson \t 1 \t log2 \t 0.7091757387247278\n",
      "70 \t poisson \t 2 \t 1 \t 0.7325038880248833\n",
      "70 \t poisson \t 2 \t 2 \t 0.7293934681181959\n",
      "70 \t poisson \t 2 \t 3 \t 0.7325038880248833\n",
      "70 \t poisson \t 2 \t 4 \t 0.7309486780715396\n",
      "70 \t poisson \t 2 \t sqrt \t 0.7293934681181959\n",
      "70 \t poisson \t 2 \t log2 \t 0.7293934681181959\n",
      "70 \t poisson \t 3 \t 1 \t 0.7387247278382582\n",
      "70 \t poisson \t 3 \t 2 \t 0.7309486780715396\n",
      "70 \t poisson \t 3 \t 3 \t 0.7325038880248833\n",
      "70 \t poisson \t 3 \t 4 \t 0.7340590979782271\n",
      "70 \t poisson \t 3 \t sqrt \t 0.7309486780715396\n",
      "70 \t poisson \t 3 \t log2 \t 0.7309486780715396\n",
      "70 \t poisson \t 4 \t 1 \t 0.7387247278382582\n",
      "70 \t poisson \t 4 \t 2 \t 0.7402799377916018\n",
      "70 \t poisson \t 4 \t 3 \t 0.7325038880248833\n",
      "70 \t poisson \t 4 \t 4 \t 0.7325038880248833\n",
      "70 \t poisson \t 4 \t sqrt \t 0.7402799377916018\n",
      "70 \t poisson \t 4 \t log2 \t 0.7402799377916018\n",
      "70 \t poisson \t 5 \t 1 \t 0.7418351477449455\n",
      "70 \t poisson \t 5 \t 2 \t 0.7387247278382582\n",
      "70 \t poisson \t 5 \t 3 \t 0.7387247278382582\n",
      "70 \t poisson \t 5 \t 4 \t 0.7402799377916018\n",
      "70 \t poisson \t 5 \t sqrt \t 0.7387247278382582\n",
      "70 \t poisson \t 5 \t log2 \t 0.7387247278382582\n",
      "\n",
      "80 \t friedman_mse \t 1 \t 1 \t 0.7340590979782271\n",
      "80 \t friedman_mse \t 1 \t 2 \t 0.7325038880248833\n",
      "80 \t friedman_mse \t 1 \t 3 \t 0.7465007776049767\n",
      "80 \t friedman_mse \t 1 \t 4 \t 0.7387247278382582\n",
      "80 \t friedman_mse \t 1 \t sqrt \t 0.7325038880248833\n",
      "80 \t friedman_mse \t 1 \t log2 \t 0.7325038880248833\n",
      "80 \t friedman_mse \t 2 \t 1 \t 0.7651632970451011\n",
      "80 \t friedman_mse \t 2 \t 2 \t 0.7869362363919129\n",
      "80 \t friedman_mse \t 2 \t 3 \t 0.7822706065318819\n",
      "80 \t friedman_mse \t 2 \t 4 \t 0.7807153965785381\n",
      "80 \t friedman_mse \t 2 \t sqrt \t 0.7869362363919129\n",
      "80 \t friedman_mse \t 2 \t log2 \t 0.7869362363919129\n",
      "80 \t friedman_mse \t 3 \t 1 \t 0.7931570762052877\n",
      "80 \t friedman_mse \t 3 \t 2 \t 0.7947122861586314\n",
      "80 \t friedman_mse \t 3 \t 3 \t 0.7931570762052877\n",
      "80 \t friedman_mse \t 3 \t 4 \t 0.7884914463452566\n",
      "80 \t friedman_mse \t 3 \t sqrt \t 0.7947122861586314\n",
      "80 \t friedman_mse \t 3 \t log2 \t 0.7947122861586314\n",
      "80 \t friedman_mse \t 4 \t 1 \t 0.7947122861586314\n",
      "80 \t friedman_mse \t 4 \t 2 \t 0.7978227060653188\n",
      "80 \t friedman_mse \t 4 \t 3 \t 0.7962674961119751\n",
      "80 \t friedman_mse \t 4 \t 4 \t 0.8040435458786936\n",
      "80 \t friedman_mse \t 4 \t sqrt \t 0.7978227060653188\n",
      "80 \t friedman_mse \t 4 \t log2 \t 0.7978227060653188\n",
      "80 \t friedman_mse \t 5 \t 1 \t 0.80248833592535\n",
      "80 \t friedman_mse \t 5 \t 2 \t 0.8009331259720062\n",
      "80 \t friedman_mse \t 5 \t 3 \t 0.8040435458786936\n",
      "80 \t friedman_mse \t 5 \t 4 \t 0.8040435458786936\n",
      "80 \t friedman_mse \t 5 \t sqrt \t 0.8009331259720062\n",
      "80 \t friedman_mse \t 5 \t log2 \t 0.8009331259720062\n",
      "80 \t poisson \t 1 \t 1 \t 0.7076205287713841\n",
      "80 \t poisson \t 1 \t 2 \t 0.7091757387247278\n",
      "80 \t poisson \t 1 \t 3 \t 0.7091757387247278\n",
      "80 \t poisson \t 1 \t 4 \t 0.7076205287713841\n",
      "80 \t poisson \t 1 \t sqrt \t 0.7091757387247278\n",
      "80 \t poisson \t 1 \t log2 \t 0.7091757387247278\n",
      "80 \t poisson \t 2 \t 1 \t 0.7325038880248833\n",
      "80 \t poisson \t 2 \t 2 \t 0.7325038880248833\n",
      "80 \t poisson \t 2 \t 3 \t 0.7325038880248833\n",
      "80 \t poisson \t 2 \t 4 \t 0.7340590979782271\n",
      "80 \t poisson \t 2 \t sqrt \t 0.7325038880248833\n",
      "80 \t poisson \t 2 \t log2 \t 0.7325038880248833\n",
      "80 \t poisson \t 3 \t 1 \t 0.7371695178849145\n",
      "80 \t poisson \t 3 \t 2 \t 0.7309486780715396\n",
      "80 \t poisson \t 3 \t 3 \t 0.7340590979782271\n",
      "80 \t poisson \t 3 \t 4 \t 0.7371695178849145\n",
      "80 \t poisson \t 3 \t sqrt \t 0.7309486780715396\n",
      "80 \t poisson \t 3 \t log2 \t 0.7309486780715396\n",
      "80 \t poisson \t 4 \t 1 \t 0.7387247278382582\n",
      "80 \t poisson \t 4 \t 2 \t 0.7356143079315708\n",
      "80 \t poisson \t 4 \t 3 \t 0.7325038880248833\n",
      "80 \t poisson \t 4 \t 4 \t 0.7356143079315708\n",
      "80 \t poisson \t 4 \t sqrt \t 0.7356143079315708\n",
      "80 \t poisson \t 4 \t log2 \t 0.7356143079315708\n",
      "80 \t poisson \t 5 \t 1 \t 0.7433903576982893\n",
      "80 \t poisson \t 5 \t 2 \t 0.7402799377916018\n",
      "80 \t poisson \t 5 \t 3 \t 0.7387247278382582\n",
      "80 \t poisson \t 5 \t 4 \t 0.7402799377916018\n",
      "80 \t poisson \t 5 \t sqrt \t 0.7402799377916018\n",
      "80 \t poisson \t 5 \t log2 \t 0.7402799377916018\n",
      "\n",
      "90 \t friedman_mse \t 1 \t 1 \t 0.7325038880248833\n",
      "90 \t friedman_mse \t 1 \t 2 \t 0.7325038880248833\n",
      "90 \t friedman_mse \t 1 \t 3 \t 0.744945567651633\n",
      "90 \t friedman_mse \t 1 \t 4 \t 0.7387247278382582\n",
      "90 \t friedman_mse \t 1 \t sqrt \t 0.7325038880248833\n",
      "90 \t friedman_mse \t 1 \t log2 \t 0.7325038880248833\n",
      "90 \t friedman_mse \t 2 \t 1 \t 0.7651632970451011\n",
      "90 \t friedman_mse \t 2 \t 2 \t 0.7853810264385692\n",
      "90 \t friedman_mse \t 2 \t 3 \t 0.7822706065318819\n",
      "90 \t friedman_mse \t 2 \t 4 \t 0.7807153965785381\n",
      "90 \t friedman_mse \t 2 \t sqrt \t 0.7853810264385692\n",
      "90 \t friedman_mse \t 2 \t log2 \t 0.7853810264385692\n",
      "90 \t friedman_mse \t 3 \t 1 \t 0.7978227060653188\n",
      "90 \t friedman_mse \t 3 \t 2 \t 0.7962674961119751\n",
      "90 \t friedman_mse \t 3 \t 3 \t 0.7916018662519441\n",
      "90 \t friedman_mse \t 3 \t 4 \t 0.7900466562986003\n",
      "90 \t friedman_mse \t 3 \t sqrt \t 0.7962674961119751\n",
      "90 \t friedman_mse \t 3 \t log2 \t 0.7962674961119751\n",
      "90 \t friedman_mse \t 4 \t 1 \t 0.7947122861586314\n",
      "90 \t friedman_mse \t 4 \t 2 \t 0.7931570762052877\n",
      "90 \t friedman_mse \t 4 \t 3 \t 0.7962674961119751\n",
      "90 \t friedman_mse \t 4 \t 4 \t 0.8009331259720062\n",
      "90 \t friedman_mse \t 4 \t sqrt \t 0.7931570762052877\n",
      "90 \t friedman_mse \t 4 \t log2 \t 0.7931570762052877\n",
      "90 \t friedman_mse \t 5 \t 1 \t 0.8040435458786936\n",
      "90 \t friedman_mse \t 5 \t 2 \t 0.8009331259720062\n",
      "90 \t friedman_mse \t 5 \t 3 \t 0.8040435458786936\n",
      "90 \t friedman_mse \t 5 \t 4 \t 0.8040435458786936\n",
      "90 \t friedman_mse \t 5 \t sqrt \t 0.8009331259720062\n",
      "90 \t friedman_mse \t 5 \t log2 \t 0.8009331259720062\n",
      "90 \t poisson \t 1 \t 1 \t 0.7076205287713841\n",
      "90 \t poisson \t 1 \t 2 \t 0.7091757387247278\n",
      "90 \t poisson \t 1 \t 3 \t 0.7091757387247278\n",
      "90 \t poisson \t 1 \t 4 \t 0.7076205287713841\n",
      "90 \t poisson \t 1 \t sqrt \t 0.7091757387247278\n",
      "90 \t poisson \t 1 \t log2 \t 0.7091757387247278\n",
      "90 \t poisson \t 2 \t 1 \t 0.7325038880248833\n",
      "90 \t poisson \t 2 \t 2 \t 0.7325038880248833\n",
      "90 \t poisson \t 2 \t 3 \t 0.7325038880248833\n",
      "90 \t poisson \t 2 \t 4 \t 0.7325038880248833\n",
      "90 \t poisson \t 2 \t sqrt \t 0.7325038880248833\n",
      "90 \t poisson \t 2 \t log2 \t 0.7325038880248833\n",
      "90 \t poisson \t 3 \t 1 \t 0.7356143079315708\n",
      "90 \t poisson \t 3 \t 2 \t 0.7309486780715396\n",
      "90 \t poisson \t 3 \t 3 \t 0.7325038880248833\n",
      "90 \t poisson \t 3 \t 4 \t 0.7371695178849145\n",
      "90 \t poisson \t 3 \t sqrt \t 0.7309486780715396\n",
      "90 \t poisson \t 3 \t log2 \t 0.7309486780715396\n",
      "90 \t poisson \t 4 \t 1 \t 0.7387247278382582\n",
      "90 \t poisson \t 4 \t 2 \t 0.7356143079315708\n",
      "90 \t poisson \t 4 \t 3 \t 0.7325038880248833\n",
      "90 \t poisson \t 4 \t 4 \t 0.7356143079315708\n",
      "90 \t poisson \t 4 \t sqrt \t 0.7356143079315708\n",
      "90 \t poisson \t 4 \t log2 \t 0.7356143079315708\n",
      "90 \t poisson \t 5 \t 1 \t 0.7418351477449455\n",
      "90 \t poisson \t 5 \t 2 \t 0.7402799377916018\n",
      "90 \t poisson \t 5 \t 3 \t 0.7387247278382582\n",
      "90 \t poisson \t 5 \t 4 \t 0.7402799377916018\n",
      "90 \t poisson \t 5 \t sqrt \t 0.7402799377916018\n",
      "90 \t poisson \t 5 \t log2 \t 0.7402799377916018\n",
      "\n",
      "100 \t friedman_mse \t 1 \t 1 \t 0.7356143079315708\n",
      "100 \t friedman_mse \t 1 \t 2 \t 0.7325038880248833\n",
      "100 \t friedman_mse \t 1 \t 3 \t 0.7465007776049767\n",
      "100 \t friedman_mse \t 1 \t 4 \t 0.7387247278382582\n",
      "100 \t friedman_mse \t 1 \t sqrt \t 0.7325038880248833\n",
      "100 \t friedman_mse \t 1 \t log2 \t 0.7325038880248833\n",
      "100 \t friedman_mse \t 2 \t 1 \t 0.7729393468118196\n",
      "100 \t friedman_mse \t 2 \t 2 \t 0.7869362363919129\n",
      "100 \t friedman_mse \t 2 \t 3 \t 0.7838258164852255\n",
      "100 \t friedman_mse \t 2 \t 4 \t 0.7807153965785381\n",
      "100 \t friedman_mse \t 2 \t sqrt \t 0.7869362363919129\n",
      "100 \t friedman_mse \t 2 \t log2 \t 0.7869362363919129\n",
      "100 \t friedman_mse \t 3 \t 1 \t 0.7962674961119751\n",
      "100 \t friedman_mse \t 3 \t 2 \t 0.7962674961119751\n",
      "100 \t friedman_mse \t 3 \t 3 \t 0.7947122861586314\n",
      "100 \t friedman_mse \t 3 \t 4 \t 0.7900466562986003\n",
      "100 \t friedman_mse \t 3 \t sqrt \t 0.7962674961119751\n",
      "100 \t friedman_mse \t 3 \t log2 \t 0.7962674961119751\n",
      "100 \t friedman_mse \t 4 \t 1 \t 0.7962674961119751\n",
      "100 \t friedman_mse \t 4 \t 2 \t 0.7947122861586314\n",
      "100 \t friedman_mse \t 4 \t 3 \t 0.7978227060653188\n",
      "100 \t friedman_mse \t 4 \t 4 \t 0.8009331259720062\n",
      "100 \t friedman_mse \t 4 \t sqrt \t 0.7947122861586314\n",
      "100 \t friedman_mse \t 4 \t log2 \t 0.7947122861586314\n",
      "100 \t friedman_mse \t 5 \t 1 \t 0.8055987558320373\n",
      "100 \t friedman_mse \t 5 \t 2 \t 0.7993779160186625\n",
      "100 \t friedman_mse \t 5 \t 3 \t 0.807153965785381\n",
      "100 \t friedman_mse \t 5 \t 4 \t 0.8087091757387247\n",
      "100 \t friedman_mse \t 5 \t sqrt \t 0.7993779160186625\n",
      "100 \t friedman_mse \t 5 \t log2 \t 0.7993779160186625\n",
      "100 \t poisson \t 1 \t 1 \t 0.7060653188180405\n",
      "100 \t poisson \t 1 \t 2 \t 0.7091757387247278\n",
      "100 \t poisson \t 1 \t 3 \t 0.7091757387247278\n",
      "100 \t poisson \t 1 \t 4 \t 0.7091757387247278\n",
      "100 \t poisson \t 1 \t sqrt \t 0.7091757387247278\n",
      "100 \t poisson \t 1 \t log2 \t 0.7091757387247278\n",
      "100 \t poisson \t 2 \t 1 \t 0.7325038880248833\n",
      "100 \t poisson \t 2 \t 2 \t 0.7325038880248833\n",
      "100 \t poisson \t 2 \t 3 \t 0.7325038880248833\n",
      "100 \t poisson \t 2 \t 4 \t 0.7325038880248833\n",
      "100 \t poisson \t 2 \t sqrt \t 0.7325038880248833\n",
      "100 \t poisson \t 2 \t log2 \t 0.7325038880248833\n",
      "100 \t poisson \t 3 \t 1 \t 0.7356143079315708\n",
      "100 \t poisson \t 3 \t 2 \t 0.7309486780715396\n",
      "100 \t poisson \t 3 \t 3 \t 0.7325038880248833\n",
      "100 \t poisson \t 3 \t 4 \t 0.7371695178849145\n",
      "100 \t poisson \t 3 \t sqrt \t 0.7309486780715396\n",
      "100 \t poisson \t 3 \t log2 \t 0.7309486780715396\n",
      "100 \t poisson \t 4 \t 1 \t 0.7387247278382582\n",
      "100 \t poisson \t 4 \t 2 \t 0.7402799377916018\n",
      "100 \t poisson \t 4 \t 3 \t 0.7325038880248833\n",
      "100 \t poisson \t 4 \t 4 \t 0.7356143079315708\n",
      "100 \t poisson \t 4 \t sqrt \t 0.7402799377916018\n",
      "100 \t poisson \t 4 \t log2 \t 0.7402799377916018\n",
      "100 \t poisson \t 5 \t 1 \t 0.7418351477449455\n",
      "100 \t poisson \t 5 \t 2 \t 0.7402799377916018\n",
      "100 \t poisson \t 5 \t 3 \t 0.7371695178849145\n",
      "100 \t poisson \t 5 \t 4 \t 0.7402799377916018\n",
      "100 \t poisson \t 5 \t sqrt \t 0.7402799377916018\n",
      "100 \t poisson \t 5 \t log2 \t 0.7402799377916018\n",
      "\n",
      "--------------------------------------------------\n",
      "best results:\n",
      "60 \t friedman_mse \t 5 \t 4 \t 0.8133748055987559\n",
      "best model: RandomForestRegressor(criterion='friedman_mse', max_depth=5, max_features=4,\n",
      "                      n_estimators=60, random_state=12345)\n"
     ]
    }
   ],
   "source": [
    "# создаем переменные для лучшей на текущий момент модели и ее точности\n",
    "random_forest_regressor_best_model = None\n",
    "best_result = 0\n",
    "\n",
    "print('n_estim','  ', 'criter','\\t','depth','\\t', 'max_feat', ' ', 'accuracy_score')\n",
    "\n",
    "# перебираем разные комбинации в цикле\n",
    "for estimators in range(50, 101, 10):\n",
    "    for test_criterion in ['friedman_mse', 'poisson']:\n",
    "        for depth in range(1, 6):\n",
    "            for test_max_features in [1, 2, 3, 4, 'sqrt', 'log2']:\n",
    "                model = RandomForestRegressor(\n",
    "                    n_estimators=estimators,\n",
    "                    criterion=test_criterion,\n",
    "                    max_depth=depth,\n",
    "                    max_features=test_max_features,\n",
    "                    random_state=12345\n",
    "                )\n",
    "                \n",
    "                # обучаем модель на тренировочных данных\n",
    "                model.fit(features_train, target_train)\n",
    "                \n",
    "                # оцениваем качество модели на валидационной выборке\n",
    "                predictions = model.predict(features_valid).round()\n",
    "                result = accuracy_score(target_valid, predictions)\n",
    "                print(\n",
    "                    estimators,'\\t', \n",
    "                    test_criterion, '\\t', \n",
    "                    depth,'\\t', \n",
    "                    test_max_features, '\\t', \n",
    "                    result\n",
    "                )   \n",
    "                \n",
    "                # сохраняем лучшую на данный момент модель и ее показатели\n",
    "                if result > best_result:\n",
    "                    best_result = result\n",
    "                    random_forest_regressor_best_model = model\n",
    "                    best_n_estimarots=estimators\n",
    "                    best_criterion=test_criterion\n",
    "                    best_depth = depth\n",
    "                    best_max_features = test_max_features\n",
    "    print()\n",
    "print('--------------------------------------------------')\n",
    "print('best results:')\n",
    "print(best_n_estimarots,'\\t', best_criterion, '\\t', best_depth,'\\t', best_max_features, '\\t', best_result)\n",
    "\n",
    "\n",
    "print(f'best model: {random_forest_regressor_best_model}')\n",
    "\n",
    "# если доля правильных ответов превысит 0,75, сохраним нашу модель в списке лучших \n",
    "if best_result >= 0.75:\n",
    "    best_models.append([random_forest_regressor_best_model, best_result])"
   ]
  },
  {
   "cell_type": "markdown",
   "metadata": {},
   "source": [
    "Точность случайного леса для регрессии превысила порог с 0.75. \n",
    "\n",
    "Значения гиперпараметров: \n",
    "- количество деревьев в лесу - 60\n",
    "- функция, измеряющая качество разбиения - friedman_mse \t\n",
    "- максимальная глубина деревьев - 5\n",
    "- количество характеристик, которые учитываются при поиске лучшего разбиения - 4"
   ]
  },
  {
   "cell_type": "markdown",
   "metadata": {},
   "source": [
    "### Линейная регрессия"
   ]
  },
  {
   "cell_type": "markdown",
   "metadata": {},
   "source": [
    "Предсказания модели линейной регрессии в задаче классификации также можно трактовать как вероятность попадания в тот или иной класс. \n",
    "\n",
    "Здесь тоже применим к предсказаниям операцию округления и так получим разделение на классы"
   ]
  },
  {
   "cell_type": "code",
   "execution_count": 21,
   "metadata": {},
   "outputs": [
    {
     "name": "stdout",
     "output_type": "stream",
     "text": [
      "fit_intercept \t positive \t accuracy_score\n",
      "True \t \t True \t \t 0.7325038880248833\n",
      "True \t \t False \t \t 0.7325038880248833\n",
      "False \t \t True \t \t 0.7293934681181959\n",
      "False \t \t False \t \t 0.7293934681181959\n",
      "\n",
      "--------------------------------------------------\n",
      "best results:\n",
      "True \t True \t 0.7325038880248833\n",
      "best model: LinearRegression(positive=True)\n"
     ]
    }
   ],
   "source": [
    "# создаем переменные для лучшей на текущий момент модели и ее точности\n",
    "linear_regression_best_model = None\n",
    "best_result = 0\n",
    "\n",
    "print('fit_intercept','\\t','positive', '\\t', 'accuracy_score')\n",
    "\n",
    "# перебираем разные комбинации в цикле\n",
    "for test_fit_intercept in [True, False]:\n",
    "    for test_positive in [True, False]:\n",
    "        model = LinearRegression(\n",
    "            fit_intercept=test_fit_intercept, \n",
    "            positive=test_positive\n",
    "        )\n",
    "        \n",
    "        # обучаем модель на тренировочных данных\n",
    "        model.fit(features_train, target_train)\n",
    "        \n",
    "        # оцениваем качество модели на валидационной выборке\n",
    "        predictions = model.predict(features_valid).round()\n",
    "        result = accuracy_score(target_valid, predictions)\n",
    "        print(test_fit_intercept,'\\t','\\t',test_positive, '\\t','\\t', result)\n",
    "        \n",
    "        # сохраняем лучшую на данный момент модель и ее показатели\n",
    "        if result > best_result:\n",
    "            best_result = result\n",
    "            linear_regression_best_model = model\n",
    "            best_fit_intercept=test_fit_intercept\n",
    "            best_positive=test_positive\n",
    "            \n",
    "print()\n",
    "print('--------------------------------------------------')\n",
    "print('best results:')\n",
    "print(best_fit_intercept,'\\t', best_positive, '\\t', best_result)\n",
    "\n",
    "\n",
    "print(f'best model: {linear_regression_best_model}')\n",
    "\n",
    "# если доля правильных ответов превысит 0,75, сохраним нашу модель в списке лучших \n",
    "if best_result >= 0.75:\n",
    "    best_models.append([linear_regression_best_model, best_result])"
   ]
  },
  {
   "cell_type": "markdown",
   "metadata": {},
   "source": [
    "Максимальная достигнутая точность модели линейной регрессии не превысила заданного порога в 0,75."
   ]
  },
  {
   "cell_type": "markdown",
   "metadata": {},
   "source": [
    "### Выводы"
   ]
  },
  {
   "cell_type": "code",
   "execution_count": 22,
   "metadata": {
    "scrolled": true
   },
   "outputs": [
    {
     "data": {
      "text/plain": [
       "[[DecisionTreeClassifier(max_depth=5, max_features=3, random_state=12345),\n",
       "  0.7931570762052877],\n",
       " [RandomForestClassifier(max_depth=5, max_features=4, n_estimators=60,\n",
       "                         random_state=12345),\n",
       "  0.8133748055987559],\n",
       " [DecisionTreeRegressor(criterion='friedman_mse', max_depth=5, max_features=3,\n",
       "                        random_state=12345),\n",
       "  0.7931570762052877],\n",
       " [RandomForestRegressor(criterion='friedman_mse', max_depth=5, max_features=4,\n",
       "                        n_estimators=60, random_state=12345),\n",
       "  0.8133748055987559]]"
      ]
     },
     "execution_count": 22,
     "metadata": {},
     "output_type": "execute_result"
    }
   ],
   "source": [
    "# выведем список моделей, которые достигли нужной нам точности предсказаний\n",
    "best_models"
   ]
  },
  {
   "cell_type": "markdown",
   "metadata": {},
   "source": [
    "**Выводы**\n",
    "\n",
    "1. Мы настроили параметры и обучили 6 моделей: решающее дерево, случайный лес, логистическую регрессию, дерево решений для регрессии, случайный лес для регрессии и линейную регрессию. \n",
    "\n",
    "\n",
    "2. Из них заданный порог точности не преодолели только модели логистической и линейной регрессии.\n",
    "\n",
    "\n",
    "3. Лучшее значение точности модели у случайного леса - 0.813.\n"
   ]
  },
  {
   "cell_type": "markdown",
   "metadata": {},
   "source": [
    "## Проверьте модель на тестовой выборке"
   ]
  },
  {
   "cell_type": "code",
   "execution_count": 23,
   "metadata": {},
   "outputs": [
    {
     "name": "stdout",
     "output_type": "stream",
     "text": [
      "DecisionTreeClassifier(max_depth=5, max_features=3, random_state=12345)\n",
      "точность на валидационной выборке 0.7931570762052877\n",
      "точность на тестовой выборке 0.80248833592535\n",
      "\n",
      "RandomForestClassifier(max_depth=5, max_features=4, n_estimators=60,\n",
      "                       random_state=12345)\n",
      "точность на валидационной выборке 0.8133748055987559\n",
      "точность на тестовой выборке 0.8211508553654744\n",
      "\n",
      "DecisionTreeRegressor(criterion='friedman_mse', max_depth=5, max_features=3,\n",
      "                      random_state=12345)\n",
      "точность на валидационной выборке 0.7931570762052877\n",
      "точность на тестовой выборке 0.80248833592535\n",
      "\n",
      "RandomForestRegressor(criterion='friedman_mse', max_depth=5, max_features=4,\n",
      "                      n_estimators=60, random_state=12345)\n",
      "точность на валидационной выборке 0.8133748055987559\n",
      "точность на тестовой выборке 0.8211508553654744\n",
      "\n",
      "------------------------------\n",
      "best model\n",
      "RandomForestClassifier(max_depth=5, max_features=4, n_estimators=60,\n",
      "                       random_state=12345) 0.8211508553654744\n"
     ]
    }
   ],
   "source": [
    "# создадим переменные для лучшей модели\n",
    "best_model = None\n",
    "best_result = 0\n",
    "\n",
    "for test_model in best_models:\n",
    "    # предсказания модели на тестовых характеристиках\n",
    "    predictions = test_model[0].predict(features_test).round()\n",
    "    \n",
    "    # вычисляем точность\n",
    "    result = accuracy_score(target_test, predictions)\n",
    "    print(test_model[0])\n",
    "    print('точность на валидационной выборке', test_model[1])\n",
    "    print('точность на тестовой выборке', result)\n",
    "    \n",
    "    if result > best_result:\n",
    "        best_model = test_model[0]\n",
    "        best_result = result\n",
    "    print()\n",
    "print('------------------------------')\n",
    "print('best model')\n",
    "print(best_model, best_result)"
   ]
  },
  {
   "cell_type": "markdown",
   "metadata": {},
   "source": [
    "### Выводы"
   ]
  },
  {
   "cell_type": "markdown",
   "metadata": {},
   "source": [
    "- При проверке <u>на тестовой выборке все модели показали более высокие результаты</u>, чем на этапе валидационной проверки.\n",
    "\n",
    "- **Самой точной оказалась модель** классификации с помощью **случайного леса**: точность - 0.821."
   ]
  },
  {
   "cell_type": "markdown",
   "metadata": {},
   "source": [
    "## Улучшение модели случайного леса"
   ]
  },
  {
   "cell_type": "markdown",
   "metadata": {},
   "source": [
    "Попробуем улучшить модель случайного леса. Обучим ее на объединении тренировочной и валидационной выборок"
   ]
  },
  {
   "cell_type": "code",
   "execution_count": 24,
   "metadata": {},
   "outputs": [
    {
     "data": {
      "text/plain": [
       "True"
      ]
     },
     "execution_count": 24,
     "metadata": {},
     "output_type": "execute_result"
    }
   ],
   "source": [
    "# объединим переменные с обучающими признаками для тренировочной и валидационной выборок\n",
    "features_train_new = pd.concat([features_train, features_valid])\n",
    "features_train.shape[0] + features_valid.shape[0] == features_train_new.shape[0]"
   ]
  },
  {
   "cell_type": "code",
   "execution_count": 25,
   "metadata": {},
   "outputs": [
    {
     "data": {
      "text/plain": [
       "True"
      ]
     },
     "execution_count": 25,
     "metadata": {},
     "output_type": "execute_result"
    }
   ],
   "source": [
    "# объединим переменные с целевым признаком для тренировочной и валидационной выборок\n",
    "target_train_new = pd.concat([target_train, target_valid])\n",
    "target_train.shape[0] + target_valid.shape[0] == target_train_new.shape[0]"
   ]
  },
  {
   "cell_type": "code",
   "execution_count": 26,
   "metadata": {},
   "outputs": [
    {
     "data": {
      "text/plain": [
       "0    0.693504\n",
       "1    0.306496\n",
       "Name: is_ultra, dtype: float64"
      ]
     },
     "execution_count": 26,
     "metadata": {},
     "output_type": "execute_result"
    }
   ],
   "source": [
    "# проверим, сохранилось ли соотношение классов\n",
    "target_train_new.value_counts()/target_train_new.shape[0]"
   ]
  },
  {
   "cell_type": "code",
   "execution_count": 27,
   "metadata": {},
   "outputs": [
    {
     "data": {
      "text/plain": [
       "0.8242612752721618"
      ]
     },
     "execution_count": 27,
     "metadata": {},
     "output_type": "execute_result"
    }
   ],
   "source": [
    "# обучим модель на объединенных данных\n",
    "model = RandomForestClassifier(\n",
    "    max_depth=5, \n",
    "    max_features=4, \n",
    "    n_estimators=60,\n",
    "    random_state=12345\n",
    ")\n",
    "\n",
    "# проверим точность предсказаний\n",
    "model.fit(features_train_new, target_train_new)\n",
    "predictions = model.predict(features_test)\n",
    "accuracy_score(predictions, target_test)"
   ]
  },
  {
   "cell_type": "markdown",
   "metadata": {},
   "source": [
    "После обучения модели случайного леса на большем количестве данных, точность модели повысилась до 0,824."
   ]
  },
  {
   "cell_type": "markdown",
   "metadata": {},
   "source": [
    "## (бонус) Проверьте модели на адекватность"
   ]
  },
  {
   "cell_type": "markdown",
   "metadata": {},
   "source": [
    "Сравним результат с наивным прогнозом, когда для всех элементов будем делать прогноз по самому частотному классу. То есть доля самого частотного класса в выборке и будет качеством такой модели (так как такие позиции будут спрогнозированы верно). Наша модель будет адекватной, если ее качество будет выше качества наивного прогноза.\n",
    "\n",
    "Для проверки используем DummyClassifier из ScikitLearn. В качестве стратегии выберем most_frequent, то есть метод predict будет всегда возвращать самый частотный класс, который выделит на тренировочных данных (в данном случае это 0, что соответствует тарифу «Смарт»)."
   ]
  },
  {
   "cell_type": "code",
   "execution_count": 28,
   "metadata": {},
   "outputs": [
    {
     "data": {
      "text/plain": [
       "0.6936236391912908"
      ]
     },
     "execution_count": 28,
     "metadata": {},
     "output_type": "execute_result"
    }
   ],
   "source": [
    "# обучим модель на тренировочных данных и вычислим ее точность на тестовых.\n",
    "dummy_clf = DummyClassifier(strategy=\"most_frequent\")\n",
    "dummy_clf.fit(features_train, target_train)\n",
    "\n",
    "predictions = dummy_clf.predict(features_test)\n",
    "accuracy_score(target_test, predictions)"
   ]
  },
  {
   "cell_type": "markdown",
   "metadata": {},
   "source": [
    "### Вывод"
   ]
  },
  {
   "cell_type": "markdown",
   "metadata": {},
   "source": [
    "Показатели точности для всех четырех моделей превышают 0.693. Следовательно, все четыре модели являются адекватными."
   ]
  },
  {
   "cell_type": "markdown",
   "metadata": {},
   "source": [
    "## Общий вывод"
   ]
  },
  {
   "cell_type": "markdown",
   "metadata": {},
   "source": [
    "1. Оператор мобильной связи «Мегалайн» хочет построить систему, способную проанализировать поведение клиентов и предложить пользователям новый тариф: «Смарт» или «Ультра».\n",
    "В нашем распоряжении данные о поведении клиентов, которые уже перешли на эти тарифы, в общей сложности о 3214 пользователях. Данные прошли предобработку, пропусков не содержат. Пользователи выбирают тариф «Смарт» более чем в 2 раза чаще, чем тариф «Ультра».\n",
    "\n",
    "2. Мы разделили исходные данные на три части – обучающую выборку, валидационную и тестовую в отношении 3:1:1. Соотношение данных по разным тарифам при этом сохранилось. \n",
    "\n",
    "3. Мы настроили параметры и обучили 6 моделей: \n",
    "- решающее дерево, \n",
    "- случайный лес, \n",
    "- логистическую регрессию, \n",
    "- дерево решений для регрессии, \n",
    "- случайный лес для регрессии \n",
    "- линейную регрессию. \n",
    "4. Из этих моделей заданный в 0,75 порог точности преодолели:\n",
    "- решающее дерево (0.79), \n",
    "- случайный лес (0.81), \n",
    "- дерево решений для регрессии (0.79), \n",
    "- случайный лес для регрессии (0.81). \n",
    " \n",
    "**Лучшее значение точности модели у случайного леса - 0.813**.\n",
    "\n",
    "5. При проверке на тестовой выборке все модели показали более высокие результаты, чем на этапе валидационной проверки.\n",
    "**Самой точной** снова оказалась модель классификации с помощью **случайного леса: точность - 0.821**.\n",
    "\n",
    "6. Удалось еще повысить точность модели случайного леса до 0.824 за счет обучения ее на объединении тренировочной и валидационной выборок.\n",
    "\n",
    "7. Адекватность моделей проверялась с помощью DummyClassifier, настроенного так, чтобы всегда возвращать самый частотный класс. Точность такой модели составила 0.693. Показатели точности для всех четырех моделей превышают этот уровень. Следовательно, все четыре модели являются адекватными.\n",
    "\n",
    "\n",
    "**Таким образом, лучшей моделью является модель RandomForestClassifier со следующими значениями гиперпараметров**: \n",
    "- количество деревьев - 60\n",
    "- максимальная глубина деревьев - 5\n",
    "- количество характеристик, которые учитываются при поиске лучшего разбиения – 4.\n",
    "\n",
    "**На тестовых данных модель достигла точности 0.824**.\n"
   ]
  }
 ],
 "metadata": {
  "ExecuteTimeLog": [
   {
    "duration": 438,
    "start_time": "2023-03-01T12:47:50.838Z"
   },
   {
    "duration": 88,
    "start_time": "2023-03-01T12:48:01.456Z"
   },
   {
    "duration": 12,
    "start_time": "2023-03-01T12:48:21.558Z"
   },
   {
    "duration": 13,
    "start_time": "2023-03-01T12:48:29.310Z"
   },
   {
    "duration": 45,
    "start_time": "2023-03-01T12:57:15.617Z"
   },
   {
    "duration": 12,
    "start_time": "2023-03-01T12:59:38.158Z"
   },
   {
    "duration": 7,
    "start_time": "2023-03-01T12:59:43.765Z"
   },
   {
    "duration": 492,
    "start_time": "2023-03-01T16:37:17.217Z"
   },
   {
    "duration": 16,
    "start_time": "2023-03-01T16:37:21.040Z"
   },
   {
    "duration": 8,
    "start_time": "2023-03-01T16:37:23.872Z"
   },
   {
    "duration": 992,
    "start_time": "2023-03-01T16:37:39.323Z"
   },
   {
    "duration": 495,
    "start_time": "2023-03-01T16:37:44.442Z"
   },
   {
    "duration": 603,
    "start_time": "2023-03-01T16:38:06.649Z"
   },
   {
    "duration": 27,
    "start_time": "2023-03-01T16:44:06.884Z"
   },
   {
    "duration": 450,
    "start_time": "2023-03-01T16:45:18.587Z"
   },
   {
    "duration": 33,
    "start_time": "2023-03-01T16:45:22.687Z"
   },
   {
    "duration": 402,
    "start_time": "2023-03-03T13:54:36.219Z"
   },
   {
    "duration": 100,
    "start_time": "2023-03-03T13:54:38.960Z"
   },
   {
    "duration": 42,
    "start_time": "2023-03-03T13:55:18.780Z"
   },
   {
    "duration": 3,
    "start_time": "2023-03-03T13:59:15.320Z"
   },
   {
    "duration": 37,
    "start_time": "2023-03-03T13:59:16.616Z"
   },
   {
    "duration": 12,
    "start_time": "2023-03-03T13:59:17.922Z"
   },
   {
    "duration": 943,
    "start_time": "2023-03-03T13:59:24.238Z"
   },
   {
    "duration": 26,
    "start_time": "2023-03-03T13:59:28.155Z"
   },
   {
    "duration": 83,
    "start_time": "2023-03-03T14:00:52.738Z"
   },
   {
    "duration": 730,
    "start_time": "2023-03-03T14:01:14.328Z"
   },
   {
    "duration": 7,
    "start_time": "2023-03-03T14:01:19.152Z"
   },
   {
    "duration": 5,
    "start_time": "2023-03-03T14:01:42.576Z"
   },
   {
    "duration": 10,
    "start_time": "2023-03-03T14:02:32.354Z"
   },
   {
    "duration": 7,
    "start_time": "2023-03-03T14:02:34.800Z"
   },
   {
    "duration": 13,
    "start_time": "2023-03-03T14:02:38.262Z"
   },
   {
    "duration": 6,
    "start_time": "2023-03-03T14:06:39.752Z"
   },
   {
    "duration": 7,
    "start_time": "2023-03-03T14:08:41.770Z"
   },
   {
    "duration": 9,
    "start_time": "2023-03-03T14:09:00.349Z"
   },
   {
    "duration": 3,
    "start_time": "2023-03-03T14:12:15.329Z"
   },
   {
    "duration": 5,
    "start_time": "2023-03-03T14:13:00.068Z"
   },
   {
    "duration": 41,
    "start_time": "2023-03-03T14:27:46.816Z"
   },
   {
    "duration": 2,
    "start_time": "2023-03-03T14:31:03.059Z"
   },
   {
    "duration": 193,
    "start_time": "2023-03-03T14:48:29.543Z"
   },
   {
    "duration": 156,
    "start_time": "2023-03-03T14:51:44.989Z"
   },
   {
    "duration": 4,
    "start_time": "2023-03-03T14:52:00.601Z"
   },
   {
    "duration": 148,
    "start_time": "2023-03-03T14:53:40.756Z"
   },
   {
    "duration": 4,
    "start_time": "2023-03-03T14:53:47.849Z"
   },
   {
    "duration": 2,
    "start_time": "2023-03-03T14:58:23.897Z"
   },
   {
    "duration": 10,
    "start_time": "2023-03-03T14:59:09.624Z"
   },
   {
    "duration": 3359,
    "start_time": "2023-03-03T15:08:29.820Z"
   },
   {
    "duration": 146504,
    "start_time": "2023-03-03T15:10:05.139Z"
   },
   {
    "duration": 15997,
    "start_time": "2023-03-03T15:18:23.677Z"
   },
   {
    "duration": 31658,
    "start_time": "2023-03-03T15:18:45.502Z"
   },
   {
    "duration": 27908,
    "start_time": "2023-03-03T15:20:25.022Z"
   },
   {
    "duration": 6,
    "start_time": "2023-03-03T15:21:18.410Z"
   },
   {
    "duration": 3,
    "start_time": "2023-03-03T15:21:32.419Z"
   },
   {
    "duration": 148,
    "start_time": "2023-03-03T15:21:35.709Z"
   },
   {
    "duration": 27551,
    "start_time": "2023-03-03T15:21:43.900Z"
   },
   {
    "duration": 5,
    "start_time": "2023-03-03T15:22:15.838Z"
   },
   {
    "duration": 44,
    "start_time": "2023-03-03T15:23:55.607Z"
   },
   {
    "duration": 13,
    "start_time": "2023-03-03T15:30:05.485Z"
   },
   {
    "duration": 4,
    "start_time": "2023-03-03T15:30:17.642Z"
   },
   {
    "duration": 894,
    "start_time": "2023-03-03T15:30:24.786Z"
   },
   {
    "duration": 2521,
    "start_time": "2023-03-03T15:30:44.502Z"
   },
   {
    "duration": 4,
    "start_time": "2023-03-03T15:37:28.221Z"
   },
   {
    "duration": 3,
    "start_time": "2023-03-03T15:41:25.370Z"
   },
   {
    "duration": 2491,
    "start_time": "2023-03-03T15:41:32.937Z"
   },
   {
    "duration": 2502,
    "start_time": "2023-03-03T15:42:00.301Z"
   },
   {
    "duration": 1707,
    "start_time": "2023-03-03T15:42:47.028Z"
   },
   {
    "duration": 885,
    "start_time": "2023-03-03T15:43:03.275Z"
   },
   {
    "duration": 866,
    "start_time": "2023-03-03T15:43:28.106Z"
   },
   {
    "duration": 891,
    "start_time": "2023-03-03T15:49:38.992Z"
   },
   {
    "duration": 4,
    "start_time": "2023-03-03T15:49:54.101Z"
   },
   {
    "duration": 1135,
    "start_time": "2023-03-03T17:51:30.785Z"
   },
   {
    "duration": 96,
    "start_time": "2023-03-03T17:51:31.922Z"
   },
   {
    "duration": 12,
    "start_time": "2023-03-03T17:51:32.019Z"
   },
   {
    "duration": 987,
    "start_time": "2023-03-03T17:51:32.032Z"
   },
   {
    "duration": 23,
    "start_time": "2023-03-03T17:51:33.022Z"
   },
   {
    "duration": 6,
    "start_time": "2023-03-03T17:51:33.046Z"
   },
   {
    "duration": 5,
    "start_time": "2023-03-03T17:51:33.053Z"
   },
   {
    "duration": 9,
    "start_time": "2023-03-03T17:51:33.059Z"
   },
   {
    "duration": 11,
    "start_time": "2023-03-03T17:51:33.070Z"
   },
   {
    "duration": 8,
    "start_time": "2023-03-03T17:51:33.111Z"
   },
   {
    "duration": 8,
    "start_time": "2023-03-03T17:51:33.121Z"
   },
   {
    "duration": 8,
    "start_time": "2023-03-03T17:51:33.131Z"
   },
   {
    "duration": 9,
    "start_time": "2023-03-03T17:51:33.140Z"
   },
   {
    "duration": 12,
    "start_time": "2023-03-03T17:51:33.151Z"
   },
   {
    "duration": 6,
    "start_time": "2023-03-03T17:51:33.165Z"
   },
   {
    "duration": 198,
    "start_time": "2023-03-03T17:51:33.173Z"
   },
   {
    "duration": 28378,
    "start_time": "2023-03-03T17:51:33.373Z"
   },
   {
    "duration": 950,
    "start_time": "2023-03-03T17:52:01.753Z"
   },
   {
    "duration": 4,
    "start_time": "2023-03-03T17:54:14.198Z"
   },
   {
    "duration": 112,
    "start_time": "2023-03-03T17:54:50.702Z"
   },
   {
    "duration": 213,
    "start_time": "2023-03-03T17:56:08.800Z"
   },
   {
    "duration": 453,
    "start_time": "2023-03-03T17:56:24.080Z"
   },
   {
    "duration": 395,
    "start_time": "2023-03-03T18:18:29.373Z"
   },
   {
    "duration": 382,
    "start_time": "2023-03-03T18:18:45.700Z"
   },
   {
    "duration": 362,
    "start_time": "2023-03-03T18:18:59.598Z"
   },
   {
    "duration": 360,
    "start_time": "2023-03-03T18:19:07.773Z"
   },
   {
    "duration": 87,
    "start_time": "2023-03-03T18:20:59.467Z"
   },
   {
    "duration": 16,
    "start_time": "2023-03-03T18:33:42.482Z"
   },
   {
    "duration": 3,
    "start_time": "2023-03-03T18:33:52.015Z"
   },
   {
    "duration": 48,
    "start_time": "2023-03-03T18:34:01.120Z"
   },
   {
    "duration": 41,
    "start_time": "2023-03-03T18:34:15.867Z"
   },
   {
    "duration": 50712,
    "start_time": "2023-03-03T18:34:30.268Z"
   },
   {
    "duration": 4,
    "start_time": "2023-03-03T18:38:46.284Z"
   },
   {
    "duration": 42,
    "start_time": "2023-03-03T18:38:46.290Z"
   },
   {
    "duration": 12,
    "start_time": "2023-03-03T18:38:46.333Z"
   },
   {
    "duration": 546,
    "start_time": "2023-03-03T18:38:46.347Z"
   },
   {
    "duration": 30,
    "start_time": "2023-03-03T18:38:46.895Z"
   },
   {
    "duration": 5,
    "start_time": "2023-03-03T18:38:46.927Z"
   },
   {
    "duration": 6,
    "start_time": "2023-03-03T18:38:46.934Z"
   },
   {
    "duration": 8,
    "start_time": "2023-03-03T18:38:46.941Z"
   },
   {
    "duration": 7,
    "start_time": "2023-03-03T18:38:46.951Z"
   },
   {
    "duration": 8,
    "start_time": "2023-03-03T18:38:46.959Z"
   },
   {
    "duration": 6,
    "start_time": "2023-03-03T18:38:46.968Z"
   },
   {
    "duration": 38,
    "start_time": "2023-03-03T18:38:46.976Z"
   },
   {
    "duration": 8,
    "start_time": "2023-03-03T18:38:47.016Z"
   },
   {
    "duration": 5,
    "start_time": "2023-03-03T18:38:47.026Z"
   },
   {
    "duration": 4,
    "start_time": "2023-03-03T18:38:47.033Z"
   },
   {
    "duration": 195,
    "start_time": "2023-03-03T18:38:47.039Z"
   },
   {
    "duration": 28475,
    "start_time": "2023-03-03T18:38:47.236Z"
   },
   {
    "duration": 918,
    "start_time": "2023-03-03T18:39:15.713Z"
   },
   {
    "duration": 362,
    "start_time": "2023-03-03T18:39:16.633Z"
   },
   {
    "duration": 47,
    "start_time": "2023-03-03T18:39:16.997Z"
   },
   {
    "duration": 0,
    "start_time": "2023-03-03T18:39:17.046Z"
   },
   {
    "duration": 48285,
    "start_time": "2023-03-03T18:39:27.138Z"
   },
   {
    "duration": 49428,
    "start_time": "2023-03-03T18:41:22.167Z"
   },
   {
    "duration": 5,
    "start_time": "2023-03-03T18:44:55.471Z"
   },
   {
    "duration": 36,
    "start_time": "2023-03-03T18:44:55.482Z"
   },
   {
    "duration": 16,
    "start_time": "2023-03-03T18:44:55.521Z"
   },
   {
    "duration": 747,
    "start_time": "2023-03-03T18:44:55.539Z"
   },
   {
    "duration": 35,
    "start_time": "2023-03-03T18:44:56.288Z"
   },
   {
    "duration": 10,
    "start_time": "2023-03-03T18:44:56.326Z"
   },
   {
    "duration": 7,
    "start_time": "2023-03-03T18:44:56.338Z"
   },
   {
    "duration": 10,
    "start_time": "2023-03-03T18:44:56.347Z"
   },
   {
    "duration": 10,
    "start_time": "2023-03-03T18:44:56.359Z"
   },
   {
    "duration": 45,
    "start_time": "2023-03-03T18:44:56.371Z"
   },
   {
    "duration": 8,
    "start_time": "2023-03-03T18:44:56.421Z"
   },
   {
    "duration": 8,
    "start_time": "2023-03-03T18:44:56.431Z"
   },
   {
    "duration": 9,
    "start_time": "2023-03-03T18:44:56.442Z"
   },
   {
    "duration": 6,
    "start_time": "2023-03-03T18:44:56.454Z"
   },
   {
    "duration": 7,
    "start_time": "2023-03-03T18:44:56.462Z"
   },
   {
    "duration": 281,
    "start_time": "2023-03-03T18:44:56.470Z"
   },
   {
    "duration": 32991,
    "start_time": "2023-03-03T18:44:56.753Z"
   },
   {
    "duration": 1070,
    "start_time": "2023-03-03T18:45:29.746Z"
   },
   {
    "duration": 536,
    "start_time": "2023-03-03T18:45:30.818Z"
   },
   {
    "duration": 56698,
    "start_time": "2023-03-03T18:45:31.356Z"
   },
   {
    "duration": 8,
    "start_time": "2023-03-03T18:46:59.223Z"
   },
   {
    "duration": 70,
    "start_time": "2023-03-03T18:54:17.621Z"
   },
   {
    "duration": 3,
    "start_time": "2023-03-03T18:58:19.863Z"
   },
   {
    "duration": 3,
    "start_time": "2023-03-03T18:58:50.462Z"
   },
   {
    "duration": 9,
    "start_time": "2023-03-03T19:00:56.385Z"
   },
   {
    "duration": 9,
    "start_time": "2023-03-03T19:01:03.623Z"
   },
   {
    "duration": 9,
    "start_time": "2023-03-03T19:01:33.859Z"
   },
   {
    "duration": 10,
    "start_time": "2023-03-03T19:01:39.109Z"
   },
   {
    "duration": 16,
    "start_time": "2023-03-03T19:06:31.676Z"
   },
   {
    "duration": 21,
    "start_time": "2023-03-03T19:06:54.656Z"
   },
   {
    "duration": 24,
    "start_time": "2023-03-03T19:07:08.997Z"
   },
   {
    "duration": 23,
    "start_time": "2023-03-03T19:07:15.908Z"
   },
   {
    "duration": 28,
    "start_time": "2023-03-03T19:09:06.893Z"
   },
   {
    "duration": 5,
    "start_time": "2023-03-03T19:12:32.966Z"
   },
   {
    "duration": 11,
    "start_time": "2023-03-03T19:14:13.077Z"
   },
   {
    "duration": 31,
    "start_time": "2023-03-03T19:14:50.379Z"
   },
   {
    "duration": 31,
    "start_time": "2023-03-03T19:15:57.715Z"
   },
   {
    "duration": 32,
    "start_time": "2023-03-03T19:16:16.738Z"
   },
   {
    "duration": 37,
    "start_time": "2023-03-03T19:16:44.066Z"
   },
   {
    "duration": 4,
    "start_time": "2023-03-03T19:38:32.217Z"
   },
   {
    "duration": 39,
    "start_time": "2023-03-03T19:38:32.224Z"
   },
   {
    "duration": 15,
    "start_time": "2023-03-03T19:38:32.264Z"
   },
   {
    "duration": 569,
    "start_time": "2023-03-03T19:38:32.282Z"
   },
   {
    "duration": 21,
    "start_time": "2023-03-03T19:38:32.854Z"
   },
   {
    "duration": 5,
    "start_time": "2023-03-03T19:38:32.877Z"
   },
   {
    "duration": 4,
    "start_time": "2023-03-03T19:38:32.884Z"
   },
   {
    "duration": 28,
    "start_time": "2023-03-03T19:38:32.890Z"
   },
   {
    "duration": 9,
    "start_time": "2023-03-03T19:38:32.920Z"
   },
   {
    "duration": 7,
    "start_time": "2023-03-03T19:38:32.931Z"
   },
   {
    "duration": 7,
    "start_time": "2023-03-03T19:38:32.940Z"
   },
   {
    "duration": 8,
    "start_time": "2023-03-03T19:38:32.949Z"
   },
   {
    "duration": 8,
    "start_time": "2023-03-03T19:38:32.960Z"
   },
   {
    "duration": 8,
    "start_time": "2023-03-03T19:38:33.013Z"
   },
   {
    "duration": 4,
    "start_time": "2023-03-03T19:38:33.023Z"
   },
   {
    "duration": 206,
    "start_time": "2023-03-03T19:38:33.029Z"
   },
   {
    "duration": 28135,
    "start_time": "2023-03-03T19:38:33.238Z"
   },
   {
    "duration": 949,
    "start_time": "2023-03-03T19:39:01.375Z"
   },
   {
    "duration": 406,
    "start_time": "2023-03-03T19:39:02.326Z"
   },
   {
    "duration": 34819,
    "start_time": "2023-03-03T19:39:02.735Z"
   },
   {
    "duration": 0,
    "start_time": "2023-03-03T19:39:37.556Z"
   },
   {
    "duration": 0,
    "start_time": "2023-03-03T19:39:37.557Z"
   },
   {
    "duration": 0,
    "start_time": "2023-03-03T19:39:37.558Z"
   },
   {
    "duration": 21640,
    "start_time": "2023-03-03T19:39:39.532Z"
   },
   {
    "duration": 15280,
    "start_time": "2023-03-03T19:40:02.364Z"
   },
   {
    "duration": 48596,
    "start_time": "2023-03-03T19:40:18.701Z"
   },
   {
    "duration": 34,
    "start_time": "2023-03-03T19:41:26.064Z"
   },
   {
    "duration": 8,
    "start_time": "2023-03-03T19:41:30.418Z"
   },
   {
    "duration": 45,
    "start_time": "2023-03-03T19:41:35.986Z"
   },
   {
    "duration": 5,
    "start_time": "2023-03-03T19:51:06.957Z"
   },
   {
    "duration": 7,
    "start_time": "2023-03-03T19:53:32.138Z"
   },
   {
    "duration": 5,
    "start_time": "2023-03-03T20:00:11.816Z"
   },
   {
    "duration": 3,
    "start_time": "2023-03-03T20:03:38.008Z"
   },
   {
    "duration": 3,
    "start_time": "2023-03-03T20:17:50.875Z"
   },
   {
    "duration": 70,
    "start_time": "2023-03-03T20:36:51.660Z"
   },
   {
    "duration": 1116,
    "start_time": "2023-03-03T20:50:36.678Z"
   },
   {
    "duration": 42,
    "start_time": "2023-03-03T20:50:37.795Z"
   },
   {
    "duration": 11,
    "start_time": "2023-03-03T20:50:37.838Z"
   },
   {
    "duration": 738,
    "start_time": "2023-03-03T20:50:37.850Z"
   },
   {
    "duration": 33,
    "start_time": "2023-03-03T20:50:38.590Z"
   },
   {
    "duration": 5,
    "start_time": "2023-03-03T20:50:38.624Z"
   },
   {
    "duration": 5,
    "start_time": "2023-03-03T20:50:38.631Z"
   },
   {
    "duration": 15,
    "start_time": "2023-03-03T20:50:38.637Z"
   },
   {
    "duration": 5,
    "start_time": "2023-03-03T20:50:38.653Z"
   },
   {
    "duration": 6,
    "start_time": "2023-03-03T20:50:38.659Z"
   },
   {
    "duration": 5,
    "start_time": "2023-03-03T20:50:38.666Z"
   },
   {
    "duration": 6,
    "start_time": "2023-03-03T20:50:38.672Z"
   },
   {
    "duration": 7,
    "start_time": "2023-03-03T20:50:38.711Z"
   },
   {
    "duration": 5,
    "start_time": "2023-03-03T20:50:38.721Z"
   },
   {
    "duration": 4,
    "start_time": "2023-03-03T20:50:38.728Z"
   },
   {
    "duration": 186,
    "start_time": "2023-03-03T20:50:38.734Z"
   },
   {
    "duration": 27184,
    "start_time": "2023-03-03T20:50:38.921Z"
   },
   {
    "duration": 859,
    "start_time": "2023-03-03T20:51:06.111Z"
   },
   {
    "duration": 398,
    "start_time": "2023-03-03T20:51:06.972Z"
   },
   {
    "duration": 46757,
    "start_time": "2023-03-03T20:51:07.371Z"
   },
   {
    "duration": 33,
    "start_time": "2023-03-03T20:51:54.130Z"
   },
   {
    "duration": 7,
    "start_time": "2023-03-03T20:51:54.165Z"
   },
   {
    "duration": 60,
    "start_time": "2023-03-03T20:51:54.174Z"
   },
   {
    "duration": 6,
    "start_time": "2023-03-03T20:51:54.235Z"
   },
   {
    "duration": 1937,
    "start_time": "2023-03-04T06:49:55.682Z"
   },
   {
    "duration": 140,
    "start_time": "2023-03-04T06:49:57.621Z"
   },
   {
    "duration": 11,
    "start_time": "2023-03-04T06:49:57.763Z"
   },
   {
    "duration": 993,
    "start_time": "2023-03-04T06:49:57.776Z"
   },
   {
    "duration": 24,
    "start_time": "2023-03-04T06:49:58.772Z"
   },
   {
    "duration": 7,
    "start_time": "2023-03-04T06:49:58.798Z"
   },
   {
    "duration": 6,
    "start_time": "2023-03-04T06:49:58.806Z"
   },
   {
    "duration": 8,
    "start_time": "2023-03-04T06:49:58.813Z"
   },
   {
    "duration": 16,
    "start_time": "2023-03-04T06:49:58.848Z"
   },
   {
    "duration": 9,
    "start_time": "2023-03-04T06:49:58.866Z"
   },
   {
    "duration": 8,
    "start_time": "2023-03-04T06:49:58.876Z"
   },
   {
    "duration": 9,
    "start_time": "2023-03-04T06:49:58.885Z"
   },
   {
    "duration": 10,
    "start_time": "2023-03-04T06:49:58.896Z"
   },
   {
    "duration": 7,
    "start_time": "2023-03-04T06:49:58.909Z"
   },
   {
    "duration": 5,
    "start_time": "2023-03-04T06:49:58.917Z"
   },
   {
    "duration": 165,
    "start_time": "2023-03-04T06:49:58.924Z"
   },
   {
    "duration": 27763,
    "start_time": "2023-03-04T06:49:59.091Z"
   },
   {
    "duration": 914,
    "start_time": "2023-03-04T06:50:26.859Z"
   },
   {
    "duration": 365,
    "start_time": "2023-03-04T06:50:27.774Z"
   },
   {
    "duration": 46800,
    "start_time": "2023-03-04T06:50:28.152Z"
   },
   {
    "duration": 24,
    "start_time": "2023-03-04T06:51:14.962Z"
   },
   {
    "duration": 5,
    "start_time": "2023-03-04T06:51:14.988Z"
   },
   {
    "duration": 31,
    "start_time": "2023-03-04T06:51:14.994Z"
   },
   {
    "duration": 36,
    "start_time": "2023-03-04T06:51:15.026Z"
   },
   {
    "duration": 50,
    "start_time": "2023-03-04T07:55:41.255Z"
   },
   {
    "duration": 1094,
    "start_time": "2023-03-04T07:55:49.214Z"
   },
   {
    "duration": 135,
    "start_time": "2023-03-04T07:55:50.310Z"
   },
   {
    "duration": 10,
    "start_time": "2023-03-04T07:55:50.446Z"
   },
   {
    "duration": 892,
    "start_time": "2023-03-04T07:55:50.457Z"
   },
   {
    "duration": 20,
    "start_time": "2023-03-04T07:55:51.351Z"
   },
   {
    "duration": 19,
    "start_time": "2023-03-04T07:55:51.373Z"
   },
   {
    "duration": 4,
    "start_time": "2023-03-04T07:55:51.406Z"
   },
   {
    "duration": 9,
    "start_time": "2023-03-04T07:55:51.411Z"
   },
   {
    "duration": 5,
    "start_time": "2023-03-04T07:55:51.421Z"
   },
   {
    "duration": 6,
    "start_time": "2023-03-04T07:55:51.428Z"
   },
   {
    "duration": 6,
    "start_time": "2023-03-04T07:55:51.435Z"
   },
   {
    "duration": 20,
    "start_time": "2023-03-04T07:55:51.442Z"
   },
   {
    "duration": 23,
    "start_time": "2023-03-04T07:55:51.464Z"
   },
   {
    "duration": 35,
    "start_time": "2023-03-04T07:55:51.489Z"
   },
   {
    "duration": 13,
    "start_time": "2023-03-04T07:55:51.525Z"
   },
   {
    "duration": 179,
    "start_time": "2023-03-04T07:55:51.539Z"
   },
   {
    "duration": 58391,
    "start_time": "2023-03-04T07:55:51.720Z"
   },
   {
    "duration": 1819,
    "start_time": "2023-03-04T07:56:50.112Z"
   },
   {
    "duration": 774,
    "start_time": "2023-03-04T07:56:51.933Z"
   },
   {
    "duration": 3,
    "start_time": "2023-03-04T07:58:43.149Z"
   },
   {
    "duration": 43,
    "start_time": "2023-03-04T07:58:43.154Z"
   },
   {
    "duration": 13,
    "start_time": "2023-03-04T07:58:43.199Z"
   },
   {
    "duration": 517,
    "start_time": "2023-03-04T07:58:43.213Z"
   },
   {
    "duration": 20,
    "start_time": "2023-03-04T07:58:43.733Z"
   },
   {
    "duration": 6,
    "start_time": "2023-03-04T07:58:43.755Z"
   },
   {
    "duration": 41,
    "start_time": "2023-03-04T07:58:43.762Z"
   },
   {
    "duration": 5,
    "start_time": "2023-03-04T07:58:43.806Z"
   },
   {
    "duration": 10,
    "start_time": "2023-03-04T07:58:43.813Z"
   },
   {
    "duration": 10,
    "start_time": "2023-03-04T07:58:43.825Z"
   },
   {
    "duration": 7,
    "start_time": "2023-03-04T07:58:43.838Z"
   },
   {
    "duration": 7,
    "start_time": "2023-03-04T07:58:43.846Z"
   },
   {
    "duration": 8,
    "start_time": "2023-03-04T07:58:43.855Z"
   },
   {
    "duration": 34,
    "start_time": "2023-03-04T07:58:43.865Z"
   },
   {
    "duration": 8,
    "start_time": "2023-03-04T07:58:43.901Z"
   },
   {
    "duration": 144,
    "start_time": "2023-03-04T07:58:43.910Z"
   },
   {
    "duration": 26988,
    "start_time": "2023-03-04T07:58:44.055Z"
   },
   {
    "duration": 837,
    "start_time": "2023-03-04T07:59:11.044Z"
   },
   {
    "duration": 350,
    "start_time": "2023-03-04T07:59:11.883Z"
   },
   {
    "duration": 48026,
    "start_time": "2023-03-04T07:59:12.234Z"
   },
   {
    "duration": 45,
    "start_time": "2023-03-04T08:00:00.261Z"
   },
   {
    "duration": 19,
    "start_time": "2023-03-04T08:00:00.308Z"
   },
   {
    "duration": 60,
    "start_time": "2023-03-04T08:00:00.328Z"
   },
   {
    "duration": 0,
    "start_time": "2023-03-04T08:00:00.389Z"
   },
   {
    "duration": 28,
    "start_time": "2023-03-04T08:20:42.206Z"
   },
   {
    "duration": 10,
    "start_time": "2023-03-04T08:24:44.333Z"
   },
   {
    "duration": 4,
    "start_time": "2023-03-04T08:25:44.924Z"
   },
   {
    "duration": 5,
    "start_time": "2023-03-04T08:26:24.487Z"
   },
   {
    "duration": 5,
    "start_time": "2023-03-04T08:27:40.631Z"
   },
   {
    "duration": 15,
    "start_time": "2023-03-04T08:28:00.694Z"
   },
   {
    "duration": 6,
    "start_time": "2023-03-04T08:28:41.853Z"
   },
   {
    "duration": 6,
    "start_time": "2023-03-04T08:28:51.067Z"
   },
   {
    "duration": 229,
    "start_time": "2023-03-04T08:31:03.194Z"
   },
   {
    "duration": 1122,
    "start_time": "2023-03-04T08:56:38.329Z"
   },
   {
    "duration": 51,
    "start_time": "2023-03-04T08:56:39.453Z"
   },
   {
    "duration": 16,
    "start_time": "2023-03-04T08:56:39.505Z"
   },
   {
    "duration": 852,
    "start_time": "2023-03-04T08:56:39.524Z"
   },
   {
    "duration": 40,
    "start_time": "2023-03-04T08:56:40.378Z"
   },
   {
    "duration": 41,
    "start_time": "2023-03-04T08:56:40.420Z"
   },
   {
    "duration": 4,
    "start_time": "2023-03-04T08:56:40.463Z"
   },
   {
    "duration": 12,
    "start_time": "2023-03-04T08:56:40.468Z"
   },
   {
    "duration": 7,
    "start_time": "2023-03-04T08:56:40.481Z"
   },
   {
    "duration": 43,
    "start_time": "2023-03-04T08:56:40.491Z"
   },
   {
    "duration": 7,
    "start_time": "2023-03-04T08:56:40.536Z"
   },
   {
    "duration": 5,
    "start_time": "2023-03-04T08:56:40.544Z"
   },
   {
    "duration": 10,
    "start_time": "2023-03-04T08:56:40.550Z"
   },
   {
    "duration": 13,
    "start_time": "2023-03-04T08:56:40.561Z"
   },
   {
    "duration": 5,
    "start_time": "2023-03-04T08:56:40.575Z"
   },
   {
    "duration": 185,
    "start_time": "2023-03-04T08:56:40.581Z"
   },
   {
    "duration": 30261,
    "start_time": "2023-03-04T08:56:40.767Z"
   },
   {
    "duration": 932,
    "start_time": "2023-03-04T08:57:11.030Z"
   },
   {
    "duration": 413,
    "start_time": "2023-03-04T08:57:11.964Z"
   },
   {
    "duration": 52456,
    "start_time": "2023-03-04T08:57:12.391Z"
   },
   {
    "duration": 24,
    "start_time": "2023-03-04T08:58:04.848Z"
   },
   {
    "duration": 12,
    "start_time": "2023-03-04T08:58:04.892Z"
   },
   {
    "duration": 51,
    "start_time": "2023-03-04T08:58:04.906Z"
   },
   {
    "duration": 6,
    "start_time": "2023-03-04T08:58:04.959Z"
   },
   {
    "duration": 8,
    "start_time": "2023-03-04T08:58:04.966Z"
   },
   {
    "duration": 39,
    "start_time": "2023-03-04T08:58:04.975Z"
   },
   {
    "duration": 236,
    "start_time": "2023-03-04T08:58:05.016Z"
   },
   {
    "duration": 5,
    "start_time": "2023-03-04T08:58:05.256Z"
   }
  ],
  "kernelspec": {
   "display_name": "Python 3 (ipykernel)",
   "language": "python",
   "name": "python3"
  },
  "language_info": {
   "codemirror_mode": {
    "name": "ipython",
    "version": 3
   },
   "file_extension": ".py",
   "mimetype": "text/x-python",
   "name": "python",
   "nbconvert_exporter": "python",
   "pygments_lexer": "ipython3",
   "version": "3.11.4"
  },
  "toc": {
   "base_numbering": 1,
   "nav_menu": {},
   "number_sections": true,
   "sideBar": true,
   "skip_h1_title": true,
   "title_cell": "Table of Contents",
   "title_sidebar": "Contents",
   "toc_cell": false,
   "toc_position": {
    "height": "calc(100% - 180px)",
    "left": "10px",
    "top": "150px",
    "width": "274.167px"
   },
   "toc_section_display": true,
   "toc_window_display": false
  }
 },
 "nbformat": 4,
 "nbformat_minor": 4
}
