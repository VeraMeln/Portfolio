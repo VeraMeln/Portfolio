{
 "cells": [
  {
   "cell_type": "markdown",
   "id": "485d80be",
   "metadata": {
    "deletable": false,
    "editable": false,
    "id": "c81daeeb"
   },
   "source": [
    "# Исследование надежности заемщиков\n"
   ]
  },
  {
   "cell_type": "markdown",
   "id": "3f6827d2-a4c5-41f0-9bf7-d4406f9d7385",
   "metadata": {},
   "source": [
    "Заказчик — кредитный отдел банка. Нужно разобраться, влияет ли семейное положение и количество детей клиента на факт погашения кредита в срок. Входные данные от банка — статистика о платёжеспособности клиентов.\n",
    "Результаты исследования будут учтены при построении модели кредитного скоринга — специальной системы, которая оценивает способность потенциального заёмщика вернуть кредит банку."
   ]
  },
  {
   "cell_type": "markdown",
   "id": "5fc9c262-5823-4c38-ab66-8e25004c66ee",
   "metadata": {},
   "source": [
    "**Описание данных**"
   ]
  },
  {
   "cell_type": "markdown",
   "id": "b8b088fe-4e8a-4ca2-a3d3-f8c9c7b0d355",
   "metadata": {},
   "source": [
    "- children — количество детей в семье\n",
    "- days_employed — общий трудовой стаж в днях\n",
    "- dob_years — возраст клиента в годах\n",
    "- education — уровень образования клиента\n",
    "- education_id — идентификатор уровня образования\n",
    "- family_status — семейное положение\n",
    "- family_status_id — идентификатор семейного положения\n",
    "- gender — пол клиента\n",
    "- income_type — тип занятости\n",
    "- debt — имел ли задолженность по возврату кредитов\n",
    "- total_income — ежемесячный доход\n",
    "- purpose — цель получения кредита"
   ]
  },
  {
   "cell_type": "markdown",
   "id": "d631ffd1",
   "metadata": {
    "deletable": false,
    "editable": false,
    "id": "744d7639"
   },
   "source": [
    "## Откройте таблицу и изучите общую информацию о данных"
   ]
  },
  {
   "cell_type": "markdown",
   "id": "20cd4cdb",
   "metadata": {
    "deletable": false,
    "editable": false,
    "id": "e7a14c31"
   },
   "source": [
    "**Задание 1. Импортируйте библиотеку pandas. Считайте данные из csv-файла в датафрейм и сохраните в переменную `data`. Путь к файлу:**\n",
    "\n",
    "`/datasets/data.csv`"
   ]
  },
  {
   "cell_type": "code",
   "execution_count": 1,
   "id": "21eebca3",
   "metadata": {},
   "outputs": [],
   "source": [
    "# импортируем вспомогательные библиотеки и устанавливаем тип сетки диаграмм\n",
    "import pandas as pd\n",
    "import matplotlib.pyplot as plt\n",
    "import seaborn as sns\n",
    "sns.set_style(\"whitegrid\")"
   ]
  },
  {
   "cell_type": "code",
   "execution_count": 2,
   "id": "080ebd25",
   "metadata": {
    "deletable": false,
    "id": "7bcf75c9"
   },
   "outputs": [],
   "source": [
    "data = pd.read_csv('/datasets/data.csv')"
   ]
  },
  {
   "cell_type": "markdown",
   "id": "052390fa",
   "metadata": {
    "deletable": false,
    "editable": false,
    "id": "b8038fe3"
   },
   "source": [
    "**Задание 2. Выведите первые 20 строчек датафрейма `data` на экран.**"
   ]
  },
  {
   "cell_type": "code",
   "execution_count": 3,
   "id": "6fc14e87",
   "metadata": {
    "deletable": false,
    "id": "2a7cab99",
    "outputId": "1a8f3ef2-d323-4ec2-ddf7-89670b5944c4"
   },
   "outputs": [
    {
     "data": {
      "text/html": [
       "<div>\n",
       "<style scoped>\n",
       "    .dataframe tbody tr th:only-of-type {\n",
       "        vertical-align: middle;\n",
       "    }\n",
       "\n",
       "    .dataframe tbody tr th {\n",
       "        vertical-align: top;\n",
       "    }\n",
       "\n",
       "    .dataframe thead th {\n",
       "        text-align: right;\n",
       "    }\n",
       "</style>\n",
       "<table border=\"1\" class=\"dataframe\">\n",
       "  <thead>\n",
       "    <tr style=\"text-align: right;\">\n",
       "      <th></th>\n",
       "      <th>children</th>\n",
       "      <th>days_employed</th>\n",
       "      <th>dob_years</th>\n",
       "      <th>education</th>\n",
       "      <th>education_id</th>\n",
       "      <th>family_status</th>\n",
       "      <th>family_status_id</th>\n",
       "      <th>gender</th>\n",
       "      <th>income_type</th>\n",
       "      <th>debt</th>\n",
       "      <th>total_income</th>\n",
       "      <th>purpose</th>\n",
       "    </tr>\n",
       "  </thead>\n",
       "  <tbody>\n",
       "    <tr>\n",
       "      <th>0</th>\n",
       "      <td>1</td>\n",
       "      <td>-8437.673028</td>\n",
       "      <td>42</td>\n",
       "      <td>высшее</td>\n",
       "      <td>0</td>\n",
       "      <td>женат / замужем</td>\n",
       "      <td>0</td>\n",
       "      <td>F</td>\n",
       "      <td>сотрудник</td>\n",
       "      <td>0</td>\n",
       "      <td>253875.639453</td>\n",
       "      <td>покупка жилья</td>\n",
       "    </tr>\n",
       "    <tr>\n",
       "      <th>1</th>\n",
       "      <td>1</td>\n",
       "      <td>-4024.803754</td>\n",
       "      <td>36</td>\n",
       "      <td>среднее</td>\n",
       "      <td>1</td>\n",
       "      <td>женат / замужем</td>\n",
       "      <td>0</td>\n",
       "      <td>F</td>\n",
       "      <td>сотрудник</td>\n",
       "      <td>0</td>\n",
       "      <td>112080.014102</td>\n",
       "      <td>приобретение автомобиля</td>\n",
       "    </tr>\n",
       "    <tr>\n",
       "      <th>2</th>\n",
       "      <td>0</td>\n",
       "      <td>-5623.422610</td>\n",
       "      <td>33</td>\n",
       "      <td>Среднее</td>\n",
       "      <td>1</td>\n",
       "      <td>женат / замужем</td>\n",
       "      <td>0</td>\n",
       "      <td>M</td>\n",
       "      <td>сотрудник</td>\n",
       "      <td>0</td>\n",
       "      <td>145885.952297</td>\n",
       "      <td>покупка жилья</td>\n",
       "    </tr>\n",
       "    <tr>\n",
       "      <th>3</th>\n",
       "      <td>3</td>\n",
       "      <td>-4124.747207</td>\n",
       "      <td>32</td>\n",
       "      <td>среднее</td>\n",
       "      <td>1</td>\n",
       "      <td>женат / замужем</td>\n",
       "      <td>0</td>\n",
       "      <td>M</td>\n",
       "      <td>сотрудник</td>\n",
       "      <td>0</td>\n",
       "      <td>267628.550329</td>\n",
       "      <td>дополнительное образование</td>\n",
       "    </tr>\n",
       "    <tr>\n",
       "      <th>4</th>\n",
       "      <td>0</td>\n",
       "      <td>340266.072047</td>\n",
       "      <td>53</td>\n",
       "      <td>среднее</td>\n",
       "      <td>1</td>\n",
       "      <td>гражданский брак</td>\n",
       "      <td>1</td>\n",
       "      <td>F</td>\n",
       "      <td>пенсионер</td>\n",
       "      <td>0</td>\n",
       "      <td>158616.077870</td>\n",
       "      <td>сыграть свадьбу</td>\n",
       "    </tr>\n",
       "    <tr>\n",
       "      <th>5</th>\n",
       "      <td>0</td>\n",
       "      <td>-926.185831</td>\n",
       "      <td>27</td>\n",
       "      <td>высшее</td>\n",
       "      <td>0</td>\n",
       "      <td>гражданский брак</td>\n",
       "      <td>1</td>\n",
       "      <td>M</td>\n",
       "      <td>компаньон</td>\n",
       "      <td>0</td>\n",
       "      <td>255763.565419</td>\n",
       "      <td>покупка жилья</td>\n",
       "    </tr>\n",
       "    <tr>\n",
       "      <th>6</th>\n",
       "      <td>0</td>\n",
       "      <td>-2879.202052</td>\n",
       "      <td>43</td>\n",
       "      <td>высшее</td>\n",
       "      <td>0</td>\n",
       "      <td>женат / замужем</td>\n",
       "      <td>0</td>\n",
       "      <td>F</td>\n",
       "      <td>компаньон</td>\n",
       "      <td>0</td>\n",
       "      <td>240525.971920</td>\n",
       "      <td>операции с жильем</td>\n",
       "    </tr>\n",
       "    <tr>\n",
       "      <th>7</th>\n",
       "      <td>0</td>\n",
       "      <td>-152.779569</td>\n",
       "      <td>50</td>\n",
       "      <td>СРЕДНЕЕ</td>\n",
       "      <td>1</td>\n",
       "      <td>женат / замужем</td>\n",
       "      <td>0</td>\n",
       "      <td>M</td>\n",
       "      <td>сотрудник</td>\n",
       "      <td>0</td>\n",
       "      <td>135823.934197</td>\n",
       "      <td>образование</td>\n",
       "    </tr>\n",
       "    <tr>\n",
       "      <th>8</th>\n",
       "      <td>2</td>\n",
       "      <td>-6929.865299</td>\n",
       "      <td>35</td>\n",
       "      <td>ВЫСШЕЕ</td>\n",
       "      <td>0</td>\n",
       "      <td>гражданский брак</td>\n",
       "      <td>1</td>\n",
       "      <td>F</td>\n",
       "      <td>сотрудник</td>\n",
       "      <td>0</td>\n",
       "      <td>95856.832424</td>\n",
       "      <td>на проведение свадьбы</td>\n",
       "    </tr>\n",
       "    <tr>\n",
       "      <th>9</th>\n",
       "      <td>0</td>\n",
       "      <td>-2188.756445</td>\n",
       "      <td>41</td>\n",
       "      <td>среднее</td>\n",
       "      <td>1</td>\n",
       "      <td>женат / замужем</td>\n",
       "      <td>0</td>\n",
       "      <td>M</td>\n",
       "      <td>сотрудник</td>\n",
       "      <td>0</td>\n",
       "      <td>144425.938277</td>\n",
       "      <td>покупка жилья для семьи</td>\n",
       "    </tr>\n",
       "    <tr>\n",
       "      <th>10</th>\n",
       "      <td>2</td>\n",
       "      <td>-4171.483647</td>\n",
       "      <td>36</td>\n",
       "      <td>высшее</td>\n",
       "      <td>0</td>\n",
       "      <td>женат / замужем</td>\n",
       "      <td>0</td>\n",
       "      <td>M</td>\n",
       "      <td>компаньон</td>\n",
       "      <td>0</td>\n",
       "      <td>113943.491460</td>\n",
       "      <td>покупка недвижимости</td>\n",
       "    </tr>\n",
       "    <tr>\n",
       "      <th>11</th>\n",
       "      <td>0</td>\n",
       "      <td>-792.701887</td>\n",
       "      <td>40</td>\n",
       "      <td>среднее</td>\n",
       "      <td>1</td>\n",
       "      <td>женат / замужем</td>\n",
       "      <td>0</td>\n",
       "      <td>F</td>\n",
       "      <td>сотрудник</td>\n",
       "      <td>0</td>\n",
       "      <td>77069.234271</td>\n",
       "      <td>покупка коммерческой недвижимости</td>\n",
       "    </tr>\n",
       "    <tr>\n",
       "      <th>12</th>\n",
       "      <td>0</td>\n",
       "      <td>NaN</td>\n",
       "      <td>65</td>\n",
       "      <td>среднее</td>\n",
       "      <td>1</td>\n",
       "      <td>гражданский брак</td>\n",
       "      <td>1</td>\n",
       "      <td>M</td>\n",
       "      <td>пенсионер</td>\n",
       "      <td>0</td>\n",
       "      <td>NaN</td>\n",
       "      <td>сыграть свадьбу</td>\n",
       "    </tr>\n",
       "    <tr>\n",
       "      <th>13</th>\n",
       "      <td>0</td>\n",
       "      <td>-1846.641941</td>\n",
       "      <td>54</td>\n",
       "      <td>неоконченное высшее</td>\n",
       "      <td>2</td>\n",
       "      <td>женат / замужем</td>\n",
       "      <td>0</td>\n",
       "      <td>F</td>\n",
       "      <td>сотрудник</td>\n",
       "      <td>0</td>\n",
       "      <td>130458.228857</td>\n",
       "      <td>приобретение автомобиля</td>\n",
       "    </tr>\n",
       "    <tr>\n",
       "      <th>14</th>\n",
       "      <td>0</td>\n",
       "      <td>-1844.956182</td>\n",
       "      <td>56</td>\n",
       "      <td>высшее</td>\n",
       "      <td>0</td>\n",
       "      <td>гражданский брак</td>\n",
       "      <td>1</td>\n",
       "      <td>F</td>\n",
       "      <td>компаньон</td>\n",
       "      <td>1</td>\n",
       "      <td>165127.911772</td>\n",
       "      <td>покупка жилой недвижимости</td>\n",
       "    </tr>\n",
       "    <tr>\n",
       "      <th>15</th>\n",
       "      <td>1</td>\n",
       "      <td>-972.364419</td>\n",
       "      <td>26</td>\n",
       "      <td>среднее</td>\n",
       "      <td>1</td>\n",
       "      <td>женат / замужем</td>\n",
       "      <td>0</td>\n",
       "      <td>F</td>\n",
       "      <td>сотрудник</td>\n",
       "      <td>0</td>\n",
       "      <td>116820.904450</td>\n",
       "      <td>строительство собственной недвижимости</td>\n",
       "    </tr>\n",
       "    <tr>\n",
       "      <th>16</th>\n",
       "      <td>0</td>\n",
       "      <td>-1719.934226</td>\n",
       "      <td>35</td>\n",
       "      <td>среднее</td>\n",
       "      <td>1</td>\n",
       "      <td>женат / замужем</td>\n",
       "      <td>0</td>\n",
       "      <td>F</td>\n",
       "      <td>сотрудник</td>\n",
       "      <td>0</td>\n",
       "      <td>289202.704229</td>\n",
       "      <td>недвижимость</td>\n",
       "    </tr>\n",
       "    <tr>\n",
       "      <th>17</th>\n",
       "      <td>0</td>\n",
       "      <td>-2369.999720</td>\n",
       "      <td>33</td>\n",
       "      <td>высшее</td>\n",
       "      <td>0</td>\n",
       "      <td>гражданский брак</td>\n",
       "      <td>1</td>\n",
       "      <td>M</td>\n",
       "      <td>сотрудник</td>\n",
       "      <td>0</td>\n",
       "      <td>90410.586745</td>\n",
       "      <td>строительство недвижимости</td>\n",
       "    </tr>\n",
       "    <tr>\n",
       "      <th>18</th>\n",
       "      <td>0</td>\n",
       "      <td>400281.136913</td>\n",
       "      <td>53</td>\n",
       "      <td>среднее</td>\n",
       "      <td>1</td>\n",
       "      <td>вдовец / вдова</td>\n",
       "      <td>2</td>\n",
       "      <td>F</td>\n",
       "      <td>пенсионер</td>\n",
       "      <td>0</td>\n",
       "      <td>56823.777243</td>\n",
       "      <td>на покупку подержанного автомобиля</td>\n",
       "    </tr>\n",
       "    <tr>\n",
       "      <th>19</th>\n",
       "      <td>0</td>\n",
       "      <td>-10038.818549</td>\n",
       "      <td>48</td>\n",
       "      <td>СРЕДНЕЕ</td>\n",
       "      <td>1</td>\n",
       "      <td>в разводе</td>\n",
       "      <td>3</td>\n",
       "      <td>F</td>\n",
       "      <td>сотрудник</td>\n",
       "      <td>0</td>\n",
       "      <td>242831.107982</td>\n",
       "      <td>на покупку своего автомобиля</td>\n",
       "    </tr>\n",
       "  </tbody>\n",
       "</table>\n",
       "</div>"
      ],
      "text/plain": [
       "    children  days_employed  dob_years            education  education_id  \\\n",
       "0          1   -8437.673028         42               высшее             0   \n",
       "1          1   -4024.803754         36              среднее             1   \n",
       "2          0   -5623.422610         33              Среднее             1   \n",
       "3          3   -4124.747207         32              среднее             1   \n",
       "4          0  340266.072047         53              среднее             1   \n",
       "5          0    -926.185831         27               высшее             0   \n",
       "6          0   -2879.202052         43               высшее             0   \n",
       "7          0    -152.779569         50              СРЕДНЕЕ             1   \n",
       "8          2   -6929.865299         35               ВЫСШЕЕ             0   \n",
       "9          0   -2188.756445         41              среднее             1   \n",
       "10         2   -4171.483647         36               высшее             0   \n",
       "11         0    -792.701887         40              среднее             1   \n",
       "12         0            NaN         65              среднее             1   \n",
       "13         0   -1846.641941         54  неоконченное высшее             2   \n",
       "14         0   -1844.956182         56               высшее             0   \n",
       "15         1    -972.364419         26              среднее             1   \n",
       "16         0   -1719.934226         35              среднее             1   \n",
       "17         0   -2369.999720         33               высшее             0   \n",
       "18         0  400281.136913         53              среднее             1   \n",
       "19         0  -10038.818549         48              СРЕДНЕЕ             1   \n",
       "\n",
       "       family_status  family_status_id gender income_type  debt  \\\n",
       "0    женат / замужем                 0      F   сотрудник     0   \n",
       "1    женат / замужем                 0      F   сотрудник     0   \n",
       "2    женат / замужем                 0      M   сотрудник     0   \n",
       "3    женат / замужем                 0      M   сотрудник     0   \n",
       "4   гражданский брак                 1      F   пенсионер     0   \n",
       "5   гражданский брак                 1      M   компаньон     0   \n",
       "6    женат / замужем                 0      F   компаньон     0   \n",
       "7    женат / замужем                 0      M   сотрудник     0   \n",
       "8   гражданский брак                 1      F   сотрудник     0   \n",
       "9    женат / замужем                 0      M   сотрудник     0   \n",
       "10   женат / замужем                 0      M   компаньон     0   \n",
       "11   женат / замужем                 0      F   сотрудник     0   \n",
       "12  гражданский брак                 1      M   пенсионер     0   \n",
       "13   женат / замужем                 0      F   сотрудник     0   \n",
       "14  гражданский брак                 1      F   компаньон     1   \n",
       "15   женат / замужем                 0      F   сотрудник     0   \n",
       "16   женат / замужем                 0      F   сотрудник     0   \n",
       "17  гражданский брак                 1      M   сотрудник     0   \n",
       "18    вдовец / вдова                 2      F   пенсионер     0   \n",
       "19         в разводе                 3      F   сотрудник     0   \n",
       "\n",
       "     total_income                                 purpose  \n",
       "0   253875.639453                           покупка жилья  \n",
       "1   112080.014102                 приобретение автомобиля  \n",
       "2   145885.952297                           покупка жилья  \n",
       "3   267628.550329              дополнительное образование  \n",
       "4   158616.077870                         сыграть свадьбу  \n",
       "5   255763.565419                           покупка жилья  \n",
       "6   240525.971920                       операции с жильем  \n",
       "7   135823.934197                             образование  \n",
       "8    95856.832424                   на проведение свадьбы  \n",
       "9   144425.938277                 покупка жилья для семьи  \n",
       "10  113943.491460                    покупка недвижимости  \n",
       "11   77069.234271       покупка коммерческой недвижимости  \n",
       "12            NaN                         сыграть свадьбу  \n",
       "13  130458.228857                 приобретение автомобиля  \n",
       "14  165127.911772              покупка жилой недвижимости  \n",
       "15  116820.904450  строительство собственной недвижимости  \n",
       "16  289202.704229                            недвижимость  \n",
       "17   90410.586745              строительство недвижимости  \n",
       "18   56823.777243      на покупку подержанного автомобиля  \n",
       "19  242831.107982            на покупку своего автомобиля  "
      ]
     },
     "execution_count": 3,
     "metadata": {},
     "output_type": "execute_result"
    }
   ],
   "source": [
    "data.head(20)"
   ]
  },
  {
   "cell_type": "markdown",
   "id": "5283d904",
   "metadata": {
    "deletable": false,
    "editable": false,
    "id": "1c12e233"
   },
   "source": [
    "**Задание 3. Выведите основную информацию о датафрейме с помощью метода `info()`.**"
   ]
  },
  {
   "cell_type": "code",
   "execution_count": 4,
   "id": "fc7080ee",
   "metadata": {
    "deletable": false,
    "id": "2b757bca",
    "outputId": "15376089-8dad-46c9-b520-c05248d43158"
   },
   "outputs": [
    {
     "name": "stdout",
     "output_type": "stream",
     "text": [
      "<class 'pandas.core.frame.DataFrame'>\n",
      "RangeIndex: 21525 entries, 0 to 21524\n",
      "Data columns (total 12 columns):\n",
      " #   Column            Non-Null Count  Dtype  \n",
      "---  ------            --------------  -----  \n",
      " 0   children          21525 non-null  int64  \n",
      " 1   days_employed     19351 non-null  float64\n",
      " 2   dob_years         21525 non-null  int64  \n",
      " 3   education         21525 non-null  object \n",
      " 4   education_id      21525 non-null  int64  \n",
      " 5   family_status     21525 non-null  object \n",
      " 6   family_status_id  21525 non-null  int64  \n",
      " 7   gender            21525 non-null  object \n",
      " 8   income_type       21525 non-null  object \n",
      " 9   debt              21525 non-null  int64  \n",
      " 10  total_income      19351 non-null  float64\n",
      " 11  purpose           21525 non-null  object \n",
      "dtypes: float64(2), int64(5), object(5)\n",
      "memory usage: 2.0+ MB\n"
     ]
    }
   ],
   "source": [
    "data.info()"
   ]
  },
  {
   "cell_type": "markdown",
   "id": "56a2df59",
   "metadata": {
    "deletable": false,
    "editable": false,
    "id": "333ec665"
   },
   "source": [
    "## Предобработка данных"
   ]
  },
  {
   "cell_type": "markdown",
   "id": "46a9910b",
   "metadata": {
    "deletable": false,
    "editable": false,
    "id": "02d92d53"
   },
   "source": [
    "### Удаление пропусков"
   ]
  },
  {
   "cell_type": "markdown",
   "id": "7f4534a5",
   "metadata": {
    "deletable": false,
    "editable": false,
    "id": "cd84967c"
   },
   "source": [
    "**Задание 4. Выведите количество пропущенных значений для каждого столбца. Используйте комбинацию двух методов.**"
   ]
  },
  {
   "cell_type": "code",
   "execution_count": 5,
   "id": "db8307b4",
   "metadata": {
    "deletable": false,
    "id": "7f9b2309",
    "outputId": "81f4d817-781c-465c-ed15-91ce4446810d"
   },
   "outputs": [
    {
     "data": {
      "text/plain": [
       "children               0\n",
       "days_employed       2174\n",
       "dob_years              0\n",
       "education              0\n",
       "education_id           0\n",
       "family_status          0\n",
       "family_status_id       0\n",
       "gender                 0\n",
       "income_type            0\n",
       "debt                   0\n",
       "total_income        2174\n",
       "purpose                0\n",
       "dtype: int64"
      ]
     },
     "execution_count": 5,
     "metadata": {},
     "output_type": "execute_result"
    }
   ],
   "source": [
    "data.isna().sum()"
   ]
  },
  {
   "cell_type": "markdown",
   "id": "74c9ac6f",
   "metadata": {
    "deletable": false,
    "editable": false,
    "id": "db86e27b"
   },
   "source": [
    "**Задание 5. В двух столбцах есть пропущенные значения. Один из них — `days_employed`. Пропуски в этом столбце вы обработаете на следующем этапе. Другой столбец с пропущенными значениями — `total_income` — хранит данные о доходах. На сумму дохода сильнее всего влияет тип занятости, поэтому заполнить пропуски в этом столбце нужно медианным значением по каждому типу из столбца `income_type`. Например, у человека с типом занятости `сотрудник` пропуск в столбце `total_income` должен быть заполнен медианным доходом среди всех записей с тем же типом.**"
   ]
  },
  {
   "cell_type": "code",
   "execution_count": 6,
   "id": "e508fe77",
   "metadata": {
    "deletable": false,
    "id": "42006a93"
   },
   "outputs": [],
   "source": [
    "for t in data['income_type'].unique():\n",
    "    data.loc[(data['income_type'] == t) & (data['total_income'].isna()), 'total_income'] = \\\n",
    "    data.loc[(data['income_type'] == t), 'total_income'].median()"
   ]
  },
  {
   "cell_type": "markdown",
   "id": "7803aba2",
   "metadata": {
    "deletable": false,
    "editable": false,
    "id": "89da5ece"
   },
   "source": [
    "### Обработка аномальных значений"
   ]
  },
  {
   "cell_type": "markdown",
   "id": "c5daff14",
   "metadata": {
    "deletable": false,
    "editable": false,
    "id": "57964554"
   },
   "source": [
    "**Задание 6. В данных могут встречаться артефакты (аномалии) — значения, которые не отражают действительность и появились по какой-то ошибке. таким артефактом будет отрицательное количество дней трудового стажа в столбце `days_employed`. Для реальных данных это нормально. Обработайте значения в этом столбце: замените все отрицательные значения положительными с помощью метода `abs()`.**"
   ]
  },
  {
   "cell_type": "code",
   "execution_count": 7,
   "id": "59a7d0f2",
   "metadata": {
    "deletable": false,
    "id": "f6f055bf"
   },
   "outputs": [],
   "source": [
    "data['days_employed'] = data['days_employed'].abs()"
   ]
  },
  {
   "cell_type": "markdown",
   "id": "6235d926",
   "metadata": {
    "deletable": false,
    "editable": false,
    "id": "6107dd2f"
   },
   "source": [
    "**Задание 7. Для каждого типа занятости выведите медианное значение трудового стажа `days_employed` в днях.**"
   ]
  },
  {
   "cell_type": "code",
   "execution_count": 8,
   "id": "880cbf2f",
   "metadata": {
    "deletable": false,
    "id": "85a5faf6",
    "outputId": "801ef80e-522b-4668-f34e-565af7432bcf"
   },
   "outputs": [
    {
     "data": {
      "text/plain": [
       "income_type\n",
       "безработный        366413.652744\n",
       "в декрете            3296.759962\n",
       "госслужащий          2689.368353\n",
       "компаньон            1547.382223\n",
       "пенсионер          365213.306266\n",
       "предприниматель       520.848083\n",
       "сотрудник            1574.202821\n",
       "студент               578.751554\n",
       "Name: days_employed, dtype: float64"
      ]
     },
     "execution_count": 8,
     "metadata": {},
     "output_type": "execute_result"
    }
   ],
   "source": [
    "data.groupby('income_type')['days_employed'].agg('median')"
   ]
  },
  {
   "cell_type": "markdown",
   "id": "b33b6d43",
   "metadata": {
    "deletable": false,
    "editable": false,
    "id": "38d1a030"
   },
   "source": [
    "У двух типов (безработные и пенсионеры) получатся аномально большие значения. Исправить такие значения сложно, поэтому оставьте их как есть. Тем более этот столбец не понадобится вам для исследования."
   ]
  },
  {
   "cell_type": "markdown",
   "id": "c1b0e307",
   "metadata": {
    "deletable": false,
    "editable": false,
    "id": "d8a9f147"
   },
   "source": [
    "**Задание 8. Выведите перечень уникальных значений столбца `children`.**"
   ]
  },
  {
   "cell_type": "code",
   "execution_count": 9,
   "id": "d2da7f10",
   "metadata": {
    "deletable": false,
    "id": "ef5056eb",
    "outputId": "6975b15c-7f95-4697-d16d-a0c79b657b03"
   },
   "outputs": [
    {
     "data": {
      "text/plain": [
       "array([ 1,  0,  3,  2, -1,  4, 20,  5])"
      ]
     },
     "execution_count": 9,
     "metadata": {},
     "output_type": "execute_result"
    }
   ],
   "source": [
    "data['children'].unique()"
   ]
  },
  {
   "cell_type": "markdown",
   "id": "49b0b138",
   "metadata": {
    "deletable": false,
    "editable": false,
    "id": "40b9ebf2"
   },
   "source": [
    "**Задание 9. В столбце `children` есть два аномальных значения. Удалите строки, в которых встречаются такие аномальные значения из датафрейма `data`.**"
   ]
  },
  {
   "cell_type": "code",
   "execution_count": 10,
   "id": "7953c0fa",
   "metadata": {
    "deletable": false,
    "id": "3ff9801d"
   },
   "outputs": [],
   "source": [
    "data = data[(data['children'] != -1) & (data['children'] != 20)]"
   ]
  },
  {
   "cell_type": "markdown",
   "id": "5e368ce2",
   "metadata": {
    "deletable": false,
    "editable": false,
    "id": "bbc4d0ce"
   },
   "source": [
    "**Задание 10. Ещё раз выведите перечень уникальных значений столбца `children`, чтобы убедиться, что артефакты удалены.**"
   ]
  },
  {
   "cell_type": "code",
   "execution_count": 11,
   "id": "3e4f2670",
   "metadata": {
    "deletable": false,
    "id": "ad4fa8b7",
    "outputId": "b2097101-d49d-44d9-901b-32a65c9463d1"
   },
   "outputs": [
    {
     "data": {
      "text/plain": [
       "array([1, 0, 3, 2, 4, 5])"
      ]
     },
     "execution_count": 11,
     "metadata": {},
     "output_type": "execute_result"
    }
   ],
   "source": [
    "data['children'].unique()"
   ]
  },
  {
   "cell_type": "markdown",
   "id": "4866e110",
   "metadata": {
    "deletable": false,
    "editable": false,
    "id": "75440b63"
   },
   "source": [
    "### Удаление пропусков (продолжение)"
   ]
  },
  {
   "cell_type": "markdown",
   "id": "a72a33d4",
   "metadata": {
    "deletable": false,
    "editable": false,
    "id": "f4ea573f"
   },
   "source": [
    "**Задание 11. Заполните пропуски в столбце `days_employed` медианными значениями по каждого типа занятости `income_type`.**"
   ]
  },
  {
   "cell_type": "code",
   "execution_count": 12,
   "id": "a249ee94",
   "metadata": {
    "deletable": false,
    "id": "af6b1a7e"
   },
   "outputs": [],
   "source": [
    "for t in data['income_type'].unique():\n",
    "    data.loc[(data['income_type'] == t) & (data['days_employed'].isna()), 'days_employed'] = \\\n",
    "    data.loc[(data['income_type'] == t), 'days_employed'].median()"
   ]
  },
  {
   "cell_type": "markdown",
   "id": "c15631f7",
   "metadata": {
    "deletable": false,
    "editable": false,
    "id": "2753f40d"
   },
   "source": [
    "**Задание 12. Убедитесь, что все пропуски заполнены. Проверьте себя и ещё раз выведите количество пропущенных значений для каждого столбца с помощью двух методов.**"
   ]
  },
  {
   "cell_type": "code",
   "execution_count": 13,
   "id": "67aafcdf",
   "metadata": {
    "deletable": false,
    "id": "55f78bc2",
    "outputId": "8da1e4e1-358e-4e87-98c9-f261bce0a7b2"
   },
   "outputs": [
    {
     "data": {
      "text/plain": [
       "children            0\n",
       "days_employed       0\n",
       "dob_years           0\n",
       "education           0\n",
       "education_id        0\n",
       "family_status       0\n",
       "family_status_id    0\n",
       "gender              0\n",
       "income_type         0\n",
       "debt                0\n",
       "total_income        0\n",
       "purpose             0\n",
       "dtype: int64"
      ]
     },
     "execution_count": 13,
     "metadata": {},
     "output_type": "execute_result"
    }
   ],
   "source": [
    "data.isna().sum()"
   ]
  },
  {
   "cell_type": "markdown",
   "id": "ba6b4007",
   "metadata": {
    "deletable": false,
    "editable": false,
    "id": "ddc81e43"
   },
   "source": [
    "### Изменение типов данных"
   ]
  },
  {
   "cell_type": "markdown",
   "id": "9e82ae0a",
   "metadata": {
    "deletable": false,
    "editable": false,
    "id": "42d19d24"
   },
   "source": [
    "**Задание 13. Замените вещественный тип данных в столбце `total_income` на целочисленный с помощью метода `astype()`.**"
   ]
  },
  {
   "cell_type": "code",
   "execution_count": 14,
   "id": "6393e5c6",
   "metadata": {
    "deletable": false,
    "id": "920b65ad"
   },
   "outputs": [],
   "source": [
    "data['total_income'] = data['total_income'].astype(int)"
   ]
  },
  {
   "cell_type": "markdown",
   "id": "ea6a87ac",
   "metadata": {
    "deletable": false,
    "editable": false,
    "id": "80c420ba"
   },
   "source": [
    "### Обработка дубликатов"
   ]
  },
  {
   "cell_type": "markdown",
   "id": "a3121095",
   "metadata": {
    "deletable": false,
    "editable": false
   },
   "source": [
    "**Задание 14. Обработайте неявные дубликаты в столбце `education`. В этом столбце есть одни и те же значения, но записанные по-разному: с использованием заглавных и строчных букв. Приведите их к нижнему регистру. Проверьте остальные столбцы.**"
   ]
  },
  {
   "cell_type": "code",
   "execution_count": 15,
   "id": "081c4bcd",
   "metadata": {
    "deletable": false
   },
   "outputs": [],
   "source": [
    "data['education'] = data['education'].str.lower()"
   ]
  },
  {
   "cell_type": "markdown",
   "id": "d4525b7f",
   "metadata": {
    "deletable": false,
    "editable": false,
    "id": "dc587695"
   },
   "source": [
    "**Задание 15. Выведите на экран количество строк-дубликатов в данных. Если такие строки присутствуют, удалите их.**"
   ]
  },
  {
   "cell_type": "code",
   "execution_count": 16,
   "id": "3a37581b",
   "metadata": {
    "deletable": false,
    "id": "3ee445e4",
    "outputId": "9684deba-1934-42d1-99e1-cda61740f822"
   },
   "outputs": [
    {
     "data": {
      "text/plain": [
       "71"
      ]
     },
     "execution_count": 16,
     "metadata": {},
     "output_type": "execute_result"
    }
   ],
   "source": [
    "data.duplicated().sum()"
   ]
  },
  {
   "cell_type": "code",
   "execution_count": 17,
   "id": "80bef2a6",
   "metadata": {
    "deletable": false,
    "id": "8575fe05"
   },
   "outputs": [],
   "source": [
    "data = data.drop_duplicates()"
   ]
  },
  {
   "cell_type": "markdown",
   "id": "d54354d7",
   "metadata": {
    "deletable": false,
    "editable": false,
    "id": "9904cf55"
   },
   "source": [
    "### Категоризация данных"
   ]
  },
  {
   "cell_type": "markdown",
   "id": "6a8275f5",
   "metadata": {
    "deletable": false,
    "editable": false,
    "id": "72fcc8a2"
   },
   "source": [
    "**Задание 16. На основании диапазонов, указанных ниже, создайте в датафрейме `data` столбец `total_income_category` с категориями:**\n",
    "\n",
    "- 0–30000 — `'E'`;\n",
    "- 30001–50000 — `'D'`;\n",
    "- 50001–200000 — `'C'`;\n",
    "- 200001–1000000 — `'B'`;\n",
    "- 1000001 и выше — `'A'`.\n",
    "\n",
    "\n",
    "**Например, кредитополучателю с доходом 25000 нужно назначить категорию `'E'`, а клиенту, получающему 235000, — `'B'`. Используйте собственную функцию с именем `categorize_income()` и метод `apply()`.**"
   ]
  },
  {
   "cell_type": "code",
   "execution_count": 18,
   "id": "c16290b5",
   "metadata": {
    "deletable": false,
    "id": "e1771346"
   },
   "outputs": [],
   "source": [
    "def categorize_income(income):\n",
    "    try:\n",
    "        if 0 <= income <= 30000:\n",
    "            return 'E'\n",
    "        elif 30001 <= income <= 50000:\n",
    "            return 'D'\n",
    "        elif 50001 <= income <= 200000:\n",
    "            return 'C'\n",
    "        elif 200001 <= income <= 1000000:\n",
    "            return 'B'\n",
    "        elif income >= 1000001:\n",
    "            return 'A'\n",
    "    except:\n",
    "        pass"
   ]
  },
  {
   "cell_type": "code",
   "execution_count": 19,
   "id": "b6572e08",
   "metadata": {
    "deletable": false,
    "id": "d5f3586d"
   },
   "outputs": [],
   "source": [
    "data['total_income_category'] = data['total_income'].apply(categorize_income)"
   ]
  },
  {
   "cell_type": "markdown",
   "id": "547c2ca0",
   "metadata": {
    "deletable": false,
    "editable": false,
    "id": "dde49b5c"
   },
   "source": [
    "**Задание 17. Выведите на экран перечень уникальных целей взятия кредита из столбца `purpose`.**"
   ]
  },
  {
   "cell_type": "code",
   "execution_count": 20,
   "id": "75c99d27",
   "metadata": {
    "deletable": false,
    "id": "f67ce9b3",
    "outputId": "673c12d9-7d7e-4ae0-9812-c622c89dd244"
   },
   "outputs": [
    {
     "data": {
      "text/plain": [
       "array(['покупка жилья', 'приобретение автомобиля',\n",
       "       'дополнительное образование', 'сыграть свадьбу',\n",
       "       'операции с жильем', 'образование', 'на проведение свадьбы',\n",
       "       'покупка жилья для семьи', 'покупка недвижимости',\n",
       "       'покупка коммерческой недвижимости', 'покупка жилой недвижимости',\n",
       "       'строительство собственной недвижимости', 'недвижимость',\n",
       "       'строительство недвижимости', 'на покупку подержанного автомобиля',\n",
       "       'на покупку своего автомобиля',\n",
       "       'операции с коммерческой недвижимостью',\n",
       "       'строительство жилой недвижимости', 'жилье',\n",
       "       'операции со своей недвижимостью', 'автомобили',\n",
       "       'заняться образованием', 'сделка с подержанным автомобилем',\n",
       "       'получение образования', 'автомобиль', 'свадьба',\n",
       "       'получение дополнительного образования', 'покупка своего жилья',\n",
       "       'операции с недвижимостью', 'получение высшего образования',\n",
       "       'свой автомобиль', 'сделка с автомобилем',\n",
       "       'профильное образование', 'высшее образование',\n",
       "       'покупка жилья для сдачи', 'на покупку автомобиля', 'ремонт жилью',\n",
       "       'заняться высшим образованием'], dtype=object)"
      ]
     },
     "execution_count": 20,
     "metadata": {},
     "output_type": "execute_result"
    }
   ],
   "source": [
    "data['purpose'].unique()"
   ]
  },
  {
   "cell_type": "markdown",
   "id": "23e17cd2",
   "metadata": {
    "deletable": false,
    "editable": false,
    "id": "85d0aef0"
   },
   "source": [
    "**Задание 18. Создайте функцию, которая на основании данных из столбца `purpose` сформирует новый столбец `purpose_category`, в который войдут следующие категории:**\n",
    "\n",
    "- `'операции с автомобилем'`,\n",
    "- `'операции с недвижимостью'`,\n",
    "- `'проведение свадьбы'`,\n",
    "- `'получение образования'`.\n",
    "\n",
    "**Например, если в столбце `purpose` находится подстрока `'на покупку автомобиля'`, то в столбце `purpose_category` должна появиться строка `'операции с автомобилем'`.**\n",
    "\n",
    "**Используйте собственную функцию с именем `categorize_purpose()` и метод `apply()`. Изучите данные в столбце `purpose` и определите, какие подстроки помогут вам правильно определить категорию.**"
   ]
  },
  {
   "cell_type": "code",
   "execution_count": 21,
   "id": "5d983eef",
   "metadata": {
    "deletable": false,
    "id": "e149fab4"
   },
   "outputs": [],
   "source": [
    "def categorize_purpose(row):\n",
    "    try:\n",
    "        if 'автом' in row:\n",
    "            return 'операции с автомобилем'\n",
    "        elif 'жил' in row or 'недвиж' in row:\n",
    "            return 'операции с недвижимостью'\n",
    "        elif 'свад' in row:\n",
    "            return 'проведение свадьбы'\n",
    "        elif 'образов' in row:\n",
    "            return 'получение образования'\n",
    "    except:\n",
    "        return 'нет категории'"
   ]
  },
  {
   "cell_type": "code",
   "execution_count": 22,
   "id": "8f5b0b8a",
   "metadata": {
    "deletable": false,
    "id": "bf36e69b"
   },
   "outputs": [],
   "source": [
    "data['purpose_category'] = data['purpose'].apply(categorize_purpose)"
   ]
  },
  {
   "cell_type": "markdown",
   "id": "e0d31647",
   "metadata": {
    "deletable": false,
    "editable": false,
    "id": "09b242bf"
   },
   "source": [
    "### Шаг 3. Исследуйте данные и ответьте на вопросы"
   ]
  },
  {
   "cell_type": "markdown",
   "id": "3cc9b506",
   "metadata": {
    "deletable": false,
    "editable": false,
    "id": "c5d66278"
   },
   "source": [
    "#### 3.1 Есть ли зависимость между количеством детей и возвратом кредита в срок?"
   ]
  },
  {
   "cell_type": "code",
   "execution_count": 23,
   "id": "2e1e49bd",
   "metadata": {},
   "outputs": [
    {
     "data": {
      "text/plain": [
       "'Средний процент возврата кредита по всем заемщикам составляет 91.88%'"
      ]
     },
     "execution_count": 23,
     "metadata": {},
     "output_type": "execute_result"
    }
   ],
   "source": [
    "# Найдем средний процент возврата кредита по всем данным\n",
    "debt_mean_percent = (1 - data['debt'].sum() / data['debt'].count()) * 100\n",
    "f\"Средний процент возврата кредита по всем заемщикам составляет {debt_mean_percent:.2f}%\""
   ]
  },
  {
   "cell_type": "code",
   "execution_count": 24,
   "id": "7959ea18",
   "metadata": {},
   "outputs": [],
   "source": [
    "# функция для расчета отклонения от среднего процента возврата кредита\n",
    "def deviation_from_the_mean(value):\n",
    "    return (1 - value.mean()) * 100 - debt_mean_percent"
   ]
  },
  {
   "cell_type": "code",
   "execution_count": 25,
   "id": "2e8f311a",
   "metadata": {},
   "outputs": [
    {
     "name": "stdout",
     "output_type": "stream",
     "text": [
      "Заемщики без детей берут кредит в 2 раза чаще, чем заемщики с детьми\n"
     ]
    }
   ],
   "source": [
    "# Посмотрим во сколько раз количество вязтых кредитов в группе без детей \n",
    "# дольше количества  кредитов, вязтых заемщиками с детьми\n",
    "ratio = data[data['children'] == 0]['debt'].count() / data[data['children'] > 0]['debt'].count()\n",
    "print(f'Заемщики без детей берут кредит в {ratio:.0f} раза чаще, чем заемщики с детьми')"
   ]
  },
  {
   "cell_type": "code",
   "execution_count": 26,
   "id": "bee51983",
   "metadata": {
    "deletable": false,
    "id": "2cacfc4a"
   },
   "outputs": [
    {
     "data": {
      "text/plain": [
       "<AxesSubplot:title={'center':'Общее число взятых кредитов в группах с разным числом детей'}, xlabel='Количество детей у заемщика', ylabel='Количество взятых кредитов'>"
      ]
     },
     "execution_count": 26,
     "metadata": {},
     "output_type": "execute_result"
    },
    {
     "data": {
      "image/png": "[encoded data removed]",
      "text/plain": [
       "<Figure size 648x360 with 1 Axes>"
      ]
     },
     "metadata": {},
     "output_type": "display_data"
    }
   ],
   "source": [
    "# Посмотрим общее количество взятых кредитов в зависимости от количества детей\n",
    "plt.figure(figsize=(9, 5))\n",
    "chart = sns.barplot(\n",
    "    x=sorted(data['children'].unique()), \n",
    "    y=data.groupby('children')['debt'].count(),\n",
    "    palette='crest'\n",
    ")\n",
    "chart.set_title('Общее число взятых кредитов в группах с разным числом детей')\n",
    "plt.xlabel(\"Количество детей у заемщика\")\n",
    "plt.ylabel(\"Количество взятых кредитов\")\n",
    "chart"
   ]
  },
  {
   "cell_type": "code",
   "execution_count": 27,
   "id": "a58cb4cc",
   "metadata": {},
   "outputs": [
    {
     "data": {
      "text/plain": [
       "<AxesSubplot:title={'center':'Отклонение от среднего значения процента возврата кредита\\n в группах с разным числом детей'}, xlabel='Количество детей у заемщика', ylabel='Отклонение'>"
      ]
     },
     "execution_count": 27,
     "metadata": {},
     "output_type": "execute_result"
    },
    {
     "data": {
      "image/png": "[encoded data removed]",
      "text/plain": [
       "<Figure size 648x360 with 1 Axes>"
      ]
     },
     "metadata": {},
     "output_type": "display_data"
    }
   ],
   "source": [
    "# найдем отклонение от среднего значения процента возврата кредита \n",
    "# для групп с разным количеством детей\n",
    "\n",
    "plt.figure(figsize=(9, 5))\n",
    "chart = sns.barplot(\n",
    "    x=sorted(data['children'].unique()),\n",
    "    y=data.groupby(data['children']).agg({'debt':deviation_from_the_mean})['debt'],\n",
    "    palette=['#306844', '#c30101', '#c30101', '#c30101', '#c30101', '#306844'])\n",
    "chart.set_title('Отклонение от среднего значения процента возврата кредита\\n в группах с разным числом детей')\n",
    "plt.xlabel(\"Количество детей у заемщика\")\n",
    "plt.ylabel(\"Отклонение\")\n",
    "chart"
   ]
  },
  {
   "cell_type": "markdown",
   "id": "c7ccfe87",
   "metadata": {
    "deletable": false,
    "id": "3a6b99ec"
   },
   "source": [
    "**Вывод**\n",
    "\n",
    "   Выявлена зависимость между количеством детей и возвратом кредита в срок:\n",
    "    \n",
    " - <u>Процент возврата</u> кредита <u>выше среднего значения</u> в группах заемщиков <u>без детей и с 5-ю детьми</u>.\n",
    " \n",
    " \n",
    " - <u>Выше всего риск</u> возникновения <u>задолженности</u> по кредиту наблюдается <u>в группе заемщиков с четырьмя детьми</u>.\n",
    "\n",
    "**Дополнительные результаты исследования**\n",
    "\n",
    " -  Заемщики без детей берут кредит в 2 раза чаще, чем земщики с детьми. \n",
    " -  Процент невозврата кредита составил 0% только для семей с 5-ю детьми.\n"
   ]
  },
  {
   "cell_type": "markdown",
   "id": "f1dd00f9",
   "metadata": {
    "deletable": false,
    "editable": false,
    "id": "97be82ca"
   },
   "source": [
    "#### 3.2 Есть ли зависимость между семейным положением и возвратом кредита в срок?"
   ]
  },
  {
   "cell_type": "code",
   "execution_count": 28,
   "id": "696a28bb",
   "metadata": {
    "deletable": false,
    "id": "dc3f7ee8"
   },
   "outputs": [
    {
     "data": {
      "text/plain": [
       "<AxesSubplot:title={'center':'Общее количество взятых кредитов в зависимости от семейного положения'}, xlabel='Семейное положение', ylabel='Количество взятых кредитов'>"
      ]
     },
     "execution_count": 28,
     "metadata": {},
     "output_type": "execute_result"
    },
    {
     "data": {
      "image/png": "[encoded data removed]",
      "text/plain": [
       "<Figure size 648x360 with 1 Axes>"
      ]
     },
     "metadata": {},
     "output_type": "display_data"
    }
   ],
   "source": [
    "# Посмотрим общее количество взятых кредитов в зависимости от семейного положения\n",
    "plt.figure(figsize=(9, 5))\n",
    "plt.xticks(rotation=45, ha='right')\n",
    "chart = sns.barplot(\n",
    "    y=data.groupby(data['family_status'])['debt'].count(),\n",
    "    x=data.groupby(data['family_status'])['debt'].count().index,\n",
    "    palette='crest'\n",
    ")\n",
    "chart.set_title('Общее количество взятых кредитов в зависимости от семейного положения')\n",
    "plt.xlabel(\"Семейное положение\")\n",
    "plt.ylabel(\"Количество взятых кредитов\")\n",
    "chart"
   ]
  },
  {
   "cell_type": "code",
   "execution_count": 29,
   "id": "075c9f08",
   "metadata": {},
   "outputs": [
    {
     "data": {
      "text/plain": [
       "<AxesSubplot:title={'center':'Отклонение от среднего значения процента возврата кредита\\nв группах с разным семейным положением'}, xlabel='Семейное положение', ylabel='Отклонение'>"
      ]
     },
     "execution_count": 29,
     "metadata": {},
     "output_type": "execute_result"
    },
    {
     "data": {
      "image/png": "[encoded data removed]",
      "text/plain": [
       "<Figure size 648x360 with 1 Axes>"
      ]
     },
     "metadata": {},
     "output_type": "display_data"
    }
   ],
   "source": [
    "# найдем отклонение от среднего значения процента возврата кредита \n",
    "# для групп с разным семейным положением\n",
    "plt.figure(figsize=(9, 5))\n",
    "plt.xticks(rotation=45, ha='right')\n",
    "chart = sns.barplot(\n",
    "    y=data.groupby(data['family_status']).agg({'debt':deviation_from_the_mean})['debt'],\n",
    "    x=data.groupby(data['family_status'])['debt'].count().index,\n",
    "    palette=['#c30101', '#306844', '#306844', '#c30101', '#306844'] \n",
    ")\n",
    "chart.set_title('Отклонение от среднего значения процента возврата кредита\\nв группах с разным семейным положением')\n",
    "plt.xlabel(\"Семейное положение\")\n",
    "plt.ylabel(\"Отклонение\")\n",
    "chart"
   ]
  },
  {
   "cell_type": "markdown",
   "id": "9bc410c9",
   "metadata": {
    "deletable": false,
    "id": "1cef7837"
   },
   "source": [
    "**Вывод** \n",
    "\n",
    "Выявлена зависимость между семейным положением и возвратом кредита в срок:\n",
    "\n",
    "<u>Ниже всего</u> процент возврата кредита в группе заемщиков, <u>никогда не состоявших в зарегистрированном браке.</u>\n",
    " \n",
    " **Дополнительные результаты исследования:**\n",
    " - Чаще всего берут кредит заемщики, состоящие в браке.\n",
    " - Процент возврата кредита выше среднего в группах со следующими статусами семейного положения: \"вдовец / вдова\", \"в разводе\", \"женат / замужем\". "
   ]
  },
  {
   "cell_type": "markdown",
   "id": "59defaf1",
   "metadata": {},
   "source": [
    "Мне кажется, что причина в уровне ответственности. Люди, которые привыкли нести ответственность не только за себя, но и за других (или даже просто ранее имели такой опыт), переносят этот опыт из сферы межличностных отношений  в сферу финансовых.\n",
    "\n",
    "Еще одна причина – опыт планирования своих расходов. При планировании расходов всей семьи больше статей обязательных расходов. Как результат, каждый раз, когда хотим что-либо купить, начинаем думать, насколько это важно для нас, есть ли необходимость покупать эту вещь именно сейчас, может, запланировать ее на следующий месяц. Этот же алгоритм работает и при выплате кредита."
   ]
  },
  {
   "cell_type": "markdown",
   "id": "e8ee5eaa",
   "metadata": {
    "deletable": false,
    "editable": false,
    "id": "1e8b2fca"
   },
   "source": [
    "#### 3.3 Есть ли зависимость между уровнем дохода и возвратом кредита в срок?"
   ]
  },
  {
   "cell_type": "code",
   "execution_count": 30,
   "id": "7585d9e5",
   "metadata": {},
   "outputs": [],
   "source": [
    "# создадим список уровней дохода в более читабельном варианте\n",
    "income_level = [\n",
    "    '1 000 000 и выше', \n",
    "    '200 000 – 1 000 000',\n",
    "    '50 000 – 200 000',\n",
    "    '30 000 – 50 000',\n",
    "    'менее 30 000'\n",
    "]"
   ]
  },
  {
   "cell_type": "code",
   "execution_count": 31,
   "id": "daa3a5aa",
   "metadata": {
    "deletable": false,
    "id": "cd7e3720"
   },
   "outputs": [
    {
     "data": {
      "text/plain": [
       "<AxesSubplot:title={'center':'Общее количество взятых кредитов в зависимости от уровня дохода'}, xlabel='Уровень дохода', ylabel='Количество взятых кредитов'>"
      ]
     },
     "execution_count": 31,
     "metadata": {},
     "output_type": "execute_result"
    },
    {
     "data": {
      "image/png": "[encoded data removed]",
      "text/plain": [
       "<Figure size 648x360 with 1 Axes>"
      ]
     },
     "metadata": {},
     "output_type": "display_data"
    }
   ],
   "source": [
    "# Посмотрим общее количество взятых кредитов в зависимости от уровня дохода\n",
    "plt.figure(figsize=(9, 5))\n",
    "plt.xticks(rotation=45, ha='right')\n",
    "chart = sns.barplot(\n",
    "    x=income_level,\n",
    "    y=data.groupby(data['total_income_category'])['debt'].count(),\n",
    "    palette='crest'\n",
    ")\n",
    "chart.set_title('Общее количество взятых кредитов в зависимости от уровня дохода')\n",
    "plt.xlabel(\"Уровень дохода\")\n",
    "plt.ylabel(\"Количество взятых кредитов\")\n",
    "chart"
   ]
  },
  {
   "cell_type": "code",
   "execution_count": 32,
   "id": "96b4e6e5",
   "metadata": {},
   "outputs": [
    {
     "data": {
      "text/plain": [
       "<AxesSubplot:title={'center':'Отклонение от среднего значения процента возврата кредита\\nв группах с разным уровнем дохода'}, xlabel='Уровень дохода', ylabel='Отклонение'>"
      ]
     },
     "execution_count": 32,
     "metadata": {},
     "output_type": "execute_result"
    },
    {
     "data": {
      "image/png": "[encoded data removed]",
      "text/plain": [
       "<Figure size 648x360 with 1 Axes>"
      ]
     },
     "metadata": {},
     "output_type": "display_data"
    }
   ],
   "source": [
    "# найдем отклонение от среднего значения процента возврата кредита \n",
    "# для групп с разным уровнем дохода\n",
    "plt.figure(figsize=(9, 5))\n",
    "plt.xticks(rotation=45, ha='right')\n",
    "chart = sns.barplot(\n",
    "    x=income_level,\n",
    "    y=data.groupby(data['total_income_category']).agg({'debt':deviation_from_the_mean})['debt'],\n",
    "    palette=['#306844', '#306844', '#c30101','#306844', '#c30101']\n",
    ")\n",
    "chart.set_title('Отклонение от среднего значения процента возврата кредита\\nв группах с разным уровнем дохода')\n",
    "plt.xlabel(\"Уровень дохода\")\n",
    "plt.ylabel(\"Отклонение\")\n",
    "chart"
   ]
  },
  {
   "cell_type": "markdown",
   "id": "7a085389",
   "metadata": {
    "deletable": false,
    "id": "e8593def"
   },
   "source": [
    "**Вывод** \n",
    "\n",
    "Выявлена зависимость между уровнем дохода и возвратом кредита в срок:\n",
    "\n",
    " - <u>Выше</u> всего процент возврата кредита в группе <u>с уровнем дохода 30 000 - 50 000 </u> рублей в месяц.\n",
    " \n",
    " \n",
    " - <u>Ниже</u> всего процент возврата в группе с уровнем дохода <u>ниже 30 000</u> рублей в месяц.\n",
    "\n",
    "**Дополнительные результаты исследования**\n",
    " - Чаще всего кредит берут заемщики со средним уровнем дохода.\n",
    " - Процент возврата кредита выше среднего значения в группах с уровнем дохода 30 - 50 тысяч рублей и больше 200 000 рублей в месяц."
   ]
  },
  {
   "cell_type": "markdown",
   "id": "c3f11e61",
   "metadata": {
    "deletable": false,
    "editable": false,
    "id": "99ecbd1f"
   },
   "source": [
    "#### 3.4 Как разные цели кредита влияют на его возврат в срок?"
   ]
  },
  {
   "cell_type": "code",
   "execution_count": 33,
   "id": "f125c1e0",
   "metadata": {
    "deletable": false,
    "id": "2b687290"
   },
   "outputs": [
    {
     "data": {
      "text/plain": [
       "<AxesSubplot:title={'center':'Общее количество взятых кредитов в зависимости от цели кредита'}, xlabel='Цель кредита', ylabel='Количество взятых кредитов'>"
      ]
     },
     "execution_count": 33,
     "metadata": {},
     "output_type": "execute_result"
    },
    {
     "data": {
      "image/png": "[encoded data removed]",
      "text/plain": [
       "<Figure size 648x360 with 1 Axes>"
      ]
     },
     "metadata": {},
     "output_type": "display_data"
    }
   ],
   "source": [
    "# Посмотрим общее количество взятых кредитов в зависимости от цели кредита\n",
    "plt.figure(figsize=(9, 5))\n",
    "plt.xticks(rotation=45, ha='right')\n",
    "chart = sns.barplot(\n",
    "    x=sorted(data['purpose_category'].unique()),\n",
    "    y=data.groupby(data['purpose_category'])['debt'].count(),\n",
    "    palette='crest'\n",
    ")\n",
    "chart.set_title('Общее количество взятых кредитов в зависимости от цели кредита')\n",
    "plt.xlabel(\"Цель кредита\")\n",
    "plt.ylabel(\"Количество взятых кредитов\")\n",
    "chart"
   ]
  },
  {
   "cell_type": "code",
   "execution_count": 34,
   "id": "1c34da23",
   "metadata": {},
   "outputs": [
    {
     "data": {
      "text/plain": [
       "<AxesSubplot:title={'center':'Отклонение от среднего значения процента возврата кредита\\nв группах с разными целями кредита'}, xlabel='Цель получения кредита', ylabel='Отклонение'>"
      ]
     },
     "execution_count": 34,
     "metadata": {},
     "output_type": "execute_result"
    },
    {
     "data": {
      "image/png": "[encoded data removed]",
      "text/plain": [
       "<Figure size 648x360 with 1 Axes>"
      ]
     },
     "metadata": {},
     "output_type": "display_data"
    }
   ],
   "source": [
    "# найдем отклонение от среднего значения процента возврата кредита \n",
    "# по группам в зависимости от цели кредита\n",
    "plt.figure(figsize=(9, 5))\n",
    "plt.xticks(rotation=45, ha='right')\n",
    "chart = sns.barplot(\n",
    "    x=sorted(data['purpose_category'].unique()),\n",
    "    y=data.pivot_table(\n",
    "        index='purpose_category', \n",
    "        values='debt', \n",
    "        aggfunc=deviation_from_the_mean\n",
    "    )['debt'],\n",
    "    palette=['#c30101', '#306844', '#c30101','#306844']\n",
    ")\n",
    "chart.set_title('Отклонение от среднего значения процента возврата кредита\\nв группах с разными целями кредита')\n",
    "plt.xlabel(\"Цель получения кредита\")\n",
    "plt.ylabel(\"Отклонение\")\n",
    "chart"
   ]
  },
  {
   "cell_type": "markdown",
   "id": "a6005c7e",
   "metadata": {
    "deletable": false,
    "id": "b4bb2ce6"
   },
   "source": [
    "**Вывод** \n",
    "\n",
    "Выявлена зависимость между уровнем дохода и возвратом кредита в срок:\n",
    "\n",
    " - <u>Самый высокий процент</u> возврата кредита наблюдается в группе кредитов на <u>операции с недвижимостью</u>.\n",
    " \n",
    " \n",
    " - Процент возврата кредита <u>ниже среднего</u> значения для кредитов на <u>операции с автомобилем и получение образования</u>.\n",
    "\n",
    "**Дополнительные результаты исследования**\n",
    " - Чаще всего кредиты берут для проведения операций с недвижимостью. \n",
    " - Процент возврата кредита выдше среднего в группах \"операции с недвижимостью\" и \"проведение свадьбы\"."
   ]
  },
  {
   "cell_type": "markdown",
   "id": "0b0b1c3a",
   "metadata": {},
   "source": [
    "#### 3.4_1 Как уровень дохода и цели кредита влияют на его возврат в срок?"
   ]
  },
  {
   "cell_type": "code",
   "execution_count": 35,
   "id": "f24e187e",
   "metadata": {},
   "outputs": [
    {
     "data": {
      "text/html": [
       "<div>\n",
       "<style scoped>\n",
       "    .dataframe tbody tr th:only-of-type {\n",
       "        vertical-align: middle;\n",
       "    }\n",
       "\n",
       "    .dataframe tbody tr th {\n",
       "        vertical-align: top;\n",
       "    }\n",
       "\n",
       "    .dataframe thead th {\n",
       "        text-align: right;\n",
       "    }\n",
       "</style>\n",
       "<table border=\"1\" class=\"dataframe\">\n",
       "  <thead>\n",
       "    <tr style=\"text-align: right;\">\n",
       "      <th>total_income_category</th>\n",
       "      <th>A</th>\n",
       "      <th>B</th>\n",
       "      <th>C</th>\n",
       "      <th>D</th>\n",
       "      <th>E</th>\n",
       "    </tr>\n",
       "    <tr>\n",
       "      <th>purpose_category</th>\n",
       "      <th></th>\n",
       "      <th></th>\n",
       "      <th></th>\n",
       "      <th></th>\n",
       "      <th></th>\n",
       "    </tr>\n",
       "  </thead>\n",
       "  <tbody>\n",
       "    <tr>\n",
       "      <th>операции с автомобилем</th>\n",
       "      <td>2</td>\n",
       "      <td>1022</td>\n",
       "      <td>3181</td>\n",
       "      <td>72</td>\n",
       "      <td>2</td>\n",
       "    </tr>\n",
       "    <tr>\n",
       "      <th>операции с недвижимостью</th>\n",
       "      <td>17</td>\n",
       "      <td>2558</td>\n",
       "      <td>7997</td>\n",
       "      <td>168</td>\n",
       "      <td>11</td>\n",
       "    </tr>\n",
       "    <tr>\n",
       "      <th>получение образования</th>\n",
       "      <td>4</td>\n",
       "      <td>890</td>\n",
       "      <td>3014</td>\n",
       "      <td>75</td>\n",
       "      <td>5</td>\n",
       "    </tr>\n",
       "    <tr>\n",
       "      <th>проведение свадьбы</th>\n",
       "      <td>2</td>\n",
       "      <td>544</td>\n",
       "      <td>1729</td>\n",
       "      <td>34</td>\n",
       "      <td>4</td>\n",
       "    </tr>\n",
       "  </tbody>\n",
       "</table>\n",
       "</div>"
      ],
      "text/plain": [
       "total_income_category      A     B     C    D   E\n",
       "purpose_category                                 \n",
       "операции с автомобилем     2  1022  3181   72   2\n",
       "операции с недвижимостью  17  2558  7997  168  11\n",
       "получение образования      4   890  3014   75   5\n",
       "проведение свадьбы         2   544  1729   34   4"
      ]
     },
     "execution_count": 35,
     "metadata": {},
     "output_type": "execute_result"
    }
   ],
   "source": [
    "# Посмотрим, как меняется количество взятых кредитов\n",
    "# в зависимости от уровня дохода заемщика и цели кредита\n",
    "data.pivot_table(\n",
    "    index='purpose_category', \n",
    "    columns='total_income_category', \n",
    "    values='debt', \n",
    "    aggfunc='count'\n",
    ")"
   ]
  },
  {
   "cell_type": "code",
   "execution_count": 36,
   "id": "78c66eff",
   "metadata": {},
   "outputs": [],
   "source": [
    "# отбросим столбцы, содержащие слишком мало данных\n",
    "income_and_purpose_df = data[\n",
    "    (data['total_income_category'] > 'A') \n",
    "    & (data['total_income_category'] < 'E')]"
   ]
  },
  {
   "cell_type": "code",
   "execution_count": 37,
   "id": "19f9a6b6",
   "metadata": {},
   "outputs": [],
   "source": [
    "# найдем отклонение от среднего значения процента возврата кредита \n",
    "# по группам в зависимости от цели кредита и уровня дохода\n",
    "income_and_purpose_df = income_and_purpose_df.pivot_table(\n",
    "    index='purpose_category', \n",
    "    columns='total_income_category', \n",
    "    values='debt', \n",
    "    aggfunc=deviation_from_the_mean\n",
    ")"
   ]
  },
  {
   "cell_type": "code",
   "execution_count": 38,
   "id": "239e2904",
   "metadata": {},
   "outputs": [
    {
     "data": {
      "text/plain": [
       "Text(59.99999999999999, 0.5, 'Цель получения кредита')"
      ]
     },
     "execution_count": 38,
     "metadata": {},
     "output_type": "execute_result"
    },
    {
     "data": {
      "image/png": "[encoded data removed]",
      "text/plain": [
       "<Figure size 648x360 with 2 Axes>"
      ]
     },
     "metadata": {},
     "output_type": "display_data"
    }
   ],
   "source": [
    "# построим тепловую карту для большей наглядности\n",
    "plt.figure(figsize=(9, 5))\n",
    "plt.xticks(rotation=45, ha='right')\n",
    "chart = sns.heatmap(\n",
    "    income_and_purpose_df, \n",
    "    annot=True,\n",
    "    xticklabels=income_level[1:-1]    \n",
    ")\n",
    "chart.set_title(\n",
    "    \"\"\"Отклонение от среднего значения процента возврата кредита\n",
    "    в группах с разными целями кредита и уровнем дохода\"\"\"\n",
    ")\n",
    "plt.xlabel(\"Уровень дохода\")\n",
    "plt.ylabel(\"Цель получения кредита\")"
   ]
  },
  {
   "cell_type": "markdown",
   "id": "841fec6e",
   "metadata": {},
   "source": [
    "**Вывод** \n",
    "\n",
    "Выявлена зависимость между уровнем дохода, целями кредита и возвратом средств в срок:\n",
    "\n",
    " - <u>Самый высокий процент</u> возврата кредита наблюдается в группе кредитов, выданных заемщикам <u>с невысоким уровнем дохода</u> (30 000 - 50 000) <u>на получение образования и операции с недвижимостью</u>.\n",
    " \n",
    " \n",
    " - <u>Самый низкий процент</u> возврата кредита  наблюдается в группе кредитов, выданных заемщикам <u>с невысоким уровнем дохода</u> (30 000 - 50 000) <u>на операции с автомобилем</u>."
   ]
  },
  {
   "cell_type": "markdown",
   "id": "53ac1016",
   "metadata": {
    "deletable": false,
    "editable": false,
    "id": "09c3ac4c"
   },
   "source": [
    "#### 3.5 Приведите возможные причины появления пропусков в исходных данных."
   ]
  },
  {
   "cell_type": "markdown",
   "id": "1e04cb12",
   "metadata": {
    "deletable": false,
    "id": "9da2ceda"
   },
   "source": [
    "*Ответ:* В приведенном наборе данных пропуски присутствуют в столбцах с величиной трудового стажа и общего дохода. <b>Причины</b> этого могли быть следующие:\n",
    "<ol>\n",
    "    <li><b>Различный тип занятости.</b> В случае ИП и фриланса учет стажа и дохода ложится на самого заемщика.</li>\n",
    "    <li><b>Недостаточная степень оцифрованниости персональных данных.</b> Например, если часть трудовой деятельности пришлась на период до введения цифрового документооборота.</li>\n",
    "    <li><b>Намеренное сокрытие данных.</b> В случае фриланса недобросовестный работник может занижать доходы для уменьшения налоговых выплат.</li>\n",
    "    <li><b>Человеческий фактор.</b> Ненамеренное случайное искажение данных при внесении учетных записей в базу.</li>\n",
    "</ol>"
   ]
  },
  {
   "cell_type": "markdown",
   "id": "0ecdc6c3",
   "metadata": {
    "deletable": false,
    "editable": false,
    "id": "7b0487d6"
   },
   "source": [
    "#### 3.6 Объясните, почему заполнить пропуски медианным значением — лучшее решение для количественных переменных."
   ]
  },
  {
   "cell_type": "markdown",
   "id": "cff33136",
   "metadata": {
    "deletable": false,
    "id": "7ecf2b8e"
   },
   "source": [
    "*Ответ:* \n",
    "Для количественных переменных существует много способов рассчитать значение для заполнения пропуска. Преимущества использоавния медианного значения:\n",
    "<ol>\n",
    "    <li>Легко выполнить вычисления</li>\n",
    "    <li>Медиана корректнее описывает данные, если в них присутсвуют несколько значений, заметно отличающихся от большинства по величине</li>\n",
    "    <li>Медиану можно рассчитать не для всей выборки, а для отдельных подгрупп (в зависимости от какого-либо известного фактора, влияющего на обрабатываемую величину) и использовать эти значения для обработки пропусков</li>\n",
    "<ol>"
   ]
  },
  {
   "cell_type": "markdown",
   "id": "78ed8012",
   "metadata": {
    "deletable": false,
    "editable": false,
    "id": "6db5255a"
   },
   "source": [
    "### Шаг 4: общий вывод."
   ]
  },
  {
   "cell_type": "markdown",
   "id": "10ba7182",
   "metadata": {
    "deletable": false,
    "id": "bad65432"
   },
   "source": [
    "Проведено исследование о связи количества детей, семейного положения, уровня дохода и цели кредита с фактом возврата кредита в срок.\n",
    "\n",
    "**Основные результаты**\n",
    "\n",
    "Средний процент возврата кредита по всем заемщикам составляет 91.88%.\n",
    "\n",
    "\n",
    "Факторы, **положительно влияющие** на возврат кредита в срок: \n",
    " - заемщик либо не имеет детей либо имеет 5 детей.\n",
    " - заемщик указал семейное положение \"вдовец / вдова\", \"в разводе\" или \"женат / замужем\".\n",
    " - заемщик имеет уровень дохода 30 000 - 50 000 или выше 200 000 рублей в месяц.\n",
    " - заемщик берет кредит с целью проведения операций с недвижимостью.\n",
    "\n",
    "Группы заемщиков с **самыми низкими показателями возврата кредита**:\n",
    " - имеют четырех детей;\n",
    " - никогда не состояли в зарегистрированном браке;\n",
    " - имеют доходы ниже 30 000 рублей в месяц;\n",
    " - берут кредит на операции с автомобилем или получение образования."
   ]
  },
  {
   "cell_type": "code",
   "execution_count": null,
   "id": "040a3004-14d5-4249-a067-08ad1299361b",
   "metadata": {},
   "outputs": [],
   "source": []
  }
 ],
 "metadata": {
  "ExecuteTimeLog": [
   {
    "duration": 560,
    "start_time": "2022-11-22T17:15:08.342Z"
   },
   {
    "duration": 72,
    "start_time": "2022-11-22T17:15:18.684Z"
   },
   {
    "duration": 24,
    "start_time": "2022-11-22T17:15:18.758Z"
   },
   {
    "duration": 15,
    "start_time": "2022-11-22T17:15:18.783Z"
   },
   {
    "duration": 10,
    "start_time": "2022-11-22T17:15:18.799Z"
   },
   {
    "duration": 34,
    "start_time": "2022-11-22T17:15:18.810Z"
   },
   {
    "duration": 3,
    "start_time": "2022-11-22T17:15:18.846Z"
   },
   {
    "duration": 33,
    "start_time": "2022-11-22T17:15:18.851Z"
   },
   {
    "duration": 4,
    "start_time": "2022-11-22T17:15:18.885Z"
   },
   {
    "duration": 9,
    "start_time": "2022-11-22T17:15:18.890Z"
   },
   {
    "duration": 4,
    "start_time": "2022-11-22T17:15:18.901Z"
   },
   {
    "duration": 35,
    "start_time": "2022-11-22T17:15:18.906Z"
   },
   {
    "duration": 40,
    "start_time": "2022-11-22T17:15:18.942Z"
   },
   {
    "duration": 4,
    "start_time": "2022-11-22T17:15:18.983Z"
   },
   {
    "duration": 13,
    "start_time": "2022-11-22T17:15:18.988Z"
   },
   {
    "duration": 23,
    "start_time": "2022-11-22T17:15:19.003Z"
   },
   {
    "duration": 19,
    "start_time": "2022-11-22T17:15:19.027Z"
   },
   {
    "duration": 31,
    "start_time": "2022-11-22T17:15:19.048Z"
   },
   {
    "duration": 14,
    "start_time": "2022-11-22T17:15:19.080Z"
   },
   {
    "duration": 5,
    "start_time": "2022-11-22T17:15:19.096Z"
   },
   {
    "duration": 5,
    "start_time": "2022-11-22T17:15:19.103Z"
   },
   {
    "duration": 13,
    "start_time": "2022-11-22T17:15:19.110Z"
   },
   {
    "duration": 13,
    "start_time": "2022-11-22T17:15:19.125Z"
   },
   {
    "duration": 11,
    "start_time": "2022-11-22T17:15:19.139Z"
   },
   {
    "duration": 14,
    "start_time": "2022-11-22T17:15:19.152Z"
   },
   {
    "duration": 14,
    "start_time": "2022-11-22T17:15:19.168Z"
   },
   {
    "duration": 16,
    "start_time": "2022-11-22T17:17:38.782Z"
   },
   {
    "duration": 6,
    "start_time": "2022-11-22T17:21:12.217Z"
   },
   {
    "duration": 9,
    "start_time": "2022-11-22T17:22:58.584Z"
   },
   {
    "duration": 7,
    "start_time": "2022-11-22T17:23:08.331Z"
   },
   {
    "duration": 9,
    "start_time": "2022-11-22T17:27:51.671Z"
   },
   {
    "duration": 7,
    "start_time": "2022-11-22T17:28:03.209Z"
   },
   {
    "duration": 6,
    "start_time": "2022-11-22T17:28:13.891Z"
   },
   {
    "duration": 6,
    "start_time": "2022-11-22T17:28:20.024Z"
   },
   {
    "duration": 5,
    "start_time": "2022-11-22T17:30:05.170Z"
   },
   {
    "duration": 81,
    "start_time": "2022-11-22T17:30:45.310Z"
   },
   {
    "duration": 9,
    "start_time": "2022-11-22T17:33:02.990Z"
   },
   {
    "duration": 13,
    "start_time": "2022-11-22T17:33:17.070Z"
   },
   {
    "duration": 14,
    "start_time": "2022-11-22T17:34:19.240Z"
   },
   {
    "duration": 16,
    "start_time": "2022-11-22T17:34:35.574Z"
   },
   {
    "duration": 14,
    "start_time": "2022-11-22T17:34:51.223Z"
   },
   {
    "duration": 9,
    "start_time": "2022-11-22T17:36:38.409Z"
   },
   {
    "duration": 8,
    "start_time": "2022-11-22T17:37:01.192Z"
   },
   {
    "duration": 8,
    "start_time": "2022-11-22T17:37:06.585Z"
   },
   {
    "duration": 6,
    "start_time": "2022-11-22T17:37:36.489Z"
   },
   {
    "duration": 9,
    "start_time": "2022-11-22T17:38:55.834Z"
   },
   {
    "duration": 11,
    "start_time": "2022-11-22T17:39:17.650Z"
   },
   {
    "duration": 9,
    "start_time": "2022-11-22T17:49:31.282Z"
   },
   {
    "duration": 7,
    "start_time": "2022-11-22T17:51:20.747Z"
   },
   {
    "duration": 8,
    "start_time": "2022-11-22T17:51:45.643Z"
   },
   {
    "duration": 1006,
    "start_time": "2022-11-22T17:51:53.969Z"
   },
   {
    "duration": 520,
    "start_time": "2022-11-23T12:20:23.469Z"
   },
   {
    "duration": 24,
    "start_time": "2022-11-23T12:20:23.992Z"
   },
   {
    "duration": 22,
    "start_time": "2022-11-23T12:20:24.018Z"
   },
   {
    "duration": 33,
    "start_time": "2022-11-23T12:20:24.042Z"
   },
   {
    "duration": 69,
    "start_time": "2022-11-23T12:20:24.078Z"
   },
   {
    "duration": 4,
    "start_time": "2022-11-23T12:20:24.150Z"
   },
   {
    "duration": 27,
    "start_time": "2022-11-23T12:20:24.156Z"
   },
   {
    "duration": 14,
    "start_time": "2022-11-23T12:20:24.185Z"
   },
   {
    "duration": 43,
    "start_time": "2022-11-23T12:20:24.201Z"
   },
   {
    "duration": 44,
    "start_time": "2022-11-23T12:20:24.247Z"
   },
   {
    "duration": 47,
    "start_time": "2022-11-23T12:20:24.292Z"
   },
   {
    "duration": 9,
    "start_time": "2022-11-23T12:20:24.341Z"
   },
   {
    "duration": 17,
    "start_time": "2022-11-23T12:20:24.351Z"
   },
   {
    "duration": 31,
    "start_time": "2022-11-23T12:20:24.371Z"
   },
   {
    "duration": 45,
    "start_time": "2022-11-23T12:20:24.404Z"
   },
   {
    "duration": 18,
    "start_time": "2022-11-23T12:20:24.451Z"
   },
   {
    "duration": 25,
    "start_time": "2022-11-23T12:20:24.471Z"
   },
   {
    "duration": 28,
    "start_time": "2022-11-23T12:20:24.497Z"
   },
   {
    "duration": 34,
    "start_time": "2022-11-23T12:20:24.527Z"
   },
   {
    "duration": 9,
    "start_time": "2022-11-23T12:20:24.563Z"
   },
   {
    "duration": 37,
    "start_time": "2022-11-23T12:20:24.573Z"
   },
   {
    "duration": 34,
    "start_time": "2022-11-23T12:20:24.612Z"
   },
   {
    "duration": 1119,
    "start_time": "2022-11-23T12:20:24.648Z"
   },
   {
    "duration": 2,
    "start_time": "2022-11-23T12:20:25.769Z"
   },
   {
    "duration": 16,
    "start_time": "2022-11-23T12:20:25.772Z"
   },
   {
    "duration": 26,
    "start_time": "2022-11-23T12:20:25.790Z"
   },
   {
    "duration": 6,
    "start_time": "2022-11-23T12:21:50.748Z"
   },
   {
    "duration": 153,
    "start_time": "2022-11-23T12:23:52.545Z"
   },
   {
    "duration": 201,
    "start_time": "2022-11-23T12:24:22.089Z"
   },
   {
    "duration": 136,
    "start_time": "2022-11-23T12:24:27.280Z"
   },
   {
    "duration": 169,
    "start_time": "2022-11-23T12:28:51.698Z"
   },
   {
    "duration": 613,
    "start_time": "2022-11-23T12:34:38.992Z"
   },
   {
    "duration": 554,
    "start_time": "2022-11-23T12:34:55.880Z"
   },
   {
    "duration": 8,
    "start_time": "2022-11-23T12:35:08.758Z"
   },
   {
    "duration": 10,
    "start_time": "2022-11-23T12:35:40.701Z"
   },
   {
    "duration": 9,
    "start_time": "2022-11-23T12:36:21.992Z"
   },
   {
    "duration": 13,
    "start_time": "2022-11-23T12:40:02.420Z"
   },
   {
    "duration": 12,
    "start_time": "2022-11-23T12:40:13.915Z"
   },
   {
    "duration": 13,
    "start_time": "2022-11-23T12:40:19.498Z"
   },
   {
    "duration": 15,
    "start_time": "2022-11-23T12:41:51.315Z"
   },
   {
    "duration": 15,
    "start_time": "2022-11-23T12:42:10.452Z"
   },
   {
    "duration": 15,
    "start_time": "2022-11-23T12:42:27.546Z"
   },
   {
    "duration": 15,
    "start_time": "2022-11-23T12:43:53.120Z"
   },
   {
    "duration": 151,
    "start_time": "2022-11-23T12:46:17.300Z"
   },
   {
    "duration": 131,
    "start_time": "2022-11-23T12:46:34.477Z"
   },
   {
    "duration": 252,
    "start_time": "2022-11-23T12:46:55.417Z"
   },
   {
    "duration": 153,
    "start_time": "2022-11-23T12:58:41.073Z"
   },
   {
    "duration": 14,
    "start_time": "2022-11-23T13:52:29.405Z"
   },
   {
    "duration": 13,
    "start_time": "2022-11-23T13:52:43.799Z"
   },
   {
    "duration": 14,
    "start_time": "2022-11-23T13:53:03.056Z"
   },
   {
    "duration": 9,
    "start_time": "2022-11-23T13:53:56.047Z"
   },
   {
    "duration": 8,
    "start_time": "2022-11-23T14:07:07.631Z"
   },
   {
    "duration": 12,
    "start_time": "2022-11-23T14:08:26.007Z"
   },
   {
    "duration": 8,
    "start_time": "2022-11-23T14:08:35.726Z"
   },
   {
    "duration": 137,
    "start_time": "2022-11-23T14:09:34.913Z"
   },
   {
    "duration": 167,
    "start_time": "2022-11-23T14:10:25.161Z"
   },
   {
    "duration": 137,
    "start_time": "2022-11-23T14:13:30.887Z"
   },
   {
    "duration": 131,
    "start_time": "2022-11-23T14:13:49.988Z"
   },
   {
    "duration": 10,
    "start_time": "2022-11-23T14:14:17.803Z"
   },
   {
    "duration": 13,
    "start_time": "2022-11-23T14:14:26.250Z"
   },
   {
    "duration": 18,
    "start_time": "2022-11-23T14:15:05.405Z"
   },
   {
    "duration": 8,
    "start_time": "2022-11-23T14:16:47.942Z"
   },
   {
    "duration": 9,
    "start_time": "2022-11-23T14:17:01.516Z"
   },
   {
    "duration": 76,
    "start_time": "2022-11-23T14:17:56.911Z"
   },
   {
    "duration": 125,
    "start_time": "2022-11-23T14:18:06.404Z"
   },
   {
    "duration": 12,
    "start_time": "2022-11-23T14:19:16.753Z"
   },
   {
    "duration": 84,
    "start_time": "2022-11-23T14:20:20.810Z"
   },
   {
    "duration": 143,
    "start_time": "2022-11-23T14:20:34.216Z"
   },
   {
    "duration": 15,
    "start_time": "2022-11-23T14:21:09.921Z"
   },
   {
    "duration": 1083,
    "start_time": "2022-11-23T14:21:44.729Z"
   },
   {
    "duration": 8,
    "start_time": "2022-11-23T14:22:00.464Z"
   },
   {
    "duration": 8,
    "start_time": "2022-11-23T14:22:08.430Z"
   },
   {
    "duration": 4,
    "start_time": "2022-11-23T14:22:55.300Z"
   },
   {
    "duration": 12,
    "start_time": "2022-11-23T14:23:15.148Z"
   },
   {
    "duration": 11,
    "start_time": "2022-11-23T14:23:46.600Z"
   },
   {
    "duration": 132,
    "start_time": "2022-11-23T14:24:01.192Z"
   },
   {
    "duration": 9,
    "start_time": "2022-11-23T14:24:34.602Z"
   },
   {
    "duration": 6,
    "start_time": "2022-11-23T14:25:10.798Z"
   },
   {
    "duration": 6,
    "start_time": "2022-11-23T14:25:31.482Z"
   },
   {
    "duration": 130,
    "start_time": "2022-11-23T14:25:46.478Z"
   },
   {
    "duration": 71,
    "start_time": "2022-11-23T14:26:29.218Z"
   },
   {
    "duration": 135,
    "start_time": "2022-11-23T14:26:46.400Z"
   },
   {
    "duration": 151,
    "start_time": "2022-11-23T14:27:19.031Z"
   },
   {
    "duration": 209,
    "start_time": "2022-11-23T14:28:17.205Z"
   },
   {
    "duration": 201,
    "start_time": "2022-11-23T14:28:42.025Z"
   },
   {
    "duration": 132,
    "start_time": "2022-11-23T14:29:52.568Z"
   },
   {
    "duration": 127,
    "start_time": "2022-11-23T14:30:36.436Z"
   },
   {
    "duration": 132,
    "start_time": "2022-11-23T14:31:36.109Z"
   },
   {
    "duration": 21,
    "start_time": "2022-11-23T14:37:30.517Z"
   },
   {
    "duration": 133,
    "start_time": "2022-11-23T14:37:52.194Z"
   },
   {
    "duration": 151,
    "start_time": "2022-11-23T14:42:19.116Z"
   },
   {
    "duration": 153,
    "start_time": "2022-11-23T14:43:07.807Z"
   },
   {
    "duration": 140,
    "start_time": "2022-11-23T14:43:59.157Z"
   },
   {
    "duration": 131,
    "start_time": "2022-11-23T14:44:21.348Z"
   },
   {
    "duration": 135,
    "start_time": "2022-11-23T14:44:32.013Z"
   },
   {
    "duration": 141,
    "start_time": "2022-11-23T14:44:46.352Z"
   },
   {
    "duration": 140,
    "start_time": "2022-11-23T16:53:12.099Z"
   },
   {
    "duration": 126,
    "start_time": "2022-11-23T16:54:34.762Z"
   },
   {
    "duration": 130,
    "start_time": "2022-11-23T19:03:50.581Z"
   },
   {
    "duration": 234,
    "start_time": "2022-11-23T19:04:43.065Z"
   },
   {
    "duration": 716,
    "start_time": "2022-11-24T08:25:08.004Z"
   },
   {
    "duration": 78,
    "start_time": "2022-11-24T08:25:12.701Z"
   },
   {
    "duration": 24,
    "start_time": "2022-11-24T08:25:12.781Z"
   },
   {
    "duration": 15,
    "start_time": "2022-11-24T08:25:12.813Z"
   },
   {
    "duration": 15,
    "start_time": "2022-11-24T08:25:12.830Z"
   },
   {
    "duration": 36,
    "start_time": "2022-11-24T08:25:12.847Z"
   },
   {
    "duration": 4,
    "start_time": "2022-11-24T08:25:12.884Z"
   },
   {
    "duration": 29,
    "start_time": "2022-11-24T08:25:12.890Z"
   },
   {
    "duration": 20,
    "start_time": "2022-11-24T08:25:12.921Z"
   },
   {
    "duration": 11,
    "start_time": "2022-11-24T08:25:12.943Z"
   },
   {
    "duration": 4,
    "start_time": "2022-11-24T08:25:12.957Z"
   },
   {
    "duration": 36,
    "start_time": "2022-11-24T08:25:12.963Z"
   },
   {
    "duration": 11,
    "start_time": "2022-11-24T08:25:13.012Z"
   },
   {
    "duration": 14,
    "start_time": "2022-11-24T08:25:13.024Z"
   },
   {
    "duration": 18,
    "start_time": "2022-11-24T08:25:13.039Z"
   },
   {
    "duration": 24,
    "start_time": "2022-11-24T08:25:13.059Z"
   },
   {
    "duration": 32,
    "start_time": "2022-11-24T08:25:13.084Z"
   },
   {
    "duration": 4,
    "start_time": "2022-11-24T08:25:13.117Z"
   },
   {
    "duration": 15,
    "start_time": "2022-11-24T08:25:13.123Z"
   },
   {
    "duration": 11,
    "start_time": "2022-11-24T08:25:13.140Z"
   },
   {
    "duration": 4,
    "start_time": "2022-11-24T08:25:13.154Z"
   },
   {
    "duration": 18,
    "start_time": "2022-11-24T08:25:13.160Z"
   },
   {
    "duration": 1111,
    "start_time": "2022-11-24T08:25:13.180Z"
   },
   {
    "duration": 139,
    "start_time": "2022-11-24T08:25:14.294Z"
   },
   {
    "duration": 18,
    "start_time": "2022-11-24T08:25:14.435Z"
   },
   {
    "duration": 170,
    "start_time": "2022-11-24T08:25:14.455Z"
   },
   {
    "duration": 12,
    "start_time": "2022-11-24T08:25:14.627Z"
   },
   {
    "duration": 149,
    "start_time": "2022-11-24T08:25:14.641Z"
   },
   {
    "duration": 153,
    "start_time": "2022-11-24T08:25:14.793Z"
   },
   {
    "duration": 122,
    "start_time": "2022-11-24T08:25:14.948Z"
   },
   {
    "duration": 7,
    "start_time": "2022-11-24T08:25:15.072Z"
   },
   {
    "duration": 18,
    "start_time": "2022-11-24T08:25:15.081Z"
   },
   {
    "duration": 142,
    "start_time": "2022-11-24T08:25:15.101Z"
   },
   {
    "duration": 211,
    "start_time": "2022-11-24T08:25:15.245Z"
   },
   {
    "duration": 123,
    "start_time": "2022-11-24T08:26:19.867Z"
   },
   {
    "duration": 114,
    "start_time": "2022-11-24T08:27:20.796Z"
   },
   {
    "duration": 124,
    "start_time": "2022-11-24T08:28:07.664Z"
   },
   {
    "duration": 128,
    "start_time": "2022-11-24T08:28:48.724Z"
   },
   {
    "duration": 135,
    "start_time": "2022-11-24T08:28:58.741Z"
   },
   {
    "duration": 130,
    "start_time": "2022-11-24T08:29:12.637Z"
   },
   {
    "duration": 6,
    "start_time": "2022-11-24T08:29:46.356Z"
   },
   {
    "duration": 5,
    "start_time": "2022-11-24T08:30:06.431Z"
   },
   {
    "duration": 5,
    "start_time": "2022-11-24T08:31:14.590Z"
   },
   {
    "duration": 133,
    "start_time": "2022-11-24T08:34:30.017Z"
   },
   {
    "duration": 61,
    "start_time": "2022-11-24T08:34:40.632Z"
   },
   {
    "duration": 5,
    "start_time": "2022-11-24T08:35:12.872Z"
   },
   {
    "duration": 5,
    "start_time": "2022-11-24T08:35:20.833Z"
   },
   {
    "duration": 5,
    "start_time": "2022-11-24T08:35:25.753Z"
   },
   {
    "duration": 5,
    "start_time": "2022-11-24T08:36:10.440Z"
   },
   {
    "duration": 6,
    "start_time": "2022-11-24T08:37:03.729Z"
   },
   {
    "duration": 6,
    "start_time": "2022-11-24T08:37:40.049Z"
   },
   {
    "duration": 5,
    "start_time": "2022-11-24T08:41:25.789Z"
   },
   {
    "duration": 5,
    "start_time": "2022-11-24T08:42:21.812Z"
   },
   {
    "duration": 127,
    "start_time": "2022-11-24T08:42:41.220Z"
   },
   {
    "duration": 14,
    "start_time": "2022-11-24T08:44:12.669Z"
   },
   {
    "duration": 148,
    "start_time": "2022-11-24T08:45:41.600Z"
   },
   {
    "duration": 131,
    "start_time": "2022-11-24T08:46:16.192Z"
   },
   {
    "duration": 172,
    "start_time": "2022-11-24T08:47:03.857Z"
   },
   {
    "duration": 125,
    "start_time": "2022-11-24T08:47:54.976Z"
   },
   {
    "duration": 212,
    "start_time": "2022-11-24T08:48:22.840Z"
   },
   {
    "duration": 127,
    "start_time": "2022-11-24T08:49:39.513Z"
   },
   {
    "duration": 140,
    "start_time": "2022-11-24T08:50:39.172Z"
   },
   {
    "duration": 131,
    "start_time": "2022-11-24T08:54:55.093Z"
   },
   {
    "duration": 146,
    "start_time": "2022-11-24T08:55:24.719Z"
   },
   {
    "duration": 130,
    "start_time": "2022-11-24T08:56:00.168Z"
   },
   {
    "duration": 174,
    "start_time": "2022-11-24T08:56:25.741Z"
   },
   {
    "duration": 140,
    "start_time": "2022-11-24T08:56:37.916Z"
   },
   {
    "duration": 73,
    "start_time": "2022-11-24T10:13:46.620Z"
   },
   {
    "duration": 16,
    "start_time": "2022-11-24T10:13:46.695Z"
   },
   {
    "duration": 19,
    "start_time": "2022-11-24T10:13:46.712Z"
   },
   {
    "duration": 9,
    "start_time": "2022-11-24T10:13:46.732Z"
   },
   {
    "duration": 32,
    "start_time": "2022-11-24T10:13:46.742Z"
   },
   {
    "duration": 3,
    "start_time": "2022-11-24T10:13:46.776Z"
   },
   {
    "duration": 33,
    "start_time": "2022-11-24T10:13:46.780Z"
   },
   {
    "duration": 5,
    "start_time": "2022-11-24T10:13:46.815Z"
   },
   {
    "duration": 9,
    "start_time": "2022-11-24T10:13:46.821Z"
   },
   {
    "duration": 7,
    "start_time": "2022-11-24T10:13:46.832Z"
   },
   {
    "duration": 41,
    "start_time": "2022-11-24T10:13:46.840Z"
   },
   {
    "duration": 37,
    "start_time": "2022-11-24T10:13:46.883Z"
   },
   {
    "duration": 6,
    "start_time": "2022-11-24T10:13:46.922Z"
   },
   {
    "duration": 14,
    "start_time": "2022-11-24T10:13:46.930Z"
   },
   {
    "duration": 25,
    "start_time": "2022-11-24T10:13:46.946Z"
   },
   {
    "duration": 46,
    "start_time": "2022-11-24T10:13:46.973Z"
   },
   {
    "duration": 6,
    "start_time": "2022-11-24T10:13:47.021Z"
   },
   {
    "duration": 19,
    "start_time": "2022-11-24T10:13:47.029Z"
   },
   {
    "duration": 14,
    "start_time": "2022-11-24T10:13:47.050Z"
   },
   {
    "duration": 5,
    "start_time": "2022-11-24T10:13:47.066Z"
   },
   {
    "duration": 19,
    "start_time": "2022-11-24T10:13:47.073Z"
   },
   {
    "duration": 19,
    "start_time": "2022-11-24T10:13:47.094Z"
   },
   {
    "duration": 146,
    "start_time": "2022-11-24T10:13:47.115Z"
   },
   {
    "duration": 133,
    "start_time": "2022-11-24T10:13:47.263Z"
   },
   {
    "duration": 27,
    "start_time": "2022-11-24T10:13:47.399Z"
   },
   {
    "duration": 150,
    "start_time": "2022-11-24T10:13:47.428Z"
   },
   {
    "duration": 12,
    "start_time": "2022-11-24T10:13:47.580Z"
   },
   {
    "duration": 157,
    "start_time": "2022-11-24T10:13:47.596Z"
   },
   {
    "duration": 145,
    "start_time": "2022-11-24T10:13:47.756Z"
   },
   {
    "duration": 138,
    "start_time": "2022-11-24T10:13:47.902Z"
   },
   {
    "duration": 6,
    "start_time": "2022-11-24T10:13:48.041Z"
   },
   {
    "duration": 8,
    "start_time": "2022-11-24T10:13:48.048Z"
   },
   {
    "duration": 256,
    "start_time": "2022-11-24T10:13:48.058Z"
   },
   {
    "duration": 131,
    "start_time": "2022-11-24T10:13:48.316Z"
   },
   {
    "duration": 117,
    "start_time": "2022-11-24T10:15:02.831Z"
   },
   {
    "duration": 19,
    "start_time": "2022-11-24T10:15:30.477Z"
   },
   {
    "duration": 13,
    "start_time": "2022-11-24T10:15:46.836Z"
   },
   {
    "duration": 11,
    "start_time": "2022-11-24T10:16:22.816Z"
   },
   {
    "duration": 128,
    "start_time": "2022-11-24T10:16:34.245Z"
   },
   {
    "duration": 144,
    "start_time": "2022-11-24T10:16:43.205Z"
   },
   {
    "duration": 129,
    "start_time": "2022-11-24T10:17:01.351Z"
   },
   {
    "duration": 131,
    "start_time": "2022-11-24T10:17:26.573Z"
   },
   {
    "duration": 131,
    "start_time": "2022-11-24T10:17:50.806Z"
   },
   {
    "duration": 129,
    "start_time": "2022-11-24T10:18:20.351Z"
   },
   {
    "duration": 133,
    "start_time": "2022-11-24T10:18:37.946Z"
   },
   {
    "duration": 129,
    "start_time": "2022-11-24T10:18:52.352Z"
   },
   {
    "duration": 132,
    "start_time": "2022-11-24T10:19:03.994Z"
   },
   {
    "duration": 138,
    "start_time": "2022-11-24T10:20:16.896Z"
   },
   {
    "duration": 124,
    "start_time": "2022-11-24T10:21:25.680Z"
   },
   {
    "duration": 124,
    "start_time": "2022-11-24T10:21:44.372Z"
   },
   {
    "duration": 133,
    "start_time": "2022-11-24T10:22:00.345Z"
   },
   {
    "duration": 130,
    "start_time": "2022-11-24T10:22:28.508Z"
   },
   {
    "duration": 124,
    "start_time": "2022-11-24T10:23:28.019Z"
   },
   {
    "duration": 16,
    "start_time": "2022-11-24T10:23:38.762Z"
   },
   {
    "duration": 16,
    "start_time": "2022-11-24T10:23:44.793Z"
   },
   {
    "duration": 127,
    "start_time": "2022-11-24T10:24:11.132Z"
   },
   {
    "duration": 135,
    "start_time": "2022-11-24T10:24:26.956Z"
   },
   {
    "duration": 246,
    "start_time": "2022-11-24T10:24:33.555Z"
   },
   {
    "duration": 136,
    "start_time": "2022-11-24T10:29:52.749Z"
   },
   {
    "duration": 138,
    "start_time": "2022-11-24T10:32:10.460Z"
   },
   {
    "duration": 140,
    "start_time": "2022-11-24T10:32:34.401Z"
   },
   {
    "duration": 146,
    "start_time": "2022-11-24T10:38:53.692Z"
   },
   {
    "duration": 180,
    "start_time": "2022-11-24T10:42:55.576Z"
   },
   {
    "duration": 146,
    "start_time": "2022-11-24T10:43:15.983Z"
   },
   {
    "duration": 178,
    "start_time": "2022-11-24T10:43:39.240Z"
   },
   {
    "duration": 167,
    "start_time": "2022-11-24T10:43:55.129Z"
   },
   {
    "duration": 162,
    "start_time": "2022-11-24T10:44:04.525Z"
   },
   {
    "duration": 157,
    "start_time": "2022-11-24T10:48:47.012Z"
   },
   {
    "duration": 154,
    "start_time": "2022-11-24T10:49:49.322Z"
   },
   {
    "duration": 157,
    "start_time": "2022-11-24T10:50:00.475Z"
   },
   {
    "duration": 151,
    "start_time": "2022-11-24T10:50:13.844Z"
   },
   {
    "duration": 184,
    "start_time": "2022-11-24T10:50:19.201Z"
   },
   {
    "duration": 169,
    "start_time": "2022-11-24T10:50:36.762Z"
   },
   {
    "duration": 154,
    "start_time": "2022-11-24T10:50:48.489Z"
   },
   {
    "duration": 163,
    "start_time": "2022-11-24T10:51:05.593Z"
   },
   {
    "duration": 158,
    "start_time": "2022-11-24T10:52:19.063Z"
   },
   {
    "duration": 155,
    "start_time": "2022-11-24T10:52:46.302Z"
   },
   {
    "duration": 187,
    "start_time": "2022-11-24T11:00:06.520Z"
   },
   {
    "duration": 165,
    "start_time": "2022-11-24T11:00:40.664Z"
   },
   {
    "duration": 316,
    "start_time": "2022-11-24T11:02:44.596Z"
   },
   {
    "duration": 147,
    "start_time": "2022-11-24T11:03:33.661Z"
   },
   {
    "duration": 120,
    "start_time": "2022-11-24T11:03:47.171Z"
   },
   {
    "duration": 146,
    "start_time": "2022-11-24T11:03:49.259Z"
   },
   {
    "duration": 3,
    "start_time": "2022-11-24T11:04:02.106Z"
   },
   {
    "duration": 148,
    "start_time": "2022-11-24T11:04:09.706Z"
   },
   {
    "duration": 163,
    "start_time": "2022-11-24T11:04:42.387Z"
   },
   {
    "duration": 158,
    "start_time": "2022-11-24T11:04:53.923Z"
   },
   {
    "duration": 146,
    "start_time": "2022-11-24T11:05:06.935Z"
   },
   {
    "duration": 130,
    "start_time": "2022-11-24T11:50:46.809Z"
   },
   {
    "duration": 13,
    "start_time": "2022-11-24T11:51:16.895Z"
   },
   {
    "duration": 143,
    "start_time": "2022-11-24T11:52:09.817Z"
   },
   {
    "duration": 10,
    "start_time": "2022-11-24T11:53:00.554Z"
   },
   {
    "duration": 11,
    "start_time": "2022-11-24T11:53:17.762Z"
   },
   {
    "duration": 5,
    "start_time": "2022-11-24T11:53:59.632Z"
   },
   {
    "duration": 11,
    "start_time": "2022-11-24T11:54:28.241Z"
   },
   {
    "duration": 125,
    "start_time": "2022-11-24T11:54:52.220Z"
   },
   {
    "duration": 166,
    "start_time": "2022-11-24T11:55:29.694Z"
   },
   {
    "duration": 126,
    "start_time": "2022-11-24T11:55:50.769Z"
   },
   {
    "duration": 156,
    "start_time": "2022-11-24T11:56:25.942Z"
   },
   {
    "duration": 7,
    "start_time": "2022-11-24T11:56:55.564Z"
   },
   {
    "duration": 186,
    "start_time": "2022-11-24T11:57:40.595Z"
   },
   {
    "duration": 52,
    "start_time": "2022-11-24T11:59:16.279Z"
   },
   {
    "duration": 185,
    "start_time": "2022-11-24T11:59:26.140Z"
   },
   {
    "duration": 166,
    "start_time": "2022-11-24T12:01:52.831Z"
   },
   {
    "duration": 228,
    "start_time": "2022-11-24T12:02:06.364Z"
   },
   {
    "duration": 163,
    "start_time": "2022-11-24T12:03:04.130Z"
   },
   {
    "duration": 175,
    "start_time": "2022-11-24T12:03:21.488Z"
   },
   {
    "duration": 180,
    "start_time": "2022-11-24T12:04:19.303Z"
   },
   {
    "duration": 184,
    "start_time": "2022-11-24T12:04:31.103Z"
   },
   {
    "duration": 7,
    "start_time": "2022-11-24T12:05:01.787Z"
   },
   {
    "duration": 168,
    "start_time": "2022-11-24T12:05:02.938Z"
   },
   {
    "duration": 187,
    "start_time": "2022-11-24T12:05:20.040Z"
   },
   {
    "duration": 175,
    "start_time": "2022-11-24T12:05:47.946Z"
   },
   {
    "duration": 185,
    "start_time": "2022-11-24T12:05:51.712Z"
   },
   {
    "duration": 362,
    "start_time": "2022-11-24T12:08:28.420Z"
   },
   {
    "duration": 161,
    "start_time": "2022-11-24T12:08:59.597Z"
   },
   {
    "duration": 159,
    "start_time": "2022-11-24T12:09:21.276Z"
   },
   {
    "duration": 167,
    "start_time": "2022-11-24T12:09:46.858Z"
   },
   {
    "duration": 197,
    "start_time": "2022-11-24T12:11:41.052Z"
   },
   {
    "duration": 4,
    "start_time": "2022-11-24T12:13:14.036Z"
   },
   {
    "duration": 6,
    "start_time": "2022-11-24T12:13:15.267Z"
   },
   {
    "duration": 7,
    "start_time": "2022-11-24T12:13:21.444Z"
   },
   {
    "duration": 211,
    "start_time": "2022-11-24T12:13:24.870Z"
   },
   {
    "duration": 12,
    "start_time": "2022-11-24T12:13:31.065Z"
   },
   {
    "duration": 6,
    "start_time": "2022-11-24T12:13:33.606Z"
   },
   {
    "duration": 186,
    "start_time": "2022-11-24T12:13:34.683Z"
   },
   {
    "duration": 171,
    "start_time": "2022-11-24T12:13:56.986Z"
   },
   {
    "duration": 9,
    "start_time": "2022-11-24T12:16:44.311Z"
   },
   {
    "duration": 5,
    "start_time": "2022-11-24T12:17:02.535Z"
   },
   {
    "duration": 8,
    "start_time": "2022-11-24T12:18:15.590Z"
   },
   {
    "duration": 10,
    "start_time": "2022-11-24T12:18:21.163Z"
   },
   {
    "duration": 758,
    "start_time": "2022-11-24T12:18:29.071Z"
   },
   {
    "duration": 901,
    "start_time": "2022-11-24T12:18:49.634Z"
   },
   {
    "duration": 5,
    "start_time": "2022-11-24T12:19:02.405Z"
   },
   {
    "duration": 5,
    "start_time": "2022-11-24T12:20:10.440Z"
   },
   {
    "duration": 12,
    "start_time": "2022-11-24T12:20:23.491Z"
   },
   {
    "duration": 6,
    "start_time": "2022-11-24T12:20:37.194Z"
   },
   {
    "duration": 4,
    "start_time": "2022-11-24T12:23:15.755Z"
   },
   {
    "duration": 175,
    "start_time": "2022-11-24T12:24:00.380Z"
   },
   {
    "duration": 179,
    "start_time": "2022-11-24T12:26:05.536Z"
   },
   {
    "duration": 192,
    "start_time": "2022-11-24T12:26:30.333Z"
   },
   {
    "duration": 195,
    "start_time": "2022-11-24T12:26:40.694Z"
   },
   {
    "duration": 6,
    "start_time": "2022-11-24T12:29:16.990Z"
   },
   {
    "duration": 12,
    "start_time": "2022-11-24T12:29:38.416Z"
   },
   {
    "duration": 4,
    "start_time": "2022-11-24T12:29:53.657Z"
   },
   {
    "duration": 7,
    "start_time": "2022-11-24T12:30:03.336Z"
   },
   {
    "duration": 184,
    "start_time": "2022-11-24T12:30:40.786Z"
   },
   {
    "duration": 13,
    "start_time": "2022-11-24T12:31:22.672Z"
   },
   {
    "duration": 182,
    "start_time": "2022-11-24T12:32:51.465Z"
   },
   {
    "duration": 181,
    "start_time": "2022-11-24T12:33:00.225Z"
   },
   {
    "duration": 216,
    "start_time": "2022-11-24T12:33:18.184Z"
   },
   {
    "duration": 194,
    "start_time": "2022-11-24T12:33:34.452Z"
   },
   {
    "duration": 228,
    "start_time": "2022-11-24T12:34:04.745Z"
   },
   {
    "duration": 150,
    "start_time": "2022-11-24T12:34:27.897Z"
   },
   {
    "duration": 7,
    "start_time": "2022-11-24T12:34:51.416Z"
   },
   {
    "duration": 151,
    "start_time": "2022-11-24T12:35:05.450Z"
   },
   {
    "duration": 148,
    "start_time": "2022-11-24T12:35:32.661Z"
   },
   {
    "duration": 177,
    "start_time": "2022-11-24T12:36:14.101Z"
   },
   {
    "duration": 142,
    "start_time": "2022-11-24T12:37:43.438Z"
   },
   {
    "duration": 10,
    "start_time": "2022-11-24T12:37:58.468Z"
   },
   {
    "duration": 151,
    "start_time": "2022-11-24T12:38:51.543Z"
   },
   {
    "duration": 102,
    "start_time": "2022-11-24T12:39:15.151Z"
   },
   {
    "duration": 142,
    "start_time": "2022-11-24T12:39:23.592Z"
   },
   {
    "duration": 142,
    "start_time": "2022-11-24T12:39:52.301Z"
   },
   {
    "duration": 161,
    "start_time": "2022-11-24T12:40:38.927Z"
   },
   {
    "duration": 169,
    "start_time": "2022-11-24T12:40:50.957Z"
   },
   {
    "duration": 8,
    "start_time": "2022-11-24T12:41:28.550Z"
   },
   {
    "duration": 160,
    "start_time": "2022-11-24T12:41:41.070Z"
   },
   {
    "duration": 161,
    "start_time": "2022-11-24T12:41:57.926Z"
   },
   {
    "duration": 3,
    "start_time": "2022-11-24T12:42:15.623Z"
   },
   {
    "duration": 162,
    "start_time": "2022-11-24T12:44:04.686Z"
   },
   {
    "duration": 383,
    "start_time": "2022-11-24T12:44:56.690Z"
   },
   {
    "duration": 177,
    "start_time": "2022-11-24T12:47:13.217Z"
   },
   {
    "duration": 183,
    "start_time": "2022-11-24T12:51:04.053Z"
   },
   {
    "duration": 51,
    "start_time": "2022-11-24T12:51:52.405Z"
   },
   {
    "duration": 171,
    "start_time": "2022-11-24T12:52:00.460Z"
   },
   {
    "duration": 15,
    "start_time": "2022-11-24T12:52:19.252Z"
   },
   {
    "duration": 216,
    "start_time": "2022-11-24T12:53:06.852Z"
   },
   {
    "duration": 189,
    "start_time": "2022-11-24T12:54:01.014Z"
   },
   {
    "duration": 3,
    "start_time": "2022-11-24T12:58:32.545Z"
   },
   {
    "duration": 25,
    "start_time": "2022-11-24T12:58:51.355Z"
   },
   {
    "duration": 185,
    "start_time": "2022-11-24T12:59:17.834Z"
   },
   {
    "duration": 208,
    "start_time": "2022-11-24T13:00:03.865Z"
   },
   {
    "duration": 219,
    "start_time": "2022-11-24T13:00:41.995Z"
   },
   {
    "duration": 209,
    "start_time": "2022-11-24T13:32:41.836Z"
   },
   {
    "duration": 220,
    "start_time": "2022-11-24T13:33:59.477Z"
   },
   {
    "duration": 193,
    "start_time": "2022-11-24T13:34:07.460Z"
   },
   {
    "duration": 195,
    "start_time": "2022-11-24T13:34:23.693Z"
   },
   {
    "duration": 176,
    "start_time": "2022-11-24T13:36:30.751Z"
   },
   {
    "duration": 49,
    "start_time": "2022-11-25T09:52:23.760Z"
   },
   {
    "duration": 714,
    "start_time": "2022-11-25T09:52:38.276Z"
   },
   {
    "duration": 21,
    "start_time": "2022-11-25T09:52:38.992Z"
   },
   {
    "duration": 14,
    "start_time": "2022-11-25T09:52:39.014Z"
   },
   {
    "duration": 10,
    "start_time": "2022-11-25T09:52:39.030Z"
   },
   {
    "duration": 44,
    "start_time": "2022-11-25T09:52:39.042Z"
   },
   {
    "duration": 3,
    "start_time": "2022-11-25T09:52:39.088Z"
   },
   {
    "duration": 21,
    "start_time": "2022-11-25T09:52:39.093Z"
   },
   {
    "duration": 14,
    "start_time": "2022-11-25T09:52:39.115Z"
   },
   {
    "duration": 9,
    "start_time": "2022-11-25T09:52:39.131Z"
   },
   {
    "duration": 5,
    "start_time": "2022-11-25T09:52:39.143Z"
   },
   {
    "duration": 54,
    "start_time": "2022-11-25T09:52:39.149Z"
   },
   {
    "duration": 11,
    "start_time": "2022-11-25T09:52:39.205Z"
   },
   {
    "duration": 3,
    "start_time": "2022-11-25T09:52:39.217Z"
   },
   {
    "duration": 14,
    "start_time": "2022-11-25T09:52:39.222Z"
   },
   {
    "duration": 45,
    "start_time": "2022-11-25T09:52:39.237Z"
   },
   {
    "duration": 18,
    "start_time": "2022-11-25T09:52:39.284Z"
   },
   {
    "duration": 4,
    "start_time": "2022-11-25T09:52:39.304Z"
   },
   {
    "duration": 31,
    "start_time": "2022-11-25T09:52:39.310Z"
   },
   {
    "duration": 18,
    "start_time": "2022-11-25T09:52:39.344Z"
   },
   {
    "duration": 24,
    "start_time": "2022-11-25T09:52:39.364Z"
   },
   {
    "duration": 25,
    "start_time": "2022-11-25T09:52:39.389Z"
   },
   {
    "duration": 962,
    "start_time": "2022-11-25T09:52:39.415Z"
   },
   {
    "duration": 5,
    "start_time": "2022-11-25T09:52:40.379Z"
   },
   {
    "duration": 66,
    "start_time": "2022-11-25T09:52:40.385Z"
   },
   {
    "duration": 0,
    "start_time": "2022-11-25T09:52:40.453Z"
   },
   {
    "duration": 0,
    "start_time": "2022-11-25T09:52:40.455Z"
   },
   {
    "duration": 0,
    "start_time": "2022-11-25T09:52:40.456Z"
   },
   {
    "duration": 0,
    "start_time": "2022-11-25T09:52:40.458Z"
   },
   {
    "duration": 0,
    "start_time": "2022-11-25T09:52:40.460Z"
   },
   {
    "duration": 0,
    "start_time": "2022-11-25T09:52:40.476Z"
   },
   {
    "duration": 0,
    "start_time": "2022-11-25T09:52:40.478Z"
   },
   {
    "duration": 0,
    "start_time": "2022-11-25T09:52:40.480Z"
   },
   {
    "duration": 3,
    "start_time": "2022-11-25T09:54:34.396Z"
   },
   {
    "duration": 188,
    "start_time": "2022-11-25T09:54:42.522Z"
   },
   {
    "duration": 180,
    "start_time": "2022-11-25T09:55:01.083Z"
   },
   {
    "duration": 174,
    "start_time": "2022-11-25T09:55:31.819Z"
   },
   {
    "duration": 9,
    "start_time": "2022-11-25T09:56:20.755Z"
   },
   {
    "duration": 190,
    "start_time": "2022-11-25T09:57:01.341Z"
   },
   {
    "duration": 195,
    "start_time": "2022-11-25T09:57:34.996Z"
   },
   {
    "duration": 156,
    "start_time": "2022-11-25T09:58:11.070Z"
   },
   {
    "duration": 3,
    "start_time": "2022-11-25T09:58:16.301Z"
   },
   {
    "duration": 167,
    "start_time": "2022-11-25T09:58:18.589Z"
   },
   {
    "duration": 219,
    "start_time": "2022-11-25T09:58:36.909Z"
   },
   {
    "duration": 178,
    "start_time": "2022-11-25T09:58:57.437Z"
   },
   {
    "duration": 164,
    "start_time": "2022-11-25T09:59:33.439Z"
   },
   {
    "duration": 160,
    "start_time": "2022-11-25T09:59:46.021Z"
   },
   {
    "duration": 166,
    "start_time": "2022-11-25T10:00:28.574Z"
   },
   {
    "duration": 162,
    "start_time": "2022-11-25T10:00:39.127Z"
   },
   {
    "duration": 175,
    "start_time": "2022-11-25T10:00:57.287Z"
   },
   {
    "duration": 182,
    "start_time": "2022-11-25T10:01:11.471Z"
   },
   {
    "duration": 5,
    "start_time": "2022-11-25T10:08:54.709Z"
   },
   {
    "duration": 6,
    "start_time": "2022-11-25T10:13:01.953Z"
   },
   {
    "duration": 13,
    "start_time": "2022-11-25T10:14:04.078Z"
   },
   {
    "duration": 10,
    "start_time": "2022-11-25T10:17:49.153Z"
   },
   {
    "duration": 10,
    "start_time": "2022-11-25T10:18:04.781Z"
   },
   {
    "duration": 7,
    "start_time": "2022-11-25T13:34:43.511Z"
   },
   {
    "duration": 68,
    "start_time": "2022-11-25T13:34:57.175Z"
   },
   {
    "duration": 15,
    "start_time": "2022-11-25T13:34:57.245Z"
   },
   {
    "duration": 16,
    "start_time": "2022-11-25T13:34:57.261Z"
   },
   {
    "duration": 9,
    "start_time": "2022-11-25T13:34:57.279Z"
   },
   {
    "duration": 39,
    "start_time": "2022-11-25T13:34:57.289Z"
   },
   {
    "duration": 3,
    "start_time": "2022-11-25T13:34:57.330Z"
   },
   {
    "duration": 10,
    "start_time": "2022-11-25T13:34:57.334Z"
   },
   {
    "duration": 5,
    "start_time": "2022-11-25T13:34:57.345Z"
   },
   {
    "duration": 25,
    "start_time": "2022-11-25T13:34:57.351Z"
   },
   {
    "duration": 4,
    "start_time": "2022-11-25T13:34:57.379Z"
   },
   {
    "duration": 50,
    "start_time": "2022-11-25T13:34:57.385Z"
   },
   {
    "duration": 9,
    "start_time": "2022-11-25T13:34:57.437Z"
   },
   {
    "duration": 7,
    "start_time": "2022-11-25T13:34:57.447Z"
   },
   {
    "duration": 25,
    "start_time": "2022-11-25T13:34:57.455Z"
   },
   {
    "duration": 17,
    "start_time": "2022-11-25T13:34:57.481Z"
   },
   {
    "duration": 17,
    "start_time": "2022-11-25T13:34:57.499Z"
   },
   {
    "duration": 5,
    "start_time": "2022-11-25T13:34:57.518Z"
   },
   {
    "duration": 14,
    "start_time": "2022-11-25T13:34:57.524Z"
   },
   {
    "duration": 14,
    "start_time": "2022-11-25T13:34:57.540Z"
   },
   {
    "duration": 21,
    "start_time": "2022-11-25T13:34:57.556Z"
   },
   {
    "duration": 14,
    "start_time": "2022-11-25T13:34:57.579Z"
   },
   {
    "duration": 7,
    "start_time": "2022-11-25T13:34:57.595Z"
   },
   {
    "duration": 11,
    "start_time": "2022-11-25T13:34:57.603Z"
   },
   {
    "duration": 16,
    "start_time": "2022-11-25T13:34:57.616Z"
   },
   {
    "duration": 171,
    "start_time": "2022-11-25T13:34:57.634Z"
   },
   {
    "duration": 189,
    "start_time": "2022-11-25T13:34:57.807Z"
   },
   {
    "duration": 169,
    "start_time": "2022-11-25T13:34:57.997Z"
   },
   {
    "duration": 172,
    "start_time": "2022-11-25T13:34:58.168Z"
   },
   {
    "duration": 2,
    "start_time": "2022-11-25T13:34:58.342Z"
   },
   {
    "duration": 260,
    "start_time": "2022-11-25T13:34:58.346Z"
   },
   {
    "duration": 179,
    "start_time": "2022-11-25T13:34:58.607Z"
   },
   {
    "duration": 164,
    "start_time": "2022-11-25T13:34:58.787Z"
   },
   {
    "duration": 164,
    "start_time": "2022-11-25T13:34:58.953Z"
   },
   {
    "duration": 8,
    "start_time": "2022-11-25T13:35:29.413Z"
   },
   {
    "duration": 751,
    "start_time": "2022-11-25T15:12:58.952Z"
   },
   {
    "duration": 24,
    "start_time": "2022-11-25T15:12:59.705Z"
   },
   {
    "duration": 16,
    "start_time": "2022-11-25T15:12:59.730Z"
   },
   {
    "duration": 9,
    "start_time": "2022-11-25T15:12:59.748Z"
   },
   {
    "duration": 62,
    "start_time": "2022-11-25T15:12:59.759Z"
   },
   {
    "duration": 4,
    "start_time": "2022-11-25T15:12:59.822Z"
   },
   {
    "duration": 14,
    "start_time": "2022-11-25T15:12:59.827Z"
   },
   {
    "duration": 7,
    "start_time": "2022-11-25T15:12:59.842Z"
   },
   {
    "duration": 9,
    "start_time": "2022-11-25T15:12:59.851Z"
   },
   {
    "duration": 5,
    "start_time": "2022-11-25T15:12:59.865Z"
   },
   {
    "duration": 82,
    "start_time": "2022-11-25T15:12:59.872Z"
   },
   {
    "duration": 10,
    "start_time": "2022-11-25T15:12:59.955Z"
   },
   {
    "duration": 7,
    "start_time": "2022-11-25T15:12:59.966Z"
   },
   {
    "duration": 20,
    "start_time": "2022-11-25T15:12:59.974Z"
   },
   {
    "duration": 30,
    "start_time": "2022-11-25T15:12:59.996Z"
   },
   {
    "duration": 18,
    "start_time": "2022-11-25T15:13:00.027Z"
   },
   {
    "duration": 4,
    "start_time": "2022-11-25T15:13:00.046Z"
   },
   {
    "duration": 35,
    "start_time": "2022-11-25T15:13:00.051Z"
   },
   {
    "duration": 11,
    "start_time": "2022-11-25T15:13:00.088Z"
   },
   {
    "duration": 17,
    "start_time": "2022-11-25T15:13:00.100Z"
   },
   {
    "duration": 51,
    "start_time": "2022-11-25T15:13:00.118Z"
   },
   {
    "duration": 995,
    "start_time": "2022-11-25T15:13:00.171Z"
   },
   {
    "duration": 5,
    "start_time": "2022-11-25T15:13:01.168Z"
   },
   {
    "duration": 17,
    "start_time": "2022-11-25T15:13:01.175Z"
   },
   {
    "duration": 218,
    "start_time": "2022-11-25T15:13:01.194Z"
   },
   {
    "duration": 188,
    "start_time": "2022-11-25T15:13:01.413Z"
   },
   {
    "duration": 207,
    "start_time": "2022-11-25T15:13:01.602Z"
   },
   {
    "duration": 204,
    "start_time": "2022-11-25T15:13:01.813Z"
   },
   {
    "duration": 4,
    "start_time": "2022-11-25T15:13:02.019Z"
   },
   {
    "duration": 211,
    "start_time": "2022-11-25T15:13:02.024Z"
   },
   {
    "duration": 197,
    "start_time": "2022-11-25T15:13:02.237Z"
   },
   {
    "duration": 194,
    "start_time": "2022-11-25T15:13:02.436Z"
   },
   {
    "duration": 256,
    "start_time": "2022-11-25T15:13:02.632Z"
   },
   {
    "duration": 1476,
    "start_time": "2022-11-29T14:11:13.397Z"
   },
   {
    "duration": 676,
    "start_time": "2022-11-29T14:11:16.891Z"
   },
   {
    "duration": 23,
    "start_time": "2022-11-29T14:11:20.387Z"
   },
   {
    "duration": 27,
    "start_time": "2022-11-29T14:11:22.283Z"
   },
   {
    "duration": 12,
    "start_time": "2022-11-29T14:11:25.789Z"
   },
   {
    "duration": 38,
    "start_time": "2022-11-29T14:11:27.398Z"
   },
   {
    "duration": 4,
    "start_time": "2022-11-29T14:11:29.454Z"
   },
   {
    "duration": 12,
    "start_time": "2022-11-29T14:11:30.642Z"
   },
   {
    "duration": 5,
    "start_time": "2022-11-29T14:11:32.418Z"
   },
   {
    "duration": 9,
    "start_time": "2022-11-29T14:11:33.727Z"
   },
   {
    "duration": 6,
    "start_time": "2022-11-29T14:11:35.182Z"
   },
   {
    "duration": 40,
    "start_time": "2022-11-29T14:11:37.126Z"
   },
   {
    "duration": 11,
    "start_time": "2022-11-29T14:11:38.561Z"
   },
   {
    "duration": 4,
    "start_time": "2022-11-29T14:11:41.578Z"
   },
   {
    "duration": 16,
    "start_time": "2022-11-29T14:11:43.562Z"
   },
   {
    "duration": 25,
    "start_time": "2022-11-29T14:11:44.918Z"
   },
   {
    "duration": 21,
    "start_time": "2022-11-29T14:11:47.765Z"
   },
   {
    "duration": 4,
    "start_time": "2022-11-29T14:11:51.769Z"
   },
   {
    "duration": 10,
    "start_time": "2022-11-29T14:11:52.663Z"
   },
   {
    "duration": 8,
    "start_time": "2022-11-29T14:11:54.430Z"
   },
   {
    "duration": 7,
    "start_time": "2022-11-29T14:11:56.388Z"
   },
   {
    "duration": 9,
    "start_time": "2022-11-29T14:11:57.195Z"
   },
   {
    "duration": 5,
    "start_time": "2022-11-29T14:12:20.656Z"
   },
   {
    "duration": 12,
    "start_time": "2022-11-29T14:12:21.186Z"
   },
   {
    "duration": 193,
    "start_time": "2022-11-29T14:12:21.695Z"
   },
   {
    "duration": 172,
    "start_time": "2022-11-29T14:12:22.703Z"
   },
   {
    "duration": 208,
    "start_time": "2022-11-29T14:30:33.910Z"
   },
   {
    "duration": 200,
    "start_time": "2022-11-29T14:30:35.179Z"
   },
   {
    "duration": 3,
    "start_time": "2022-11-29T14:30:45.319Z"
   },
   {
    "duration": 198,
    "start_time": "2022-11-29T14:30:58.362Z"
   },
   {
    "duration": 52,
    "start_time": "2022-11-29T14:31:06.860Z"
   },
   {
    "duration": 13,
    "start_time": "2022-11-29T14:36:49.095Z"
   },
   {
    "duration": 12,
    "start_time": "2022-11-29T14:39:00.220Z"
   },
   {
    "duration": 11,
    "start_time": "2022-11-29T14:39:09.581Z"
   },
   {
    "duration": 12,
    "start_time": "2022-11-29T14:39:17.124Z"
   },
   {
    "duration": 11,
    "start_time": "2022-11-29T14:39:58.679Z"
   },
   {
    "duration": 12,
    "start_time": "2022-11-29T14:40:13.350Z"
   },
   {
    "duration": 12,
    "start_time": "2022-11-29T14:40:32.414Z"
   },
   {
    "duration": 13,
    "start_time": "2022-11-29T14:40:44.022Z"
   },
   {
    "duration": 4,
    "start_time": "2022-11-29T14:41:15.167Z"
   },
   {
    "duration": 11,
    "start_time": "2022-11-29T14:41:47.317Z"
   },
   {
    "duration": 11,
    "start_time": "2022-11-29T14:42:03.470Z"
   },
   {
    "duration": 315,
    "start_time": "2022-11-29T14:48:44.743Z"
   },
   {
    "duration": 11,
    "start_time": "2022-11-29T14:51:13.525Z"
   },
   {
    "duration": 9,
    "start_time": "2022-11-29T14:51:25.712Z"
   },
   {
    "duration": 16,
    "start_time": "2022-11-29T14:52:03.390Z"
   },
   {
    "duration": 17,
    "start_time": "2022-11-29T14:53:29.663Z"
   },
   {
    "duration": 25,
    "start_time": "2022-11-29T14:54:08.724Z"
   },
   {
    "duration": 23,
    "start_time": "2022-11-29T14:54:19.190Z"
   },
   {
    "duration": 214,
    "start_time": "2022-11-29T14:54:49.185Z"
   },
   {
    "duration": 11,
    "start_time": "2022-11-29T14:55:16.142Z"
   },
   {
    "duration": 15,
    "start_time": "2022-11-29T14:55:30.703Z"
   },
   {
    "duration": 11,
    "start_time": "2022-11-29T14:55:57.192Z"
   },
   {
    "duration": 56,
    "start_time": "2022-11-29T14:58:30.583Z"
   },
   {
    "duration": 52,
    "start_time": "2022-11-29T14:59:08.587Z"
   },
   {
    "duration": 208,
    "start_time": "2022-11-29T15:00:29.186Z"
   },
   {
    "duration": 286,
    "start_time": "2022-11-29T15:00:37.970Z"
   },
   {
    "duration": 209,
    "start_time": "2022-11-29T15:03:49.252Z"
   },
   {
    "duration": 8,
    "start_time": "2022-11-29T15:08:12.281Z"
   },
   {
    "duration": 13,
    "start_time": "2022-11-29T15:08:20.744Z"
   },
   {
    "duration": 24,
    "start_time": "2022-11-29T15:09:15.239Z"
   },
   {
    "duration": 14,
    "start_time": "2022-11-29T15:09:40.353Z"
   },
   {
    "duration": 21,
    "start_time": "2022-11-29T15:09:57.469Z"
   },
   {
    "duration": 20,
    "start_time": "2022-11-29T15:10:17.796Z"
   },
   {
    "duration": 137,
    "start_time": "2022-11-29T15:10:34.177Z"
   },
   {
    "duration": 31,
    "start_time": "2022-11-29T15:11:24.909Z"
   },
   {
    "duration": 160,
    "start_time": "2022-11-29T15:15:42.369Z"
   },
   {
    "duration": 4,
    "start_time": "2022-11-29T15:27:35.533Z"
   },
   {
    "duration": 246,
    "start_time": "2022-11-29T15:27:35.542Z"
   },
   {
    "duration": 225,
    "start_time": "2022-11-29T15:27:35.790Z"
   },
   {
    "duration": 222,
    "start_time": "2022-11-29T15:27:36.018Z"
   },
   {
    "duration": 258,
    "start_time": "2022-11-29T15:27:36.243Z"
   },
   {
    "duration": 209,
    "start_time": "2022-11-29T16:39:18.773Z"
   },
   {
    "duration": 202,
    "start_time": "2022-11-29T16:39:19.819Z"
   },
   {
    "duration": 24,
    "start_time": "2022-11-29T16:44:13.344Z"
   },
   {
    "duration": 29,
    "start_time": "2022-11-29T16:45:31.506Z"
   },
   {
    "duration": 31,
    "start_time": "2022-11-29T16:45:38.333Z"
   },
   {
    "duration": 28,
    "start_time": "2022-11-29T16:48:41.425Z"
   },
   {
    "duration": 33,
    "start_time": "2022-11-29T16:51:44.868Z"
   },
   {
    "duration": 21,
    "start_time": "2022-11-29T16:52:30.557Z"
   },
   {
    "duration": 24,
    "start_time": "2022-11-29T16:52:41.411Z"
   },
   {
    "duration": 31,
    "start_time": "2022-11-29T16:53:30.362Z"
   },
   {
    "duration": 4,
    "start_time": "2022-11-29T16:53:55.652Z"
   },
   {
    "duration": 24,
    "start_time": "2022-11-29T16:54:01.428Z"
   },
   {
    "duration": 16,
    "start_time": "2022-11-29T16:54:55.551Z"
   },
   {
    "duration": 3,
    "start_time": "2022-11-29T16:55:59.671Z"
   },
   {
    "duration": 20,
    "start_time": "2022-11-29T16:56:04.310Z"
   },
   {
    "duration": 24,
    "start_time": "2022-11-29T16:57:09.335Z"
   },
   {
    "duration": 3,
    "start_time": "2022-11-29T16:57:16.565Z"
   },
   {
    "duration": 19,
    "start_time": "2022-11-29T16:57:18.655Z"
   },
   {
    "duration": 2,
    "start_time": "2022-11-29T16:57:49.840Z"
   },
   {
    "duration": 19,
    "start_time": "2022-11-29T16:57:51.791Z"
   },
   {
    "duration": 18,
    "start_time": "2022-11-29T16:58:48.547Z"
   },
   {
    "duration": 22,
    "start_time": "2022-11-29T17:00:38.658Z"
   },
   {
    "duration": 21,
    "start_time": "2022-11-29T17:02:26.347Z"
   },
   {
    "duration": 19,
    "start_time": "2022-11-29T17:05:18.803Z"
   },
   {
    "duration": 176,
    "start_time": "2022-11-29T17:06:24.442Z"
   },
   {
    "duration": 155,
    "start_time": "2022-11-29T17:06:48.229Z"
   },
   {
    "duration": 154,
    "start_time": "2022-11-29T17:07:19.729Z"
   },
   {
    "duration": 270,
    "start_time": "2022-11-29T17:07:36.655Z"
   },
   {
    "duration": 172,
    "start_time": "2022-11-29T17:08:47.468Z"
   },
   {
    "duration": 169,
    "start_time": "2022-11-29T17:09:51.909Z"
   },
   {
    "duration": 3,
    "start_time": "2022-11-29T17:10:29.031Z"
   },
   {
    "duration": 165,
    "start_time": "2022-11-29T17:10:34.993Z"
   },
   {
    "duration": 171,
    "start_time": "2022-11-29T17:10:57.715Z"
   },
   {
    "duration": 389,
    "start_time": "2022-11-29T17:11:17.297Z"
   },
   {
    "duration": 98,
    "start_time": "2022-11-29T17:11:51.002Z"
   },
   {
    "duration": 176,
    "start_time": "2022-11-29T17:14:30.192Z"
   },
   {
    "duration": 156,
    "start_time": "2022-11-29T17:14:48.005Z"
   },
   {
    "duration": 189,
    "start_time": "2022-11-29T17:15:27.293Z"
   },
   {
    "duration": 155,
    "start_time": "2022-11-29T17:19:04.400Z"
   },
   {
    "duration": 3,
    "start_time": "2022-11-29T17:19:12.804Z"
   },
   {
    "duration": 175,
    "start_time": "2022-11-29T17:19:13.819Z"
   },
   {
    "duration": 185,
    "start_time": "2022-11-29T17:19:25.532Z"
   },
   {
    "duration": 4,
    "start_time": "2022-11-29T17:21:51.464Z"
   },
   {
    "duration": 167,
    "start_time": "2022-11-29T17:23:13.596Z"
   },
   {
    "duration": 161,
    "start_time": "2022-11-29T17:23:34.346Z"
   },
   {
    "duration": 171,
    "start_time": "2022-11-29T17:24:23.794Z"
   },
   {
    "duration": 180,
    "start_time": "2022-11-29T17:24:56.686Z"
   },
   {
    "duration": 185,
    "start_time": "2022-11-29T17:25:57.790Z"
   },
   {
    "duration": 177,
    "start_time": "2022-11-29T17:27:07.721Z"
   },
   {
    "duration": 295,
    "start_time": "2022-11-29T17:27:50.242Z"
   },
   {
    "duration": 181,
    "start_time": "2022-11-29T17:30:49.440Z"
   },
   {
    "duration": 19,
    "start_time": "2022-11-29T17:31:12.637Z"
   },
   {
    "duration": 28,
    "start_time": "2022-11-29T17:31:26.204Z"
   },
   {
    "duration": 27,
    "start_time": "2022-11-29T17:31:38.977Z"
   },
   {
    "duration": 18,
    "start_time": "2022-11-29T17:47:31.222Z"
   },
   {
    "duration": 26,
    "start_time": "2022-11-29T17:47:37.087Z"
   },
   {
    "duration": 392,
    "start_time": "2022-11-29T17:48:09.886Z"
   },
   {
    "duration": 367,
    "start_time": "2022-11-29T17:49:00.768Z"
   },
   {
    "duration": 359,
    "start_time": "2022-11-29T17:49:22.816Z"
   },
   {
    "duration": 370,
    "start_time": "2022-11-29T17:50:17.227Z"
   },
   {
    "duration": 372,
    "start_time": "2022-11-29T17:51:15.053Z"
   },
   {
    "duration": 414,
    "start_time": "2022-11-29T17:52:34.656Z"
   },
   {
    "duration": 417,
    "start_time": "2022-11-29T17:53:03.442Z"
   },
   {
    "duration": 400,
    "start_time": "2022-11-29T17:53:19.321Z"
   },
   {
    "duration": 454,
    "start_time": "2022-11-29T17:54:47.547Z"
   },
   {
    "duration": 440,
    "start_time": "2022-11-29T17:55:40.773Z"
   },
   {
    "duration": 558,
    "start_time": "2022-11-29T17:56:49.354Z"
   },
   {
    "duration": 31,
    "start_time": "2022-11-29T17:57:42.413Z"
   },
   {
    "duration": 10,
    "start_time": "2022-11-29T18:05:05.049Z"
   },
   {
    "duration": 32,
    "start_time": "2022-11-29T18:05:12.200Z"
   },
   {
    "duration": 27,
    "start_time": "2022-11-29T18:05:23.361Z"
   },
   {
    "duration": 28,
    "start_time": "2022-11-29T18:05:35.728Z"
   },
   {
    "duration": 12,
    "start_time": "2022-11-29T18:06:00.762Z"
   },
   {
    "duration": 35,
    "start_time": "2022-11-29T18:07:04.843Z"
   },
   {
    "duration": 25,
    "start_time": "2022-11-29T18:07:18.851Z"
   },
   {
    "duration": 425,
    "start_time": "2022-11-29T18:07:25.280Z"
   },
   {
    "duration": 39,
    "start_time": "2022-11-29T18:09:16.609Z"
   },
   {
    "duration": 370,
    "start_time": "2022-11-29T18:09:23.226Z"
   },
   {
    "duration": 36,
    "start_time": "2022-11-29T18:09:50.116Z"
   },
   {
    "duration": 437,
    "start_time": "2022-11-29T18:09:57.283Z"
   },
   {
    "duration": 25,
    "start_time": "2022-11-29T18:10:24.850Z"
   },
   {
    "duration": 28,
    "start_time": "2022-11-29T18:11:00.370Z"
   },
   {
    "duration": 11,
    "start_time": "2022-11-29T18:11:05.155Z"
   },
   {
    "duration": 26,
    "start_time": "2022-11-29T18:11:40.963Z"
   },
   {
    "duration": 25,
    "start_time": "2022-11-29T18:11:51.512Z"
   },
   {
    "duration": 367,
    "start_time": "2022-11-29T18:12:02.236Z"
   },
   {
    "duration": 376,
    "start_time": "2022-11-29T18:12:40.411Z"
   },
   {
    "duration": 9,
    "start_time": "2022-11-29T18:13:10.879Z"
   },
   {
    "duration": 3,
    "start_time": "2022-11-29T18:35:18.229Z"
   },
   {
    "duration": 24,
    "start_time": "2022-11-29T18:36:41.828Z"
   },
   {
    "duration": 22,
    "start_time": "2022-11-29T18:36:51.973Z"
   },
   {
    "duration": 20,
    "start_time": "2022-11-29T18:37:29.204Z"
   },
   {
    "duration": 430,
    "start_time": "2022-11-29T18:38:13.368Z"
   },
   {
    "duration": 21,
    "start_time": "2022-11-29T18:38:28.997Z"
   },
   {
    "duration": 10,
    "start_time": "2022-11-29T18:39:59.525Z"
   },
   {
    "duration": 23,
    "start_time": "2022-11-29T18:40:09.279Z"
   },
   {
    "duration": 8,
    "start_time": "2022-11-29T18:42:23.967Z"
   },
   {
    "duration": 9,
    "start_time": "2022-11-29T18:43:11.336Z"
   },
   {
    "duration": 36,
    "start_time": "2022-11-29T18:43:26.996Z"
   },
   {
    "duration": 12,
    "start_time": "2022-11-29T18:45:16.036Z"
   },
   {
    "duration": 25,
    "start_time": "2022-11-29T18:45:41.081Z"
   },
   {
    "duration": 8,
    "start_time": "2022-11-29T18:46:05.904Z"
   },
   {
    "duration": 25,
    "start_time": "2022-11-29T18:46:08.936Z"
   },
   {
    "duration": 179,
    "start_time": "2022-11-29T18:46:57.772Z"
   },
   {
    "duration": 353,
    "start_time": "2022-11-29T18:47:35.635Z"
   },
   {
    "duration": 387,
    "start_time": "2022-11-29T18:49:52.901Z"
   },
   {
    "duration": 12,
    "start_time": "2022-11-29T19:00:48.871Z"
   },
   {
    "duration": 9,
    "start_time": "2022-11-29T19:01:03.252Z"
   },
   {
    "duration": 20,
    "start_time": "2022-11-29T19:01:05.245Z"
   },
   {
    "duration": 3,
    "start_time": "2022-11-29T19:11:17.416Z"
   },
   {
    "duration": 74,
    "start_time": "2022-11-29T19:11:17.423Z"
   },
   {
    "duration": 16,
    "start_time": "2022-11-29T19:11:17.499Z"
   },
   {
    "duration": 20,
    "start_time": "2022-11-29T19:11:17.516Z"
   },
   {
    "duration": 10,
    "start_time": "2022-11-29T19:11:17.538Z"
   },
   {
    "duration": 35,
    "start_time": "2022-11-29T19:11:17.550Z"
   },
   {
    "duration": 4,
    "start_time": "2022-11-29T19:11:17.612Z"
   },
   {
    "duration": 10,
    "start_time": "2022-11-29T19:11:17.618Z"
   },
   {
    "duration": 4,
    "start_time": "2022-11-29T19:11:17.630Z"
   },
   {
    "duration": 7,
    "start_time": "2022-11-29T19:11:17.636Z"
   },
   {
    "duration": 4,
    "start_time": "2022-11-29T19:11:17.646Z"
   },
   {
    "duration": 74,
    "start_time": "2022-11-29T19:11:17.652Z"
   },
   {
    "duration": 10,
    "start_time": "2022-11-29T19:11:17.728Z"
   },
   {
    "duration": 5,
    "start_time": "2022-11-29T19:11:17.740Z"
   },
   {
    "duration": 18,
    "start_time": "2022-11-29T19:11:17.747Z"
   },
   {
    "duration": 24,
    "start_time": "2022-11-29T19:11:17.767Z"
   },
   {
    "duration": 38,
    "start_time": "2022-11-29T19:11:17.793Z"
   },
   {
    "duration": 4,
    "start_time": "2022-11-29T19:11:17.833Z"
   },
   {
    "duration": 15,
    "start_time": "2022-11-29T19:11:17.838Z"
   },
   {
    "duration": 5,
    "start_time": "2022-11-29T19:11:17.855Z"
   },
   {
    "duration": 5,
    "start_time": "2022-11-29T19:11:17.862Z"
   },
   {
    "duration": 45,
    "start_time": "2022-11-29T19:11:17.869Z"
   },
   {
    "duration": 5,
    "start_time": "2022-11-29T19:11:17.916Z"
   },
   {
    "duration": 5,
    "start_time": "2022-11-29T19:11:17.923Z"
   },
   {
    "duration": 15,
    "start_time": "2022-11-29T19:11:17.930Z"
   },
   {
    "duration": 199,
    "start_time": "2022-11-29T19:11:17.947Z"
   },
   {
    "duration": 209,
    "start_time": "2022-11-29T19:11:18.148Z"
   },
   {
    "duration": 195,
    "start_time": "2022-11-29T19:11:18.359Z"
   },
   {
    "duration": 200,
    "start_time": "2022-11-29T19:11:18.556Z"
   },
   {
    "duration": 3,
    "start_time": "2022-11-29T19:11:18.758Z"
   },
   {
    "duration": 205,
    "start_time": "2022-11-29T19:11:18.763Z"
   },
   {
    "duration": 390,
    "start_time": "2022-11-29T19:11:18.970Z"
   },
   {
    "duration": 196,
    "start_time": "2022-11-29T19:11:19.362Z"
   },
   {
    "duration": 190,
    "start_time": "2022-11-29T19:11:19.560Z"
   },
   {
    "duration": 20,
    "start_time": "2022-11-29T19:11:19.751Z"
   },
   {
    "duration": 29,
    "start_time": "2022-11-29T19:11:19.772Z"
   },
   {
    "duration": 18,
    "start_time": "2022-11-29T19:11:19.803Z"
   },
   {
    "duration": 360,
    "start_time": "2022-11-29T19:11:19.822Z"
   },
   {
    "duration": 3,
    "start_time": "2022-11-29T19:17:10.976Z"
   },
   {
    "duration": 77,
    "start_time": "2022-11-29T19:17:10.983Z"
   },
   {
    "duration": 17,
    "start_time": "2022-11-29T19:17:11.063Z"
   },
   {
    "duration": 32,
    "start_time": "2022-11-29T19:17:11.081Z"
   },
   {
    "duration": 11,
    "start_time": "2022-11-29T19:17:11.115Z"
   },
   {
    "duration": 36,
    "start_time": "2022-11-29T19:17:11.127Z"
   },
   {
    "duration": 4,
    "start_time": "2022-11-29T19:17:11.165Z"
   },
   {
    "duration": 41,
    "start_time": "2022-11-29T19:17:11.171Z"
   },
   {
    "duration": 5,
    "start_time": "2022-11-29T19:17:11.214Z"
   },
   {
    "duration": 12,
    "start_time": "2022-11-29T19:17:11.220Z"
   },
   {
    "duration": 4,
    "start_time": "2022-11-29T19:17:11.235Z"
   },
   {
    "duration": 38,
    "start_time": "2022-11-29T19:17:11.241Z"
   },
   {
    "duration": 38,
    "start_time": "2022-11-29T19:17:11.280Z"
   },
   {
    "duration": 5,
    "start_time": "2022-11-29T19:17:11.320Z"
   },
   {
    "duration": 21,
    "start_time": "2022-11-29T19:17:11.327Z"
   },
   {
    "duration": 28,
    "start_time": "2022-11-29T19:17:11.351Z"
   },
   {
    "duration": 53,
    "start_time": "2022-11-29T19:17:11.382Z"
   },
   {
    "duration": 5,
    "start_time": "2022-11-29T19:17:11.436Z"
   },
   {
    "duration": 19,
    "start_time": "2022-11-29T19:17:11.443Z"
   },
   {
    "duration": 8,
    "start_time": "2022-11-29T19:17:11.464Z"
   },
   {
    "duration": 5,
    "start_time": "2022-11-29T19:17:11.474Z"
   },
   {
    "duration": 41,
    "start_time": "2022-11-29T19:17:11.481Z"
   },
   {
    "duration": 7,
    "start_time": "2022-11-29T19:17:11.524Z"
   },
   {
    "duration": 4,
    "start_time": "2022-11-29T19:17:11.533Z"
   },
   {
    "duration": 16,
    "start_time": "2022-11-29T19:17:11.539Z"
   },
   {
    "duration": 212,
    "start_time": "2022-11-29T19:17:11.557Z"
   },
   {
    "duration": 184,
    "start_time": "2022-11-29T19:17:11.771Z"
   },
   {
    "duration": 195,
    "start_time": "2022-11-29T19:17:11.957Z"
   },
   {
    "duration": 236,
    "start_time": "2022-11-29T19:17:12.156Z"
   },
   {
    "duration": 3,
    "start_time": "2022-11-29T19:17:12.394Z"
   },
   {
    "duration": 191,
    "start_time": "2022-11-29T19:17:12.413Z"
   },
   {
    "duration": 200,
    "start_time": "2022-11-29T19:17:12.606Z"
   },
   {
    "duration": 167,
    "start_time": "2022-11-29T19:17:12.812Z"
   },
   {
    "duration": 185,
    "start_time": "2022-11-29T19:17:12.981Z"
   },
   {
    "duration": 19,
    "start_time": "2022-11-29T19:17:13.167Z"
   },
   {
    "duration": 7,
    "start_time": "2022-11-29T19:17:13.188Z"
   },
   {
    "duration": 23,
    "start_time": "2022-11-29T19:17:13.211Z"
   },
   {
    "duration": 346,
    "start_time": "2022-11-29T19:17:13.236Z"
   },
   {
    "duration": 1148,
    "start_time": "2022-11-29T19:17:41.782Z"
   },
   {
    "duration": 77,
    "start_time": "2022-11-29T19:17:43.941Z"
   },
   {
    "duration": 20,
    "start_time": "2022-11-29T19:17:51.172Z"
   },
   {
    "duration": 20,
    "start_time": "2022-11-29T19:17:52.844Z"
   },
   {
    "duration": 9,
    "start_time": "2022-11-29T19:17:55.685Z"
   },
   {
    "duration": 34,
    "start_time": "2022-11-29T19:17:57.004Z"
   },
   {
    "duration": 4,
    "start_time": "2022-11-29T19:17:58.738Z"
   },
   {
    "duration": 8,
    "start_time": "2022-11-29T19:17:59.905Z"
   },
   {
    "duration": 4,
    "start_time": "2022-11-29T19:18:01.587Z"
   },
   {
    "duration": 7,
    "start_time": "2022-11-29T19:18:02.687Z"
   },
   {
    "duration": 5,
    "start_time": "2022-11-29T19:18:03.755Z"
   },
   {
    "duration": 33,
    "start_time": "2022-11-29T19:18:05.691Z"
   },
   {
    "duration": 10,
    "start_time": "2022-11-29T19:18:06.815Z"
   },
   {
    "duration": 5,
    "start_time": "2022-11-29T19:18:08.695Z"
   },
   {
    "duration": 11,
    "start_time": "2022-11-29T19:18:10.492Z"
   },
   {
    "duration": 21,
    "start_time": "2022-11-29T19:18:11.491Z"
   },
   {
    "duration": 18,
    "start_time": "2022-11-29T19:18:12.069Z"
   },
   {
    "duration": 5,
    "start_time": "2022-11-29T19:18:13.735Z"
   },
   {
    "duration": 11,
    "start_time": "2022-11-29T19:18:14.316Z"
   },
   {
    "duration": 6,
    "start_time": "2022-11-29T19:18:15.531Z"
   },
   {
    "duration": 3,
    "start_time": "2022-11-29T19:18:16.739Z"
   },
   {
    "duration": 8,
    "start_time": "2022-11-29T19:18:17.212Z"
   },
   {
    "duration": 6,
    "start_time": "2022-11-29T19:18:18.608Z"
   },
   {
    "duration": 2,
    "start_time": "2022-11-29T19:18:18.964Z"
   },
   {
    "duration": 13,
    "start_time": "2022-11-29T19:18:19.325Z"
   },
   {
    "duration": 187,
    "start_time": "2022-11-29T19:18:20.512Z"
   },
   {
    "duration": 186,
    "start_time": "2022-11-29T19:18:29.262Z"
   },
   {
    "duration": 168,
    "start_time": "2022-11-29T19:18:33.276Z"
   },
   {
    "duration": 191,
    "start_time": "2022-11-29T19:18:34.248Z"
   },
   {
    "duration": 3,
    "start_time": "2022-11-29T19:18:37.779Z"
   },
   {
    "duration": 177,
    "start_time": "2022-11-29T19:18:38.916Z"
   },
   {
    "duration": 176,
    "start_time": "2022-11-29T19:18:39.588Z"
   },
   {
    "duration": 186,
    "start_time": "2022-11-29T19:18:45.308Z"
   },
   {
    "duration": 161,
    "start_time": "2022-11-29T19:18:46.561Z"
   },
   {
    "duration": 22,
    "start_time": "2022-11-29T19:18:49.012Z"
   },
   {
    "duration": 12,
    "start_time": "2022-11-29T19:18:51.065Z"
   },
   {
    "duration": 21,
    "start_time": "2022-11-29T19:18:51.753Z"
   },
   {
    "duration": 440,
    "start_time": "2022-11-29T19:18:52.637Z"
   },
   {
    "duration": 371,
    "start_time": "2022-11-29T19:24:05.651Z"
   },
   {
    "duration": 393,
    "start_time": "2022-11-29T19:24:21.979Z"
   },
   {
    "duration": 1180,
    "start_time": "2022-11-29T19:27:59.462Z"
   },
   {
    "duration": 73,
    "start_time": "2022-11-29T19:28:00.644Z"
   },
   {
    "duration": 20,
    "start_time": "2022-11-29T19:28:00.719Z"
   },
   {
    "duration": 24,
    "start_time": "2022-11-29T19:28:00.740Z"
   },
   {
    "duration": 12,
    "start_time": "2022-11-29T19:28:00.766Z"
   },
   {
    "duration": 50,
    "start_time": "2022-11-29T19:28:00.779Z"
   },
   {
    "duration": 3,
    "start_time": "2022-11-29T19:28:00.830Z"
   },
   {
    "duration": 17,
    "start_time": "2022-11-29T19:28:00.835Z"
   },
   {
    "duration": 13,
    "start_time": "2022-11-29T19:28:00.854Z"
   },
   {
    "duration": 19,
    "start_time": "2022-11-29T19:28:00.869Z"
   },
   {
    "duration": 14,
    "start_time": "2022-11-29T19:28:00.890Z"
   },
   {
    "duration": 45,
    "start_time": "2022-11-29T19:28:00.905Z"
   },
   {
    "duration": 9,
    "start_time": "2022-11-29T19:28:00.952Z"
   },
   {
    "duration": 19,
    "start_time": "2022-11-29T19:28:00.963Z"
   },
   {
    "duration": 26,
    "start_time": "2022-11-29T19:28:00.984Z"
   },
   {
    "duration": 30,
    "start_time": "2022-11-29T19:28:01.012Z"
   },
   {
    "duration": 20,
    "start_time": "2022-11-29T19:28:01.044Z"
   },
   {
    "duration": 8,
    "start_time": "2022-11-29T19:28:01.066Z"
   },
   {
    "duration": 39,
    "start_time": "2022-11-29T19:28:01.076Z"
   },
   {
    "duration": 9,
    "start_time": "2022-11-29T19:28:01.116Z"
   },
   {
    "duration": 14,
    "start_time": "2022-11-29T19:28:01.126Z"
   },
   {
    "duration": 22,
    "start_time": "2022-11-29T19:28:01.142Z"
   },
   {
    "duration": 19,
    "start_time": "2022-11-29T19:28:01.165Z"
   },
   {
    "duration": 17,
    "start_time": "2022-11-29T19:28:01.186Z"
   },
   {
    "duration": 15,
    "start_time": "2022-11-29T19:28:01.205Z"
   },
   {
    "duration": 192,
    "start_time": "2022-11-29T19:28:01.222Z"
   },
   {
    "duration": 185,
    "start_time": "2022-11-29T19:28:01.416Z"
   },
   {
    "duration": 188,
    "start_time": "2022-11-29T19:28:01.603Z"
   },
   {
    "duration": 201,
    "start_time": "2022-11-29T19:28:01.792Z"
   },
   {
    "duration": 3,
    "start_time": "2022-11-29T19:28:01.995Z"
   },
   {
    "duration": 201,
    "start_time": "2022-11-29T19:28:01.999Z"
   },
   {
    "duration": 214,
    "start_time": "2022-11-29T19:28:02.202Z"
   },
   {
    "duration": 209,
    "start_time": "2022-11-29T19:28:02.418Z"
   },
   {
    "duration": 181,
    "start_time": "2022-11-29T19:28:02.628Z"
   },
   {
    "duration": 20,
    "start_time": "2022-11-29T19:28:02.812Z"
   },
   {
    "duration": 7,
    "start_time": "2022-11-29T19:28:02.833Z"
   },
   {
    "duration": 18,
    "start_time": "2022-11-29T19:28:02.842Z"
   },
   {
    "duration": 452,
    "start_time": "2022-11-29T19:28:02.861Z"
   },
   {
    "duration": 1163,
    "start_time": "2022-11-29T19:32:58.598Z"
   },
   {
    "duration": 73,
    "start_time": "2022-11-29T19:32:59.763Z"
   },
   {
    "duration": 20,
    "start_time": "2022-11-29T19:32:59.838Z"
   },
   {
    "duration": 18,
    "start_time": "2022-11-29T19:32:59.860Z"
   },
   {
    "duration": 10,
    "start_time": "2022-11-29T19:32:59.880Z"
   },
   {
    "duration": 52,
    "start_time": "2022-11-29T19:32:59.891Z"
   },
   {
    "duration": 4,
    "start_time": "2022-11-29T19:32:59.944Z"
   },
   {
    "duration": 10,
    "start_time": "2022-11-29T19:32:59.950Z"
   },
   {
    "duration": 5,
    "start_time": "2022-11-29T19:32:59.962Z"
   },
   {
    "duration": 8,
    "start_time": "2022-11-29T19:32:59.968Z"
   },
   {
    "duration": 36,
    "start_time": "2022-11-29T19:32:59.977Z"
   },
   {
    "duration": 35,
    "start_time": "2022-11-29T19:33:00.015Z"
   },
   {
    "duration": 11,
    "start_time": "2022-11-29T19:33:00.052Z"
   },
   {
    "duration": 9,
    "start_time": "2022-11-29T19:33:00.067Z"
   },
   {
    "duration": 38,
    "start_time": "2022-11-29T19:33:00.078Z"
   },
   {
    "duration": 40,
    "start_time": "2022-11-29T19:33:00.118Z"
   },
   {
    "duration": 24,
    "start_time": "2022-11-29T19:33:00.160Z"
   },
   {
    "duration": 17,
    "start_time": "2022-11-29T19:33:00.186Z"
   },
   {
    "duration": 56,
    "start_time": "2022-11-29T19:33:00.204Z"
   },
   {
    "duration": 30,
    "start_time": "2022-11-29T19:33:00.261Z"
   },
   {
    "duration": 30,
    "start_time": "2022-11-29T19:33:00.292Z"
   },
   {
    "duration": 42,
    "start_time": "2022-11-29T19:33:00.324Z"
   },
   {
    "duration": 23,
    "start_time": "2022-11-29T19:33:00.367Z"
   },
   {
    "duration": 23,
    "start_time": "2022-11-29T19:33:00.392Z"
   },
   {
    "duration": 28,
    "start_time": "2022-11-29T19:33:00.416Z"
   },
   {
    "duration": 198,
    "start_time": "2022-11-29T19:33:00.446Z"
   },
   {
    "duration": 181,
    "start_time": "2022-11-29T19:33:00.646Z"
   },
   {
    "duration": 227,
    "start_time": "2022-11-29T19:33:00.828Z"
   },
   {
    "duration": 198,
    "start_time": "2022-11-29T19:33:01.058Z"
   },
   {
    "duration": 3,
    "start_time": "2022-11-29T19:33:01.258Z"
   },
   {
    "duration": 220,
    "start_time": "2022-11-29T19:33:01.262Z"
   },
   {
    "duration": 186,
    "start_time": "2022-11-29T19:33:01.483Z"
   },
   {
    "duration": 179,
    "start_time": "2022-11-29T19:33:01.671Z"
   },
   {
    "duration": 178,
    "start_time": "2022-11-29T19:33:01.851Z"
   },
   {
    "duration": 20,
    "start_time": "2022-11-29T19:33:02.031Z"
   },
   {
    "duration": 8,
    "start_time": "2022-11-29T19:33:02.053Z"
   },
   {
    "duration": 20,
    "start_time": "2022-11-29T19:33:02.063Z"
   },
   {
    "duration": 573,
    "start_time": "2022-11-29T19:33:02.084Z"
   }
  ],
  "colab": {
   "name": "dpp_template_part2.ipynb",
   "provenance": []
  },
  "kernelspec": {
   "display_name": "Python 3 (ipykernel)",
   "language": "python",
   "name": "python3"
  },
  "language_info": {
   "codemirror_mode": {
    "name": "ipython",
    "version": 3
   },
   "file_extension": ".py",
   "mimetype": "text/x-python",
   "name": "python",
   "nbconvert_exporter": "python",
   "pygments_lexer": "ipython3",
   "version": "3.11.4"
  },
  "toc": {
   "base_numbering": 1,
   "nav_menu": {},
   "number_sections": true,
   "sideBar": true,
   "skip_h1_title": true,
   "title_cell": "Table of Contents",
   "title_sidebar": "Contents",
   "toc_cell": false,
   "toc_position": {},
   "toc_section_display": true,
   "toc_window_display": false
  }
 },
 "nbformat": 4,
 "nbformat_minor": 5
}
